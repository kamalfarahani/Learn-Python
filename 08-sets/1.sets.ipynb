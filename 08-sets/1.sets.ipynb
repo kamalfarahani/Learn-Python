{
 "cells": [
  {
   "cell_type": "markdown",
   "id": "1efc20c2-209c-479f-b09d-e98b8f2aaad2",
   "metadata": {},
   "source": [
    "## Sets\n",
    "\n",
    "A set is an unordered collection of **unique** elements. Sets are similar to lists and tuples in that they can contain multiple elements, but unlike lists and tuples, sets do not have a specific order and cannot contain duplicate elements.\n",
    "\n",
    "Here's an example of a set in Python:\n",
    "\n",
    "```python\n",
    "my_set = {1, 2, 3, 4}\n",
    "```\n",
    "\n",
    "In this example, we create a set `my_set` containing the elements `1`, `2`, `3`, and `4`. Note that the elements are enclosed in curly braces `{}`, and are separated by commas.\n",
    "\n",
    "Sets in Python (just like mathematical sets) support a variety of operations, including union, intersection, and difference. Here are some common methods for working with sets:\n",
    "\n",
    "1. `add`: Adds an element to the set.\n",
    "\n",
    "2. `remove`: Removes an element from the set. Raises a `KeyError` if the element is not present.\n",
    "\n",
    "3. `discard`: Removes an element from the set, but does not raise an error if the element is not present.\n",
    "\n",
    "4. `pop`: Removes and returns an arbitrary element from the set. Raises a `KeyError` if the set is empty.\n",
    "\n",
    "5. `clear`: Removes all elements from the set.\n",
    "\n",
    "6. `union`: Returns a new set containing all elements from two or more sets.\n",
    "\n",
    "7. `intersection`: Returns a new set containing only the elements that are common to two or more sets.\n",
    "\n",
    "8. `difference`: Returns a new set containing only the elements that are in one set but not in another.\n",
    "\n",
    "9. `symmetric_difference`: Returns a new set containing only the elements that are in one set or the other, but not in both.\n",
    "\n",
    "sets are implemented using hash tables, which require that the elements of the set are hashable. Hashable objects are objects that have a hash value that remains constant throughout their lifetime, and can be used as keys in a dictionary or elements in a set.\n",
    "\n",
    "The reason why set elements should be hashable is that the hash table implementation of sets relies on the hash values of the elements to efficiently store and retrieve them. When an element is added to a set, its hash value is computed and used to determine its position in the hash table. When an element is looked up in a set, its hash value is used to quickly locate its position in the hash table.\n",
    "\n",
    "If an object is not hashable, it cannot be used as an element in a set, because it does not have a well-defined hash value. In this case, attempting to add the object to a set will raise a TypeError.\n",
    "\n",
    "Sets are mutable but there another type of set in Python called `frozenset` which is immutable.\n",
    "\n",
    "<img src=\"./pics/sets.jpg\" alt=\"hash table\" width=\"500\" height=\"300\">\n",
    "\n",
    "See [this video](https://www.youtube.com/watch?v=xZELQc11ACY) to review sets in mathematics."
   ]
  },
  {
   "cell_type": "markdown",
   "id": "b9a2ad34-841c-4279-9552-9e81e0704014",
   "metadata": {},
   "source": [
    "### Defining sets"
   ]
  },
  {
   "cell_type": "code",
   "execution_count": 1,
   "id": "8ac81805-86d6-46c1-8b74-c35bbc08aa28",
   "metadata": {},
   "outputs": [
    {
     "data": {
      "text/plain": [
       "{1, 2, 3, 4}"
      ]
     },
     "execution_count": 1,
     "metadata": {},
     "output_type": "execute_result"
    }
   ],
   "source": [
    "s = {1, 2, 3, 4}\n",
    "s"
   ]
  },
  {
   "cell_type": "code",
   "execution_count": 2,
   "id": "07ab24d2-4890-4410-8f41-403d674272a3",
   "metadata": {},
   "outputs": [
    {
     "data": {
      "text/plain": [
       "set"
      ]
     },
     "execution_count": 2,
     "metadata": {},
     "output_type": "execute_result"
    }
   ],
   "source": [
    "type(s)"
   ]
  },
  {
   "cell_type": "markdown",
   "id": "559989d1-07e9-4c3d-93d7-ae3b5edb2f28",
   "metadata": {},
   "source": [
    "> **You can also define a set using `set` function**"
   ]
  },
  {
   "cell_type": "code",
   "execution_count": 5,
   "id": "6ea92f7c-4199-4e6c-b314-7d2cd71fa41d",
   "metadata": {},
   "outputs": [
    {
     "data": {
      "text/plain": [
       "{1, 2, 3}"
      ]
     },
     "execution_count": 5,
     "metadata": {},
     "output_type": "execute_result"
    }
   ],
   "source": [
    "s = set([1,2,3])\n",
    "s"
   ]
  },
  {
   "cell_type": "markdown",
   "id": "acc862c7-7d34-4e95-8de9-c9602e6a3b07",
   "metadata": {},
   "source": [
    "> **Set elements are unique**"
   ]
  },
  {
   "cell_type": "code",
   "execution_count": 8,
   "id": "cab27ec9-6d99-413a-b8b2-7328dea4cf26",
   "metadata": {},
   "outputs": [
    {
     "data": {
      "text/plain": [
       "{1, 2, 3}"
      ]
     },
     "execution_count": 8,
     "metadata": {},
     "output_type": "execute_result"
    }
   ],
   "source": [
    "s = {1, 1, 1, 2, 1, 3}\n",
    "s"
   ]
  },
  {
   "cell_type": "markdown",
   "id": "2d5742b1-1783-4d80-9c58-52c6edad47aa",
   "metadata": {},
   "source": [
    "> **`set` function gets any iterable of hashable elements as input** "
   ]
  },
  {
   "cell_type": "code",
   "execution_count": 11,
   "id": "83701cc0-aa21-4acb-bf9c-62efd9b33c4f",
   "metadata": {},
   "outputs": [
    {
     "data": {
      "text/plain": [
       "{'P', 'a', 'o', 'r', 't'}"
      ]
     },
     "execution_count": 11,
     "metadata": {},
     "output_type": "execute_result"
    }
   ],
   "source": [
    "set_of_chars = set('Parrot')\n",
    "set_of_chars"
   ]
  },
  {
   "cell_type": "markdown",
   "id": "f3b19b73-e600-4607-bb25-6e2a08cb279b",
   "metadata": {},
   "source": [
    "### Getting size of a set using `len`\n",
    "\n",
    "You can get size of a set using `len` function."
   ]
  },
  {
   "cell_type": "code",
   "execution_count": 12,
   "id": "aa36947f-587e-4245-a796-cdf951df3e15",
   "metadata": {},
   "outputs": [
    {
     "data": {
      "text/plain": [
       "3"
      ]
     },
     "execution_count": 12,
     "metadata": {},
     "output_type": "execute_result"
    }
   ],
   "source": [
    "s = {1, 2, 3}\n",
    "len(s)"
   ]
  },
  {
   "cell_type": "markdown",
   "id": "e383552b-c7de-4c54-8093-73ca1b817e56",
   "metadata": {},
   "source": [
    "### Membership testing using `in` keyword\n",
    "\n",
    "You can use `in` keyword to test whether an object is a memeber of set or not."
   ]
  },
  {
   "cell_type": "code",
   "execution_count": 13,
   "id": "664c35c4-efba-4dc7-86f1-91d696faa053",
   "metadata": {},
   "outputs": [],
   "source": [
    "s = {1, 2, 3}"
   ]
  },
  {
   "cell_type": "code",
   "execution_count": 14,
   "id": "d4442bce-f854-4512-b3c9-bf695cb8cded",
   "metadata": {},
   "outputs": [
    {
     "data": {
      "text/plain": [
       "True"
      ]
     },
     "execution_count": 14,
     "metadata": {},
     "output_type": "execute_result"
    }
   ],
   "source": [
    "1 in s"
   ]
  },
  {
   "cell_type": "code",
   "execution_count": 15,
   "id": "3d849715-405c-4c98-a2d6-aecf7da1655f",
   "metadata": {},
   "outputs": [
    {
     "data": {
      "text/plain": [
       "False"
      ]
     },
     "execution_count": 15,
     "metadata": {},
     "output_type": "execute_result"
    }
   ],
   "source": [
    "10 in s"
   ]
  },
  {
   "cell_type": "markdown",
   "id": "4dbe8468-91d1-4a92-8cf9-5841abb4fdd6",
   "metadata": {},
   "source": [
    "### Sets are iterable\n",
    "\n",
    "you can use a `for` to iterate on a set, **remember elements in a set does not have any special order**"
   ]
  },
  {
   "cell_type": "code",
   "execution_count": 18,
   "id": "fc5e9484-1b2f-42fb-82c3-6b9a7c0a15e1",
   "metadata": {},
   "outputs": [
    {
     "name": "stdout",
     "output_type": "stream",
     "text": [
      "o\n",
      "p\n",
      "a\n",
      "t\n",
      "r\n"
     ]
    }
   ],
   "source": [
    "s = set('parrot')\n",
    "\n",
    "for x in s:\n",
    "    print(x)"
   ]
  },
  {
   "cell_type": "markdown",
   "id": "5d18b8e3-0b5b-4d99-b0ab-de35ee2e5785",
   "metadata": {},
   "source": [
    "### `add` method\n",
    "\n",
    "`add` adds an element to the set."
   ]
  },
  {
   "cell_type": "code",
   "execution_count": 19,
   "id": "ccb9eb1a-728a-4ca6-954d-860ec22630d8",
   "metadata": {},
   "outputs": [
    {
     "data": {
      "text/plain": [
       "{1, 2, 3}"
      ]
     },
     "execution_count": 19,
     "metadata": {},
     "output_type": "execute_result"
    }
   ],
   "source": [
    "s = {1, 2, 3}\n",
    "s"
   ]
  },
  {
   "cell_type": "code",
   "execution_count": 22,
   "id": "af093957-c3ec-4ff9-b017-59cfbecca2b5",
   "metadata": {},
   "outputs": [],
   "source": [
    "s.add(10)"
   ]
  },
  {
   "cell_type": "code",
   "execution_count": 23,
   "id": "d2bfaa3c-eab4-45c8-948c-732fa28bf5fb",
   "metadata": {},
   "outputs": [
    {
     "data": {
      "text/plain": [
       "{1, 2, 3, 10}"
      ]
     },
     "execution_count": 23,
     "metadata": {},
     "output_type": "execute_result"
    }
   ],
   "source": [
    "s"
   ]
  },
  {
   "cell_type": "markdown",
   "id": "20d482d5-f6e5-4b4c-8cb4-0a5706b1f02b",
   "metadata": {},
   "source": [
    "### `remove` method\n",
    "\n",
    "`remove` removes an element from the set. Raises a KeyError if the element is not present."
   ]
  },
  {
   "cell_type": "code",
   "execution_count": 24,
   "id": "3f52bf19-840f-4ee2-a1c2-d6b9c8f2d24d",
   "metadata": {},
   "outputs": [
    {
     "data": {
      "text/plain": [
       "{1, 2, 3}"
      ]
     },
     "execution_count": 24,
     "metadata": {},
     "output_type": "execute_result"
    }
   ],
   "source": [
    "s = {1, 2, 3}\n",
    "s"
   ]
  },
  {
   "cell_type": "code",
   "execution_count": 25,
   "id": "05d00840-0bc7-43fc-bd9e-ee1e4f122152",
   "metadata": {},
   "outputs": [],
   "source": [
    "s.remove(1)"
   ]
  },
  {
   "cell_type": "code",
   "execution_count": 26,
   "id": "5fc3d878-0648-4efe-96a3-93993914ffa3",
   "metadata": {},
   "outputs": [
    {
     "data": {
      "text/plain": [
       "{2, 3}"
      ]
     },
     "execution_count": 26,
     "metadata": {},
     "output_type": "execute_result"
    }
   ],
   "source": [
    "s"
   ]
  },
  {
   "cell_type": "code",
   "execution_count": 27,
   "id": "1051daa1-9c8c-4a09-b631-d3e007f4899a",
   "metadata": {},
   "outputs": [
    {
     "ename": "KeyError",
     "evalue": "10",
     "output_type": "error",
     "traceback": [
      "\u001b[0;31m---------------------------------------------------------------------------\u001b[0m",
      "\u001b[0;31mKeyError\u001b[0m                                  Traceback (most recent call last)",
      "Input \u001b[0;32mIn [27]\u001b[0m, in \u001b[0;36m<cell line: 1>\u001b[0;34m()\u001b[0m\n\u001b[0;32m----> 1\u001b[0m \u001b[43ms\u001b[49m\u001b[38;5;241;43m.\u001b[39;49m\u001b[43mremove\u001b[49m\u001b[43m(\u001b[49m\u001b[38;5;241;43m10\u001b[39;49m\u001b[43m)\u001b[49m\n",
      "\u001b[0;31mKeyError\u001b[0m: 10"
     ]
    }
   ],
   "source": [
    "s.remove(10)"
   ]
  },
  {
   "cell_type": "markdown",
   "id": "175686e8-af8d-4388-96ed-1821d3c6d82f",
   "metadata": {},
   "source": [
    "### `discard` method\n",
    "\n",
    "`discard` removes an element from the set, but does not raise an error if the element is not present."
   ]
  },
  {
   "cell_type": "code",
   "execution_count": 28,
   "id": "a60a7435-8fd3-41cb-9e95-1407d12b8da7",
   "metadata": {},
   "outputs": [
    {
     "data": {
      "text/plain": [
       "{1, 2, 3}"
      ]
     },
     "execution_count": 28,
     "metadata": {},
     "output_type": "execute_result"
    }
   ],
   "source": [
    "s = {1, 2, 3}\n",
    "s"
   ]
  },
  {
   "cell_type": "code",
   "execution_count": 29,
   "id": "7dde285e-0456-40c9-917e-793c0b379a07",
   "metadata": {},
   "outputs": [
    {
     "data": {
      "text/plain": [
       "{2, 3}"
      ]
     },
     "execution_count": 29,
     "metadata": {},
     "output_type": "execute_result"
    }
   ],
   "source": [
    "s.discard(1)\n",
    "s"
   ]
  },
  {
   "cell_type": "code",
   "execution_count": 32,
   "id": "68949d97-3ec1-438b-9f54-37c783ad61d2",
   "metadata": {},
   "outputs": [
    {
     "data": {
      "text/plain": [
       "{2, 3}"
      ]
     },
     "execution_count": 32,
     "metadata": {},
     "output_type": "execute_result"
    }
   ],
   "source": [
    "s.discard(10)\n",
    "s"
   ]
  },
  {
   "cell_type": "markdown",
   "id": "fbc237bc-cc7b-4f9f-ab78-26c937a93c1e",
   "metadata": {},
   "source": [
    "### `pop` method\n",
    "\n",
    "`pop` removes and returns an arbitrary element from the set. Raises a `KeyError` if the set is empty."
   ]
  },
  {
   "cell_type": "code",
   "execution_count": 33,
   "id": "3441cbf3-b98d-4b9a-b63e-7fd3aa9c089b",
   "metadata": {},
   "outputs": [
    {
     "data": {
      "text/plain": [
       "{1, 2, 3}"
      ]
     },
     "execution_count": 33,
     "metadata": {},
     "output_type": "execute_result"
    }
   ],
   "source": [
    "s = {1, 2, 3}\n",
    "s"
   ]
  },
  {
   "cell_type": "code",
   "execution_count": 34,
   "id": "8d49fd18-1514-4a16-97a2-55dbcb379bd0",
   "metadata": {},
   "outputs": [
    {
     "data": {
      "text/plain": [
       "1"
      ]
     },
     "execution_count": 34,
     "metadata": {},
     "output_type": "execute_result"
    }
   ],
   "source": [
    "x = s.pop()\n",
    "x"
   ]
  },
  {
   "cell_type": "code",
   "execution_count": 35,
   "id": "97513e77-f81d-4ed6-bb28-fbe9bb62febc",
   "metadata": {},
   "outputs": [
    {
     "data": {
      "text/plain": [
       "{2, 3}"
      ]
     },
     "execution_count": 35,
     "metadata": {},
     "output_type": "execute_result"
    }
   ],
   "source": [
    "s"
   ]
  },
  {
   "cell_type": "markdown",
   "id": "1f335152-aa06-4667-8d23-c99d3d73acea",
   "metadata": {},
   "source": [
    "### `clear` method\n",
    "\n",
    "`clear` removes all elements from the set."
   ]
  },
  {
   "cell_type": "code",
   "execution_count": 37,
   "id": "0f593f1c-f5fc-4f30-a36e-cba3592220c8",
   "metadata": {},
   "outputs": [
    {
     "data": {
      "text/plain": [
       "{1, 2, 3}"
      ]
     },
     "execution_count": 37,
     "metadata": {},
     "output_type": "execute_result"
    }
   ],
   "source": [
    "s = {1, 2, 3}\n",
    "s"
   ]
  },
  {
   "cell_type": "code",
   "execution_count": 40,
   "id": "27f4d4fd-1c3e-47d5-b2bf-d4e363863852",
   "metadata": {},
   "outputs": [
    {
     "data": {
      "text/plain": [
       "set()"
      ]
     },
     "execution_count": 40,
     "metadata": {},
     "output_type": "execute_result"
    }
   ],
   "source": [
    "s.clear()\n",
    "s"
   ]
  },
  {
   "cell_type": "markdown",
   "id": "3bef8446-87c4-4a82-bcc6-3b1501507ec9",
   "metadata": {},
   "source": [
    "### `union` method\n",
    "\n",
    "To get the union of two sets, you can use the `union()` method or the `|` operator."
   ]
  },
  {
   "cell_type": "code",
   "execution_count": 42,
   "id": "8ba90a1a-0ccc-4886-8132-b9f592186282",
   "metadata": {},
   "outputs": [
    {
     "name": "stdout",
     "output_type": "stream",
     "text": [
      "{1, 2, 3, 4, 5}\n"
     ]
    }
   ],
   "source": [
    "set1 = {1, 2, 3}\n",
    "set2 = {3, 4, 5}\n",
    "union_set = set1.union(set2)\n",
    "print(union_set)"
   ]
  },
  {
   "cell_type": "markdown",
   "id": "18ddbb53-855f-4571-b1f4-0d177f3b8d2a",
   "metadata": {},
   "source": [
    "> **You can also use `|` operator to get the same result.**"
   ]
  },
  {
   "cell_type": "code",
   "execution_count": 43,
   "id": "7aff222f-c9c9-45b7-ad95-76cbf51aa9f3",
   "metadata": {},
   "outputs": [
    {
     "name": "stdout",
     "output_type": "stream",
     "text": [
      "{1, 2, 3, 4, 5}\n"
     ]
    }
   ],
   "source": [
    "set1 = {1, 2, 3}\n",
    "set2 = {3, 4, 5}\n",
    "union_set = set1 | set2\n",
    "print(union_set)"
   ]
  },
  {
   "cell_type": "markdown",
   "id": "f849472e-7d93-4962-8746-76a466de30b1",
   "metadata": {},
   "source": [
    "### `intersection` method\n",
    "\n",
    "To get the intersection of two sets, you can use the `intersection()` method or the `&` operator."
   ]
  },
  {
   "cell_type": "code",
   "execution_count": 44,
   "id": "fa8898eb-f22d-4ce8-86ad-28cf9c388521",
   "metadata": {},
   "outputs": [
    {
     "name": "stdout",
     "output_type": "stream",
     "text": [
      "{2, 3}\n"
     ]
    }
   ],
   "source": [
    "set1 = {1, 2, 3}\n",
    "set2 = {2, 3, 4}\n",
    "intersection_set = set1.intersection(set2)\n",
    "print(intersection_set)"
   ]
  },
  {
   "cell_type": "markdown",
   "id": "9695b3b5-8d2e-4871-a155-154cae5a7b5d",
   "metadata": {},
   "source": [
    "> **You can also use `&` operator to get the same result**"
   ]
  },
  {
   "cell_type": "code",
   "execution_count": 45,
   "id": "e6e46fc6-3134-4b68-8e3a-de67b945cd84",
   "metadata": {},
   "outputs": [
    {
     "name": "stdout",
     "output_type": "stream",
     "text": [
      "{2, 3}\n"
     ]
    }
   ],
   "source": [
    "set1 = {1, 2, 3}\n",
    "set2 = {2, 3, 4}\n",
    "intersection_set = set1 & set2\n",
    "print(intersection_set)"
   ]
  },
  {
   "cell_type": "markdown",
   "id": "4f98e16d-7375-44d4-a057-dde09132213e",
   "metadata": {},
   "source": [
    "### `difference` method\n",
    "\n",
    "To get the difference of two sets, you can use the `difference()` method or the `-` operator."
   ]
  },
  {
   "cell_type": "code",
   "execution_count": 46,
   "id": "3a640a08-21a0-46bd-a45b-e97e51ee0208",
   "metadata": {},
   "outputs": [
    {
     "name": "stdout",
     "output_type": "stream",
     "text": [
      "{1}\n"
     ]
    }
   ],
   "source": [
    "set1 = {1, 2, 3}\n",
    "set2 = {2, 3, 4}\n",
    "diff_set = set1.difference(set2)\n",
    "print(diff_set)"
   ]
  },
  {
   "cell_type": "markdown",
   "id": "9f9ea90e-c2ff-4204-9e66-aae79496b53f",
   "metadata": {},
   "source": [
    "> You can also use `-` operator to get the same result"
   ]
  },
  {
   "cell_type": "code",
   "execution_count": 47,
   "id": "6156e15b-f044-4e76-a416-868b0eea80ba",
   "metadata": {},
   "outputs": [
    {
     "name": "stdout",
     "output_type": "stream",
     "text": [
      "{1}\n"
     ]
    }
   ],
   "source": [
    "set1 = {1, 2, 3}\n",
    "set2 = {2, 3, 4}\n",
    "diff_set = set1 - set2\n",
    "print(diff_set)"
   ]
  },
  {
   "cell_type": "markdown",
   "id": "9aa92cb7-7a16-4a8c-8717-77ab39be4c4c",
   "metadata": {},
   "source": [
    "### `symmetric_difference` method\n",
    "\n",
    "To get the symmetric difference of two sets, you can use the `symmetric_difference()` method or the `^` operator."
   ]
  },
  {
   "cell_type": "code",
   "execution_count": 48,
   "id": "3445b359-a149-493c-a68c-617d2003f863",
   "metadata": {},
   "outputs": [
    {
     "name": "stdout",
     "output_type": "stream",
     "text": [
      "{1, 4}\n"
     ]
    }
   ],
   "source": [
    "set1 = {1, 2, 3}\n",
    "set2 = {2, 3, 4}\n",
    "symm_diff_set = set1.symmetric_difference(set2)\n",
    "print(symm_diff_set)"
   ]
  },
  {
   "cell_type": "markdown",
   "id": "826795f7-65b9-48fa-9c8a-61ca8496a670",
   "metadata": {},
   "source": [
    "> You can also use `^` operator to get the same result"
   ]
  },
  {
   "cell_type": "code",
   "execution_count": 49,
   "id": "538c79c3-df0c-447e-9904-2b356f9a5abd",
   "metadata": {},
   "outputs": [
    {
     "name": "stdout",
     "output_type": "stream",
     "text": [
      "{1, 4}\n"
     ]
    }
   ],
   "source": [
    "set1 = {1, 2, 3}\n",
    "set2 = {2, 3, 4}\n",
    "symm_diff_set = set1 ^ set2\n",
    "print(symm_diff_set)"
   ]
  }
 ],
 "metadata": {
  "kernelspec": {
   "display_name": "Python 3 (ipykernel)",
   "language": "python",
   "name": "python3"
  },
  "language_info": {
   "codemirror_mode": {
    "name": "ipython",
    "version": 3
   },
   "file_extension": ".py",
   "mimetype": "text/x-python",
   "name": "python",
   "nbconvert_exporter": "python",
   "pygments_lexer": "ipython3",
   "version": "3.9.7"
  }
 },
 "nbformat": 4,
 "nbformat_minor": 5
}
