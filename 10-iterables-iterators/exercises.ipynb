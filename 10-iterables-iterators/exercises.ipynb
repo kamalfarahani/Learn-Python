{
 "cells": [
  {
   "cell_type": "markdown",
   "id": "actual-product",
   "metadata": {},
   "source": [
    "### Exercises"
   ]
  },
  {
   "cell_type": "markdown",
   "id": "choice-local",
   "metadata": {},
   "source": [
    "#### Question 1"
   ]
  },
  {
   "cell_type": "markdown",
   "id": "later-brown",
   "metadata": {},
   "source": [
    "Write this code without a `for` loop and using a while loop and exception handling\n",
    "\n",
    "```python\n",
    "l = []\n",
    "s = {1,2,3,4}\n",
    "for x in s:\n",
    "    l.append(x)\n",
    "```"
   ]
  }
 ],
 "metadata": {
  "kernelspec": {
   "display_name": "Python 3 (ipykernel)",
   "language": "python",
   "name": "python3"
  },
  "language_info": {
   "codemirror_mode": {
    "name": "ipython",
    "version": 3
   },
   "file_extension": ".py",
   "mimetype": "text/x-python",
   "name": "python",
   "nbconvert_exporter": "python",
   "pygments_lexer": "ipython3",
   "version": "3.9.7"
  }
 },
 "nbformat": 4,
 "nbformat_minor": 5
}
