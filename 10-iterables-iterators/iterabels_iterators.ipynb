{
 "cells": [
  {
   "cell_type": "markdown",
   "id": "b9ca4891-c69e-47c6-a0e5-933a7e1dc193",
   "metadata": {
    "tags": []
   },
   "source": [
    "## Iterabels & Iterators\n",
    "\n",
    "In Python, an iterable is an object that can be iterated upon, meaning it can be used in a `for` loop. An iterable is a collection of items, such as a list, tuple, dictionary, set, or string, that can be iterated over one at a time, in other words, we can take one element, then the next, then the next, until we have covered all elements.\n",
    "\n",
    "When you use a `for` loop to iterate over an iterable, Python automatically retrieves each item from the iterable one at a time and executes the loop body with each item. This makes it easy to perform the same operation on each item in the iterable without having to manually retrieve each item.\n",
    "\n",
    "For example, here is a simple `for` loop that iterates over a list of integers:\n",
    "\n",
    "```python\n",
    "my_list = [1, 2, 3, 4, 5]\n",
    "for item in my_list:\n",
    "    print(item)\n",
    "```\n",
    "\n",
    "In this example, `my_list` is an iterable, and the `for` loop iterates over each item in the list and prints it to the console.\n",
    "\n",
    "In addition to built-in iterables, you can also create your own custom iterables in Python by defining a class that implements the `__iter__()` method. This method should return an iterator object that defines a `__next__()` method, which retrieves the next item from the iterable.\n",
    "\n",
    "* Obviously a sequence type is iterable (it also have positional ordering).\n",
    "* We saw dictionaries can be iterated over.\n",
    "* Also sets are iterable, but with no guaranteed order of any kind.\n",
    "* General idea behind iteration is then:\n",
    "    * We start somewhere in the collection\n",
    "    * Then keep requesting the next element\n",
    "    * Until there is nothing left\n",
    "\n",
    "* We have two concepts here:\n",
    "    * A collection of objects that we can iterate over $\\to$ this is **iterable**\n",
    "    * Something that is able to give us the next element when we request $\\to$ this is **iterator**"
   ]
  },
  {
   "cell_type": "markdown",
   "id": "d99d27b9-7dac-4cf3-ad78-5e8939401897",
   "metadata": {},
   "source": [
    "### `__iter__()` method\n",
    "\n",
    "The `__iter__()` method is a special method that you can define in a class to make it iterable. This method should return an iterator object that defines a __next__() method, which retrieves the next item from the iterable.\n",
    "\n",
    "We will understand what that means in oop section of the course"
   ]
  },
  {
   "cell_type": "code",
   "execution_count": 3,
   "id": "dba19f6a-6f61-424e-b8db-268771bcf27e",
   "metadata": {},
   "outputs": [
    {
     "data": {
      "text/plain": [
       "<list_iterator at 0x7f681c15a430>"
      ]
     },
     "execution_count": 3,
     "metadata": {},
     "output_type": "execute_result"
    }
   ],
   "source": [
    "l = [1,2,3]\n",
    "l_iter = l.__iter__()\n",
    "l_iter"
   ]
  },
  {
   "cell_type": "code",
   "execution_count": 8,
   "id": "bc864760-12ac-4c7b-8ea2-cdc52349e1bc",
   "metadata": {},
   "outputs": [
    {
     "data": {
      "text/plain": [
       "list_iterator"
      ]
     },
     "execution_count": 8,
     "metadata": {},
     "output_type": "execute_result"
    }
   ],
   "source": [
    "type(l_iter)"
   ]
  },
  {
   "cell_type": "markdown",
   "id": "f38c2350-e5d0-47cd-8c36-43ff11507577",
   "metadata": {},
   "source": [
    "> **You can also use `iter` function to get iterator object**"
   ]
  },
  {
   "cell_type": "code",
   "execution_count": 9,
   "id": "6a066adf-ad9e-4a0a-8e02-bdc3935b3684",
   "metadata": {},
   "outputs": [
    {
     "data": {
      "text/plain": [
       "<list_iterator at 0x7f68035bb610>"
      ]
     },
     "execution_count": 9,
     "metadata": {},
     "output_type": "execute_result"
    }
   ],
   "source": [
    "l_iter_2 = iter(l)\n",
    "l_iter_2"
   ]
  },
  {
   "cell_type": "code",
   "execution_count": 10,
   "id": "65c88227-fd08-43b7-a470-787dcb132d53",
   "metadata": {},
   "outputs": [
    {
     "data": {
      "text/plain": [
       "list_iterator"
      ]
     },
     "execution_count": 10,
     "metadata": {},
     "output_type": "execute_result"
    }
   ],
   "source": [
    "type(l_iter_2)"
   ]
  },
  {
   "cell_type": "markdown",
   "id": "e9651746-dfc0-4a21-8798-472acf289f11",
   "metadata": {},
   "source": [
    "### `__next__()` method\n",
    "\n",
    "The iterator has a special method called `__next__()` that can be called to get the next element."
   ]
  },
  {
   "cell_type": "code",
   "execution_count": 11,
   "id": "f139e889-d3b3-43b5-9605-0acd3f061ddd",
   "metadata": {},
   "outputs": [],
   "source": [
    "l = [1,2,3]\n",
    "l_iter = iter(l)"
   ]
  },
  {
   "cell_type": "code",
   "execution_count": 12,
   "id": "c2458909-a9b1-42d4-9483-62aa4de0cf4b",
   "metadata": {},
   "outputs": [
    {
     "data": {
      "text/plain": [
       "1"
      ]
     },
     "execution_count": 12,
     "metadata": {},
     "output_type": "execute_result"
    }
   ],
   "source": [
    "l_iter.__next__()"
   ]
  },
  {
   "cell_type": "markdown",
   "id": "964fdf34-4c68-44f2-b8c5-fd34f2e76a16",
   "metadata": {},
   "source": [
    "> **You can also use `next` function to get next element**"
   ]
  },
  {
   "cell_type": "code",
   "execution_count": 13,
   "id": "523e3d72-b17c-4022-903b-50bcb5fb063e",
   "metadata": {},
   "outputs": [
    {
     "data": {
      "text/plain": [
       "2"
      ]
     },
     "execution_count": 13,
     "metadata": {},
     "output_type": "execute_result"
    }
   ],
   "source": [
    "next(l_iter)"
   ]
  },
  {
   "cell_type": "code",
   "execution_count": 14,
   "id": "05f1670a-cc32-42a9-bf76-a76da5de9b4d",
   "metadata": {},
   "outputs": [
    {
     "data": {
      "text/plain": [
       "3"
      ]
     },
     "execution_count": 14,
     "metadata": {},
     "output_type": "execute_result"
    }
   ],
   "source": [
    "next(l_iter)"
   ]
  },
  {
   "cell_type": "markdown",
   "id": "3e94e502-d3a2-4670-9df0-63c6168c3113",
   "metadata": {},
   "source": [
    "> **Iterators raise a `StopIteration` exception when `next` is called if there is nothing left**"
   ]
  },
  {
   "cell_type": "code",
   "execution_count": 15,
   "id": "c2e6ffa4-c9da-4aea-b4e3-06a36e31fcf7",
   "metadata": {},
   "outputs": [
    {
     "ename": "StopIteration",
     "evalue": "",
     "output_type": "error",
     "traceback": [
      "\u001b[0;31m---------------------------------------------------------------------------\u001b[0m",
      "\u001b[0;31mStopIteration\u001b[0m                             Traceback (most recent call last)",
      "Input \u001b[0;32mIn [15]\u001b[0m, in \u001b[0;36m<cell line: 1>\u001b[0;34m()\u001b[0m\n\u001b[0;32m----> 1\u001b[0m \u001b[38;5;28;43mnext\u001b[39;49m\u001b[43m(\u001b[49m\u001b[43ml_iter\u001b[49m\u001b[43m)\u001b[49m\n",
      "\u001b[0;31mStopIteration\u001b[0m: "
     ]
    }
   ],
   "source": [
    "next(l_iter)"
   ]
  },
  {
   "cell_type": "markdown",
   "id": "7d40cd00-6308-4f17-af16-c36c27b7db93",
   "metadata": {},
   "source": [
    "> **Iterators are one time use objects!**"
   ]
  },
  {
   "cell_type": "markdown",
   "id": "0bf5a72f-9b22-43ce-84df-8966fc0f534b",
   "metadata": {},
   "source": [
    "### The  internal mechanics of a `for` loop\n",
    "\n",
    "When we write a `for` loop that iterates over an iterable, for example:\n",
    "```python\n",
    "l = [1, 2, 3, 4, 5]\n",
    "for x in l:\n",
    "    print(x)\n",
    "```\n",
    "\n",
    "what Python is actually doing is this:"
   ]
  },
  {
   "cell_type": "code",
   "execution_count": 16,
   "id": "cac2bcfb-a683-45ec-a8b9-d6f29ca3e76c",
   "metadata": {},
   "outputs": [
    {
     "name": "stdout",
     "output_type": "stream",
     "text": [
      "1\n",
      "2\n",
      "3\n",
      "4\n",
      "5\n"
     ]
    }
   ],
   "source": [
    "l = [1, 2, 3, 4, 5]\n",
    "iterator = iter(l)\n",
    "try:\n",
    "    while True:\n",
    "        x = next(iterator)\n",
    "        print(x)\n",
    "except StopIteration:\n",
    "    pass"
   ]
  },
  {
   "cell_type": "markdown",
   "id": "a4427089-11c1-4ea6-a3e7-5cb58fb1fc08",
   "metadata": {},
   "source": [
    "### Key notes\n",
    "\n",
    "The key thing here is that we can see the **iterator** (not iterable) has some state\n",
    "* It has a `__next__()` method\n",
    "* There is no going back, or starting from beginning again\n",
    "* But we can request for a new iterator from iterable using `__iter__()` method\n",
    "* And that is what a for loop does, it requests a new iterator from iterable before it starts looping\n",
    "* Objects such as lists, tuples, strings, dictionaries, sets, range are **iterables**"
   ]
  },
  {
   "cell_type": "markdown",
   "id": "25e4056a-d8bf-441e-afaf-4e4ec664bd8f",
   "metadata": {},
   "source": [
    "### Examples"
   ]
  },
  {
   "cell_type": "markdown",
   "id": "76f22bfc-249b-4a09-b084-d1208f4b880f",
   "metadata": {},
   "source": [
    "#### Dictionary"
   ]
  },
  {
   "cell_type": "code",
   "execution_count": 17,
   "id": "437b12d8-4cce-4500-9e52-598f019ca8bb",
   "metadata": {},
   "outputs": [],
   "source": [
    "d = {'a': 1, 'b': 2, 'c': 3}\n",
    "d_iter = iter(d)"
   ]
  },
  {
   "cell_type": "code",
   "execution_count": 18,
   "id": "dc59805a-439c-4976-b77e-fb2402d8762f",
   "metadata": {},
   "outputs": [
    {
     "data": {
      "text/plain": [
       "'a'"
      ]
     },
     "execution_count": 18,
     "metadata": {},
     "output_type": "execute_result"
    }
   ],
   "source": [
    "next(d_iter)"
   ]
  },
  {
   "cell_type": "code",
   "execution_count": 19,
   "id": "b0d0cf70-0be9-4ffd-87eb-d1cd1cd36e5a",
   "metadata": {},
   "outputs": [
    {
     "data": {
      "text/plain": [
       "'b'"
      ]
     },
     "execution_count": 19,
     "metadata": {},
     "output_type": "execute_result"
    }
   ],
   "source": [
    "next(d_iter)"
   ]
  },
  {
   "cell_type": "markdown",
   "id": "1176dece-7ef1-457d-bcbc-3ebd580e8726",
   "metadata": {},
   "source": [
    "#### Set"
   ]
  },
  {
   "cell_type": "code",
   "execution_count": 20,
   "id": "7aa2f2ea-fab0-4e9d-8f67-74d44769ef14",
   "metadata": {},
   "outputs": [],
   "source": [
    "s = {1, 2, 3, 4}\n",
    "s_iter = iter(s)"
   ]
  },
  {
   "cell_type": "code",
   "execution_count": 21,
   "id": "6049a322-bb91-4c60-a4a5-18cd692d0ba5",
   "metadata": {},
   "outputs": [
    {
     "data": {
      "text/plain": [
       "1"
      ]
     },
     "execution_count": 21,
     "metadata": {},
     "output_type": "execute_result"
    }
   ],
   "source": [
    "next(s_iter)"
   ]
  },
  {
   "cell_type": "code",
   "execution_count": 22,
   "id": "aa5fd4ee-2df4-4896-9474-e5857deb74ee",
   "metadata": {},
   "outputs": [
    {
     "data": {
      "text/plain": [
       "2"
      ]
     },
     "execution_count": 22,
     "metadata": {},
     "output_type": "execute_result"
    }
   ],
   "source": [
    "next(s_iter)"
   ]
  }
 ],
 "metadata": {
  "kernelspec": {
   "display_name": "Python 3 (ipykernel)",
   "language": "python",
   "name": "python3"
  },
  "language_info": {
   "codemirror_mode": {
    "name": "ipython",
    "version": 3
   },
   "file_extension": ".py",
   "mimetype": "text/x-python",
   "name": "python",
   "nbconvert_exporter": "python",
   "pygments_lexer": "ipython3",
   "version": "3.9.7"
  }
 },
 "nbformat": 4,
 "nbformat_minor": 5
}
