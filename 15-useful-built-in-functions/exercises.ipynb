{
 "cells": [
  {
   "cell_type": "markdown",
   "id": "golden-ending",
   "metadata": {},
   "source": [
    "### Exercises"
   ]
  },
  {
   "cell_type": "markdown",
   "id": "minimal-layer",
   "metadata": {},
   "source": [
    "#### Question 1"
   ]
  },
  {
   "cell_type": "markdown",
   "id": "confirmed-surveillance",
   "metadata": {},
   "source": [
    "Given these two lists:"
   ]
  },
  {
   "cell_type": "code",
   "execution_count": 1,
   "id": "secure-mexican",
   "metadata": {},
   "outputs": [],
   "source": [
    "widgets = [f'w{i}' for i in range(1, 21)]\n",
    "skus = [f'sku{i}' for i in range(1, len(widgets) + 1)]"
   ]
  },
  {
   "cell_type": "markdown",
   "id": "retained-pacific",
   "metadata": {},
   "source": [
    "Write a function that uses the `zip` function to generate a dictionary with keys from the `widgets`, and values from the `skus`, i.e.:\n",
    "\n",
    "```\n",
    "{\n",
    "  'w1': 'sku1',\n",
    "  'w2': 'sku2',\n",
    "  ...\n",
    "  'w20': 'sku20'\n",
    "}\n",
    "```"
   ]
  },
  {
   "cell_type": "markdown",
   "id": "potential-kingdom",
   "metadata": {},
   "source": [
    "#### Question 2"
   ]
  },
  {
   "cell_type": "markdown",
   "id": "expanded-payroll",
   "metadata": {},
   "source": [
    "Given the following data:"
   ]
  },
  {
   "cell_type": "code",
   "execution_count": 2,
   "id": "compatible-cabin",
   "metadata": {},
   "outputs": [],
   "source": [
    "suits = 'shdc'  # Spades, Hearts, Diamonds, Clubs\n",
    "ranks = list('23456789') + ['10', 'J', 'Q', 'K', 'A']"
   ]
  },
  {
   "cell_type": "markdown",
   "id": "studied-behavior",
   "metadata": {},
   "source": [
    "Write a function that given those two inputs, returns a list with all 52 cards, consisting of tuples `(rank, suit)`, i.e.\n",
    "\n",
    "```\n",
    "[\n",
    "  [('2', 's'), ('3', 's'), ..., ('K', 's'), ('A', 's')],\n",
    "  [('2', 'h'), ('3', 'h'), ..., ('K', 'h'), ('A', 'h')],\n",
    "  ...\n",
    "]\n",
    "```"
   ]
  },
  {
   "cell_type": "markdown",
   "id": "global-helena",
   "metadata": {},
   "source": [
    "#### Question 3"
   ]
  },
  {
   "cell_type": "markdown",
   "id": "confused-causing",
   "metadata": {},
   "source": [
    "Write a function that receives two arguments:\n",
    "- a list of numbers\n",
    "- a keyword-only argument `reverse` that defaults to `False` and indicates an ascending sort, but a value of `True` indicates a descending sort"
   ]
  },
  {
   "cell_type": "markdown",
   "id": "reflected-cause",
   "metadata": {},
   "source": [
    "Your function should return three values:\n",
    "- a list of the numbers, but sorted (ascending/descending depending on value of `reverse`)\n",
    "- the minimum value in the list (this is not affected by the value of `reverse`)\n",
    "- the maximum value in the list (this is not affected by the value of `reverse`)"
   ]
  }
 ],
 "metadata": {
  "kernelspec": {
   "display_name": "Python 3 (ipykernel)",
   "language": "python",
   "name": "python3"
  },
  "language_info": {
   "codemirror_mode": {
    "name": "ipython",
    "version": 3
   },
   "file_extension": ".py",
   "mimetype": "text/x-python",
   "name": "python",
   "nbconvert_exporter": "python",
   "pygments_lexer": "ipython3",
   "version": "3.9.7"
  }
 },
 "nbformat": 4,
 "nbformat_minor": 5
}
