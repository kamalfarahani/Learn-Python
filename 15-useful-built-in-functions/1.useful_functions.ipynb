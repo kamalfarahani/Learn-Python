{
 "cells": [
  {
   "cell_type": "markdown",
   "id": "ae74ce72-5f9e-43e5-bd15-6564c1fa99eb",
   "metadata": {
    "tags": []
   },
   "source": [
    "## Built-in functions\n",
    "\n",
    "In Python, built-in functions are pre-defined functions that are available to use within the language without the need for any additional import or installation. These functions are a part of the Python Standard Library and are included in the language itself, allowing developers to use them for various purposes.\n",
    "\n",
    "Some examples of built-in functions that we have seen so far include:\n",
    "\n",
    "- `print` - used to print output to the console\n",
    "- `len` - used to find the length of an object, such as a string or list\n",
    "- `range` - used to generate a sequence of numbers\n",
    "- `type` - used to find the data type of an object\n",
    "- `int` - used to convert a value to an integer\n",
    "- `float` - used to convert a value to a floating-point number\n",
    "- `str` - used to convert a value to a string\n",
    "\n",
    "Python provides many other built-in functions as well, each designed to perform a specific operation. In this section we will look at some additional built-in functions including:\n",
    "\n",
    "1. `round`: This function is used to round a number to a specified number of decimal places. The `round` function takes two arguments: the number to be rounded, and the number of decimal places to round to. For example, `round(3.14159, 2)` would return `3.14`.\n",
    "\n",
    "2. `sorted`: This function is used to sort a list or other iterable object in ascending order. The `sorted` function takes one argument, which is the iterable object to be sorted. For example, `sorted([3, 1, 4, 1, 5, 9, 2, 6, 5, 3, 5])` would return `[1, 1, 2, 3, 3, 4, 5, 5, 5, 6, 9]`.\n",
    "\n",
    "3. `min`: This function is used to find the minimum value in an iterable object. The `min` function takes one or more arguments, which are the iterable objects to be searched. For example, `min([3, 1, 4, 1, 5, 9, 2, 6, 5, 3, 5])` would return `1`.\n",
    "\n",
    "4. `max`: This function is used to find the maximum value in an iterable object. The `max` function takes one or more arguments, which are the iterable objects to be searched. For example, `max([3, 1, 4, 1, 5, 9, 2, 6, 5, 3, 5])` would return `9`.\n",
    "\n",
    "5. `zip`: This function is used to combine two or more iterable objects into a single iterable object, where each element of the new iterable object is a tuple containing the corresponding elements from each of the input iterable objects. The `zip` function takes one or more arguments, which are the iterable objects to be combined. For example, `zip([1, 2, 3], ['a', 'b', 'c'])` would return `[(1, 'a'), (2, 'b'), (3, 'c')]`.\n",
    "\n",
    "These built-in functions are very useful and are commonly used in Python programs to perform various operations."
   ]
  },
  {
   "cell_type": "markdown",
   "id": "789ea2a9-bf0a-4d80-9335-30ae8bc9e4cb",
   "metadata": {},
   "source": [
    "### `round` function\n",
    "\n",
    "The `round` function in Python is a built-in function that is used to round a floating-point number to a specified number of decimal places. \n",
    "\n",
    "The `round` function takes two arguments: the first argument is the floating-point number to be rounded, and the second argument is the number of decimal places to round to. If the second argument is not provided, then the number is rounded to the nearest whole number.\n",
    "\n",
    "> The `round` function uses banker's rounding method to round numbers.\n",
    "\n",
    "Banker's rounding, also known as \"round half to even\" or \"convergent rounding\", is a rounding strategy used in mathematics and programming where values that end in `.5` are rounded to the nearest even number.\n",
    "\n",
    "For example, if the number to be rounded is `2.5`, then in banker's rounding, it would be rounded to `2`. Similarly, if the number to be rounded is `3.5`, then it would also be rounded to `4`.\n",
    "\n",
    "The reason for this strategy is to minimize the rounding error and to reduce bias in statistical calculations. By rounding half of the time up and half of the time down, the overall bias is reduced.\n",
    "\n",
    "Another advantage of banker's rounding is that it ensures that the expected value of a summation of rounded numbers is the same as the summation of the original numbers. This is because the rounding errors are distributed evenly around zero."
   ]
  },
  {
   "cell_type": "code",
   "execution_count": 5,
   "id": "db0ec326-dd06-4f40-83c2-ea62d0b16e4f",
   "metadata": {},
   "outputs": [
    {
     "name": "stdout",
     "output_type": "stream",
     "text": [
      "0.3333333333333333\n"
     ]
    }
   ],
   "source": [
    "x = 1 / 3\n",
    "print(x)"
   ]
  },
  {
   "cell_type": "code",
   "execution_count": 6,
   "id": "bc27b738-4891-4ca5-a356-f923eef357d3",
   "metadata": {},
   "outputs": [
    {
     "name": "stdout",
     "output_type": "stream",
     "text": [
      "0.33\n"
     ]
    }
   ],
   "source": [
    "y = round(x, 2)\n",
    "print(y)"
   ]
  },
  {
   "cell_type": "markdown",
   "id": "fd6371d6-f116-40eb-a87b-a6bb29e55b7d",
   "metadata": {},
   "source": [
    "> **If the second argument is not provided, then the number is rounded to the nearest integer number.**"
   ]
  },
  {
   "cell_type": "code",
   "execution_count": 10,
   "id": "5adb757c-f382-47c0-8299-eada6859daa0",
   "metadata": {},
   "outputs": [
    {
     "data": {
      "text/plain": [
       "2"
      ]
     },
     "execution_count": 10,
     "metadata": {},
     "output_type": "execute_result"
    }
   ],
   "source": [
    "round(1.8)"
   ]
  },
  {
   "cell_type": "code",
   "execution_count": 11,
   "id": "b08d42ed-1572-40be-a9b8-68b322474bb4",
   "metadata": {},
   "outputs": [
    {
     "data": {
      "text/plain": [
       "-2"
      ]
     },
     "execution_count": 11,
     "metadata": {},
     "output_type": "execute_result"
    }
   ],
   "source": [
    "round(-1.8)"
   ]
  },
  {
   "cell_type": "code",
   "execution_count": 12,
   "id": "80e185a7-5c59-4bc0-9c72-4dd06c7f09fd",
   "metadata": {},
   "outputs": [
    {
     "data": {
      "text/plain": [
       "-1"
      ]
     },
     "execution_count": 12,
     "metadata": {},
     "output_type": "execute_result"
    }
   ],
   "source": [
    "round(-1.1)"
   ]
  },
  {
   "cell_type": "markdown",
   "id": "639351b1-e72a-4de5-957d-40240023b102",
   "metadata": {},
   "source": [
    "When using the `round` function with a negative number as the second argument, it rounds the given floating-point number to the nearest multiple of 10 raised to the power of the negative of the second argument."
   ]
  },
  {
   "cell_type": "code",
   "execution_count": 13,
   "id": "05a23f77-5608-4c2a-9ca5-64b9aba6d998",
   "metadata": {},
   "outputs": [
    {
     "data": {
      "text/plain": [
       "120.0"
      ]
     },
     "execution_count": 13,
     "metadata": {},
     "output_type": "execute_result"
    }
   ],
   "source": [
    "round(123.456, -1)"
   ]
  },
  {
   "cell_type": "code",
   "execution_count": 14,
   "id": "30d4c01a-6da2-42eb-9780-25a639341867",
   "metadata": {},
   "outputs": [
    {
     "data": {
      "text/plain": [
       "100.0"
      ]
     },
     "execution_count": 14,
     "metadata": {},
     "output_type": "execute_result"
    }
   ],
   "source": [
    "round(123.456, -2)"
   ]
  },
  {
   "cell_type": "code",
   "execution_count": 15,
   "id": "c31a96b0-5782-4eb0-bb08-b1429ef64119",
   "metadata": {},
   "outputs": [
    {
     "data": {
      "text/plain": [
       "0.0"
      ]
     },
     "execution_count": 15,
     "metadata": {},
     "output_type": "execute_result"
    }
   ],
   "source": [
    "round(123.456, -3)"
   ]
  },
  {
   "cell_type": "code",
   "execution_count": 17,
   "id": "e03a211d-295d-4c83-949f-a422741ed2fe",
   "metadata": {},
   "outputs": [
    {
     "data": {
      "text/plain": [
       "1000"
      ]
     },
     "execution_count": 17,
     "metadata": {},
     "output_type": "execute_result"
    }
   ],
   "source": [
    "round(501, -3)"
   ]
  },
  {
   "cell_type": "markdown",
   "id": "804edb5f-d7ee-4b63-a33e-7ed161c20041",
   "metadata": {},
   "source": [
    "### `sorted` function\n",
    "\n",
    "The `sorted()` function in Python is a built-in function that is used to sort a list or other iterable object in ascending order.\n",
    "\n",
    "The `sorted()` function takes one argument, which is the iterable object to be sorted. It returns a new sorted list, **leaving the original iterable object unchanged**."
   ]
  },
  {
   "cell_type": "code",
   "execution_count": 18,
   "id": "ac259fea-0fc2-4894-9def-c5abcf48c237",
   "metadata": {},
   "outputs": [
    {
     "name": "stdout",
     "output_type": "stream",
     "text": [
      "Numbers:  [3, 1, 4, 1, 5, 9, 2, 6, 5, 3, 5]\n",
      "Sorted numbers:  [1, 1, 2, 3, 3, 4, 5, 5, 5, 6, 9]\n"
     ]
    }
   ],
   "source": [
    "numbers = [3, 1, 4, 1, 5, 9, 2, 6, 5, 3, 5]\n",
    "sorted_numbers = sorted(numbers)\n",
    "\n",
    "print('Numbers: ', numbers)\n",
    "print('Sorted numbers: ', sorted_numbers)"
   ]
  },
  {
   "cell_type": "markdown",
   "id": "4f6721db-f0cf-453e-9b99-6a39482fc385",
   "metadata": {},
   "source": [
    "> **The `sorted`function can also be used with other iterable objects, such as tuples or strings.**"
   ]
  },
  {
   "cell_type": "code",
   "execution_count": 19,
   "id": "f633177c-5b7a-4347-a79a-97b48b67eddb",
   "metadata": {},
   "outputs": [
    {
     "name": "stdout",
     "output_type": "stream",
     "text": [
      "[' ', '!', ',', 'H', 'd', 'e', 'l', 'l', 'l', 'o', 'o', 'r', 'w']\n"
     ]
    }
   ],
   "source": [
    "string = \"Hello, world!\"\n",
    "sorted_string = sorted(string)\n",
    "print(sorted_string)"
   ]
  },
  {
   "cell_type": "markdown",
   "id": "700f7f6d-133d-418a-8337-93e1529ee11a",
   "metadata": {},
   "source": [
    "> **`sorted` function always return a list** "
   ]
  },
  {
   "cell_type": "code",
   "execution_count": 21,
   "id": "d3d4f0ae-40e6-408a-840a-6c41515a4bc8",
   "metadata": {},
   "outputs": [
    {
     "name": "stdout",
     "output_type": "stream",
     "text": [
      "[1, 1, 2, 3, 3, 4, 5, 5, 5, 6, 9]\n"
     ]
    }
   ],
   "source": [
    "t = (3, 1, 4, 1, 5, 9, 2, 6, 5, 3, 5)\n",
    "print(sorted(t))"
   ]
  },
  {
   "cell_type": "code",
   "execution_count": 37,
   "id": "bbd0bdcb-d9fe-4aa8-9d4f-ad717f1aa454",
   "metadata": {},
   "outputs": [
    {
     "data": {
      "text/plain": [
       "[1, 2, 3, 5, 10]"
      ]
     },
     "execution_count": 37,
     "metadata": {},
     "output_type": "execute_result"
    }
   ],
   "source": [
    "my_set = {10, 1, 2, 3, 5}\n",
    "sorted(my_set)"
   ]
  },
  {
   "cell_type": "markdown",
   "id": "7d87d573-1834-4e61-a8c0-35f8a50c95a3",
   "metadata": {},
   "source": [
    "#### `reverse` keyword argument\n",
    "\n",
    "The `reverse` keyword argument in the `sorted` function is an optional keyword only argument that, when set to `True`, sorts the iterable object in descending order instead of ascending order.\n",
    "\n",
    "By default, the `reverse` argument is set to `False`, which means that the iterable object is sorted in ascending order. If you set `reverse` to `True`, the iterable object will be sorted in descending order instead."
   ]
  },
  {
   "cell_type": "code",
   "execution_count": 22,
   "id": "5e02d31b-c266-4c6b-8c4a-536894d5b987",
   "metadata": {},
   "outputs": [
    {
     "name": "stdout",
     "output_type": "stream",
     "text": [
      "[9, 6, 5, 5, 5, 4, 3, 3, 2, 1, 1]\n"
     ]
    }
   ],
   "source": [
    "numbers = [3, 1, 4, 1, 5, 9, 2, 6, 5, 3, 5]\n",
    "sorted_numbers = sorted(numbers, reverse=True)\n",
    "print(sorted_numbers)"
   ]
  },
  {
   "cell_type": "markdown",
   "id": "c2d123ca-4e6b-44c7-b172-5649049c2a2a",
   "metadata": {},
   "source": [
    "#### `key` keyword argument\n",
    "\n",
    "The `key` keyword argument in the `sorted` function is an optional argument that specifies a function to be called on each element of the iterable object. The result of this function call is then used to determine the order in which the elements are sorted."
   ]
  },
  {
   "cell_type": "code",
   "execution_count": 23,
   "id": "f04fff44-5858-4948-aa70-d42a7826058b",
   "metadata": {},
   "outputs": [
    {
     "name": "stdout",
     "output_type": "stream",
     "text": [
      "['date', 'apple', 'banana', 'cherry']\n"
     ]
    }
   ],
   "source": [
    "words = ['banana', 'apple', 'cherry', 'date']\n",
    "sorted_words = sorted(words, key=len)\n",
    "print(sorted_words)"
   ]
  },
  {
   "cell_type": "markdown",
   "id": "40ee9ce4-5c51-44e0-8416-02d1741e710a",
   "metadata": {},
   "source": [
    "### `min` and `max` functions\n",
    "\n",
    "The `min()` and `max()` functions in Python are built-in functions that are used to find the minimum and maximum values in an iterable object, such as a list or tuple.\n",
    "\n",
    "The `min()` function takes an iterable object as its argument and returns the smallest element in the iterable. For example:\n",
    "\n",
    "```python\n",
    ">>> numbers = [3, 1, 4, 1, 5, 9, 2, 6, 5, 3, 5]\n",
    ">>> min_number = min(numbers)\n",
    ">>> print(min_number)\n",
    "1\n",
    "```\n",
    "\n",
    "In this example, the `min()` function is used to find the smallest number in the list `numbers`. The smallest number is `1`, which is stored in the variable `min_number` and printed to the console.\n",
    "\n",
    "Similarly, the `max()` function takes an iterable object as its argument and returns the largest element in the iterable. For example:\n",
    "\n",
    "```python\n",
    ">>> numbers = [3, 1, 4, 1, 5, 9, 2, 6, 5, 3, 5]\n",
    ">>> max_number = max(numbers)\n",
    ">>> print(max_number)\n",
    "9\n",
    "```\n",
    "\n",
    "In this example, the `max()` function is used to find the largest number in the list `numbers`. The largest number is `9`, which is stored in the variable `max_number` and printed to the console.\n",
    "\n",
    "Both the `min()` and `max()` functions can also take multiple arguments, in which case they return the smallest or largest argument, respectively. For example:\n",
    "\n",
    "```python\n",
    ">>> min_number = min(3, 1, 4, 1, 5, 9, 2, 6, 5, 3, 5)\n",
    ">>> print(min_number)\n",
    "1\n",
    "\n",
    ">>> max_number = max(3, 1, 4, 1, 5, 9, 2, 6, 5, 3, 5)\n",
    ">>> print(max_number)\n",
    "9\n",
    "```\n",
    "\n",
    "In these examples, the `min()` and `max()` functions are used to find the smallest and largest numbers among the given arguments."
   ]
  },
  {
   "cell_type": "code",
   "execution_count": 24,
   "id": "e2d94d16-f3f9-4732-966a-73ddc08425da",
   "metadata": {},
   "outputs": [
    {
     "name": "stdout",
     "output_type": "stream",
     "text": [
      "min:  1\n",
      "max:  9\n"
     ]
    }
   ],
   "source": [
    "numbers = [3, 1, 4, 1, 5, 9, 2, 6, 5, 3, 5]\n",
    "\n",
    "min_num = min(numbers)\n",
    "max_num = max(numbers)\n",
    "\n",
    "print('min: ', min_num)\n",
    "print('max: ', max_num)"
   ]
  },
  {
   "cell_type": "markdown",
   "id": "27c155e0-d2e0-44a3-959e-356216a6e23e",
   "metadata": {},
   "source": [
    "#### `key` keyword argument\n",
    "\n",
    "The `min` and `max` functions in Python also have an optional `key` keyword argument, which specifies a function to be called on each element of the iterable object. The result of this function call is then used to determine the minimum or maximum value in the iterable, instead of using the elements themselves."
   ]
  },
  {
   "cell_type": "code",
   "execution_count": 35,
   "id": "780e3bd0-1873-49a2-80ae-0752ea67ca23",
   "metadata": {},
   "outputs": [
    {
     "data": {
      "text/plain": [
       "4"
      ]
     },
     "execution_count": 35,
     "metadata": {},
     "output_type": "execute_result"
    }
   ],
   "source": [
    "min([1,2,3,4], key=lambda x: -x)"
   ]
  },
  {
   "cell_type": "code",
   "execution_count": 36,
   "id": "d7770e57-e263-4ca4-bea7-f5257af5f007",
   "metadata": {},
   "outputs": [
    {
     "data": {
      "text/plain": [
       "'date'"
      ]
     },
     "execution_count": 36,
     "metadata": {},
     "output_type": "execute_result"
    }
   ],
   "source": [
    "words = ['banana', 'apple', 'cherry', 'date']\n",
    "min(words, key=len)"
   ]
  },
  {
   "cell_type": "markdown",
   "id": "24587e65-e25b-4ae7-87de-3a11adb27f18",
   "metadata": {},
   "source": [
    "#### `default` keyword argument\n",
    "\n",
    "The `min` and `max` functions in Python also have an optional `default` argument, which specifies the value to be returned if the iterable object is empty and no default value can be determined. If the iterable object is not empty, the `default` argument is ignored and the minimum or maximum value in the iterable is returned."
   ]
  },
  {
   "cell_type": "code",
   "execution_count": 38,
   "id": "8f88ee72-132f-4762-93d8-93e638a253f8",
   "metadata": {},
   "outputs": [
    {
     "ename": "ValueError",
     "evalue": "min() arg is an empty sequence",
     "output_type": "error",
     "traceback": [
      "\u001b[0;31m---------------------------------------------------------------------------\u001b[0m",
      "\u001b[0;31mValueError\u001b[0m                                Traceback (most recent call last)",
      "Input \u001b[0;32mIn [38]\u001b[0m, in \u001b[0;36m<cell line: 2>\u001b[0;34m()\u001b[0m\n\u001b[1;32m      1\u001b[0m empty \u001b[38;5;241m=\u001b[39m []\n\u001b[0;32m----> 2\u001b[0m \u001b[38;5;28;43mmin\u001b[39;49m\u001b[43m(\u001b[49m\u001b[43mempty\u001b[49m\u001b[43m)\u001b[49m\n",
      "\u001b[0;31mValueError\u001b[0m: min() arg is an empty sequence"
     ]
    }
   ],
   "source": [
    "empty = []\n",
    "min(empty)"
   ]
  },
  {
   "cell_type": "code",
   "execution_count": 39,
   "id": "a53a0421-c167-49ba-8b89-5c3cfbb0d99f",
   "metadata": {},
   "outputs": [
    {
     "data": {
      "text/plain": [
       "0"
      ]
     },
     "execution_count": 39,
     "metadata": {},
     "output_type": "execute_result"
    }
   ],
   "source": [
    "min(empty, default=0)"
   ]
  },
  {
   "cell_type": "markdown",
   "id": "66ea43a5-0795-49be-97a0-a725f1244153",
   "metadata": {},
   "source": [
    "> **If the iterable object is not empty, the default argument is ignored.**"
   ]
  },
  {
   "cell_type": "code",
   "execution_count": 40,
   "id": "1e4daa6c-fed1-40a4-86c1-71bbcd2c3201",
   "metadata": {},
   "outputs": [
    {
     "data": {
      "text/plain": [
       "1"
      ]
     },
     "execution_count": 40,
     "metadata": {},
     "output_type": "execute_result"
    }
   ],
   "source": [
    "min([1, 2, 3], default=0)"
   ]
  },
  {
   "cell_type": "markdown",
   "id": "07a06261-a4a7-4832-a418-518c2f3fb1c7",
   "metadata": {},
   "source": [
    "### `zip` function\n",
    "\n",
    "The `zip` function in Python is a built-in function that takes multiple iterables (such as lists, tuples, or strings) as input and returns an iterator that generates tuples containing elements from each of the input iterables, paired together in the order they appear.\n",
    "\n",
    "The basic syntax of the `zip` function is as follows:\n",
    "\n",
    "```python\n",
    "zip(*iterables)\n",
    "```\n",
    "\n",
    "Here, `*iterables` represents one or more iterables (separated by commas) that you want to combine. It can be lists, tuples, or any other iterable objects.\n",
    "\n",
    "When you call the `zip` function, it returns an iterator that produces tuples by pairing corresponding elements from each iterable. The resulting iterator stops as soon as the shortest input iterable is exhausted. In other words, if one iterable is shorter than the others, the resulting iterator will only contain tuples up to the length of the shortest iterable.\n",
    "\n",
    "Here's an example to illustrate how the `zip` function works:\n",
    "\n",
    "```python\n",
    "numbers = [1, 2, 3]\n",
    "letters = ['a', 'b', 'c']\n",
    "result = zip(numbers, letters)\n",
    "\n",
    "# Iterating over the resulting iterator\n",
    "for pair in result:\n",
    "    print(pair)\n",
    "```\n",
    "\n",
    "Output:\n",
    "```\n",
    "(1, 'a')\n",
    "(2, 'b')\n",
    "(3, 'c')\n",
    "```\n",
    "\n",
    "In the example above, the `zip` function combines the `numbers` and `letters` lists into an iterator of tuples. Each tuple contains an element from the `numbers` list paired with the corresponding element from the `letters` list.\n",
    "\n",
    "Note that the `zip` function can also accept more than two iterables as arguments. It will pair up elements from each iterable in the order they are provided.\n",
    "\n",
    "The `zip` function is commonly used when you need to iterate over multiple lists simultaneously and process their elements in pairs. It provides a convenient way to handle parallel iteration in Python."
   ]
  },
  {
   "cell_type": "code",
   "execution_count": 1,
   "id": "f33ace75-db1e-4b3d-abf5-4ad8436c32ef",
   "metadata": {},
   "outputs": [
    {
     "name": "stdout",
     "output_type": "stream",
     "text": [
      "(1, 'a')\n",
      "(2, 'b')\n",
      "(3, 'c')\n"
     ]
    }
   ],
   "source": [
    "numbers = [1, 2, 3]\n",
    "letters = ['a', 'b', 'c']\n",
    "\n",
    "for pair in zip(numbers, letters):\n",
    "    print(pair)"
   ]
  },
  {
   "cell_type": "markdown",
   "id": "cdf3bd99-2156-46c0-8a00-ffb3754743fd",
   "metadata": {},
   "source": [
    "#### `zip` stops stops producing tuples as soon as the shortest input iterable is exhausted\n",
    "\n",
    "The `zip` function stops producing tuples as soon as the shortest input iterable is exhausted. This means that if you pass in iterables of different lengths, the resulting iterator will only contain tuples up to the length of the shortest iterable.\n",
    "\n",
    "Here's an example to demonstrate this behavior:\n",
    "\n",
    "```python\n",
    "numbers = [1, 2, 3]\n",
    "letters = ['a', 'b']\n",
    "\n",
    "for pair in zip(numbers, letters):\n",
    "    print(pair)\n",
    "```\n",
    "\n",
    "Output:\n",
    "```\n",
    "(1, 'a')\n",
    "(2, 'b')\n",
    "```\n",
    "\n",
    "In the example above, the `numbers` list has three elements, while the `letters` list has only two elements. When we call `zip(numbers, letters)`, the resulting iterator stops after producing two tuples because the `letters` list is exhausted. The third element of the `numbers` list is not included in the resulting iterator.\n",
    "\n",
    "This behavior is useful when you have multiple iterables of different lengths and you want to iterate over them in parallel, stopping when the shortest iterable is exhausted. It allows you to avoid processing elements that don't have corresponding elements in the other iterables."
   ]
  },
  {
   "cell_type": "code",
   "execution_count": 3,
   "id": "0d23d3a3-8a7b-4e72-961d-0c5b4d4c72e3",
   "metadata": {},
   "outputs": [
    {
     "name": "stdout",
     "output_type": "stream",
     "text": [
      "(1, 'a')\n",
      "(2, 'b')\n"
     ]
    }
   ],
   "source": [
    "numbers = [1, 2, 3]\n",
    "letters = ['a', 'b']\n",
    "\n",
    "\n",
    "for pair in zip(numbers, letters):\n",
    "    print(pair)"
   ]
  }
 ],
 "metadata": {
  "kernelspec": {
   "display_name": "Python 3 (ipykernel)",
   "language": "python",
   "name": "python3"
  },
  "language_info": {
   "codemirror_mode": {
    "name": "ipython",
    "version": 3
   },
   "file_extension": ".py",
   "mimetype": "text/x-python",
   "name": "python",
   "nbconvert_exporter": "python",
   "pygments_lexer": "ipython3",
   "version": "3.9.7"
  }
 },
 "nbformat": 4,
 "nbformat_minor": 5
}
