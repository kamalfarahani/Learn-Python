{
 "cells": [
  {
   "cell_type": "markdown",
   "id": "3b79259a-7d62-4371-8b9e-52f2b58bce66",
   "metadata": {},
   "source": [
    "## NumPy `random` sub-module\n",
    "\n",
    "The NumPy library provides a sub-module called numpy.random that offers a wide range of functions for generating random numbers and arrays. The numpy.random module is commonly used for tasks such as random sampling, generating random numbers from various probability distributions, and shuffling arrays.\n",
    "\n",
    "Certainly! Here's a list of some commonly used functions from the `numpy.random` sub-module along with examples of how to use them:\n",
    "\n",
    "1. **`random()`**: Generates random numbers from a uniform distribution between 0 and 1.\n",
    "\n",
    "   ```python\n",
    "   import numpy as np\n",
    "\n",
    "   # Generate a random number between 0 and 1\n",
    "   random_number = np.random.random()\n",
    "   print(random_number)\n",
    "   ```\n",
    "\n",
    "1. **`rand(d1, d2, ..., dn)`**: Generates an array of random numbers from a uniform distribution between 0 and 1 with a specified shape.\n",
    "\n",
    "   ```python\n",
    "   import numpy as np\n",
    "\n",
    "   # Generate a 3x3 array of random numbers between 0 and 1\n",
    "   random_array = np.random.rand(3, 3)\n",
    "   print(random_array)\n",
    "   ```\n",
    "\n",
    "1. **`randn(d1, d2, ..., dn)`**: Generates an array of random numbers from a standard normal distribution (mean 0, standard deviation 1) with a specified shape.\n",
    "\n",
    "   ```python\n",
    "   import numpy as np\n",
    "\n",
    "   # Generate a 2x2 array of random numbers from a standard normal distribution\n",
    "   random_array = np.random.randn(2, 2)\n",
    "   print(random_array)\n",
    "   ```\n",
    "\n",
    "1. **`randint(low, high=None, size=None, dtype=int)`**: Return random integers from `low` (inclusive) to `high` (exclusive).\n",
    "\n",
    "   ```python\n",
    "   import numpy as np\n",
    "\n",
    "   # Generate a 3*3 matrix with random integer between 0 and 9\n",
    "   random_integer = np.random.randint(0, 10, size=(3,3))\n",
    "   print(random_integer)\n",
    "   ```\n",
    "\n",
    "1. **`normal(mean, std, size)`**: Generates random numbers from a normal (Gaussian) distribution with a specified mean and standard deviation.\n",
    "\n",
    "   ```python\n",
    "   import numpy as np\n",
    "\n",
    "   # Generate a 3*3 matrix with random numbers from a normal distribution with mean 0 and standard deviation 1\n",
    "   random_numbers = np.random.normal(0, 1, size=(3, 3))\n",
    "   print(random_numbers)\n",
    "   ```\n",
    "\n",
    "1. **`shuffle(x)`**: Randomly shuffles the elements of an array in-place.\n",
    "\n",
    "   ```python\n",
    "   import numpy as np\n",
    "\n",
    "   # Shuffle the elements of an array\n",
    "   array = np.array([1, 2, 3, 4, 5])\n",
    "   np.random.shuffle(array)\n",
    "   print(array)\n",
    "   ```\n",
    "\n",
    "1. **`seed(s)`**: Sets the seed for the random number generator to ensure reproducibility.\n",
    "\n",
    "   ```python\n",
    "   import numpy as np\n",
    "\n",
    "   # Set the seed to ensure reproducibility\n",
    "   np.random.seed(42)\n",
    "\n",
    "   # Generate a random number\n",
    "   random_number = np.random.random()\n",
    "   print(random_number)\n",
    "   ```\n",
    "\n",
    "\n",
    "These are just a few examples of the many functions available in the `numpy.random` sub-module. Each function provides different functionalities for generating random numbers, arrays, and samples from various distributions."
   ]
  },
  {
   "cell_type": "markdown",
   "id": "708100b8-dc0a-433b-b6f6-a3a0ae82f65b",
   "metadata": {},
   "source": [
    "### `random` function\n",
    "\n",
    "The `np.random.random()` function is a part of the `numpy.random` sub-module in NumPy. It generates random numbers from a continuous uniform distribution over the interval \\[0, 1). In other words, it generates random floating-point numbers between 0 (inclusive) and 1 (exclusive).\n",
    "\n",
    "The `np.random.random()` function takes an optional argument `size` that specifies the shape of the output. It can be a single integer or a tuple of integers. If `size` is not provided, a single random number is returned.\n",
    "\n",
    "Here's an example:\n",
    "\n",
    "```python\n",
    "import numpy as np\n",
    "\n",
    "# Generate a single random number\n",
    "random_number = np.random.random()\n",
    "print(random_number)\n",
    "\n",
    "# Generate a 2x2 array of random numbers\n",
    "random_array = np.random.random((2, 2))\n",
    "print(random_array)\n",
    "```\n",
    "\n",
    "In this example, the first `np.random.random()` call generates a single random number between 0 and 1, and the result is printed.\n",
    "\n",
    "The second `np.random.random()` call generates a 2x2 array of random numbers. The shape `(2, 2)` is passed as the `size` argument, indicating that we want a 2x2 array. The resulting array contains four random numbers between 0 and 1, and it is printed.\n",
    "\n",
    "The `np.random.random()` function is useful when you need random numbers uniformly distributed between 0 and 1, which can be handy for various purposes such as simulations, statistical modeling, or generating random data for testing or experimentation."
   ]
  },
  {
   "cell_type": "code",
   "execution_count": 4,
   "id": "56841726-17cd-4875-8ca2-8636e66d710a",
   "metadata": {},
   "outputs": [
    {
     "name": "stdout",
     "output_type": "stream",
     "text": [
      "0.11680416084314582\n"
     ]
    }
   ],
   "source": [
    "import numpy as np\n",
    "\n",
    "random_number = np.random.random()\n",
    "print(random_number)"
   ]
  },
  {
   "cell_type": "code",
   "execution_count": 5,
   "id": "e31363e1-e324-4cb0-a19f-d2fc64f1d76b",
   "metadata": {},
   "outputs": [
    {
     "name": "stdout",
     "output_type": "stream",
     "text": [
      "[[0.34114572 0.72801972]\n",
      " [0.29362045 0.55885409]]\n"
     ]
    }
   ],
   "source": [
    "random_array = np.random.random((2, 2))\n",
    "print(random_array)"
   ]
  },
  {
   "cell_type": "markdown",
   "id": "0cb69bbe-ff5b-42bd-b2bf-a2e0f4ae87e8",
   "metadata": {},
   "source": [
    "### `rand` function\n",
    "\n",
    "The `np.random.rand` function is another function provided by the `numpy.random` sub-module in NumPy. It generates random numbers from a uniform distribution over the interval \\[0, 1) with a specified shape.\n",
    "\n",
    "The `np.random.rand` function takes one or more arguments to define the shape of the output. Each argument represents the size of a dimension in the output array. Alternatively, you can pass a tuple of integers to specify the shape.\n",
    "\n",
    "Here's an example:\n",
    "\n",
    "```python\n",
    "import numpy as np\n",
    "\n",
    "# Generate a single random number\n",
    "random_number = np.random.rand()\n",
    "print(random_number)\n",
    "\n",
    "# Generate a 2x2 array of random numbers\n",
    "random_array = np.random.rand(2, 2)\n",
    "print(random_array)\n",
    "```\n",
    "\n",
    "In this example, the first `np.random.rand()` call generates a single random number between 0 and 1, and the result is printed.\n",
    "\n",
    "The second `np.random.rand()` call generates a 2x2 array of random numbers. The arguments `(2, 2)` indicate that we want a 2x2 array. The resulting array contains four random numbers between 0 and 1, and it is printed.\n",
    "\n",
    "It's important to note that the `np.random.rand()` function generates random numbers from a uniform distribution over the interval \\[0, 1), which means that all the generated numbers are equally likely within that range.\n",
    "\n",
    "The `np.random.rand()` function is commonly used when you need random numbers uniformly distributed between 0 and 1 with a specific shape, such as when creating random arrays for simulations, initializing weights in machine learning models, or generating random data for various applications."
   ]
  },
  {
   "cell_type": "code",
   "execution_count": 6,
   "id": "a7c5e3cf-d535-40e2-9a9d-663e8be43690",
   "metadata": {},
   "outputs": [
    {
     "name": "stdout",
     "output_type": "stream",
     "text": [
      "0.5309707613953903\n"
     ]
    }
   ],
   "source": [
    "import numpy as np\n",
    "\n",
    "random_number = np.random.rand()\n",
    "print(random_number)"
   ]
  },
  {
   "cell_type": "code",
   "execution_count": 7,
   "id": "ab92e316-d3d0-41cf-b2a2-39c4ff2b02a6",
   "metadata": {},
   "outputs": [
    {
     "name": "stdout",
     "output_type": "stream",
     "text": [
      "[[0.32566559 0.36185299]\n",
      " [0.43130371 0.45130751]]\n"
     ]
    }
   ],
   "source": [
    "random_array = np.random.rand(2, 2)\n",
    "print(random_array)"
   ]
  },
  {
   "cell_type": "markdown",
   "id": "2f0cb22a-d3fe-40fa-8a71-389e3486cace",
   "metadata": {},
   "source": [
    "### `randn` function\n",
    "\n",
    "The `np.random.randn` function is another function provided by the `numpy.random` sub-module in NumPy. It generates random numbers from a standard normal distribution, also known as a Gaussian distribution or a bell curve, with a mean of 0 and a standard deviation of 1.\n",
    "\n",
    "The `np.random.randn` function takes one or more arguments to define the shape of the output. Each argument represents the size of a dimension in the output array. Alternatively, you can pass a tuple of integers to specify the shape.\n",
    "\n",
    "Here's an example:\n",
    "\n",
    "```python\n",
    "import numpy as np\n",
    "\n",
    "# Generate a single random number\n",
    "random_number = np.random.randn()\n",
    "print(random_number)\n",
    "\n",
    "# Generate a 2x2 array of random numbers\n",
    "random_array = np.random.randn(2, 2)\n",
    "print(random_array)\n",
    "```\n",
    "\n",
    "In this example, the first `np.random.randn` call generates a single random number from a standard normal distribution, and the result is printed.\n",
    "\n",
    "The second `np.random.randn` call generates a 2x2 array of random numbers. The arguments `(2, 2)` indicate that we want a 2x2 array. The resulting array contains four random numbers drawn from a standard normal distribution, and it is printed.\n",
    "\n",
    "The key characteristic of the standard normal distribution is that it has a symmetric bell-shaped curve centered around the mean of 0. The majority of the generated random numbers will be close to 0, with decreasing probability as the values move away from 0.\n",
    "\n",
    "The `np.random.randn` function is commonly used when you need random numbers from a standard normal distribution with a specific shape. It is often utilized in simulations, statistical modeling, generating random data for experimentation or testing, and various other applications that involve random numbers following a Gaussian distribution."
   ]
  },
  {
   "cell_type": "markdown",
   "id": "28ba7ff0-4cc5-4524-9c90-0022c3e8bbab",
   "metadata": {},
   "source": [
    "### `normal` function\n",
    "\n",
    "The `np.random.normal` function is a part of the `numpy.random` sub-module in NumPy. It generates random numbers from a normal (Gaussian) distribution with a specified mean and standard deviation.\n",
    "\n",
    "The `np.random.normal` function takes three arguments: `loc`, `scale`, and `size`.\n",
    "\n",
    "- The `loc` argument represents the mean of the distribution.\n",
    "- The `scale` argument represents the standard deviation of the distribution.\n",
    "- The `size` argument (optional) specifies the shape of the output array.\n",
    "\n",
    "Here's an example:\n",
    "\n",
    "```python\n",
    "import numpy as np\n",
    "\n",
    "# Generate a single random number from a normal distribution with mean 0 and standard deviation 1\n",
    "random_number = np.random.normal(loc=0, scale=1)\n",
    "print(random_number)\n",
    "\n",
    "# Generate a 2x2 array of random numbers from a normal distribution with mean 2 and standard deviation 0.5\n",
    "random_array = np.random.normal(loc=2, scale=0.5, size=(2, 2))\n",
    "print(random_array)\n",
    "```\n",
    "\n",
    "In this example, the first `np.random.normal` call generates a single random number from a normal distribution with a mean of 0 and a standard deviation of 1. The resulting number is printed.\n",
    "\n",
    "The second `np.random.normal` call generates a 2x2 array of random numbers from a normal distribution with a mean of 2 and a standard deviation of 0.5. The `size` argument `(2, 2)` is passed to specify the shape of the output array. The resulting array contains four random numbers drawn from the specified normal distribution, and it is printed.\n",
    "\n",
    "The normal distribution is a continuous probability distribution that is symmetric and bell-shaped. It is widely applicable in various fields, particularly in statistics and probability theory, due to its prevalence in natural phenomena and the Central Limit Theorem.\n",
    "\n",
    "The `np.random.normal` function is frequently used when you need random numbers from a normal distribution with specific mean and standard deviation values. It is useful for various tasks such as generating random data for statistical modeling, simulating real-world phenomena, and conducting experiments and simulations."
   ]
  },
  {
   "cell_type": "code",
   "execution_count": 8,
   "id": "03936ef7-af24-4e41-b5ef-7aa9e08f8eaa",
   "metadata": {},
   "outputs": [
    {
     "name": "stdout",
     "output_type": "stream",
     "text": [
      "-1.4567457272000583\n"
     ]
    }
   ],
   "source": [
    "import numpy as np\n",
    "\n",
    "random_number = np.random.normal(loc=0, scale=1)\n",
    "print(random_number)"
   ]
  },
  {
   "cell_type": "code",
   "execution_count": 9,
   "id": "0a1b1a63-8af7-4a61-8e40-8421c666b5d1",
   "metadata": {},
   "outputs": [
    {
     "name": "stdout",
     "output_type": "stream",
     "text": [
      "[[2.66568673 2.11026167]\n",
      " [1.65262564 1.35765353]]\n"
     ]
    }
   ],
   "source": [
    "random_array = np.random.normal(loc=2, scale=0.5, size=(2, 2))\n",
    "print(random_array)"
   ]
  }
 ],
 "metadata": {
  "kernelspec": {
   "display_name": "Python 3 (ipykernel)",
   "language": "python",
   "name": "python3"
  },
  "language_info": {
   "codemirror_mode": {
    "name": "ipython",
    "version": 3
   },
   "file_extension": ".py",
   "mimetype": "text/x-python",
   "name": "python",
   "nbconvert_exporter": "python",
   "pygments_lexer": "ipython3",
   "version": "3.9.7"
  }
 },
 "nbformat": 4,
 "nbformat_minor": 5
}
