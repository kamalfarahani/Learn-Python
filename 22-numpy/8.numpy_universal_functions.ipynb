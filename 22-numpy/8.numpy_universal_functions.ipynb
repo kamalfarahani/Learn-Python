{
 "cells": [
  {
   "cell_type": "markdown",
   "id": "14176234-adab-4193-8a61-602db620dd0d",
   "metadata": {},
   "source": [
    "## Universal functions\n",
    "\n",
    "In NumPy, universal functions, also known as ufuncs, are functions that operate element-wise on ndarrays, allowing for fast and efficient computations. Ufuncs are a key feature of NumPy and provide a convenient way to apply mathematical operations to arrays without the need for explicit loops.\n",
    "\n",
    "Some common examples of universal functions in NumPy include:\n",
    "\n",
    "1. Mathematical Functions:\n",
    "   - `np.abs(arr)`: Compute the absolute value of each element.\n",
    "   - `np.sqrt(arr)`: Compute the square root of each element.\n",
    "   - `np.exp(arr)`: Compute the exponential of each element.\n",
    "   - `np.log(arr)`: Compute the natural logarithm of each element.\n",
    "\n",
    "2. Arithmetic Operations:\n",
    "   - `np.add(arr_1, arr_2)` or `np.add(arr_1, scaler)`: Add corresponding elements of two arrays.\n",
    "   - `np.subtract(arr_1, arr_2)`, `np.subtract(arr_1, scaler)`: Subtract corresponding elements of two arrays.\n",
    "   - `np.multiply(arr_1, arr_2)`, `np.multiply(arr_1, scaler)`: Multiply corresponding elements of two arrays.\n",
    "   - `np.divide(arr_1, arr_2)`, `np.divide(arr_1, scaler)`: Divide corresponding elements of two arrays.\n",
    "   - `np.power(arr_1, arr_2)`, `np.power(arr_1, scaler)`: Raise each element to a specified corresponding power.\n",
    "\n",
    "3. Aggregation Functions:\n",
    "   - `np.sum(arr)`: Compute the sum of all elements in an array.\n",
    "   - `np.mean(arr)`: Compute the arithmetic mean of elements in an array.\n",
    "   - `np.min(arr)`, `np.max(arr)`: Find the minimum and maximum values in an array, respectively.\n",
    "   - `np.std(arr)`, `np.var(arr)`: Compute the standard deviation and variance of elements in an array, respectively.\n",
    "\n",
    "4. Trigonometric Functions:\n",
    "   - `np.sin(arr)`, `np.cos(arr)`, `np.tan(arr)`: Compute the sine, cosine, and tangent of each element, respectively.\n",
    "   - `np.arcsin(arr)`, `np.arccos(arr)`, `np.arctan(arr)`: Compute the inverse sine, inverse cosine, and inverse tangent of each element, respectively.\n",
    "\n",
    "This is not an exhaustive list, but it covers some commonly used universal functions in NumPy. NumPy's documentation provides a comprehensive list of available ufuncs, along with detailed explanations and examples for each function."
   ]
  },
  {
   "cell_type": "markdown",
   "id": "13488593-7adb-40ea-abca-f54728f3435d",
   "metadata": {},
   "source": [
    "### Mathematical functions\n",
    "1. `np.abs`: The `np.abs` function is used to calculate the absolute values of the elements in an array. It returns an array with the same shape as the input array, where each element is replaced with its absolute value.\n",
    "\n",
    "   Example:\n",
    "   ```python\n",
    "   import numpy as np\n",
    "\n",
    "   arr = np.array([-2, 4, -6, 8, -10])\n",
    "   abs_arr = np.abs(arr)\n",
    "   print(abs_arr)\n",
    "   ```\n",
    "   \n",
    "   Output:\n",
    "   ```pyhon\n",
    "   [ 2  4  6  8 10]\n",
    "   ```\n",
    "\n",
    "3. `np.sqrt`: The `np.sqrt` function is used to calculate the square root of each element in an array. It returns an array with the same shape as the input array, where each element is replaced with its square root.\n",
    "\n",
    "   Example:\n",
    "   ```python\n",
    "   import numpy as np\n",
    "\n",
    "   arr = np.array([4, 9, 16, 25, 36])\n",
    "   sqrt_arr = np.sqrt(arr)\n",
    "   print(sqrt_arr)\n",
    "   ```\n",
    "\n",
    "   Output:\n",
    "   ```python\n",
    "   [2. 3. 4. 5. 6.]\n",
    "   ```\n",
    "\n",
    "5. `np.exp`: The `np.exp` function is used to calculate the exponential of each element in an array. It returns an array with the same shape as the input array, where each element is replaced with its exponential value.\n",
    "\n",
    "   Example:\n",
    "   ```python\n",
    "   import numpy as np\n",
    "\n",
    "   arr = np.array([1, 2, 3])\n",
    "   exp_arr = np.exp(arr)\n",
    "   print(exp_arr)\n",
    "   ```\n",
    "\n",
    "   \n",
    "   Output:\n",
    "   ```\n",
    "   [ 2.71828183  7.3890561  20.08553692]\n",
    "   ```\n",
    "\n",
    "6. `np.log`: The `np.log` function is used to calculate the natural logarithm (base e) of each element in an array. It returns an array with the same shape as the input array, where each element is replaced with its natural logarithm.\n",
    "\n",
    "   Example:\n",
    "   ```python\n",
    "   import numpy as np\n",
    "\n",
    "   arr = np.array([1, 10, 100])\n",
    "   log_arr = np.log(arr)\n",
    "   print(log_arr)\n",
    "   ```\n",
    "\n",
    "   Output:\n",
    "   ```python\n",
    "   [0.         2.30258509 4.60517019]\n",
    "   ```\n",
    "\n",
    "These functions are very useful in scientific and mathematical computations, and NumPy provides efficient implementations to perform these operations on arrays of any size."
   ]
  },
  {
   "cell_type": "code",
   "execution_count": 1,
   "id": "a54a9e84-14f3-47f5-8805-75429e2f4b73",
   "metadata": {},
   "outputs": [
    {
     "name": "stdout",
     "output_type": "stream",
     "text": [
      "[ 2  4  6  8 10]\n"
     ]
    }
   ],
   "source": [
    "import numpy as np\n",
    "\n",
    "arr = np.array([-2, 4, -6, 8, -10])\n",
    "abs_arr = np.abs(arr)\n",
    "print(abs_arr)"
   ]
  },
  {
   "cell_type": "code",
   "execution_count": 3,
   "id": "db15051c-4453-4faa-ab80-a3aebba66746",
   "metadata": {},
   "outputs": [
    {
     "data": {
      "text/plain": [
       "array([1.        , 1.41421356, 1.73205081])"
      ]
     },
     "execution_count": 3,
     "metadata": {},
     "output_type": "execute_result"
    }
   ],
   "source": [
    "np.sqrt(arr)"
   ]
  },
  {
   "cell_type": "code",
   "execution_count": 4,
   "id": "c1272b04-1b1d-43c6-897b-0b9e8c2689b8",
   "metadata": {},
   "outputs": [
    {
     "data": {
      "text/plain": [
       "array([ 2.71828183,  7.3890561 , 20.08553692])"
      ]
     },
     "execution_count": 4,
     "metadata": {},
     "output_type": "execute_result"
    }
   ],
   "source": [
    "np.exp(arr)"
   ]
  },
  {
   "cell_type": "code",
   "execution_count": 5,
   "id": "b6267d94-1d30-4a1e-aada-a896ca49e7f8",
   "metadata": {},
   "outputs": [
    {
     "data": {
      "text/plain": [
       "array([0.        , 0.69314718, 1.09861229])"
      ]
     },
     "execution_count": 5,
     "metadata": {},
     "output_type": "execute_result"
    }
   ],
   "source": [
    "np.log(arr)"
   ]
  },
  {
   "cell_type": "markdown",
   "id": "e6b3337f-14c4-4f2d-b420-2a53e86f5a67",
   "metadata": {},
   "source": [
    "### Arithmetic Operations\n",
    "\n",
    "We have seen arithmetic operations in `NumPy Operations` notebook, here we will talk a little about broadcasting.\n",
    "\n",
    "#### Broadcasting\n",
    "\n",
    "Broadcasting between an array and a scalar in NumPy allows the scalar value to be combined with each element of the array in element-wise operations. The scalar is effectively broadcasted to match the shape of the array, enabling the operation to be performed.\n",
    "\n",
    "Here's how broadcasting between an array and a scalar happens in NumPy:\n",
    "\n",
    "1. Scalar Expansion: The scalar value is expanded to an array of the same shape as the array it is being combined with. This is done by duplicating the scalar value along all dimensions to match the shape of the array.\n",
    "\n",
    "2. Element-Wise Operation: Once the scalar and the array have compatible shapes, the element-wise operation is performed between the expanded scalar and the corresponding elements of the array.\n",
    "\n",
    "Here's an example to illustrate broadcasting between an array and a scalar:\n",
    "\n",
    "```python\n",
    "import numpy as np\n",
    "\n",
    "# Broadcasting example with scalar and array\n",
    "scalar = 2\n",
    "array = np.array([1, 2, 3])\n",
    "\n",
    "# Perform element-wise multiplication\n",
    "result = scalar * array\n",
    "\n",
    "print(result)\n",
    "```\n",
    "\n",
    "In this example, we have a scalar value `scalar` with the value 2 and an array `array` with shape `(3,)` containing the elements `[1, 2, 3]`. The scalar value is broadcasted to match the shape of the array, resulting in an expanded scalar array `[2, 2, 2]`. Then, the element-wise multiplication is performed between the expanded scalar and the corresponding elements of the array, resulting in the array `result` with the values `[2, 4, 6]`.\n",
    "\n",
    "The output of the above code will be:\n",
    "```\n",
    "[2 4 6]\n",
    "```\n",
    "\n",
    "As you can see, the scalar value of 2 was broadcasted to match the shape of the array, allowing the element-wise multiplication to be performed effortlessly.\n",
    "\n",
    "Broadcasting between an array and a scalar in NumPy is a convenient way to apply scalar operations to all elements of an array without explicitly creating an array of the same shape as the original array. It simplifies the syntax and enhances the efficiency of computations."
   ]
  },
  {
   "cell_type": "code",
   "execution_count": 6,
   "id": "e9aeaef3-4172-4e3c-9379-cd2f403c9c17",
   "metadata": {},
   "outputs": [
    {
     "data": {
      "text/plain": [
       "array([2, 4, 6])"
      ]
     },
     "execution_count": 6,
     "metadata": {},
     "output_type": "execute_result"
    }
   ],
   "source": [
    "import numpy as np\n",
    "\n",
    "scalar = 2\n",
    "array = np.array([1, 2, 3])\n",
    "\n",
    "scalar * array"
   ]
  },
  {
   "cell_type": "code",
   "execution_count": 7,
   "id": "32e16b03-807e-4d9c-9a40-88b1f39c0e26",
   "metadata": {},
   "outputs": [
    {
     "data": {
      "text/plain": [
       "array([3, 4, 5])"
      ]
     },
     "execution_count": 7,
     "metadata": {},
     "output_type": "execute_result"
    }
   ],
   "source": [
    "scalar + array"
   ]
  },
  {
   "cell_type": "code",
   "execution_count": 8,
   "id": "86625145-e198-4ca6-ad9f-5c6e774cda38",
   "metadata": {},
   "outputs": [
    {
     "data": {
      "text/plain": [
       "array([2.        , 1.        , 0.66666667])"
      ]
     },
     "execution_count": 8,
     "metadata": {},
     "output_type": "execute_result"
    }
   ],
   "source": [
    "scalar / array"
   ]
  },
  {
   "cell_type": "code",
   "execution_count": 9,
   "id": "81b3706a-7a86-4cdb-a42c-f3cd54dad272",
   "metadata": {},
   "outputs": [
    {
     "data": {
      "text/plain": [
       "array([0.5, 1. , 1.5])"
      ]
     },
     "execution_count": 9,
     "metadata": {},
     "output_type": "execute_result"
    }
   ],
   "source": [
    "array / scalar"
   ]
  },
  {
   "cell_type": "markdown",
   "id": "ecf3a0a4-cb50-47a2-a18f-8dd1a6f5d1e4",
   "metadata": {},
   "source": [
    "### Aggregation Functions\n",
    "\n",
    "1. `np.sum`: The `np.sum` function calculates the sum of all elements in an array or along a specified axis.\n",
    "\n",
    "```python\n",
    "import numpy as np\n",
    "\n",
    "arr = np.array([[1, 2, 3], [4, 5, 6]])\n",
    "\n",
    "total_sum = np.sum(arr)\n",
    "row_sum = np.sum(arr, axis=1)\n",
    "\n",
    "print(total_sum)  # Output: 21\n",
    "print(row_sum)    # Output: [6 15]\n",
    "```\n",
    "\n",
    "2. `np.mean`: The `np.mean` function computes the arithmetic mean of elements in an array or along a specified axis.\n",
    "\n",
    "```python\n",
    "import numpy as np\n",
    "\n",
    "arr = np.array([[1, 2, 3], [4, 5, 6]])\n",
    "\n",
    "mean_value = np.mean(arr)\n",
    "row_mean = np.mean(arr, axis=1)\n",
    "\n",
    "print(mean_value)  # Output: 3.5\n",
    "print(row_mean)    # Output: [2. 5.]\n",
    "```\n",
    "\n",
    "3. `np.min`: The `np.min` function returns the minimum value from an array or along a specified axis.\n",
    "\n",
    "```python\n",
    "import numpy as np\n",
    "\n",
    "arr = np.array([[1, 2, 3], [4, 5, 6]])\n",
    "\n",
    "min_value = np.min(arr)\n",
    "row_min = np.min(arr, axis=1)\n",
    "\n",
    "print(min_value)  # Output: 1\n",
    "print(row_min)    # Output: [1 4]\n",
    "```\n",
    "\n",
    "4. `np.max`: The `np.max` function returns the maximum value from an array or along a specified axis.\n",
    "\n",
    "```python\n",
    "import numpy as np\n",
    "\n",
    "arr = np.array([[1, 2, 3], [4, 5, 6]])\n",
    "\n",
    "max_value = np.max(arr)\n",
    "row_max = np.max(arr, axis=1)\n",
    "\n",
    "print(max_value)  # Output: 6\n",
    "print(row_max)    # Output: [3 6]\n",
    "```\n",
    "\n",
    "5. `np.std`: The `np.std` function calculates the standard deviation of elements in an array or along a specified axis.\n",
    "\n",
    "```python\n",
    "import numpy as np\n",
    "\n",
    "arr = np.array([[1, 2, 3], [4, 5, 6]])\n",
    "\n",
    "std_value = np.std(arr)\n",
    "row_std = np.std(arr, axis=1)\n",
    "\n",
    "print(std_value)  # Output: 1.707825127659933\n",
    "print(row_std)    # Output: [0.81649658 0.81649658]\n",
    "```\n",
    "\n",
    "6. `np.var`: The `np.var` function computes the variance of elements in an array or along a specified axis.\n",
    "\n",
    "```python\n",
    "import numpy as np\n",
    "\n",
    "arr = np.array([[1, 2, 3], [4, 5, 6]])\n",
    "\n",
    "var_value = np.var(arr)\n",
    "row_var = np.var(arr, axis=1)\n",
    "\n",
    "print(var_value)  # Output: 2.9166666666666665\n",
    "print(row_var)    # Output: [0.66666667 0.66666667]\n",
    "```\n",
    "\n",
    "These functions are just a few examples of the many aggregation operations provided by NumPy. They are useful for analyzing and summarizing data in scientific and numerical computations."
   ]
  },
  {
   "cell_type": "code",
   "execution_count": 1,
   "id": "5c8f6b83-200c-43cc-9062-2f474ee1639b",
   "metadata": {},
   "outputs": [
    {
     "name": "stdout",
     "output_type": "stream",
     "text": [
      "21\n",
      "[ 6 15]\n"
     ]
    }
   ],
   "source": [
    "import numpy as np\n",
    "\n",
    "arr = np.array([[1, 2, 3], [4, 5, 6]])\n",
    "\n",
    "total_sum = np.sum(arr)\n",
    "row_sum = np.sum(arr, axis=1)\n",
    "\n",
    "print(total_sum)\n",
    "print(row_sum)"
   ]
  },
  {
   "cell_type": "code",
   "execution_count": 2,
   "id": "a9ca08ef-5c01-4996-b9e3-d36da8f7e5ec",
   "metadata": {},
   "outputs": [
    {
     "name": "stdout",
     "output_type": "stream",
     "text": [
      "3.5\n",
      "[2. 5.]\n"
     ]
    }
   ],
   "source": [
    "mean_value = np.mean(arr)\n",
    "row_mean = np.mean(arr, axis=1)\n",
    "\n",
    "print(mean_value)\n",
    "print(row_mean)"
   ]
  },
  {
   "cell_type": "code",
   "execution_count": 3,
   "id": "b8e769f9-6f7e-4dc2-ae51-0c817b80af70",
   "metadata": {},
   "outputs": [
    {
     "name": "stdout",
     "output_type": "stream",
     "text": [
      "6\n",
      "[3 6]\n"
     ]
    }
   ],
   "source": [
    "max_value = np.max(arr)\n",
    "row_max = np.max(arr, axis=1)\n",
    "\n",
    "print(max_value)\n",
    "print(row_max)"
   ]
  },
  {
   "cell_type": "code",
   "execution_count": 4,
   "id": "59547486-41e9-4aca-a891-54508061ce10",
   "metadata": {},
   "outputs": [
    {
     "name": "stdout",
     "output_type": "stream",
     "text": [
      "1.707825127659933\n",
      "[0.81649658 0.81649658]\n"
     ]
    }
   ],
   "source": [
    "std_value = np.std(arr)\n",
    "row_std = np.std(arr, axis=1)\n",
    "\n",
    "print(std_value)\n",
    "print(row_std)"
   ]
  },
  {
   "cell_type": "code",
   "execution_count": 5,
   "id": "7958efab-9677-44a4-8820-897dfc66d028",
   "metadata": {},
   "outputs": [
    {
     "name": "stdout",
     "output_type": "stream",
     "text": [
      "2.9166666666666665\n",
      "[0.66666667 0.66666667]\n"
     ]
    }
   ],
   "source": [
    "var_value = np.var(arr)\n",
    "row_var = np.var(arr, axis=1)\n",
    "\n",
    "print(var_value)\n",
    "print(row_var) "
   ]
  },
  {
   "cell_type": "markdown",
   "id": "dc6686b9-194c-451a-ae48-0752cd3e4ca9",
   "metadata": {},
   "source": [
    "### Trigonometric Functions\n",
    "\n",
    "The trigonometric functions in NumPy (`np.sin`, `np.cos`, `np.tan`, `np.arcsin`, `np.arccos`, `np.arctan`) can be applied to arrays:\n",
    "\n",
    "1. `np.sin`: When applied to an array, `np.sin` calculates the sine of each element in the array.\n",
    "\n",
    "Example:\n",
    "```python\n",
    "import numpy as np\n",
    "\n",
    "angles = np.array([0, np.pi/4, np.pi/2])  # Array of angles in radians\n",
    "\n",
    "sin_values = np.sin(angles)\n",
    "\n",
    "print(sin_values)\n",
    "```\n",
    "Output:\n",
    "```\n",
    "[0.         0.70710678 1.        ]\n",
    "```\n",
    "\n",
    "2. `np.cos`: When applied to an array, `np.cos` calculates the cosine of each element in the array.\n",
    "\n",
    "Example:\n",
    "```python\n",
    "import numpy as np\n",
    "\n",
    "angles = np.array([0, np.pi/4, np.pi/2])  # Array of angles in radians\n",
    "\n",
    "cos_values = np.cos(angles)\n",
    "\n",
    "print(cos_values)\n",
    "```\n",
    "Output:\n",
    "```\n",
    "[1.00000000e+00 7.07106781e-01 6.12323400e-17]\n",
    "```\n",
    "\n",
    "3. `np.tan`: When applied to an array, `np.tan` calculates the tangent of each element in the array.\n",
    "\n",
    "Example:\n",
    "```python\n",
    "import numpy as np\n",
    "\n",
    "angles = np.array([0, np.pi/4, np.pi/2])  # Array of angles in radians\n",
    "\n",
    "tan_values = np.tan(angles)\n",
    "\n",
    "print(tan_values)\n",
    "```\n",
    "Output:\n",
    "```\n",
    "[0.00000000e+00 1.00000000e+00 1.63312394e+16]\n",
    "```\n",
    "\n",
    "4. `np.arcsin`: When applied to an array, `np.arcsin` calculates the inverse sine of each element in the array and returns an array of corresponding angles in radians.\n",
    "\n",
    "Example:\n",
    "```python\n",
    "import numpy as np\n",
    "\n",
    "values = np.array([0, 0.5, 1])  # Array of values between -1 and 1\n",
    "\n",
    "angles = np.arcsin(values)\n",
    "\n",
    "print(angles)\n",
    "```\n",
    "Output:\n",
    "```\n",
    "[0.         0.52359878 1.57079633]\n",
    "```\n",
    "\n",
    "5. `np.arccos`: When applied to an array, `np.arccos` calculates the inverse cosine of each element in the array and returns an array of corresponding angles in radians.\n",
    "\n",
    "Example:\n",
    "```python\n",
    "import numpy as np\n",
    "\n",
    "values = np.array([1, 0.5, 0])  # Array of values between -1 and 1\n",
    "\n",
    "angles = np.arccos(values)\n",
    "\n",
    "print(angles)\n",
    "```\n",
    "Output:\n",
    "```\n",
    "[0.         1.04719755 1.57079633]\n",
    "```\n",
    "\n",
    "6. `np.arctan`: When applied to an array, `np.arctan` calculates the inverse tangent of each element in the array and returns an array of corresponding angles in radians.\n",
    "\n",
    "Example:\n",
    "```python\n",
    "import numpy as np\n",
    "\n",
    "values = np.array([0, 1, -1])  # Array of values\n",
    "\n",
    "angles = np.arctan(values)\n",
    "\n",
    "print(angles)\n",
    "```\n",
    "Output:\n",
    "```\n",
    "[ 0.          0.78539816 -0.78539816]\n",
    "```\n",
    "\n",
    "In each example, the trigonometric function is applied element-wise to the input array, and the resulting array contains the corresponding values or angles."
   ]
  },
  {
   "cell_type": "code",
   "execution_count": 6,
   "id": "06681ea1-7cd2-4b67-b1e2-ba275f606bc9",
   "metadata": {},
   "outputs": [
    {
     "data": {
      "text/plain": [
       "array([0.        , 0.70710678, 1.        ])"
      ]
     },
     "execution_count": 6,
     "metadata": {},
     "output_type": "execute_result"
    }
   ],
   "source": [
    "import numpy as np\n",
    "\n",
    "angles = np.array([0, np.pi/4, np.pi/2])  # Array of angles in radians\n",
    "\n",
    "np.sin(angles)"
   ]
  },
  {
   "cell_type": "code",
   "execution_count": 7,
   "id": "8ebcbe45-d38c-4cb8-961a-a37e711d75b9",
   "metadata": {},
   "outputs": [
    {
     "data": {
      "text/plain": [
       "array([1.00000000e+00, 7.07106781e-01, 6.12323400e-17])"
      ]
     },
     "execution_count": 7,
     "metadata": {},
     "output_type": "execute_result"
    }
   ],
   "source": [
    "np.cos(angles)"
   ]
  },
  {
   "cell_type": "code",
   "execution_count": 8,
   "id": "4a575606-330e-436b-be07-6c4a23fbaba3",
   "metadata": {},
   "outputs": [
    {
     "data": {
      "text/plain": [
       "array([0.00000000e+00, 1.00000000e+00, 1.63312394e+16])"
      ]
     },
     "execution_count": 8,
     "metadata": {},
     "output_type": "execute_result"
    }
   ],
   "source": [
    "np.tan(angles)"
   ]
  },
  {
   "cell_type": "code",
   "execution_count": 9,
   "id": "0a46e671-e871-4dc9-b1d3-a8deb8171fbd",
   "metadata": {},
   "outputs": [],
   "source": [
    "values = np.array([0, 0.5, 1])"
   ]
  },
  {
   "cell_type": "code",
   "execution_count": 10,
   "id": "2e1a9fcc-a506-4ba8-a3f0-c3091d59f2e1",
   "metadata": {},
   "outputs": [
    {
     "data": {
      "text/plain": [
       "array([0.        , 0.52359878, 1.57079633])"
      ]
     },
     "execution_count": 10,
     "metadata": {},
     "output_type": "execute_result"
    }
   ],
   "source": [
    "np.arcsin(values)"
   ]
  },
  {
   "cell_type": "code",
   "execution_count": 11,
   "id": "6abe4981-b02e-49c3-aa6d-8555507ff35f",
   "metadata": {},
   "outputs": [
    {
     "data": {
      "text/plain": [
       "array([1.57079633, 1.04719755, 0.        ])"
      ]
     },
     "execution_count": 11,
     "metadata": {},
     "output_type": "execute_result"
    }
   ],
   "source": [
    "np.arccos(values)"
   ]
  },
  {
   "cell_type": "code",
   "execution_count": 12,
   "id": "44f150ec-73dc-441f-98c3-e69800250b20",
   "metadata": {},
   "outputs": [
    {
     "data": {
      "text/plain": [
       "array([0.        , 0.46364761, 0.78539816])"
      ]
     },
     "execution_count": 12,
     "metadata": {},
     "output_type": "execute_result"
    }
   ],
   "source": [
    "np.arctan(values)"
   ]
  }
 ],
 "metadata": {
  "kernelspec": {
   "display_name": "Python 3 (ipykernel)",
   "language": "python",
   "name": "python3"
  },
  "language_info": {
   "codemirror_mode": {
    "name": "ipython",
    "version": 3
   },
   "file_extension": ".py",
   "mimetype": "text/x-python",
   "name": "python",
   "nbconvert_exporter": "python",
   "pygments_lexer": "ipython3",
   "version": "3.11.4"
  }
 },
 "nbformat": 4,
 "nbformat_minor": 5
}
