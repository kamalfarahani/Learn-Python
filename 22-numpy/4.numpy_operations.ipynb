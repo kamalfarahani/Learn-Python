{
 "cells": [
  {
   "cell_type": "markdown",
   "id": "7e6c5303-b52c-43ef-b21d-be8aefb3d933",
   "metadata": {},
   "source": [
    "## NumPy matrix operations\n",
    "\n",
    "NumPy provides several matrix operations that allow you to perform mathematical operations on matrices efficiently. Here are some commonly used NumPy matrix operations with examples:\n",
    "\n",
    "1. Matrix Multiplication: You can perform matrix multiplication using the `numpy.matmul` function or the `@` operator.\n",
    "```python\n",
    "import numpy as np\n",
    "\n",
    "A = np.array([[1, 2], [3, 4]])\n",
    "B = np.array([[5, 6], [7, 8]])\n",
    "\n",
    "C = np.matmul(A, B)        # Matrix multiplication using np.matmul()\n",
    "D = A @ B                  # Matrix multiplication using @ operator\n",
    "```\n",
    "The resulting matrix `C` and `D` will be:\n",
    "```python\n",
    "[[19 22]\n",
    " [43 50]]\n",
    "```\n",
    "\n",
    "2. Element-wise Matrix Operations: NumPy allows you to perform element-wise matrix operations such as addition, subtraction, multiplication, and division. These operations are performed on corresponding elements of the matrices.\n",
    "```python\n",
    "import numpy as np\n",
    "\n",
    "A = np.array([[1, 2], [3, 4]])\n",
    "B = np.array([[5, 6], [7, 8]])\n",
    "\n",
    "C = A + B                  # Element-wise addition\n",
    "D = A - B                  # Element-wise subtraction\n",
    "E = A * B                  # Element-wise multiplication\n",
    "F = A / B                  # Element-wise division\n",
    "```\n",
    "The resulting matrices `C`, `D`, `E`, and `F` will be:\n",
    "```python\n",
    "[[ 6  8]\n",
    " [10 12]]\n",
    "\n",
    "[[-4 -4]\n",
    " [-4 -4]]\n",
    "\n",
    "[[ 5 12]\n",
    " [21 32]]\n",
    "\n",
    "[[0.2        0.33333333]\n",
    " [0.42857143 0.5       ]]\n",
    "```\n",
    "\n",
    "3. Transpose: You can obtain the transpose of a matrix using the `numpy.transpose` function or the `.T` attribute.\n",
    "```python\n",
    "import numpy as np\n",
    "\n",
    "A = np.array([[1, 2], [3, 4]])\n",
    "\n",
    "B = np.transpose(A)       # Transpose using np.transpose()\n",
    "C = A.T                   # Transpose using .T attribute\n",
    "```\n",
    "The resulting matrices `B` and `C` will be:\n",
    "```python\n",
    "[[1 3]\n",
    " [2 4]]\n",
    "```\n",
    "\n",
    "4. Inverse: You can compute the inverse of a matrix using the `numpy.linalg.inv()` function.\n",
    "```python\n",
    "import numpy as np\n",
    "\n",
    "A = np.array([[1, 2], [3, 4]])\n",
    "\n",
    "B = np.linalg.inv(A)      # Compute the inverse of A\n",
    "```\n",
    "The resulting matrix `B` will be:\n",
    "```python\n",
    "[[-2.   1. ]\n",
    " [ 1.5 -0.5]]\n",
    "```\n",
    "\n",
    "5. Determinant: You can compute the determinant of a matrix using the `numpy.linalg.det()` function.\n",
    "```python\n",
    "import numpy as np\n",
    "\n",
    "A = np.array([[1, 2], [3, 4]])\n",
    "\n",
    "det = np.linalg.det(A)    # Compute the determinant of A\n",
    "```\n",
    "The resulting determinant value will be:\n",
    "```python\n",
    "-2.0\n",
    "```\n",
    "\n",
    "These are just a few examples of the many matrix operations that NumPy provides. NumPy's matrix operations enable efficient computation and manipulation of matrices in various scientific and numerical applications."
   ]
  },
  {
   "cell_type": "markdown",
   "id": "c5ba7d2a-4bef-4e1d-b759-3acad8b56ad8",
   "metadata": {},
   "source": [
    "### Matrix Multiplication\n",
    "\n",
    "Matrix multiplication in NumPy is performed using the `numpy.matmul` function or the `@` operator.\n",
    "\n",
    "The `numpy.matmul` function takes two arrays as input and returns their matrix product. It follows the rules of matrix multiplication, where the number of columns in the first matrix must be equal to the number of rows in the second matrix.\n",
    "\n",
    "Here's an example of matrix multiplication using `numpy.matmul`:\n",
    "\n",
    "```python\n",
    "import numpy as np\n",
    "\n",
    "A = np.array([[1, 2, 3],\n",
    "              [4, 5, 6]])\n",
    "\n",
    "B = np.array([[7, 8],\n",
    "              [9, 10],\n",
    "              [11, 12]])\n",
    "\n",
    "C = np.matmul(A, B)\n",
    "```\n",
    "\n",
    "The resulting matrix `C` will be:\n",
    "\n",
    "```python\n",
    "[[ 58  64]\n",
    " [139 154]]\n",
    "```\n",
    "\n",
    "Alternatively, you can use the `@` operator for matrix multiplication in NumPy, which provides a more concise way of performing the operation:\n",
    "\n",
    "```python\n",
    "C = A @ B\n",
    "```\n",
    "\n",
    "The result will be the same as the previous example.\n",
    "\n",
    "It's important to note that matrix multiplication is different from element-wise multiplication (`*`). Matrix multiplication follows specific rules for calculating the resulting matrix dimensions and element values based on the corresponding elements of the input matrices.\n",
    "\n",
    "Matrix multiplication is a fundamental operation in linear algebra and is widely used in various scientific and mathematical computations, including solving systems of linear equations, transforming coordinates, and performing data transformations in machine learning."
   ]
  },
  {
   "cell_type": "code",
   "execution_count": 3,
   "id": "c5a96edb-18ac-4791-99fd-2142ec5fede8",
   "metadata": {},
   "outputs": [
    {
     "data": {
      "text/plain": [
       "array([[ 58,  64],\n",
       "       [139, 154]])"
      ]
     },
     "execution_count": 3,
     "metadata": {},
     "output_type": "execute_result"
    }
   ],
   "source": [
    "import numpy as np\n",
    "\n",
    "A = np.array([[1, 2, 3],\n",
    "              [4, 5, 6]])\n",
    "\n",
    "B = np.array([[7, 8],\n",
    "              [9, 10],\n",
    "              [11, 12]])\n",
    "\n",
    "C = np.matmul(A, B)\n",
    "\n",
    "C"
   ]
  },
  {
   "cell_type": "code",
   "execution_count": 2,
   "id": "20709004-9094-4b9a-9594-a997620509d0",
   "metadata": {},
   "outputs": [
    {
     "data": {
      "text/plain": [
       "array([[ 58,  64],\n",
       "       [139, 154]])"
      ]
     },
     "execution_count": 2,
     "metadata": {},
     "output_type": "execute_result"
    }
   ],
   "source": [
    "A @ B"
   ]
  }
 ],
 "metadata": {
  "kernelspec": {
   "display_name": "Python 3 (ipykernel)",
   "language": "python",
   "name": "python3"
  },
  "language_info": {
   "codemirror_mode": {
    "name": "ipython",
    "version": 3
   },
   "file_extension": ".py",
   "mimetype": "text/x-python",
   "name": "python",
   "nbconvert_exporter": "python",
   "pygments_lexer": "ipython3",
   "version": "3.11.4"
  }
 },
 "nbformat": 4,
 "nbformat_minor": 5
}
