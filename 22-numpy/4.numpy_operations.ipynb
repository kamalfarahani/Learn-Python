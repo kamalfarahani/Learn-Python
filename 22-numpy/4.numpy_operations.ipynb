{
 "cells": [
  {
   "cell_type": "markdown",
   "id": "7e6c5303-b52c-43ef-b21d-be8aefb3d933",
   "metadata": {},
   "source": [
    "## NumPy matrix operations\n",
    "\n",
    "NumPy provides several matrix operations that allow you to perform mathematical operations on matrices efficiently. Here are some commonly used NumPy matrix operations with examples:\n",
    "\n",
    "1. **Matrix Multiplication:** You can perform matrix multiplication using the `numpy.matmul` function or the `@` operator.\n",
    "```python\n",
    "import numpy as np\n",
    "\n",
    "A = np.array([[1, 2], [3, 4]])\n",
    "B = np.array([[5, 6], [7, 8]])\n",
    "\n",
    "C = np.matmul(A, B)        # Matrix multiplication using np.matmul()\n",
    "D = A @ B                  # Matrix multiplication using @ operator\n",
    "```\n",
    "The resulting matrix `C` and `D` will be:\n",
    "```python\n",
    "[[19 22]\n",
    " [43 50]]\n",
    "```\n",
    "\n",
    "2. **Element-wise Matrix Operations:** NumPy allows you to perform element-wise matrix operations such as addition, subtraction, multiplication, and division. These operations are performed on corresponding elements of the matrices.\n",
    "```python\n",
    "import numpy as np\n",
    "\n",
    "A = np.array([[1, 2], [3, 4]])\n",
    "B = np.array([[5, 6], [7, 8]])\n",
    "\n",
    "C = A + B                  # Element-wise addition\n",
    "D = A - B                  # Element-wise subtraction\n",
    "E = A * B                  # Element-wise multiplication\n",
    "F = A / B                  # Element-wise division\n",
    "```\n",
    "The resulting matrices `C`, `D`, `E`, and `F` will be:\n",
    "```python\n",
    "[[ 6  8]\n",
    " [10 12]]\n",
    "\n",
    "[[-4 -4]\n",
    " [-4 -4]]\n",
    "\n",
    "[[ 5 12]\n",
    " [21 32]]\n",
    "\n",
    "[[0.2        0.33333333]\n",
    " [0.42857143 0.5       ]]\n",
    "```\n",
    "\n",
    "3. **Transpose:** You can obtain the transpose of a matrix using the `numpy.transpose` function or the `.T` attribute.\n",
    "```python\n",
    "import numpy as np\n",
    "\n",
    "A = np.array([[1, 2], [3, 4]])\n",
    "\n",
    "B = np.transpose(A)       # Transpose using np.transpose()\n",
    "C = A.T                   # Transpose using .T attribute\n",
    "```\n",
    "The resulting matrices `B` and `C` will be:\n",
    "```python\n",
    "[[1 3]\n",
    " [2 4]]\n",
    "```\n",
    "\n",
    "4. **Inverse:** You can compute the inverse of a matrix using the `numpy.linalg.inv()` function.\n",
    "```python\n",
    "import numpy as np\n",
    "\n",
    "A = np.array([[1, 2], [3, 4]])\n",
    "\n",
    "B = np.linalg.inv(A)      # Compute the inverse of A\n",
    "```\n",
    "The resulting matrix `B` will be:\n",
    "```python\n",
    "[[-2.   1. ]\n",
    " [ 1.5 -0.5]]\n",
    "```\n",
    "\n",
    "5. **Determinant:** You can compute the determinant of a matrix using the `numpy.linalg.det()` function.\n",
    "```python\n",
    "import numpy as np\n",
    "\n",
    "A = np.array([[1, 2], [3, 4]])\n",
    "\n",
    "det = np.linalg.det(A)    # Compute the determinant of A\n",
    "```\n",
    "The resulting determinant value will be:\n",
    "```python\n",
    "-2.0\n",
    "```\n",
    "\n",
    "These are just a few examples of the many matrix operations that NumPy provides. NumPy's matrix operations enable efficient computation and manipulation of matrices in various scientific and numerical applications."
   ]
  },
  {
   "cell_type": "markdown",
   "id": "c5ba7d2a-4bef-4e1d-b759-3acad8b56ad8",
   "metadata": {},
   "source": [
    "### Matrix Multiplication\n",
    "\n",
    "Matrix multiplication in NumPy is performed using the `numpy.matmul` function or the `@` operator.\n",
    "\n",
    "The `numpy.matmul` function takes two arrays as input and returns their matrix product. It follows the rules of matrix multiplication, where the number of columns in the first matrix must be equal to the number of rows in the second matrix.\n",
    "\n",
    "Here's an example of matrix multiplication using `numpy.matmul`:\n",
    "\n",
    "```python\n",
    "import numpy as np\n",
    "\n",
    "A = np.array([[1, 2, 3],\n",
    "              [4, 5, 6]])\n",
    "\n",
    "B = np.array([[7, 8],\n",
    "              [9, 10],\n",
    "              [11, 12]])\n",
    "\n",
    "C = np.matmul(A, B)\n",
    "```\n",
    "\n",
    "The resulting matrix `C` will be:\n",
    "\n",
    "```python\n",
    "[[ 58  64]\n",
    " [139 154]]\n",
    "```\n",
    "\n",
    "Alternatively, you can use the `@` operator for matrix multiplication in NumPy, which provides a more concise way of performing the operation:\n",
    "\n",
    "```python\n",
    "C = A @ B\n",
    "```\n",
    "\n",
    "The result will be the same as the previous example.\n",
    "\n",
    "It's important to note that matrix multiplication is different from element-wise multiplication (`*`). Matrix multiplication follows specific rules for calculating the resulting matrix dimensions and element values based on the corresponding elements of the input matrices.\n",
    "\n",
    "Matrix multiplication is a fundamental operation in linear algebra and is widely used in various scientific and mathematical computations, including solving systems of linear equations, transforming coordinates, and performing data transformations in machine learning."
   ]
  },
  {
   "cell_type": "code",
   "execution_count": 3,
   "id": "c5a96edb-18ac-4791-99fd-2142ec5fede8",
   "metadata": {},
   "outputs": [
    {
     "data": {
      "text/plain": [
       "array([[ 58,  64],\n",
       "       [139, 154]])"
      ]
     },
     "execution_count": 3,
     "metadata": {},
     "output_type": "execute_result"
    }
   ],
   "source": [
    "import numpy as np\n",
    "\n",
    "A = np.array([[1, 2, 3],\n",
    "              [4, 5, 6]])\n",
    "\n",
    "B = np.array([[7, 8],\n",
    "              [9, 10],\n",
    "              [11, 12]])\n",
    "\n",
    "C = np.matmul(A, B)\n",
    "\n",
    "C"
   ]
  },
  {
   "cell_type": "code",
   "execution_count": 2,
   "id": "20709004-9094-4b9a-9594-a997620509d0",
   "metadata": {},
   "outputs": [
    {
     "data": {
      "text/plain": [
       "array([[ 58,  64],\n",
       "       [139, 154]])"
      ]
     },
     "execution_count": 2,
     "metadata": {},
     "output_type": "execute_result"
    }
   ],
   "source": [
    "A @ B"
   ]
  },
  {
   "cell_type": "markdown",
   "id": "eeca4742-a00c-46e7-b5a6-47450d31b680",
   "metadata": {},
   "source": [
    "### Element-wise Matrix Operations\n",
    "\n",
    "Element-wise matrix operations in NumPy refer to performing operations on corresponding elements of two or more matrices. In other words, the operation is applied independently to each element, pairing the elements with the same indices. This behavior is also known as element-wise broadcasting.\n",
    "\n",
    "NumPy provides a wide range of mathematical functions and operators that can be applied element-wise to matrices. Some common element-wise operations include addition, subtraction, multiplication, division, exponentiation, and comparison.\n",
    "\n",
    "Here's an example to illustrate element-wise operations in NumPy:\n",
    "\n",
    "```python\n",
    "import numpy as np\n",
    "\n",
    "# Create two matrices\n",
    "A = np.array([[1, 2], [3, 4]])\n",
    "B = np.array([[5, 6], [7, 8]])\n",
    "\n",
    "# Element-wise addition\n",
    "C = A + B\n",
    "# C = [[1+5, 2+6],\n",
    "#      [3+7, 4+8]]\n",
    "# C = [[6, 8],\n",
    "#      [10, 12]]\n",
    "\n",
    "# Element-wise subtraction\n",
    "D = A - B\n",
    "# D = [[1-5, 2-6],\n",
    "#      [3-7, 4-8]]\n",
    "# D = [[-4, -4],\n",
    "#      [-4, -4]]\n",
    "\n",
    "# Element-wise multiplication\n",
    "E = A * B\n",
    "# E = [[1*5, 2*6],\n",
    "#      [3*7, 4*8]]\n",
    "# E = [[5, 12],\n",
    "#      [21, 32]]\n",
    "\n",
    "# Element-wise division\n",
    "F = A / B\n",
    "# F = [[1/5, 2/6],\n",
    "#      [3/7, 4/8]]\n",
    "# F = [[0.2, 0.333],\n",
    "#      [0.428, 0.5]]\n",
    "\n",
    "# Element-wise exponentiation\n",
    "G = A ** B\n",
    "# G = [[1^5, 2^6],\n",
    "#      [3^7, 4^8]]\n",
    "# G = [[1, 64],\n",
    "#      [2187, 65536]]\n",
    "\n",
    "# Element-wise comparison\n",
    "H = A > B\n",
    "# H = [[1>5, 2>6],\n",
    "#      [3>7, 4>8]]\n",
    "# H = [[False, False],\n",
    "#      [False, False]]\n",
    "```\n",
    "\n",
    "In the above example, each operation is performed element-wise on the corresponding elements of matrices A and B, resulting in a new matrix with the same shape as the input matrices.\n",
    "\n",
    "Element-wise operations are a fundamental feature of NumPy and are particularly useful when working with large arrays or matrices, as they allow for efficient computation without the need for explicit loops."
   ]
  },
  {
   "cell_type": "code",
   "execution_count": 1,
   "id": "4f9c3201-1f41-4a0e-b062-229a78fc6c5e",
   "metadata": {},
   "outputs": [],
   "source": [
    "import numpy as np\n",
    "\n",
    "A = np.array([[1, 2], [3, 4]])\n",
    "B = np.array([[5, 6], [7, 8]])"
   ]
  },
  {
   "cell_type": "code",
   "execution_count": 2,
   "id": "bd58002c-c730-4cc4-b887-c0132190812e",
   "metadata": {},
   "outputs": [
    {
     "data": {
      "text/plain": [
       "array([[ 6,  8],\n",
       "       [10, 12]])"
      ]
     },
     "execution_count": 2,
     "metadata": {},
     "output_type": "execute_result"
    }
   ],
   "source": [
    "C = A + B\n",
    "C"
   ]
  },
  {
   "cell_type": "code",
   "execution_count": 3,
   "id": "a32c95ff-3802-4ecc-a86c-3888e59233de",
   "metadata": {},
   "outputs": [
    {
     "data": {
      "text/plain": [
       "array([[-4, -4],\n",
       "       [-4, -4]])"
      ]
     },
     "execution_count": 3,
     "metadata": {},
     "output_type": "execute_result"
    }
   ],
   "source": [
    "D = A - B\n",
    "D"
   ]
  },
  {
   "cell_type": "code",
   "execution_count": 5,
   "id": "1faff4dc-00d6-4c33-85f0-e6385b814b56",
   "metadata": {},
   "outputs": [
    {
     "data": {
      "text/plain": [
       "array([[ 5, 12],\n",
       "       [21, 32]])"
      ]
     },
     "execution_count": 5,
     "metadata": {},
     "output_type": "execute_result"
    }
   ],
   "source": [
    "E = A * B\n",
    "E"
   ]
  },
  {
   "cell_type": "code",
   "execution_count": 6,
   "id": "12cf118a-5871-4eb2-a757-b45671bd6303",
   "metadata": {},
   "outputs": [
    {
     "data": {
      "text/plain": [
       "array([[0.2       , 0.33333333],\n",
       "       [0.42857143, 0.5       ]])"
      ]
     },
     "execution_count": 6,
     "metadata": {},
     "output_type": "execute_result"
    }
   ],
   "source": [
    "F = A / B\n",
    "F"
   ]
  },
  {
   "cell_type": "code",
   "execution_count": 7,
   "id": "5c3d97e9-8359-42d5-adad-c81582af28a2",
   "metadata": {},
   "outputs": [
    {
     "data": {
      "text/plain": [
       "array([[    1,    64],\n",
       "       [ 2187, 65536]])"
      ]
     },
     "execution_count": 7,
     "metadata": {},
     "output_type": "execute_result"
    }
   ],
   "source": [
    "G = A ** B\n",
    "G"
   ]
  },
  {
   "cell_type": "code",
   "execution_count": 8,
   "id": "ce1796b9-3b4e-4520-9bbd-a488b7412791",
   "metadata": {},
   "outputs": [
    {
     "data": {
      "text/plain": [
       "array([[False, False],\n",
       "       [False, False]])"
      ]
     },
     "execution_count": 8,
     "metadata": {},
     "output_type": "execute_result"
    }
   ],
   "source": [
    "H = A > B\n",
    "H"
   ]
  },
  {
   "cell_type": "markdown",
   "id": "2de673af-f57a-4927-849f-6ac187da3850",
   "metadata": {},
   "source": [
    "### Transpose\n",
    "\n",
    "Matrix transpose is an operation that flips a matrix over its diagonal, resulting in a new matrix where the rows of the original matrix become the columns and vice versa. In other words, if A is an m x n matrix, then the transpose of A, denoted as A^T, is an n x m matrix.\n",
    "\n",
    "The transpose operation is often used in linear algebra and matrix computations. It can be helpful for various purposes such as solving systems of linear equations, performing matrix operations, and representing data in a different format.\n",
    "\n",
    "In NumPy, the transpose of a matrix can be obtained using the `.T` attribute or the `numpy.transpose()` function. Here's an example:\n",
    "\n",
    "```python\n",
    "import numpy as np\n",
    "\n",
    "# Create a matrix\n",
    "A = np.array([[1, 2, 3], [4, 5, 6]])\n",
    "\n",
    "# Get the transpose using .T attribute\n",
    "A_transpose = A.T\n",
    "\n",
    "# Get the transpose using numpy.transpose() function\n",
    "A_transpose = np.transpose(A)\n",
    "\n",
    "print(\"Original matrix:\")\n",
    "print(A)\n",
    "print(\"Transpose matrix:\")\n",
    "print(A_transpose)\n",
    "```\n",
    "\n",
    "Output:\n",
    "```python\n",
    "Original matrix:\n",
    "[[1 2 3]\n",
    " [4 5 6]]\n",
    "\n",
    "Transpose matrix:\n",
    "[[1 4]\n",
    " [2 5]\n",
    " [3 6]]\n",
    "```\n",
    "\n",
    "In the above example, we create a 2x3 matrix `A`. The transpose of `A` is obtained using both the `.T` attribute and the `numpy.transpose()` function, and the result is stored in the variable `A_transpose`. Finally, we print the original matrix and its transpose.\n",
    "\n",
    "Both methods produce the same result, which is the transpose of the original matrix `A`. The rows of the original matrix become the columns in the transpose, and the columns become the rows. So, the original matrix has dimensions 2x3, and its transpose has dimensions 3x2."
   ]
  },
  {
   "cell_type": "code",
   "execution_count": 9,
   "id": "a089e26c-ea15-47f9-acc2-0b24c6515fad",
   "metadata": {},
   "outputs": [
    {
     "data": {
      "text/plain": [
       "array([[1, 4],\n",
       "       [2, 5],\n",
       "       [3, 6]])"
      ]
     },
     "execution_count": 9,
     "metadata": {},
     "output_type": "execute_result"
    }
   ],
   "source": [
    "import numpy as np\n",
    "\n",
    "A = np.array([[1, 2, 3], [4, 5, 6]])\n",
    "\n",
    "A.T"
   ]
  },
  {
   "cell_type": "code",
   "execution_count": 10,
   "id": "47232898-96f7-4b2a-84cc-93f8f1db93c8",
   "metadata": {},
   "outputs": [
    {
     "data": {
      "text/plain": [
       "array([[1, 4],\n",
       "       [2, 5],\n",
       "       [3, 6]])"
      ]
     },
     "execution_count": 10,
     "metadata": {},
     "output_type": "execute_result"
    }
   ],
   "source": [
    "np.transpose(A)"
   ]
  },
  {
   "cell_type": "markdown",
   "id": "58884730-69ae-4dcf-9f8c-d79b68776bf8",
   "metadata": {},
   "source": [
    "### Inverse\n",
    "\n",
    "In linear algebra, the inverse of a square matrix $A$ is a matrix denoted as $A^{-1}$, such that when $A$ is multiplied by its inverse, the result is the identity matrix (denoted as $I$). In other words, if $A$ is an $n \\times n$ matrix and $A^{-1}$ is its inverse, then $A^{-1}$ satisfies the equation $A^{-1} \\times A = A \\times A^{-1} = I$.\n",
    "\n",
    "The concept of matrix inverse is useful in many areas of mathematics and engineering, including solving systems of linear equations, computing determinants, and performing transformations. However, not all matrices have inverses. Only square matrices that are non-singular (also called invertible or non-degenerate) have inverses.\n",
    "\n",
    "In NumPy, you can compute the inverse of a matrix using the `numpy.linalg.inv()` function. Here's an example:\n",
    "\n",
    "```python\n",
    "import numpy as np\n",
    "\n",
    "# Create a square matrix\n",
    "A = np.array([[1, 2], [3, 4]])\n",
    "\n",
    "# Compute the inverse\n",
    "A_inv = np.linalg.inv(A)\n",
    "\n",
    "print(\"Original matrix:\")\n",
    "print(A)\n",
    "print(\"Inverse matrix:\")\n",
    "print(A_inv)\n",
    "```\n",
    "\n",
    "Output:\n",
    "```python\n",
    "Original matrix:\n",
    "[[1 2]\n",
    " [3 4]]\n",
    " \n",
    "Inverse matrix:\n",
    "[[-2.   1. ]\n",
    " [ 1.5 -0.5]]\n",
    "```\n",
    "\n",
    "In the above example, we create a $2 \\times 2$ square matrix `A`. The inverse of `A` is computed using the `numpy.linalg.inv()` function, and the result is stored in the variable `A_inv`. Finally, we print the original matrix and its inverse.\n",
    "\n",
    "The computed inverse matrix `A_inv` satisfies the property that `A * A_inv` (or `A_inv * A`) is approximately equal to the identity matrix `I`. Due to numerical precision, the inverse may contain small floating-point errors.\n",
    "\n",
    "It's important to note that not all matrices have inverses. If a matrix is singular (i.e., its determinant is zero), it does not have an inverse. In such cases, attempting to compute the inverse using `numpy.linalg.inv()` will raise a `LinAlgError`."
   ]
  },
  {
   "cell_type": "code",
   "execution_count": 11,
   "id": "22ece6f0-acab-473d-ae35-3ff42ff9c97c",
   "metadata": {},
   "outputs": [
    {
     "name": "stdout",
     "output_type": "stream",
     "text": [
      "Original matrix:\n",
      "[[1 2]\n",
      " [3 4]]\n",
      "Inverse matrix:\n",
      "[[-2.   1. ]\n",
      " [ 1.5 -0.5]]\n"
     ]
    }
   ],
   "source": [
    "import numpy as np\n",
    "\n",
    "A = np.array([[1, 2], [3, 4]])\n",
    "\n",
    "A_inv = np.linalg.inv(A)\n",
    "\n",
    "print(\"Original matrix:\")\n",
    "print(A)\n",
    "print(\"Inverse matrix:\")\n",
    "print(A_inv)"
   ]
  },
  {
   "cell_type": "code",
   "execution_count": 12,
   "id": "ef91ba64-09e0-4f8a-9ecb-df1938dfcb05",
   "metadata": {},
   "outputs": [
    {
     "data": {
      "text/plain": [
       "array([[1.00000000e+00, 1.11022302e-16],\n",
       "       [0.00000000e+00, 1.00000000e+00]])"
      ]
     },
     "execution_count": 12,
     "metadata": {},
     "output_type": "execute_result"
    }
   ],
   "source": [
    "A @ A_inv"
   ]
  },
  {
   "cell_type": "markdown",
   "id": "36dbf065-df26-4f13-86d6-eb7e29234435",
   "metadata": {},
   "source": [
    "> **Note that due to some computational instability the result of `A @ A_inv` is not exactly identity matrix but is very close to it**"
   ]
  },
  {
   "cell_type": "markdown",
   "id": "6dca5b9f-c864-411f-b49a-36ebb26cd5e8",
   "metadata": {},
   "source": [
    "### Determinant\n",
    "\n",
    "In linear algebra, the determinant of a square matrix is a scalar value that provides important information about the properties of the matrix. The determinant is denoted as $det(A)$ or $|A|$, where $A$ is the matrix.\n",
    "\n",
    "The determinant is a useful quantity in various areas of mathematics and engineering. It has applications in solving systems of linear equations, computing matrix inverses, analyzing transformations, and determining the linear independence of vectors.\n",
    "\n",
    "In NumPy, you can compute the determinant of a matrix using the `numpy.linalg.det()` function. Here's an example:\n",
    "\n",
    "```python\n",
    "import numpy as np\n",
    "\n",
    "# Create a square matrix\n",
    "A = np.array([[1, 2], [3, 4]])\n",
    "\n",
    "# Compute the determinant\n",
    "det_A = np.linalg.det(A)\n",
    "\n",
    "print(\"Matrix:\")\n",
    "print(A)\n",
    "print(\"Determinant:\", det_A)\n",
    "```\n",
    "\n",
    "Output:\n",
    "```\n",
    "Matrix:\n",
    "[[1 2]\n",
    " [3 4]]\n",
    "Determinant: -2.0\n",
    "```\n",
    "\n",
    "In the above example, we create a 2x2 matrix `A`. The determinant of `A` is computed using the `numpy.linalg.det()` function, and the result is stored in the variable `det_A`. Finally, we print the original matrix and its determinant.\n",
    "\n",
    "The computed determinant value provides information about the matrix. For example, if the determinant is zero, the matrix is singular and does not have an inverse. If the determinant is non-zero, the matrix is non-singular and has an inverse. Additionally, the magnitude of the determinant can indicate the scaling factor of the matrix transformation."
   ]
  },
  {
   "cell_type": "code",
   "execution_count": 13,
   "id": "ea391e7e-e044-4ed0-9f82-1a87215a7fe7",
   "metadata": {},
   "outputs": [
    {
     "name": "stdout",
     "output_type": "stream",
     "text": [
      "Matrix:\n",
      "[[1 2]\n",
      " [3 4]]\n",
      "Determinant: -2.0000000000000004\n"
     ]
    }
   ],
   "source": [
    "import numpy as np\n",
    "\n",
    "# Create a square matrix\n",
    "A = np.array([[1, 2], [3, 4]])\n",
    "\n",
    "# Compute the determinant\n",
    "det_A = np.linalg.det(A)\n",
    "\n",
    "print(\"Matrix:\")\n",
    "print(A)\n",
    "print(\"Determinant:\", det_A)"
   ]
  }
 ],
 "metadata": {
  "kernelspec": {
   "display_name": "Python 3 (ipykernel)",
   "language": "python",
   "name": "python3"
  },
  "language_info": {
   "codemirror_mode": {
    "name": "ipython",
    "version": 3
   },
   "file_extension": ".py",
   "mimetype": "text/x-python",
   "name": "python",
   "nbconvert_exporter": "python",
   "pygments_lexer": "ipython3",
   "version": "3.11.4"
  }
 },
 "nbformat": 4,
 "nbformat_minor": 5
}
