{
 "cells": [
  {
   "cell_type": "markdown",
   "id": "b100f8cf-ec0a-4ac3-8283-39a1c7fc71ab",
   "metadata": {},
   "source": [
    "## Reshaping\n",
    "\n",
    "In NumPy, reshaping refers to changing the shape of an array without changing its data. Reshaping allows you to convert an array from one dimension to another, such as converting a 1D array to a 2D array or vice versa. NumPy provides the `reshape` function to perform this operation.\n",
    "\n",
    "The `reshape` function in NumPy takes the desired shape as an argument and returns a new array with the specified shape. It is important to note that the total number of elements in the original array must be equal to the total number of elements in the reshaped array.\n",
    "\n",
    "Here's an example to illustrate reshaping:\n",
    "\n",
    "```python\n",
    "import numpy as np\n",
    "\n",
    "# Create a 1D array\n",
    "array1 = np.array([1, 2, 3, 4, 5, 6])\n",
    "\n",
    "# Reshape the array to a 2D array with 2 rows and 3 columns\n",
    "array2 = array1.reshape(2, 3)\n",
    "\n",
    "print(\"Original array:\")\n",
    "print(array1)\n",
    "\n",
    "print(\"Reshaped array:\")\n",
    "print(array2)\n",
    "```\n",
    "\n",
    "Output:\n",
    "```\n",
    "Original array:\n",
    "[1 2 3 4 5 6]\n",
    "Reshaped array:\n",
    "[[1 2 3]\n",
    " [4 5 6]]\n",
    "```\n",
    "\n",
    "In this example, the `reshape` function is used to convert the 1D array `array1` to a 2D array `array2` with 2 rows and 3 columns.\n",
    "\n",
    "Important notes about reshaping in NumPy:\n",
    "\n",
    "1. The reshaped array shares the same underlying data buffer with the original array. This means that modifying one array will also affect the other.\n",
    "\n",
    "2. The `reshape` function returns a new view of the original array whenever possible. However, if the requested shape is not compatible with the original shape, a new copy of the data will be created.\n",
    "\n",
    "3. When reshaping an array, the total number of elements in the original array must be equal to the total number of elements in the reshaped array. Otherwise, a `ValueError` will be raised.\n",
    "\n",
    "4. You can use `-1` as one of the dimensions in the shape argument of `reshape` to automatically compute the correct size for that dimension based on the other dimensions and the total number of elements.\n",
    "\n",
    "5. Reshaping can be performed on arrays of any dimension, not just 1D to 2D or vice versa. For example, you can reshape a 2D array into a 3D array or reshape a 3D array into a 1D array, as long as the total number of elements remains the same.\n",
    "\n",
    "Reshaping is a powerful operation in NumPy that allows you to transform arrays to match the desired shape for various computations and analyses."
   ]
  },
  {
   "cell_type": "code",
   "execution_count": 2,
   "id": "ecc6803f-85e7-4921-9a3b-3dec4fa69060",
   "metadata": {},
   "outputs": [
    {
     "name": "stdout",
     "output_type": "stream",
     "text": [
      "Original array:\n",
      "[1 2 3 4 5 6]\n",
      "Reshaped array:\n",
      "[[1 2 3]\n",
      " [4 5 6]]\n"
     ]
    }
   ],
   "source": [
    "import numpy as np\n",
    "\n",
    "array_1 = np.array([1, 2, 3, 4, 5, 6])\n",
    "\n",
    "array_2 = array_1.reshape(2, 3)\n",
    "\n",
    "print(\"Original array:\")\n",
    "print(array_1)\n",
    "\n",
    "print(\"Reshaped array:\")\n",
    "print(array_2)"
   ]
  },
  {
   "cell_type": "markdown",
   "id": "40f91567-de04-4971-a4f6-996372e2391b",
   "metadata": {},
   "source": [
    "> **Note that mutating the reshaped array mutates the original array as well**"
   ]
  },
  {
   "cell_type": "code",
   "execution_count": 3,
   "id": "d59e3268-7ce6-42ac-b16c-bf735c427944",
   "metadata": {},
   "outputs": [],
   "source": [
    "array_2[0, 0] = 100"
   ]
  },
  {
   "cell_type": "code",
   "execution_count": 4,
   "id": "9bb24e92-5149-4682-8ee0-61254c7a91c5",
   "metadata": {},
   "outputs": [
    {
     "data": {
      "text/plain": [
       "array([100,   2,   3,   4,   5,   6])"
      ]
     },
     "execution_count": 4,
     "metadata": {},
     "output_type": "execute_result"
    }
   ],
   "source": [
    "array_1"
   ]
  }
 ],
 "metadata": {
  "kernelspec": {
   "display_name": "Python 3 (ipykernel)",
   "language": "python",
   "name": "python3"
  },
  "language_info": {
   "codemirror_mode": {
    "name": "ipython",
    "version": 3
   },
   "file_extension": ".py",
   "mimetype": "text/x-python",
   "name": "python",
   "nbconvert_exporter": "python",
   "pygments_lexer": "ipython3",
   "version": "3.11.4"
  }
 },
 "nbformat": 4,
 "nbformat_minor": 5
}
