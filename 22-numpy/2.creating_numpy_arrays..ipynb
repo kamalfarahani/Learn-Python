{
 "cells": [
  {
   "cell_type": "markdown",
   "id": "2fb72915-4246-4f35-8ed7-47ca1c8c30ca",
   "metadata": {},
   "source": [
    "## Creating and using numpy arrays\n",
    "\n",
    "Here are several ways to create NumPy arrays:\n",
    "\n",
    "1. **Using `np.array`:** You can create a NumPy array from a Python list or tuple using the `np.array()` function.\n",
    "\n",
    "```python\n",
    "import numpy as np\n",
    "\n",
    "# Create a 1-dimensional array from a list\n",
    "arr1 = np.array([1, 2, 3, 4, 5])\n",
    "print(arr1)  # Output: [1 2 3 4 5]\n",
    "\n",
    "# Create a 2-dimensional array from a nested list\n",
    "arr2 = np.array([[1, 2, 3], [4, 5, 6]])\n",
    "print(arr2)\n",
    "# Output:\n",
    "# [[1 2 3]\n",
    "#  [4 5 6]]\n",
    "```\n",
    "\n",
    "2. **Using `np.zeros`:** You can create an array filled with zeros using the `np.zeros` function. Specify the shape of the array as a tuple or an integer value.\n",
    "\n",
    "```python\n",
    "import numpy as np\n",
    "\n",
    "# Create a 1-dimensional array of length 5 filled with zeros\n",
    "arr1 = np.zeros(5)\n",
    "print(arr1)  # Output: [0. 0. 0. 0. 0.]\n",
    "\n",
    "# Create a 2-dimensional array of shape (3, 4) filled with zeros\n",
    "arr2 = np.zeros((3, 4))\n",
    "print(arr2)\n",
    "# Output:\n",
    "# [[0. 0. 0. 0.]\n",
    "#  [0. 0. 0. 0.]\n",
    "#  [0. 0. 0. 0.]]\n",
    "```\n",
    "\n",
    "3. **Using `np.ones`:** You can create an array filled with ones using the `np.ones` function. It takes the same arguments as `np.zeros`.\n",
    "\n",
    "```python\n",
    "import numpy as np\n",
    "\n",
    "# Create a 1-dimensional array of length 3 filled with ones\n",
    "arr1 = np.ones(3)\n",
    "print(arr1)  # Output: [1. 1. 1.]\n",
    "\n",
    "# Create a 2-dimensional array of shape (2, 3) filled with ones\n",
    "arr2 = np.ones((2, 3))\n",
    "print(arr2)\n",
    "# Output:\n",
    "# [[1. 1. 1.]\n",
    "#  [1. 1. 1.]]\n",
    "```\n",
    "\n",
    "4. **Using `np.full`:** You can create an array filled with a specified value using `np.full`.\n",
    "\n",
    "```python\n",
    "import numpy as np\n",
    "\n",
    "# Create a 1-dimensional array of length 3 filled with the value 5\n",
    "arr = np.full(3, 5)\n",
    "print(arr)\n",
    "# Output: [5 5 5]\n",
    "```\n",
    "\n",
    "5. **Using `np.eye`:** You can create an identity matrix using `np.eye`.\n",
    "\n",
    "```python\n",
    "import numpy as np\n",
    "\n",
    "I = np.eye(3)\n",
    "print(I)\n",
    "# Output:\n",
    "# [[1 0 0],\n",
    "#  [0 1 0], \n",
    "#  [0 0 1]]\n",
    "```\n",
    "\n",
    "6. **Using `np.arange`:** You can create a 1-dimensional array with a range of values using the `np.arange` function, similar to the built-in `range` function.\n",
    "\n",
    "```python\n",
    "import numpy as np\n",
    "\n",
    "# Create a 1-dimensional array with values from 0 to 4\n",
    "arr1 = np.arange(5)\n",
    "print(arr1)  # Output: [0 1 2 3 4]\n",
    "\n",
    "# Create a 1-dimensional array with values from 2 to 10 with a step of 2\n",
    "arr2 = np.arange(2, 11, 2)\n",
    "print(arr2)  # Output: [ 2  4  6  8 10]\n",
    "```\n",
    "\n",
    "7. **Using `np.linspace`:** You can create a 1-dimensional array with a specified number of evenly spaced values within a range using the `np.linspace` function.\n",
    "\n",
    "```python\n",
    "import numpy as np\n",
    "\n",
    "# Create a 1-dimensional array with 5 values from 0 to 1 (inclusive)\n",
    "arr1 = np.linspace(0, 1, 5)\n",
    "print(arr1)  # Output: [0.   0.25 0.5  0.75 1.  ]\n",
    "\n",
    "# Create a 1-dimensional array with 9 values from 1 to 10 (inclusive)\n",
    "arr2 = np.linspace(1, 10, 9)\n",
    "print(arr2)  # Output: [ 1.     2.125  3.25   4.375  5.5    6.625  7.75   8.875 10.   ]\n",
    "```"
   ]
  },
  {
   "cell_type": "markdown",
   "id": "b17ddf10-ef52-42d9-8a9d-cd7e149724bf",
   "metadata": {},
   "source": [
    "### `np.array` function:\n",
    "\n",
    "In NumPy, the `np.array` function is used to create a new array object. It takes an input sequence, such as a list or tuple, and returns a NumPy array that represents the same data.\n",
    "\n",
    "Here's how `np.array` works:\n",
    "\n",
    "1. **Input:** You provide a sequence-like object as an argument to `np.array`. This can be a Python list, tuple, or any other iterable object.\n",
    "\n",
    "1. **Data Type Inference:** NumPy automatically infers the data type of the elements in the input sequence. It selects a common data type that can represent all the elements accurately. For example, if the input sequence contains integers and floating-point numbers, the resulting array's data type will be floating-point.\n",
    "\n",
    "1. **Array Creation:** The `np.array` function creates a new NumPy array object based on the input sequence. The array object is an N-dimensional array with a fixed shape and data type.\n",
    "\n",
    "1. **Array Attributes:** The resulting array has several important attributes, including the shape, dtype (data type), and size (number of elements). These attributes provide information about the structure and characteristics of the array.\n",
    "\n",
    "Here's an example that demonstrates the usage of `np.array`:\n",
    "\n",
    "```python\n",
    "import numpy as np\n",
    "\n",
    "# Create a NumPy array from a list\n",
    "my_list = [1, 2, 3, 4, 5]\n",
    "my_array = np.array(my_list)\n",
    "\n",
    "print(my_array)\n",
    "# Output: [1 2 3 4 5]\n",
    "\n",
    "print(my_array.shape)\n",
    "# Output: (5,)\n",
    "\n",
    "print(my_array.dtype)\n",
    "# Output: int64\n",
    "\n",
    "print(my_array.size)\n",
    "# Output: 5\n",
    "```\n",
    "\n",
    "In the above example, `np.array(my_list)` creates a NumPy array from the Python list `my_list`. The resulting array `my_array` contains the same elements as the input list. The `shape` attribute indicates that it is a 1-dimensional array with a length of 5. The `dtype` attribute shows that the array's elements have the data type `int64`. Finally, the `size` attribute reveals that the array contains 5 elements.\n",
    "\n",
    "By using `np.array`, you can convert Python sequences into NumPy arrays, enabling you to perform efficient numerical computations, leverage NumPy's extensive functionality, and take advantage of optimized operations on arrays."
   ]
  },
  {
   "cell_type": "code",
   "execution_count": 13,
   "id": "04dbdf96-f17f-49da-b1a9-8a259ef967fb",
   "metadata": {},
   "outputs": [
    {
     "name": "stdout",
     "output_type": "stream",
     "text": [
      "[1 2 3 4 5]\n",
      "array 1: [1 2 3 4 5] , shape: (5,), size: 5, dtype: int64\n",
      "_______\n",
      "\n",
      "array 2: \n",
      " [[1 2 3]\n",
      " [4 5 6]] \n",
      " , shape: (2, 3), size: 6, dtype: int64\n"
     ]
    }
   ],
   "source": [
    "import numpy as np\n",
    "\n",
    "# Create a 1-dimensional array from a list\n",
    "arr1 = np.array([1, 2, 3, 4, 5])\n",
    "print(arr1)  # Output: [1 2 3 4 5]\n",
    "\n",
    "print(f'array 1: {arr1} , shape: {arr1.shape}, size: {arr1.size}, dtype: {arr1.dtype}')\n",
    "\n",
    "print('_______\\n')\n",
    "\n",
    "# Create a 2-dimensional array from a nested list\n",
    "arr2 = np.array([[1, 2, 3], [4, 5, 6]])\n",
    "print(f'array 2: \\n {arr2} \\n , shape: {arr2.shape}, size: {arr2.size}, dtype: {arr2.dtype}')"
   ]
  },
  {
   "cell_type": "markdown",
   "id": "9043abf7-1c8b-451a-8ca8-d9329716d4be",
   "metadata": {},
   "source": [
    "> **You can specify `dtype` when creating a numpy array**"
   ]
  },
  {
   "cell_type": "code",
   "execution_count": 14,
   "id": "a24b3ca8-50dd-4d81-8eaa-8a8d9dc48574",
   "metadata": {},
   "outputs": [
    {
     "name": "stdout",
     "output_type": "stream",
     "text": [
      "[1. 2. 3. 4. 5.]\n",
      "float32\n"
     ]
    }
   ],
   "source": [
    "arr = np.array([1, 2, 3, 4, 5], dtype=np.float32)\n",
    "print(arr)\n",
    "print(arr.dtype)"
   ]
  },
  {
   "cell_type": "markdown",
   "id": "6af00e5f-7d58-4165-9f34-b01b4b7420e7",
   "metadata": {},
   "source": [
    "### `np.zeros` function:\n",
    "\n",
    "In NumPy, the `np.zeros` function is used to create an array filled with zeros. It allows you to create an array of a specified shape and data type, where all the elements are initialized to zero.\n",
    "\n",
    "The general syntax of `np.zeros` is:\n",
    "\n",
    "```python\n",
    "np.zeros(shape, dtype=float, order='C')\n",
    "```\n",
    "\n",
    "Here's what each parameter means:\n",
    "\n",
    "- `shape`: It specifies the shape of the array you want to create. It can be an integer or a tuple of integers. For example, if you pass `(2, 3)`, it creates a 2-dimensional array with 2 rows and 3 columns.\n",
    "- `dtype` (optional): It specifies the data type of the elements in the array. By default, it is set to `float`. You can provide other data types like `int`, `bool`, etc.\n",
    "- `order` (optional): It specifies the memory layout of the array. It can be `'C'` for row-major (C-style) or `'F'` for column-major (Fortran-style). By default, it is set to `'C'`.\n",
    "\n",
    "Here's an example that demonstrates the usage of `np.zeros`:\n",
    "\n",
    "```python\n",
    "import numpy as np\n",
    "\n",
    "# Create a 1-dimensional array of length 5 filled with zeros\n",
    "arr1 = np.zeros(5)\n",
    "print(arr1)\n",
    "# Output: [0. 0. 0. 0. 0.]\n",
    "\n",
    "# Create a 2-dimensional array with 3 rows and 4 columns filled with zeros\n",
    "arr2 = np.zeros((3, 4))\n",
    "print(arr2)\n",
    "# Output:\n",
    "# [[0. 0. 0. 0.]\n",
    "#  [0. 0. 0. 0.]\n",
    "#  [0. 0. 0. 0.]]\n",
    "\n",
    "# Create a 3-dimensional array with shape (2, 3, 2) filled with zeros\n",
    "arr3 = np.zeros((2, 3, 2), dtype=int)\n",
    "print(arr3)\n",
    "# Output:\n",
    "# [[[0 0]\n",
    "#   [0 0]\n",
    "#   [0 0]]\n",
    "#\n",
    "#  [[0 0]\n",
    "#   [0 0]\n",
    "#   [0 0]]]\n",
    "```\n",
    "\n",
    "In the examples above, `np.zeros` is used to create arrays of different shapes and data types, and all the elements in the arrays are initialized to zero."
   ]
  },
  {
   "cell_type": "code",
   "execution_count": 18,
   "id": "1c26c23d-f7a8-48c6-8312-ca0b2d86042b",
   "metadata": {},
   "outputs": [
    {
     "name": "stdout",
     "output_type": "stream",
     "text": [
      "[0. 0. 0. 0. 0.]\n"
     ]
    }
   ],
   "source": [
    "import numpy as np\n",
    "\n",
    "arr1 = np.zeros(5)\n",
    "print(arr1)"
   ]
  },
  {
   "cell_type": "code",
   "execution_count": 19,
   "id": "5edfd5c1-496b-4ced-bad6-720c0485e1a2",
   "metadata": {},
   "outputs": [
    {
     "name": "stdout",
     "output_type": "stream",
     "text": [
      "[[0. 0. 0. 0.]\n",
      " [0. 0. 0. 0.]\n",
      " [0. 0. 0. 0.]]\n"
     ]
    }
   ],
   "source": [
    "arr2 = np.zeros((3, 4))\n",
    "print(arr2)"
   ]
  },
  {
   "cell_type": "markdown",
   "id": "5330d8a4-0bc3-46c7-9cee-8b915723fe31",
   "metadata": {},
   "source": [
    "### `np.ones` function:\n",
    "\n",
    "In NumPy, the `np.ones` function is used to create an array filled with ones. It allows you to create an array of a specified shape and data type, where all the elements are initialized to one.\n",
    "\n",
    "The general syntax of `np.ones` is:\n",
    "\n",
    "```python\n",
    "np.ones(shape, dtype=None, order='C')\n",
    "```\n",
    "\n",
    "Here's what each parameter means:\n",
    "\n",
    "- `shape`: It specifies the shape of the array you want to create. It can be an integer or a tuple of integers. For example, if you pass `(2, 3)`, it creates a 2-dimensional array with 2 rows and 3 columns.\n",
    "- `dtype` (optional): It specifies the data type of the elements in the array. By default, it is set to `float`. You can provide other data types like `int`, `bool`, etc.\n",
    "- `order` (optional): It specifies the memory layout of the array. It can be `'C'` for row-major (C-style) or `'F'` for column-major (Fortran-style). By default, it is set to `'C'`.\n",
    "\n",
    "Here's an example that demonstrates the usage of `np.ones`:\n",
    "\n",
    "```python\n",
    "import numpy as np\n",
    "\n",
    "# Create a 1-dimensional array of length 5 filled with ones\n",
    "arr1 = np.ones(5)\n",
    "print(arr1)\n",
    "# Output: [1. 1. 1. 1. 1.]\n",
    "\n",
    "# Create a 2-dimensional array with 3 rows and 4 columns filled with ones\n",
    "arr2 = np.ones((3, 4))\n",
    "print(arr2)\n",
    "# Output:\n",
    "# [[1. 1. 1. 1.]\n",
    "#  [1. 1. 1. 1.]\n",
    "#  [1. 1. 1. 1.]]\n",
    "\n",
    "# Create a 3-dimensional array with shape (2, 3, 2) filled with ones of integer type\n",
    "arr3 = np.ones((2, 3, 2), dtype=int)\n",
    "print(arr3)\n",
    "# Output:\n",
    "# [[[1 1]\n",
    "#   [1 1]\n",
    "#   [1 1]]\n",
    "#\n",
    "#  [[1 1]\n",
    "#   [1 1]\n",
    "#   [1 1]]]\n",
    "```\n",
    "\n",
    "In the examples above, `np.ones` is used to create arrays of different shapes and data types, and all the elements in the arrays are initialized to one."
   ]
  },
  {
   "cell_type": "code",
   "execution_count": 20,
   "id": "7273f9ea-c885-4836-a22e-6da266e413c6",
   "metadata": {},
   "outputs": [
    {
     "name": "stdout",
     "output_type": "stream",
     "text": [
      "[1. 1. 1. 1. 1.]\n"
     ]
    }
   ],
   "source": [
    "import numpy as np\n",
    "\n",
    "arr1 = np.ones(5)\n",
    "print(arr1)"
   ]
  },
  {
   "cell_type": "code",
   "execution_count": 21,
   "id": "81951561-3e93-492b-85ff-26df7783d235",
   "metadata": {},
   "outputs": [
    {
     "name": "stdout",
     "output_type": "stream",
     "text": [
      "[[1. 1. 1. 1.]\n",
      " [1. 1. 1. 1.]\n",
      " [1. 1. 1. 1.]]\n"
     ]
    }
   ],
   "source": [
    "arr2 = np.ones((3, 4))\n",
    "print(arr2)"
   ]
  },
  {
   "cell_type": "markdown",
   "id": "2e4c61e5-4a63-4562-b77a-6fa2a30e99f7",
   "metadata": {},
   "source": [
    "### `np.full` function\n",
    "\n",
    "In NumPy, the `np.full` function is used to create a new array with a specified shape and fill it with a given value. The syntax of the `np.full` function is as follows:\n",
    "\n",
    "```python\n",
    "numpy.full(shape, fill_value, dtype=None, order='C')\n",
    "```\n",
    "\n",
    "Let's break down the parameters:\n",
    "\n",
    "- `shape`: This parameter specifies the shape of the output array. It can be an integer or a tuple of integers representing the dimensions of the array.\n",
    "- `fill_value`: This parameter specifies the value that will be filled in all the elements of the output array.\n",
    "- `dtype` (optional): This parameter specifies the data type of the elements in the output array. If not provided, it will be determined automatically based on the `fill_value`.\n",
    "- `order` (optional): This parameter specifies the order of the elements in the output array. It can be either 'C' for row-major order or 'F' for column-major order. By default, it is set to 'C'.\n",
    "\n",
    "Here's an example to illustrate the usage of `np.full`:\n",
    "\n",
    "```python\n",
    "import numpy as np\n",
    "\n",
    "# Create a 2x3 array filled with 5\n",
    "arr = np.full((2, 3), 5)\n",
    "\n",
    "print(arr)\n",
    "```\n",
    "\n",
    "Output:\n",
    "\n",
    "```\n",
    "[[5 5 5]\n",
    " [5 5 5]]\n",
    "```\n",
    "\n",
    "In this example, `np.full((2, 3), 5)` creates a 2x3 array where all the elements are filled with the value 5.\n",
    "\n",
    "You can also provide a data type explicitly by setting the `dtype` parameter. For example:\n",
    "\n",
    "```python\n",
    "arr = np.full((2, 2), 3.14, dtype=float)\n",
    "```\n",
    "\n",
    "This creates a 2x2 array filled with the value 3.14, and the data type of the array is explicitly set to `float`."
   ]
  },
  {
   "cell_type": "code",
   "execution_count": 22,
   "id": "45d2ed58-fbc6-4941-b194-4ae3188c40e1",
   "metadata": {},
   "outputs": [
    {
     "name": "stdout",
     "output_type": "stream",
     "text": [
      "[[5 5 5]\n",
      " [5 5 5]]\n"
     ]
    }
   ],
   "source": [
    "import numpy as np\n",
    "\n",
    "arr = np.full((2, 3), 5)\n",
    "print(arr)"
   ]
  },
  {
   "cell_type": "markdown",
   "id": "d50d5752-c0ea-43c8-a188-1417f704ab44",
   "metadata": {},
   "source": [
    "### `np.eye` function\n",
    "\n",
    "In NumPy, the `np.eye` function is used to create a 2-dimensional array with ones on the diagonal and zeros elsewhere. This function returns an identity matrix. The syntax of the `np.eye` function is as follows:\n",
    "\n",
    "```python\n",
    "numpy.eye(N, M=None, k=0, dtype=<class 'float'>, order='C')\n",
    "```\n",
    "\n",
    "Let's break down the parameters:\n",
    "\n",
    "- `N`: This parameter specifies the number of rows in the output array.\n",
    "- `M` (optional): This parameter specifies the number of columns in the output array. If not provided, it defaults to `N`.\n",
    "- `k` (optional): This parameter specifies the index of the diagonal. A zero value (default) refers to the main diagonal, a positive value refers to an upper diagonal, and a negative value refers to a lower diagonal.\n",
    "- `dtype` (optional): This parameter specifies the data type of the elements in the output array. It is set to `float` by default.\n",
    "- `order` (optional): This parameter specifies the order of the elements in the output array. It can be either 'C' for row-major order or 'F' for column-major order. By default, it is set to 'C'.\n",
    "\n",
    "Here's an example to illustrate the usage of `np.eye`:\n",
    "\n",
    "```python\n",
    "import numpy as np\n",
    "\n",
    "# Create a 3x3 identity matrix\n",
    "arr = np.eye(3)\n",
    "\n",
    "print(arr)\n",
    "```\n",
    "\n",
    "Output:\n",
    "\n",
    "```\n",
    "[[1. 0. 0.]\n",
    " [0. 1. 0.]\n",
    " [0. 0. 1.]]\n",
    "```\n",
    "\n",
    "In this example, `np.eye(3)` creates a 3x3 identity matrix where the diagonal elements are ones and the off-diagonal elements are zeros.\n",
    "\n",
    "You can also specify the index of the diagonal using the `k` parameter. For example:\n",
    "\n",
    "```python\n",
    "arr = np.eye(4, k=1)\n",
    "\n",
    "print(arr)\n",
    "```\n",
    "\n",
    "Output:\n",
    "\n",
    "```\n",
    "[[0. 1. 0. 0.]\n",
    " [0. 0. 1. 0.]\n",
    " [0. 0. 0. 1.]\n",
    " [0. 0. 0. 0.]]\n",
    "```\n",
    "\n",
    "In this example, `np.eye(4, k=1)` creates a 4x4 matrix where the diagonal one position above the main diagonal is filled with ones, and the rest of the elements are zeros."
   ]
  },
  {
   "cell_type": "code",
   "execution_count": 27,
   "id": "e702d3f3-1c63-4772-924b-8093433e78d5",
   "metadata": {},
   "outputs": [
    {
     "name": "stdout",
     "output_type": "stream",
     "text": [
      "[[1. 0. 0.]\n",
      " [0. 1. 0.]\n",
      " [0. 0. 1.]]\n"
     ]
    }
   ],
   "source": [
    "import numpy as np\n",
    "\n",
    "arr = np.eye(3)\n",
    "\n",
    "print(arr)"
   ]
  },
  {
   "cell_type": "code",
   "execution_count": 28,
   "id": "a27ab23b-ca41-4425-847f-c0a2d23f389f",
   "metadata": {},
   "outputs": [
    {
     "name": "stdout",
     "output_type": "stream",
     "text": [
      "[[1. 0.]\n",
      " [0. 1.]\n",
      " [0. 0.]]\n"
     ]
    }
   ],
   "source": [
    "arr = np.eye(3, 2)\n",
    "\n",
    "print(arr)"
   ]
  },
  {
   "cell_type": "code",
   "execution_count": 29,
   "id": "72689487-75e6-4d86-9532-60637a5c455b",
   "metadata": {},
   "outputs": [
    {
     "name": "stdout",
     "output_type": "stream",
     "text": [
      "[[0. 1. 0. 0.]\n",
      " [0. 0. 1. 0.]\n",
      " [0. 0. 0. 1.]\n",
      " [0. 0. 0. 0.]]\n"
     ]
    }
   ],
   "source": [
    "arr = np.eye(4, k=1)\n",
    "\n",
    "print(arr)"
   ]
  },
  {
   "cell_type": "markdown",
   "id": "d9200fd8-b248-4078-84a0-412a75117ad0",
   "metadata": {},
   "source": [
    "### `arange` function\n",
    "\n",
    "The `np.arange` function in NumPy is used to create an array of evenly spaced values within a specified range. It is similar to the Python built-in `range` function but returns an array instead of a list.\n",
    "\n",
    "The general syntax of `np.arange` is as follows:\n",
    "\n",
    "```python\n",
    "np.arange(start, stop, step, dtype=None)\n",
    "```\n",
    "\n",
    "The parameters of the `np.arange` function are as follows:\n",
    "\n",
    "- `start`: It specifies the start value of the sequence (inclusive). If not provided, the default value is 0.\n",
    "- `stop`: It specifies the end value of the sequence (exclusive). This value is required.\n",
    "- `step`: It specifies the step or the spacing between the values in the sequence. If not provided, the default step is 1.\n",
    "- `dtype`: It specifies the data type of the elements in the array. If not provided, it is automatically inferred based on the other input arguments.\n",
    "\n",
    "The `np.arange` function returns a 1-dimensional NumPy array containing the values within the specified range. The array includes the `start` value and stops before reaching the `stop` value. The `step` parameter determines the spacing between the values.\n",
    "\n",
    "Here's an example to illustrate the usage of `np.arange`:\n",
    "\n",
    "```python\n",
    "import numpy as np\n",
    "\n",
    "# Create an array from 0 to 9 (exclusive) with step 1\n",
    "arr1 = np.arange(10)\n",
    "print(arr1)\n",
    "# Output: [0 1 2 3 4 5 6 7 8 9]\n",
    "\n",
    "# Create an array from 1 to 10 (exclusive) with step 2\n",
    "arr2 = np.arange(1, 10, 2)\n",
    "print(arr2)\n",
    "# Output: [1 3 5 7 9]\n",
    "\n",
    "# Create an array from 5 to 1 (exclusive) with step -1\n",
    "arr3 = np.arange(5, 0, -1)\n",
    "print(arr3)\n",
    "# Output: [5 4 3 2 1]\n",
    "```\n",
    "\n",
    "In the examples above, `np.arange` is used to create arrays with different start, stop, and step values. The resulting arrays contain the specified sequence of values within the given range."
   ]
  },
  {
   "cell_type": "code",
   "execution_count": 35,
   "id": "c435b444-330d-4755-87cc-6dea511c3ed0",
   "metadata": {},
   "outputs": [
    {
     "name": "stdout",
     "output_type": "stream",
     "text": [
      "[0 1 2 3 4 5 6 7 8 9]\n"
     ]
    }
   ],
   "source": [
    "import numpy as np\n",
    "\n",
    "arr1 = np.arange(10)\n",
    "print(arr1)"
   ]
  },
  {
   "cell_type": "code",
   "execution_count": 36,
   "id": "e0fc10be-f5b2-41b3-bd42-bc96e3045333",
   "metadata": {},
   "outputs": [
    {
     "name": "stdout",
     "output_type": "stream",
     "text": [
      "[1 3 5 7 9]\n"
     ]
    }
   ],
   "source": [
    "arr2 = np.arange(1, 10, 2)\n",
    "print(arr2)"
   ]
  },
  {
   "cell_type": "code",
   "execution_count": 37,
   "id": "93dea0c7-2c0c-4eed-9313-ad4be4f476b4",
   "metadata": {},
   "outputs": [
    {
     "name": "stdout",
     "output_type": "stream",
     "text": [
      "[5 4 3 2 1]\n"
     ]
    }
   ],
   "source": [
    "arr3 = np.arange(5, 0, -1)\n",
    "print(arr3)"
   ]
  },
  {
   "cell_type": "markdown",
   "id": "91293d59-f6ee-400f-9853-efc2f92baee3",
   "metadata": {},
   "source": [
    "### `np.linspace` function\n",
    "\n",
    "The `np.linspace` function in NumPy is used to create an array of evenly spaced values over a specified interval. It is similar to `np.arange()` but instead of specifying the step value, you provide the number of elements you want in the array.\n",
    "\n",
    "The general syntax of `np.linspace` is as follows:\n",
    "\n",
    "```python\n",
    "np.linspace(start, stop, num=50, endpoint=True, retstep=False, dtype=None)\n",
    "```\n",
    "\n",
    "The parameters of the `np.linspace` function are as follows:\n",
    "\n",
    "- `start`: It specifies the start value of the sequence (inclusive). This value is required.\n",
    "- `stop`: It specifies the end value of the sequence (inclusive). This value is required.\n",
    "- `num`: It specifies the number of elements you want in the array. By default, it is set to 50.\n",
    "- `endpoint`: It determines whether the `stop` value should be included in the array. If `True`, the `stop` value is included. If `False`, the `stop` value is excluded. By default, it is set to `True`.\n",
    "- `retstep`: It determines whether to return the step value used in the sequence. If `True`, it returns the step value along with the array. By default, it is set to `False`.\n",
    "- `dtype`: It specifies the data type of the elements in the array. If not provided, it is inferred based on the other input arguments.\n",
    "\n",
    "The `np.linspace` function returns a 1-dimensional NumPy array containing the specified number of evenly spaced values over the interval. The values in the array are inclusive of both the `start` and `stop` values (unless `endpoint=False`).\n",
    "\n",
    "Here's an example to illustrate the usage of `np.linspace`:\n",
    "\n",
    "```python\n",
    "import numpy as np\n",
    "\n",
    "# Create an array with 5 evenly spaced values from 0 to 1 (inclusive)\n",
    "arr1 = np.linspace(0, 1, num=5)\n",
    "print(arr1)\n",
    "# Output: [0.   0.25 0.5  0.75 1.  ]\n",
    "\n",
    "# Create an array with 10 values from 1 to 5 (inclusive)\n",
    "arr2 = np.linspace(1, 5, num=10)\n",
    "print(arr2)\n",
    "# Output: [1.         1.44444444 1.88888889 2.33333333 2.77777778 3.22222222\n",
    "#          3.66666667 4.11111111 4.55555556 5.        ]\n",
    "\n",
    "# Create an array with 3 values from 0 to 100 (inclusive), excluding the endpoint\n",
    "arr3 = np.linspace(0, 100, num=3, endpoint=False)\n",
    "print(arr3)\n",
    "# Output: [ 0.  50. 100.]\n",
    "```\n",
    "\n",
    "In the examples above, `np.linspace` is used to create arrays with different start, stop, and num values. The resulting arrays contain the specified number of evenly spaced values within the given interval."
   ]
  },
  {
   "cell_type": "code",
   "execution_count": 39,
   "id": "45d4beeb-ae33-42f9-8148-36312e7d70d9",
   "metadata": {},
   "outputs": [
    {
     "name": "stdout",
     "output_type": "stream",
     "text": [
      "[0.   0.25 0.5  0.75 1.  ]\n"
     ]
    }
   ],
   "source": [
    "import numpy as np\n",
    "\n",
    "arr1 = np.linspace(0, 1, num=5)\n",
    "print(arr1)"
   ]
  },
  {
   "cell_type": "code",
   "execution_count": 40,
   "id": "eb9dc53d-85f0-4af0-94e3-4830c32482d2",
   "metadata": {},
   "outputs": [
    {
     "name": "stdout",
     "output_type": "stream",
     "text": [
      "[1.         1.44444444 1.88888889 2.33333333 2.77777778 3.22222222\n",
      " 3.66666667 4.11111111 4.55555556 5.        ]\n"
     ]
    }
   ],
   "source": [
    "arr2 = np.linspace(1, 5, num=10)\n",
    "print(arr2)"
   ]
  },
  {
   "cell_type": "code",
   "execution_count": 43,
   "id": "823bf0e5-e337-401a-a65e-478cfda05437",
   "metadata": {},
   "outputs": [
    {
     "name": "stdout",
     "output_type": "stream",
     "text": [
      "[ 0.         33.33333333 66.66666667]\n"
     ]
    }
   ],
   "source": [
    "arr3 = np.linspace(0, 100, num=3, endpoint=False)\n",
    "print(arr3)"
   ]
  }
 ],
 "metadata": {
  "kernelspec": {
   "display_name": "Python 3 (ipykernel)",
   "language": "python",
   "name": "python3"
  },
  "language_info": {
   "codemirror_mode": {
    "name": "ipython",
    "version": 3
   },
   "file_extension": ".py",
   "mimetype": "text/x-python",
   "name": "python",
   "nbconvert_exporter": "python",
   "pygments_lexer": "ipython3",
   "version": "3.9.7"
  }
 },
 "nbformat": 4,
 "nbformat_minor": 5
}
