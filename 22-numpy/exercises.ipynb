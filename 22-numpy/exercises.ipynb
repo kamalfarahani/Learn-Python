{
 "cells": [
  {
   "cell_type": "markdown",
   "id": "mobile-spirit",
   "metadata": {},
   "source": [
    "### Exercises"
   ]
  },
  {
   "cell_type": "markdown",
   "id": "historic-tennessee",
   "metadata": {},
   "source": [
    "#### Question 1\n",
    "\n",
    "Using NumPy and the PIL (Python Imaging Library) library, complete the following tasks:\n",
    "\n",
    "1. Load a list of all face images located in the directory `./imgs/faces`.\n",
    "2. Resize each face image to a size of 500 by 500 pixels.\n",
    "3. Add all the resized face images together to create a single composite image.\n",
    "4. Calculate the mean of all the face images by dividing the composite image by the total number of images.\n",
    "5. Save the resulting mean face image as `mean_face.jpg`.\n",
    "\n",
    "You can use the functions provided by NumPy and the PIL library to accomplish these tasks efficiently. Ensure that the final mean face image retains the aspect ratio of the original images and is saved as a high-quality JPEG file."
   ]
  },
  {
   "cell_type": "markdown",
   "id": "alternate-culture",
   "metadata": {},
   "source": [
    "#### Question 2\n",
    "\n",
    "Using the PIL (Python Imaging Library) and NumPy, complete the following tasks:\n",
    "\n",
    "1. Load the first four images from the directory `./imgs/faces`.\n",
    "2. Create a 2x2 grid by concatenating the four images together horizontally.\n",
    "3. Save the resulting grid image as `concatenated_faces.jpg`.\n",
    "\n",
    "To solve this question, you can utilize the functions provided by PIL and NumPy to load the images, manipulate the image data, and concatenate the images horizontally to form a grid. Make sure to save the resulting image, `concatenated_faces.jpg`, in high quality while preserving the aspect ratio of the original images."
   ]
  },
  {
   "cell_type": "markdown",
   "id": "regulation-thomas",
   "metadata": {},
   "source": [
    "#### Question 3\n",
    "\n",
    "Using NumPy, solve the following linear algebra problem:\n",
    "\n",
    "Consider a system of linear equations:\n",
    "\n",
    "$$\n",
    "\\begin{align}\n",
    "    2x + y - z &= 5 \\\\\n",
    "    x - y + 3z &= -2 \\\\\n",
    "    3x - 2y + 5z &= 11\n",
    "\\end{align}\n",
    "$$\n",
    "\n",
    "1. Create a NumPy array `A` representing the coefficient matrix of the system.\n",
    "2. Create a NumPy array `b` representing the constant vector on the right-hand side of the system.\n",
    "3. Use a NumPy function to solve the system of equations by finding the values of `x`, `y`, and `z`.\n",
    "4. Print the solution vector containing the values of `x`, `y`, and `z`.\n",
    "\n",
    "In your solution, demonstrate the proper usage of NumPy functions for creating the arrays `A` and `b`, as well as for solving the system of equations. Display the solution vector containing the values of `x`, `y`, and `z` as the final output of your program."
   ]
  }
 ],
 "metadata": {
  "kernelspec": {
   "display_name": "Python 3 (ipykernel)",
   "language": "python",
   "name": "python3"
  },
  "language_info": {
   "codemirror_mode": {
    "name": "ipython",
    "version": 3
   },
   "file_extension": ".py",
   "mimetype": "text/x-python",
   "name": "python",
   "nbconvert_exporter": "python",
   "pygments_lexer": "ipython3",
   "version": "3.11.4"
  }
 },
 "nbformat": 4,
 "nbformat_minor": 5
}
