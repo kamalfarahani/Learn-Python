{
 "cells": [
  {
   "cell_type": "markdown",
   "id": "f2ecd139-4cbb-4203-8ff6-60f49c1ce30a",
   "metadata": {},
   "source": [
    "## NumPy Indexing\n",
    "\n",
    "Indexing in NumPy is the process of accessing elements or sub-arrays of a NumPy array.\n",
    "\n",
    "* **Indexing starts at 0.** This means that the first element of a NumPy array has index 0, the second element has index 1, and so on.\n",
    "* **Negative indexing is supported.** Negative indices can be used to access elements from the end of the array. For example, `arr[-1]` refers to the last element of the array `arr`.\n",
    "* **Multiple dimensions are supported.** NumPy arrays can be multi-dimensional, which means that they can have more than one axis. To index an element in a multi-dimensional array, you specify the index for each axis. For example, to index the element at the first row and second column of a 2D array, you would use the expression `arr[0, 1]`.\n",
    "\n",
    "Here are the different types of indexing supported by NumPy, along with an example for each:\n",
    "\n",
    "* **Single element indexing:** This type of indexing allows you to access a single element in the array. The index can be an integer, a slice, or a Boolean array.\n",
    "\n",
    "```python\n",
    "import numpy as np\n",
    "\n",
    "# Create a 1D array\n",
    "arr = np.array([1, 2, 3, 4, 5])\n",
    "\n",
    "# Single element indexing\n",
    "print(arr[0])  # Prints 1\n",
    "print(arr[-1])  # Prints 5\n",
    "print(arr[2])  # Prints 3\n",
    "```\n",
    "\n",
    "* **Slicing:** This type of indexing allows you to access a sub-array of the array. The slice is specified using a colon (:) separated by the start, stop, and step indices. The start and stop indices are optional, and the default values are 0 and the length of the array, respectively. The step index is also optional, and the default value is 1.\n",
    "\n",
    "```python\n",
    "import numpy as np\n",
    "\n",
    "# Create a 1D array\n",
    "arr = np.array([1, 2, 3, 4, 5])\n",
    "\n",
    "# Slicing\n",
    "print(arr[1:3])  # Prints [2, 3]\n",
    "print(arr[2:])  # Prints [3, 4, 5]\n",
    "print(arr[:2])  # Prints [1, 2]\n",
    "```\n",
    "\n",
    "* **Boolean indexing:** This type of indexing allows you to access elements that meet a certain condition. The condition is specified using a Boolean array, where each element in the array is either True or False. The elements in the array that correspond to True values in the Boolean array will be selected.\n",
    "\n",
    "```python\n",
    "import numpy as np\n",
    "\n",
    "# Create a 1D array\n",
    "arr = np.array([1, 2, 3, 4, 5])\n",
    "\n",
    "# Boolean indexing\n",
    "print(arr[arr > 3])  # Prints [4, 5]\n",
    "```\n",
    "\n",
    "* **Fancy indexing:** This type of indexing allows you to access elements based on their index values. The index values can be any iterable object, such as a list, a tuple, or a NumPy array.\n",
    "\n",
    "```python\n",
    "import numpy as np\n",
    "\n",
    "# Create a 1D array\n",
    "arr = np.array([1, 2, 3, 4, 5])\n",
    "\n",
    "# Fancy indexing\n",
    "print(arr[[1, 3]])  # Prints [2, 4]\n",
    "```\n",
    "\n",
    "I hope this list is helpful. Let me know if you have any other questions.\n",
    "\n",
    "In addition to the above, there are also a few other types of indexing supported by NumPy, such as:\n",
    "\n",
    "\n",
    "For more information on NumPy indexing, please refer to the [NumPy documentation](https://numpy.org/doc/stable/user/basics.indexing.html).\n",
    "\n",
    "Here is a table summarizing the different types of indexing supported by NumPy:\n",
    "\n",
    "| Type | Description |\n",
    "|---|---|\n",
    "| Single element indexing | Accesses a single element in the array. |\n",
    "| Slicing | Accesses a sub-array of the array. |\n",
    "| Boolean indexing | Accesses elements that meet a certain condition. |\n",
    "| Fancy indexing | Accesses elements based on their index values. |"
   ]
  },
  {
   "cell_type": "markdown",
   "id": "b6c7d7e7-a8ef-437c-a423-d8d8f6f8c3b8",
   "metadata": {},
   "source": [
    "### Single element indexing\n",
    "\n",
    "Single element indexing in NumPy works the same for 1D and ND arrays. The only difference is that for ND arrays, you need to specify the index for each dimension of the array.\n",
    "\n",
    "Here is an example of single element indexing with a 1D array:\n",
    "\n",
    "```python\n",
    "import numpy as np\n",
    "\n",
    "# Create a 1D array\n",
    "arr = np.array([1, 2, 3, 4, 5])\n",
    "\n",
    "# Single element indexing\n",
    "print(arr[0])    # 1\n",
    "print(arr[-1])    # 5\n",
    "```\n",
    "\n",
    "The output of the above code is:\n",
    "\n",
    "```\n",
    "1\n",
    "5\n",
    "```\n",
    "\n",
    "As you can see, the first line of code prints the first element of the array, which is 1. The second line prints the last element of the array, which is 5.\n",
    "\n",
    "Here is an example of single element indexing with a 2D array:\n",
    "\n",
    "```python\n",
    "import numpy as np\n",
    "\n",
    "# Create a 2D array\n",
    "arr = np.array([[1, 2, 3], [4, 5, 6]])\n",
    "\n",
    "# Single element indexing\n",
    "print(arr[0, 0])    # 1\n",
    "print(arr[1, 2])    # 6\n",
    "```\n",
    "\n",
    "The output of the above code is:\n",
    "\n",
    "```\n",
    "1\n",
    "6\n",
    "```\n",
    "\n",
    "As you can see, the first line of code prints the element at the first row and first column of the array, which is 1. The second line prints the element at the second row and third column of the array, which is 6.\n",
    "\n",
    "Here are some additional things to keep in mind about single element indexing in NumPy with ND arrays:\n",
    "\n",
    "* The index for each dimension must be within the bounds of the array. If you try to access an element that is out of bounds, you will get an error.\n",
    "* You can use negative indices to access elements from the end of the array. For example, to access the last element of the first row of a 2D array, you would use the index `arr[0, -1]`.\n",
    "* You can use slice objects to access a range of elements from an array. For example, to access the first two elements of the first row of a 2D array, you would use the slice object `arr[0, :2]`."
   ]
  },
  {
   "cell_type": "code",
   "execution_count": 3,
   "id": "fac895a4-b821-4aec-93b4-a5dad75c4cc7",
   "metadata": {},
   "outputs": [
    {
     "name": "stdout",
     "output_type": "stream",
     "text": [
      "1\n",
      "5\n"
     ]
    }
   ],
   "source": [
    "import numpy as np\n",
    "\n",
    "arr_1d = np.array([1, 2, 3, 4, 5])\n",
    "\n",
    "print(arr_1d[0])\n",
    "print(arr_1d[-1])"
   ]
  },
  {
   "cell_type": "code",
   "execution_count": 5,
   "id": "6eeaaa95-1bbe-4416-beec-6a93054d9be9",
   "metadata": {},
   "outputs": [
    {
     "name": "stdout",
     "output_type": "stream",
     "text": [
      "1\n",
      "3\n"
     ]
    }
   ],
   "source": [
    "arr_2d = np.array([[1, 2, 3], [4, 5, 6]])\n",
    "\n",
    "print(arr_2d[0, 0])\n",
    "print(arr_2d[0, 2])"
   ]
  },
  {
   "cell_type": "markdown",
   "id": "6febb2bb-0d87-4c9a-ac41-23a9b060cf1e",
   "metadata": {},
   "source": [
    "### Slicing\n",
    "\n",
    "Slicing in NumPy arrays works by specifying a range of elements to be included. The range is specified using a slice object, which is a tuple of integers. The slice object can have three elements:\n",
    "\n",
    "* The start index: The index of the first element to be included.\n",
    "* The stop index: The index of the last element to be included.\n",
    "* The step size: The number of elements to skip between each element.\n",
    "\n",
    "If the start index is not specified, it is assumed to be 0. If the stop index is not specified, it is assumed to be the end of the array. If the step size is not specified, it is assumed to be 1.\n",
    "\n",
    "Here are some examples of slicing with ND NumPy arrays:\n",
    "\n",
    "* Slicing a 2D array by rows:\n",
    "\n",
    "```python\n",
    "import numpy as np\n",
    "\n",
    "# Create a 2D array\n",
    "arr = np.array([[1, 2, 3], [4, 5, 6]])\n",
    "\n",
    "# Slicing the first row\n",
    "print(arr[0, :])    # [1 2 3]\n",
    "\n",
    "# Slicing the second row\n",
    "print(arr[1, :])    # [4 5 6]\n",
    "```\n",
    "\n",
    "* Slicing a 2D array by columns:\n",
    "\n",
    "```python\n",
    "import numpy as np\n",
    "\n",
    "# Create a 2D array\n",
    "arr = np.array([[1, 2, 3], [4, 5, 6]])\n",
    "\n",
    "# Slicing the first column\n",
    "print(arr[:, 0])    # [1 4]\n",
    "\n",
    "# Slicing the second column\n",
    "print(arr[:, 1])    # [2 5]\n",
    "```\n",
    "\n",
    "* Slicing a 3D array by planes:\n",
    "\n",
    "```python\n",
    "import numpy as np\n",
    "\n",
    "# Create a 3D array\n",
    "arr = np.array([[[1, 2, 3], [4, 5, 6]], [[7, 8, 9], [10, 11, 12]]])\n",
    "\n",
    "# Slicing the first plane\n",
    "print(arr[0, :, 1:])    # [[2 3]\n",
    "                        #  [5 6]]\n",
    "\n",
    "```\n",
    "\n",
    "* Slicing a multidimensional array with mixed slices:\n",
    "\n",
    "```python\n",
    "import numpy as np\n",
    "\n",
    "# Create a 3D array\n",
    "arr = np.array([[[1, 2, 3], [4, 5, 6]], [[7, 8, 9], [10, 11, 12]]])\n",
    "\n",
    "# Slicing the first two rows and the first two columns\n",
    "print(arr[0:2, :2, :])    # [[1 2 3]\n",
    "                          #  [4 5 6]]\n",
    "```\n",
    "\n",
    "Here are some additional things to keep in mind about slicing in NumPy arrays:\n",
    "\n",
    "* The start index and stop index must be integers.\n",
    "* The step size can be an integer or a negative integer.\n",
    "* If the step size is negative, the elements will be sliced in reverse order.\n",
    "* You can use slice objects to slice elements from a multidimensional array. In this case, the slice object must be a tuple of integers, where each integer specifies the slice for a particular dimension of the array.\n",
    "* Slicing is a very common operation in NumPy. It is used to access a subset of elements from an array, to iterate over an array, and to perform other operations on arrays.\n",
    "\n",
    "This image can help you visualize slicing in multi-dimensions in NumPy:\n",
    "\n",
    "<img src=\"./imgs/np_array.png\" width=\"600\" height=\"200\">"
   ]
  },
  {
   "cell_type": "code",
   "execution_count": 12,
   "id": "08ee076f-1109-4bfa-9780-9080960b4e88",
   "metadata": {},
   "outputs": [
    {
     "name": "stdout",
     "output_type": "stream",
     "text": [
      "[1 2 3]\n",
      "[4 5 6]\n"
     ]
    }
   ],
   "source": [
    "import numpy as np\n",
    "\n",
    "arr = np.array([[1, 2, 3], [4, 5, 6]])\n",
    "\n",
    "print(arr[0, :])\n",
    "print(arr[1, :])"
   ]
  },
  {
   "cell_type": "code",
   "execution_count": 13,
   "id": "e327a484-cc9b-405e-abb7-41a7cd8b5ebd",
   "metadata": {},
   "outputs": [
    {
     "name": "stdout",
     "output_type": "stream",
     "text": [
      "[1 4]\n",
      "[2 5]\n"
     ]
    }
   ],
   "source": [
    "arr = np.array([[1, 2, 3], [4, 5, 6]])\n",
    "\n",
    "print(arr[:, 0])\n",
    "print(arr[:, 1])"
   ]
  },
  {
   "cell_type": "code",
   "execution_count": 14,
   "id": "9a5859ea-7646-4929-8098-68eac4f02c12",
   "metadata": {},
   "outputs": [
    {
     "name": "stdout",
     "output_type": "stream",
     "text": [
      "[[2 3]\n",
      " [5 6]]\n"
     ]
    }
   ],
   "source": [
    "import numpy as np\n",
    "\n",
    "arr = np.array([[[1, 2, 3], [4, 5, 6]], [[7, 8, 9], [10, 11, 12]]])\n",
    "\n",
    "print(arr[0, :, 1:]) "
   ]
  },
  {
   "cell_type": "code",
   "execution_count": 20,
   "id": "4fc042b1-85e5-403e-ba71-d165f64ac9fd",
   "metadata": {},
   "outputs": [
    {
     "name": "stdout",
     "output_type": "stream",
     "text": [
      "[[[ 1  2  3]\n",
      "  [ 4  5  6]]\n",
      "\n",
      " [[ 7  8  9]\n",
      "  [10 11 12]]]\n"
     ]
    }
   ],
   "source": [
    "import numpy as np\n",
    "\n",
    "arr = np.array([[[1, 2, 3], [4, 5, 6]], [[7, 8, 9], [10, 11, 12]]])\n",
    "\n",
    "print(arr[0:2, :2, :])"
   ]
  },
  {
   "cell_type": "markdown",
   "id": "ece947e9-d812-4614-a6b5-1f8cd8164213",
   "metadata": {},
   "source": [
    "### Boolean Indexing\n",
    "\n",
    "Boolean indexing in NumPy is a technique that allows you to select elements from an array based on a boolean condition or a boolean mask. It involves using an array of boolean values to specify which elements of the array should be accessed or manipulated.\n",
    "\n",
    "Here's an example to illustrate boolean indexing in NumPy:\n",
    "\n",
    "``` python\n",
    "import numpy as np\n",
    "\n",
    "# Create a 1-dimensional array\n",
    "arr = np.array([10, 20, 30, 40, 50])\n",
    "\n",
    "# Create a boolean mask based on a condition\n",
    "mask = arr > 30\n",
    "\n",
    "# Access elements based on the boolean mask\n",
    "selected_elements = arr[mask]\n",
    "\n",
    "print(selected_elements)\n",
    "```\n",
    "\n",
    "Output:\n",
    "```python\n",
    "[40 50]\n",
    "```\n",
    "\n",
    "In this example, we create a 1-dimensional array `arr`. We then define a boolean mask `mask` by applying the condition `arr > 30`, which evaluates to `[False, False, False, True, True]`. The mask indicates which elements of `arr` satisfy the condition.\n",
    "\n",
    "By using the boolean mask as an index array, we can select the elements from `arr` where the mask is `True`. In this case, the elements at indices 3 and 4 (corresponding to values 40 and 50) satisfy the condition and are selected.\n",
    "\n",
    "Boolean indexing is particularly useful when you want to select elements from an array based on a certain criterion or condition. The condition used to create the boolean mask can involve mathematical operations, logical operators, or even more complex expressions. It provides a flexible and efficient way to filter and manipulate array data in NumPy."
   ]
  },
  {
   "cell_type": "code",
   "execution_count": 24,
   "id": "1ad7351e-426f-44d5-a29b-58ad05f1a937",
   "metadata": {},
   "outputs": [
    {
     "data": {
      "text/plain": [
       "array([10, 40])"
      ]
     },
     "execution_count": 24,
     "metadata": {},
     "output_type": "execute_result"
    }
   ],
   "source": [
    "arr = np.array([10, 20, 30, 40, 50])\n",
    "arr[[True, False, False, True, False]]"
   ]
  },
  {
   "cell_type": "code",
   "execution_count": 26,
   "id": "f5a6a498-7584-4b2c-b824-821e820b4b1f",
   "metadata": {},
   "outputs": [
    {
     "data": {
      "text/plain": [
       "array([False, False, False,  True,  True])"
      ]
     },
     "execution_count": 26,
     "metadata": {},
     "output_type": "execute_result"
    }
   ],
   "source": [
    "arr > 30"
   ]
  },
  {
   "cell_type": "code",
   "execution_count": 25,
   "id": "d961ba90-f7b1-43bc-8583-10f1a22f9ddf",
   "metadata": {},
   "outputs": [
    {
     "name": "stdout",
     "output_type": "stream",
     "text": [
      "[40 50]\n"
     ]
    }
   ],
   "source": [
    "import numpy as np\n",
    "\n",
    "arr = np.array([10, 20, 30, 40, 50])\n",
    "\n",
    "mask = arr > 30\n",
    "\n",
    "selected_elements = arr[mask]\n",
    "\n",
    "print(selected_elements)"
   ]
  },
  {
   "cell_type": "markdown",
   "id": "abf11881-15f5-4e6b-aead-db7a70daf61a",
   "metadata": {},
   "source": [
    "### Fancy Indexing\n",
    "\n",
    "In NumPy, fancy indexing is a technique that allows you to access or manipulate array elements using arrays of indices or boolean masks. It provides a powerful way to select elements from an array based on certain criteria or patterns. Fancy indexing can be done using arrays, lists, or boolean arrays as indexing objects.\n",
    "\n",
    "Here are a few examples to illustrate fancy indexing in NumPy:\n",
    "\n",
    "Example 1: Indexing with arrays\n",
    "``` python\n",
    "import numpy as np\n",
    "\n",
    "# Create a 1-dimensional array\n",
    "arr = np.array([10, 20, 30, 40, 50])\n",
    "\n",
    "# Create an array of indices\n",
    "indices = np.array([1, 3])\n",
    "\n",
    "# Access elements at specified indices\n",
    "selected_elements = arr[indices]\n",
    "\n",
    "print(selected_elements)\n",
    "```\n",
    "Output:\n",
    "```python\n",
    "[20 40]\n",
    "```\n",
    "In this example, we create a 1-dimensional array `arr` and an array of indices `indices`. By using `indices` as an index array, we can select the elements at indices 1 and 3 from the original array `arr`.\n",
    "\n",
    "Example 2: Indexing with multidimensional arrays\n",
    "``` python\n",
    "import numpy as np\n",
    "\n",
    "# Create a 2-dimensional array\n",
    "arr = np.array([[1, 2, 3], [4, 5, 6], [7, 8, 9]])\n",
    "\n",
    "# Create an array of row indices\n",
    "row_indices = np.array([0, 2])\n",
    "\n",
    "# Create an array of column indices\n",
    "col_indices = np.array([1, 2])\n",
    "\n",
    "# Access elements at specified row and column indices\n",
    "selected_elements = arr[row_indices, col_indices]\n",
    "\n",
    "print(selected_elements)\n",
    "```\n",
    "Output:\n",
    "```python\n",
    "[2 9]\n",
    "```\n",
    "In this example, we create a 2-dimensional array `arr` and arrays of row indices `row_indices` and column indices `col_indices`. By using these index arrays, we can select specific elements from the original array `arr` based on the corresponding row and column indices.\n",
    "\n",
    "These examples demonstrate how fancy indexing can be used to select specific elements from NumPy arrays based on indices or boolean masks. Fancy indexing provides a flexible and efficient way to perform complex operations on arrays."
   ]
  },
  {
   "cell_type": "code",
   "execution_count": 22,
   "id": "85fa360c-7eda-4a10-8f77-42c46c01f371",
   "metadata": {},
   "outputs": [
    {
     "name": "stdout",
     "output_type": "stream",
     "text": [
      "[20 40]\n"
     ]
    }
   ],
   "source": [
    "import numpy as np\n",
    "\n",
    "arr = np.array([10, 20, 30, 40, 50])\n",
    "\n",
    "indices = np.array([1, 3])\n",
    "\n",
    "selected_elements = arr[indices]\n",
    "\n",
    "print(selected_elements)"
   ]
  },
  {
   "cell_type": "code",
   "execution_count": 23,
   "id": "62528db7-7423-4320-8087-1625d8d021ad",
   "metadata": {},
   "outputs": [
    {
     "name": "stdout",
     "output_type": "stream",
     "text": [
      "[2 9]\n"
     ]
    }
   ],
   "source": [
    "arr = np.array([[1, 2, 3], [4, 5, 6], [7, 8, 9]])\n",
    "\n",
    "row_indices = np.array([0, 2])\n",
    "\n",
    "col_indices = np.array([1, 2])\n",
    "\n",
    "selected_elements = arr[row_indices, col_indices]\n",
    "\n",
    "print(selected_elements)"
   ]
  }
 ],
 "metadata": {
  "kernelspec": {
   "display_name": "Python 3 (ipykernel)",
   "language": "python",
   "name": "python3"
  },
  "language_info": {
   "codemirror_mode": {
    "name": "ipython",
    "version": 3
   },
   "file_extension": ".py",
   "mimetype": "text/x-python",
   "name": "python",
   "nbconvert_exporter": "python",
   "pygments_lexer": "ipython3",
   "version": "3.11.4"
  }
 },
 "nbformat": 4,
 "nbformat_minor": 5
}
