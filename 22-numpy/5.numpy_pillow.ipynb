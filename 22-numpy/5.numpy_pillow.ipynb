{
 "cells": [
  {
   "cell_type": "markdown",
   "id": "491a4307-b83d-432f-b8ac-a32788885935",
   "metadata": {},
   "source": [
    "## NumPy and Pillow\n",
    "\n",
    "In this section we will see some examples of using numpy and pillow for basic image processing.\n",
    "\n",
    "To load an image into a NumPy array, you can use Pillow to load the image then convert it to a NumPy array.\n",
    "\n",
    "```python\n",
    "import numpy as np\n",
    "from PIL import Image\n",
    "\n",
    "# Load the image using PIL\n",
    "image_pil = Image.open(\"path/to/image.jpg\")\n",
    "\n",
    "# Convert the PIL image to a NumPy array\n",
    "image_array = np.array(image_pil.convert('RGB'))\n",
    "```\n",
    "\n",
    "In this example, we first open the image using PIL's `Image.open()` function and assign it to the variable `image_pil`.\n",
    "\n",
    "Next, we convert the PIL image to a NumPy array by calling `np.array()` on the `image_pil` object. The resulting NumPy array is assigned to the variable `image_np`.\n",
    "\n",
    "If the image has an alpha channel (RGBA format), we remove the alpha channel by slicing the array to include only the first three channels (RGB). This step ensures that the resulting NumPy array represents an RGB image.\n",
    "\n",
    "Finally, we print the shape of the NumPy array using `image_np.shape` to verify the dimensions of the image array.\n",
    "\n",
    "Make sure to replace `\"path/to/image.jpg\"` with the actual path to your RGB image file. After executing this code, the RGB image will be loaded into a NumPy array named `image_np`."
   ]
  },
  {
   "cell_type": "code",
   "execution_count": 13,
   "id": "e2be414e-25c5-4309-9d58-faf3566506ad",
   "metadata": {},
   "outputs": [],
   "source": [
    "import numpy as np\n",
    "from PIL import Image\n",
    "\n",
    "image_pil = Image.open(\"./imgs/grass.jpg\")\n",
    "\n",
    "image_array = np.array(image_pil.convert('RGB'))"
   ]
  },
  {
   "cell_type": "code",
   "execution_count": 14,
   "id": "5fb99acd-7956-4099-ac3f-f1d8008e41ca",
   "metadata": {},
   "outputs": [
    {
     "data": {
      "text/plain": [
       "(2880, 1920, 3)"
      ]
     },
     "execution_count": 14,
     "metadata": {},
     "output_type": "execute_result"
    }
   ],
   "source": [
    "image_array.shape"
   ]
  },
  {
   "cell_type": "code",
   "execution_count": 15,
   "id": "d30a0720-2985-4751-9a35-38bd10eb60ce",
   "metadata": {},
   "outputs": [
    {
     "data": {
      "text/plain": [
       "array([[ 38, 166, 241],\n",
       "       [ 36, 164, 239],\n",
       "       [ 40, 168, 243],\n",
       "       ...,\n",
       "       [ 25, 121, 205],\n",
       "       [ 26, 122, 206],\n",
       "       [ 26, 123, 204]], dtype=uint8)"
      ]
     },
     "execution_count": 15,
     "metadata": {},
     "output_type": "execute_result"
    }
   ],
   "source": [
    "image_array[0]"
   ]
  },
  {
   "cell_type": "markdown",
   "id": "db9f2db6-07b7-4e9a-b83c-9282db0d85cd",
   "metadata": {},
   "source": [
    "#### Example 1: Finding edges of an image using numpy"
   ]
  },
  {
   "cell_type": "code",
   "execution_count": 20,
   "id": "8b403293-d971-4596-8c6e-bd3c8231865b",
   "metadata": {},
   "outputs": [],
   "source": [
    "import numpy as np\n",
    "from PIL import Image\n",
    "\n",
    "image_pil = Image.open(\"./imgs/grass.jpg\")\n",
    "\n",
    "image_array = np.array(image_pil.convert('L').resize((500, 500)))"
   ]
  },
  {
   "cell_type": "code",
   "execution_count": 21,
   "id": "4dc81008-f398-412c-a05b-609465821af1",
   "metadata": {},
   "outputs": [
    {
     "name": "stderr",
     "output_type": "stream",
     "text": [
      "/tmp/ipykernel_59055/618578473.py:17: RuntimeWarning: overflow encountered in scalar subtract\n",
      "  pixel_contrast = sum([ abs(pixel - image_array[i][j]) for i, j in neighbor_pixels ])\n"
     ]
    }
   ],
   "source": [
    "edges_matrix = np.zeros(image_array.shape)\n",
    "\n",
    "for row_idx, row in enumerate(image_array):\n",
    "    for column_idx, pixel in enumerate(row):\n",
    "        if 0 < row_idx < len(image_array) - 1 and 0 < column_idx < len(row) - 1:\n",
    "            neighbor_pixels = {\n",
    "                (row_idx - 1, column_idx),\n",
    "                (row_idx + 1, column_idx),\n",
    "                (row_idx, column_idx - 1),\n",
    "                (row_idx, column_idx + 1),\n",
    "                (row_idx + 1, column_idx + 1),\n",
    "                (row_idx - 1, column_idx - 1),\n",
    "                (row_idx - 1, column_idx + 1),\n",
    "                (row_idx + 1, column_idx - 1)\n",
    "            }\n",
    "            \n",
    "            pixel_contrast = sum([ abs(pixel - image_array[i][j]) for i, j in neighbor_pixels ])\n",
    "            \n",
    "            if pixel_contrast > 50:\n",
    "                edges_matrix[row_idx][column_idx] = 255"
   ]
  },
  {
   "cell_type": "code",
   "execution_count": 23,
   "id": "a72f00ac-4bc8-40e7-843a-fef5c5b20a76",
   "metadata": {},
   "outputs": [
    {
     "data": {
      "text/plain": [
       "array([[  0.,   0.,   0., ...,   0.,   0.,   0.],\n",
       "       [  0., 255., 255., ..., 255., 255.,   0.],\n",
       "       [  0., 255., 255., ..., 255., 255.,   0.],\n",
       "       ...,\n",
       "       [  0.,   0.,   0., ...,   0.,   0.,   0.],\n",
       "       [  0.,   0.,   0., ...,   0.,   0.,   0.],\n",
       "       [  0.,   0.,   0., ...,   0.,   0.,   0.]])"
      ]
     },
     "execution_count": 23,
     "metadata": {},
     "output_type": "execute_result"
    }
   ],
   "source": [
    "edges_matrix"
   ]
  },
  {
   "cell_type": "code",
   "execution_count": 24,
   "id": "1f9b064d-87eb-42dc-a11a-cef642b41ea0",
   "metadata": {},
   "outputs": [],
   "source": [
    "edges_img = Image.fromarray(edges_matrix)"
   ]
  },
  {
   "cell_type": "code",
   "execution_count": 25,
   "id": "28bf5119-6327-4a9c-88ed-ab4e362c59e0",
   "metadata": {},
   "outputs": [],
   "source": [
    "edges_img.show()"
   ]
  },
  {
   "cell_type": "code",
   "execution_count": null,
   "id": "cd3ccc90-56e6-4944-a5bf-085940875e30",
   "metadata": {},
   "outputs": [],
   "source": []
  }
 ],
 "metadata": {
  "kernelspec": {
   "display_name": "Python 3 (ipykernel)",
   "language": "python",
   "name": "python3"
  },
  "language_info": {
   "codemirror_mode": {
    "name": "ipython",
    "version": 3
   },
   "file_extension": ".py",
   "mimetype": "text/x-python",
   "name": "python",
   "nbconvert_exporter": "python",
   "pygments_lexer": "ipython3",
   "version": "3.9.7"
  }
 },
 "nbformat": 4,
 "nbformat_minor": 5
}
