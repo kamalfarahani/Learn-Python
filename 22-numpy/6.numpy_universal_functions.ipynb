{
 "cells": [
  {
   "cell_type": "markdown",
   "id": "14176234-adab-4193-8a61-602db620dd0d",
   "metadata": {},
   "source": [
    "## Universal functions\n",
    "\n",
    "In NumPy, universal functions, also known as ufuncs, are functions that operate element-wise on ndarrays, allowing for fast and efficient computations. Ufuncs are a key feature of NumPy and provide a convenient way to apply mathematical operations to arrays without the need for explicit loops.\n",
    "\n",
    "Some common examples of universal functions in NumPy include:\n",
    "\n",
    "1. Mathematical Functions:\n",
    "   - `np.abs(arr)`: Compute the absolute value of each element.\n",
    "   - `np.sqrt(arr)`: Compute the square root of each element.\n",
    "   - `np.exp(arr)`: Compute the exponential of each element.\n",
    "   - `np.log(arr)`: Compute the natural logarithm of each element.\n",
    "\n",
    "2. Arithmetic Operations:\n",
    "   - `np.add(arr_1, arr_2)` or `np.add(arr_1, scaler)`: Add corresponding elements of two arrays.\n",
    "   - `np.subtract(arr_1, arr_2)`, `np.subtract(arr_1, scaler)`: Subtract corresponding elements of two arrays.\n",
    "   - `np.multiply(arr_1, arr_2)`, `np.multiply(arr_1, scaler)`: Multiply corresponding elements of two arrays.\n",
    "   - `np.divide(arr_1, arr_2)`, `np.divide(arr_1, scaler)`: Divide corresponding elements of two arrays.\n",
    "   - `np.power(arr_1, arr_2)`, `np.power(arr_1, scaler)`: Raise each element to a specified corresponding power.\n",
    "\n",
    "3. Aggregation Functions:\n",
    "   - `np.sum(arr)`: Compute the sum of all elements in an array.\n",
    "   - `np.mean(arr)`: Compute the arithmetic mean of elements in an array.\n",
    "   - `np.min(arr)`, `np.max(arr)`: Find the minimum and maximum values in an array, respectively.\n",
    "   - `np.std(arr)`, `np.var(arr)`: Compute the standard deviation and variance of elements in an array, respectively.\n",
    "\n",
    "\n",
    "4. Array Manipulation:\n",
    "   - `np.reshape(arr, new_shape)`: Reshape an array into a specified shape.\n",
    "   - `np.concatenate((arr_1, arr_2, ...), axis=0)`: Join arrays along a specified axis.\n",
    "   - `np.split()`: Split an array into multiple sub-arrays along a specified axis.\n",
    "\n",
    "6. Trigonometric Functions:\n",
    "   - `np.sin(arr)`, `np.cos(arr)`, `np.tan(arr)`: Compute the sine, cosine, and tangent of each element, respectively.\n",
    "   - `np.arcsin(arr)`, `np.arccos(arr)`, `np.arctan(arr)`: Compute the inverse sine, inverse cosine, and inverse tangent of each element, respectively.\n",
    "\n",
    "This is not an exhaustive list, but it covers some commonly used universal functions in NumPy. NumPy's documentation provides a comprehensive list of available ufuncs, along with detailed explanations and examples for each function."
   ]
  },
  {
   "cell_type": "markdown",
   "id": "13488593-7adb-40ea-abca-f54728f3435d",
   "metadata": {},
   "source": [
    "### Mathematical functions\n",
    "1. `np.abs`: The `np.abs` function is used to calculate the absolute values of the elements in an array. It returns an array with the same shape as the input array, where each element is replaced with its absolute value.\n",
    "\n",
    "   Example:\n",
    "   ```python\n",
    "   import numpy as np\n",
    "\n",
    "   arr = np.array([-2, 4, -6, 8, -10])\n",
    "   abs_arr = np.abs(arr)\n",
    "   print(abs_arr)\n",
    "   ```\n",
    "   \n",
    "   Output:\n",
    "   ```pyhon\n",
    "   [ 2  4  6  8 10]\n",
    "   ```\n",
    "\n",
    "3. `np.sqrt`: The `np.sqrt` function is used to calculate the square root of each element in an array. It returns an array with the same shape as the input array, where each element is replaced with its square root.\n",
    "\n",
    "   Example:\n",
    "   ```python\n",
    "   import numpy as np\n",
    "\n",
    "   arr = np.array([4, 9, 16, 25, 36])\n",
    "   sqrt_arr = np.sqrt(arr)\n",
    "   print(sqrt_arr)\n",
    "   ```\n",
    "\n",
    "   Output:\n",
    "   ```python\n",
    "   [2. 3. 4. 5. 6.]\n",
    "   ```\n",
    "\n",
    "5. `np.exp`: The `np.exp` function is used to calculate the exponential of each element in an array. It returns an array with the same shape as the input array, where each element is replaced with its exponential value.\n",
    "\n",
    "   Example:\n",
    "   ```python\n",
    "   import numpy as np\n",
    "\n",
    "   arr = np.array([1, 2, 3])\n",
    "   exp_arr = np.exp(arr)\n",
    "   print(exp_arr)\n",
    "   ```\n",
    "\n",
    "   \n",
    "   Output:\n",
    "   ```\n",
    "   [ 2.71828183  7.3890561  20.08553692]\n",
    "   ```\n",
    "\n",
    "6. `np.log`: The `np.log` function is used to calculate the natural logarithm (base e) of each element in an array. It returns an array with the same shape as the input array, where each element is replaced with its natural logarithm.\n",
    "\n",
    "   Example:\n",
    "   ```python\n",
    "   import numpy as np\n",
    "\n",
    "   arr = np.array([1, 10, 100])\n",
    "   log_arr = np.log(arr)\n",
    "   print(log_arr)\n",
    "   ```\n",
    "\n",
    "   Output:\n",
    "   ```python\n",
    "   [0.         2.30258509 4.60517019]\n",
    "   ```\n",
    "\n",
    "These functions are very useful in scientific and mathematical computations, and NumPy provides efficient implementations to perform these operations on arrays of any size."
   ]
  },
  {
   "cell_type": "code",
   "execution_count": 1,
   "id": "a54a9e84-14f3-47f5-8805-75429e2f4b73",
   "metadata": {},
   "outputs": [
    {
     "name": "stdout",
     "output_type": "stream",
     "text": [
      "[ 2  4  6  8 10]\n"
     ]
    }
   ],
   "source": [
    "import numpy as np\n",
    "\n",
    "arr = np.array([-2, 4, -6, 8, -10])\n",
    "abs_arr = np.abs(arr)\n",
    "print(abs_arr)"
   ]
  },
  {
   "cell_type": "code",
   "execution_count": 3,
   "id": "db15051c-4453-4faa-ab80-a3aebba66746",
   "metadata": {},
   "outputs": [
    {
     "data": {
      "text/plain": [
       "array([1.        , 1.41421356, 1.73205081])"
      ]
     },
     "execution_count": 3,
     "metadata": {},
     "output_type": "execute_result"
    }
   ],
   "source": [
    "np.sqrt(arr)"
   ]
  },
  {
   "cell_type": "code",
   "execution_count": 4,
   "id": "c1272b04-1b1d-43c6-897b-0b9e8c2689b8",
   "metadata": {},
   "outputs": [
    {
     "data": {
      "text/plain": [
       "array([ 2.71828183,  7.3890561 , 20.08553692])"
      ]
     },
     "execution_count": 4,
     "metadata": {},
     "output_type": "execute_result"
    }
   ],
   "source": [
    "np.exp(arr)"
   ]
  },
  {
   "cell_type": "code",
   "execution_count": 5,
   "id": "b6267d94-1d30-4a1e-aada-a896ca49e7f8",
   "metadata": {},
   "outputs": [
    {
     "data": {
      "text/plain": [
       "array([0.        , 0.69314718, 1.09861229])"
      ]
     },
     "execution_count": 5,
     "metadata": {},
     "output_type": "execute_result"
    }
   ],
   "source": [
    "np.log(arr)"
   ]
  },
  {
   "cell_type": "markdown",
   "id": "e6b3337f-14c4-4f2d-b420-2a53e86f5a67",
   "metadata": {},
   "source": [
    "### Arithmetic Operations\n",
    "\n",
    "We have seen arithmetic operations in `NumPy Operations` notebook, here we will talk a little about broadcasting.\n",
    "\n",
    "#### Broadcasting\n",
    "\n",
    "Broadcasting between an array and a scalar in NumPy allows the scalar value to be combined with each element of the array in element-wise operations. The scalar is effectively broadcasted to match the shape of the array, enabling the operation to be performed.\n",
    "\n",
    "Here's how broadcasting between an array and a scalar happens in NumPy:\n",
    "\n",
    "1. Scalar Expansion: The scalar value is expanded to an array of the same shape as the array it is being combined with. This is done by duplicating the scalar value along all dimensions to match the shape of the array.\n",
    "\n",
    "2. Element-Wise Operation: Once the scalar and the array have compatible shapes, the element-wise operation is performed between the expanded scalar and the corresponding elements of the array.\n",
    "\n",
    "Here's an example to illustrate broadcasting between an array and a scalar:\n",
    "\n",
    "```python\n",
    "import numpy as np\n",
    "\n",
    "# Broadcasting example with scalar and array\n",
    "scalar = 2\n",
    "array = np.array([1, 2, 3])\n",
    "\n",
    "# Perform element-wise multiplication\n",
    "result = scalar * array\n",
    "\n",
    "print(result)\n",
    "```\n",
    "\n",
    "In this example, we have a scalar value `scalar` with the value 2 and an array `array` with shape `(3,)` containing the elements `[1, 2, 3]`. The scalar value is broadcasted to match the shape of the array, resulting in an expanded scalar array `[2, 2, 2]`. Then, the element-wise multiplication is performed between the expanded scalar and the corresponding elements of the array, resulting in the array `result` with the values `[2, 4, 6]`.\n",
    "\n",
    "The output of the above code will be:\n",
    "```\n",
    "[2 4 6]\n",
    "```\n",
    "\n",
    "As you can see, the scalar value of 2 was broadcasted to match the shape of the array, allowing the element-wise multiplication to be performed effortlessly.\n",
    "\n",
    "Broadcasting between an array and a scalar in NumPy is a convenient way to apply scalar operations to all elements of an array without explicitly creating an array of the same shape as the original array. It simplifies the syntax and enhances the efficiency of computations."
   ]
  },
  {
   "cell_type": "code",
   "execution_count": 6,
   "id": "e9aeaef3-4172-4e3c-9379-cd2f403c9c17",
   "metadata": {},
   "outputs": [
    {
     "data": {
      "text/plain": [
       "array([2, 4, 6])"
      ]
     },
     "execution_count": 6,
     "metadata": {},
     "output_type": "execute_result"
    }
   ],
   "source": [
    "import numpy as np\n",
    "\n",
    "scalar = 2\n",
    "array = np.array([1, 2, 3])\n",
    "\n",
    "scalar * array"
   ]
  },
  {
   "cell_type": "code",
   "execution_count": 7,
   "id": "32e16b03-807e-4d9c-9a40-88b1f39c0e26",
   "metadata": {},
   "outputs": [
    {
     "data": {
      "text/plain": [
       "array([3, 4, 5])"
      ]
     },
     "execution_count": 7,
     "metadata": {},
     "output_type": "execute_result"
    }
   ],
   "source": [
    "scalar + array"
   ]
  },
  {
   "cell_type": "code",
   "execution_count": 8,
   "id": "86625145-e198-4ca6-ad9f-5c6e774cda38",
   "metadata": {},
   "outputs": [
    {
     "data": {
      "text/plain": [
       "array([2.        , 1.        , 0.66666667])"
      ]
     },
     "execution_count": 8,
     "metadata": {},
     "output_type": "execute_result"
    }
   ],
   "source": [
    "scalar / array"
   ]
  },
  {
   "cell_type": "code",
   "execution_count": 9,
   "id": "81b3706a-7a86-4cdb-a42c-f3cd54dad272",
   "metadata": {},
   "outputs": [
    {
     "data": {
      "text/plain": [
       "array([0.5, 1. , 1.5])"
      ]
     },
     "execution_count": 9,
     "metadata": {},
     "output_type": "execute_result"
    }
   ],
   "source": [
    "array / scalar"
   ]
  }
 ],
 "metadata": {
  "kernelspec": {
   "display_name": "Python 3 (ipykernel)",
   "language": "python",
   "name": "python3"
  },
  "language_info": {
   "codemirror_mode": {
    "name": "ipython",
    "version": 3
   },
   "file_extension": ".py",
   "mimetype": "text/x-python",
   "name": "python",
   "nbconvert_exporter": "python",
   "pygments_lexer": "ipython3",
   "version": "3.11.4"
  }
 },
 "nbformat": 4,
 "nbformat_minor": 5
}
