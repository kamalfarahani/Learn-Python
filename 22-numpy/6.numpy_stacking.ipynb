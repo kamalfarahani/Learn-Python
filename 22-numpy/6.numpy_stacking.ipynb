{
 "cells": [
  {
   "cell_type": "markdown",
   "id": "3ed0752a-9579-494c-97bc-cd05b29d574e",
   "metadata": {},
   "source": [
    "## Stacking\n",
    "\n",
    "In NumPy, stacking refers to the process of combining arrays along a new axis. It allows you to concatenate arrays horizontally (column-wise) or vertically (row-wise) to create a new array with a higher dimension. NumPy provides several functions for stacking arrays, including `hstack` and `vstack`.\n",
    "\n",
    "1. **`numpy.hstack`**: This function is used to horizontally stack arrays. It takes a sequence of arrays as input and returns a new array formed by stacking them horizontally. The arrays must have the same shape along all dimensions except the one being stacked. Here's an example:\n",
    "\n",
    "```python\n",
    "import numpy as np\n",
    "\n",
    "array_1 = np.array([1, 2, 3])\n",
    "array_2 = np.array([4, 5, 6])\n",
    "\n",
    "result = np.hstack((array_1, array_2))\n",
    "print(result)\n",
    "```\n",
    "\n",
    "Output:\n",
    "```\n",
    "[1 2 3 4 5 6]\n",
    "```\n",
    "\n",
    "In this example, the `hstack` function horizontally stacks `array1` and `array2` to create a new array `[1, 2, 3, 4, 5, 6]`.\n",
    "\n",
    "2. **`numpy.vstack`**: This function is used to vertically stack arrays. It takes a sequence of arrays as input and returns a new array formed by stacking them vertically. Again, the arrays must have the same shape along all dimensions except the one being stacked. Here's an example:\n",
    "\n",
    "```python\n",
    "import numpy as np\n",
    "\n",
    "array_1 = np.array([1, 2, 3])\n",
    "array_2 = np.array([4, 5, 6])\n",
    "\n",
    "result = np.vstack((array_1, array_2))\n",
    "print(result)\n",
    "```\n",
    "\n",
    "Output:\n",
    "```\n",
    "[[1 2 3]\n",
    " [4 5 6]]\n",
    "```\n",
    "\n",
    "In this example, the `vstack` function vertically stacks `array1` and `array2` to create a new 2D array `[[1, 2, 3], [4, 5, 6]]`.\n",
    "\n",
    "Both `hstack` and `vstack` functions are useful when you want to combine arrays either horizontally or vertically. They provide a convenient way to concatenate arrays and create higher-dimensional arrays."
   ]
  },
  {
   "cell_type": "code",
   "execution_count": 7,
   "id": "ae79eced-3d09-4146-8bd8-2b993f23779e",
   "metadata": {},
   "outputs": [
    {
     "data": {
      "text/plain": [
       "array([1, 2, 3, 4, 5, 6])"
      ]
     },
     "execution_count": 7,
     "metadata": {},
     "output_type": "execute_result"
    }
   ],
   "source": [
    "import numpy as np\n",
    "\n",
    "array_1 = np.array([1, 2, 3])\n",
    "array_2 = np.array([4, 5, 6])\n",
    "\n",
    "np.hstack((array_1, array_2))"
   ]
  },
  {
   "cell_type": "code",
   "execution_count": 8,
   "id": "ae9fd492-cc89-404b-a1fe-28e68c242b5a",
   "metadata": {},
   "outputs": [
    {
     "data": {
      "text/plain": [
       "array([[1, 2, 3],\n",
       "       [4, 5, 6]])"
      ]
     },
     "execution_count": 8,
     "metadata": {},
     "output_type": "execute_result"
    }
   ],
   "source": [
    "np.vstack((array_1, array_2))"
   ]
  },
  {
   "cell_type": "markdown",
   "id": "918f7253-a506-4b76-aaea-c1098e73122c",
   "metadata": {},
   "source": [
    "> **The arrays must have the same shape along all dimensions except the one being stacked, for `htstack` it only sencond dimension can differ.**"
   ]
  },
  {
   "cell_type": "code",
   "execution_count": 32,
   "id": "41d902c5-e3ac-4529-8f42-053956caa3b3",
   "metadata": {},
   "outputs": [],
   "source": [
    "matrix_1 = np.random.randint(0, 10, (3,4))\n",
    "matrix_2 = np.random.randint(0, 10, (3, 5))"
   ]
  },
  {
   "cell_type": "code",
   "execution_count": 33,
   "id": "cffd1615-a394-4148-8a55-3304bb94954b",
   "metadata": {},
   "outputs": [
    {
     "data": {
      "text/plain": [
       "array([[1, 6, 5, 0],\n",
       "       [9, 7, 8, 5],\n",
       "       [6, 4, 1, 6]])"
      ]
     },
     "execution_count": 33,
     "metadata": {},
     "output_type": "execute_result"
    }
   ],
   "source": [
    "matrix_1"
   ]
  },
  {
   "cell_type": "code",
   "execution_count": 34,
   "id": "9600b0f7-7ac0-4dcd-8f11-308860ab9a01",
   "metadata": {},
   "outputs": [
    {
     "data": {
      "text/plain": [
       "array([[1, 4, 3, 3, 4],\n",
       "       [1, 3, 5, 2, 9],\n",
       "       [4, 5, 2, 7, 9]])"
      ]
     },
     "execution_count": 34,
     "metadata": {},
     "output_type": "execute_result"
    }
   ],
   "source": [
    "matrix_2"
   ]
  },
  {
   "cell_type": "code",
   "execution_count": 35,
   "id": "b3ab4753-2d6e-4482-b6fb-2d74b5dee7ee",
   "metadata": {},
   "outputs": [
    {
     "data": {
      "text/plain": [
       "array([[1, 6, 5, 0, 1, 4, 3, 3, 4],\n",
       "       [9, 7, 8, 5, 1, 3, 5, 2, 9],\n",
       "       [6, 4, 1, 6, 4, 5, 2, 7, 9]])"
      ]
     },
     "execution_count": 35,
     "metadata": {},
     "output_type": "execute_result"
    }
   ],
   "source": [
    "np.hstack((matrix_1, matrix_2))"
   ]
  },
  {
   "cell_type": "markdown",
   "id": "e69550fa-c4a8-42b6-9d5e-eb34ad5576d6",
   "metadata": {},
   "source": [
    "> **The arrays must have the same shape along all dimensions except the one being stacked, for `vtstack` it only first dimension can differ.**"
   ]
  },
  {
   "cell_type": "code",
   "execution_count": 36,
   "id": "7ac1df67-0c48-4240-9801-424b16c87306",
   "metadata": {},
   "outputs": [],
   "source": [
    "matrix_1 = np.random.randint(0, 10, (5, 4))\n",
    "matrix_2 = np.random.randint(0, 10, (3, 4))"
   ]
  },
  {
   "cell_type": "code",
   "execution_count": 37,
   "id": "ac2ebcc4-8a18-45a3-913f-b4df3d89c055",
   "metadata": {},
   "outputs": [
    {
     "data": {
      "text/plain": [
       "array([[7, 5, 5, 8],\n",
       "       [5, 1, 8, 6],\n",
       "       [2, 7, 8, 2],\n",
       "       [6, 7, 8, 5],\n",
       "       [0, 1, 8, 0]])"
      ]
     },
     "execution_count": 37,
     "metadata": {},
     "output_type": "execute_result"
    }
   ],
   "source": [
    "matrix_1"
   ]
  },
  {
   "cell_type": "code",
   "execution_count": 38,
   "id": "452601ea-2262-45ae-b16a-c5d73e9daa08",
   "metadata": {},
   "outputs": [
    {
     "data": {
      "text/plain": [
       "array([[9, 7, 1, 5],\n",
       "       [4, 1, 7, 7],\n",
       "       [9, 3, 3, 7]])"
      ]
     },
     "execution_count": 38,
     "metadata": {},
     "output_type": "execute_result"
    }
   ],
   "source": [
    "matrix_2"
   ]
  },
  {
   "cell_type": "code",
   "execution_count": 39,
   "id": "f75fb0c9-e954-4f47-b51c-6ad5befaa394",
   "metadata": {},
   "outputs": [
    {
     "data": {
      "text/plain": [
       "array([[7, 5, 5, 8],\n",
       "       [5, 1, 8, 6],\n",
       "       [2, 7, 8, 2],\n",
       "       [6, 7, 8, 5],\n",
       "       [0, 1, 8, 0],\n",
       "       [9, 7, 1, 5],\n",
       "       [4, 1, 7, 7],\n",
       "       [9, 3, 3, 7]])"
      ]
     },
     "execution_count": 39,
     "metadata": {},
     "output_type": "execute_result"
    }
   ],
   "source": [
    "np.vstack((matrix_1, matrix_2))"
   ]
  },
  {
   "cell_type": "markdown",
   "id": "9466fce8-b9ea-46d7-a4b3-405abf47f22d",
   "metadata": {},
   "source": [
    "### `np.concatenate` a more general function\n",
    "\n",
    "The `np.concatenate` function in NumPy is used to concatenate or join arrays along a specified axis. It allows you to combine multiple arrays into a single array by appending them along the specified axis.\n",
    "\n",
    "The syntax of the `np.concatenate` function is as follows:\n",
    "\n",
    "```python\n",
    "np.concatenate((array1, array2, ...), axis=0)\n",
    "```\n",
    "\n",
    "Here, `array1`, `array2`, and so on, are the arrays that you want to concatenate. The `axis` parameter specifies the axis along which the concatenation should take place. By default, `axis=0`, which means the arrays are concatenated along the first dimension (rows). You can change the value of `axis` to concatenate the arrays along other dimensions.\n",
    "\n",
    "Here's an example to illustrate the usage of `np.concatenate`:\n",
    "\n",
    "```python\n",
    "import numpy as np\n",
    "\n",
    "# Create two arrays\n",
    "array_1 = np.array([[1, 2, 3], [4, 5, 6]])\n",
    "array_2 = np.array([[7, 8, 9], [10, 11, 12]])\n",
    "\n",
    "# Concatenate the arrays along the rows (axis=0)\n",
    "result = np.concatenate((array_1, array_2), axis=0)\n",
    "print(result)\n",
    "```\n",
    "\n",
    "Output:\n",
    "```\n",
    "[[ 1  2  3]\n",
    " [ 4  5  6]\n",
    " [ 7  8  9]\n",
    " [10 11 12]]\n",
    "```\n",
    "\n",
    "In this example, `array1` and `array2` are concatenated along the rows (axis=0) using `np.concatenate`. The resulting array `result` contains all the rows from `array1` followed by all the rows from `array2`.\n",
    "\n",
    "Some important points to note about `np.concatenate`:\n",
    "\n",
    "- The arrays being concatenated must have the same shape along the specified axis. For example, if concatenating along axis=0, the arrays should have the same number of columns.\n",
    "\n",
    "- `np.concatenate` can be used to concatenate arrays of any dimension, not just 2D arrays. The shape of the arrays along the non-concatenating axes should be the same.\n",
    "\n",
    "- If the arrays being concatenated have different shapes along the specified axis, a `ValueError` will be raised.\n",
    "\n",
    "- `np.concatenate` returns a new array that is the result of the concatenation. It does not modify the original arrays.\n",
    "\n",
    "- You can concatenate more than two arrays by passing them as a sequence in the first argument of `np.concatenate`."
   ]
  },
  {
   "cell_type": "code",
   "execution_count": 5,
   "id": "6e9aa559-14ae-48bb-80a3-d21fef6ab1e8",
   "metadata": {},
   "outputs": [
    {
     "data": {
      "text/plain": [
       "array([[ 1,  2,  3],\n",
       "       [ 4,  5,  6],\n",
       "       [ 7,  8,  9],\n",
       "       [10, 11, 12]])"
      ]
     },
     "execution_count": 5,
     "metadata": {},
     "output_type": "execute_result"
    }
   ],
   "source": [
    "import numpy as np\n",
    "\n",
    "array_1 = np.array([[1, 2, 3], [4, 5, 6]])\n",
    "array_2 = np.array([[7, 8, 9], [10, 11, 12]])\n",
    "\n",
    "np.concatenate((array_1, array_2), axis=0)"
   ]
  },
  {
   "cell_type": "code",
   "execution_count": 6,
   "id": "1f069478-2e94-4f85-923d-71f164d4b19f",
   "metadata": {},
   "outputs": [
    {
     "data": {
      "text/plain": [
       "array([[ 1,  2,  3,  7,  8,  9],\n",
       "       [ 4,  5,  6, 10, 11, 12]])"
      ]
     },
     "execution_count": 6,
     "metadata": {},
     "output_type": "execute_result"
    }
   ],
   "source": [
    "np.concatenate((array_1, array_2), axis=1)"
   ]
  }
 ],
 "metadata": {
  "kernelspec": {
   "display_name": "Python 3 (ipykernel)",
   "language": "python",
   "name": "python3"
  },
  "language_info": {
   "codemirror_mode": {
    "name": "ipython",
    "version": 3
   },
   "file_extension": ".py",
   "mimetype": "text/x-python",
   "name": "python",
   "nbconvert_exporter": "python",
   "pygments_lexer": "ipython3",
   "version": "3.11.4"
  }
 },
 "nbformat": 4,
 "nbformat_minor": 5
}
