{
 "cells": [
  {
   "cell_type": "markdown",
   "id": "7cafd1f6-bd37-4607-8567-4f588d7df413",
   "metadata": {},
   "source": [
    "## String Interpolation\n",
    "\n",
    "String interpolation is the process of embedding expressions inside a string literal in order to create a new string."
   ]
  },
  {
   "cell_type": "markdown",
   "id": "1de74ef7-e855-4fdd-8c79-44365ded1fd8",
   "metadata": {},
   "source": [
    "### Using + operator\n",
    "\n",
    "We can use `+` operator which works for two strings but in order to use it with objects of other types we should convert those objects to string using `str` function."
   ]
  },
  {
   "cell_type": "code",
   "execution_count": 2,
   "id": "62468978-bd3b-475f-9a68-8878559e0687",
   "metadata": {},
   "outputs": [
    {
     "ename": "TypeError",
     "evalue": "can only concatenate str (not \"int\") to str",
     "output_type": "error",
     "traceback": [
      "\u001b[0;31m---------------------------------------------------------------------------\u001b[0m",
      "\u001b[0;31mTypeError\u001b[0m                                 Traceback (most recent call last)",
      "Cell \u001b[0;32mIn[2], line 1\u001b[0m\n\u001b[0;32m----> 1\u001b[0m my_str \u001b[38;5;241m=\u001b[39m \u001b[38;5;124;43m'\u001b[39;49m\u001b[38;5;124;43mYour number is \u001b[39;49m\u001b[38;5;124;43m'\u001b[39;49m\u001b[43m \u001b[49m\u001b[38;5;241;43m+\u001b[39;49m\u001b[43m \u001b[49m\u001b[38;5;241;43m2\u001b[39;49m\n",
      "\u001b[0;31mTypeError\u001b[0m: can only concatenate str (not \"int\") to str"
     ]
    }
   ],
   "source": [
    "my_str = 'Your number is ' + 2"
   ]
  },
  {
   "cell_type": "code",
   "execution_count": 4,
   "id": "bad34d24-3f9d-434b-b2a9-8c24eff0fdc9",
   "metadata": {},
   "outputs": [
    {
     "name": "stdout",
     "output_type": "stream",
     "text": [
      "Your number is 2\n"
     ]
    }
   ],
   "source": [
    "my_str = 'Your number is ' + str(2)\n",
    "print(my_str)"
   ]
  },
  {
   "cell_type": "code",
   "execution_count": 5,
   "id": "34351316-9b96-427a-8a30-141732f277d7",
   "metadata": {},
   "outputs": [],
   "source": [
    "open = 98\n",
    "high = 100\n",
    "low = 80\n",
    "close = 95"
   ]
  },
  {
   "cell_type": "code",
   "execution_count": 8,
   "id": "5451668b-62c1-4556-8078-b686d21c989d",
   "metadata": {},
   "outputs": [
    {
     "data": {
      "text/plain": [
       "'open: 98, high: 100, low: 80, close: 95'"
      ]
     },
     "execution_count": 8,
     "metadata": {},
     "output_type": "execute_result"
    }
   ],
   "source": [
    "'open: ' + str(open) + ', high: ' + str(high) + ', low: ' + str(low) + ', close: ' + str(close)"
   ]
  },
  {
   "cell_type": "markdown",
   "id": "9ac12429-43bc-4e7d-b088-b970b0818599",
   "metadata": {},
   "source": [
    "**This works but is very ugly and error prone**"
   ]
  },
  {
   "cell_type": "markdown",
   "id": "7d8084d1-7326-473a-96b6-6154c6215cc6",
   "metadata": {},
   "source": [
    "### Using format and f-string"
   ]
  },
  {
   "cell_type": "markdown",
   "id": "41afb01d-87cc-4ab4-ba31-a9ad8da90b56",
   "metadata": {},
   "source": [
    "#### `format` method\n",
    "\n",
    "We can use format method of string"
   ]
  },
  {
   "cell_type": "code",
   "execution_count": 10,
   "id": "2e0648da-b5ae-475a-b8b0-5792bcb2b127",
   "metadata": {},
   "outputs": [
    {
     "data": {
      "text/plain": [
       "'open: 98, high: 100, low: 80, close: 95'"
      ]
     },
     "execution_count": 10,
     "metadata": {},
     "output_type": "execute_result"
    }
   ],
   "source": [
    "'open: {}, high: {}, low: {}, close: {}'.format(open, high, low, close)"
   ]
  },
  {
   "cell_type": "markdown",
   "id": "61eed9e4-a0dd-4d70-8920-b94261f29339",
   "metadata": {},
   "source": [
    "#### f-strings\n",
    "\n",
    "Or we can use f-strings"
   ]
  },
  {
   "cell_type": "code",
   "execution_count": 11,
   "id": "1ff9f7d0-5fa0-4ea5-8e1d-fb36279d99b3",
   "metadata": {},
   "outputs": [
    {
     "data": {
      "text/plain": [
       "'open: 98, high: 100, low: 80, close: 95'"
      ]
     },
     "execution_count": 11,
     "metadata": {},
     "output_type": "execute_result"
    }
   ],
   "source": [
    "f'open: {open}, high: {high}, low: {low}, close: {close}'"
   ]
  },
  {
   "cell_type": "code",
   "execution_count": 12,
   "id": "dd68709a-2681-4b0e-9daf-e9709e4148d1",
   "metadata": {},
   "outputs": [
    {
     "data": {
      "text/plain": [
       "'1 + 1 = 2'"
      ]
     },
     "execution_count": 12,
     "metadata": {},
     "output_type": "execute_result"
    }
   ],
   "source": [
    "f'1 + 1 = {1 + 1}'"
   ]
  }
 ],
 "metadata": {
  "kernelspec": {
   "display_name": "Python 3 (ipykernel)",
   "language": "python",
   "name": "python3"
  },
  "language_info": {
   "codemirror_mode": {
    "name": "ipython",
    "version": 3
   },
   "file_extension": ".py",
   "mimetype": "text/x-python",
   "name": "python",
   "nbconvert_exporter": "python",
   "pygments_lexer": "ipython3",
   "version": "3.10.10"
  }
 },
 "nbformat": 4,
 "nbformat_minor": 5
}
