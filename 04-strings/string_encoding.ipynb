{
 "cells": [
  {
   "cell_type": "markdown",
   "id": "19ce6f36-f32e-4e4e-8295-2e3136395815",
   "metadata": {},
   "source": [
    "## Strings\n",
    "\n",
    "\n",
    "In Python, a string is a sequence of characters enclosed in single quotes ('...') or double quotes (\"...\"). Strings are one of the most commonly used data types in Python, and they can be used to represent text, numbers, or any other type of data that can be represented as a sequence of characters.\n",
    "\n",
    "Strings are immutable, which means that once a string is created, its contents cannot be changed. However, you can create a new string by concatenating two or more strings together.\n",
    "\n",
    "Strings are a sequence type, but they are more specialized than generic sequences.\n",
    "* String is a homogeneous type\n",
    "* Each element of it is a single character\n",
    "* They have a lot of string related functionality, available"
   ]
  },
  {
   "cell_type": "markdown",
   "id": "6db720db-35e3-4270-b8ad-5be890457bf8",
   "metadata": {},
   "source": [
    "### How computer encodes characters (ASCI & Unicode)\n",
    "\n",
    "\n",
    "#### ASCI\n",
    "ASCII (American Standard Code for Information Interchange) is a character encoding standard that assigns a unique numerical value to each character in the English alphabet, as well as to other characters commonly used in computer systems, such as punctuation marks and control codes. In the ASCII encoding scheme, each character is represented by a 7-bit binary number, which can be easily translated into a decimal or hexadecimal value.\n",
    "\n",
    "ASCII was first published in 1963 by the American Standards Association, and it quickly became the dominant character encoding scheme for computers and communication systems in the United States and other English-speaking countries. ASCII includes codes for 128 characters, which is sufficient to represent all the letters, numbers, and other symbols used in the English language, as well as some control codes for communication and formatting purposes.\n",
    "\n",
    "The ASCII encoding scheme has been widely adopted by computer systems and programming languages, and it is still widely used today. For example, when you type a character on your keyboard, the computer translates that character into its corresponding ASCII code before storing it in memory or displaying it on the screen. Similarly, when you write a program in a programming language such as Python, you can use ASCII codes to represent characters in your code.\n",
    "\n",
    "Here are some examples of ASCII codes for commonly used characters:\n",
    "\n",
    "- The letter 'A' has an ASCII code of 65 (binary 01000001)\n",
    "- The digit '0' has an ASCII code of 48 (binary 00110000)\n",
    "- The space character has an ASCII code of 32 (binary 00100000)\n",
    "- The exclamation mark has an ASCII code of 33 (binary 00100001)\n",
    "- The dollar sign has an ASCII code of 36 (binary 00100100)\n",
    "\n",
    "Overall, ASCII is an important standard for character encoding in computer systems, and it has paved the way for other encoding schemes that support a wider range of characters and scripts. However, ASCII is limited to the English language and does not include characters used in other languages, such as accented letters or non-Latin scripts. For this reason, other encoding schemes, such as Unicode, have been developed to support a wider range of characters and scripts.\n",
    "\n",
    "#### Unicode\n",
    "\n",
    "Unicode is a character encoding standard that was developed to support the representation of text in all the world's writing systems. Unlike earlier character encoding schemes such as ASCII, which were limited to the English language and a few other Western European languages, Unicode includes characters from all the world's scripts, including Latin, Greek, Cyrillic, Arabic, Hebrew, Chinese, Japanese, and many others. Unicode provides a unique code point for each character, which can be represented using a variety of encoding schemes, including UTF-8, UTF-16, and UTF-32.\n",
    "\n",
    "Unicode was first developed in the 1980s by a group of computer scientists who recognized the need for a universal character encoding standard that could support all the world's scripts. The Unicode Consortium, a non-profit organization, was formed in 1991 to oversee the development and maintenance of the Unicode standard.\n",
    "\n",
    "The Unicode standard includes over 143,000 characters, including letters, digits, punctuation marks, mathematical symbols, and other characters used in various scripts around the world. Each character is assigned a unique code point, which is represented using a hexadecimal notation, such as U+0041 for the Latin letter 'A'.\n",
    "\n",
    "Unicode supports a variety of encoding schemes, which are used to represent Unicode characters as binary data. The most common encoding scheme is UTF-8, which uses one to four bytes to represent each character, depending on its code point. UTF-8 is widely used on the web and in many computer systems, because it is backwards-compatible with ASCII and can represent all the characters in the Unicode standard.\n",
    "\n",
    "In conclusion, Unicode is a character encoding standard that provides a unique code point for each character in all the world's writing systems. Unicode is widely used in computer systems and the web, and it has enabled the development of multilingual applications and the global exchange of information.\n",
    "\n",
    "For a better understanding, watch [this](https://www.youtube.com/watch?v=MijmeoH9LT4) video.\n",
    "\n",
    "[List of unicode chars](https://www.compart.com/en/unicode/)\n",
    "\n",
    "**In Python UTF-8 is the default coding for strings**"
   ]
  },
  {
   "cell_type": "markdown",
   "id": "d13516bd-d8c7-4361-844f-397510bef81b",
   "metadata": {},
   "source": [
    "### `ord` & `chr` functions in Python\n",
    "\n",
    "In Python, the `ord()` function is a built-in function that returns the integer Unicode code point of a given character. The `ord()` function takes a single argument, which is a Unicode character, and returns an integer that represents the Unicode code point of that character.\n",
    "\n",
    "Here's an example of how to use the `ord()` function in Python:\n",
    "\n",
    "```python\n",
    "# Get the Unicode code point of the letter 'A'\n",
    "code_point = ord('A')\n",
    "print(code_point)  # Output: 65\n",
    "```\n",
    "\n",
    "In this example, the `ord()` function is used to get the Unicode code point of the letter 'A', which is 65. The `ord()` function works with any Unicode character, including letters, digits, punctuation marks, and other symbols.\n",
    "\n",
    "The `ord()` function is often used in conjunction with the `chr()` function, which is another built-in function that does the opposite of `ord()`. The `chr()` function takes an integer Unicode code point and returns the corresponding character. Here's an example:\n",
    "\n",
    "```python\n",
    "# Get the character corresponding to the Unicode code point 65\n",
    "character = chr(65)\n",
    "print(character)  # Output: 'A'\n",
    "```\n",
    "\n",
    "In this example, the `chr()` function is used to get the character corresponding to the Unicode code point 65, which is 'A'.\n",
    "\n",
    "Together, the `ord()` and `chr()` functions provide a convenient way to convert between Unicode characters and their corresponding code points, which is useful for tasks such as text processing, string manipulation, and internationalization."
   ]
  },
  {
   "cell_type": "code",
   "execution_count": 1,
   "id": "d19af095-7d16-4309-a924-1cfdda354bee",
   "metadata": {},
   "outputs": [
    {
     "name": "stdout",
     "output_type": "stream",
     "text": [
      "65\n"
     ]
    }
   ],
   "source": [
    "code_point = ord('A')\n",
    "print(code_point)"
   ]
  },
  {
   "cell_type": "code",
   "execution_count": 2,
   "id": "11005d67-cec8-4087-8a63-a4b883d1e6a6",
   "metadata": {},
   "outputs": [
    {
     "name": "stdout",
     "output_type": "stream",
     "text": [
      "A\n"
     ]
    }
   ],
   "source": [
    "character = chr(65)\n",
    "print(character)"
   ]
  },
  {
   "cell_type": "markdown",
   "id": "c8a59435-06bb-41ab-8899-9a58c0e8ba6b",
   "metadata": {},
   "source": [
    "### Defining chars in a string with Unicode number\n",
    "\n",
    "In Python, you can define characters in a string using their Unicode number by using the Unicode escape sequence, which is represented by a backslash followed by the letter \"u\" and the Unicode number in hexadecimal format.\n",
    "\n",
    "Here is an example:\n",
    "\n",
    "```python\n",
    "# Define a string using Unicode escape sequence\n",
    "string_with_unicode = '\\u03B1 World'\n",
    "\n",
    "# Print the string\n",
    "print(string_with_unicode)  # Output: α World\n",
    "```\n",
    "\n",
    "**Note that Unicode number for a character is represented in hexadecimal format**\n",
    "\n",
    "**\\u must be followed by exactly 4 hex digits**"
   ]
  },
  {
   "cell_type": "code",
   "execution_count": 16,
   "id": "9fedec43-8cba-4254-8c7a-2a60421671cb",
   "metadata": {},
   "outputs": [
    {
     "name": "stdout",
     "output_type": "stream",
     "text": [
      "α World\n"
     ]
    }
   ],
   "source": [
    "string_with_unicode = '\\u03B1 World'\n",
    "print(string_with_unicode)"
   ]
  },
  {
   "cell_type": "code",
   "execution_count": 17,
   "id": "7d11bb87-f874-4af0-8af7-1a1c368dd55f",
   "metadata": {},
   "outputs": [
    {
     "name": "stdout",
     "output_type": "stream",
     "text": [
      "945\n"
     ]
    }
   ],
   "source": [
    "print(ord(string_with_unicode[0]))"
   ]
  },
  {
   "cell_type": "code",
   "execution_count": 18,
   "id": "a33ac8d9-1845-4f1a-b456-d1d7e220b0f9",
   "metadata": {},
   "outputs": [
    {
     "name": "stdout",
     "output_type": "stream",
     "text": [
      "0x3b1\n"
     ]
    }
   ],
   "source": [
    "print(hex(ord(string_with_unicode[0])))"
   ]
  }
 ],
 "metadata": {
  "kernelspec": {
   "display_name": "Python 3 (ipykernel)",
   "language": "python",
   "name": "python3"
  },
  "language_info": {
   "codemirror_mode": {
    "name": "ipython",
    "version": 3
   },
   "file_extension": ".py",
   "mimetype": "text/x-python",
   "name": "python",
   "nbconvert_exporter": "python",
   "pygments_lexer": "ipython3",
   "version": "3.10.10"
  }
 },
 "nbformat": 4,
 "nbformat_minor": 5
}
