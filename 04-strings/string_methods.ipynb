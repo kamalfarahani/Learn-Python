{
 "cells": [
  {
   "cell_type": "markdown",
   "id": "72252a82-2bc4-4535-95d2-b7d594503dcb",
   "metadata": {},
   "source": [
    "## String methods\n",
    "Python provides a number of built-in string methods that can be used to manipulate strings. Here is an overview of some of the most commonly used string methods in Python:\n",
    "\n",
    "1. `upper()` and `lower()`: These methods return a new string with all the characters in upper or lower case, respectively.\n",
    "2. `title()`: returns a new string with the first letter of each word capitalized and the rest of the letters in lowercase.\n",
    "3. `strip()`, `lstrip()`, and `rstrip()`: These methods remove whitespace characters (spaces, tabs, newlines) from the beginning and/or end of a string. `strip()` removes whitespace from both ends, `lstrip()` removes whitespace only from the beginning, and `rstrip()` removes whitespace only from the end.\n",
    "\n",
    "4. `replace()`: This method returns a new string with all occurrences of a substring replaced with another substring. For example, `\"hello world\".replace(\"world\", \"python\")` returns the string `\"hello python\"`.\n",
    "\n",
    "5. `split()`: This method splits a string into a list of substrings, using a specified delimiter. For example, `\"hello world\".split()` returns the list `[\"hello\", \"world\"]`.\n",
    "\n",
    "6. `join()`: This method joins a list of strings into a single string, using a specified separator. For example, `\",\".join([\"apple\", \"banana\", \"cherry\"])` returns the string `\"apple,banana,cherry\"`.\n",
    "\n",
    "7. `startswith()` and `endswith()`: These methods return True if a string starts or ends with a specified substring, respectively.\n",
    "\n",
    "8. `find()` and `index()`: These methods return the index of the first occurrence of a substring in a string. `find()` returns -1 if the substring is not found, while `index()` raises a ValueError.\n",
    "\n",
    "9. `isdigit()`, `isalpha()`, `isalnum()`, `islower()`, `isupper()`, and `isspace()`: These methods return True if a string contains only digits, only alphabetic characters, only alphanumeric characters, only lowercase characters, only uppercase characters, or only whitespace characters, respectively.\n",
    "\n",
    "These are just a few examples of the many string methods available in Python you can see a full list of them [here](https://docs.python.org/3/library/stdtypes.html#string-methods).\n",
    "\n",
    "**Remember strings are immutable, so these operations do not change the string itself but will return a new string**"
   ]
  },
  {
   "cell_type": "markdown",
   "id": "cac1acb4-2d80-4348-b7f2-1d0b41248a89",
   "metadata": {},
   "source": [
    "### `upper` and `lower`\n",
    "\n",
    "These methods return a new string with all the characters in upper or lower case, respectively."
   ]
  },
  {
   "cell_type": "code",
   "execution_count": 4,
   "id": "505f4751-2dd2-4fd0-b721-571380be5a06",
   "metadata": {},
   "outputs": [
    {
     "name": "stdout",
     "output_type": "stream",
     "text": [
      "THIS IS A TEXT\n",
      "this is a text\n"
     ]
    }
   ],
   "source": [
    "my_str = 'This is a text'\n",
    "print(my_str.upper())\n",
    "print(my_str.lower())"
   ]
  },
  {
   "cell_type": "code",
   "execution_count": 5,
   "id": "3476034e-c348-4aec-927b-ee27fb5cf98c",
   "metadata": {},
   "outputs": [
    {
     "data": {
      "text/plain": [
       "'PYTHON'"
      ]
     },
     "execution_count": 5,
     "metadata": {},
     "output_type": "execute_result"
    }
   ],
   "source": [
    "'python'.upper()"
   ]
  },
  {
   "cell_type": "markdown",
   "id": "926bc589-2ed8-4630-85de-64bd67ce8b5b",
   "metadata": {},
   "source": [
    "### `title`\n",
    "\n",
    "Returns a new string with the first letter of each word capitalized and the rest of the letters in lowercase."
   ]
  },
  {
   "cell_type": "code",
   "execution_count": 6,
   "id": "9b1071a1-8911-4f53-bebf-48e229c1c6ce",
   "metadata": {},
   "outputs": [
    {
     "name": "stdout",
     "output_type": "stream",
     "text": [
      "One Two Three\n"
     ]
    }
   ],
   "source": [
    "my_str = 'one two Three'\n",
    "print(my_str.title())"
   ]
  },
  {
   "cell_type": "markdown",
   "id": "f3b499ee-0d39-4ae8-b57a-396295735386",
   "metadata": {},
   "source": [
    "### `strip`, `lstrip`, `rstrip`\n",
    "\n",
    "These methods remove whitespace characters (spaces, tabs, newlines) from the beginning and/or end of a string. strip() removes whitespace from both ends, lstrip() removes whitespace only from the beginning, and rstrip() removes whitespace only from the end."
   ]
  },
  {
   "cell_type": "code",
   "execution_count": 7,
   "id": "3355e1da-6da9-48fc-a5bb-58d0e2aa6781",
   "metadata": {},
   "outputs": [],
   "source": [
    "my_str = '     this is a text      '"
   ]
  },
  {
   "cell_type": "code",
   "execution_count": 8,
   "id": "86cff2fe-c515-4be6-a867-d837f8fb118a",
   "metadata": {},
   "outputs": [
    {
     "name": "stdout",
     "output_type": "stream",
     "text": [
      "this is a text\n"
     ]
    }
   ],
   "source": [
    "print(my_str.strip())"
   ]
  },
  {
   "cell_type": "code",
   "execution_count": 9,
   "id": "f0671686-10e2-4981-9c0a-b5299b17030d",
   "metadata": {},
   "outputs": [
    {
     "name": "stdout",
     "output_type": "stream",
     "text": [
      "this is a text      \n"
     ]
    }
   ],
   "source": [
    "print(my_str.lstrip())"
   ]
  },
  {
   "cell_type": "code",
   "execution_count": 10,
   "id": "89baa23b-f5c1-492b-9d86-9bd565fd22b8",
   "metadata": {},
   "outputs": [
    {
     "data": {
      "text/plain": [
       "'this is a text      '"
      ]
     },
     "execution_count": 10,
     "metadata": {},
     "output_type": "execute_result"
    }
   ],
   "source": [
    "my_str.lstrip()"
   ]
  },
  {
   "cell_type": "code",
   "execution_count": 11,
   "id": "ccd86b4f-7bf0-49ba-a28c-01c684c4957d",
   "metadata": {},
   "outputs": [
    {
     "name": "stdout",
     "output_type": "stream",
     "text": [
      "     this is a text\n"
     ]
    }
   ],
   "source": [
    "print(my_str.rstrip())"
   ]
  },
  {
   "cell_type": "markdown",
   "id": "3c6bd414-c470-4372-9d79-9d8c7950027c",
   "metadata": {},
   "source": [
    "### `replace`\n",
    "\n",
    "This method returns a new string with all occurrences of a substring replaced with another substring. "
   ]
  },
  {
   "cell_type": "code",
   "execution_count": 13,
   "id": "443e8334-d060-453b-be9c-9bfdbc0dad9f",
   "metadata": {},
   "outputs": [
    {
     "name": "stdout",
     "output_type": "stream",
     "text": [
      "Hello Python\n"
     ]
    }
   ],
   "source": [
    "my_str = 'Hello World'\n",
    "replaced_str = my_str.replace('World', 'Python')\n",
    "print(replaced_str)"
   ]
  },
  {
   "cell_type": "markdown",
   "id": "e6349f58-d1eb-4486-a4f2-afea68dfaa6c",
   "metadata": {},
   "source": [
    "### `split`\n",
    "\n",
    "This method splits a string into a **list** of substrings, using a specified delimiter."
   ]
  },
  {
   "cell_type": "code",
   "execution_count": 15,
   "id": "17aeaa34-2033-4ebd-b88c-3120b73b6da9",
   "metadata": {},
   "outputs": [
    {
     "name": "stdout",
     "output_type": "stream",
     "text": [
      "['1', '2', '3', '4', '5']\n"
     ]
    }
   ],
   "source": [
    "my_str_1 = '1,2,3,4,5'\n",
    "splited_1 = my_str_1.split(',')\n",
    "print(splited_1)"
   ]
  },
  {
   "cell_type": "code",
   "execution_count": 18,
   "id": "3363779e-883f-488e-96e8-973b585d14b8",
   "metadata": {},
   "outputs": [
    {
     "name": "stdout",
     "output_type": "stream",
     "text": [
      "['This', 'is', 'a', 'text']\n"
     ]
    }
   ],
   "source": [
    "my_str_2 = 'This is a text'\n",
    "splited_2 = my_str_2.split(' ')\n",
    "print(splited_2)"
   ]
  },
  {
   "cell_type": "markdown",
   "id": "f8c29444-b9fd-41eb-ac08-5b090701b6f1",
   "metadata": {},
   "source": [
    "### `join`\n",
    "\n",
    "This method joins a list of strings into a single string, using a specified separator"
   ]
  },
  {
   "cell_type": "code",
   "execution_count": 21,
   "id": "450d43a7-c811-47b9-a789-709c172c17bc",
   "metadata": {},
   "outputs": [
    {
     "name": "stdout",
     "output_type": "stream",
     "text": [
      "apple,banana,kiwi\n"
     ]
    }
   ],
   "source": [
    "str_list = ['apple', 'banana', 'kiwi']\n",
    "joined_str = ','.join(str_list)\n",
    "print(joined_str)"
   ]
  },
  {
   "cell_type": "markdown",
   "id": "b712d137-fe33-41b4-98b3-b6f8434f19a5",
   "metadata": {},
   "source": [
    "### `startswith` and `endswith`\n",
    "\n",
    "These methods return True if a string starts or ends with a specified substring, respectively."
   ]
  },
  {
   "cell_type": "code",
   "execution_count": 25,
   "id": "9a6834f3-58a3-4919-bc2c-b98aee46a074",
   "metadata": {},
   "outputs": [
    {
     "name": "stdout",
     "output_type": "stream",
     "text": [
      "False\n"
     ]
    }
   ],
   "source": [
    "my_str = 'Python is cool'\n",
    "print(my_str.startswith('Hi'))"
   ]
  },
  {
   "cell_type": "code",
   "execution_count": 30,
   "id": "9b72a1a3-f05d-48b2-b5a8-f76b9b8a40dc",
   "metadata": {},
   "outputs": [
    {
     "name": "stdout",
     "output_type": "stream",
     "text": [
      "False\n"
     ]
    }
   ],
   "source": [
    "print(my_str.endswith('cool'))"
   ]
  },
  {
   "cell_type": "code",
   "execution_count": 26,
   "id": "3832f0c4-de47-4138-ba48-f504d73dc224",
   "metadata": {},
   "outputs": [
    {
     "name": "stdout",
     "output_type": "stream",
     "text": [
      "Text contains Python\n"
     ]
    }
   ],
   "source": [
    "if my_str.startswith('Python'):\n",
    "    print('Text contains Python')"
   ]
  },
  {
   "cell_type": "markdown",
   "id": "e124570d-8941-423a-a144-f6c04c6982d7",
   "metadata": {},
   "source": [
    "### Finding substring using `in` keyword\n",
    "\n",
    "If we want to test if a sequence of chars in contained inside a string we can use `in` keyword"
   ]
  },
  {
   "cell_type": "code",
   "execution_count": 31,
   "id": "803773fd-bc27-47f5-93f1-4453e6db0fb5",
   "metadata": {},
   "outputs": [
    {
     "name": "stdout",
     "output_type": "stream",
     "text": [
      "True\n"
     ]
    }
   ],
   "source": [
    "my_str = 'This is a text containing cat and dog words'\n",
    "print('cat' in my_str)"
   ]
  },
  {
   "cell_type": "code",
   "execution_count": 32,
   "id": "4b741edb-c50b-4eae-8342-03a8e0cc89b3",
   "metadata": {},
   "outputs": [
    {
     "name": "stdout",
     "output_type": "stream",
     "text": [
      "Hapoo\n"
     ]
    }
   ],
   "source": [
    "if 'dog' in my_str:\n",
    "    print('Hapoo')"
   ]
  },
  {
   "cell_type": "markdown",
   "id": "ce979272-28f5-4478-aa37-afb72e8ca20c",
   "metadata": {},
   "source": [
    "### `find` and `index`\n",
    "\n",
    "These methods return the index of the first occurrence of a substring in a string. find() returns -1 if the substring is not found, while index() raises a ValueError."
   ]
  },
  {
   "cell_type": "code",
   "execution_count": 35,
   "id": "3e7edae0-332f-4965-abc9-c8248f50a419",
   "metadata": {},
   "outputs": [
    {
     "name": "stdout",
     "output_type": "stream",
     "text": [
      "34\n",
      "34\n"
     ]
    }
   ],
   "source": [
    "my_str = 'This is a text containing cat and dog words'\n",
    "print(my_str.find('dog'))\n",
    "print(my_str.index('dog'))"
   ]
  },
  {
   "cell_type": "code",
   "execution_count": 36,
   "id": "3c0aa26b-55ba-41d2-a2a8-83cc17b6c6c2",
   "metadata": {},
   "outputs": [
    {
     "data": {
      "text/plain": [
       "-1"
      ]
     },
     "execution_count": 36,
     "metadata": {},
     "output_type": "execute_result"
    }
   ],
   "source": [
    "my_str.find('bird')"
   ]
  },
  {
   "cell_type": "markdown",
   "id": "051ecbbd-a237-445e-824e-9755a299f2be",
   "metadata": {},
   "source": [
    "**Be careful with index! we will learn how to handle exceptions later in the course**"
   ]
  },
  {
   "cell_type": "code",
   "execution_count": 37,
   "id": "b48dfcd1-432b-4b3b-8de2-c1af130ddcd9",
   "metadata": {},
   "outputs": [
    {
     "ename": "ValueError",
     "evalue": "substring not found",
     "output_type": "error",
     "traceback": [
      "\u001b[0;31m---------------------------------------------------------------------------\u001b[0m",
      "\u001b[0;31mValueError\u001b[0m                                Traceback (most recent call last)",
      "Cell \u001b[0;32mIn[37], line 1\u001b[0m\n\u001b[0;32m----> 1\u001b[0m \u001b[43mmy_str\u001b[49m\u001b[38;5;241;43m.\u001b[39;49m\u001b[43mindex\u001b[49m\u001b[43m(\u001b[49m\u001b[38;5;124;43m'\u001b[39;49m\u001b[38;5;124;43mbird\u001b[39;49m\u001b[38;5;124;43m'\u001b[39;49m\u001b[43m)\u001b[49m\n",
      "\u001b[0;31mValueError\u001b[0m: substring not found"
     ]
    }
   ],
   "source": [
    "my_str.index('bird')"
   ]
  },
  {
   "cell_type": "code",
   "execution_count": 38,
   "id": "ae95d486-e226-469a-86eb-37ac25ee620f",
   "metadata": {},
   "outputs": [],
   "source": [
    "if my_str.find('bird') != -1:\n",
    "    print(my_str.find('bird'))"
   ]
  }
 ],
 "metadata": {
  "kernelspec": {
   "display_name": "Python 3 (ipykernel)",
   "language": "python",
   "name": "python3"
  },
  "language_info": {
   "codemirror_mode": {
    "name": "ipython",
    "version": 3
   },
   "file_extension": ".py",
   "mimetype": "text/x-python",
   "name": "python",
   "nbconvert_exporter": "python",
   "pygments_lexer": "ipython3",
   "version": "3.10.10"
  }
 },
 "nbformat": 4,
 "nbformat_minor": 5
}
