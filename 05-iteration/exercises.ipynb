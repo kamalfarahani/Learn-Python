{
 "cells": [
  {
   "cell_type": "markdown",
   "id": "canadian-manchester",
   "metadata": {},
   "source": [
    "### Solutions"
   ]
  },
  {
   "cell_type": "markdown",
   "id": "generic-ottawa",
   "metadata": {},
   "source": [
    "#### Question 1"
   ]
  },
  {
   "cell_type": "markdown",
   "id": "mexican-fairy",
   "metadata": {},
   "source": [
    "Write some code that generates an `m` x `n` multiplication table.\n",
    "\n",
    "For example if `m=3` and `n=4` your output should look something like:\n",
    "\n",
    "```\n",
    "1 x 1 = 1\n",
    "1 x 2 = 2\n",
    "1 x 3 = 3\n",
    "1 x 4 = 4\n",
    "---------------\n",
    "2 x 1 = 2\n",
    "2 x 2 = 4\n",
    "2 x 3 = 6\n",
    "2 x 4 = 8\n",
    "---------------\n",
    "3 x 1 = 3\n",
    "3 x 2 = 6\n",
    "3 x 3 = 9\n",
    "3 x 4 = 12\n",
    "---------------\n",
    "```"
   ]
  },
  {
   "cell_type": "markdown",
   "id": "unlikely-awareness",
   "metadata": {},
   "source": [
    "Your code should be generic enough that it can handle any positive integer values of `m` and `n`."
   ]
  },
  {
   "cell_type": "markdown",
   "id": "408eb3a5-c798-4057-b45d-eab012c56d5d",
   "metadata": {},
   "source": [
    "#### Question 2\n",
    "\n",
    "Write a code that takes an integer number as input and prints all prime numbers up to the input number.\n",
    "\n",
    "for example if you enter number `20` as input the output of your program should be:\n",
    "\n",
    "`2\n",
    "3\n",
    "5\n",
    "7\n",
    "11\n",
    "13\n",
    "17\n",
    "19`"
   ]
  },
  {
   "cell_type": "markdown",
   "id": "automotive-establishment",
   "metadata": {},
   "source": [
    "#### Question 3"
   ]
  },
  {
   "cell_type": "markdown",
   "id": "resident-plain",
   "metadata": {},
   "source": [
    "Your are given the following tuple of lists:"
   ]
  },
  {
   "cell_type": "code",
   "execution_count": 1,
   "id": "oriental-turtle",
   "metadata": {},
   "outputs": [],
   "source": [
    "data = (\n",
    "    ['2021-01-01', 10, 20],\n",
    "    ['2021-01-02', 20, 18],\n",
    "    ['2021-01-03', -10, 10],\n",
    "    ['2021-01-04', 100, 102],\n",
    "    ['2021-01-05', 20, 45]\n",
    ")"
   ]
  },
  {
   "cell_type": "markdown",
   "id": "ordered-jonathan",
   "metadata": {},
   "source": [
    "Your program should:\n",
    "1. Mutate the lists in `data` to add one more element indicating the distance between the two integer numbers (i.e. the absolute value fo the difference)\n",
    "2. Determine on which date this newly calculate value was the largest.\n",
    "3. Be able to work for a `data` set containing any number of lists."
   ]
  },
  {
   "cell_type": "markdown",
   "id": "activated-pixel",
   "metadata": {},
   "source": [
    "#### Question 4"
   ]
  },
  {
   "cell_type": "markdown",
   "id": "aquatic-sewing",
   "metadata": {},
   "source": [
    "You are given a list of lists containing two numbers that will need to be color coded later based on a trend determined by the following rules:\n",
    "1. If the first number of a row is higher than the second number of the previous row, append the string `up` to the row\n",
    "2. If the first number of a row is lower than the second number of the previous row, append the string `down` to the row\n",
    "3. Otherwise, append `same` to the row.\n",
    "\n",
    "Obviously you cannot apply these rules to the first row (there is no preceding row), so append an empty string for the first row.\n",
    "\n",
    "Basically think of this as a list of Open/Close values, and we want to assign the values `same`, `up`, or `down` based on how a row's Open value compares to the Close of the *previous* row."
   ]
  },
  {
   "cell_type": "markdown",
   "id": "reliable-cleveland",
   "metadata": {},
   "source": [
    "For example, given the following list:"
   ]
  },
  {
   "cell_type": "code",
   "execution_count": 2,
   "id": "still-bridges",
   "metadata": {},
   "outputs": [],
   "source": [
    "data = [\n",
    "    [10, 20],\n",
    "    [20, 30],\n",
    "    [35, 50],\n",
    "    [45, 60]\n",
    "]"
   ]
  },
  {
   "cell_type": "markdown",
   "id": "activated-phase",
   "metadata": {},
   "source": [
    "Then after your code finishes running, your `data` should look like this:\n",
    "\n",
    "```\n",
    "[\n",
    "    [10, 20, ''],\n",
    "    [20, 30, 'same'],\n",
    "    [35, 50, 'up'],\n",
    "    [45, 60, 'down']\n",
    "]\n",
    "```"
   ]
  }
 ],
 "metadata": {
  "kernelspec": {
   "display_name": "Python 3 (ipykernel)",
   "language": "python",
   "name": "python3"
  },
  "language_info": {
   "codemirror_mode": {
    "name": "ipython",
    "version": 3
   },
   "file_extension": ".py",
   "mimetype": "text/x-python",
   "name": "python",
   "nbconvert_exporter": "python",
   "pygments_lexer": "ipython3",
   "version": "3.9.7"
  }
 },
 "nbformat": 4,
 "nbformat_minor": 5
}
