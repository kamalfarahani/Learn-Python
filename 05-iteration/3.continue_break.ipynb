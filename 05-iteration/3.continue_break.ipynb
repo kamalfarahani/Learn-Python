{
 "cells": [
  {
   "cell_type": "markdown",
   "id": "e0df5433-a11a-463e-b04a-c4b350c23435",
   "metadata": {},
   "source": [
    "## `continue` statement\n",
    "\n",
    "The `continue` statement is a control flow statement that allows you to skip the remaining code in the current iteration of a loop, and move on to the next iteration.\n",
    "\n",
    "When the `continue` statement is encountered inside a loop, the loop immediately jumps to the next iteration, skipping any remaining code within the current iteration. The loop condition is then re-evaluated, and if it is still true, the loop continues with the next iteration. If the loop condition is false, the loop terminates.\n",
    "\n",
    "Here is an example that demonstrates the use of the `continue` statement in a `for` loop:\n",
    "\n",
    "```python\n",
    "for i in range(1, 10):\n",
    "    if i % 2 == 0:\n",
    "        continue\n",
    "    print(i)\n",
    "```\n",
    "\n",
    "In this example, the loop iterates over the range of numbers from 1 to 9. If the current value of `i` is even, the `continue` statement is executed, which skips the remaining code in the current iteration of the loop (i.e., the `print` statement), and moves on to the next iteration. If the current value of `i` is odd, the `print` statement is executed.\n",
    "\n",
    "Therefore, the output of the above code will be:\n",
    "```\n",
    "1\n",
    "3\n",
    "5\n",
    "7\n",
    "9\n",
    "```\n",
    "\n",
    "Note that the `continue` statement can only be used inside loops, such as `for` and `while` loops. If you try to use it outside of a loop, you'll get a `SyntaxError`."
   ]
  },
  {
   "cell_type": "markdown",
   "id": "30865a9c-5688-4ec5-a1d0-53d28fe465ef",
   "metadata": {},
   "source": [
    "### Example 1: odd numbers"
   ]
  },
  {
   "cell_type": "code",
   "execution_count": 1,
   "id": "4b1557b7-6a5a-4f26-afde-ec46c0c92b23",
   "metadata": {},
   "outputs": [
    {
     "name": "stdout",
     "output_type": "stream",
     "text": [
      "1\n",
      "3\n",
      "5\n",
      "7\n",
      "9\n"
     ]
    }
   ],
   "source": [
    "for i in range(1, 10):\n",
    "    if i % 2 == 0:\n",
    "        continue\n",
    "    print(i)"
   ]
  },
  {
   "cell_type": "markdown",
   "id": "4d8568ba-1589-4183-a8e6-c18ecc8ab886",
   "metadata": {},
   "source": [
    "### Example 2: Dont process greater than 100"
   ]
  },
  {
   "cell_type": "code",
   "execution_count": 4,
   "id": "b5a1c923-f858-4c0a-a744-7cf06c8d9574",
   "metadata": {},
   "outputs": [
    {
     "name": "stdout",
     "output_type": "stream",
     "text": [
      "Processing 8\n",
      "Processing 20\n",
      "Processing 100\n",
      "Processing 4\n"
     ]
    }
   ],
   "source": [
    "numbers = [8, 20, 100, 220, 4]\n",
    "\n",
    "for n in numbers:\n",
    "    if n > 100:\n",
    "        continue\n",
    "    \n",
    "    print(f'Processing {n}')"
   ]
  },
  {
   "cell_type": "markdown",
   "id": "f7449c11-782f-4955-a751-86a4df68d9bf",
   "metadata": {},
   "source": [
    "### Example 3: Nested `fors`"
   ]
  },
  {
   "cell_type": "code",
   "execution_count": 8,
   "id": "cbbfc239-99b5-4f88-85b4-164b58a5b82d",
   "metadata": {},
   "outputs": [
    {
     "name": "stdout",
     "output_type": "stream",
     "text": [
      "0 + 0 is even, skipping...\n",
      "Adding 0 + 1 = 1\n",
      "0 + 2 is even, skipping...\n",
      "Adding 0 + 3 = 3\n",
      "0 + 4 is even, skipping...\n",
      "Adding 0 + 5 = 5\n",
      "0 + 6 is even, skipping...\n",
      "Adding 0 + 7 = 7\n",
      "0 + 8 is even, skipping...\n",
      "Adding 0 + 9 = 9\n",
      "Adding 1 + 0 = 1\n",
      "1 + 1 is even, skipping...\n",
      "Adding 1 + 2 = 3\n",
      "1 + 3 is even, skipping...\n",
      "Adding 1 + 4 = 5\n",
      "1 + 5 is even, skipping...\n",
      "Adding 1 + 6 = 7\n",
      "1 + 7 is even, skipping...\n",
      "Adding 1 + 8 = 9\n",
      "1 + 9 is even, skipping...\n",
      "2 + 0 is even, skipping...\n",
      "Adding 2 + 1 = 3\n",
      "2 + 2 is even, skipping...\n",
      "Adding 2 + 3 = 5\n",
      "2 + 4 is even, skipping...\n",
      "Adding 2 + 5 = 7\n",
      "2 + 6 is even, skipping...\n",
      "Adding 2 + 7 = 9\n",
      "2 + 8 is even, skipping...\n",
      "Adding 2 + 9 = 11\n",
      "Adding 3 + 0 = 3\n",
      "3 + 1 is even, skipping...\n",
      "Adding 3 + 2 = 5\n",
      "3 + 3 is even, skipping...\n",
      "Adding 3 + 4 = 7\n",
      "3 + 5 is even, skipping...\n",
      "Adding 3 + 6 = 9\n",
      "3 + 7 is even, skipping...\n",
      "Adding 3 + 8 = 11\n",
      "3 + 9 is even, skipping...\n",
      "4 + 0 is even, skipping...\n",
      "Adding 4 + 1 = 5\n",
      "4 + 2 is even, skipping...\n",
      "Adding 4 + 3 = 7\n",
      "4 + 4 is even, skipping...\n",
      "Adding 4 + 5 = 9\n",
      "4 + 6 is even, skipping...\n",
      "Adding 4 + 7 = 11\n",
      "4 + 8 is even, skipping...\n",
      "Adding 4 + 9 = 13\n",
      "Adding 5 + 0 = 5\n",
      "5 + 1 is even, skipping...\n",
      "Adding 5 + 2 = 7\n",
      "5 + 3 is even, skipping...\n",
      "Adding 5 + 4 = 9\n",
      "5 + 5 is even, skipping...\n",
      "Adding 5 + 6 = 11\n",
      "5 + 7 is even, skipping...\n",
      "Adding 5 + 8 = 13\n",
      "5 + 9 is even, skipping...\n",
      "6 + 0 is even, skipping...\n",
      "Adding 6 + 1 = 7\n",
      "6 + 2 is even, skipping...\n",
      "Adding 6 + 3 = 9\n",
      "6 + 4 is even, skipping...\n",
      "Adding 6 + 5 = 11\n",
      "6 + 6 is even, skipping...\n",
      "Adding 6 + 7 = 13\n",
      "6 + 8 is even, skipping...\n",
      "Adding 6 + 9 = 15\n",
      "Adding 7 + 0 = 7\n",
      "7 + 1 is even, skipping...\n",
      "Adding 7 + 2 = 9\n",
      "7 + 3 is even, skipping...\n",
      "Adding 7 + 4 = 11\n",
      "7 + 5 is even, skipping...\n",
      "Adding 7 + 6 = 13\n",
      "7 + 7 is even, skipping...\n",
      "Adding 7 + 8 = 15\n",
      "7 + 9 is even, skipping...\n",
      "8 + 0 is even, skipping...\n",
      "Adding 8 + 1 = 9\n",
      "8 + 2 is even, skipping...\n",
      "Adding 8 + 3 = 11\n",
      "8 + 4 is even, skipping...\n",
      "Adding 8 + 5 = 13\n",
      "8 + 6 is even, skipping...\n",
      "Adding 8 + 7 = 15\n",
      "8 + 8 is even, skipping...\n",
      "Adding 8 + 9 = 17\n",
      "Adding 9 + 0 = 9\n",
      "9 + 1 is even, skipping...\n",
      "Adding 9 + 2 = 11\n",
      "9 + 3 is even, skipping...\n",
      "Adding 9 + 4 = 13\n",
      "9 + 5 is even, skipping...\n",
      "Adding 9 + 6 = 15\n",
      "9 + 7 is even, skipping...\n",
      "Adding 9 + 8 = 17\n",
      "9 + 9 is even, skipping...\n"
     ]
    }
   ],
   "source": [
    "for i in range(10):\n",
    "    for j in range(10):\n",
    "        if (i + j) % 2 == 0:\n",
    "            print(f'{i} + {j} is even, skipping...')\n",
    "            continue\n",
    "        \n",
    "        print(f'Adding {i} + {j} = {i + j}')"
   ]
  },
  {
   "cell_type": "markdown",
   "id": "44620234-733f-4083-aaa6-9e60ddd56b5c",
   "metadata": {
    "tags": []
   },
   "source": [
    "### Be careful with using `continue`\n",
    "\n",
    "While the `continue` statement can be a useful tool in certain situations, it is generally considered a good practice to use it judiciously and avoid using it too often.\n",
    "\n",
    "One reason for this is that using `continue` too frequently can make your code harder to read and understand, especially for other developers who may be working on the same codebase. Code that makes frequent use of `continue` can be harder to follow and can make it more difficult to determine the overall logic of the program.\n",
    "\n",
    "Another reason to be cautious with the `continue` statement is that it can sometimes lead to subtle bugs and errors. If used improperly, `continue` can cause a loop to skip over important steps or calculations, leading to unexpected results. For example, if you use `continue` in a loop that is supposed to iterate over a list and modify its elements, you might accidentally skip over some elements and leave them unchanged.\n",
    "\n",
    "In general, it's better to use `continue` sparingly and only when it improves the clarity and efficiency of your code. When using `continue`, it's important to make sure that it's being used in a way that won't introduce bugs or unexpected behavior. By being mindful of how and when you use `continue`, you can help ensure that your code is clean, understandable, and error-free.\n",
    "\n",
    "For example instead of using `continue` in Example 2 you can write the code using `if` this way:"
   ]
  },
  {
   "cell_type": "code",
   "execution_count": 5,
   "id": "0ad24c50-ba5c-4db1-aa89-ee5d33e474d5",
   "metadata": {},
   "outputs": [
    {
     "name": "stdout",
     "output_type": "stream",
     "text": [
      "Processing 8\n",
      "Processing 20\n",
      "Processing 100\n",
      "Processing 4\n"
     ]
    }
   ],
   "source": [
    "numbers = [8, 20, 100, 220, 4]\n",
    "\n",
    "for n in numbers:\n",
    "    if n <= 100:    \n",
    "        print(f'Processing {n}')"
   ]
  },
  {
   "cell_type": "markdown",
   "id": "30a77025-4109-41e9-81d5-3fcaf24c6dff",
   "metadata": {},
   "source": [
    "## `break` statement\n",
    "\n",
    "The `break` statement is a control flow statement that allows you to terminate a loop prematurely. When the `break` statement is encountered inside a loop, the loop is immediately terminated and program control is transferred to the next statement that follows the loop.\n",
    "\n",
    "The `break` statement is typically used when you want to exit a loop early based on a certain condition. Here is an example that demonstrates the use of the `break` statement in a `while` loop:\n",
    "\n",
    "```python\n",
    "i = 0\n",
    "while i < 10:\n",
    "    print(i)\n",
    "    i += 1\n",
    "    if i == 5:\n",
    "        break\n",
    "```\n",
    "\n",
    "In this example, the loop iterates over the values of `i` from 0 to 9. Inside the loop, the value of `i` is printed, and then incremented by 1. If the value of `i` becomes equal to 5, the `break` statement is executed, which terminates the loop prematurely.\n",
    "\n",
    "Therefore, the output of the above code will be:\n",
    "\n",
    "```\n",
    "0\n",
    "1\n",
    "2\n",
    "3\n",
    "4\n",
    "```\n",
    "\n",
    "Note that the `break` statement can only be used inside loops, such as `for` and `while` loops. If you try to use it outside of a loop, you'll get a `SyntaxError`.\n",
    "\n",
    "In summary, the `break` statement is a useful tool for controlling the flow of your Python programs and terminating loops early when necessary."
   ]
  },
  {
   "cell_type": "markdown",
   "id": "b9ff2474-87b3-4ada-8075-a498b2ef2e45",
   "metadata": {},
   "source": [
    "### Example 3: `break` the `while` loop"
   ]
  },
  {
   "cell_type": "code",
   "execution_count": 3,
   "id": "c168acc1-f8b2-4b77-a903-709354d00b18",
   "metadata": {},
   "outputs": [
    {
     "name": "stdout",
     "output_type": "stream",
     "text": [
      "0\n",
      "1\n",
      "2\n",
      "3\n",
      "4\n",
      "Breaking while\n"
     ]
    }
   ],
   "source": [
    "i = 0\n",
    "while i < 10:\n",
    "    print(i)\n",
    "    i += 1\n",
    "    if i == 5:\n",
    "        print('Breaking while')\n",
    "        break"
   ]
  },
  {
   "cell_type": "markdown",
   "id": "2ef67132-bc01-45fa-9986-c6a56d26410e",
   "metadata": {},
   "source": [
    "### Example 4: `break` the `for` loop"
   ]
  },
  {
   "cell_type": "code",
   "execution_count": 2,
   "id": "5e129985-1d73-4178-8785-1e95d5a9d038",
   "metadata": {},
   "outputs": [
    {
     "name": "stdout",
     "output_type": "stream",
     "text": [
      "0\n",
      "1\n",
      "2\n",
      "3\n",
      "4\n",
      "Breaking for\n"
     ]
    }
   ],
   "source": [
    "for i in range(100):\n",
    "    if i == 5:\n",
    "        print('Breaking for')\n",
    "        break \n",
    "    print(i)"
   ]
  },
  {
   "cell_type": "markdown",
   "id": "27599b11-9357-4826-9063-72232d883997",
   "metadata": {},
   "source": [
    "### Example 5: `break` in nested `fors`"
   ]
  },
  {
   "cell_type": "code",
   "execution_count": 6,
   "id": "2fd8c2ad-6df7-41ab-b4bf-86194ca97b15",
   "metadata": {},
   "outputs": [
    {
     "name": "stdout",
     "output_type": "stream",
     "text": [
      "i, j = 0, 0\n",
      "i, j = 0, 1\n",
      "i, j = 0, 2\n",
      "i, j = 0, 3\n",
      "i, j = 0, 4\n",
      "i, j = 0, 5\n",
      "i, j = 0, 6\n",
      "i, j = 0, 7\n",
      "i, j = 0, 8\n",
      "i, j = 0, 9\n",
      "i, j = 1, 0\n",
      "i, j = 1, 1\n",
      "i, j = 1, 2\n",
      "i, j = 1, 3\n",
      "i, j = 1, 4\n",
      "i, j = 1, 5\n",
      "i, j = 1, 6\n",
      "i, j = 1, 7\n",
      "i, j = 1, 8\n",
      "Breaking inner loop with i, j = 1, 9\n",
      "i, j = 2, 0\n",
      "i, j = 2, 1\n",
      "i, j = 2, 2\n",
      "i, j = 2, 3\n",
      "i, j = 2, 4\n",
      "i, j = 2, 5\n",
      "i, j = 2, 6\n",
      "i, j = 2, 7\n",
      "Breaking inner loop with i, j = 2, 8\n",
      "i, j = 3, 0\n",
      "i, j = 3, 1\n",
      "i, j = 3, 2\n",
      "i, j = 3, 3\n",
      "i, j = 3, 4\n",
      "i, j = 3, 5\n",
      "i, j = 3, 6\n",
      "Breaking inner loop with i, j = 3, 7\n",
      "i, j = 4, 0\n",
      "i, j = 4, 1\n",
      "i, j = 4, 2\n",
      "i, j = 4, 3\n",
      "i, j = 4, 4\n",
      "i, j = 4, 5\n",
      "Breaking inner loop with i, j = 4, 6\n",
      "i, j = 5, 0\n",
      "i, j = 5, 1\n",
      "i, j = 5, 2\n",
      "i, j = 5, 3\n",
      "i, j = 5, 4\n",
      "Breaking inner loop with i, j = 5, 5\n",
      "i, j = 6, 0\n",
      "i, j = 6, 1\n",
      "i, j = 6, 2\n",
      "i, j = 6, 3\n",
      "Breaking inner loop with i, j = 6, 4\n",
      "i, j = 7, 0\n",
      "i, j = 7, 1\n",
      "i, j = 7, 2\n",
      "Breaking inner loop with i, j = 7, 3\n",
      "i, j = 8, 0\n",
      "i, j = 8, 1\n",
      "Breaking inner loop with i, j = 8, 2\n",
      "i, j = 9, 0\n",
      "Breaking inner loop with i, j = 9, 1\n"
     ]
    }
   ],
   "source": [
    "for i in range(10):\n",
    "    for j in range(10):\n",
    "        if i + j == 10:\n",
    "            print(f'Breaking inner loop with i, j = {i}, {j}')\n",
    "            break\n",
    "        \n",
    "        print(f'i, j = {i}, {j}')"
   ]
  },
  {
   "cell_type": "markdown",
   "id": "bb763277-f1f4-4baf-8da7-30c027388e75",
   "metadata": {},
   "source": [
    "### Example 6: Infinite While"
   ]
  },
  {
   "cell_type": "code",
   "execution_count": 11,
   "id": "f2e29e36-cbc7-467a-b86e-528e2f3e1c8e",
   "metadata": {},
   "outputs": [
    {
     "name": "stdin",
     "output_type": "stream",
     "text": [
      "Enter the number (if you enter 0 program exits):  10\n"
     ]
    },
    {
     "name": "stdout",
     "output_type": "stream",
     "text": [
      "10^2 = 100\n"
     ]
    },
    {
     "name": "stdin",
     "output_type": "stream",
     "text": [
      "Enter the number (if you enter 0 program exits):  11\n"
     ]
    },
    {
     "name": "stdout",
     "output_type": "stream",
     "text": [
      "11^2 = 121\n"
     ]
    },
    {
     "name": "stdin",
     "output_type": "stream",
     "text": [
      "Enter the number (if you enter 0 program exits):  22\n"
     ]
    },
    {
     "name": "stdout",
     "output_type": "stream",
     "text": [
      "22^2 = 484\n"
     ]
    },
    {
     "name": "stdin",
     "output_type": "stream",
     "text": [
      "Enter the number (if you enter 0 program exits):  0\n"
     ]
    },
    {
     "name": "stdout",
     "output_type": "stream",
     "text": [
      "Bye!\n"
     ]
    }
   ],
   "source": [
    "while True:\n",
    "    x = int(input('Enter the number (if you enter 0 program exits): '))\n",
    "    \n",
    "    if x == 0:\n",
    "        print('Bye!')\n",
    "        break\n",
    "    else:\n",
    "        print(f'{x}^2 = {x**2}')"
   ]
  },
  {
   "cell_type": "markdown",
   "id": "bee3dfd0-683d-4181-a474-85c59ffd4df0",
   "metadata": {},
   "source": [
    "### Be careful with using `break`\n",
    "\n",
    "While `break` can be a useful tool in certain situations, using \"break\" too often can make code difficult to understand and maintain.\n",
    "\n",
    "One reason not to use `break` too often in Python is that it can make code harder to read and follow. When a loop exits prematurely, it can be unclear why the loop stopped iterating, especially if there are multiple `break` statements in the same loop. This can make it harder for other programmers (or even yourself in the future) to understand and modify the code.\n",
    "\n",
    "Another reason not to overuse `break` in Python is that it can make debugging more difficult. If a loop is not working as expected, it can be harder to track down the problem if the loop can exit prematurely in multiple places. This can make it harder to identify the root cause of a bug and fix it.\n",
    "\n",
    "Furthermore, overusing `break` in Python can make the code less flexible and harder to reuse. If a loop is tightly coupled to the surrounding code and relies heavily on `break` statements, it can be harder to reuse that loop in other parts of the program or in different contexts. This can make code more brittle and harder to maintain over time."
   ]
  },
  {
   "cell_type": "markdown",
   "id": "110fab3f-7244-4165-9c16-9e23ff29e53b",
   "metadata": {},
   "source": [
    "## `else` clause for loops\n",
    "\n",
    "In Python, the `else` clause in a loop is used to specify a block of code that should be executed if the loop completes normally, without encountering a `break` statement. The `else` clause is optional, and it comes after the body of the loop and before any other statements that follow the loop.\n",
    "\n",
    "The `else` clause in a loop is often used to provide a fallback behavior or to perform some final cleanup after the loop has finished executing. For example, consider the following code snippet that searches a list for a particular value:\n",
    "\n",
    "```python\n",
    "my_list = [1, 2, 3, 4, 5]\n",
    "search_value = 3\n",
    "\n",
    "for x in my_list:\n",
    "    if x == search_value:\n",
    "        print(\"Found it!\")\n",
    "        break\n",
    "else:\n",
    "    print(\"Value not found.\")\n",
    "```\n",
    "\n",
    "In this example, the loop iterates over the elements of `my_list` and checks each element to see if it matches the `search_value`. If a match is found, the `break` statement exits the loop early and the \"Found it!\" message is printed. If no match is found, the loop completes normally and the \"else\" clause is executed, printing the \"Value not found.\" message.\n",
    "\n",
    "Note that the `else` clause in a loop is not executed if the loop is terminated by a `break` statement. This allows you to provide different behavior depending on whether the loop completed normally or was exited prematurely."
   ]
  },
  {
   "cell_type": "markdown",
   "id": "217de1e2-da81-4377-8b52-a9cc12525cc3",
   "metadata": {},
   "source": [
    "### Example 7: find value without `else` clause"
   ]
  },
  {
   "cell_type": "code",
   "execution_count": 17,
   "id": "0c8b9b9d-825d-4181-ba1a-1fd5009a7fb3",
   "metadata": {},
   "outputs": [
    {
     "name": "stdin",
     "output_type": "stream",
     "text": [
      "Enter number:  100\n"
     ]
    },
    {
     "name": "stdout",
     "output_type": "stream",
     "text": [
      "Value not found.\n"
     ]
    }
   ],
   "source": [
    "my_list = [1, 2, 3, 4, 5]\n",
    "search_value = int(input('Enter number: '))\n",
    "\n",
    "is_found = False\n",
    "for x in my_list:\n",
    "    if x == search_value:\n",
    "        print('Found it!')\n",
    "        is_found = True\n",
    "        break\n",
    "\n",
    "if not is_found:\n",
    "    print('Value not found.')"
   ]
  },
  {
   "cell_type": "markdown",
   "id": "7bea8c34-472a-40a6-958e-dd9cf358ddc1",
   "metadata": {},
   "source": [
    "### Example 8: find value using else clause"
   ]
  },
  {
   "cell_type": "code",
   "execution_count": 20,
   "id": "d73abb7e-be1c-460b-9e46-dbee4639415d",
   "metadata": {},
   "outputs": [
    {
     "name": "stdin",
     "output_type": "stream",
     "text": [
      "Enter number:  100\n"
     ]
    },
    {
     "name": "stdout",
     "output_type": "stream",
     "text": [
      "Value not found.\n"
     ]
    }
   ],
   "source": [
    "my_list = [1, 2, 3, 4, 5]\n",
    "search_value = int(input('Enter number: '))\n",
    "\n",
    "for x in my_list:\n",
    "    if x == search_value:\n",
    "        print('Found it!')\n",
    "        break\n",
    "else: # You can read it else not break\n",
    "    print('Value not found.')"
   ]
  },
  {
   "cell_type": "markdown",
   "id": "7ba95036-5239-4ae4-83eb-e0d6602c06ff",
   "metadata": {},
   "source": [
    "**Note that you can use `else` in while loops in the same manner**"
   ]
  }
 ],
 "metadata": {
  "kernelspec": {
   "display_name": "Python 3 (ipykernel)",
   "language": "python",
   "name": "python3"
  },
  "language_info": {
   "codemirror_mode": {
    "name": "ipython",
    "version": 3
   },
   "file_extension": ".py",
   "mimetype": "text/x-python",
   "name": "python",
   "nbconvert_exporter": "python",
   "pygments_lexer": "ipython3",
   "version": "3.9.7"
  }
 },
 "nbformat": 4,
 "nbformat_minor": 5
}
