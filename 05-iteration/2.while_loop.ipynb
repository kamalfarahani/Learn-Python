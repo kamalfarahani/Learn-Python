{
 "cells": [
  {
   "cell_type": "markdown",
   "id": "8a1d4fe3-d884-472e-aa9a-410d2d29473b",
   "metadata": {},
   "source": [
    "## `while` loop\n",
    "\n",
    "In Python, a while loop is a control flow statement that allows a block of code to be repeated as long as a condition is true. The basic syntax of a while loop in Python is as follows:\n",
    "\n",
    "```python\n",
    "while condition:\n",
    "    # do something\n",
    "```\n",
    "\n",
    "The `condition` is a Boolean expression that is evaluated at the beginning of each iteration of the loop. If the condition is true, the code inside the loop is executed, and then the condition is re-evaluated. This process continues until the condition becomes false, at which point the loop terminates and control passes to the next statement after the loop.\n",
    "\n",
    "Here's an example of a while loop that counts from 0 to 4:\n",
    "\n",
    "```python\n",
    "i = 0\n",
    "while i < 5:\n",
    "    print(i)\n",
    "    i += 1\n",
    "```\n",
    "\n",
    "In this example, the variable `i` is initialized to 0, and the while loop continues as long as `i` is less than 5. Inside the loop, the current value of `i` is printed, and then `i` is incremented by 1. This process continues until `i` reaches 5, at which point the loop terminates.\n",
    "\n",
    "While loops are useful when you don't know ahead of time how many times a loop needs to be executed, or when the number of iterations depends on some changing condition. However, it's important to be careful when using while loops, as an incorrect or infinite loop condition can lead to an infinite loop and cause the program to hang or crash."
   ]
  },
  {
   "cell_type": "markdown",
   "id": "31d53960-9cf5-4137-addc-c0b21e56b69a",
   "metadata": {
    "tags": []
   },
   "source": [
    "### Examples 1: decrementing a varaiable"
   ]
  },
  {
   "cell_type": "code",
   "execution_count": 2,
   "id": "4b1754a7-21af-43c3-b1d3-85d0f0824c8b",
   "metadata": {},
   "outputs": [
    {
     "name": "stdout",
     "output_type": "stream",
     "text": [
      "x is 100\n",
      "x is 99\n",
      "x is 98\n",
      "x is 97\n",
      "x is 96\n",
      "x is 95\n",
      "x is 94\n",
      "x is 93\n",
      "x is 92\n",
      "x is 91\n",
      "x is 90\n",
      "x is 89\n",
      "x is 88\n",
      "x is 87\n",
      "x is 86\n",
      "x is 85\n",
      "x is 84\n",
      "x is 83\n",
      "x is 82\n",
      "x is 81\n"
     ]
    }
   ],
   "source": [
    "x = 100\n",
    "\n",
    "while x > 80:\n",
    "    print(f'x is {x}')\n",
    "    x -= 1"
   ]
  },
  {
   "cell_type": "markdown",
   "id": "eb21f545-e4c9-462d-bc82-b91972fde4c7",
   "metadata": {},
   "source": [
    "### Example 2: A `while` that does not run"
   ]
  },
  {
   "cell_type": "code",
   "execution_count": 3,
   "id": "6a8a787d-0b9a-4985-a764-96b4162670c5",
   "metadata": {},
   "outputs": [],
   "source": [
    "x = 100\n",
    "\n",
    "while x > 200:\n",
    "    print(f'x is {x}')"
   ]
  },
  {
   "cell_type": "markdown",
   "id": "4215f66e-a140-459d-9770-629c9afb836c",
   "metadata": {},
   "source": [
    "### Example 3: poping elements of a list"
   ]
  },
  {
   "cell_type": "code",
   "execution_count": 7,
   "id": "7af0d6d4-1ed7-4a5b-96e0-7ef369f93cdb",
   "metadata": {},
   "outputs": [
    {
     "name": "stdout",
     "output_type": "stream",
     "text": [
      "Processing 4\n",
      "Numbers: [1, 2, 3]\n",
      "______\n",
      "Processing 3\n",
      "Numbers: [1, 2]\n",
      "______\n",
      "Processing 2\n",
      "Numbers: [1]\n",
      "______\n",
      "Processing 1\n",
      "Numbers: []\n",
      "______\n"
     ]
    }
   ],
   "source": [
    "numbers = [1,2,3,4]\n",
    "\n",
    "while len(numbers) > 0:\n",
    "    n = numbers.pop()\n",
    "    print(f'Processing {n}')\n",
    "    print(f'Numbers: {numbers}')\n",
    "    print('______')"
   ]
  }
 ],
 "metadata": {
  "kernelspec": {
   "display_name": "Python 3 (ipykernel)",
   "language": "python",
   "name": "python3"
  },
  "language_info": {
   "codemirror_mode": {
    "name": "ipython",
    "version": 3
   },
   "file_extension": ".py",
   "mimetype": "text/x-python",
   "name": "python",
   "nbconvert_exporter": "python",
   "pygments_lexer": "ipython3",
   "version": "3.9.7"
  }
 },
 "nbformat": 4,
 "nbformat_minor": 5
}
