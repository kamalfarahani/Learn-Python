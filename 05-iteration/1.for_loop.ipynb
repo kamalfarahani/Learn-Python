{
 "cells": [
  {
   "cell_type": "markdown",
   "id": "c42fe1e2-ab35-432c-955b-50b77241f197",
   "metadata": {},
   "source": [
    "## Iteration\n",
    "\n",
    "Iteration is the process of repeating a set of instructions a specified number of times or until a specific condition is met. In Python, iteration is typically performed using loops, which allow you to repeat a block of code multiple times.\n",
    "\n",
    "There are two main types of loops in Python: `for` loops and `while` loops.\n",
    "\n",
    "A `for` loop is used to iterate over an iterable object, such as a list or a string. Here is an example of a `for` loop that iterates over a list of numbers and prints each number:\n",
    "\n",
    "```python\n",
    "numbers = [1, 2, 3, 4, 5]\n",
    "for num in numbers:\n",
    "    print(num)\n",
    "```\n",
    "\n",
    "In this example, the `for` loop iterates over the list of numbers and assigns each number to the variable `num`. The `print()` function is then used to print each number to the console.\n",
    "\n",
    "A `while` loop is used to repeat a block of code as long as a specific condition is true. Here is an example of a `while` loop that counts from 1 to 5:\n",
    "\n",
    "```python\n",
    "count = 1\n",
    "while count <= 5:\n",
    "    print(count)\n",
    "    count += 1\n",
    "```\n",
    "\n",
    "In this example, the `while` loop repeats the block of code as long as the value of `count` is less than or equal to 5. The `print()` function is used to print the value of `count` to the console, and the `count += 1` statement increments the value of `count` by 1 in each iteration of the loop.\n",
    "\n",
    "Iteration is a fundamental concept in Python that allows you to repeat a set of instructions multiple times using loops. `for` loops are used to iterate over a sequence of items, while `while` loops are used to repeat a block of code as long as a specific condition is true."
   ]
  },
  {
   "cell_type": "markdown",
   "id": "39242e91-b56c-4a23-8d55-8be2e5a9cb94",
   "metadata": {},
   "source": [
    "### `for` loop\n",
    "\n",
    "A `for` loop is used to iterate over an `iterable` object, such as a list or a string.\n",
    "\n",
    "* The loop mechanism retrieves elements from the iterable one at a time.\n",
    "* The Body of the `for` loop is executed for each element retrieved.\n",
    "* The loop terminates when all elements have been iterated."
   ]
  },
  {
   "cell_type": "code",
   "execution_count": 1,
   "id": "55b63944-d71d-4332-8101-561a5dd1e74a",
   "metadata": {},
   "outputs": [
    {
     "name": "stdout",
     "output_type": "stream",
     "text": [
      "1\n",
      "2\n",
      "3\n",
      "4\n",
      "5\n"
     ]
    }
   ],
   "source": [
    "numbers = [1, 2, 3, 4, 5]\n",
    "for num in numbers:\n",
    "    print(num)"
   ]
  },
  {
   "cell_type": "code",
   "execution_count": 2,
   "id": "14e5dbd1-d8c6-4ee5-bc3f-ae5ad6d250b4",
   "metadata": {},
   "outputs": [
    {
     "name": "stdout",
     "output_type": "stream",
     "text": [
      "5\n"
     ]
    }
   ],
   "source": [
    "print(num)"
   ]
  },
  {
   "cell_type": "code",
   "execution_count": 11,
   "id": "292e8845-ec8c-4672-bd1f-11f5bfb8d66a",
   "metadata": {},
   "outputs": [
    {
     "name": "stdout",
     "output_type": "stream",
     "text": [
      "H\n",
      "i\n",
      " \n",
      "t\n",
      "h\n",
      "e\n",
      "r\n",
      "e\n",
      "!\n"
     ]
    }
   ],
   "source": [
    "my_str = 'Hi there!'\n",
    "for ch in my_str:\n",
    "    print(ch)"
   ]
  },
  {
   "cell_type": "markdown",
   "id": "05ce406f-3853-467c-b801-2a776e8a0aa6",
   "metadata": {},
   "source": [
    "### The `range` object \n",
    "\n",
    "The `range` object is a built-in type that represents an immutable sequence of numbers. The `range` object is commonly used in for loops to specify the number of iterations, but it can also be used to generate a list of numbers or to represent a range of values.\n",
    "\n",
    "Here is the syntax for creating a `range` object:\n",
    "\n",
    "```python\n",
    "range(start, stop, step)\n",
    "```\n",
    "\n",
    "The `start` argument specifies the starting value of the range (inclusive), the `stop` argument specifies the ending value of the range (exclusive), and the `step` argument specifies the step size between values in the range (default is 1).\n",
    "\n",
    "For example, `range(0, 10, 2)` creates a `range` object that represents the sequence of even numbers from 0 to 8 (inclusive), with a step size of 2.\n",
    "\n",
    "The `range` object is often used to generate a sequence of numbers that is used in a for loop. Here is an example:\n",
    "\n",
    "```python\n",
    "for i in range(5):\n",
    "    print(i)\n",
    "```\n",
    "\n",
    "In this example, the `range(5)` function creates a `range` object that represents the sequence of numbers from 0 to 4 (inclusive). The `for` loop then iterates over this sequence and prints each number to the console.\n",
    "\n",
    "Note that the `range` object is immutable, which means that you cannot modify its values once it has been created. However, you can convert a `range` object to a list using the `list()` function if you need to modify its values.\n",
    "\n",
    "In summary, the `range` object in Python is a built-in class that represents an immutable sequence of numbers. It is commonly used in for loops to specify the number of iterations or to generate a sequence of numbers."
   ]
  },
  {
   "cell_type": "code",
   "execution_count": 14,
   "id": "0e1946ec-b3d0-4b14-9885-b32a4b1a1fed",
   "metadata": {},
   "outputs": [
    {
     "name": "stdout",
     "output_type": "stream",
     "text": [
      "range(0, 10)\n"
     ]
    }
   ],
   "source": [
    "r = range(10)\n",
    "print(r)"
   ]
  },
  {
   "cell_type": "markdown",
   "id": "80dc5f47-b638-477b-9199-caa0fd39593b",
   "metadata": {},
   "source": [
    "We can convert a range object to a list using `list` function"
   ]
  },
  {
   "cell_type": "code",
   "execution_count": 15,
   "id": "9a41e1bf-fd4e-4d3f-a070-3fcea119ac08",
   "metadata": {},
   "outputs": [
    {
     "data": {
      "text/plain": [
       "[0, 1, 2, 3, 4, 5, 6, 7, 8, 9]"
      ]
     },
     "execution_count": 15,
     "metadata": {},
     "output_type": "execute_result"
    }
   ],
   "source": [
    "list(r)"
   ]
  },
  {
   "cell_type": "code",
   "execution_count": 19,
   "id": "5e2f2514-3e67-49c1-ad7d-1f2a48a302bb",
   "metadata": {},
   "outputs": [
    {
     "data": {
      "text/plain": [
       "10"
      ]
     },
     "execution_count": 19,
     "metadata": {},
     "output_type": "execute_result"
    }
   ],
   "source": [
    "len(r)"
   ]
  },
  {
   "cell_type": "code",
   "execution_count": 16,
   "id": "07b91a36-3f3c-40f9-b6d5-4a2f343ac9bb",
   "metadata": {},
   "outputs": [
    {
     "name": "stdout",
     "output_type": "stream",
     "text": [
      "0\n",
      "1\n",
      "2\n",
      "3\n",
      "4\n",
      "5\n",
      "6\n",
      "7\n",
      "8\n",
      "9\n"
     ]
    }
   ],
   "source": [
    "for i in r:\n",
    "    print(i)"
   ]
  },
  {
   "cell_type": "code",
   "execution_count": 17,
   "id": "07aaab0d-fd53-4884-9914-a949523830b2",
   "metadata": {},
   "outputs": [
    {
     "name": "stdout",
     "output_type": "stream",
     "text": [
      "0\n",
      "1\n",
      "2\n",
      "3\n",
      "4\n",
      "5\n",
      "6\n",
      "7\n",
      "8\n",
      "9\n"
     ]
    }
   ],
   "source": [
    "for i in range(10):\n",
    "    print(i)"
   ]
  },
  {
   "cell_type": "code",
   "execution_count": 5,
   "id": "04e93003-b6f1-467a-9d78-dbcef174eb94",
   "metadata": {},
   "outputs": [
    {
     "name": "stdout",
     "output_type": "stream",
     "text": [
      "Alex\n",
      "David\n",
      "Richard\n"
     ]
    }
   ],
   "source": [
    "names = ['Alex', 'John', 'David', 'Eric', 'Richard']\n",
    "for i in range(0, len(names), 2):\n",
    "    print(names[i])"
   ]
  },
  {
   "cell_type": "markdown",
   "id": "a5d22d9f-02ba-48cb-b944-17035c5ec3c4",
   "metadata": {},
   "source": [
    "### Nested `fors`\n",
    "\n",
    "Nested `for` loops refer to using one or more for loops inside another for loop. This allows you to iterate over multiple sequences of values simultaneously, creating a nested loop structure."
   ]
  },
  {
   "cell_type": "code",
   "execution_count": 6,
   "id": "5efac3b0-ac7a-4107-b1ab-c038aa8be6bc",
   "metadata": {},
   "outputs": [
    {
     "name": "stdout",
     "output_type": "stream",
     "text": [
      "i=0, j=0\n",
      "i=0, j=1\n",
      "i=0, j=2\n",
      "i=1, j=0\n",
      "i=1, j=1\n",
      "i=1, j=2\n",
      "i=2, j=0\n",
      "i=2, j=1\n",
      "i=2, j=2\n"
     ]
    }
   ],
   "source": [
    "for i in range(3):\n",
    "    for j in range(3):\n",
    "        print(f'i={i}, j={j}')"
   ]
  },
  {
   "cell_type": "markdown",
   "id": "3f3c0390-b3a1-45ea-8f43-ed97ab655651",
   "metadata": {},
   "source": [
    "### Example 1: Sum from 1 to n"
   ]
  },
  {
   "cell_type": "code",
   "execution_count": 18,
   "id": "97cfab41-d7bf-4d76-9abd-fe42be44e543",
   "metadata": {},
   "outputs": [
    {
     "name": "stdin",
     "output_type": "stream",
     "text": [
      "Please enter the number:  10\n"
     ]
    },
    {
     "name": "stdout",
     "output_type": "stream",
     "text": [
      "Sum of number from 1 to 10 is: 55\n"
     ]
    }
   ],
   "source": [
    "number = int(input('Please enter the number: '))\n",
    "total = 0\n",
    "for i in range(number + 1):\n",
    "    total += i\n",
    "\n",
    "print(f'Sum of number from 1 to {number} is: {total}')"
   ]
  },
  {
   "cell_type": "markdown",
   "id": "59778119-a298-4df6-a714-5b6865e04118",
   "metadata": {},
   "source": [
    "### Example 2: Prime number\n",
    "\n",
    "The following programmer takes a number as input and prints if the number is prime or not."
   ]
  },
  {
   "cell_type": "code",
   "execution_count": 25,
   "id": "11a10943-1346-4425-99e8-76fc95342dff",
   "metadata": {},
   "outputs": [
    {
     "name": "stdin",
     "output_type": "stream",
     "text": [
      "Please enter a number:  72738813\n"
     ]
    },
    {
     "name": "stdout",
     "output_type": "stream",
     "text": [
      "The number is not prime\n"
     ]
    }
   ],
   "source": [
    "number = int(input('Please enter a number: '))\n",
    "\n",
    "if number > 1:\n",
    "    is_prime = True\n",
    "    for i in range(2, number):\n",
    "        if number % i == 0:\n",
    "            is_prime = False\n",
    "    \n",
    "    if is_prime:\n",
    "        print('The number is prime!')\n",
    "    else:\n",
    "        print('The number is not prime')\n",
    "else:\n",
    "    print('The number is not prime')"
   ]
  },
  {
   "cell_type": "markdown",
   "id": "063872f8-5292-4af4-9cac-1c6a14b4758a",
   "metadata": {},
   "source": [
    "### `enumerate`\n",
    "The enumerate() function is a built-in function that allows you to iterate over a sequence of items while also keeping track of the index of each item. The enumerate() function returns an iterator that produces tuples containing the index and the value of each item in the sequence."
   ]
  },
  {
   "cell_type": "code",
   "execution_count": 13,
   "id": "0478dc58-edea-45f6-91bd-33c0f3f3c58f",
   "metadata": {},
   "outputs": [
    {
     "name": "stdout",
     "output_type": "stream",
     "text": [
      "<enumerate object at 0x7f941d98aec0>\n",
      "[(0, 'Alice'), (1, 'Bob'), (2, 'Charlie')]\n"
     ]
    }
   ],
   "source": [
    "names = [\"Alice\", \"Bob\", \"Charlie\"]\n",
    "print(enumerate(names))\n",
    "print(list(enumerate(names)))"
   ]
  },
  {
   "cell_type": "code",
   "execution_count": 31,
   "id": "56b49810-64df-41a6-8948-e671bad4b9ac",
   "metadata": {},
   "outputs": [
    {
     "name": "stdout",
     "output_type": "stream",
     "text": [
      "(0, 'Alice')\n",
      "(1, 'Bob')\n",
      "(2, 'Charlie')\n"
     ]
    }
   ],
   "source": [
    "names = [\"Alice\", \"Bob\", \"Charlie\"]\n",
    "for t in enumerate(names):\n",
    "    print(t)"
   ]
  },
  {
   "cell_type": "code",
   "execution_count": 32,
   "id": "051373c6-1760-44af-8bd4-eee6f43addea",
   "metadata": {},
   "outputs": [
    {
     "name": "stdout",
     "output_type": "stream",
     "text": [
      "0 Alice\n",
      "1 Bob\n",
      "2 Charlie\n"
     ]
    }
   ],
   "source": [
    "names = [\"Alice\", \"Bob\", \"Charlie\"]\n",
    "for t in enumerate(names):\n",
    "    i, x = t\n",
    "    print(i, x)"
   ]
  },
  {
   "cell_type": "code",
   "execution_count": 33,
   "id": "bba91145-e281-4ab1-b6f5-88f6e583a814",
   "metadata": {},
   "outputs": [
    {
     "name": "stdout",
     "output_type": "stream",
     "text": [
      "0 Alice\n",
      "1 Bob\n",
      "2 Charlie\n"
     ]
    }
   ],
   "source": [
    "names = [\"Alice\", \"Bob\", \"Charlie\"]\n",
    "for i, name in enumerate(names):\n",
    "    print(i, name)"
   ]
  },
  {
   "cell_type": "code",
   "execution_count": 27,
   "id": "fd043a7d-3b73-4534-b04e-f44e13abb63c",
   "metadata": {},
   "outputs": [
    {
     "name": "stdout",
     "output_type": "stream",
     "text": [
      "[10, 20, 30, 0, 40, 0]\n"
     ]
    }
   ],
   "source": [
    "data = [10, 20, 30, -10, 40, -5]\n",
    "for i, x in enumerate(data):\n",
    "    if x < 0:\n",
    "        data[i] = 0\n",
    "\n",
    "print(data)"
   ]
  },
  {
   "cell_type": "markdown",
   "id": "f25e7a9e-d97c-40d2-a877-b63a69a3e6e3",
   "metadata": {},
   "source": [
    "### Example 3: Getting a list of numbers as input"
   ]
  },
  {
   "cell_type": "code",
   "execution_count": 23,
   "id": "e361b8c5-d93d-4fb9-be46-27aba327566d",
   "metadata": {},
   "outputs": [
    {
     "name": "stdin",
     "output_type": "stream",
     "text": [
      "Please Enter the number of numbers you want to enter:  5\n",
      "Enter 0-th number:  1\n",
      "Enter 1-th number:  22\n",
      "Enter 2-th number:  3\n",
      "Enter 3-th number:  4\n",
      "Enter 4-th number:  4\n"
     ]
    },
    {
     "name": "stdout",
     "output_type": "stream",
     "text": [
      "[1, 22, 3, 4, 4]\n"
     ]
    }
   ],
   "source": [
    "number_of_nums = int(input('Please Enter the number of numbers you want to enter: '))\n",
    "\n",
    "numbers = []\n",
    "for i in range(number_of_nums):\n",
    "    x = int(input(f'Enter {i}-th number: '))\n",
    "    numbers.append(x)\n",
    "\n",
    "print(numbers)"
   ]
  },
  {
   "cell_type": "markdown",
   "id": "6f92fbe7-8b33-4afa-a9e1-d35493490e3a",
   "metadata": {},
   "source": [
    "### Example 4: Iterating a 2-d list"
   ]
  },
  {
   "cell_type": "code",
   "execution_count": 14,
   "id": "7773a353-788a-40c4-808e-22af23666672",
   "metadata": {},
   "outputs": [
    {
     "name": "stdout",
     "output_type": "stream",
     "text": [
      "8\n",
      "2\n",
      "4\n",
      "3\n",
      "22\n",
      "1\n",
      "90\n",
      "5\n",
      "3\n"
     ]
    }
   ],
   "source": [
    "m = [\n",
    "    [8, 2, 4],\n",
    "    [3, 22, 1],\n",
    "    [90, 5, 3]\n",
    "]\n",
    "\n",
    "for row in m:\n",
    "    for element in row:\n",
    "        print(element)"
   ]
  },
  {
   "cell_type": "code",
   "execution_count": 10,
   "id": "849b2204-95d6-4ec1-aee2-231a3ac49cd8",
   "metadata": {},
   "outputs": [
    {
     "name": "stdout",
     "output_type": "stream",
     "text": [
      "Element 0, 0 = 8\n",
      "Element 0, 1 = 2\n",
      "Element 0, 2 = 4\n",
      "Element 1, 0 = 3\n",
      "Element 1, 1 = 22\n",
      "Element 1, 2 = 1\n",
      "Element 2, 0 = 90\n",
      "Element 2, 1 = 5\n",
      "Element 2, 2 = 3\n"
     ]
    }
   ],
   "source": [
    "for i in range(len(m)):\n",
    "    for j in range(len(m[i])):\n",
    "        print(f'Element {i}, {j} = {m[i][j]}')"
   ]
  },
  {
   "cell_type": "code",
   "execution_count": 17,
   "id": "63cebcb2-3080-417f-8973-889f0bd85077",
   "metadata": {},
   "outputs": [
    {
     "name": "stdout",
     "output_type": "stream",
     "text": [
      "Element 0, 0 = 8\n",
      "Element 0, 1 = 2\n",
      "Element 0, 2 = 4\n",
      "Element 1, 0 = 3\n",
      "Element 1, 1 = 22\n",
      "Element 1, 2 = 1\n",
      "Element 2, 0 = 90\n",
      "Element 2, 1 = 5\n",
      "Element 2, 2 = 3\n"
     ]
    }
   ],
   "source": [
    "for row_idx, row in enumerate(m):\n",
    "    for column_idx, element in enumerate(row):\n",
    "        print(f'Element {row_idx}, {column_idx} = {element}')"
   ]
  },
  {
   "cell_type": "markdown",
   "id": "6d4717c9-a0c1-4add-86e6-d358f1b55afc",
   "metadata": {},
   "source": [
    "### Example 5: Replace `None` with average"
   ]
  },
  {
   "cell_type": "code",
   "execution_count": 21,
   "id": "3cb7f5d5-6b9d-498a-a628-36f5e5fe32d0",
   "metadata": {},
   "outputs": [
    {
     "name": "stdout",
     "output_type": "stream",
     "text": [
      "Average is: 10.75\n",
      "[10.5, 11.2, 9.8, 10.75, 11.5, 10.75]\n"
     ]
    }
   ],
   "source": [
    "data = [10.5, 11.2, 9.8, None, 11.5, None]\n",
    "\n",
    "total = 0\n",
    "count = 0\n",
    "for x in data:\n",
    "    if x is not None:\n",
    "        count += 1\n",
    "        total += x\n",
    "\n",
    "average = total / count\n",
    "\n",
    "for idx, x in enumerate(data):\n",
    "    if x is None:\n",
    "        data[idx] = average\n",
    "\n",
    "print(f'Average is: {average}')\n",
    "print(data)"
   ]
  }
 ],
 "metadata": {
  "kernelspec": {
   "display_name": "Python 3 (ipykernel)",
   "language": "python",
   "name": "python3"
  },
  "language_info": {
   "codemirror_mode": {
    "name": "ipython",
    "version": 3
   },
   "file_extension": ".py",
   "mimetype": "text/x-python",
   "name": "python",
   "nbconvert_exporter": "python",
   "pygments_lexer": "ipython3",
   "version": "3.9.7"
  }
 },
 "nbformat": 4,
 "nbformat_minor": 5
}
