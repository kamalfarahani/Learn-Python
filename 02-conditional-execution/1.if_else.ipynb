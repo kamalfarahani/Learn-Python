{
 "cells": [
  {
   "cell_type": "markdown",
   "id": "b6089ffa-566c-443c-b320-2fcfe84e28b0",
   "metadata": {},
   "source": [
    "## Conditional Execution\n",
    "\n",
    "\n",
    "In Python, an `if` statement is a control structure that allows you to execute code conditionally. The basic structure of an `if` statement in Python is as follows:\n",
    "\n",
    "```python\n",
    "if condition:\n",
    "    # code to execute if condition is True\n",
    "```\n",
    "\n",
    "Here, `condition` is a Boolean expression that evaluates to either `True` or `False`. If `condition` is `True`, then the code block indented under the `if` statement is executed. If `condition` is `False`, then the code block is skipped and execution continues after the `if` statement.\n",
    "\n",
    "Optionally, you can also include one or more `elif` (short for \"else if\") clauses to test additional conditions if the first condition is not met:\n",
    "\n",
    "```python\n",
    "if condition1:\n",
    "    # code to execute if condition1 is True\n",
    "elif condition2:\n",
    "    # code to execute if condition1 is False and condition2 is True\n",
    "else:\n",
    "    # code to execute if neither condition1 nor condition2 is True\n",
    "```\n",
    "\n",
    "Here, `condition1`, `condition2`, etc. are Boolean expressions that are tested in order. If `condition1` is `True`, then the code block indented under the first `if` statement is executed, and the `elif` clauses are skipped. If `condition1` is `False`, then `condition2` is tested, and so on. If none of the conditions are `True`, then the code block indented under the `else` statement is executed.\n",
    "\n",
    "In Python, the `if` statement can also be nested inside other `if` statements, `elif` clauses, or `else` clauses to create more complex conditional logic.\n",
    "\n",
    "\n",
    "**In summary:**\n",
    "\n",
    "One of the fundamental constructs in programming is conditional execution.\n",
    "\n",
    "If something is true $\\to$ run some code\n",
    "\n",
    "Else(optionally) $\\to$ run some other piece of code.\n",
    "\n",
    "Python syntax:\n",
    "\n",
    "```python\n",
    "if <expression evalues to a boolean>:\n",
    "    some code\n",
    "else:\n",
    "    some other code\n",
    "```\n",
    "\n",
    "Indentation is necessary."
   ]
  },
  {
   "cell_type": "code",
   "execution_count": 7,
   "id": "b6c58a23-0d9d-4cbc-a14c-17f626affb8d",
   "metadata": {},
   "outputs": [
    {
     "name": "stdout",
     "output_type": "stream",
     "text": [
      "x is greater\n"
     ]
    }
   ],
   "source": [
    "x = 10\n",
    "y = 20\n",
    "if x < y:\n",
    "    print('x is greater')\n",
    "else:\n",
    "    print('y is greater')"
   ]
  },
  {
   "cell_type": "markdown",
   "id": "d9a9ef3d-b941-47da-b3d1-b4660b3e86cd",
   "metadata": {},
   "source": [
    "**else is optional**"
   ]
  },
  {
   "cell_type": "code",
   "execution_count": 8,
   "id": "5f9ff5bd-1ccf-4c58-a64b-67ca48c699da",
   "metadata": {},
   "outputs": [
    {
     "name": "stdout",
     "output_type": "stream",
     "text": [
      "x is greater\n"
     ]
    }
   ],
   "source": [
    "x = 11\n",
    "y = 20\n",
    "if x < y:\n",
    "    print('x is greater')"
   ]
  },
  {
   "cell_type": "code",
   "execution_count": 9,
   "id": "b57a9a24-3493-49a9-96fa-365326608701",
   "metadata": {},
   "outputs": [
    {
     "name": "stdout",
     "output_type": "stream",
     "text": [
      "x is greater than 10 but less than y\n"
     ]
    }
   ],
   "source": [
    "if x < y:\n",
    "    if x < 10:\n",
    "        print('x is less than 10')\n",
    "    else:\n",
    "        print('x is greater than 10 but less than y')"
   ]
  },
  {
   "cell_type": "markdown",
   "id": "8b5cbe31-1f80-41e9-bc2a-dbbc5d82d178",
   "metadata": {},
   "source": [
    "## elif\n",
    "\n",
    "Consider the following example, which is not very readable:"
   ]
  },
  {
   "cell_type": "code",
   "execution_count": 11,
   "id": "2a0133fb-1d9c-4b44-bdd1-7020a76d8d50",
   "metadata": {},
   "outputs": [
    {
     "name": "stdin",
     "output_type": "stream",
     "text": [
      "Enter the grade: 10\n"
     ]
    },
    {
     "name": "stdout",
     "output_type": "stream",
     "text": [
      "You have got an average grade\n"
     ]
    }
   ],
   "source": [
    "x = float(input('Enter the grade:'))\n",
    "\n",
    "if x < 10:\n",
    "    print('You faield')\n",
    "else:\n",
    "    if x < 15:\n",
    "        print('You have got an average grade')\n",
    "    else:\n",
    "        if x < 20:\n",
    "            print('You have got a good grade')\n",
    "        else:\n",
    "            print('You have got the full grade')"
   ]
  },
  {
   "cell_type": "markdown",
   "id": "6130f8c0-2ea4-4d8a-b877-ae82de108388",
   "metadata": {},
   "source": [
    "**We can rewrite the above code using `elif` like this:**"
   ]
  },
  {
   "cell_type": "code",
   "execution_count": 13,
   "id": "d0d2295a-bd3d-4ebd-b329-c41af8ec7fbb",
   "metadata": {},
   "outputs": [
    {
     "name": "stdin",
     "output_type": "stream",
     "text": [
      "Enter the grade: 20\n"
     ]
    },
    {
     "name": "stdout",
     "output_type": "stream",
     "text": [
      "You have got the full grade\n"
     ]
    }
   ],
   "source": [
    "x = float(input('Enter the grade:'))\n",
    "\n",
    "if x < 10:\n",
    "    print('You faield')\n",
    "elif x < 15:\n",
    "    print('You have got an average grade')\n",
    "elif x < 20:\n",
    "    print('You have got a good grade')\n",
    "else:\n",
    "    print('You have got the full grade')"
   ]
  },
  {
   "cell_type": "markdown",
   "id": "6447e243-0aac-4a55-bf0f-7b1fa1b136b3",
   "metadata": {},
   "source": [
    "**Once an `if` or `elif` clause executes, no other `if`, `elif` or `else` block executes.**"
   ]
  },
  {
   "cell_type": "code",
   "execution_count": 16,
   "id": "9188e032-6a56-4ada-8f77-ed3346f47378",
   "metadata": {},
   "outputs": [
    {
     "name": "stdout",
     "output_type": "stream",
     "text": [
      "Withdrawal done! your balance: 900\n"
     ]
    }
   ],
   "source": [
    "account_enabled = True\n",
    "balance = 1000\n",
    "withdraw = 100\n",
    "\n",
    "if not account_enabled:\n",
    "    print('Account is deactive!')\n",
    "elif withdraw > balance:\n",
    "    print('Insufficient funds!')\n",
    "else:\n",
    "    balance = balance - withdraw\n",
    "    print(f'Withdrawal done! your balance: {balance}')"
   ]
  },
  {
   "cell_type": "markdown",
   "id": "f079c3a7-0115-47c1-bd02-ae146debb1ef",
   "metadata": {},
   "source": [
    "## Ternary if\n",
    "\n",
    "```python\n",
    "var = value1 if <condition exp> else value2\n",
    "```\n",
    "\n",
    "consider the following code:"
   ]
  },
  {
   "cell_type": "code",
   "execution_count": 18,
   "id": "d8651a63-2c73-4358-9550-70f843305858",
   "metadata": {},
   "outputs": [
    {
     "name": "stdin",
     "output_type": "stream",
     "text": [
      "Please enter number:  102\n"
     ]
    },
    {
     "name": "stdout",
     "output_type": "stream",
     "text": [
      "True\n"
     ]
    }
   ],
   "source": [
    "x = int(input('Please enter number: '))\n",
    "\n",
    "if x % 2 == 0:\n",
    "    is_even = True\n",
    "else:\n",
    "    is_even = False\n",
    "\n",
    "print(is_even)"
   ]
  },
  {
   "cell_type": "markdown",
   "id": "b1c2c343-b8ba-4d83-8071-48c4e474c7dd",
   "metadata": {},
   "source": [
    "**We can rewrite it using ternary if like below:**"
   ]
  },
  {
   "cell_type": "code",
   "execution_count": 19,
   "id": "b0bd6837-9590-47a4-b10f-d5430909ca6f",
   "metadata": {},
   "outputs": [
    {
     "name": "stdin",
     "output_type": "stream",
     "text": [
      "Please enter number:  100\n"
     ]
    }
   ],
   "source": [
    "x = int(input('Please enter number: '))\n",
    "\n",
    "is_even = True if x % 2 == 0 else False"
   ]
  }
 ],
 "metadata": {
  "kernelspec": {
   "display_name": "Python 3 (ipykernel)",
   "language": "python",
   "name": "python3"
  },
  "language_info": {
   "codemirror_mode": {
    "name": "ipython",
    "version": 3
   },
   "file_extension": ".py",
   "mimetype": "text/x-python",
   "name": "python",
   "nbconvert_exporter": "python",
   "pygments_lexer": "ipython3",
   "version": "3.10.10"
  }
 },
 "nbformat": 4,
 "nbformat_minor": 5
}
