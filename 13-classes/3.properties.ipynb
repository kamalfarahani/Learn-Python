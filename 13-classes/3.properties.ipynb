{
 "cells": [
  {
   "cell_type": "markdown",
   "id": "b45e4396-8d89-4075-939d-cfcf38efc9f4",
   "metadata": {
    "tags": []
   },
   "source": [
    "## Properties\n",
    "\n",
    "In Python, properties are a way to provide controlled access to instance attributes by using methods to get, set, and delete them. Properties allow you to add custom behaviors to attribute access without changing the syntax of the code that uses those attributes.\n",
    "\n",
    "Properties are implemented using special methods called getters, setters, and deleters. These methods have the same name as the attribute they manage, but with the prefix `get_`, `set_`, or `del_`, respectively. The `@property` decorator is used to define a getter method, `@<attribute>.setter` is used to define a setter method, and `@<attribute>.deleter` is used to define a deleter method.\n",
    "\n",
    "Here's an example:\n",
    "\n",
    "```python\n",
    "class Rectangle:\n",
    "    def __init__(self, width, height):\n",
    "        self.width = width\n",
    "        self.height = height\n",
    "\n",
    "    @property\n",
    "    def width(self):\n",
    "        return self._width\n",
    "\n",
    "    @width.setter\n",
    "    def width(self, value):\n",
    "        if value <= 0:\n",
    "            raise ValueError(\"Width must be positive\")\n",
    "        self._width = value\n",
    "\n",
    "    @property\n",
    "    def height(self):\n",
    "        return self._height\n",
    "\n",
    "    @height.setter\n",
    "    def height(self, value):\n",
    "        if value <= 0:\n",
    "            raise ValueError(\"Height must be positive\")\n",
    "        self._height = value\n",
    "\n",
    "    @property\n",
    "    def area(self):\n",
    "        return self._width * self._height\n",
    "\n",
    "r = Rectangle(3, 4)\n",
    "print(r.area)    # Output: 12\n",
    "r.width = 5\n",
    "print(r.area)    # Output: 20\n",
    "r.width = -2     # Raises ValueError: Width must be positive\n",
    "```\n",
    "\n",
    "In the above example, the `Rectangle` class has properties for `width`, `height`, and `area`. The `@property` decorator is used to define a getter method for each property, and the `@<attribute>.setter` decorator is used to define a setter method for each property. The `@property` decorator is also used to define a read-only property for `area`, which is calculated based on the values of `width` and `height`.\n",
    "\n",
    "When the `width` or `height` property is set, the setter method is called, which performs a validation check on the new value before setting the attribute. If the new value is not valid, a `ValueError` is raised.\n",
    "\n",
    "Overall, properties provide a convenient way to add custom behaviors to attribute access in Python without changing the interface of the class."
   ]
  },
  {
   "cell_type": "markdown",
   "id": "d5fd44a7-d8a2-4e99-a11f-881387ab9155",
   "metadata": {},
   "source": [
    "### Example 1: Rectangle"
   ]
  },
  {
   "cell_type": "code",
   "execution_count": 14,
   "id": "9ffc5b6d-43c0-49d9-b9ca-7fa5bb6245c1",
   "metadata": {},
   "outputs": [],
   "source": [
    "class Rectangle:\n",
    "    def __init__(self, width, height):\n",
    "        self.width = width\n",
    "        self.height = height\n",
    "    \n",
    "    def area(self):\n",
    "        return self.width * self.height\n"
   ]
  },
  {
   "cell_type": "code",
   "execution_count": 15,
   "id": "42f7cfd5-9947-45ac-80be-8afd5024b1d7",
   "metadata": {},
   "outputs": [],
   "source": [
    "rect = Rectangle(10, 20)"
   ]
  },
  {
   "cell_type": "code",
   "execution_count": 17,
   "id": "134df379-ba96-47db-8c22-25a6b8318bab",
   "metadata": {},
   "outputs": [],
   "source": [
    "rect.width = -100"
   ]
  },
  {
   "cell_type": "markdown",
   "id": "c1bb8bd7-a12e-4354-bfe2-a1a7bb3b1072",
   "metadata": {},
   "source": [
    "> **Should not be able to set width attribute to a negative value**"
   ]
  },
  {
   "cell_type": "code",
   "execution_count": 25,
   "id": "ac1d65f1-649c-4a25-856b-1a70b7f7661b",
   "metadata": {},
   "outputs": [],
   "source": [
    "class Rectangle:\n",
    "    def __init__(self, width, height):\n",
    "        self.width = width\n",
    "        self.height = height\n",
    "\n",
    "    @property\n",
    "    def width(self):\n",
    "        return self._width\n",
    "\n",
    "    @width.setter\n",
    "    def width(self, value):\n",
    "        if value <= 0:\n",
    "            raise ValueError(\"Width must be positive\")\n",
    "        self._width = value\n",
    "\n",
    "    @property\n",
    "    def height(self):\n",
    "        return self._height\n",
    "\n",
    "    @height.setter\n",
    "    def height(self, value):\n",
    "        if value <= 0:\n",
    "            raise ValueError(\"Height must be positive\")\n",
    "        self._height = value\n",
    "\n",
    "    @property\n",
    "    def area(self):\n",
    "        return self._width * self._height"
   ]
  },
  {
   "cell_type": "code",
   "execution_count": 19,
   "id": "47813804-17fe-4f3b-a4b4-ac22fe9ee740",
   "metadata": {},
   "outputs": [],
   "source": [
    "rect = Rectangle(100, 2)"
   ]
  },
  {
   "cell_type": "code",
   "execution_count": 20,
   "id": "a12efec9-d22e-47f0-8e64-862cc6e3e500",
   "metadata": {},
   "outputs": [
    {
     "ename": "ValueError",
     "evalue": "Width must be positive",
     "output_type": "error",
     "traceback": [
      "\u001b[0;31m---------------------------------------------------------------------------\u001b[0m",
      "\u001b[0;31mValueError\u001b[0m                                Traceback (most recent call last)",
      "Input \u001b[0;32mIn [20]\u001b[0m, in \u001b[0;36m<cell line: 1>\u001b[0;34m()\u001b[0m\n\u001b[0;32m----> 1\u001b[0m rect\u001b[38;5;241m.\u001b[39mwidth \u001b[38;5;241m=\u001b[39m \u001b[38;5;241m-\u001b[39m\u001b[38;5;241m10\u001b[39m\n",
      "Input \u001b[0;32mIn [18]\u001b[0m, in \u001b[0;36mRectangle.width\u001b[0;34m(self, value)\u001b[0m\n\u001b[1;32m     10\u001b[0m \u001b[38;5;129m@width\u001b[39m\u001b[38;5;241m.\u001b[39msetter\n\u001b[1;32m     11\u001b[0m \u001b[38;5;28;01mdef\u001b[39;00m \u001b[38;5;21mwidth\u001b[39m(\u001b[38;5;28mself\u001b[39m, value):\n\u001b[1;32m     12\u001b[0m     \u001b[38;5;28;01mif\u001b[39;00m value \u001b[38;5;241m<\u001b[39m\u001b[38;5;241m=\u001b[39m \u001b[38;5;241m0\u001b[39m:\n\u001b[0;32m---> 13\u001b[0m         \u001b[38;5;28;01mraise\u001b[39;00m \u001b[38;5;167;01mValueError\u001b[39;00m(\u001b[38;5;124m\"\u001b[39m\u001b[38;5;124mWidth must be positive\u001b[39m\u001b[38;5;124m\"\u001b[39m)\n\u001b[1;32m     14\u001b[0m     \u001b[38;5;28mself\u001b[39m\u001b[38;5;241m.\u001b[39m_width \u001b[38;5;241m=\u001b[39m value\n",
      "\u001b[0;31mValueError\u001b[0m: Width must be positive"
     ]
    }
   ],
   "source": [
    "rect.width = -10"
   ]
  },
  {
   "cell_type": "code",
   "execution_count": 23,
   "id": "6b90bedf-9258-42e4-ba77-153d281eced5",
   "metadata": {},
   "outputs": [
    {
     "data": {
      "text/plain": [
       "200"
      ]
     },
     "execution_count": 23,
     "metadata": {},
     "output_type": "execute_result"
    }
   ],
   "source": [
    "rect.area"
   ]
  },
  {
   "cell_type": "code",
   "execution_count": 24,
   "id": "8c0f61f9-bda4-4cba-885a-39b604ab5456",
   "metadata": {},
   "outputs": [
    {
     "ename": "AttributeError",
     "evalue": "can't set attribute",
     "output_type": "error",
     "traceback": [
      "\u001b[0;31m---------------------------------------------------------------------------\u001b[0m",
      "\u001b[0;31mAttributeError\u001b[0m                            Traceback (most recent call last)",
      "Input \u001b[0;32mIn [24]\u001b[0m, in \u001b[0;36m<cell line: 1>\u001b[0;34m()\u001b[0m\n\u001b[0;32m----> 1\u001b[0m rect\u001b[38;5;241m.\u001b[39marea \u001b[38;5;241m=\u001b[39m  \u001b[38;5;241m100\u001b[39m\n",
      "\u001b[0;31mAttributeError\u001b[0m: can't set attribute"
     ]
    }
   ],
   "source": [
    "rect.area =  100"
   ]
  },
  {
   "cell_type": "markdown",
   "id": "c3f196c1-3171-439e-83ca-9598d1d818f1",
   "metadata": {},
   "source": [
    "> **area is a read-only property**"
   ]
  },
  {
   "cell_type": "markdown",
   "id": "c998f83e-7aaa-41a3-8c80-c238433e14c9",
   "metadata": {},
   "source": [
    "### When to use properties\n",
    "\n",
    "Properties can be useful in Python when you want to provide controlled access to instance attributes. Here are some scenarios where properties can be particularly useful:\n",
    "\n",
    "1. Data Validation: Properties can be used to validate the inputs before setting the attribute. This can help ensure that the data is always in a valid state. For example, you can use a property to ensure that the value of an attribute is always positive.\n",
    "\n",
    "2. Encapsulation: Properties can be used to hide the implementation details of a class. By using properties to access instance attributes, you can change the internal implementation of the class without affecting the external interface.\n",
    "\n",
    "3. Computed Attributes: Properties can be used to calculate an attribute's value based on other attributes of the class. This can be particularly useful when you want to expose a calculated value as an attribute of the class.\n",
    "\n",
    "4. Refactoring: Properties can be used to refactor code that uses direct attribute access. If you need to add some behavior when accessing an attribute, you can use a property to maintain backward compatibility with the existing code.\n",
    "\n",
    "Overall, properties can be used to provide a more controlled and robust interface to a class, making it easier to maintain and extend the code over time. However, it's important to use them judiciously, as excessive use of properties can make the code more complex and harder to understand."
   ]
  }
 ],
 "metadata": {
  "kernelspec": {
   "display_name": "Python 3 (ipykernel)",
   "language": "python",
   "name": "python3"
  },
  "language_info": {
   "codemirror_mode": {
    "name": "ipython",
    "version": 3
   },
   "file_extension": ".py",
   "mimetype": "text/x-python",
   "name": "python",
   "nbconvert_exporter": "python",
   "pygments_lexer": "ipython3",
   "version": "3.9.7"
  }
 },
 "nbformat": 4,
 "nbformat_minor": 5
}
