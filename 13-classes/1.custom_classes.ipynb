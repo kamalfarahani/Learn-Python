{
 "cells": [
  {
   "cell_type": "markdown",
   "id": "2072d5f5-d4f3-4dcf-a51b-239b9c339dee",
   "metadata": {},
   "source": [
    "## Objects and Classes\n",
    "\n",
    "In programming, an object is a data structure that contains both data and the methods or functions that operate on that data. Objects are the fundamental building blocks of object-oriented programming (OOP), which is a programming paradigm that emphasizes the use of objects to model real-world objects and concepts.\n",
    "\n",
    "An object is created from a class, which is a template or blueprint for creating objects of a particular type. The class defines the properties (data) and methods (functions) that the object will have. Once an object is created, it can be manipulated through its methods, which can read or modify its properties or perform other operations on the object.\n",
    "\n",
    "Objects provide a way to encapsulate data and behavior into a single entity, which makes it easier to manage and maintain complex programs.\n",
    "\n",
    "Everything in Python is an object meaning that:\n",
    "1. It has a type\n",
    "2. It has a state\n",
    "3. It has functionality\n",
    "4. It is seperate from other objects (it has its own identity)"
   ]
  },
  {
   "cell_type": "markdown",
   "id": "95ed505a-4ea2-4a13-81ce-45cc7a09ecf0",
   "metadata": {},
   "source": [
    "### Why to use objects and what is object oriented programming\n",
    "\n",
    "Object-oriented programming (OOP) is a programming paradigm that is based on the concept of objects, which are data structures that contain data (attributes) and the methods (functions) that operate on that data. In OOP, objects are the fundamental building blocks of a program, and they are used to model real-world objects and concepts.\n",
    "\n",
    "Python is an object-oriented programming language, which means that it supports OOP concepts such as encapsulation, inheritance, and polymorphism. Python allows us to define classes, which are templates or blueprints for creating objects of a particular type. Classes can have attributes (data) and methods (functions), just like objects.\n",
    "\n",
    "One of the main advantages of OOP is that it allows us to write more modular and reusable code. By encapsulating data and behavior into objects, we can create more self-contained and coherent pieces of code. This makes it easier to maintain and extend our programs over time.\n",
    "\n",
    "In Python, we use OOP for a variety of tasks, from creating simple scripts to developing large-scale applications and frameworks. For example, we might use OOP to represent real-world objects like cars, employees, or bank accounts in a program. We might also use OOP to define classes and objects for GUI programming, web development, or scientific computing.\n",
    "\n",
    "Overall, OOP is a powerful and flexible programming paradigm that is well-suited to many different types of applications. In Python, it is an essential aspect of the language that allows us to write robust and scalable code.\n",
    "\n",
    "<img src=\"./pics/oop.jpg\" alt=\"object\" width=\"500\" height=\"300\">"
   ]
  },
  {
   "cell_type": "markdown",
   "id": "bce3d8a0-74fb-4899-8833-41e6d4bd0982",
   "metadata": {},
   "source": [
    "### Defining the most simple object"
   ]
  },
  {
   "cell_type": "code",
   "execution_count": 1,
   "id": "3666bf2e-7785-4779-89ef-e56a0d9c1c28",
   "metadata": {},
   "outputs": [],
   "source": [
    "class Person:\n",
    "    pass"
   ]
  },
  {
   "cell_type": "code",
   "execution_count": 3,
   "id": "09980ba0-21c3-4e6b-9790-5dc49cfbfcf1",
   "metadata": {},
   "outputs": [],
   "source": [
    "p1 = Person()\n",
    "p2 = Person()"
   ]
  },
  {
   "cell_type": "code",
   "execution_count": 4,
   "id": "5c5227be-a4ad-4667-9850-0cf4ecbb1909",
   "metadata": {},
   "outputs": [
    {
     "data": {
      "text/plain": [
       "140640315641712"
      ]
     },
     "execution_count": 4,
     "metadata": {},
     "output_type": "execute_result"
    }
   ],
   "source": [
    "id(p1)"
   ]
  },
  {
   "cell_type": "code",
   "execution_count": 5,
   "id": "f7493f4f-284a-4633-90cb-3a4091b5ef6c",
   "metadata": {},
   "outputs": [
    {
     "data": {
      "text/plain": [
       "140640315639696"
      ]
     },
     "execution_count": 5,
     "metadata": {},
     "output_type": "execute_result"
    }
   ],
   "source": [
    "id(p2)"
   ]
  },
  {
   "cell_type": "markdown",
   "id": "e183f793-e87a-40b9-af47-352b2173e6c3",
   "metadata": {},
   "source": [
    "#### Assigning properties to an object"
   ]
  },
  {
   "cell_type": "code",
   "execution_count": 6,
   "id": "cfd93d4c-31ff-4091-b05d-eecb25581b1d",
   "metadata": {},
   "outputs": [],
   "source": [
    "p1.name = 'John'\n",
    "p2.name = 'Alex'"
   ]
  },
  {
   "cell_type": "code",
   "execution_count": 7,
   "id": "3310c237-4028-4ad9-ad08-ecd0818b6ca3",
   "metadata": {},
   "outputs": [
    {
     "name": "stdout",
     "output_type": "stream",
     "text": [
      "John\n"
     ]
    }
   ],
   "source": [
    "print(p1.name)"
   ]
  },
  {
   "cell_type": "code",
   "execution_count": 8,
   "id": "70509557-b5d8-44d0-a879-f70568b2cd22",
   "metadata": {},
   "outputs": [
    {
     "name": "stdout",
     "output_type": "stream",
     "text": [
      "Alex\n"
     ]
    }
   ],
   "source": [
    "print(p2.name)"
   ]
  },
  {
   "cell_type": "code",
   "execution_count": 9,
   "id": "495681a5-5870-42a7-9325-afb36d2a98f9",
   "metadata": {},
   "outputs": [],
   "source": [
    "p1.age = 20\n",
    "p2.age = 25"
   ]
  },
  {
   "cell_type": "code",
   "execution_count": 10,
   "id": "fafde603-5eb5-43c8-9d36-1aa7894b7cb2",
   "metadata": {},
   "outputs": [
    {
     "name": "stdout",
     "output_type": "stream",
     "text": [
      "John is 20 years old\n",
      "Alex is 25 years old\n"
     ]
    }
   ],
   "source": [
    "print(f'{p1.name} is {p1.age} years old')\n",
    "print(f'{p2.name} is {p2.age} years old')"
   ]
  },
  {
   "cell_type": "markdown",
   "id": "40bd0eb7-5a6e-4ca3-8e62-9157a7890c54",
   "metadata": {},
   "source": [
    "> **Lets make a funtion for creating humans with name and age**"
   ]
  },
  {
   "cell_type": "code",
   "execution_count": 11,
   "id": "76a0a854-3d9b-48a0-8931-ef5b6fa5484a",
   "metadata": {},
   "outputs": [],
   "source": [
    "def set_person_name_and_age(person, name, age):\n",
    "    person.name = name\n",
    "    person.age = age"
   ]
  },
  {
   "cell_type": "code",
   "execution_count": 13,
   "id": "a4dffe4e-b0c2-49a9-a80c-6c70204cf949",
   "metadata": {},
   "outputs": [
    {
     "name": "stdout",
     "output_type": "stream",
     "text": [
      "Joe is 23 years old\n",
      "Bob is 40 years old\n"
     ]
    }
   ],
   "source": [
    "joe = Person()\n",
    "set_person_name_and_age(joe, 'Joe', 23)\n",
    "\n",
    "bob = Person()\n",
    "set_person_name_and_age(bob, 'Bob', 40)\n",
    "\n",
    "print(f'{joe.name} is {joe.age} years old')\n",
    "print(f'{bob.name} is {bob.age} years old')"
   ]
  },
  {
   "cell_type": "markdown",
   "id": "9b889a48-595d-4ce4-b74b-c95a6ce80def",
   "metadata": {},
   "source": [
    "### Methods\n",
    "\n",
    "In Python, a method is a function that is associated with an object. Methods are used to perform operations on the data that is contained within an object, or to modify the behavior of the object itself. \n",
    "\n",
    "When a method is called on an object, the object itself is passed as the first argument (usually referred to as `self`) to the method. This allows the method to access and modify the data and behavior of the object.\n",
    "\n",
    "Methods in Python are defined within the class definition, using the `def` keyword, and can be called on any instance of that class. For example, let's say we have a class called `Person` which has a method called `set_person_name_and_age`:\n",
    "\n",
    "```python\n",
    "class Person:\n",
    "    def set_name_and_age(self, name, age):\n",
    "        self.name = name\n",
    "        self.age = age\n",
    "```\n",
    "\n",
    "We can create an instance of the `Person` class and call the `set_name_and_age` method on it like this:\n",
    "\n",
    "```python\n",
    "p = Person()\n",
    "p.set_name_and_age('Alex', 20)\n",
    "```"
   ]
  },
  {
   "cell_type": "code",
   "execution_count": 18,
   "id": "a9b80ea3-f413-4a3b-86f7-b854cd1775d6",
   "metadata": {},
   "outputs": [],
   "source": [
    "class Person:\n",
    "    def set_name_and_age(self, name, age):\n",
    "        self.name = name\n",
    "        self.age = age\n",
    "    \n",
    "    def say_hi(self):\n",
    "        print(f'Hi I am {self.name} and I am {self.age} years old')"
   ]
  },
  {
   "cell_type": "code",
   "execution_count": 23,
   "id": "44f3c60e-3aac-4db9-a861-38bc99e49804",
   "metadata": {},
   "outputs": [
    {
     "name": "stdout",
     "output_type": "stream",
     "text": [
      "Hi I am Alex and I am 20 years old\n",
      "Hi I am John and I am 25 years old\n"
     ]
    }
   ],
   "source": [
    "alex = Person()\n",
    "alex.set_name_and_age('Alex', 20)\n",
    "\n",
    "john = Person()\n",
    "john.set_name_and_age('John', 25)\n",
    "\n",
    "alex.say_hi()\n",
    "john.say_hi()"
   ]
  },
  {
   "cell_type": "markdown",
   "id": "e29f60b0-250e-43e8-9456-2b21afcaa9af",
   "metadata": {},
   "source": [
    "### The `__init__` method\n",
    "\n",
    "In Python, `__init__` is a special method that is called when an object of a class is created. The `__init__` method is also known as the constructor method, because it is used to initialize the object's attributes.\n",
    "\n",
    "The `__init__` method takes at least one argument, which is usually named `self`, and refers to the instance of the class that is being created. It can also take additional arguments, which are used to set the initial values of the object's attributes.\n",
    "\n",
    "Here's an example of a simple class that uses the `__init__` method to initialize an object's `name` and `age` attributes:\n",
    "\n",
    "```python\n",
    "class Person:\n",
    "    def __init__(self, name, age):\n",
    "        self.name = name\n",
    "        self.age = age\n",
    "\n",
    "person = Person(\"Alice\", 30)\n",
    "print(person.name)  # Output: \"Alice\"\n",
    "print(person.age)   # Output: 30\n",
    "```\n",
    "\n",
    "In this example, the `Person` class has an `__init__` method that takes both a `name` and an `age` argument and sets the object's `name` and `age` attributes to the values of those arguments. When we create a new object of the `Person` class and pass in the `name` and `age` arguments \"Alice\" and 30, respectively, the `__init__` method is called automatically to initialize the object's `name` and `age` attributes.\n",
    "\n",
    "We can access the attributes of the object using dot notation, just like in the previous example. In this case, we can access both the `name` and `age` attributes of the `person` object using `person.name` and `person.age`, respectively. values."
   ]
  },
  {
   "cell_type": "code",
   "execution_count": 25,
   "id": "c7d83df2-87f1-4218-bd57-940ea56bd283",
   "metadata": {},
   "outputs": [],
   "source": [
    "class Person:\n",
    "    def __init__(self, name, age):\n",
    "        self.name = name\n",
    "        self.age = age\n",
    "        \n",
    "    def say_hi(self):\n",
    "        print(f'Hi I am {self.name} and I am {self.age} years old')"
   ]
  },
  {
   "cell_type": "code",
   "execution_count": 26,
   "id": "9f562732-21b4-4867-b8bd-5101b4623e3c",
   "metadata": {},
   "outputs": [
    {
     "name": "stdout",
     "output_type": "stream",
     "text": [
      "Hi I am Alex and I am 25 years old\n"
     ]
    }
   ],
   "source": [
    "alex = Person('Alex', 25)\n",
    "alex.say_hi()"
   ]
  },
  {
   "cell_type": "markdown",
   "id": "d3648832-49f3-46c8-9cb9-90ce4b5c73ff",
   "metadata": {
    "tags": []
   },
   "source": [
    "### Relationship between class and an object\n",
    "\n",
    "An object is an instance of a class. A class is a blueprint or template that defines the properties (data) and behavior (methods) of a group of objects. When we create an object, we are creating a unique instance of that class with its own set of data values.\n",
    "\n",
    "The relationship between an object and its class is one of instantiation. When we create an object, we are instantiating or creating an instance of the class. The object then has access to all of the attributes and methods defined by the class.\n",
    "\n",
    "For example, let's consider our simple class `Person`:\n",
    "\n",
    "```python\n",
    "class Person:\n",
    "    def __init__(self, name, age):\n",
    "        self.name = name\n",
    "        self.age = age\n",
    "\n",
    "    def say_hi(self):\n",
    "        print(f'Hi I am {self.name} and I am {self.age} years old')\n",
    "```\n",
    "\n",
    "This class defines a `Person` object that has a `name` and an `age` attribute, as well as a `say_hi()` method. We can create multiple instances of the `Person` class, each with its own unique values for `name` and `age`:\n",
    "\n",
    "```python\n",
    "person1 = Person(\"Alice\", 30)\n",
    "person2 = Person(\"Bob\", 25)\n",
    "```\n",
    "\n",
    "In this example, `person1` and `person2` are both objects that are instances of the `Person` class. Each object has its own set of data values for `name` and `age`, which are passed as arguments to the `__init__()` method when the object is created.\n",
    "\n",
    "We can access the attributes and methods of each object using dot notation, like this:\n",
    "\n",
    "```python\n",
    "print(person1.name)      # Output: \"Alice\"\n",
    "print(person2.age)       # Output: 25\n",
    "person1.say_hi()      # Output: \"Hi I am Alice and I am 30 years old.\"\n",
    "person2.say_hi()      # Output: \"Hi I am Bob and I am 25 years old.\"\n",
    "```\n",
    "\n",
    "In summary, the relationship between an object and its class in Python is one of instantiation. When we create an object, we are creating a unique instance of the class with its own set of data values, and the object has access to all of the attributes and methods defined by the class.\n",
    "\n",
    "<img src=\"./pics/classes_and_objects.jpg\" alt=\"object\" width=\"500\" height=\"300\">"
   ]
  }
 ],
 "metadata": {
  "kernelspec": {
   "display_name": "Python 3 (ipykernel)",
   "language": "python",
   "name": "python3"
  },
  "language_info": {
   "codemirror_mode": {
    "name": "ipython",
    "version": 3
   },
   "file_extension": ".py",
   "mimetype": "text/x-python",
   "name": "python",
   "nbconvert_exporter": "python",
   "pygments_lexer": "ipython3",
   "version": "3.9.7"
  }
 },
 "nbformat": 4,
 "nbformat_minor": 5
}
