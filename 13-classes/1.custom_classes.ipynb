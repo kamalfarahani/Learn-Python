{
 "cells": [
  {
   "cell_type": "markdown",
   "id": "2072d5f5-d4f3-4dcf-a51b-239b9c339dee",
   "metadata": {},
   "source": [
    "## Objects and Classes\n",
    "\n",
    "In programming, an object is a data structure that contains both data and the methods or functions that operate on that data. Objects are the fundamental building blocks of object-oriented programming (OOP), which is a programming paradigm that emphasizes the use of objects to model real-world objects and concepts.\n",
    "\n",
    "An object is created from a class, which is a template or blueprint for creating objects of a particular type. The class defines the properties (data) and methods (functions) that the object will have. Once an object is created, it can be manipulated through its methods, which can read or modify its properties or perform other operations on the object.\n",
    "\n",
    "Objects provide a way to encapsulate data and behavior into a single entity, which makes it easier to manage and maintain complex programs.\n",
    "\n",
    "Everything in Python is an object meaning that:\n",
    "1. It has a type\n",
    "2. It has a state\n",
    "3. It has functionality\n",
    "4. It is seperate from other objects (it has its own identity)"
   ]
  },
  {
   "cell_type": "markdown",
   "id": "95ed505a-4ea2-4a13-81ce-45cc7a09ecf0",
   "metadata": {},
   "source": [
    "### Why to use objects and what is object oriented programming\n",
    "\n",
    "Object-oriented programming (OOP) is a programming paradigm that is based on the concept of objects, which are data structures that contain data (attributes) and the methods (functions) that operate on that data. In OOP, objects are the fundamental building blocks of a program, and they are used to model real-world objects and concepts.\n",
    "\n",
    "Python is an object-oriented programming language, which means that it supports OOP concepts such as encapsulation, inheritance, and polymorphism. Python allows us to define classes, which are templates or blueprints for creating objects of a particular type. Classes can have attributes (data) and methods (functions), just like objects.\n",
    "\n",
    "One of the main advantages of OOP is that it allows us to write more modular and reusable code. By encapsulating data and behavior into objects, we can create more self-contained and coherent pieces of code. This makes it easier to maintain and extend our programs over time.\n",
    "\n",
    "In Python, we use OOP for a variety of tasks, from creating simple scripts to developing large-scale applications and frameworks. For example, we might use OOP to represent real-world objects like cars, employees, or bank accounts in a program. We might also use OOP to define classes and objects for GUI programming, web development, or scientific computing.\n",
    "\n",
    "Overall, OOP is a powerful and flexible programming paradigm that is well-suited to many different types of applications. In Python, it is an essential aspect of the language that allows us to write robust and scalable code.\n",
    "\n",
    "<img src=\"./pics/oop.jpg\" alt=\"object\" width=\"500\" height=\"300\">"
   ]
  },
  {
   "cell_type": "markdown",
   "id": "bce3d8a0-74fb-4899-8833-41e6d4bd0982",
   "metadata": {},
   "source": [
    "### Defining the most simple object"
   ]
  },
  {
   "cell_type": "code",
   "execution_count": 2,
   "id": "3666bf2e-7785-4779-89ef-e56a0d9c1c28",
   "metadata": {},
   "outputs": [],
   "source": [
    "class Person:\n",
    "    pass"
   ]
  },
  {
   "cell_type": "code",
   "execution_count": 3,
   "id": "09980ba0-21c3-4e6b-9790-5dc49cfbfcf1",
   "metadata": {},
   "outputs": [],
   "source": [
    "p1 = Person()\n",
    "p2 = Person()"
   ]
  },
  {
   "cell_type": "code",
   "execution_count": 4,
   "id": "5bd6515c-b6db-49fb-b7d4-d436ce30e285",
   "metadata": {},
   "outputs": [
    {
     "data": {
      "text/plain": [
       "__main__.Person"
      ]
     },
     "execution_count": 4,
     "metadata": {},
     "output_type": "execute_result"
    }
   ],
   "source": [
    "type(p1)"
   ]
  },
  {
   "cell_type": "code",
   "execution_count": 5,
   "id": "259d1d8d-7725-4eda-a883-6c4998622c23",
   "metadata": {},
   "outputs": [
    {
     "data": {
      "text/plain": [
       "__main__.Person"
      ]
     },
     "execution_count": 5,
     "metadata": {},
     "output_type": "execute_result"
    }
   ],
   "source": [
    "type(p2)"
   ]
  },
  {
   "cell_type": "code",
   "execution_count": 6,
   "id": "d3951b76-1cbe-4d75-a069-749409786408",
   "metadata": {},
   "outputs": [
    {
     "data": {
      "text/plain": [
       "<__main__.Person at 0x7fa0c811f0a0>"
      ]
     },
     "execution_count": 6,
     "metadata": {},
     "output_type": "execute_result"
    }
   ],
   "source": [
    "p1"
   ]
  },
  {
   "cell_type": "code",
   "execution_count": 7,
   "id": "8dc5a3d4-03fe-4959-a76b-50f390ae07f7",
   "metadata": {},
   "outputs": [
    {
     "data": {
      "text/plain": [
       "<__main__.Person at 0x7fa0c819c760>"
      ]
     },
     "execution_count": 7,
     "metadata": {},
     "output_type": "execute_result"
    }
   ],
   "source": [
    "p2"
   ]
  },
  {
   "cell_type": "code",
   "execution_count": 8,
   "id": "5c5227be-a4ad-4667-9850-0cf4ecbb1909",
   "metadata": {},
   "outputs": [
    {
     "data": {
      "text/plain": [
       "'0x7fa0c811f0a0'"
      ]
     },
     "execution_count": 8,
     "metadata": {},
     "output_type": "execute_result"
    }
   ],
   "source": [
    "hex(id(p1))"
   ]
  },
  {
   "cell_type": "code",
   "execution_count": 9,
   "id": "f7493f4f-284a-4633-90cb-3a4091b5ef6c",
   "metadata": {},
   "outputs": [
    {
     "data": {
      "text/plain": [
       "'0x7fa0c819c760'"
      ]
     },
     "execution_count": 9,
     "metadata": {},
     "output_type": "execute_result"
    }
   ],
   "source": [
    "hex(id(p2))"
   ]
  },
  {
   "cell_type": "markdown",
   "id": "e183f793-e87a-40b9-af47-352b2173e6c3",
   "metadata": {},
   "source": [
    "#### Setting properties to an object\n",
    "\n",
    "We said that each object has a state, the properties of an object are the data that are stored in the object."
   ]
  },
  {
   "cell_type": "code",
   "execution_count": 5,
   "id": "cfd93d4c-31ff-4091-b05d-eecb25581b1d",
   "metadata": {},
   "outputs": [],
   "source": [
    "p1.name = 'John'\n",
    "p2.name = 'Alex'"
   ]
  },
  {
   "cell_type": "code",
   "execution_count": 7,
   "id": "3310c237-4028-4ad9-ad08-ecd0818b6ca3",
   "metadata": {},
   "outputs": [
    {
     "name": "stdout",
     "output_type": "stream",
     "text": [
      "John\n"
     ]
    }
   ],
   "source": [
    "print(p1.name)"
   ]
  },
  {
   "cell_type": "code",
   "execution_count": 8,
   "id": "70509557-b5d8-44d0-a879-f70568b2cd22",
   "metadata": {},
   "outputs": [
    {
     "name": "stdout",
     "output_type": "stream",
     "text": [
      "Alex\n"
     ]
    }
   ],
   "source": [
    "print(p2.name)"
   ]
  },
  {
   "cell_type": "code",
   "execution_count": 9,
   "id": "495681a5-5870-42a7-9325-afb36d2a98f9",
   "metadata": {},
   "outputs": [],
   "source": [
    "p1.age = 20\n",
    "p2.age = 25"
   ]
  },
  {
   "cell_type": "code",
   "execution_count": 10,
   "id": "fafde603-5eb5-43c8-9d36-1aa7894b7cb2",
   "metadata": {},
   "outputs": [
    {
     "name": "stdout",
     "output_type": "stream",
     "text": [
      "John is 20 years old\n",
      "Alex is 25 years old\n"
     ]
    }
   ],
   "source": [
    "print(f'{p1.name} is {p1.age} years old')\n",
    "print(f'{p2.name} is {p2.age} years old')"
   ]
  },
  {
   "cell_type": "markdown",
   "id": "40bd0eb7-5a6e-4ca3-8e62-9157a7890c54",
   "metadata": {},
   "source": [
    "> **Lets make a funtion for setting persons with name and age**"
   ]
  },
  {
   "cell_type": "code",
   "execution_count": 11,
   "id": "76a0a854-3d9b-48a0-8931-ef5b6fa5484a",
   "metadata": {},
   "outputs": [],
   "source": [
    "def set_person_name_and_age(person, name, age):\n",
    "    person.name = name\n",
    "    person.age = age"
   ]
  },
  {
   "cell_type": "code",
   "execution_count": 13,
   "id": "a4dffe4e-b0c2-49a9-a80c-6c70204cf949",
   "metadata": {},
   "outputs": [
    {
     "name": "stdout",
     "output_type": "stream",
     "text": [
      "Joe is 23 years old\n",
      "Bob is 40 years old\n"
     ]
    }
   ],
   "source": [
    "joe = Person()\n",
    "set_person_name_and_age(joe, 'Joe', 23)\n",
    "\n",
    "bob = Person()\n",
    "set_person_name_and_age(bob, 'Bob', 40)\n",
    "\n",
    "print(f'{joe.name} is {joe.age} years old')\n",
    "print(f'{bob.name} is {bob.age} years old')"
   ]
  },
  {
   "cell_type": "markdown",
   "id": "9b889a48-595d-4ce4-b74b-c95a6ce80def",
   "metadata": {},
   "source": [
    "### Methods\n",
    "\n",
    "In Python, a method is a function that is associated with an object. Methods are used to perform operations on the data that is contained within an object, or to modify the behavior of the object itself. \n",
    "\n",
    "When a method is called on an object, the object itself is passed as the first argument (usually referred to as `self`) to the method. This allows the method to access and modify the data and behavior of the object.\n",
    "\n",
    "Methods in Python are defined within the class definition, using the `def` keyword, and can be called on any instance of that class. For example, let's say we have a class called `Person` which has a method called `set_person_name_and_age`:\n",
    "\n",
    "```python\n",
    "class Person:\n",
    "    def set_name_and_age(self, name, age):\n",
    "        self.name = name\n",
    "        self.age = age\n",
    "```\n",
    "\n",
    "We can create an instance of the `Person` class and call the `set_name_and_age` method on it like this:\n",
    "\n",
    "```python\n",
    "p = Person()\n",
    "p.set_name_and_age('Alex', 20)\n",
    "```"
   ]
  },
  {
   "cell_type": "code",
   "execution_count": 18,
   "id": "a9b80ea3-f413-4a3b-86f7-b854cd1775d6",
   "metadata": {},
   "outputs": [],
   "source": [
    "class Person:\n",
    "    def set_name_and_age(self, name, age):\n",
    "        self.name = name\n",
    "        self.age = age\n",
    "    \n",
    "    def say_hi(self):\n",
    "        print(f'Hi I am {self.name} and I am {self.age} years old')"
   ]
  },
  {
   "cell_type": "code",
   "execution_count": 23,
   "id": "44f3c60e-3aac-4db9-a861-38bc99e49804",
   "metadata": {},
   "outputs": [
    {
     "name": "stdout",
     "output_type": "stream",
     "text": [
      "Hi I am Alex and I am 20 years old\n",
      "Hi I am John and I am 25 years old\n"
     ]
    }
   ],
   "source": [
    "alex = Person()\n",
    "alex.set_name_and_age('Alex', 20)\n",
    "\n",
    "john = Person()\n",
    "john.set_name_and_age('John', 25)\n",
    "\n",
    "alex.say_hi()\n",
    "john.say_hi()"
   ]
  },
  {
   "cell_type": "markdown",
   "id": "e29f60b0-250e-43e8-9456-2b21afcaa9af",
   "metadata": {},
   "source": [
    "### The `__init__` method\n",
    "\n",
    "In Python, `__init__` is a special method that is called when an object of a class is created. The `__init__` method is also known as the constructor method, because it is used to initialize the object's attributes.\n",
    "\n",
    "The `__init__` method takes at least one argument, which is usually named `self`, and refers to the instance of the class that is being created. It can also take additional arguments, which are used to set the initial values of the object's attributes.\n",
    "\n",
    "Here's an example of a simple class that uses the `__init__` method to initialize an object's `name` and `age` attributes:\n",
    "\n",
    "```python\n",
    "class Person:\n",
    "    def __init__(self, name, age):\n",
    "        self.name = name\n",
    "        self.age = age\n",
    "\n",
    "person = Person(\"Alice\", 30)\n",
    "print(person.name)  # Output: \"Alice\"\n",
    "print(person.age)   # Output: 30\n",
    "```\n",
    "\n",
    "In this example, the `Person` class has an `__init__` method that takes both a `name` and an `age` argument and sets the object's `name` and `age` attributes to the values of those arguments. When we create a new object of the `Person` class and pass in the `name` and `age` arguments \"Alice\" and 30, respectively, the `__init__` method is called automatically to initialize the object's `name` and `age` attributes.\n",
    "\n",
    "We can access the attributes of the object using dot notation, just like in the previous example. In this case, we can access both the `name` and `age` attributes of the `person` object using `person.name` and `person.age`, respectively. values."
   ]
  },
  {
   "cell_type": "code",
   "execution_count": 47,
   "id": "c7d83df2-87f1-4218-bd57-940ea56bd283",
   "metadata": {},
   "outputs": [],
   "source": [
    "class Person:\n",
    "    def __init__(self, name, age):\n",
    "        print('init called!')\n",
    "        self.name = name\n",
    "        self.age = age\n",
    "        \n",
    "    def say_hi(self):\n",
    "        print(f'Hi I am {self.name} and I am {self.age} years old')"
   ]
  },
  {
   "cell_type": "code",
   "execution_count": 48,
   "id": "9f562732-21b4-4867-b8bd-5101b4623e3c",
   "metadata": {},
   "outputs": [
    {
     "name": "stdout",
     "output_type": "stream",
     "text": [
      "init called!\n",
      "Hi I am Alex and I am 25 years old\n"
     ]
    }
   ],
   "source": [
    "alex = Person('Alex', 25)\n",
    "alex.say_hi()"
   ]
  },
  {
   "cell_type": "markdown",
   "id": "d3648832-49f3-46c8-9cb9-90ce4b5c73ff",
   "metadata": {
    "tags": []
   },
   "source": [
    "### Relationship between class and an object\n",
    "\n",
    "An object is an instance of a class. A class is a blueprint or template that defines the properties (data) and behavior (methods) of a group of objects. When we create an object, we are creating a unique instance of that class with its own set of data values.\n",
    "\n",
    "The relationship between an object and its class is one of instantiation. When we create an object, we are instantiating or creating an instance of the class. The object then has access to all of the attributes and methods defined by the class.\n",
    "\n",
    "For example, let's consider our simple class `Person`:\n",
    "\n",
    "```python\n",
    "class Person:\n",
    "    def __init__(self, name, age):\n",
    "        self.name = name\n",
    "        self.age = age\n",
    "\n",
    "    def say_hi(self):\n",
    "        print(f'Hi I am {self.name} and I am {self.age} years old')\n",
    "```\n",
    "\n",
    "This class defines a `Person` object that has a `name` and an `age` attribute, as well as a `say_hi()` method. We can create multiple instances of the `Person` class, each with its own unique values for `name` and `age`:\n",
    "\n",
    "```python\n",
    "person1 = Person(\"Alice\", 30)\n",
    "person2 = Person(\"Bob\", 25)\n",
    "```\n",
    "\n",
    "In this example, `person1` and `person2` are both objects that are instances of the `Person` class. Each object has its own set of data values for `name` and `age`, which are passed as arguments to the `__init__()` method when the object is created.\n",
    "\n",
    "We can access the attributes and methods of each object using dot notation, like this:\n",
    "\n",
    "```python\n",
    "print(person1.name)      # Output: \"Alice\"\n",
    "print(person2.age)       # Output: 25\n",
    "person1.say_hi()      # Output: \"Hi I am Alice and I am 30 years old.\"\n",
    "person2.say_hi()      # Output: \"Hi I am Bob and I am 25 years old.\"\n",
    "```\n",
    "\n",
    "In summary, the relationship between an object and its class in Python is one of instantiation. When we create an object, we are creating a unique instance of the class with its own set of data values, and the object has access to all of the attributes and methods defined by the class.\n",
    "\n",
    "<img src=\"./pics/classes_and_objects.jpg\" alt=\"object\" width=\"500\" height=\"300\">"
   ]
  },
  {
   "cell_type": "markdown",
   "id": "7a4afab9-19f7-40ba-8408-8063fc1e05eb",
   "metadata": {},
   "source": [
    "### Example 1: Circle class\n",
    "\n",
    "We will create a class that represents a circle."
   ]
  },
  {
   "cell_type": "code",
   "execution_count": 64,
   "id": "5f22a4e6-dce8-4e55-aaa2-e724d10ffe7c",
   "metadata": {},
   "outputs": [],
   "source": [
    "class Circle:\n",
    "    def __init__(self, radius):\n",
    "        if radius < 0:\n",
    "            raise ValueError('Radius can not be negative!')\n",
    "        self.r = radius\n",
    "    \n",
    "    def area(self):\n",
    "        return 3.14 * self.r**2"
   ]
  },
  {
   "cell_type": "code",
   "execution_count": 65,
   "id": "888d907f-3a14-41cd-bbf4-329f6364abff",
   "metadata": {},
   "outputs": [],
   "source": [
    "c1 = Circle(10)\n",
    "c2 = Circle(1.2)"
   ]
  },
  {
   "cell_type": "code",
   "execution_count": 31,
   "id": "560bf59c-abbf-42b9-9864-15e26cc3a300",
   "metadata": {},
   "outputs": [
    {
     "data": {
      "text/plain": [
       "314.0"
      ]
     },
     "execution_count": 31,
     "metadata": {},
     "output_type": "execute_result"
    }
   ],
   "source": [
    "c1.area()"
   ]
  },
  {
   "cell_type": "code",
   "execution_count": 32,
   "id": "4e02ac02-3c05-458d-87df-8c5553e7e78d",
   "metadata": {},
   "outputs": [
    {
     "data": {
      "text/plain": [
       "4.5216"
      ]
     },
     "execution_count": 32,
     "metadata": {},
     "output_type": "execute_result"
    }
   ],
   "source": [
    "c2.area()"
   ]
  },
  {
   "cell_type": "code",
   "execution_count": 66,
   "id": "acc337ea-3a26-4694-8c42-5392160cb0c6",
   "metadata": {},
   "outputs": [
    {
     "ename": "ValueError",
     "evalue": "Radius can not be negative!",
     "output_type": "error",
     "traceback": [
      "\u001b[0;31m---------------------------------------------------------------------------\u001b[0m",
      "\u001b[0;31mValueError\u001b[0m                                Traceback (most recent call last)",
      "Input \u001b[0;32mIn [66]\u001b[0m, in \u001b[0;36m<cell line: 1>\u001b[0;34m()\u001b[0m\n\u001b[0;32m----> 1\u001b[0m bad_cricle \u001b[38;5;241m=\u001b[39m \u001b[43mCircle\u001b[49m\u001b[43m(\u001b[49m\u001b[38;5;241;43m-\u001b[39;49m\u001b[38;5;241;43m3\u001b[39;49m\u001b[43m)\u001b[49m\n",
      "Input \u001b[0;32mIn [64]\u001b[0m, in \u001b[0;36mCircle.__init__\u001b[0;34m(self, radius)\u001b[0m\n\u001b[1;32m      2\u001b[0m \u001b[38;5;28;01mdef\u001b[39;00m \u001b[38;5;21m__init__\u001b[39m(\u001b[38;5;28mself\u001b[39m, radius):\n\u001b[1;32m      3\u001b[0m     \u001b[38;5;28;01mif\u001b[39;00m radius \u001b[38;5;241m<\u001b[39m \u001b[38;5;241m0\u001b[39m:\n\u001b[0;32m----> 4\u001b[0m         \u001b[38;5;28;01mraise\u001b[39;00m \u001b[38;5;167;01mValueError\u001b[39;00m(\u001b[38;5;124m'\u001b[39m\u001b[38;5;124mRadius can not be negative!\u001b[39m\u001b[38;5;124m'\u001b[39m)\n\u001b[1;32m      5\u001b[0m     \u001b[38;5;28mself\u001b[39m\u001b[38;5;241m.\u001b[39mr \u001b[38;5;241m=\u001b[39m radius\n",
      "\u001b[0;31mValueError\u001b[0m: Radius can not be negative!"
     ]
    }
   ],
   "source": [
    "bad_cricle = Circle(-3)"
   ]
  },
  {
   "cell_type": "markdown",
   "id": "56b6669c-b04a-4be1-977a-4822b22311c9",
   "metadata": {
    "tags": []
   },
   "source": [
    "### Example 2: Student\n",
    "\n",
    "The following class represents a student object with a couple of courses."
   ]
  },
  {
   "cell_type": "code",
   "execution_count": 33,
   "id": "6b790f50-bb2e-45ad-b375-e2431ab6e087",
   "metadata": {},
   "outputs": [],
   "source": [
    "class Course:\n",
    "    def __init__(self, name, grade):\n",
    "        self.name = name\n",
    "        self.grade = grade"
   ]
  },
  {
   "cell_type": "code",
   "execution_count": 39,
   "id": "c5a2513e-58bb-4bd8-b4b0-b895dd1da992",
   "metadata": {},
   "outputs": [],
   "source": [
    "class Student:\n",
    "    def __init__(self, name, courses):\n",
    "        self.name = name\n",
    "        self.courses = courses\n",
    "    \n",
    "    def average(self):\n",
    "        total = 0\n",
    "        for course in self.courses:\n",
    "            total += course.grade\n",
    "        \n",
    "        return total / len(self.courses)\n",
    "    \n",
    "    def print_courses(self):\n",
    "        for course in self.courses:\n",
    "            print(f'{course.name} : {course.grade}')"
   ]
  },
  {
   "cell_type": "code",
   "execution_count": 40,
   "id": "34dde783-907b-484e-bc92-5added8877a0",
   "metadata": {},
   "outputs": [],
   "source": [
    "alex = Student('Alex', [Course('Physics', 20), Course('Math', 16)])\n",
    "john = Student('John', [Course('Physics', 10), Course('Chemistry', 15)])"
   ]
  },
  {
   "cell_type": "code",
   "execution_count": 41,
   "id": "dd5cf997-19ba-4d77-9adc-2737be88bf4a",
   "metadata": {},
   "outputs": [
    {
     "data": {
      "text/plain": [
       "18.0"
      ]
     },
     "execution_count": 41,
     "metadata": {},
     "output_type": "execute_result"
    }
   ],
   "source": [
    "alex.average()"
   ]
  },
  {
   "cell_type": "code",
   "execution_count": 42,
   "id": "66db05c7-d8bc-4260-9390-59cf1fa6df68",
   "metadata": {},
   "outputs": [
    {
     "data": {
      "text/plain": [
       "12.5"
      ]
     },
     "execution_count": 42,
     "metadata": {},
     "output_type": "execute_result"
    }
   ],
   "source": [
    "john.average()"
   ]
  },
  {
   "cell_type": "code",
   "execution_count": 43,
   "id": "e9b6716f-2fb2-45d2-b813-dd9f99afc4d8",
   "metadata": {},
   "outputs": [
    {
     "name": "stdout",
     "output_type": "stream",
     "text": [
      "Physics : 20\n",
      "Math : 16\n"
     ]
    }
   ],
   "source": [
    "alex.print_courses()"
   ]
  },
  {
   "cell_type": "code",
   "execution_count": 44,
   "id": "6881db0c-dc14-416b-99e3-b62e27f6c356",
   "metadata": {},
   "outputs": [
    {
     "name": "stdout",
     "output_type": "stream",
     "text": [
      "Physics : 10\n",
      "Chemistry : 15\n"
     ]
    }
   ],
   "source": [
    "john.print_courses()"
   ]
  },
  {
   "cell_type": "code",
   "execution_count": 46,
   "id": "0d3091a8-e96c-47a7-a0ed-d30cdd7320f4",
   "metadata": {},
   "outputs": [
    {
     "data": {
      "text/plain": [
       "<__main__.Course at 0x7f05640fd1f0>"
      ]
     },
     "execution_count": 46,
     "metadata": {},
     "output_type": "execute_result"
    }
   ],
   "source": [
    "alex.courses[0]"
   ]
  },
  {
   "cell_type": "markdown",
   "id": "028115e1-ff8e-4a49-aff1-4c1761984df9",
   "metadata": {},
   "source": [
    "### Example 3: Point\n",
    "\n",
    "the following class represents a point object in 2d space."
   ]
  },
  {
   "cell_type": "code",
   "execution_count": 60,
   "id": "330ac7c9-24a5-4b23-83b6-b2a5fabde6e7",
   "metadata": {},
   "outputs": [],
   "source": [
    "class Point:\n",
    "    def __init__(self, x, y):\n",
    "        self.x = x\n",
    "        self.y = y\n",
    "    \n",
    "    def add(self, other):\n",
    "        return Point(self.x + other.x, self.y + other.y)\n",
    "    \n",
    "    def dot(self, other):\n",
    "        return self.x * other.x + self.y * other.y\n",
    "    \n",
    "    def representation(self):\n",
    "        return f'({self.x}, {self.y})'"
   ]
  },
  {
   "cell_type": "code",
   "execution_count": 61,
   "id": "f2a408f3-ee40-40f9-ad9c-52d3361d54a4",
   "metadata": {},
   "outputs": [],
   "source": [
    "point_1 = Point(1, 2)\n",
    "point_2 = Point(5, 10)"
   ]
  },
  {
   "cell_type": "code",
   "execution_count": 62,
   "id": "2b214bc4-e1bb-4fed-b890-05ca56c32a71",
   "metadata": {},
   "outputs": [
    {
     "name": "stdout",
     "output_type": "stream",
     "text": [
      "(6, 12)\n"
     ]
    }
   ],
   "source": [
    "point_3 = point_1.add(point_2)\n",
    "print(point_3.representation())"
   ]
  },
  {
   "cell_type": "code",
   "execution_count": 63,
   "id": "8ac8f560-5dba-4946-b716-42a8c1229084",
   "metadata": {},
   "outputs": [
    {
     "data": {
      "text/plain": [
       "25"
      ]
     },
     "execution_count": 63,
     "metadata": {},
     "output_type": "execute_result"
    }
   ],
   "source": [
    "point_1.dot(point_2)"
   ]
  },
  {
   "cell_type": "markdown",
   "id": "76d2d1a6-5a95-452e-a8f1-aae1213f2ada",
   "metadata": {},
   "source": [
    "### Custom defined classes (types) are mutable\n",
    "\n",
    "In Python, custom defined classes are mutable by default, which means that their state can be changed after they are created. This is because Python stores objects as references in memory, and objects can be modified through these references.\n",
    "\n",
    "When you create an instance of a custom defined class, you are creating a new object in memory that is referenced by a variable. This object has attributes that define its state, and these attributes can be changed by modifying the object's reference."
   ]
  },
  {
   "cell_type": "code",
   "execution_count": 13,
   "id": "ee275b7e-e211-4693-b51c-73af5020a888",
   "metadata": {},
   "outputs": [],
   "source": [
    "class Person:\n",
    "    def __init__(self, name, age):\n",
    "        self.name = name\n",
    "        self.age = age"
   ]
  },
  {
   "cell_type": "code",
   "execution_count": 14,
   "id": "edf149bf-0819-4948-ad41-e7c63a9b9bbe",
   "metadata": {},
   "outputs": [],
   "source": [
    "p1 = Person('Alex', 20)\n",
    "p2 = p1"
   ]
  },
  {
   "cell_type": "code",
   "execution_count": 15,
   "id": "77d0e0a6-4a22-4662-aa39-dd3f1ec8c960",
   "metadata": {},
   "outputs": [
    {
     "data": {
      "text/plain": [
       "140328164034784"
      ]
     },
     "execution_count": 15,
     "metadata": {},
     "output_type": "execute_result"
    }
   ],
   "source": [
    "id(p1)"
   ]
  },
  {
   "cell_type": "code",
   "execution_count": 16,
   "id": "8a125278-ec12-4bc5-9514-1d749d20b548",
   "metadata": {},
   "outputs": [
    {
     "data": {
      "text/plain": [
       "140328164034784"
      ]
     },
     "execution_count": 16,
     "metadata": {},
     "output_type": "execute_result"
    }
   ],
   "source": [
    "id(p2)"
   ]
  },
  {
   "cell_type": "code",
   "execution_count": 17,
   "id": "0e0e7cb8-5d75-4252-9528-09ca8cfda760",
   "metadata": {},
   "outputs": [],
   "source": [
    "p2.age = 60"
   ]
  },
  {
   "cell_type": "code",
   "execution_count": 18,
   "id": "5766db40-92ce-4559-85ea-64106ab2977d",
   "metadata": {},
   "outputs": [
    {
     "data": {
      "text/plain": [
       "140328164034784"
      ]
     },
     "execution_count": 18,
     "metadata": {},
     "output_type": "execute_result"
    }
   ],
   "source": [
    "id(p1)"
   ]
  },
  {
   "cell_type": "code",
   "execution_count": 19,
   "id": "44da30e5-4530-4003-82d3-b819013baeeb",
   "metadata": {},
   "outputs": [
    {
     "data": {
      "text/plain": [
       "140328164034784"
      ]
     },
     "execution_count": 19,
     "metadata": {},
     "output_type": "execute_result"
    }
   ],
   "source": [
    "id(p2)"
   ]
  },
  {
   "cell_type": "code",
   "execution_count": 20,
   "id": "c29c2208-117c-4774-9c63-59dfa12abaa2",
   "metadata": {},
   "outputs": [
    {
     "name": "stdout",
     "output_type": "stream",
     "text": [
      "60\n"
     ]
    }
   ],
   "source": [
    "print(p1.age)"
   ]
  }
 ],
 "metadata": {
  "kernelspec": {
   "display_name": "Python 3 (ipykernel)",
   "language": "python",
   "name": "python3"
  },
  "language_info": {
   "codemirror_mode": {
    "name": "ipython",
    "version": 3
   },
   "file_extension": ".py",
   "mimetype": "text/x-python",
   "name": "python",
   "nbconvert_exporter": "python",
   "pygments_lexer": "ipython3",
   "version": "3.10.10"
  }
 },
 "nbformat": 4,
 "nbformat_minor": 5
}
