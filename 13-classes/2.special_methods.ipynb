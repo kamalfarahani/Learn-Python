{
 "cells": [
  {
   "cell_type": "markdown",
   "id": "f1859c3d-fa2b-4fd3-b74a-d398d2cfd069",
   "metadata": {},
   "source": [
    "## Special methods\n",
    "\n",
    "Special methods in Python are methods that are defined with double underscores (also known as \"dunder methods\" or \"magic methods\"). These methods have special behavior in certain situations, such as when an object is created, when it is printed, or when it is used in arithmetic operations.\n",
    "\n",
    "Some common special methods in Python include:\n",
    "\n",
    "- `__init__`: This method is called when an object is created, and is used to initialize its attributes.\n",
    "- `__str__`: This method is called when an object is converted to a string, and is used to control how the object is displayed.\n",
    "- `__repr__`: This method is called when an object is represented in the interactive console, and is used to provide a more detailed representation of the object.\n",
    "- `__eq__`: This method is called when two objects are compared for equality, and is used to define what it means for two objects to be equal.\n",
    "\n",
    "Special methods allow Python classes to define their own behavior for built-in operations, making them more flexible and powerful. They are an important part of object-oriented programming in Python."
   ]
  },
  {
   "cell_type": "markdown",
   "id": "d3d70957-9d3a-488c-b151-9e988e784117",
   "metadata": {},
   "source": [
    "### The `__str__` method\n",
    "\n",
    "The `__str__` method is a special method that is used to define how an object should be represented as a string. When you call `print()` on an object or pass it to the `str()` function, Python calls the object's `__str__` method to get a string representation of the object.\n",
    "\n",
    "By default, if a class does not define its own `__str__` method, Python uses the object's memory address as its string representation. However, defining a custom `__str__` method allows you to provide a more informative string representation of your object.\n",
    "\n",
    "Here's an example:\n",
    "\n",
    "```python\n",
    "class Person:\n",
    "    def __init__(self, name, age):\n",
    "        self.name = name\n",
    "        self.age = age\n",
    "\n",
    "    def __str__(self):\n",
    "        return f\"{self.name} : {self.age} years old\"\n",
    "\n",
    "person = Person(\"Alice\", 30)\n",
    "print(person)   # Output: Alice : 30 years old\n",
    "```\n",
    "\n",
    "In this example, the `Person` class defines its own `__str__` method that returns a string representation of the person's name and age. When we call `print(person)`, Python calls the `__str__` method to get the string representation of the `person` object, which is \"Alice (30)\".\n",
    "\n",
    "Note that the `__str__` method should return a string object, and not print the string directly. If you want to print the string, you can call `print()` on the object or pass it to the `str()` function."
   ]
  },
  {
   "cell_type": "code",
   "execution_count": 5,
   "id": "c9a128ed-68ee-4954-af10-04a398656e33",
   "metadata": {},
   "outputs": [],
   "source": [
    "class Person:\n",
    "    def __init__(self, name, age):\n",
    "        self.name = name\n",
    "        self.age = age\n",
    "\n",
    "    def __str__(self):\n",
    "        return f\"{self.name} : {self.age} years old\""
   ]
  },
  {
   "cell_type": "code",
   "execution_count": 6,
   "id": "a1ab9633-f2f6-4833-b86d-9f38d21c7387",
   "metadata": {},
   "outputs": [],
   "source": [
    "p = Person('Alex', 20)"
   ]
  },
  {
   "cell_type": "code",
   "execution_count": 7,
   "id": "627ed4f2-0c27-48ea-945d-db5ad197d01a",
   "metadata": {},
   "outputs": [
    {
     "name": "stdout",
     "output_type": "stream",
     "text": [
      "Alex : 20 years old\n"
     ]
    }
   ],
   "source": [
    "print(p)"
   ]
  },
  {
   "cell_type": "code",
   "execution_count": 8,
   "id": "b2f60d9f-6211-41c3-bfda-5f58f7658448",
   "metadata": {},
   "outputs": [
    {
     "data": {
      "text/plain": [
       "'Alex : 20 years old'"
      ]
     },
     "execution_count": 8,
     "metadata": {},
     "output_type": "execute_result"
    }
   ],
   "source": [
    "str(p)"
   ]
  },
  {
   "cell_type": "markdown",
   "id": "62051ba9-fd27-4dea-902d-8726470efa72",
   "metadata": {},
   "source": [
    "### The `__repr__` method\n",
    "\n",
    "The `__repr__` method is a special method in Python that is used to define a string representation of an object that can be used to recreate the object. When you call the built-in `repr()` function on an object, Python calls the object's `__repr__` method to get a string representation of the object.\n",
    "\n",
    "The `__repr__` method is similar to the `__str__` method, but while the `__str__` method is used to provide a human-readable representation of the object, the `__repr__` method is used to provide a more detailed and unambiguous representation of the object that can be used to recreate the object.\n",
    "\n",
    "Here's an example:\n",
    "\n",
    "```python\n",
    "class Person:\n",
    "    def __init__(self, name, age):\n",
    "        self.name = name\n",
    "        self.age = age\n",
    "\n",
    "    def __repr__(self):\n",
    "        return f\"Person('{self.name}', {self.age})\"\n",
    "\n",
    "person = Person(\"Alice\", 30)\n",
    "print(repr(person))  # Output: Person('Alice', 30)\n",
    "```\n",
    "\n",
    "In this example, the `Person` class defines its own `__repr__` method that returns a string representation of the person object that can be used to recreate the object. When we call `repr(person)`, Python calls the `__repr__` method to get the string representation of the `person` object, which is \"Person('Alice', 30)\".\n",
    "\n",
    "Note that the `__repr__` method should return a string object that can be used to recreate the object, and not print the string directly. If you want to print the string, you can call `print()` on the object or pass it to the `repr()` function."
   ]
  },
  {
   "cell_type": "code",
   "execution_count": 9,
   "id": "70678472-33a5-425a-a159-8f743191e0a5",
   "metadata": {},
   "outputs": [],
   "source": [
    "class Person:\n",
    "    def __init__(self, name, age):\n",
    "        self.name = name\n",
    "        self.age = age\n",
    "\n",
    "    def __repr__(self):\n",
    "        return f\"Person('{self.name}', {self.age})\""
   ]
  },
  {
   "cell_type": "code",
   "execution_count": 10,
   "id": "8f642d39-708a-4929-be70-2d5bfef85703",
   "metadata": {},
   "outputs": [],
   "source": [
    "p = Person('Alex', 20)"
   ]
  },
  {
   "cell_type": "code",
   "execution_count": 11,
   "id": "471dbf22-6ce4-4f1e-b310-d744b9921f13",
   "metadata": {},
   "outputs": [
    {
     "data": {
      "text/plain": [
       "Person('Alex', 20)"
      ]
     },
     "execution_count": 11,
     "metadata": {},
     "output_type": "execute_result"
    }
   ],
   "source": [
    "p"
   ]
  },
  {
   "cell_type": "markdown",
   "id": "c91a3019-8ba9-4083-9e56-e04876667a34",
   "metadata": {},
   "source": [
    "> **If you don't override `__str__` method in a class but you have overridden `__repr__` Python uses `__repr__` as `__str__` method for the object.**"
   ]
  },
  {
   "cell_type": "code",
   "execution_count": 12,
   "id": "e295c4e9-4a40-4a98-a4a0-12fa04473e35",
   "metadata": {},
   "outputs": [
    {
     "name": "stdout",
     "output_type": "stream",
     "text": [
      "Person('Alex', 20)\n"
     ]
    }
   ],
   "source": [
    "print(p)"
   ]
  },
  {
   "cell_type": "code",
   "execution_count": 13,
   "id": "82aea4c1-c906-41b5-9f29-24fe435c3250",
   "metadata": {},
   "outputs": [
    {
     "data": {
      "text/plain": [
       "\"Person('Alex', 20)\""
      ]
     },
     "execution_count": 13,
     "metadata": {},
     "output_type": "execute_result"
    }
   ],
   "source": [
    "str(p)"
   ]
  },
  {
   "cell_type": "code",
   "execution_count": 14,
   "id": "8812da56-8941-4957-9409-d7473b3b007d",
   "metadata": {},
   "outputs": [],
   "source": [
    "class Person:\n",
    "    def __init__(self, name, age):\n",
    "        self.name = name\n",
    "        self.age = age\n",
    "\n",
    "    def __repr__(self):\n",
    "        return f\"Person('{self.name}', {self.age})\"\n",
    "    \n",
    "    def __str__(self):\n",
    "        return f\"{self.name} : {self.age} years old\""
   ]
  },
  {
   "cell_type": "code",
   "execution_count": 15,
   "id": "519ec4be-f290-48d1-9020-a5e11aa40c20",
   "metadata": {},
   "outputs": [],
   "source": [
    "p = Person('Alex', 25)"
   ]
  },
  {
   "cell_type": "code",
   "execution_count": 16,
   "id": "d24aa9dd-860e-429f-bb07-00b43b93179f",
   "metadata": {},
   "outputs": [
    {
     "data": {
      "text/plain": [
       "Person('Alex', 25)"
      ]
     },
     "execution_count": 16,
     "metadata": {},
     "output_type": "execute_result"
    }
   ],
   "source": [
    "p"
   ]
  },
  {
   "cell_type": "code",
   "execution_count": 17,
   "id": "3911579d-883a-4cae-98ea-8143f353f41a",
   "metadata": {},
   "outputs": [
    {
     "name": "stdout",
     "output_type": "stream",
     "text": [
      "Alex : 25 years old\n"
     ]
    }
   ],
   "source": [
    "print(p)"
   ]
  },
  {
   "cell_type": "code",
   "execution_count": 18,
   "id": "96fc9693-94ed-44a3-adf9-9365676f7595",
   "metadata": {},
   "outputs": [
    {
     "data": {
      "text/plain": [
       "\"Person('Alex', 25)\""
      ]
     },
     "execution_count": 18,
     "metadata": {},
     "output_type": "execute_result"
    }
   ],
   "source": [
    "repr(p)"
   ]
  },
  {
   "cell_type": "code",
   "execution_count": 19,
   "id": "904f8b57-7657-4b78-9487-b391ac1d0c0f",
   "metadata": {},
   "outputs": [
    {
     "data": {
      "text/plain": [
       "'Alex : 25 years old'"
      ]
     },
     "execution_count": 19,
     "metadata": {},
     "output_type": "execute_result"
    }
   ],
   "source": [
    "str(p)"
   ]
  },
  {
   "cell_type": "markdown",
   "id": "175fd182-1983-4d15-9fbf-13402f08d2b2",
   "metadata": {},
   "source": [
    "### The `__eq__` method\n",
    "\n",
    "The `__eq__` method is a special method in Python that is used to define how an object should be compared for equality with another object. When you use the `==` operator to compare two objects, Python calls the `__eq__` method of the left-hand-side object and passes the right-hand-side object as an argument.\n",
    "\n",
    "The `__eq__` method should return a boolean value (`True` or `False`) to indicate whether the two objects are equal. By default, if a class does not define its own `__eq__` method, Python uses the identity operator (`is`) to compare the two objects, which checks if they are the same object in memory.\n",
    "\n",
    "Here's an example:\n",
    "\n",
    "```python\n",
    "class Person:\n",
    "    def __init__(self, name, age):\n",
    "        self.name = name\n",
    "        self.age = age\n",
    "\n",
    "    def __eq__(self, other):\n",
    "        if isinstance(other, Person):\n",
    "            return self.name == other.name and self.age == other.age\n",
    "        return False\n",
    "\n",
    "person1 = Person(\"Alice\", 30)\n",
    "person2 = Person(\"Alice\", 30)\n",
    "person3 = Person(\"Bob\", 25)\n",
    "\n",
    "print(person1 == person2)   # Output: True\n",
    "print(person1 == person3)   # Output: False\n",
    "```\n",
    "\n",
    "In this example, the `Person` class defines its own `__eq__` method that checks if two person objects have the same name and age. When we compare `person1` and `person2` using the `==` operator, Python calls the `__eq__` method of `person1` with `person2` as the argument, which returns `True` since they have the same name and age. When we compare `person1` and `person3`, Python calls the `__eq__` method of `person1` with `person3` as the argument, which returns `False` since they have different names.\n",
    "\n",
    "Note that when defining the `__eq__` method, you should check if the other object is an instance of the same class before comparing their attributes. If the other object is not an instance of the same class, you should return `False` to indicate that they are not equal.\n",
    "\n",
    "If you don't override the `__eq__` method in your class, Python falls back to using the default comparison behavior, which is to check if the two objects being compared are the same object in memory. In other words, if you compare two objects of your class using the `==` operator, the result will be True only if they are the same object in memory."
   ]
  },
  {
   "cell_type": "code",
   "execution_count": 20,
   "id": "ef91d998-d457-4025-a038-65e6e715b311",
   "metadata": {},
   "outputs": [],
   "source": [
    "class Person:\n",
    "    def __init__(self, name, age):\n",
    "        self.name = name\n",
    "        self.age = age\n",
    "\n",
    "    def __eq__(self, other):\n",
    "        if isinstance(other, Person):\n",
    "            return self.name == other.name and self.age == other.age\n",
    "        return False"
   ]
  },
  {
   "cell_type": "code",
   "execution_count": 21,
   "id": "9bfec282-7cf1-4689-8d39-6327b4e99e9e",
   "metadata": {},
   "outputs": [],
   "source": [
    "p_1 = Person('Alex', 20)\n",
    "p_2 = Person('Jane', 30)\n",
    "p_3 = Person('Alex', 20)"
   ]
  },
  {
   "cell_type": "code",
   "execution_count": 24,
   "id": "806c2a7e-a6b9-4fa9-b74f-b6409ed96464",
   "metadata": {},
   "outputs": [
    {
     "data": {
      "text/plain": [
       "False"
      ]
     },
     "execution_count": 24,
     "metadata": {},
     "output_type": "execute_result"
    }
   ],
   "source": [
    "p_1 == p_2 # -> p1.__eq__(p_2)"
   ]
  },
  {
   "cell_type": "code",
   "execution_count": 25,
   "id": "bde212ad-8947-48bc-b11c-68f1fdbb254d",
   "metadata": {},
   "outputs": [
    {
     "data": {
      "text/plain": [
       "True"
      ]
     },
     "execution_count": 25,
     "metadata": {},
     "output_type": "execute_result"
    }
   ],
   "source": [
    "p_1 == p_3"
   ]
  },
  {
   "cell_type": "markdown",
   "id": "7daee0a3-ceba-41fb-bffa-330108508562",
   "metadata": {},
   "source": [
    "### Example 1: Person putting it all together\n",
    "\n",
    "lets put all learnt special methods together"
   ]
  },
  {
   "cell_type": "code",
   "execution_count": 27,
   "id": "a673b4d5-d7d2-4690-9696-1ae149121c1a",
   "metadata": {},
   "outputs": [],
   "source": [
    "class Person:\n",
    "    def __init__(self, name, age):\n",
    "        self.name = name\n",
    "        self.age = age\n",
    "    \n",
    "    def __str__(self):\n",
    "        return f'{self.name} : {self.age} years old'\n",
    "    \n",
    "    def __repr__(self):\n",
    "        return f'Person({self.name}, {self.age})'\n",
    "    \n",
    "    def __eq__(self, other):\n",
    "        if isinstance(other, Person):\n",
    "            return self.name == other.name and self.age == self.age\n",
    "        \n",
    "        return False"
   ]
  },
  {
   "cell_type": "code",
   "execution_count": 28,
   "id": "7884a898-1991-41e4-b6aa-92ad6be4b4c3",
   "metadata": {},
   "outputs": [],
   "source": [
    "alex = Person('Alex', 20)"
   ]
  },
  {
   "cell_type": "code",
   "execution_count": 29,
   "id": "3b87665f-fcfe-4acc-8b7e-c71750aba836",
   "metadata": {},
   "outputs": [
    {
     "data": {
      "text/plain": [
       "Person(Alex, 20)"
      ]
     },
     "execution_count": 29,
     "metadata": {},
     "output_type": "execute_result"
    }
   ],
   "source": [
    "alex"
   ]
  },
  {
   "cell_type": "code",
   "execution_count": 30,
   "id": "71a1ef53-edaa-4b70-89e3-26fdabd48181",
   "metadata": {},
   "outputs": [
    {
     "name": "stdout",
     "output_type": "stream",
     "text": [
      "Alex : 20 years old\n"
     ]
    }
   ],
   "source": [
    "print(alex)"
   ]
  },
  {
   "cell_type": "code",
   "execution_count": 31,
   "id": "fb565e8e-9aec-4ac5-80ab-2dbefd831e47",
   "metadata": {},
   "outputs": [],
   "source": [
    "bob = Person('Bob', 15)"
   ]
  },
  {
   "cell_type": "code",
   "execution_count": 32,
   "id": "eaf4cede-7de9-4a4d-be60-12b5d61c3d6d",
   "metadata": {},
   "outputs": [
    {
     "data": {
      "text/plain": [
       "False"
      ]
     },
     "execution_count": 32,
     "metadata": {},
     "output_type": "execute_result"
    }
   ],
   "source": [
    "alex == bob"
   ]
  },
  {
   "cell_type": "markdown",
   "id": "28c3b832-2aef-442c-898b-bbbcbbd319aa",
   "metadata": {},
   "source": [
    "### Example 2: Vector\n",
    "\n",
    "Lets create a vector class, can you guess what operator `__add__` method overrides?"
   ]
  },
  {
   "cell_type": "code",
   "execution_count": 48,
   "id": "a0d60374-deae-4080-9226-dbbbdc8a3357",
   "metadata": {},
   "outputs": [],
   "source": [
    "class Vector:\n",
    "    def __init__(self, *components):\n",
    "        self.components = components\n",
    "        \n",
    "    def __repr__(self):\n",
    "        return f'Vector{self.components}'\n",
    "    \n",
    "    def __str__(self):\n",
    "        return f'Vector: {self.components}'\n",
    "    \n",
    "    def __len__(self):\n",
    "        return len(self.components)\n",
    "    \n",
    "    def __add__(self, other):\n",
    "        if len(self) != len(other):\n",
    "            raise Exception('Vectors are of different shapes')\n",
    "        \n",
    "        comps_1 = self.components\n",
    "        comps_2 = other.components\n",
    "        new_comps = []\n",
    "        \n",
    "        for i in range(len(comps_1)):\n",
    "            new_comps.append(comps_1[i] + comps_2[i])\n",
    "        \n",
    "        return Vector(*new_comps)\n",
    "    \n",
    "    def __eq__(self, other):\n",
    "        if isinstance(other, Vector) and len(self) == len(other):\n",
    "            return self.components == other.components\n",
    "        \n",
    "        return False"
   ]
  },
  {
   "cell_type": "code",
   "execution_count": 49,
   "id": "fc35febc-4f3a-4f2c-b862-5967d5e59df1",
   "metadata": {},
   "outputs": [],
   "source": [
    "v_1 = Vector(1,2,3)"
   ]
  },
  {
   "cell_type": "code",
   "execution_count": 50,
   "id": "24d461dd-ff20-4b6e-8aaf-1353afcaf0a8",
   "metadata": {},
   "outputs": [
    {
     "data": {
      "text/plain": [
       "Vector(1, 2, 3)"
      ]
     },
     "execution_count": 50,
     "metadata": {},
     "output_type": "execute_result"
    }
   ],
   "source": [
    "v_1"
   ]
  },
  {
   "cell_type": "code",
   "execution_count": 51,
   "id": "3a92f226-9ee4-48f8-a856-0811efce609d",
   "metadata": {},
   "outputs": [
    {
     "name": "stdout",
     "output_type": "stream",
     "text": [
      "Vector: (1, 2, 3)\n"
     ]
    }
   ],
   "source": [
    "print(v_1)"
   ]
  },
  {
   "cell_type": "code",
   "execution_count": 52,
   "id": "9c321857-6690-4d63-ba3d-c8b8acc6a3a7",
   "metadata": {},
   "outputs": [],
   "source": [
    "v_2 = Vector(4, 5, 6)"
   ]
  },
  {
   "cell_type": "code",
   "execution_count": 54,
   "id": "2b75a842-f9e6-4421-97cd-3c9a19176f22",
   "metadata": {},
   "outputs": [],
   "source": [
    "v_3 = v_1 + v_2"
   ]
  },
  {
   "cell_type": "code",
   "execution_count": 55,
   "id": "9c057994-298e-4fb1-94c8-3c548cc8b9e8",
   "metadata": {},
   "outputs": [
    {
     "data": {
      "text/plain": [
       "Vector(5, 7, 9)"
      ]
     },
     "execution_count": 55,
     "metadata": {},
     "output_type": "execute_result"
    }
   ],
   "source": [
    "v_3"
   ]
  }
 ],
 "metadata": {
  "kernelspec": {
   "display_name": "Python 3 (ipykernel)",
   "language": "python",
   "name": "python3"
  },
  "language_info": {
   "codemirror_mode": {
    "name": "ipython",
    "version": 3
   },
   "file_extension": ".py",
   "mimetype": "text/x-python",
   "name": "python",
   "nbconvert_exporter": "python",
   "pygments_lexer": "ipython3",
   "version": "3.9.7"
  }
 },
 "nbformat": 4,
 "nbformat_minor": 5
}
