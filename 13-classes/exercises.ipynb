{
 "cells": [
  {
   "cell_type": "markdown",
   "id": "intimate-skirt",
   "metadata": {},
   "source": [
    "### Questions"
   ]
  },
  {
   "cell_type": "markdown",
   "id": "compliant-pavilion",
   "metadata": {},
   "source": [
    "#### Question 1"
   ]
  },
  {
   "cell_type": "markdown",
   "id": "private-theory",
   "metadata": {},
   "source": [
    "Write a custom class that will be used to model a single bank account."
   ]
  },
  {
   "cell_type": "markdown",
   "id": "greenhouse-anchor",
   "metadata": {},
   "source": [
    "Your class should implement functionality to:\n",
    "- allow initialization with values for `first_name`, `last_name`, `account_number`, `balance`, `is_overdraft_allowed`\n",
    "- keep track of a \"ledger\" that keeps a record all transactions (just use a list to keep track of this)\n",
    "    - at a minimum it should keep track of the transaction date (the current UTC datetime) and the amount (positive, or negative to indicate deposits/withdrawals) - later you could add tracking the running balance as well.\n",
    "- provide read-only properties for `first_name`, `last_name`, `account_number` and `balance`\n",
    "- provide a property to access the ledger in such a way that a user of this class cannot mutate the ledger directly\n",
    "- provide a read-write property for `is_overdraft_allowed` that indicates whether overdrafts are allowed on the account.\n",
    "- provide methods to debit (`def withdraw`) and credit (`def deposit`) transactions that:\n",
    "    - verify withdrawals against available balance and `is_overdraft_allowed` flag\n",
    "        - if withdrawal is larger than available balance and overdrafts are not allowed, this should raise a custom `OverdraftNotAllowed` exception.\n",
    "        - if transaction value is not positive, this should raise a `ValueError` exception (we have separate methods for deposits and withdrawals, and we expect the value to be positive in both cases - one will add to the balance, one will subtract from the balance).\n",
    "    - add an entry to the ledger with a current UTC timestamp (positive or negative to indicate credit/debit)\n",
    "    - keeps the available balance updated\n",
    "- implements a good string representation for the instance (maybe something like `first_name last_name (account_number): balance`"
   ]
  },
  {
   "cell_type": "markdown",
   "id": "cultural-point",
   "metadata": {},
   "source": [
    "Feel free to expand on the minimum definition I have given here and enhance your custom class."
   ]
  },
  {
   "cell_type": "markdown",
   "id": "weekly-working",
   "metadata": {},
   "source": [
    "#### Question 2"
   ]
  },
  {
   "cell_type": "markdown",
   "id": "accompanied-collaboration",
   "metadata": {},
   "source": [
    "Expand on your class above to implement equality (`==`) comparisons between instances of your class."
   ]
  },
  {
   "cell_type": "markdown",
   "id": "acceptable-creek",
   "metadata": {},
   "source": [
    "Two accounts should be considered equal if the account numbers are the same."
   ]
  }
 ],
 "metadata": {
  "kernelspec": {
   "display_name": "Python 3 (ipykernel)",
   "language": "python",
   "name": "python3"
  },
  "language_info": {
   "codemirror_mode": {
    "name": "ipython",
    "version": 3
   },
   "file_extension": ".py",
   "mimetype": "text/x-python",
   "name": "python",
   "nbconvert_exporter": "python",
   "pygments_lexer": "ipython3",
   "version": "3.9.7"
  }
 },
 "nbformat": 4,
 "nbformat_minor": 5
}
