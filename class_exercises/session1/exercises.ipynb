{
 "cells": [
  {
   "cell_type": "markdown",
   "id": "12dbbd57-7d04-4308-9cee-58488748f838",
   "metadata": {},
   "source": [
    "### Exercise 1: Get password\n",
    "\n",
    "Write a program that gets an string input from user and if the string is equal to `password` variable it will print `welcome you are entered` otherwise it will print the password is invalid."
   ]
  },
  {
   "cell_type": "code",
   "execution_count": 2,
   "id": "16e8d303-2160-4b71-8154-6be553b3a467",
   "metadata": {},
   "outputs": [],
   "source": [
    "password = 'p@$$w0rd'"
   ]
  },
  {
   "cell_type": "markdown",
   "id": "1cd3b092-520b-4e06-9747-b13cdf807ac9",
   "metadata": {},
   "source": [
    "### Exercise 2: Age\n",
    "\n",
    "Write a program that gets the year that user was born and then prints the age of user"
   ]
  },
  {
   "cell_type": "markdown",
   "id": "7196cdd7-1f72-4e76-beb2-c8c0601eea8c",
   "metadata": {},
   "source": [
    "### Exercise 3: Celsius to Fahrenheit\n",
    "\n",
    "The fromula for coverting Celsius to Fahrenheit is as follows:\n",
    "\n",
    "$$F^\\circ = C^\\circ \\times 1.8000+ 32.00$$\n",
    "\n",
    "Write a program that gets the temperature in Celsius and outputs the corresponding temperature in Fahrenheit."
   ]
  },
  {
   "cell_type": "markdown",
   "id": "fb79ef11-570f-48c3-b336-4e6d3062dd21",
   "metadata": {},
   "source": [
    "### Exercise 4: Good Password\n",
    "\n",
    "Write a program that gets a password as input and checks the following:\n",
    "\n",
    "1. The length of password is greater than 8.\n",
    "2. The password contians at least one of the special characters `@`, `#`, `$`.\n",
    "3. The password does not contain substrings `'password'` or `'123456'`"
   ]
  },
  {
   "cell_type": "markdown",
   "id": "b1bc8616-9454-4165-9c86-39b2b9cd9026",
   "metadata": {},
   "source": [
    "### Exercise 5: Even zero sequence\n",
    "\n",
    "write a general code to set all the even indexes of the below list to zero. "
   ]
  },
  {
   "cell_type": "code",
   "execution_count": 1,
   "id": "40d0d873-e81c-483e-9410-878e00ca0077",
   "metadata": {},
   "outputs": [],
   "source": [
    "l = [1, 2, 3, 4, 5, 6, 7, 8, 9, 10, 11, 12, 13, 14, 15, 16, 17]"
   ]
  }
 ],
 "metadata": {
  "kernelspec": {
   "display_name": "Python 3 (ipykernel)",
   "language": "python",
   "name": "python3"
  },
  "language_info": {
   "codemirror_mode": {
    "name": "ipython",
    "version": 3
   },
   "file_extension": ".py",
   "mimetype": "text/x-python",
   "name": "python",
   "nbconvert_exporter": "python",
   "pygments_lexer": "ipython3",
   "version": "3.10.10"
  }
 },
 "nbformat": 4,
 "nbformat_minor": 5
}
