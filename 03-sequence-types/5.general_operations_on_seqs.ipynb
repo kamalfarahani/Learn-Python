{
 "cells": [
  {
   "cell_type": "markdown",
   "id": "7f6abe56-1042-46b4-af76-877b34d4aab8",
   "metadata": {},
   "source": [
    "## General operations on sequences\n",
    "\n",
    "In Python, sequences are a type of data structure that represents an ordered collection of elements. There are several general operations that can be performed on sequences:\n",
    "\n",
    "1. Accessing elements: You can access individual elements of a sequence using indexing. In Python, indexing starts at 0. For example, if `my_seq` is a sequence, `my_seq[0]` will return the first element of the sequence.\n",
    "\n",
    "2. Slicing: You can extract a subset of a sequence using slicing. Slicing uses the syntax `start:end:step`. For example, `my_seq[1:4]` returns a new sequence that contains elements 1, 2, and 3 of `my_seq`.\n",
    "\n",
    "3. Concatenation: You can concatenate two sequences using the `+` operator. For example, `my_seq1 + my_seq2` returns a new sequence that contains all the elements of `my_seq1` followed by all the elements of `my_seq2`.\n",
    "\n",
    "4. Repetition: You can repeat a sequence a certain number of times using the `*` operator. For example, `my_seq * 3` returns a new sequence that contains `my_seq` repeated three times.\n",
    "\n",
    "5. Length: You can determine the length of a sequence using the `len()` function. For example, `len(my_seq)` returns the number of elements in `my_seq`.\n",
    "\n",
    "6. Membership testing: You can check if an element is in a sequence using the `in` keyword. For example, `3 in my_seq` returns `True` if the value `3` is an element of `my_seq`.\n",
    "\n",
    "7. Iteration: You can iterate over the elements of a sequence using a `for` loop. For example:\n",
    "\n",
    "```python\n",
    "for element in my_seq:\n",
    "    print(element)\n",
    "```\n",
    "\n",
    "This will print each element of `my_seq` on a new line."
   ]
  },
  {
   "cell_type": "markdown",
   "id": "1731f0f8-4c9e-4f2e-8dea-fabd910f6ad2",
   "metadata": {},
   "source": [
    "### Concatennation\n",
    "\n",
    "Using `+` operator we can concatenate two seqs together."
   ]
  },
  {
   "cell_type": "code",
   "execution_count": 10,
   "id": "c2bda9f5-7488-48f7-b64f-2bd24d21f773",
   "metadata": {},
   "outputs": [
    {
     "name": "stdout",
     "output_type": "stream",
     "text": [
      "This is a text and this is rest of the text\n"
     ]
    }
   ],
   "source": [
    "text1 = 'This is a text'\n",
    "text2 = ' and this is rest of the text'\n",
    "\n",
    "text3 = text1 + text2\n",
    "\n",
    "print(text3)"
   ]
  },
  {
   "cell_type": "code",
   "execution_count": 11,
   "id": "f8070bec-2e7f-4c42-ab5d-4f90c8cddc17",
   "metadata": {},
   "outputs": [
    {
     "name": "stdout",
     "output_type": "stream",
     "text": [
      "[1, 2, 3, 4, 5, 6]\n"
     ]
    }
   ],
   "source": [
    "l1 = [1,2,3]\n",
    "l2 = [4,5,6]\n",
    "\n",
    "l3 = l1 + l2\n",
    "\n",
    "print(l3)"
   ]
  },
  {
   "cell_type": "code",
   "execution_count": 12,
   "id": "80a36930-bb03-4905-aaf6-5838c499ea89",
   "metadata": {},
   "outputs": [
    {
     "name": "stdout",
     "output_type": "stream",
     "text": [
      "(1, 2, 3, 4, 5, 6)\n"
     ]
    }
   ],
   "source": [
    "t1 = (1,2,3)\n",
    "t2 = (4,5,6)\n",
    "\n",
    "t3 = t1 + t2\n",
    "\n",
    "print(t3)"
   ]
  },
  {
   "cell_type": "markdown",
   "id": "b2b51128-6178-44ac-bc14-6c00a32965b8",
   "metadata": {},
   "source": [
    "### Repetition\n",
    "\n",
    "Using `*` operator we can repeat a seq."
   ]
  },
  {
   "cell_type": "code",
   "execution_count": 13,
   "id": "c6e5670f-9122-4c6a-be18-4aa86bbaf592",
   "metadata": {},
   "outputs": [
    {
     "name": "stdout",
     "output_type": "stream",
     "text": [
      "This is a textThis is a text\n"
     ]
    }
   ],
   "source": [
    "text1 = 'This is a text'\n",
    "text2 = text1 * 2\n",
    "\n",
    "print(text2)"
   ]
  },
  {
   "cell_type": "code",
   "execution_count": 14,
   "id": "8b112d24-c587-428d-ad68-ed143542fbeb",
   "metadata": {},
   "outputs": [
    {
     "name": "stdout",
     "output_type": "stream",
     "text": [
      "[1, 2, 3, 1, 2, 3]\n"
     ]
    }
   ],
   "source": [
    "l1 = [1,2,3]\n",
    "l2 = l1 * 2\n",
    "\n",
    "print(l2)"
   ]
  },
  {
   "cell_type": "code",
   "execution_count": 15,
   "id": "8effb5b8-8ac0-41e6-b7f7-423afef16ec0",
   "metadata": {},
   "outputs": [
    {
     "name": "stdout",
     "output_type": "stream",
     "text": [
      "(1, 2, 3, 1, 2, 3)\n"
     ]
    }
   ],
   "source": [
    "t1 = (1,2,3)\n",
    "t2 = t1 * 2\n",
    "\n",
    "print(t2)"
   ]
  },
  {
   "cell_type": "markdown",
   "id": "6ee7d2a7-8d42-4db9-82fb-648e9b58ef61",
   "metadata": {},
   "source": [
    "### Membership testing\n",
    "\n",
    "Using `in` keyword we can test the membership of an object in a seq."
   ]
  },
  {
   "cell_type": "code",
   "execution_count": 16,
   "id": "c5fe3c05-c745-4be6-acb3-9d999b47e1b0",
   "metadata": {},
   "outputs": [
    {
     "data": {
      "text/plain": [
       "False"
      ]
     },
     "execution_count": 16,
     "metadata": {},
     "output_type": "execute_result"
    }
   ],
   "source": [
    "l = [100, 2, 4]\n",
    "\n",
    "3 in l"
   ]
  },
  {
   "cell_type": "code",
   "execution_count": 17,
   "id": "d9640a8f-6e68-48f5-88ca-14074519e8cd",
   "metadata": {},
   "outputs": [
    {
     "data": {
      "text/plain": [
       "True"
      ]
     },
     "execution_count": 17,
     "metadata": {},
     "output_type": "execute_result"
    }
   ],
   "source": [
    "100 in l"
   ]
  },
  {
   "cell_type": "code",
   "execution_count": 19,
   "id": "37e3ab19-d7d0-47f9-a579-216ee225b9c6",
   "metadata": {},
   "outputs": [
    {
     "name": "stdin",
     "output_type": "stream",
     "text": [
      "Enter your number:  10\n"
     ]
    },
    {
     "name": "stdout",
     "output_type": "stream",
     "text": [
      "Your number is not in the list\n"
     ]
    }
   ],
   "source": [
    "x = int(input('Enter your number: '))\n",
    "\n",
    "if x in l:\n",
    "    print('Your number is in the list')\n",
    "else:\n",
    "    print('Your number is not in the list')"
   ]
  },
  {
   "cell_type": "code",
   "execution_count": 20,
   "id": "1e6fe024-e071-4cb1-9127-c31b20f18f13",
   "metadata": {},
   "outputs": [],
   "source": [
    "text = 'Hi my name is Alex'"
   ]
  },
  {
   "cell_type": "code",
   "execution_count": 21,
   "id": "ac1f62a2-b6d0-487f-a879-29ada5e7eea3",
   "metadata": {},
   "outputs": [
    {
     "data": {
      "text/plain": [
       "False"
      ]
     },
     "execution_count": 21,
     "metadata": {},
     "output_type": "execute_result"
    }
   ],
   "source": [
    "'John' in text"
   ]
  },
  {
   "cell_type": "code",
   "execution_count": 22,
   "id": "80601541-83e6-46ed-b70d-4fdda6060a65",
   "metadata": {},
   "outputs": [
    {
     "data": {
      "text/plain": [
       "True"
      ]
     },
     "execution_count": 22,
     "metadata": {},
     "output_type": "execute_result"
    }
   ],
   "source": [
    "'Alex' in text"
   ]
  },
  {
   "cell_type": "code",
   "execution_count": 25,
   "id": "868fac5e-9843-4677-8eea-d83d3b2916ea",
   "metadata": {},
   "outputs": [
    {
     "name": "stdin",
     "output_type": "stream",
     "text": [
      "Enter your name:  Alex\n"
     ]
    },
    {
     "name": "stdout",
     "output_type": "stream",
     "text": [
      "Hi Alex\n"
     ]
    }
   ],
   "source": [
    "name = input('Enter your name: ')\n",
    "if name in text:\n",
    "    print('Hi ' + name)\n",
    "else:\n",
    "    print('I do not know you')"
   ]
  },
  {
   "cell_type": "markdown",
   "id": "7566c2f1-364f-493a-bd44-9303115e97cf",
   "metadata": {},
   "source": [
    "### A tricky example"
   ]
  },
  {
   "cell_type": "code",
   "execution_count": 28,
   "id": "b10697d9-bc25-4d78-8525-e3630c729f0d",
   "metadata": {},
   "outputs": [
    {
     "data": {
      "text/plain": [
       "[[0, 0, 0], [0, 0, 0], [0, 0, 0]]"
      ]
     },
     "execution_count": 28,
     "metadata": {},
     "output_type": "execute_result"
    }
   ],
   "source": [
    "l = [[0,0,0]] * 3\n",
    "l"
   ]
  },
  {
   "cell_type": "code",
   "execution_count": 30,
   "id": "5bf69302-c093-4e4a-b595-a61ae8c3aa45",
   "metadata": {},
   "outputs": [
    {
     "data": {
      "text/plain": [
       "[[101, 0, 0], [101, 0, 0], [101, 0, 0]]"
      ]
     },
     "execution_count": 30,
     "metadata": {},
     "output_type": "execute_result"
    }
   ],
   "source": [
    "l[0][0] = 101\n",
    "l"
   ]
  }
 ],
 "metadata": {
  "kernelspec": {
   "display_name": "Python 3 (ipykernel)",
   "language": "python",
   "name": "python3"
  },
  "language_info": {
   "codemirror_mode": {
    "name": "ipython",
    "version": 3
   },
   "file_extension": ".py",
   "mimetype": "text/x-python",
   "name": "python",
   "nbconvert_exporter": "python",
   "pygments_lexer": "ipython3",
   "version": "3.10.10"
  }
 },
 "nbformat": 4,
 "nbformat_minor": 5
}
