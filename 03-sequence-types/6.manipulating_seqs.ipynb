{
 "cells": [
  {
   "cell_type": "markdown",
   "id": "90a1ddac-5a31-4081-85fd-ee242cc3232d",
   "metadata": {},
   "source": [
    "## Manipulating sequences\n",
    "\n",
    "Manipulating sequences in Python is a fundamental task that every programmer needs to be familiar with. In this context, manipulating a sequence refers to changing the contents of a sequence in some way. Here are some common ways to manipulate sequences in Python:\n",
    "\n",
    "1. Replacing an element: You can replace an element in a sequence by assigning a new value to its index. For example:\n",
    "\n",
    "   ```python\n",
    "   my_list = [1, 2, 3, 4]\n",
    "   my_list[2] = 5  # replace the third element with 5\n",
    "   print(my_list)  # [1, 2, 5, 4]\n",
    "   ```\n",
    "\n",
    "2. Replacing a slice: You can replace a slice of a sequence with another sequence of the same length using slice assignment. For example:\n",
    "\n",
    "   ```python\n",
    "   my_list = [1, 2, 3, 4]\n",
    "   my_list[1:3] = [5, 6]  # replace the second and third elements with 5 and 6\n",
    "   print(my_list)  # [1, 5, 6, 4]\n",
    "   ```\n",
    "\n",
    "3. Deleting an element: You can delete an element from a mutable sequence using the `del` statement. For example:\n",
    "\n",
    "   ```python\n",
    "   my_list = [1, 2, 3, 4]\n",
    "   del my_list[2]  # delete the third element\n",
    "   print(my_list)  # [1, 2, 4]\n",
    "   ```\n",
    "\n",
    "4. Appending an element: You can add an element to the end of a sequence using the `append()` method for lists:\n",
    "\n",
    "   ```python\n",
    "   my_list = [1, 2, 3]\n",
    "   my_list.append(4)  # add 4 to the end of the list\n",
    "   print(my_list)  # [1, 2, 3, 4]\n",
    "   ```\n",
    "\n",
    "5. Inserting an element: You can insert an element into a mutable sequence at a specific index using the `insert()` method.:\n",
    "\n",
    "   ```python\n",
    "   my_list = [1, 2, 3]\n",
    "   my_list.insert(1, 4)  # insert 4 at index 1\n",
    "   print(my_list)  # [1, 4, 2, 3]\n",
    "   ```\n",
    "\n",
    "By mastering these techniques, you can confidently manipulate sequences in Python to achieve the desired results in your code."
   ]
  },
  {
   "cell_type": "markdown",
   "id": "ca8f83c1-7f34-4d6e-8d27-b5d79cf05ec5",
   "metadata": {},
   "source": [
    "### Replacing\n",
    "\n",
    "If the sequence is mutable we can replace an element just by assigning new item."
   ]
  },
  {
   "cell_type": "code",
   "execution_count": 1,
   "id": "78f6bdd3-7769-4618-91f1-967077bc66ce",
   "metadata": {},
   "outputs": [
    {
     "name": "stdout",
     "output_type": "stream",
     "text": [
      "[1, 2, 5, 4]\n"
     ]
    }
   ],
   "source": [
    "my_list = [1, 2, 3, 4]\n",
    "my_list[2] = 5 \n",
    "print(my_list)"
   ]
  },
  {
   "cell_type": "markdown",
   "id": "a60a4e66-8862-4eb8-b5ad-cc2b48d31f5c",
   "metadata": {},
   "source": [
    "### Replacing a slice\n",
    "\n",
    "If the sequence is mutable we can replace a slice of a sequence by assigning a new sequence to the intended slice of our sequence."
   ]
  },
  {
   "cell_type": "code",
   "execution_count": 8,
   "id": "22cddedc-44fb-48f4-a0df-2a282885eb10",
   "metadata": {},
   "outputs": [
    {
     "name": "stdout",
     "output_type": "stream",
     "text": [
      "[1, 5, 6, 4]\n"
     ]
    }
   ],
   "source": [
    "my_list_1 = [1, 2, 3, 4]\n",
    "my_list_1[1:3] = [5, 6]\n",
    "print(my_list_1)"
   ]
  },
  {
   "cell_type": "code",
   "execution_count": 9,
   "id": "71927351-8dd8-4536-808a-89d40b48c6e5",
   "metadata": {},
   "outputs": [
    {
     "name": "stdout",
     "output_type": "stream",
     "text": [
      "[1, 2, 100, 200, 300, 400, 6]\n"
     ]
    }
   ],
   "source": [
    "my_list_2 = [1, 2, 3, 4, 5, 6]\n",
    "my_list_2[2:5] = [100, 200, 300, 400]\n",
    "print(my_list_2)"
   ]
  },
  {
   "cell_type": "code",
   "execution_count": 10,
   "id": "8be4209a-61e2-487e-a957-0d8e2263095f",
   "metadata": {},
   "outputs": [
    {
     "data": {
      "text/plain": [
       "[1, 2, 'S', 'a', 'l', 'a', 'm', 6]"
      ]
     },
     "execution_count": 10,
     "metadata": {},
     "output_type": "execute_result"
    }
   ],
   "source": [
    "my_list_3 = [1, 2, 3, 4, 5, 6]\n",
    "my_list_3[2:5] = 'Salam'\n",
    "my_list_3"
   ]
  },
  {
   "cell_type": "code",
   "execution_count": 14,
   "id": "c490d7b2-74de-47b9-8443-9ec110a29c79",
   "metadata": {},
   "outputs": [
    {
     "data": {
      "text/plain": [
       "[10, 2, 20, 4, 30, 6, 40, 8, 50, 10]"
      ]
     },
     "execution_count": 14,
     "metadata": {},
     "output_type": "execute_result"
    }
   ],
   "source": [
    "my_list_4 = [1, 2, 3, 4, 5, 6, 7, 8, 9, 10]\n",
    "my_list_4[::2] = 10, 20, 30, 40, 50\n",
    "my_list_4"
   ]
  },
  {
   "cell_type": "markdown",
   "id": "abad2c69-0b2b-4e85-8c75-c64a45781f82",
   "metadata": {},
   "source": [
    "### Deleting an element\n",
    "\n",
    "Using `del` keyword we can delete an element from our mutable sequence."
   ]
  },
  {
   "cell_type": "code",
   "execution_count": 15,
   "id": "aed45586-0c1f-4696-bfcd-34ab8e06fe3d",
   "metadata": {},
   "outputs": [
    {
     "name": "stdout",
     "output_type": "stream",
     "text": [
      "[1, 2, 4]\n"
     ]
    }
   ],
   "source": [
    "my_list = [1, 2, 3, 4]\n",
    "del my_list[2]\n",
    "print(my_list)"
   ]
  },
  {
   "cell_type": "markdown",
   "id": "5e4f47b2-f2da-41a1-8248-010bee5aef6e",
   "metadata": {},
   "source": [
    "### Inserting an element\n",
    "\n",
    "You can insert an element into a mutable sequence at a specific index using the `insert()` method."
   ]
  },
  {
   "cell_type": "code",
   "execution_count": 16,
   "id": "99b67106-4ef7-42ad-8771-5b74fe8f6808",
   "metadata": {},
   "outputs": [
    {
     "name": "stdout",
     "output_type": "stream",
     "text": [
      "[1, 4, 2, 3]\n"
     ]
    }
   ],
   "source": [
    "my_list = [1, 2, 3]\n",
    "my_list.insert(1, 4)\n",
    "print(my_list)"
   ]
  },
  {
   "cell_type": "markdown",
   "id": "2c865ba6-519d-40a9-9130-21449482e4e9",
   "metadata": {},
   "source": [
    "### Extending a list\n",
    "\n",
    "The `extend()` method is a built-in method of the `list` class in Python used to add multiple elements to the end of a list. It takes an iterable object such as a list, tuple, or string as an argument and appends each element of that iterable to the end of the original list. The method is useful when you have multiple elements to add to a list, and it is more efficient than using repeated calls to the `append()` method. The `extend()` method is particularly versatile since it can take any iterable object, meaning that you can add elements from lists, tuples, strings, and more."
   ]
  },
  {
   "cell_type": "code",
   "execution_count": 17,
   "id": "3d956fc0-e7ed-4bdc-85d6-76f972e82c73",
   "metadata": {},
   "outputs": [
    {
     "name": "stdout",
     "output_type": "stream",
     "text": [
      "[1, 2, 3, 4, 5, 6]\n"
     ]
    }
   ],
   "source": [
    "my_list = [1, 2, 3]\n",
    "my_list.extend([4, 5, 6])\n",
    "print(my_list)"
   ]
  },
  {
   "cell_type": "code",
   "execution_count": 18,
   "id": "d4719818-05fa-4289-9436-c95f9a73e2d8",
   "metadata": {},
   "outputs": [
    {
     "data": {
      "text/plain": [
       "[1, 2, 3, 'S', 'a', 'l', 'a', 'm']"
      ]
     },
     "execution_count": 18,
     "metadata": {},
     "output_type": "execute_result"
    }
   ],
   "source": [
    "my_list = [1, 2, 3]\n",
    "my_list.extend('Salam')\n",
    "my_list"
   ]
  }
 ],
 "metadata": {
  "kernelspec": {
   "display_name": "Python 3 (ipykernel)",
   "language": "python",
   "name": "python3"
  },
  "language_info": {
   "codemirror_mode": {
    "name": "ipython",
    "version": 3
   },
   "file_extension": ".py",
   "mimetype": "text/x-python",
   "name": "python",
   "nbconvert_exporter": "python",
   "pygments_lexer": "ipython3",
   "version": "3.10.10"
  }
 },
 "nbformat": 4,
 "nbformat_minor": 5
}
