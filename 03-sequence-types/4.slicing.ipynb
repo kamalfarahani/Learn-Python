{
 "cells": [
  {
   "cell_type": "markdown",
   "id": "d7aebe0d-1321-4d48-9f43-98f43cee2a5b",
   "metadata": {},
   "source": [
    "## Slicing\n",
    "\n",
    "Slicing in Python is the process of extracting a specific subset of elements from a sequence, such as a string, list, or tuple. Slicing allows you to extract a portion of the sequence by specifying a range of indices.\n",
    "\n",
    "The syntax for slicing a sequence in Python is `sequence[start:end:step]`, where `start` **is the index of the first element to include**, `end` **is the index of the first element to exclude**, and `step` **is the increment between the elements to include**. If any of these values is omitted, it defaults to a specific value.\n",
    "\n",
    "For example, suppose you have a string `my_string = \"Hello, World!\"`. You can slice this string to extract the substring `\"Hello\"` using the following code:\n",
    "\n",
    "```python\n",
    "my_string = \"Hello, World!\"\n",
    "substring = my_string[0:5]  # start at index 0, end at index 5 (not inclusive)\n",
    "print(substring)  # \"Hello\"\n",
    "```\n",
    "\n",
    "You can also omit the `start` or `end` value to specify the beginning or end of the sequence, respectively. For example:\n",
    "\n",
    "```python\n",
    "my_string = \"Hello, World!\"\n",
    "substring1 = my_string[:5]  # start at the beginning, end at index 5 (not inclusive)\n",
    "substring2 = my_string[7:]  # start at index 7, end at the end of the string\n",
    "print(substring1)  # \"Hello\"\n",
    "print(substring2)  # \"World!\"\n",
    "```\n",
    "\n",
    "Finally, you can specify a `step` value to extract every `step`th element from the sequence. For example:\n",
    "\n",
    "```python\n",
    "my_list = [0, 1, 2, 3, 4, 5, 6, 7, 8, 9]\n",
    "subset = my_list[1:9:2]  # start at index 1, end at index 9 (not inclusive), step by 2\n",
    "print(subset)  # [1, 3, 5, 7]\n",
    "```\n",
    "\n",
    "In this example, the resulting subset contains every other element from the original list, starting with the second element."
   ]
  },
  {
   "cell_type": "markdown",
   "id": "770306dd-c92c-4f2c-abb2-ea53565c1909",
   "metadata": {},
   "source": [
    "### Examples"
   ]
  },
  {
   "cell_type": "code",
   "execution_count": 2,
   "id": "f0a5b4d0-cefd-4bc2-842f-914c33e02962",
   "metadata": {},
   "outputs": [
    {
     "data": {
      "text/plain": [
       "'Hello'"
      ]
     },
     "execution_count": 2,
     "metadata": {},
     "output_type": "execute_result"
    }
   ],
   "source": [
    "my_string = \"Hello, World!\"\n",
    "substring = my_string[0:5]\n",
    "substring"
   ]
  },
  {
   "cell_type": "code",
   "execution_count": 3,
   "id": "a94415fe-44ed-4d25-aae8-a084c2dd6277",
   "metadata": {},
   "outputs": [
    {
     "data": {
      "text/plain": [
       "'Hlo'"
      ]
     },
     "execution_count": 3,
     "metadata": {},
     "output_type": "execute_result"
    }
   ],
   "source": [
    "my_string[0:5:2]"
   ]
  },
  {
   "cell_type": "code",
   "execution_count": 6,
   "id": "919af1b2-a2ea-4769-a8e2-3d37264349de",
   "metadata": {},
   "outputs": [
    {
     "data": {
      "text/plain": [
       "'Hello'"
      ]
     },
     "execution_count": 6,
     "metadata": {},
     "output_type": "execute_result"
    }
   ],
   "source": [
    "my_string[:5]"
   ]
  },
  {
   "cell_type": "code",
   "execution_count": 7,
   "id": "c5509533-2dab-4fcb-8945-945b08a963b0",
   "metadata": {},
   "outputs": [
    {
     "data": {
      "text/plain": [
       "', World!'"
      ]
     },
     "execution_count": 7,
     "metadata": {},
     "output_type": "execute_result"
    }
   ],
   "source": [
    "my_string[5:]"
   ]
  },
  {
   "cell_type": "code",
   "execution_count": 17,
   "id": "0d8a9d4f-9757-41df-8575-b5624b8b5702",
   "metadata": {},
   "outputs": [
    {
     "data": {
      "text/plain": [
       "'Hello, World!'"
      ]
     },
     "execution_count": 17,
     "metadata": {},
     "output_type": "execute_result"
    }
   ],
   "source": [
    "copy_str = my_string[:]\n",
    "copy_str"
   ]
  },
  {
   "cell_type": "markdown",
   "id": "1b4751c0-019c-4afa-a0c5-7281bbb29b74",
   "metadata": {},
   "source": [
    "**You can also use negative steps**"
   ]
  },
  {
   "cell_type": "code",
   "execution_count": 13,
   "id": "4fb3dda4-adf9-4f03-b247-acee328c5493",
   "metadata": {},
   "outputs": [
    {
     "data": {
      "text/plain": [
       "',olle'"
      ]
     },
     "execution_count": 13,
     "metadata": {},
     "output_type": "execute_result"
    }
   ],
   "source": [
    "my_string[5:0:-1]"
   ]
  },
  {
   "cell_type": "code",
   "execution_count": 14,
   "id": "7016130c-a0f5-4493-94d2-417ab56a1552",
   "metadata": {},
   "outputs": [
    {
     "data": {
      "text/plain": [
       "'!dlroW ,olleH'"
      ]
     },
     "execution_count": 14,
     "metadata": {},
     "output_type": "execute_result"
    }
   ],
   "source": [
    "my_string[::-1]"
   ]
  },
  {
   "cell_type": "code",
   "execution_count": 23,
   "id": "d448f4d1-5dc2-4837-ad82-42d302457fd3",
   "metadata": {},
   "outputs": [
    {
     "data": {
      "text/plain": [
       "[1, 2]"
      ]
     },
     "execution_count": 23,
     "metadata": {},
     "output_type": "execute_result"
    }
   ],
   "source": [
    "l1 = [1,2,3,4,5]\n",
    "l1[0:2]"
   ]
  },
  {
   "cell_type": "code",
   "execution_count": 24,
   "id": "23a50308-ab0f-4068-8f0f-fdad62421a47",
   "metadata": {},
   "outputs": [
    {
     "data": {
      "text/plain": [
       "[1, 3, 5]"
      ]
     },
     "execution_count": 24,
     "metadata": {},
     "output_type": "execute_result"
    }
   ],
   "source": [
    "l2 = l1[::2]\n",
    "l2"
   ]
  },
  {
   "cell_type": "code",
   "execution_count": 25,
   "id": "92e8a1a8-ada8-475b-956c-5c595e697784",
   "metadata": {},
   "outputs": [],
   "source": [
    "l2[0] = 10"
   ]
  },
  {
   "cell_type": "code",
   "execution_count": 26,
   "id": "dc645fff-1220-42ed-881e-7ee6fa74107a",
   "metadata": {},
   "outputs": [
    {
     "data": {
      "text/plain": [
       "[10, 3, 5]"
      ]
     },
     "execution_count": 26,
     "metadata": {},
     "output_type": "execute_result"
    }
   ],
   "source": [
    "l2"
   ]
  },
  {
   "cell_type": "code",
   "execution_count": 27,
   "id": "2637a06b-3fdd-4d60-aa5f-52634b8a6ab6",
   "metadata": {},
   "outputs": [
    {
     "data": {
      "text/plain": [
       "[1, 2, 3, 4, 5]"
      ]
     },
     "execution_count": 27,
     "metadata": {},
     "output_type": "execute_result"
    }
   ],
   "source": [
    "l1"
   ]
  }
 ],
 "metadata": {
  "kernelspec": {
   "display_name": "Python 3 (ipykernel)",
   "language": "python",
   "name": "python3"
  },
  "language_info": {
   "codemirror_mode": {
    "name": "ipython",
    "version": 3
   },
   "file_extension": ".py",
   "mimetype": "text/x-python",
   "name": "python",
   "nbconvert_exporter": "python",
   "pygments_lexer": "ipython3",
   "version": "3.10.10"
  }
 },
 "nbformat": 4,
 "nbformat_minor": 5
}
