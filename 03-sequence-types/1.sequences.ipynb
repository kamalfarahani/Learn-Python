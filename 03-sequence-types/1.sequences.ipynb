{
 "cells": [
  {
   "cell_type": "markdown",
   "id": "8a6151ef-53d6-419a-a842-e2e388250cb5",
   "metadata": {
    "jp-MarkdownHeadingCollapsed": true
   },
   "source": [
    "## Sequences\n",
    "\n",
    "* Sequences are **ordered collections** of objects\n",
    "* There is a `first, scond,..., last` element\n",
    "* For each element there is a next one\n",
    "* We can index those elements using integers\n",
    "* In Python numbering starts at 0\n",
    "* Like anything in Python, sequences are objects"
   ]
  },
  {
   "cell_type": "markdown",
   "id": "38d39e6d-9a5f-47fb-8252-ec2a29007bd6",
   "metadata": {
    "jp-MarkdownHeadingCollapsed": true
   },
   "source": [
    "## Homogeneous vs Heterogeneous Sequences\n",
    "\n",
    "certain sequence types **can only** contain objects that are all the same type they are called **homogeneous** sequence types, other types of sequences **may** contain objects that are of diffrent type, they are called **heterogeneous** sequence types."
   ]
  },
  {
   "cell_type": "markdown",
   "id": "27bb9b63-9b51-45e8-8a2e-260066c97a8a",
   "metadata": {},
   "source": [
    "## Lists\n",
    "\n",
    "Lists are a very useful sequence type, they are equivalent of **arrays** in other languages.\n",
    "\n",
    "Lists are a **heterogeneous mutable** type! \n",
    "![Python list](./pics/python_list.png)\n",
    "\n",
    "* List is a container type\n",
    "* List is a sequence type\n",
    "* Lists can be heterogeneous\n",
    "* Lists are mutable\n",
    "* Lists have **unbounded** growth\n",
    "* Lists are objects $\\to$ they have state $\\to$ their state is their elements\n",
    "* Lists contain elements\n",
    "* Lists are ordered sequentially\n",
    "* Elements in a list are indexed\n",
    "* You can add, replace or remove elements to a list\n",
    "* You can add as many elements as you want"
   ]
  },
  {
   "cell_type": "markdown",
   "id": "c45cce69-7170-4c5d-8e74-b7b82ab0238a",
   "metadata": {},
   "source": [
    "### Defining a list"
   ]
  },
  {
   "cell_type": "code",
   "execution_count": 21,
   "id": "f951266d-56a9-4d7e-a3fc-e565441012f6",
   "metadata": {},
   "outputs": [
    {
     "data": {
      "text/plain": [
       "[10, 2, 8, 9]"
      ]
     },
     "execution_count": 21,
     "metadata": {},
     "output_type": "execute_result"
    }
   ],
   "source": [
    "l = [10, 2, 8, 9]\n",
    "l"
   ]
  },
  {
   "cell_type": "code",
   "execution_count": 36,
   "id": "a3e6ce5d-06fb-4788-a94c-843c2cc4964d",
   "metadata": {},
   "outputs": [
    {
     "data": {
      "text/plain": [
       "list"
      ]
     },
     "execution_count": 36,
     "metadata": {},
     "output_type": "execute_result"
    }
   ],
   "source": [
    "type(l)"
   ]
  },
  {
   "cell_type": "markdown",
   "id": "fe176af0-f124-40e8-9fbb-2cd207c578d9",
   "metadata": {},
   "source": [
    "### Accessing elements"
   ]
  },
  {
   "cell_type": "code",
   "execution_count": 22,
   "id": "a5193d8a-0d91-4365-b314-a4e1a37aca11",
   "metadata": {},
   "outputs": [
    {
     "data": {
      "text/plain": [
       "10"
      ]
     },
     "execution_count": 22,
     "metadata": {},
     "output_type": "execute_result"
    }
   ],
   "source": [
    "l[0]"
   ]
  },
  {
   "cell_type": "code",
   "execution_count": 23,
   "id": "8bc22a36-db8b-4fc5-a33f-fb3b381d5c50",
   "metadata": {},
   "outputs": [
    {
     "data": {
      "text/plain": [
       "8"
      ]
     },
     "execution_count": 23,
     "metadata": {},
     "output_type": "execute_result"
    }
   ],
   "source": [
    "l[2]"
   ]
  },
  {
   "cell_type": "code",
   "execution_count": 24,
   "id": "4cc4d4c3-35f0-475c-92c5-04f9f836d0b7",
   "metadata": {},
   "outputs": [
    {
     "ename": "IndexError",
     "evalue": "list index out of range",
     "output_type": "error",
     "traceback": [
      "\u001b[0;31m---------------------------------------------------------------------------\u001b[0m",
      "\u001b[0;31mIndexError\u001b[0m                                Traceback (most recent call last)",
      "Cell \u001b[0;32mIn[24], line 1\u001b[0m\n\u001b[0;32m----> 1\u001b[0m \u001b[43ml\u001b[49m\u001b[43m[\u001b[49m\u001b[38;5;241;43m100\u001b[39;49m\u001b[43m]\u001b[49m\n",
      "\u001b[0;31mIndexError\u001b[0m: list index out of range"
     ]
    }
   ],
   "source": [
    "l[100]"
   ]
  },
  {
   "cell_type": "markdown",
   "id": "aa633327-fc66-46c4-9626-ae687e52830a",
   "metadata": {},
   "source": [
    "### Getting length of a list\n",
    "\n",
    "You can use built-in `len` function to get the length of a list. "
   ]
  },
  {
   "cell_type": "code",
   "execution_count": 28,
   "id": "bf6f07dd-de27-42fc-b2d9-313e95ab3291",
   "metadata": {},
   "outputs": [
    {
     "data": {
      "text/plain": [
       "4"
      ]
     },
     "execution_count": 28,
     "metadata": {},
     "output_type": "execute_result"
    }
   ],
   "source": [
    "len(l)"
   ]
  },
  {
   "cell_type": "markdown",
   "id": "0500b5b2-e5f2-4b2e-ba19-bde4917fd5bc",
   "metadata": {},
   "source": [
    "### Replacing an element\n",
    "\n",
    "Note that this will cause direct **mutation** on the list object"
   ]
  },
  {
   "cell_type": "code",
   "execution_count": 29,
   "id": "a32951bd-e743-42af-bb5d-7455a5a2f6c1",
   "metadata": {},
   "outputs": [
    {
     "data": {
      "text/plain": [
       "[1010, 2, 8, 9]"
      ]
     },
     "execution_count": 29,
     "metadata": {},
     "output_type": "execute_result"
    }
   ],
   "source": [
    "l[0] = 1010\n",
    "l"
   ]
  },
  {
   "cell_type": "markdown",
   "id": "10baf426-69cf-49ff-877e-f8eef6f0b87e",
   "metadata": {},
   "source": [
    "### Add elements\n",
    "\n",
    "**You can add items to a list using `append` method**"
   ]
  },
  {
   "cell_type": "code",
   "execution_count": 30,
   "id": "0d2db542-3ca1-44d2-9362-e4822e404146",
   "metadata": {},
   "outputs": [
    {
     "data": {
      "text/plain": [
       "[1010, 2, 8, 9, 900]"
      ]
     },
     "execution_count": 30,
     "metadata": {},
     "output_type": "execute_result"
    }
   ],
   "source": [
    "l.append(900)\n",
    "l"
   ]
  },
  {
   "cell_type": "code",
   "execution_count": 31,
   "id": "42ad672b-7459-4b61-b4b2-ac34b0aa367b",
   "metadata": {},
   "outputs": [
    {
     "data": {
      "text/plain": [
       "[1010, 2, 8, 9, 900]"
      ]
     },
     "execution_count": 31,
     "metadata": {},
     "output_type": "execute_result"
    }
   ],
   "source": [
    "l2 = l\n",
    "l2"
   ]
  },
  {
   "cell_type": "code",
   "execution_count": 32,
   "id": "b00072bc-17fa-4efd-b6fc-2501556679f3",
   "metadata": {},
   "outputs": [
    {
     "data": {
      "text/plain": [
       "[1010, 2, 8, 9, 900, 801]"
      ]
     },
     "execution_count": 32,
     "metadata": {},
     "output_type": "execute_result"
    }
   ],
   "source": [
    "l.append(801)\n",
    "l"
   ]
  },
  {
   "cell_type": "code",
   "execution_count": 33,
   "id": "11b6057f-5ddc-4fd1-b241-9e469372fd38",
   "metadata": {},
   "outputs": [
    {
     "data": {
      "text/plain": [
       "[1010, 2, 8, 9, 900, 801]"
      ]
     },
     "execution_count": 33,
     "metadata": {},
     "output_type": "execute_result"
    }
   ],
   "source": [
    "l2"
   ]
  },
  {
   "cell_type": "markdown",
   "id": "159c7d2f-afef-4116-863c-9beeebecccf2",
   "metadata": {},
   "source": [
    "### Lists can be heterogeneous"
   ]
  },
  {
   "cell_type": "code",
   "execution_count": 35,
   "id": "e54a3238-d185-462b-b38d-706b7c567568",
   "metadata": {},
   "outputs": [
    {
     "data": {
      "text/plain": [
       "[1010, 2, 8, 9, 900, 801, True, True]"
      ]
     },
     "execution_count": 35,
     "metadata": {},
     "output_type": "execute_result"
    }
   ],
   "source": [
    "l.append(True)\n",
    "l"
   ]
  },
  {
   "cell_type": "markdown",
   "id": "2b018433-d2a6-46ce-80bb-87ea43fc8b67",
   "metadata": {},
   "source": [
    "### Negative Indexing\n",
    "\n",
    "Python also supports nagative indexing, it can be best explained by an example."
   ]
  },
  {
   "cell_type": "code",
   "execution_count": 41,
   "id": "89142ad4-6a62-4c5b-b316-a29ee6e27d62",
   "metadata": {},
   "outputs": [
    {
     "data": {
      "text/plain": [
       "30"
      ]
     },
     "execution_count": 41,
     "metadata": {},
     "output_type": "execute_result"
    }
   ],
   "source": [
    "l = [10, 20 , 30]\n",
    "l[-1]"
   ]
  },
  {
   "cell_type": "code",
   "execution_count": 42,
   "id": "19a089d7-6a6f-47f4-81f2-6203a4484442",
   "metadata": {},
   "outputs": [
    {
     "data": {
      "text/plain": [
       "20"
      ]
     },
     "execution_count": 42,
     "metadata": {},
     "output_type": "execute_result"
    }
   ],
   "source": [
    "l[-2]"
   ]
  },
  {
   "cell_type": "markdown",
   "id": "ef552a9c-fd59-4d9e-a4f2-bd29394ba1a5",
   "metadata": {},
   "source": [
    "### Nested lists"
   ]
  },
  {
   "cell_type": "code",
   "execution_count": 43,
   "id": "7a833992-d7e9-434d-bbaa-5d92bcfe39a0",
   "metadata": {},
   "outputs": [
    {
     "data": {
      "text/plain": [
       "[[1, 2, 3], [4, 5, 6]]"
      ]
     },
     "execution_count": 43,
     "metadata": {},
     "output_type": "execute_result"
    }
   ],
   "source": [
    "l = [[1,2,3], [4,5,6]]\n",
    "l"
   ]
  },
  {
   "cell_type": "code",
   "execution_count": 44,
   "id": "42b6bedb-34be-4900-9438-9ff09010f63c",
   "metadata": {},
   "outputs": [
    {
     "data": {
      "text/plain": [
       "2"
      ]
     },
     "execution_count": 44,
     "metadata": {},
     "output_type": "execute_result"
    }
   ],
   "source": [
    "l[0][1]"
   ]
  }
 ],
 "metadata": {
  "kernelspec": {
   "display_name": "Python 3 (ipykernel)",
   "language": "python",
   "name": "python3"
  },
  "language_info": {
   "codemirror_mode": {
    "name": "ipython",
    "version": 3
   },
   "file_extension": ".py",
   "mimetype": "text/x-python",
   "name": "python",
   "nbconvert_exporter": "python",
   "pygments_lexer": "ipython3",
   "version": "3.10.10"
  }
 },
 "nbformat": 4,
 "nbformat_minor": 5
}
