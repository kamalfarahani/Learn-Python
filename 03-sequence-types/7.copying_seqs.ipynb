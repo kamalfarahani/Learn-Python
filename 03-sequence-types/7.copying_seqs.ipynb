{
 "cells": [
  {
   "cell_type": "markdown",
   "id": "32767529-7c57-4291-a75b-16ac53f496a9",
   "metadata": {},
   "source": [
    "## Shallow vs Deep Copy\n",
    "\n",
    "In Python, a copy of an object can be created using either shallow copy or deep copy. The difference lies in how the new object is constructed and whether it is a new object or a reference to an existing object.\n",
    "\n",
    "A shallow copy creates a new object with a new memory address, but the contents of the object are references to the same memory locations as the original object. In other words, the new object is a shallow copy of the original object, meaning that any changes made to the original object will also be reflected in the copied object.\n",
    "\n",
    "A deep copy, on the other hand, creates a new object with a new memory address and copies all the contents of the original object into the new one. In other words, the new object is an independent copy of the original object, and any changes made to the original object will not affect the copied object.\n",
    "\n",
    "When copying a sequence object like a list or tuple, there are two types of copy you can make: shallow copy and deep copy.\n",
    "\n",
    "A shallow copy creates a new sequence object that contains references to the same elements as the original sequence. In other words, the new sequence is a reference to the original sequence and any changes made to the elements of the original sequence will be reflected in the new sequence. To make a shallow copy of a sequence, you can use the slicing operator `[:]` or the `copy()` method of the sequence object:\n",
    "\n",
    "```python\n",
    "original_list = [1, 2, [3, 4]]\n",
    "shallow_copy = original_list[:]  # or shallow_copy = original_list.copy()\n",
    "\n",
    "# Change the nested list in the original list\n",
    "original_list[2][0] = 5\n",
    "\n",
    "# The change is reflected in the shallow copy\n",
    "print(shallow_copy)  # [1, 2, [5, 4]]\n",
    "```\n",
    "\n",
    "In this example, `shallow_copy` is a new list that contains the same elements as `original_list`, including the nested list. However, the nested list is a reference to the same object in memory as the nested list in the original list. Therefore, when we change an element of the nested list in the original list, the change is reflected in the nested list of the shallow copy.\n",
    "\n",
    "A deep copy, on the other hand, creates a new sequence object that contains new copies of the elements in the original sequence. In other words, the new sequence is a completely independent copy of the original sequence, and any changes made to the original sequence will not be reflected in the new sequence. To make a deep copy of a sequence, you can use the `deepcopy()` method of the `copy` module:\n",
    "\n",
    "```python\n",
    "import copy\n",
    "\n",
    "original_list = [1, 2, [3, 4]]\n",
    "deep_copy = copy.deepcopy(original_list)\n",
    "\n",
    "# Change the nested list in the original list\n",
    "original_list[2][0] = 5\n",
    "\n",
    "# The deep copy is not affected by the change\n",
    "print(deep_copy)  # [1, 2, [3, 4]]\n",
    "```\n",
    "\n",
    "In this example, `deep_copy` is a new list that contains new copies of all elements in `original_list`. Therefore, when we change an element of the nested list in the original list, the deep copy remains unchanged.\n",
    "\n",
    "In a shallow copy of a sequence, a new sequence object is created, but the new object contains references to the same elements as the original sequence. Therefore, any modifications made to the elements of the new sequence will be reflected in the original sequence and vice versa.\n",
    "\n",
    "However, when an object is added, removed, or replaced in a shallow copy sequence, a new object is created in memory to hold that new object. Therefore, the new object is not a reference to the original object, and any modifications made to the new object will not be reflected in the original sequence.\n",
    "\n",
    "<img src=\"pics/shallow_copy.jpg\" alt=\"image\" width=\"50%\" height=\"50%\">"
   ]
  },
  {
   "cell_type": "markdown",
   "id": "116fe438-6ae1-4b70-a4b5-21a480821b0c",
   "metadata": {},
   "source": [
    "### Creating a Shallow copy\n",
    "\n",
    "you can make a shallow copy of a list using the slicing operator `[:]` or the `copy()` method of the list object."
   ]
  },
  {
   "cell_type": "code",
   "execution_count": 7,
   "id": "94e132a8-eb79-4f04-aea5-f2e791d877c2",
   "metadata": {},
   "outputs": [
    {
     "name": "stdout",
     "output_type": "stream",
     "text": [
      "[1, 2, 3, [6, 5]]\n",
      "[1, 2, 3, [6, 5]]\n"
     ]
    }
   ],
   "source": [
    "original_list = [1, 2, 3, [4, 5]]\n",
    "shallow_copy_1 = original_list[:]\n",
    "shallow_copy_2 = original_list.copy()\n",
    "\n",
    "original_list[3][0] = 6\n",
    "\n",
    "print(shallow_copy_1)\n",
    "print(shallow_copy_2)"
   ]
  },
  {
   "cell_type": "markdown",
   "id": "9cdb44ef-99c4-47c2-9b5a-95f11b4cd7c2",
   "metadata": {},
   "source": [
    "**Adding or removing of replacing in one list does not affect others.**"
   ]
  },
  {
   "cell_type": "code",
   "execution_count": 8,
   "id": "ee6d872b-e831-4a30-8b5d-8787346c0dad",
   "metadata": {},
   "outputs": [
    {
     "name": "stdout",
     "output_type": "stream",
     "text": [
      "Shalow 1: [1, 2, 3, [6, 5], 'Salam']\n",
      "Shallow 2: [1, 2, 3, [6, 5]]\n",
      "Original list: [1, 2, 3, [6, 5]]\n"
     ]
    }
   ],
   "source": [
    "shallow_copy_1.append('Salam')\n",
    "\n",
    "print('Shalow 1:', shallow_copy_1)\n",
    "print('Shallow 2:', shallow_copy_2)\n",
    "print('Original list:', original_list)"
   ]
  },
  {
   "cell_type": "code",
   "execution_count": 10,
   "id": "f9076bbd-0c8e-46f4-b704-9cc9d71cc630",
   "metadata": {},
   "outputs": [
    {
     "name": "stdout",
     "output_type": "stream",
     "text": [
      "Shalow 1: [1, 2, 3, [6, 5], 'Salam']\n",
      "Shallow 2: [1, 2, 3, [6, 5]]\n",
      "Original list: [True, 2, 3, [6, 5]]\n"
     ]
    }
   ],
   "source": [
    "original_list[0] = True\n",
    "\n",
    "\n",
    "print('Shalow 1:', shallow_copy_1)\n",
    "print('Shallow 2:', shallow_copy_2)\n",
    "print('Original list:', original_list)"
   ]
  },
  {
   "cell_type": "markdown",
   "id": "f4a0437c-035a-4cc2-87bd-d1460a4b00b1",
   "metadata": {},
   "source": [
    "### Creating a deep copy\n",
    "\n",
    "You should import copy library from standard library."
   ]
  },
  {
   "cell_type": "code",
   "execution_count": 13,
   "id": "13154f42-86ca-4a67-8119-8db2b0bc92f5",
   "metadata": {},
   "outputs": [
    {
     "name": "stdout",
     "output_type": "stream",
     "text": [
      "Deep copy:  [1, 2, [3, 4]]\n",
      "Original list:  [1, 2, [5, 4]]\n"
     ]
    }
   ],
   "source": [
    "import copy\n",
    "\n",
    "original_list = [1, 2, [3, 4]]\n",
    "deep_copy = copy.deepcopy(original_list)\n",
    "original_list[2][0] = 5\n",
    "\n",
    "print('Deep copy: ', deep_copy)\n",
    "print('Original list: ', original_list)"
   ]
  },
  {
   "cell_type": "markdown",
   "id": "d47ff27e-3931-4e44-921e-df26fedda920",
   "metadata": {},
   "source": [
    "### Why not always use deep copy\n",
    "\n",
    "While deep copy can be useful in some situations, it is not always necessary or even desirable to use it in Python. Here are some reasons why you might not always want to use deep copy:\n",
    "\n",
    "1. Performance: Deep copy can be slower and more memory-intensive than shallow copy, especially for large objects with many nested references. Shallow copy provides a faster and more memory-efficient way to make a copy of an object.\n",
    "\n",
    "2. Unnecessary complexity: In many cases, a shallow copy is sufficient for creating a new object that can be modified without affecting the original object. Deep copy can add unnecessary complexity to the code, making it harder to understand and maintain.\n",
    "\n",
    "3. References to mutable objects: Even with a deep copy, if an object contains references to other mutable objects, changes to those objects will still be reflected in the copied object. In these cases, a deep copy may not be sufficient to create a completely independent copy of the original object.\n",
    "\n",
    "4. Object identity: In some cases, it may be important to preserve the identity of objects, even if they are mutable. For example, if two objects in a program need to refer to the same data structure, creating a deep copy of the structure would create two distinct objects with different identities, which may not be desirable.\n",
    "\n",
    "In summary, while deep copy can be useful for creating completely independent copies of objects, it can also be slower, more memory-intensive, and add unnecessary complexity to the code. In many cases, shallow copy is sufficient for creating new objects that can be modified without affecting the original object."
   ]
  }
 ],
 "metadata": {
  "kernelspec": {
   "display_name": "Python 3 (ipykernel)",
   "language": "python",
   "name": "python3"
  },
  "language_info": {
   "codemirror_mode": {
    "name": "ipython",
    "version": 3
   },
   "file_extension": ".py",
   "mimetype": "text/x-python",
   "name": "python",
   "nbconvert_exporter": "python",
   "pygments_lexer": "ipython3",
   "version": "3.10.10"
  }
 },
 "nbformat": 4,
 "nbformat_minor": 5
}
