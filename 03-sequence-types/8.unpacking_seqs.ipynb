{
 "cells": [
  {
   "cell_type": "markdown",
   "id": "528becb8-6f07-482f-81f2-9c621042bc42",
   "metadata": {},
   "source": [
    "## Unpacking\n",
    "\n",
    "In Python, unpacking sequences is a way to assign the elements of a sequence (like a list, tuple, or string) to a group of variables in a single statement.\n",
    "\n",
    "Conside a sequence `data = [1, 2, 3]` we want to assign values 1,2,3 to variables `a, b, c` we can do it this way:\n",
    "```python\n",
    "a = data[0]\n",
    "b = data[1]\n",
    "c = data[2]\n",
    "```\n",
    "But Python has a better way of doing this:\n",
    "\n",
    "```python\n",
    "a, b, c = data\n",
    "```\n",
    "\n",
    "The number of variables **must** match the number of elements of the sequence."
   ]
  },
  {
   "cell_type": "code",
   "execution_count": 5,
   "id": "5ab58dd4-b08b-4848-a88d-7ce5b3cac6fc",
   "metadata": {},
   "outputs": [
    {
     "name": "stdout",
     "output_type": "stream",
     "text": [
      "1 2 3\n"
     ]
    }
   ],
   "source": [
    "data = [1, 2, 3]\n",
    "a, b, c = data\n",
    "\n",
    "print(a, b, c)"
   ]
  },
  {
   "cell_type": "code",
   "execution_count": 4,
   "id": "cdb5eabb-5e9e-4348-bdfc-03fa77e1a183",
   "metadata": {},
   "outputs": [
    {
     "name": "stdout",
     "output_type": "stream",
     "text": [
      "10 20\n"
     ]
    }
   ],
   "source": [
    "x, y = 10, 20\n",
    "\n",
    "print(x, y)"
   ]
  }
 ],
 "metadata": {
  "kernelspec": {
   "display_name": "Python 3 (ipykernel)",
   "language": "python",
   "name": "python3"
  },
  "language_info": {
   "codemirror_mode": {
    "name": "ipython",
    "version": 3
   },
   "file_extension": ".py",
   "mimetype": "text/x-python",
   "name": "python",
   "nbconvert_exporter": "python",
   "pygments_lexer": "ipython3",
   "version": "3.10.10"
  }
 },
 "nbformat": 4,
 "nbformat_minor": 5
}
