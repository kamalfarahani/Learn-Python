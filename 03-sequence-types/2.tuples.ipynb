{
 "cells": [
  {
   "cell_type": "markdown",
   "id": "fe3fb04d-2650-4718-bcf5-e026a49b1d7d",
   "metadata": {},
   "source": [
    "## Tuples\n",
    "\n",
    "The tuple type is very similar to the list\n",
    "* It is a **container** type\n",
    "* It is a **sequence** type\n",
    "* Tuples can be **hetrogeneous**\n",
    "* BUT they are **immutable**\n",
    "* Unlike lists, once a tuple has been created\n",
    "    * $\\to$ You can not add or remove elements to it\n",
    "    * $\\to$ You can not replace elements of it"
   ]
  },
  {
   "cell_type": "markdown",
   "id": "31aee922-005c-4223-a81f-46233ac13d96",
   "metadata": {},
   "source": [
    "### Defining tuples\n",
    "\n",
    "You can create a tuple like this:"
   ]
  },
  {
   "cell_type": "code",
   "execution_count": 1,
   "id": "f3fa0911-9f4d-49c3-b158-114c01172217",
   "metadata": {},
   "outputs": [
    {
     "data": {
      "text/plain": [
       "(10, 20, 30)"
      ]
     },
     "execution_count": 1,
     "metadata": {},
     "output_type": "execute_result"
    }
   ],
   "source": [
    "t = (10, 20, 30)\n",
    "t"
   ]
  },
  {
   "cell_type": "markdown",
   "id": "88109efb-5092-4bf6-a7bd-a5497b81f376",
   "metadata": {},
   "source": [
    "We also can remove ()"
   ]
  },
  {
   "cell_type": "code",
   "execution_count": 5,
   "id": "bbd407de-482c-4926-a760-2e928b1d8685",
   "metadata": {},
   "outputs": [
    {
     "data": {
      "text/plain": [
       "(10, 20, 30)"
      ]
     },
     "execution_count": 5,
     "metadata": {},
     "output_type": "execute_result"
    }
   ],
   "source": [
    "t = 10, 20, 30\n",
    "t"
   ]
  },
  {
   "cell_type": "markdown",
   "id": "29d36104-b3db-47a2-8e63-e3ec944661ed",
   "metadata": {},
   "source": [
    "Or we can use `tuple` function"
   ]
  },
  {
   "cell_type": "code",
   "execution_count": 6,
   "id": "9ed78c29-f29a-4e40-b104-e3cd40a9237a",
   "metadata": {},
   "outputs": [
    {
     "data": {
      "text/plain": [
       "(10, 20, 30)"
      ]
     },
     "execution_count": 6,
     "metadata": {},
     "output_type": "execute_result"
    }
   ],
   "source": [
    "t = tuple([10, 20, 30])\n",
    "t"
   ]
  },
  {
   "cell_type": "code",
   "execution_count": null,
   "id": "533cef1e-123d-4639-aeb9-9c15e9942177",
   "metadata": {},
   "outputs": [],
   "source": [
    "t2 = ([1,2,3]"
   ]
  },
  {
   "cell_type": "markdown",
   "id": "805a17b7-4d3b-4e00-af59-a83364c0d96b",
   "metadata": {},
   "source": [
    "### Accessing elements\n",
    "\n",
    "You can access an element of tuple like this"
   ]
  },
  {
   "cell_type": "code",
   "execution_count": 7,
   "id": "baf8fcb3-60b2-4857-b1c5-c531ee6deadc",
   "metadata": {},
   "outputs": [
    {
     "data": {
      "text/plain": [
       "10"
      ]
     },
     "execution_count": 7,
     "metadata": {},
     "output_type": "execute_result"
    }
   ],
   "source": [
    "t[0]"
   ]
  },
  {
   "cell_type": "markdown",
   "id": "61ee38b8-767c-4975-b51e-4ab01bf904ae",
   "metadata": {},
   "source": [
    "### Getting length of a tuple\n",
    "\n",
    "You can use built-in `len` function to get the length of a tuple. "
   ]
  },
  {
   "cell_type": "code",
   "execution_count": 8,
   "id": "fc4e8f47-751f-451a-b04f-cb0d0ae97d17",
   "metadata": {},
   "outputs": [
    {
     "data": {
      "text/plain": [
       "3"
      ]
     },
     "execution_count": 8,
     "metadata": {},
     "output_type": "execute_result"
    }
   ],
   "source": [
    "len(t)"
   ]
  },
  {
   "cell_type": "markdown",
   "id": "16f15c10-790c-4532-932b-f2787a42ae79",
   "metadata": {},
   "source": [
    "### Tuples are immutable\n",
    "\n",
    "If you try to replace an element of a tuple you will get an error"
   ]
  },
  {
   "cell_type": "code",
   "execution_count": 13,
   "id": "cf37135d-e309-4d92-b72d-5bc5c3994c00",
   "metadata": {},
   "outputs": [
    {
     "ename": "TypeError",
     "evalue": "'tuple' object does not support item assignment",
     "output_type": "error",
     "traceback": [
      "\u001b[0;31m---------------------------------------------------------------------------\u001b[0m",
      "\u001b[0;31mTypeError\u001b[0m                                 Traceback (most recent call last)",
      "Cell \u001b[0;32mIn[13], line 1\u001b[0m\n\u001b[0;32m----> 1\u001b[0m \u001b[43mt\u001b[49m\u001b[43m[\u001b[49m\u001b[38;5;241;43m0\u001b[39;49m\u001b[43m]\u001b[49m \u001b[38;5;241m=\u001b[39m \u001b[38;5;241m190\u001b[39m\n",
      "\u001b[0;31mTypeError\u001b[0m: 'tuple' object does not support item assignment"
     ]
    }
   ],
   "source": [
    "t[0] = 190"
   ]
  },
  {
   "cell_type": "markdown",
   "id": "ae699666-60f4-428c-bb79-18d15bae7384",
   "metadata": {},
   "source": [
    "### A tricky example"
   ]
  },
  {
   "cell_type": "code",
   "execution_count": 14,
   "id": "2e1412b0-502d-4445-b300-00709a522e9d",
   "metadata": {},
   "outputs": [],
   "source": [
    "t = ([1,2,3], 5)"
   ]
  },
  {
   "cell_type": "code",
   "execution_count": 15,
   "id": "73c9b6d0-25aa-4114-9c69-87189c6bbe91",
   "metadata": {},
   "outputs": [],
   "source": [
    "t[0][1] = 900"
   ]
  },
  {
   "cell_type": "code",
   "execution_count": 16,
   "id": "689f5d6b-9caa-4fde-be3c-dc4a9a1e609c",
   "metadata": {},
   "outputs": [
    {
     "data": {
      "text/plain": [
       "([1, 900, 3], 5)"
      ]
     },
     "execution_count": 16,
     "metadata": {},
     "output_type": "execute_result"
    }
   ],
   "source": [
    "t"
   ]
  },
  {
   "cell_type": "markdown",
   "id": "c167abb8-b221-4fb1-8910-e1d35d2490db",
   "metadata": {},
   "source": [
    "### Turning a tuple to a list\n",
    "\n",
    "you can turn a tuple to a list using the `list` function"
   ]
  },
  {
   "cell_type": "code",
   "execution_count": 18,
   "id": "f6416dde-bacc-49ce-8a18-24ade2348a0b",
   "metadata": {},
   "outputs": [
    {
     "data": {
      "text/plain": [
       "(10, 20, 30)"
      ]
     },
     "execution_count": 18,
     "metadata": {},
     "output_type": "execute_result"
    }
   ],
   "source": [
    "t = (10, 20, 30)\n",
    "t"
   ]
  },
  {
   "cell_type": "code",
   "execution_count": 19,
   "id": "545fad72-9020-480e-9daf-ace89c5d8421",
   "metadata": {},
   "outputs": [
    {
     "data": {
      "text/plain": [
       "[10, 20, 30]"
      ]
     },
     "execution_count": 19,
     "metadata": {},
     "output_type": "execute_result"
    }
   ],
   "source": [
    "l = list(t)\n",
    "l"
   ]
  }
 ],
 "metadata": {
  "kernelspec": {
   "display_name": "Python 3 (ipykernel)",
   "language": "python",
   "name": "python3"
  },
  "language_info": {
   "codemirror_mode": {
    "name": "ipython",
    "version": 3
   },
   "file_extension": ".py",
   "mimetype": "text/x-python",
   "name": "python",
   "nbconvert_exporter": "python",
   "pygments_lexer": "ipython3",
   "version": "3.10.10"
  }
 },
 "nbformat": 4,
 "nbformat_minor": 5
}
