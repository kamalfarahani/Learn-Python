{
 "cells": [
  {
   "cell_type": "markdown",
   "id": "e56950c1-063a-45f6-85de-c6246606eee9",
   "metadata": {},
   "source": [
    "## Strings\n",
    "\n",
    "The `str` type is used for strings in python\n",
    "* String is also a container type\n",
    "* It is a sequence type\n",
    "* strings are **homogeneous** $\\to$ they can only contain characters(unicode)"
   ]
  },
  {
   "cell_type": "markdown",
   "id": "d1edf8a8-ac35-4276-a434-97fd9dc6b39a",
   "metadata": {},
   "source": [
    "### Defining strings\n",
    "\n",
    "Python strings can be created using literals in a `''` or `\"\"`\n",
    "\n",
    "Strings are **immutable**"
   ]
  },
  {
   "cell_type": "code",
   "execution_count": 7,
   "id": "20e4dc7a-c0eb-4091-ac39-f9a17d4b7bd0",
   "metadata": {},
   "outputs": [
    {
     "name": "stdout",
     "output_type": "stream",
     "text": [
      "Alex\n",
      "John\n"
     ]
    }
   ],
   "source": [
    "name_1 = 'Alex'\n",
    "name_2 = 'John'\n",
    "\n",
    "print(name_1)\n",
    "print(name_2)"
   ]
  },
  {
   "cell_type": "markdown",
   "id": "ab78be5e-5a79-490a-bce2-753c19990050",
   "metadata": {},
   "source": [
    "### Accessing elements\n",
    "\n",
    "Like other sequence types we can use an index number to access elements of the string."
   ]
  },
  {
   "cell_type": "code",
   "execution_count": 8,
   "id": "49da9c44-3232-45fa-b08b-959ee840abf9",
   "metadata": {},
   "outputs": [
    {
     "data": {
      "text/plain": [
       "'T'"
      ]
     },
     "execution_count": 8,
     "metadata": {},
     "output_type": "execute_result"
    }
   ],
   "source": [
    "text = 'This is a text'\n",
    "\n",
    "text[0]"
   ]
  },
  {
   "cell_type": "markdown",
   "id": "bb34d276-53c2-4909-bd52-7eab7ebb42bb",
   "metadata": {},
   "source": [
    "### Getting length of a string\n",
    "\n",
    "Like other sequence types You can use built-in `len` function to get the length of a string."
   ]
  },
  {
   "cell_type": "code",
   "execution_count": 9,
   "id": "b9affb6d-b1ad-4ad9-bda7-c64e7c9ed1bb",
   "metadata": {},
   "outputs": [
    {
     "data": {
      "text/plain": [
       "14"
      ]
     },
     "execution_count": 9,
     "metadata": {},
     "output_type": "execute_result"
    }
   ],
   "source": [
    "len(text)"
   ]
  },
  {
   "cell_type": "markdown",
   "id": "36c6aae9-14ad-40b8-9c70-ca981b65fd04",
   "metadata": {},
   "source": [
    "### Formatting strings\n",
    "\n",
    "Formatting strings in Python is the process of creating a string that contains formatted values. This is often used to create output that displays data in a particular format. \n",
    "\n",
    "The most common way to format strings in Python is by using the string formatting syntax. This involves creating a string with placeholders for values that will be inserted later, and then using the `.format()` method to replace those placeholders with actual values. \n",
    "\n",
    "For example, suppose you have a variable `name` that contains a person's name, and you want to create a string that says \"Hello, [name]!\". You could do this with the following code:\n",
    "\n",
    "```python\n",
    "name = \"John\"\n",
    "greeting = \"Hello, {}!\".format(name)\n",
    "print(greeting)\n",
    "```\n",
    "\n",
    "The `{}` placeholder in the string is replaced with the value of the `name` variable when the `.format()` method is called. The resulting string will be \"Hello, John!\".\n",
    "\n",
    "You can also use numbered placeholders to specify the order in which values should be inserted, and you can include formatting options to control how the values are displayed. For example:\n",
    "\n",
    "```python\n",
    "# Using numbered placeholders\n",
    "age = 30\n",
    "name = \"John\"\n",
    "greeting = \"Hello, {1}! You are {0} years old.\".format(age, name)\n",
    "print(greeting)"
   ]
  },
  {
   "cell_type": "code",
   "execution_count": 11,
   "id": "00ee766c-a661-4f52-8923-5c50f65d7968",
   "metadata": {},
   "outputs": [
    {
     "name": "stdout",
     "output_type": "stream",
     "text": [
      "Hello, John!\n"
     ]
    }
   ],
   "source": [
    "name = \"John\"\n",
    "greeting = \"Hello, {}!\".format(name)\n",
    "print(greeting)"
   ]
  },
  {
   "cell_type": "markdown",
   "id": "41f5e2d9-d04f-44be-afb5-603132ce2a8c",
   "metadata": {},
   "source": [
    "### f-strings\n",
    "\n",
    "f-strings are a handy way to format strings in python"
   ]
  },
  {
   "cell_type": "code",
   "execution_count": 10,
   "id": "52f6b40a-50f0-4c98-9775-ce2d73ece27c",
   "metadata": {},
   "outputs": [
    {
     "name": "stdin",
     "output_type": "stream",
     "text": [
      "Enter your number:  100\n"
     ]
    },
    {
     "name": "stdout",
     "output_type": "stream",
     "text": [
      "Your number is 100\n"
     ]
    }
   ],
   "source": [
    "x = int(input('Enter your number: '))\n",
    "\n",
    "print(f'Your number is {x}')"
   ]
  }
 ],
 "metadata": {
  "kernelspec": {
   "display_name": "Python 3 (ipykernel)",
   "language": "python",
   "name": "python3"
  },
  "language_info": {
   "codemirror_mode": {
    "name": "ipython",
    "version": 3
   },
   "file_extension": ".py",
   "mimetype": "text/x-python",
   "name": "python",
   "nbconvert_exporter": "python",
   "pygments_lexer": "ipython3",
   "version": "3.10.10"
  }
 },
 "nbformat": 4,
 "nbformat_minor": 5
}
