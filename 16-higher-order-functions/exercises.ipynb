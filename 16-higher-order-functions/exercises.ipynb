{
 "cells": [
  {
   "cell_type": "markdown",
   "id": "tight-homework",
   "metadata": {},
   "source": [
    "### Exercises"
   ]
  },
  {
   "cell_type": "markdown",
   "id": "focused-phone",
   "metadata": {},
   "source": [
    "#### Question 1"
   ]
  },
  {
   "cell_type": "markdown",
   "id": "accomplished-livestock",
   "metadata": {},
   "source": [
    "We want to write a function that can find an approximate maximum or minimum of some given function over some given range."
   ]
  },
  {
   "cell_type": "markdown",
   "id": "exempt-heater",
   "metadata": {},
   "source": [
    "For example, given some function:\n",
    "\n",
    "```\n",
    "f(x) = x**2 - 1\n",
    "```\n",
    "\n",
    "our function should return an approximate minimum (or maximum) of `f` over some given range, say `[-5, 5]`."
   ]
  },
  {
   "cell_type": "markdown",
   "id": "closing-belle",
   "metadata": {},
   "source": [
    "We'll do this by essentially splitting our intervals into `n` points (what I'll call the `resolution`), evaluating the function at each of these points, and returning either the min or the max."
   ]
  },
  {
   "cell_type": "markdown",
   "id": "comfortable-aviation",
   "metadata": {},
   "source": [
    "We want this function to be generic, so it should have the following parameters:\n",
    "- a function of one variable\n",
    "- a range of values defined by start/end values\n",
    "- a value indicating the \"resolution\"\n",
    "- a value indicating whether we want the min or the max"
   ]
  },
  {
   "cell_type": "markdown",
   "id": "fiscal-exclusive",
   "metadata": {},
   "source": [
    "#### Question 2"
   ]
  },
  {
   "cell_type": "markdown",
   "id": "tribal-irrigation",
   "metadata": {},
   "source": [
    "You are given a function of two variables, and a list of tuples containing the values for the two variables."
   ]
  },
  {
   "cell_type": "markdown",
   "id": "guilty-opposition",
   "metadata": {},
   "source": [
    "Create a list that is the result of calling the function on each values in the list, using three different techniques:\n",
    "- a `for` loop\n",
    "- a list comprehension\n",
    "- the `map` function"
   ]
  },
  {
   "cell_type": "code",
   "execution_count": 1,
   "id": "prompt-investigator",
   "metadata": {},
   "outputs": [],
   "source": [
    "import math\n",
    "\n",
    "def func(point):\n",
    "    # expect point to be a sequence of two values\n",
    "    x, y = point\n",
    "    return math.hypot(x, y)  \n",
    "    # hypot is a function that calculates sqrt(x**2 + y**2), given a sequence (x, y)\n",
    "\n",
    "points = [\n",
    "    (0, 0),\n",
    "    (1, 1),\n",
    "    (10, 20),\n",
    "    (math.pi, math.e)\n",
    "]"
   ]
  },
  {
   "cell_type": "markdown",
   "id": "tutorial-absolute",
   "metadata": {},
   "source": [
    "Your result for `points` should be:\n",
    "\n",
    "```\n",
    "[0.0, 1.4142135623730951, 22.360679774997898, 4.154354402313314]\n",
    "```"
   ]
  },
  {
   "cell_type": "markdown",
   "id": "caroline-analysis",
   "metadata": {},
   "source": [
    "#### Question 3"
   ]
  },
  {
   "cell_type": "markdown",
   "id": "special-stuart",
   "metadata": {},
   "source": [
    "Write a function that returns a function with all arguments, except the first one, prefilled with certain values provided to the outer function."
   ]
  },
  {
   "cell_type": "markdown",
   "id": "becoming-civilization",
   "metadata": {},
   "source": [
    "(This is sometimes called a partial function)."
   ]
  },
  {
   "cell_type": "markdown",
   "id": "solar-watson",
   "metadata": {},
   "source": [
    "For example, we may have some functions such as:"
   ]
  },
  {
   "cell_type": "code",
   "execution_count": 3,
   "id": "divine-brand",
   "metadata": {},
   "outputs": [],
   "source": [
    "import math"
   ]
  },
  {
   "cell_type": "code",
   "execution_count": 4,
   "id": "saving-hazard",
   "metadata": {},
   "outputs": [],
   "source": [
    "def power(x, n):\n",
    "    return x ** n"
   ]
  },
  {
   "cell_type": "code",
   "execution_count": 5,
   "id": "requested-mathematics",
   "metadata": {},
   "outputs": [],
   "source": [
    "def dist(pt1, pt2):\n",
    "    return math.sqrt(sum(coord_1 - coord_2 for coord_1, coord_2 in zip(pt1, pt2)))"
   ]
  },
  {
   "cell_type": "markdown",
   "id": "hungry-aberdeen",
   "metadata": {},
   "source": [
    "Or even functions already defined, such as:\n",
    "\n",
    "```python\n",
    "math.gcd(a, b)\n",
    "```\n",
    "or\n",
    "```python\n",
    "math.log(x, base)\n",
    "```"
   ]
  },
  {
   "cell_type": "markdown",
   "id": "entitled-denver",
   "metadata": {},
   "source": [
    "We want to to be able to generate new functions, based on these ones (`power`, `dist`, `gcd`, `log`) but with all the values except the first one prefilled, for example, assuming our function is named `partial`, we can use it to define new functions this way:"
   ]
  },
  {
   "cell_type": "markdown",
   "id": "first-velvet",
   "metadata": {},
   "source": [
    "```python\n",
    "squares = partial(power, 2)\n",
    "dist_from_origin = partial(dist, (0, 0))\n",
    "gcd_13 = partial(math.gcd, 13)\n",
    "log_2 = partial(math.log, 2)\n",
    "log_10 = partial(math.log, 10)\n",
    "log_16 = partial(math.log, 16)\n",
    "```"
   ]
  },
  {
   "cell_type": "markdown",
   "id": "gentle-monitor",
   "metadata": {},
   "source": [
    "Then when we call our new functions, we just pass in the value for the first argument, i.e."
   ]
  },
  {
   "cell_type": "markdown",
   "id": "bridal-scenario",
   "metadata": {},
   "source": [
    "``` python\n",
    "squares(3) # --> 9\n",
    "squares(4) # --> 16\n",
    "dist_from_origin((1, 1)) # --> 1.414\n",
    "log_2(10) # --> 3.3219\n",
    "log_10(10) # --> 1.0\n",
    "log_16(10) # --> 0.8304\n",
    "```"
   ]
  },
  {
   "cell_type": "markdown",
   "id": "cleared-watson",
   "metadata": {},
   "source": [
    "#### Question 4 **(Optional)**"
   ]
  },
  {
   "cell_type": "markdown",
   "id": "registered-moscow",
   "metadata": {},
   "source": [
    "Write a function that can be used to not only execute another function with specified arguments, but print a \"log\" (basically just print to the console\", of how long it took to execute the function."
   ]
  },
  {
   "cell_type": "markdown",
   "id": "invisible-elephant",
   "metadata": {},
   "source": [
    "For example, given some functions like this:"
   ]
  },
  {
   "cell_type": "code",
   "execution_count": 6,
   "id": "prerequisite-allergy",
   "metadata": {},
   "outputs": [],
   "source": [
    "def norm(x, y):\n",
    "    return math.sqrt(x**2 + y**2)\n",
    "\n",
    "def find_index_min(seq):\n",
    "    min_ = min(seq)\n",
    "    return seq.index(min_)"
   ]
  },
  {
   "cell_type": "markdown",
   "id": "heavy-police",
   "metadata": {},
   "source": [
    "Then assuming your logging function is called `logged`, you could create logged functions this way:"
   ]
  },
  {
   "cell_type": "code",
   "execution_count": 7,
   "id": "liquid-divide",
   "metadata": {},
   "outputs": [],
   "source": [
    "def logged(f):\n",
    "    # implement this\n",
    "    pass"
   ]
  },
  {
   "cell_type": "code",
   "execution_count": 8,
   "id": "measured-packaging",
   "metadata": {},
   "outputs": [],
   "source": [
    "norm_logged = logged(norm)\n",
    "find_index_min_logged = logged(find_index_min)"
   ]
  },
  {
   "cell_type": "markdown",
   "id": "czech-husband",
   "metadata": {},
   "source": [
    "You would then be able to call `norm_logged` with some arguments, or `find_index_min_logged` with some arguments, and not only get the actual result back, but also see an output to the console that tells you how long the function took to run."
   ]
  }
 ],
 "metadata": {
  "kernelspec": {
   "display_name": "Python 3 (ipykernel)",
   "language": "python",
   "name": "python3"
  },
  "language_info": {
   "codemirror_mode": {
    "name": "ipython",
    "version": 3
   },
   "file_extension": ".py",
   "mimetype": "text/x-python",
   "name": "python",
   "nbconvert_exporter": "python",
   "pygments_lexer": "ipython3",
   "version": "3.9.7"
  }
 },
 "nbformat": 4,
 "nbformat_minor": 5
}
