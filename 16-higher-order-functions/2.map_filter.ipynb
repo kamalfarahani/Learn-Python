{
 "cells": [
  {
   "cell_type": "markdown",
   "id": "3baf70b6-2044-42cb-998f-f53cf6ea91d6",
   "metadata": {},
   "source": [
    "## `map` and `filter`\n",
    "\n",
    "In Python, the `map` and `filter` functions are built-in higher-order functions that operate on iterables (such as lists, tuples, or strings) and allow you to perform transformations or filtering on the elements of the iterable.\n",
    "\n",
    "1. `map(function, iterable)`:\n",
    "   The `map` function applies a given function to each item in the iterable and returns an iterator with the results. It takes two arguments: the `function` to be applied and the `iterable` on which the function will be applied.\n",
    "\n",
    "   Here's an example that demonstrates how `map()` works:\n",
    "\n",
    "   ```python\n",
    "   numbers = [1, 2, 3, 4, 5]\n",
    "   squared_numbers = map(lambda x: x ** 2, numbers)\n",
    "   print(list(squared_numbers))  # Output: [1, 4, 9, 16, 25]\n",
    "   ```\n",
    "\n",
    "In this example, the `lambda` function `lambda x: x ** 2` squares each element in the `numbers` list using `map()`. The `map()` function returns an iterator, which we convert to a list to print the squared numbers.\n",
    "\n",
    "3. `filter(function, iterable)`:\n",
    "   The `filter` function constructs an iterator from elements of the `iterable` for which the given `function` returns `True`. It takes two arguments: the `function` to be applied and the `iterable` on which the function will be applied.\n",
    "\n",
    "   Here's an example that demonstrates how `filter` works:\n",
    "   ```python\n",
    "   numbers = [1, 2, 3, 4, 5]\n",
    "   even_numbers = filter(lambda x: x % 2 == 0, numbers)\n",
    "   print(list(even_numbers))  # Output: [2, 4]\n",
    "   ```\n",
    "\n",
    "In this example, the `lambda` function `lambda x: x % 2 == 0` filters out the odd numbers from the `numbers` list using `filter()`. The `filter()` function returns an iterator that contains only the elements for which the function returns `True`, and we convert it to a list to print the even numbers.\n",
    "\n",
    "Both `map()` and `filter()` functions provide a concise way to perform common operations on iterables without requiring explicit loops. They are especially useful when combined with lambda functions or other callable objects."
   ]
  },
  {
   "cell_type": "markdown",
   "id": "b47b3235-1a38-414c-afc7-594cc72f825a",
   "metadata": {},
   "source": [
    "### Understanding the `map` function\n",
    "\n",
    "`map` is a built-in function in Python but in this section for better understanding we will implement a simplified version of the `map` function from scratch, you can define a custom function that mimics its behavior. Here's an example implementation:\n",
    "\n",
    "```python\n",
    "def custom_map(function, iterable):\n",
    "    result = []\n",
    "    for item in iterable:\n",
    "        result.append(function(item))\n",
    "    return result\n",
    "```\n",
    "\n",
    "In this implementation, the `custom_map()` function takes two arguments: `function`, which represents the function to be applied to each element, and `iterable`, which is the collection of items to be mapped.\n",
    "\n",
    "Inside the function, an empty list called `result` is initialized. Then, a loop iterates over each item in the `iterable`. For each item, the `function()` is called with the item as an argument, and the return value is appended to the `result` list.\n",
    "\n",
    "Finally, the `result` list, containing the mapped values, is returned.\n",
    "\n",
    "You can use this `custom_map()` function similarly to the built-in `map()` function. Here's an example usage:\n",
    "\n",
    "```python\n",
    "def square(x):\n",
    "    return x ** 2\n",
    "\n",
    "numbers = [1, 2, 3, 4, 5]\n",
    "\n",
    "mapped_numbers = custom_map(square, numbers)\n",
    "\n",
    "print(mapped_numbers)\n",
    "```\n",
    "\n",
    "In this example, we define a simple `square()` function that squares a given number. We have a `numbers` list, and we use the `custom_map()` function to apply the `square()` function to each element of the `numbers` list.\n",
    "\n",
    "When you run this code, it will produce the following output:\n",
    "\n",
    "```\n",
    "[1, 4, 9, 16, 25]\n",
    "```\n",
    "\n",
    "As you can see, the `custom_map()` function behaves similarly to the built-in `map()` function by applying the provided function to each element of the iterable and returning a list of the mapped values."
   ]
  },
  {
   "cell_type": "code",
   "execution_count": 1,
   "id": "7102ff31-32f2-41d3-8d61-d3eed9b00bfe",
   "metadata": {},
   "outputs": [],
   "source": [
    "def custom_map(function, iterable):\n",
    "    result = []\n",
    "    for item in iterable:\n",
    "        result.append(function(item))\n",
    "    return result"
   ]
  },
  {
   "cell_type": "code",
   "execution_count": 2,
   "id": "fc3254af-a8c9-4a43-a09b-79fabdbfb123",
   "metadata": {},
   "outputs": [],
   "source": [
    "numbers = [1, 2, 3, 4, 5]"
   ]
  },
  {
   "cell_type": "code",
   "execution_count": 3,
   "id": "e644e276-798d-4f8f-aea3-baba63335e46",
   "metadata": {},
   "outputs": [],
   "source": [
    "def square(x):\n",
    "    return x ** 2"
   ]
  },
  {
   "cell_type": "code",
   "execution_count": 4,
   "id": "1e93bb25-7b72-4eee-b633-ee94e09c68c8",
   "metadata": {},
   "outputs": [
    {
     "data": {
      "text/plain": [
       "[1, 4, 9, 16, 25]"
      ]
     },
     "execution_count": 4,
     "metadata": {},
     "output_type": "execute_result"
    }
   ],
   "source": [
    "custom_map(square, numbers)"
   ]
  },
  {
   "cell_type": "markdown",
   "id": "ecfde47b-2def-49f0-b7c2-56acd953d508",
   "metadata": {},
   "source": [
    "#### Python built-in `map` function\n",
    "\n",
    "The main difference between the built-in `map` function in Python and the simplified version of `custom_map` provided in the previous cells lies in their return types and internal implementations.\n",
    "\n",
    "1. Return Type:\n",
    "   - `map`: The `map` function returns a map object, which is an iterator. To obtain the mapped values as a list, you need to explicitly convert the map object to a list using the `list` function.\n",
    "   - `custom_map`: The simplified `custom_map` implementation directly returns a list containing the mapped values. There's no need for an additional conversion step.\n",
    "\n",
    "2. Internal Implementation:\n",
    "   - `map`: The built-in `map` function is implemented in C, making it highly optimized and efficient. It utilizes lazy evaluation, meaning it generates the mapped values on-the-fly as you iterate over the map object. This makes it memory-efficient, especially when dealing with large datasets.\n",
    "   - `custom_map`: The simplified `custom_map` implementation is written in Python itself. It iterates over the input iterable and applies the provided function to each element, storing the mapped values in a separate list. This implementation does not have the lazy evaluation feature and generates the entire list of mapped values upfront.\n",
    "\n",
    "Additionally, the built-in `map` function supports multiple iterable arguments. When provided with multiple iterables, it applies the provided function to corresponding elements from each iterable. The simplified `custom_map` implementation mentioned earlier does not have this capability and only accepts a single iterable.\n",
    "\n",
    "While the simplified `custom_map` implementation can serve basic mapping needs, the built-in `map` function provided by Python offers better performance and flexibility due to its optimized C implementation, lazy evaluation, and support for multiple iterables."
   ]
  },
  {
   "cell_type": "code",
   "execution_count": 5,
   "id": "f51df10e-76c4-43f7-9edc-ca5afebfe181",
   "metadata": {},
   "outputs": [
    {
     "data": {
      "text/plain": [
       "<map at 0x7fe0cc289960>"
      ]
     },
     "execution_count": 5,
     "metadata": {},
     "output_type": "execute_result"
    }
   ],
   "source": [
    "numbers = [1,2,3,4,5]\n",
    "mapped_numbers = map(lambda x: x**2, numbers)\n",
    "\n",
    "mapped_numbers"
   ]
  },
  {
   "cell_type": "code",
   "execution_count": 6,
   "id": "e084ecda-0a91-4fc8-b927-df133b28dc17",
   "metadata": {},
   "outputs": [
    {
     "data": {
      "text/plain": [
       "map"
      ]
     },
     "execution_count": 6,
     "metadata": {},
     "output_type": "execute_result"
    }
   ],
   "source": [
    "type(mapped_numbers)"
   ]
  },
  {
   "cell_type": "code",
   "execution_count": 7,
   "id": "ff72a2db-b5f1-4c98-ac9f-38670b5b547d",
   "metadata": {},
   "outputs": [
    {
     "name": "stdout",
     "output_type": "stream",
     "text": [
      "1\n",
      "4\n",
      "9\n",
      "16\n",
      "25\n"
     ]
    }
   ],
   "source": [
    "for x in mapped_numbers:\n",
    "    print(x)"
   ]
  },
  {
   "cell_type": "markdown",
   "id": "ff293bb4-2e74-42bf-a6c1-49c974fba68f",
   "metadata": {},
   "source": [
    "> **The `map` function returns a map object, which is an iterator, so you can iterate over it only one time**"
   ]
  },
  {
   "cell_type": "code",
   "execution_count": 8,
   "id": "2b9369ce-6b66-4427-a625-e5722261469c",
   "metadata": {},
   "outputs": [],
   "source": [
    "for x in mapped_numbers:\n",
    "    print(x)"
   ]
  },
  {
   "cell_type": "code",
   "execution_count": 10,
   "id": "82d739bf-1558-4a63-80cc-cb76738d2bc5",
   "metadata": {},
   "outputs": [
    {
     "data": {
      "text/plain": [
       "[1, 4, 9, 16, 25]"
      ]
     },
     "execution_count": 10,
     "metadata": {},
     "output_type": "execute_result"
    }
   ],
   "source": [
    "mapped_numbers = map(lambda x: x**2, numbers)\n",
    "mapped_numbers_list = list(mapped_numbers)\n",
    "mapped_numbers_list"
   ]
  },
  {
   "cell_type": "markdown",
   "id": "3b32310d-3193-4a61-a67f-4f3604687af1",
   "metadata": {},
   "source": [
    "> **To obtain the mapped values as a list, you need to explicitly convert the map object to a list using the `list` function.**"
   ]
  },
  {
   "cell_type": "markdown",
   "id": "f455b52d-3637-4326-80e4-e16b986d97eb",
   "metadata": {},
   "source": [
    "### Understanding the `filter` function\n",
    "\n",
    "To gain a deeper comprehension of the `filter` function, we will create a simplified version of it for implementation purposes. This custom implementation will help clarify how the `filter` function works.\n",
    "\n",
    "```python\n",
    "def custom_filter(function, iterable):\n",
    "    result = []\n",
    "    for item in iterable:\n",
    "        if function(item):\n",
    "            result.append(item)\n",
    "    return result\n",
    "```\n",
    "\n",
    "The custom `filter()` function takes two arguments: `function`, which represents the filtering condition, and `iterable`, which is the collection of items to be filtered.\n",
    "\n",
    "Inside the function, an empty list called `result` is initialized. Then, a loop iterates over each item in the `iterable`. For each item, the `function()` is called with the item as an argument. If the result of the function is `True`, indicating that the item satisfies the filtering condition, the item is appended to the `result` list.\n",
    "\n",
    "Finally, the `result` list, containing the filtered items, is returned.\n",
    "\n",
    "Let's use this `custom_filter()` function in an example to better understand its behavior:\n",
    "\n",
    "```python\n",
    "def is_even(x):\n",
    "    return x % 2 == 0\n",
    "\n",
    "numbers = [1, 2, 3, 4, 5, 6, 7, 8, 9, 10]\n",
    "\n",
    "filtered_numbers = custom_filter(is_even, numbers)\n",
    "\n",
    "print(filtered_numbers)\n",
    "```\n",
    "\n",
    "In this example, we define a simple `is_even()` function that checks whether a number is even. We have a `numbers` list, and we use the `custom_filter()` function to filter out the even numbers from the list.\n",
    "\n",
    "When you run this code, it will produce the following output:\n",
    "\n",
    "```\n",
    "[2, 4, 6, 8, 10]\n",
    "```\n",
    "\n",
    "As you can see, the `custom_filter()` function behaves similarly to the built-in `filter()` function by applying the provided function to each element of the iterable and returning a list of the filtered items that satisfy the condition.\n",
    "\n",
    "It's important to note that the simplified `custom_filter()` implementation provided here is a basic demonstration and may not have the same performance optimizations as the built-in `filter()` function. The built-in `filter()` function is written in C and offers better efficiency, lazy evaluation, and support for multiple iterable arguments."
   ]
  },
  {
   "cell_type": "code",
   "execution_count": 11,
   "id": "8b657145-0235-4550-97b8-b8e05e5aaaf6",
   "metadata": {},
   "outputs": [],
   "source": [
    "def custom_filter(function, iterable):\n",
    "    result = []\n",
    "    for item in iterable:\n",
    "        if function(item):\n",
    "            result.append(item)\n",
    "    return result"
   ]
  },
  {
   "cell_type": "code",
   "execution_count": 12,
   "id": "13ea52df-308b-4100-ad32-27fb89f70eb5",
   "metadata": {},
   "outputs": [
    {
     "name": "stdout",
     "output_type": "stream",
     "text": [
      "[2, 4, 6, 8, 10]\n"
     ]
    }
   ],
   "source": [
    "def is_even(x):\n",
    "    return x % 2 == 0\n",
    "\n",
    "numbers = [1, 2, 3, 4, 5, 6, 7, 8, 9, 10]\n",
    "\n",
    "filtered_numbers = custom_filter(is_even, numbers)\n",
    "\n",
    "print(filtered_numbers)"
   ]
  },
  {
   "cell_type": "markdown",
   "id": "0925d819-9bd5-4837-955d-e8d2639dd850",
   "metadata": {},
   "source": [
    "#### Python built-in `filter` function\n",
    "\n",
    "The key differences between the simplified version of the `filter` function and the actual built-in `filter` function in Python are as follows:\n",
    "\n",
    "1. Return Type:\n",
    "   - `filter`: The built-in `filter` function returns a filter object, which is an iterator. To obtain the filtered values as a list, you need to explicitly convert the filter object to a list using the `list` function.\n",
    "   - Simplified `custom_filter`: The simplified version of the `filter` function in the previous implementation directly returns a list containing the filtered values. There's no need for an additional conversion step.\n",
    "\n",
    "2. Internal Implementation:\n",
    "   - `filter`: The built-in `filter` function is implemented in C and optimized for performance. It uses lazy evaluation, generating the filtered values on-the-fly as you iterate over the filter object. This makes it memory-efficient, particularly when dealing with large datasets.\n",
    "   - Simplified `custom_filter`: The simplified version of the `filter` function is implemented in Python itself. It loops over the input iterable, applies the provided function or condition to each element, and stores the filtered values in a separate list. This implementation does not have the lazy evaluation feature and generates the entire list of filtered values upfront.\n",
    "\n",
    "3. Support for Callable and None:\n",
    "   - `filter`: The built-in `filter` function can accept both a callable function and `None` as the filtering condition. When `None` is provided as the condition, the function filters out elements that are considered false in a Boolean context (i.e., equivalent to `bool(element)`).\n",
    "   - Simplified `custom_filter`: The simplified version of the `filter` function does not support the special behavior of `None` as the condition. It expects a callable function as the filtering condition.\n",
    "\n",
    "Overall, while the simplified version of the `filter()` function can be used for basic filtering needs, the built-in `filter` function provided by Python offers better performance, memory efficiency, support for lazy evaluation, and the ability to use `None` as the filtering condition."
   ]
  },
  {
   "cell_type": "code",
   "execution_count": 17,
   "id": "fdb2fc8a-2769-4f4f-8302-adbf6d5bc2a1",
   "metadata": {},
   "outputs": [
    {
     "data": {
      "text/plain": [
       "<filter at 0x7fe0cc5dd9c0>"
      ]
     },
     "execution_count": 17,
     "metadata": {},
     "output_type": "execute_result"
    }
   ],
   "source": [
    "numbers = [1, 2, 3, 4, 5, 6, 7, 8, 9, 10]\n",
    "filtered_numbers = filter(lambda x: x % 2 == 0, numbers)\n",
    "filtered_numbers"
   ]
  },
  {
   "cell_type": "code",
   "execution_count": 18,
   "id": "c27e9b89-1ae8-40dc-bd4e-0a78d73ddc0a",
   "metadata": {},
   "outputs": [
    {
     "data": {
      "text/plain": [
       "filter"
      ]
     },
     "execution_count": 18,
     "metadata": {},
     "output_type": "execute_result"
    }
   ],
   "source": [
    "type(filtered_numbers)"
   ]
  },
  {
   "cell_type": "markdown",
   "id": "93ad4dd9-61a9-4f53-8006-602363d1057f",
   "metadata": {},
   "source": [
    "> **The `filter` function returns a filter object, which is an iterator, so you can iterate over it only one time**"
   ]
  },
  {
   "cell_type": "code",
   "execution_count": 19,
   "id": "08e005c8-d190-48b5-8445-d487e3d0aaf2",
   "metadata": {},
   "outputs": [
    {
     "data": {
      "text/plain": [
       "[2, 4, 6, 8, 10]"
      ]
     },
     "execution_count": 19,
     "metadata": {},
     "output_type": "execute_result"
    }
   ],
   "source": [
    "filtered_numbers_list = list(filtered_numbers)\n",
    "filtered_numbers_list"
   ]
  }
 ],
 "metadata": {
  "kernelspec": {
   "display_name": "Python 3 (ipykernel)",
   "language": "python",
   "name": "python3"
  },
  "language_info": {
   "codemirror_mode": {
    "name": "ipython",
    "version": 3
   },
   "file_extension": ".py",
   "mimetype": "text/x-python",
   "name": "python",
   "nbconvert_exporter": "python",
   "pygments_lexer": "ipython3",
   "version": "3.9.7"
  }
 },
 "nbformat": 4,
 "nbformat_minor": 5
}
