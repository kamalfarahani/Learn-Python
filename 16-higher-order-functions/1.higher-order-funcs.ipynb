{
 "cells": [
  {
   "cell_type": "markdown",
   "id": "9b3fc265-b3e6-43d7-a309-55386740e538",
   "metadata": {},
   "source": [
    "## Higher order functions\n",
    "\n",
    "Recall that in Python, functions are treated as objects, which means they can be passed as arguments to other functions or returned from functions.\n",
    "\n",
    "Higher-order functions are functions that can accept other functions as arguments or return functions as their results. Essentially, they treat functions as first-class objects, allowing you to manipulate and use them in a flexible manner.\n",
    "\n",
    "Here are some key concepts related to higher-order functions in Python:\n",
    "\n",
    "1. Functions as Arguments: Higher-order functions can take other functions as arguments. This allows you to pass behavior to a function dynamically. For example, you can define a function that takes a list and a function as arguments and applies the function to each element of the list.\n",
    "\n",
    "2. Functions as Return Values: Higher-order functions can also return functions. This means that a function can generate and return a new function based on certain conditions or parameters. It provides a way to create specialized functions on the fly.\n",
    "\n",
    "3. Lambda Functions: Lambda functions, also known as anonymous functions, are often used in conjunction with higher-order functions. Lambda functions allow you to define small, one-line functions without explicitly naming them. They are useful when you need a simple function for a short period of time.\n",
    "\n",
    "4. Examples of Higher-Order Functions: Some built-in higher-order functions in Python include `map()`, `filter()`, and `reduce()`. These functions take a function and an iterable as arguments and perform common operations on the elements of the iterable based on the given function.\n",
    "\n",
    "   - `map` applies a function to each element of an iterable and returns an iterator with the results.\n",
    "   - `filter` applies a function to each element of an iterable and returns an iterator with the elements for which the function returns `True`.\n",
    "   - `reduce` applies a function to the elements of an iterable in a cumulative way, reducing them to a single value.\n",
    "\n",
    "Here's an example that demonstrates the use of a higher-order function in Python:\n",
    "\n",
    "```python\n",
    "# Higher-order function that takes a function as an argument\n",
    "def apply(f, x, y):\n",
    "    return f(x, y)\n",
    "\n",
    "# Function to add two numbers\n",
    "def add(x, y):\n",
    "    return x + y\n",
    "\n",
    "# Function to multiply two numbers\n",
    "def multiply(x, y):\n",
    "    return x * y\n",
    "\n",
    "# Using the higher-order function with different operations\n",
    "result1 = apply_operation(add, 3, 4)  # result1 = 7\n",
    "result2 = apply_operation(multiply, 3, 4)  # result2 = 12\n",
    "```\n",
    "\n",
    "In this example, `apply_operation()` is a higher-order function that accepts a function (`add` or `multiply`) as an argument along with two numbers. It applies the given operation to the numbers and returns the result.\n",
    "\n",
    "Higher-order functions provide flexibility and abstraction in programming by allowing you to write more generic and reusable code. They are a powerful tool for functional programming paradigms and can enhance the expressiveness and readability of your code."
   ]
  },
  {
   "cell_type": "markdown",
   "id": "649e80bf-1b12-4e40-acef-81efee521b57",
   "metadata": {},
   "source": [
    "### Passing functions\n",
    "\n",
    "In Python, functions can be passed as arguments to other functions, which allows for dynamic and flexible behavior in your code."
   ]
  },
  {
   "cell_type": "markdown",
   "id": "d376c102-e3aa-439c-b363-5ff57f3bdc4f",
   "metadata": {},
   "source": [
    "#### Example 1: `apply` function:\n",
    "\n",
    "The `apply` function is a higher-order function that takes three parameters: `f`, `x`, and `y`. It applies the function `f` to the arguments `x` and `y` and returns the result."
   ]
  },
  {
   "cell_type": "code",
   "execution_count": 6,
   "id": "ab424ab3-03d4-474e-9d4d-534458cfecfa",
   "metadata": {},
   "outputs": [],
   "source": [
    "def apply(f, x, y):\n",
    "    return f(x, y)"
   ]
  },
  {
   "cell_type": "code",
   "execution_count": 7,
   "id": "ea5fb56c-526b-466f-936f-b93d7fdd68de",
   "metadata": {},
   "outputs": [],
   "source": [
    "def add(x, y):\n",
    "    return x + y\n",
    "\n",
    "def multiply(x, y):\n",
    "    return x * y"
   ]
  },
  {
   "cell_type": "code",
   "execution_count": 8,
   "id": "0541e368-4916-4a7a-8c6a-a52bca202f6f",
   "metadata": {},
   "outputs": [
    {
     "data": {
      "text/plain": [
       "5"
      ]
     },
     "execution_count": 8,
     "metadata": {},
     "output_type": "execute_result"
    }
   ],
   "source": [
    "apply(add, 2, 3)"
   ]
  },
  {
   "cell_type": "code",
   "execution_count": 11,
   "id": "3dea7cc4-7a07-4b38-8a38-989407f59166",
   "metadata": {},
   "outputs": [
    {
     "data": {
      "text/plain": [
       "6"
      ]
     },
     "execution_count": 11,
     "metadata": {},
     "output_type": "execute_result"
    }
   ],
   "source": [
    "apply(multiply, 2, 3)"
   ]
  },
  {
   "cell_type": "markdown",
   "id": "7c59054f-723a-4b7b-ac5d-a6a66528fea6",
   "metadata": {},
   "source": [
    "Here's a breakdown of what the function does:\n",
    "\n",
    "1. Parameters:\n",
    "   - `f`: This parameter represents a function that will be applied to `x` and `y`. It can be any valid function that takes two arguments.\n",
    "   - `x` and `y`: These parameters represent the arguments that will be passed to the function `f`.\n",
    "\n",
    "2. Function Execution:\n",
    "   - The function `apply_operation` calls the function `f` with the arguments `x` and `y` using the syntax `f(x, y)`.\n",
    "   - The result of the function call is then returned as the output of the `apply_operation()` function.\n",
    "\n",
    "In other words, the `apply_operation` function allows you to pass any function (`f`) along with its arguments (`x` and `y`), and it will execute that function with the given arguments, returning the result."
   ]
  },
  {
   "cell_type": "markdown",
   "id": "c797cc7b-622e-43e0-b5a2-868019d9d208",
   "metadata": {},
   "source": [
    "> **We can also use `lambda` functions to be passed as arguments**"
   ]
  },
  {
   "cell_type": "code",
   "execution_count": 12,
   "id": "233cb71d-152e-41be-acf6-0aad7e061d8f",
   "metadata": {},
   "outputs": [
    {
     "data": {
      "text/plain": [
       "8"
      ]
     },
     "execution_count": 12,
     "metadata": {},
     "output_type": "execute_result"
    }
   ],
   "source": [
    "apply(lambda x, y: x ** y, 2, 3)"
   ]
  },
  {
   "cell_type": "markdown",
   "id": "4f5eae99-4a95-4388-8969-05e9b3c0d9be",
   "metadata": {},
   "source": [
    "#### Example 2: File parser\n",
    "\n",
    "This code defines a function called `parse_file` that takes two parameters: `file_path` and `line_parser`. \n",
    "\n",
    "The purpose of this function is to read a file, line by line, and apply a specified line parser function to each line. It then returns a list of the parsed lines."
   ]
  },
  {
   "cell_type": "code",
   "execution_count": 14,
   "id": "e5a76b5f-2e59-4930-aa94-f6f4122d2104",
   "metadata": {},
   "outputs": [],
   "source": [
    "def parse_file(file_path, line_parser):\n",
    "    parsed_lines = []\n",
    "    with open(file_path, mode='r') as file:\n",
    "        for line in file:\n",
    "            parsed_lines.append(line_parser(line))\n",
    "\n",
    "    return parsed_lines"
   ]
  },
  {
   "cell_type": "markdown",
   "id": "9af98415-7e74-495c-b5aa-b6d3bb2e707e",
   "metadata": {},
   "source": [
    "Here's a breakdown of how the code works:\n",
    "\n",
    "1. It initializes an empty list called `parsed_lines` to store the parsed lines.\n",
    "2. It opens the file specified by `file_path` using the `open` function in read-only mode (`'r'`) and associates it with the variable `file`.\n",
    "3. It uses a `with` statement to ensure that the file is properly closed after reading, even if an error occurs.\n",
    "4. It iterates over each line in the file using a `for` loop. The `for line in file` syntax automatically reads the file line by line.\n",
    "5. For each line, it calls the `line_parser` function, passing the current line as an argument. The returned value from the `line_parser` function is appended to the `parsed_lines` list.\n",
    "6. After all lines have been processed, it returns the `parsed_lines` list."
   ]
  },
  {
   "cell_type": "code",
   "execution_count": 22,
   "id": "938f6523-5319-4d76-97b2-5ce072bcfa83",
   "metadata": {},
   "outputs": [],
   "source": [
    "def student_parser(line):\n",
    "    name, grade_str = line.strip().split(':')\n",
    "    return name, float(grade_str)\n",
    "\n",
    "def car_parser(line):\n",
    "    owner, model, max_speed = line.strip().split('-')\n",
    "    return owner, model, float(max_speed)"
   ]
  },
  {
   "cell_type": "code",
   "execution_count": 23,
   "id": "9d07d4f9-a631-4915-add5-e207044df071",
   "metadata": {},
   "outputs": [
    {
     "data": {
      "text/plain": [
       "[('Alex', 20.0), ('John', 21.0), ('Max', 50.0), ('Eric', 10.0)]"
      ]
     },
     "execution_count": 23,
     "metadata": {},
     "output_type": "execute_result"
    }
   ],
   "source": [
    "students = parse_file('./students.txt', student_parser)\n",
    "students"
   ]
  },
  {
   "cell_type": "code",
   "execution_count": 25,
   "id": "0944b26b-36a2-4bc7-81dc-0d954ea46e67",
   "metadata": {},
   "outputs": [
    {
     "data": {
      "text/plain": [
       "[('Alex', 'Pride', 120.0),\n",
       " ('John', 'BMW', 200.0),\n",
       " ('Eric', 'Hyundai', 250.0),\n",
       " ('Max', 'Nissan', 300.0)]"
      ]
     },
     "execution_count": 25,
     "metadata": {},
     "output_type": "execute_result"
    }
   ],
   "source": [
    "cars = parse_file('./cars.txt', car_parser)\n",
    "cars"
   ]
  },
  {
   "cell_type": "markdown",
   "id": "6d47abe6-1792-418b-804f-63684031924e",
   "metadata": {},
   "source": [
    "### Returning functions\n",
    "\n",
    "Functions can return other functions as values."
   ]
  },
  {
   "cell_type": "markdown",
   "id": "d93af3e2-4f8c-4f4d-9725-d42b4dcf604b",
   "metadata": {},
   "source": [
    "#### Example 1: `create_multiplier` function\n",
    "\n",
    "In this example, the `create_multiplier` function takes a factor as an argument and returns a new function called `multiply`. The multiply function multiplies its argument by the given factor. The `create_multiplier` function essentially creates a new multiplication function based on the provided factor. "
   ]
  },
  {
   "cell_type": "code",
   "execution_count": 26,
   "id": "644c89d8-e550-4448-8cbf-1cd5d38e1404",
   "metadata": {},
   "outputs": [
    {
     "name": "stdout",
     "output_type": "stream",
     "text": [
      "10\n",
      "15\n"
     ]
    }
   ],
   "source": [
    "def create_multiplier(factor):\n",
    "    def multiply(number):\n",
    "        return number * factor\n",
    "    return multiply\n",
    "\n",
    "multiply_by_2 = create_multiplier(2)\n",
    "multiply_by_3 = create_multiplier(3)\n",
    "\n",
    "print(multiply_by_2(5))\n",
    "print(multiply_by_3(5))"
   ]
  },
  {
   "cell_type": "markdown",
   "id": "a1cc856d-31c0-46b9-9806-616cfd850a69",
   "metadata": {},
   "source": [
    "#### Example 2: File writer"
   ]
  },
  {
   "cell_type": "markdown",
   "id": "8afb4728-493c-45ef-ab0e-f92006dc7671",
   "metadata": {},
   "source": [
    "In this example we define a function called `file_writer` that takes three parameters: `file_path`, `line_formatter`, and `data_list`. This function is designed to write formatted lines of data from a list to a file."
   ]
  },
  {
   "cell_type": "code",
   "execution_count": 27,
   "id": "ca09d907-114e-48e9-85a5-55b083e541d9",
   "metadata": {},
   "outputs": [],
   "source": [
    "def file_writer(file_path, line_formatter, data_list):\n",
    "    with open(file_path, mode='w') as file:\n",
    "        for data in data_list:\n",
    "            file.write(line_formatter(data))"
   ]
  },
  {
   "cell_type": "markdown",
   "id": "00bc3ea5-b1dd-408e-9ee5-ae124f8e7ad7",
   "metadata": {},
   "source": [
    "Here's a breakdown of how the code works:\n",
    "\n",
    "1. It opens the file specified by `file_path` using the `open` function in write mode (`'w'`) and associates it with the variable `file`. If the file does not exist, it will be created. If it does exist, its contents will be overwritten.\n",
    "2. It uses a `with` statement to ensure that the file is properly closed after writing, even if an error occurs.\n",
    "3. It iterates over each item in the `data_list` using a `for` loop. \n",
    "4. For each item, it calls the `line_formatter` function, passing the current item as an argument. The returned value from the `line_formatter` function is written to the file using the `write` method.\n",
    "5. After all items have been processed and written to the file, the function execution completes."
   ]
  },
  {
   "cell_type": "code",
   "execution_count": 41,
   "id": "810bc9d3-9f5a-4a3a-87e1-08ee22757da2",
   "metadata": {},
   "outputs": [],
   "source": [
    "class Student:\n",
    "    def __init__(self, name, grade):\n",
    "        self.name = name\n",
    "        self.grade = grade"
   ]
  },
  {
   "cell_type": "code",
   "execution_count": 42,
   "id": "1adec154-b5c9-4df8-a8a4-4b5de9b86954",
   "metadata": {},
   "outputs": [],
   "source": [
    "def student_formatter(student):\n",
    "    name, grade = student.name, student.grade\n",
    "    return f'{name}:{grade}\\n'"
   ]
  },
  {
   "cell_type": "code",
   "execution_count": 43,
   "id": "bb48bc04-b1ea-4107-9fa0-d62d098a750b",
   "metadata": {},
   "outputs": [],
   "source": [
    "students = [\n",
    "    Student('Alex', 10),\n",
    "    Student('John', 20),\n",
    "    Student('Max', 19.5)\n",
    "]"
   ]
  },
  {
   "cell_type": "code",
   "execution_count": 44,
   "id": "78c3ec10-f6d1-4f8f-8b22-d98d7b4655dc",
   "metadata": {},
   "outputs": [],
   "source": [
    "file_writer('./students_w.txt', student_formatter, students)"
   ]
  }
 ],
 "metadata": {
  "kernelspec": {
   "display_name": "Python 3 (ipykernel)",
   "language": "python",
   "name": "python3"
  },
  "language_info": {
   "codemirror_mode": {
    "name": "ipython",
    "version": 3
   },
   "file_extension": ".py",
   "mimetype": "text/x-python",
   "name": "python",
   "nbconvert_exporter": "python",
   "pygments_lexer": "ipython3",
   "version": "3.11.4"
  }
 },
 "nbformat": 4,
 "nbformat_minor": 5
}
