{
 "cells": [
  {
   "cell_type": "markdown",
   "id": "772dd94a-2f65-4515-a0f3-28fd0b3d0f01",
   "metadata": {},
   "source": [
    "## Closures\n",
    "\n",
    "In Python, a closure is a function object that remembers values in the enclosing scope. It's a combination of a function and the environment in which it was defined.\n",
    "\n",
    "To understand closures, let's consider an example:\n",
    "\n",
    "```python\n",
    "def outer_function(x):\n",
    "    def inner_function(y):\n",
    "        return x + y\n",
    "    return inner_function\n",
    "\n",
    "closure = outer_function(10)\n",
    "print(closure(5))  # Output: 15\n",
    "```\n",
    "\n",
    "In this example, we have an outer function called `outer_function` that takes a parameter `x`. Inside `outer_function`, there is another function called `inner_function` that takes a parameter `y` and returns the sum of `x` and `y`. The `inner_function` is defined and returned from `outer_function`.\n",
    "\n",
    "When we call `outer_function(10)`, it returns the `inner_function` object. This returned function, `closure`, is a closure because it remembers the value of `x` (which is 10) from the `outer_function` even after the `outer_function` has finished executing.\n",
    "\n",
    "Now, when we call `closure(5)`, it adds the value `5` (passed as `y`) to the remembered value of `x` (which is `10`), resulting in `15`.\n",
    "\n",
    "Closures are useful in situations where we want to create functions with some pre-defined behavior or configuration. They can be used to create functions on the fly that \"remember\" certain values or settings from the enclosing scope, even after the scope is no longer active.\n",
    "\n",
    "Closures are commonly used in functional programming, decorators, and callback functions, among other applications. They provide flexibility and enable powerful programming techniques in Python."
   ]
  },
  {
   "cell_type": "code",
   "execution_count": 1,
   "id": "4df36aae-33fe-47e5-b5f8-af99c7188ab0",
   "metadata": {},
   "outputs": [
    {
     "name": "stdout",
     "output_type": "stream",
     "text": [
      "15\n"
     ]
    }
   ],
   "source": [
    "def outer_function(x):\n",
    "    def inner_function(y):\n",
    "        return x + y\n",
    "    return inner_function\n",
    "\n",
    "closure = outer_function(10)\n",
    "print(closure(5))"
   ]
  },
  {
   "cell_type": "markdown",
   "id": "32235659-03fa-4b6e-9090-5a7c7c99dcc8",
   "metadata": {
    "tags": []
   },
   "source": [
    "### Closure rules\n",
    "\n",
    "In Python, closures follow a set of rules that determine how they behave. These rules include:\n",
    "\n",
    "1. Closures are created when a nested function references variables from its containing function. The closure \"closes over\" the variables it references, capturing their values at the time of creation.\n",
    "\n",
    "1. Closures have access to variables from their enclosing scope even after the enclosing scope has finished executing or the variables have gone out of scope.\n",
    "\n",
    "1. **Closures are read-only. They can access and use the values of variables from the enclosing scope, but they cannot modify those variables directly. To modify variables from the enclosing scope, the `nonlocal` keyword is used.**\n"
   ]
  },
  {
   "cell_type": "code",
   "execution_count": 14,
   "id": "b150cc4c-e646-4504-8a22-ff0163726d8d",
   "metadata": {},
   "outputs": [],
   "source": [
    "def outer():\n",
    "    c = 0\n",
    "    def inner():\n",
    "        c = 100\n",
    "        return c * 10\n",
    "    \n",
    "    return inner"
   ]
  },
  {
   "cell_type": "code",
   "execution_count": 15,
   "id": "65cc744d-e49b-43e4-87f7-ea73bed04d9a",
   "metadata": {},
   "outputs": [
    {
     "data": {
      "text/plain": [
       "1000"
      ]
     },
     "execution_count": 15,
     "metadata": {},
     "output_type": "execute_result"
    }
   ],
   "source": [
    "f = outer()\n",
    "f()"
   ]
  },
  {
   "cell_type": "markdown",
   "id": "c21eef6a-a976-4c7b-97c2-da6430a33457",
   "metadata": {},
   "source": [
    "#### Example 1: Counter\n",
    "\n",
    "The code you provided defines a function called `create_counter` that does not take any parameters. Inside `create_counter`, there is a variable `c` initialized with the value 0. Additionally, there is another function called `counter` defined within `create_counter`. The `counter` function does not take any parameters either.\n",
    "\n",
    "In the `counter` function, there is an assignment statement `c = c + 1` that attempts to increment the value of `c` by 1. However, this assignment will result in an UnboundLocalError because the variable `c` is considered local to the `counter` function, and it is referenced before being assigned a value."
   ]
  },
  {
   "cell_type": "code",
   "execution_count": 11,
   "id": "fde8579b-5b52-4322-8fe1-cf4f0e3fa8f6",
   "metadata": {},
   "outputs": [],
   "source": [
    "def create_counter():\n",
    "    c = 0\n",
    "    def counter():\n",
    "        c = c + 1\n",
    "        return c\n",
    "    \n",
    "    return counter"
   ]
  },
  {
   "cell_type": "code",
   "execution_count": 12,
   "id": "3c7b8813-8db3-49fb-b840-0f02c9ca7f94",
   "metadata": {},
   "outputs": [],
   "source": [
    "my_counter = create_counter()"
   ]
  },
  {
   "cell_type": "code",
   "execution_count": 13,
   "id": "f14397b0-6315-4ff5-9393-8ea622bf3d63",
   "metadata": {},
   "outputs": [
    {
     "ename": "UnboundLocalError",
     "evalue": "local variable 'c' referenced before assignment",
     "output_type": "error",
     "traceback": [
      "\u001b[0;31m---------------------------------------------------------------------------\u001b[0m",
      "\u001b[0;31mUnboundLocalError\u001b[0m                         Traceback (most recent call last)",
      "Input \u001b[0;32mIn [13]\u001b[0m, in \u001b[0;36m<cell line: 1>\u001b[0;34m()\u001b[0m\n\u001b[0;32m----> 1\u001b[0m \u001b[43mmy_counter\u001b[49m\u001b[43m(\u001b[49m\u001b[43m)\u001b[49m\n",
      "Input \u001b[0;32mIn [11]\u001b[0m, in \u001b[0;36mcreate_counter.<locals>.counter\u001b[0;34m()\u001b[0m\n\u001b[1;32m      3\u001b[0m \u001b[38;5;28;01mdef\u001b[39;00m \u001b[38;5;21mcounter\u001b[39m():\n\u001b[0;32m----> 4\u001b[0m     c \u001b[38;5;241m=\u001b[39m \u001b[43mc\u001b[49m \u001b[38;5;241m+\u001b[39m \u001b[38;5;241m1\u001b[39m\n\u001b[1;32m      5\u001b[0m     \u001b[38;5;28;01mreturn\u001b[39;00m c\n",
      "\u001b[0;31mUnboundLocalError\u001b[0m: local variable 'c' referenced before assignment"
     ]
    }
   ],
   "source": [
    "my_counter()"
   ]
  },
  {
   "cell_type": "markdown",
   "id": "3a24881d-cdb9-4502-9610-72cd40790298",
   "metadata": {},
   "source": [
    "> **To fix this issue and create a closure that properly increments the counter, you can use the `nonlocal` keyword to indicate that `c` refers to the variable from the enclosing scope. Here's an updated version of the code:**"
   ]
  },
  {
   "cell_type": "code",
   "execution_count": 16,
   "id": "934c2c44-107e-440e-b683-287d2f55ce1c",
   "metadata": {},
   "outputs": [],
   "source": [
    "def create_counter():\n",
    "    c = 0\n",
    "    def counter():\n",
    "        nonlocal c\n",
    "        c = c + 1\n",
    "        return c\n",
    "    \n",
    "    return counter"
   ]
  },
  {
   "cell_type": "code",
   "execution_count": 17,
   "id": "280a87f2-364a-410d-9023-89d504e3d816",
   "metadata": {},
   "outputs": [],
   "source": [
    "my_counter = create_counter()"
   ]
  },
  {
   "cell_type": "code",
   "execution_count": 18,
   "id": "8017d609-5feb-4d89-b145-25e34ea869a2",
   "metadata": {},
   "outputs": [
    {
     "data": {
      "text/plain": [
       "1"
      ]
     },
     "execution_count": 18,
     "metadata": {},
     "output_type": "execute_result"
    }
   ],
   "source": [
    "my_counter()"
   ]
  },
  {
   "cell_type": "code",
   "execution_count": 19,
   "id": "03e16f2a-a345-41a4-9bc0-a1db755dc758",
   "metadata": {},
   "outputs": [
    {
     "data": {
      "text/plain": [
       "2"
      ]
     },
     "execution_count": 19,
     "metadata": {},
     "output_type": "execute_result"
    }
   ],
   "source": [
    "my_counter()"
   ]
  },
  {
   "cell_type": "markdown",
   "id": "1f3687c8-fe91-494a-b150-1028dc194cb8",
   "metadata": {},
   "source": [
    "#### Example 2: Greet creator\n",
    "\n",
    "The code you provided defines a function called `create_greet` that takes a parameter `name`. Inside `create_greet`, there is another function called `greet` that does not take any parameters. The `greet` function simply prints a greeting message using the `name` parameter from the enclosing scope.\n",
    "\n",
    "The `create_greet` function returns the `greet` function itself. This returned function, `greet`, is a closure because it remembers the value of `name` from the `create_greet` function even after the `create_greet` function has finished executing.\n"
   ]
  },
  {
   "cell_type": "code",
   "execution_count": 20,
   "id": "050d6095-416a-47ed-89e5-00e6474ac196",
   "metadata": {},
   "outputs": [],
   "source": [
    "def create_greet(name):\n",
    "    def greet():\n",
    "        print(f'Hello {name}')\n",
    "    \n",
    "    return greet"
   ]
  },
  {
   "cell_type": "code",
   "execution_count": 21,
   "id": "f8586f28-0a9a-459b-ac53-4d43df393370",
   "metadata": {},
   "outputs": [
    {
     "name": "stdout",
     "output_type": "stream",
     "text": [
      "Hello Alex\n"
     ]
    }
   ],
   "source": [
    "greet_alex = create_greet('Alex')\n",
    "greet_alex()"
   ]
  }
 ],
 "metadata": {
  "kernelspec": {
   "display_name": "Python 3 (ipykernel)",
   "language": "python",
   "name": "python3"
  },
  "language_info": {
   "codemirror_mode": {
    "name": "ipython",
    "version": 3
   },
   "file_extension": ".py",
   "mimetype": "text/x-python",
   "name": "python",
   "nbconvert_exporter": "python",
   "pygments_lexer": "ipython3",
   "version": "3.9.7"
  }
 },
 "nbformat": 4,
 "nbformat_minor": 5
}
