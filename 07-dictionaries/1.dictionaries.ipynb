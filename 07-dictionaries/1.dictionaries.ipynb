{
 "cells": [
  {
   "cell_type": "markdown",
   "id": "e145b521-4450-4ed6-8368-a67a6ca173e2",
   "metadata": {},
   "source": [
    "## Dictionary\n",
    "\n",
    "A dictionary is an unordered collection of key-value pairs, where each key is unique and associated with a value. Dictionaries are one of the built-in data types in Python, along with lists, tuples, and sets.\n",
    "\n",
    "Dictionaries are often used to store and retrieve data based on a unique identifier, such as a word in a dictionary or a user ID in a database. The keys in a dictionary can be of any hashable data type, such as strings, numbers, or tuples, while the values can be of any data type, including other dictionaries.\n",
    "\n",
    "You can create a dictionary in Python by enclosing a comma-separated list of key-value pairs in curly braces `{}` or by using the built-in `dict()` constructor. Here's an example of a dictionary that maps fruit names to their colors:\n",
    "\n",
    "```python\n",
    "fruit_to_color = {'apple': 'red', 'banana': 'yellow', 'kiwi': 'green'}\n",
    "```\n",
    "\n",
    "You can access the value associated with a key in a dictionary by using bracket notation `[]` with the key as the index. For example:\n",
    "\n",
    "```python\n",
    "print(fruit_to_color['apple'])  # prints 'red'\n",
    "```\n",
    "\n",
    "Dictionaries are one of the most important data structures in Python. we don't always see them, but they are operating in shadows!."
   ]
  },
  {
   "cell_type": "markdown",
   "id": "b70ab72e-5283-4266-b37c-04a72b44b546",
   "metadata": {},
   "source": [
    "### Defining dictionaries\n",
    "\n",
    "You can create a dictionary in Python by enclosing a comma-separated list of key-value pairs in curly braces `{}` or by using the built-in `dict()` constructor."
   ]
  },
  {
   "cell_type": "code",
   "execution_count": 9,
   "id": "fa51e766-8ebb-4674-b826-2c5ed5ddf9e5",
   "metadata": {},
   "outputs": [
    {
     "data": {
      "text/plain": [
       "{'apple': 'red', 'banana': 'yellow', 'kiwi': 'green'}"
      ]
     },
     "execution_count": 9,
     "metadata": {},
     "output_type": "execute_result"
    }
   ],
   "source": [
    "fruit_to_color = {'apple': 'red', 'banana': 'yellow', 'kiwi': 'green'}\n",
    "\n",
    "fruit_to_color"
   ]
  },
  {
   "cell_type": "code",
   "execution_count": 10,
   "id": "d4dedae1-3d06-444f-a1e9-c793b97b1499",
   "metadata": {},
   "outputs": [
    {
     "name": "stdout",
     "output_type": "stream",
     "text": [
      "red\n"
     ]
    }
   ],
   "source": [
    "print(fruit_to_color['apple'])"
   ]
  },
  {
   "cell_type": "code",
   "execution_count": 27,
   "id": "986c69a3-5a10-4764-a700-cf1dfca01412",
   "metadata": {},
   "outputs": [
    {
     "data": {
      "text/plain": [
       "dict"
      ]
     },
     "execution_count": 27,
     "metadata": {},
     "output_type": "execute_result"
    }
   ],
   "source": [
    "type(fruit_to_color)"
   ]
  },
  {
   "cell_type": "code",
   "execution_count": 11,
   "id": "757620cc-fa71-4829-834e-0fa6633ce693",
   "metadata": {},
   "outputs": [
    {
     "data": {
      "text/plain": [
       "{'Alex': 20, 'John': 30, 'Eric': 25}"
      ]
     },
     "execution_count": 11,
     "metadata": {},
     "output_type": "execute_result"
    }
   ],
   "source": [
    "name_to_age = {\n",
    "    'Alex': 20,\n",
    "    'John': 30,\n",
    "    'Eric': 25\n",
    "}\n",
    "\n",
    "name_to_age"
   ]
  },
  {
   "cell_type": "code",
   "execution_count": 12,
   "id": "b9c1b713-90fd-4a27-a75e-047a37abe9ad",
   "metadata": {},
   "outputs": [
    {
     "data": {
      "text/plain": [
       "20"
      ]
     },
     "execution_count": 12,
     "metadata": {},
     "output_type": "execute_result"
    }
   ],
   "source": [
    "name_to_age['Alex']"
   ]
  },
  {
   "cell_type": "markdown",
   "id": "14311ab8-e6df-46e3-9eaf-dfa42440a536",
   "metadata": {},
   "source": [
    "> **We can also define dictonaries using `dict()`**"
   ]
  },
  {
   "cell_type": "code",
   "execution_count": 14,
   "id": "988ef30c-0691-4a17-b991-19440afdecde",
   "metadata": {},
   "outputs": [
    {
     "data": {
      "text/plain": [
       "{'apple': 20, 'banana': 30, 'kiwi': 40}"
      ]
     },
     "execution_count": 14,
     "metadata": {},
     "output_type": "execute_result"
    }
   ],
   "source": [
    "fruit_to_price = dict(apple=20, banana=30, kiwi=40)\n",
    "fruit_to_price"
   ]
  },
  {
   "cell_type": "markdown",
   "id": "90370820-94ef-456b-8f95-ca507be78196",
   "metadata": {},
   "source": [
    "> **The keys don't need to be string**"
   ]
  },
  {
   "cell_type": "code",
   "execution_count": 15,
   "id": "9ee2e5d4-a0c3-4143-b5ec-1eac27819650",
   "metadata": {},
   "outputs": [],
   "source": [
    "d = {\n",
    "    1: 'Hi',\n",
    "    2: 'bye',\n",
    "    113: 900.9\n",
    "}"
   ]
  },
  {
   "cell_type": "code",
   "execution_count": 16,
   "id": "d45b3183-def3-4889-a88f-a1bf44c05604",
   "metadata": {},
   "outputs": [
    {
     "data": {
      "text/plain": [
       "'Hi'"
      ]
     },
     "execution_count": 16,
     "metadata": {},
     "output_type": "execute_result"
    }
   ],
   "source": [
    "d[1]"
   ]
  },
  {
   "cell_type": "code",
   "execution_count": 17,
   "id": "df3645bf-d06c-4ef9-bba5-fe935e6d2372",
   "metadata": {},
   "outputs": [
    {
     "data": {
      "text/plain": [
       "900.9"
      ]
     },
     "execution_count": 17,
     "metadata": {},
     "output_type": "execute_result"
    }
   ],
   "source": [
    "d[113]"
   ]
  },
  {
   "cell_type": "markdown",
   "id": "8f53d7d0-9c88-486a-abbd-c7b795af7005",
   "metadata": {
    "tags": []
   },
   "source": [
    "### Hashmaps\n",
    "\n",
    "In Python, dictionaries are implemented using a hash table, which is a data structure that uses a hash function to map keys to their corresponding values in constant time. This means that the time taken to access an element in a dictionary doesn't depend on the size of the dictionary, but rather on the time taken to compute the hash function.\n",
    "\n",
    "When a Python dictionary is created, an underlying array is allocated in memory to hold the key-value pairs. Each key is passed through a hash function, which computes the hash code for the key. The hash code is then used to calculate the index in the underlying array where the key-value pair should be stored.\n",
    "\n",
    "If two different keys happen to have the same hash code, a collision occurs. To handle collisions, the Python dictionary uses a technique called chaining, where multiple key-value pairs with the same hash code are stored in a linked list at the corresponding index in the array.\n",
    "\n",
    "When you try to access a value in a dictionary using a key, Python first computes the hash code for the key and then looks up the corresponding index in the array. If there is only one key-value pair at that index, the value is returned. If there are multiple key-value pairs due to collisions, Python iterates through the linked list until it finds a key that matches the input key, and then returns the corresponding value.\n",
    "\n",
    "Overall, the use of hash tables in Python dictionaries allows for constant-time access to key-value pairs, making dictionaries a very efficient data structure for storing and retrieving data.\n",
    "\n",
    "<img src=\"./pics/hash_table.png\" alt=\"hash table\" width=\"500\" height=\"300\">\n",
    "\n",
    "See [this video](https://www.youtube.com/watch?v=0M_kIqhwbFo) for more information on hashmaps.\n",
    "\n",
    "> **Keys for dictionary must be hashable**"
   ]
  },
  {
   "cell_type": "code",
   "execution_count": 23,
   "id": "368dce7e-15e7-41e5-9ddc-e5541141099e",
   "metadata": {},
   "outputs": [
    {
     "data": {
      "text/plain": [
       "-3945519314992996376"
      ]
     },
     "execution_count": 23,
     "metadata": {},
     "output_type": "execute_result"
    }
   ],
   "source": [
    "hash('Hello')"
   ]
  },
  {
   "cell_type": "code",
   "execution_count": 24,
   "id": "d25c7e44-9f4b-413f-a73e-154f0488313b",
   "metadata": {},
   "outputs": [
    {
     "data": {
      "text/plain": [
       "1002"
      ]
     },
     "execution_count": 24,
     "metadata": {},
     "output_type": "execute_result"
    }
   ],
   "source": [
    "hash(1002)"
   ]
  },
  {
   "cell_type": "code",
   "execution_count": 25,
   "id": "7686b1c5-447d-4236-a43f-5373d02a58b8",
   "metadata": {},
   "outputs": [
    {
     "data": {
      "text/plain": [
       "529344067295497451"
      ]
     },
     "execution_count": 25,
     "metadata": {},
     "output_type": "execute_result"
    }
   ],
   "source": [
    "hash((1,2,3))"
   ]
  },
  {
   "cell_type": "code",
   "execution_count": 26,
   "id": "96f6b661-0fa9-41a4-a262-953fab663fe9",
   "metadata": {},
   "outputs": [
    {
     "ename": "TypeError",
     "evalue": "unhashable type: 'list'",
     "output_type": "error",
     "traceback": [
      "\u001b[0;31m---------------------------------------------------------------------------\u001b[0m",
      "\u001b[0;31mTypeError\u001b[0m                                 Traceback (most recent call last)",
      "Input \u001b[0;32mIn [26]\u001b[0m, in \u001b[0;36m<cell line: 1>\u001b[0;34m()\u001b[0m\n\u001b[0;32m----> 1\u001b[0m \u001b[38;5;28;43mhash\u001b[39;49m\u001b[43m(\u001b[49m\u001b[43m[\u001b[49m\u001b[38;5;241;43m1\u001b[39;49m\u001b[43m,\u001b[49m\u001b[38;5;241;43m2\u001b[39;49m\u001b[43m,\u001b[49m\u001b[38;5;241;43m3\u001b[39;49m\u001b[43m]\u001b[49m\u001b[43m)\u001b[49m\n",
      "\u001b[0;31mTypeError\u001b[0m: unhashable type: 'list'"
     ]
    }
   ],
   "source": [
    "hash([1,2,3])"
   ]
  },
  {
   "cell_type": "markdown",
   "id": "a317152f-7a0c-4e3e-8edd-b4557b7bd818",
   "metadata": {},
   "source": [
    "> **List is not hashable so can not be used as a key**"
   ]
  },
  {
   "cell_type": "code",
   "execution_count": 19,
   "id": "e6009939-7cc0-4c9a-a9a1-f2e3ddd95711",
   "metadata": {},
   "outputs": [
    {
     "ename": "TypeError",
     "evalue": "unhashable type: 'list'",
     "output_type": "error",
     "traceback": [
      "\u001b[0;31m---------------------------------------------------------------------------\u001b[0m",
      "\u001b[0;31mTypeError\u001b[0m                                 Traceback (most recent call last)",
      "Input \u001b[0;32mIn [19]\u001b[0m, in \u001b[0;36m<cell line: 2>\u001b[0;34m()\u001b[0m\n\u001b[0;32m----> 1\u001b[0m d \u001b[38;5;241m=\u001b[39m {\n\u001b[1;32m      2\u001b[0m     [\u001b[38;5;241m1\u001b[39m,\u001b[38;5;241m2\u001b[39m,\u001b[38;5;241m3\u001b[39m]: \u001b[38;5;124m'\u001b[39m\u001b[38;5;124mList1\u001b[39m\u001b[38;5;124m'\u001b[39m,\n\u001b[1;32m      3\u001b[0m     [\u001b[38;5;241m4\u001b[39m,\u001b[38;5;241m5\u001b[39m,\u001b[38;5;241m6\u001b[39m]: \u001b[38;5;124m'\u001b[39m\u001b[38;5;124mHi\u001b[39m\u001b[38;5;124m'\u001b[39m\n\u001b[1;32m      4\u001b[0m }\n",
      "\u001b[0;31mTypeError\u001b[0m: unhashable type: 'list'"
     ]
    }
   ],
   "source": [
    "d = {\n",
    "    [1,2,3]: 'List1',\n",
    "    [4,5,6]: 'Hi'\n",
    "}"
   ]
  },
  {
   "cell_type": "markdown",
   "id": "d7278a42-0603-4835-8b66-dbbd08114f68",
   "metadata": {},
   "source": [
    "> **But tuple is hashable if all elements in tuple are hashable**"
   ]
  },
  {
   "cell_type": "code",
   "execution_count": 20,
   "id": "d7a6b342-3334-4c41-9caa-98bc3547f1a9",
   "metadata": {},
   "outputs": [],
   "source": [
    "d = {\n",
    "    (1,2,3): 'List1',\n",
    "    (4,5,6): 'Hi'\n",
    "}"
   ]
  },
  {
   "cell_type": "code",
   "execution_count": 22,
   "id": "9ac32854-55e6-4017-ab54-726b6fb1d8e5",
   "metadata": {},
   "outputs": [
    {
     "data": {
      "text/plain": [
       "'List1'"
      ]
     },
     "execution_count": 22,
     "metadata": {},
     "output_type": "execute_result"
    }
   ],
   "source": [
    "d[(1,2,3)]"
   ]
  },
  {
   "cell_type": "markdown",
   "id": "9312a3a6-adb7-4937-a175-2aa7929659b0",
   "metadata": {},
   "source": [
    "### Hashable types\n",
    "\n",
    "Here's a list of hashable types in Python:\n",
    "\n",
    "1. Numbers (int, float, complex)\n",
    "2. Booleans (True, False)\n",
    "3. Strings (str)\n",
    "4. Tuples (tuple)\n",
    "5. Frozen sets (frozenset)\n",
    "6. Bytes (bytes)\n",
    "7. Byte arrays (bytearray)\n",
    "8. Enumerations (enum.Enum)\n",
    "9. User-defined classes that implement the **`__hash__`** method.\n",
    "\n",
    "Note that hashable types are those that can be used as keys in a dictionary or as elements in a set, since these data structures rely on hash codes for efficient lookup and comparison. The hashable types listed above are all immutable, meaning their values cannot be changed once they are created. This is a requirement for hashable types, since the hash code of an object must be consistent throughout its lifetime.\n",
    "\n",
    "Mutable types such as lists and dictionaries are not hashable, since their values can change over time, and their hash codes would need to be recalculated each time a value changes."
   ]
  },
  {
   "cell_type": "markdown",
   "id": "31f67c78-dcb0-46ad-b1ff-0cb6764aa4bc",
   "metadata": {},
   "source": [
    "### Notes on dictonaries in Python\n",
    "\n",
    "* A dictionary is a data structure that associates a value to a key.\n",
    "    * Both value and key are Python objects.\n",
    "    * key must be a hashable type.\n",
    "    * value can be any type.\n",
    "    * type is `dict`.\n",
    "    * it is a collection of `key:value` pairs.\n",
    "    * it is iterable.\n",
    "        * but it is not a sequence type.\n",
    "        * values are looked up by key, not by index.\n",
    "        * techncally there is no orderig in a dictionary (well there is but you assume there is not!)."
   ]
  },
  {
   "cell_type": "markdown",
   "id": "05718498-1c6f-46dc-a403-7c4ffe699677",
   "metadata": {},
   "source": [
    "### Iterating dictionaries\n",
    "\n",
    "You can iterate on a dictionary"
   ]
  },
  {
   "cell_type": "code",
   "execution_count": 28,
   "id": "ca7d5dd3-3a40-445d-ade6-931e9ebed0ab",
   "metadata": {},
   "outputs": [
    {
     "name": "stdout",
     "output_type": "stream",
     "text": [
      "Alex\n",
      "John\n",
      "Eric\n"
     ]
    }
   ],
   "source": [
    "name_to_age = {\n",
    "    'Alex': 20,\n",
    "    'John': 30,\n",
    "    'Eric': 25\n",
    "}\n",
    "\n",
    "for key in name_to_age:\n",
    "    print(key)"
   ]
  },
  {
   "cell_type": "code",
   "execution_count": 29,
   "id": "a857eb8b-991b-4829-bc79-0c89b2037bf6",
   "metadata": {},
   "outputs": [
    {
     "name": "stdout",
     "output_type": "stream",
     "text": [
      "Alex: 20\n",
      "John: 30\n",
      "Eric: 25\n"
     ]
    }
   ],
   "source": [
    "for key in name_to_age:\n",
    "    print(f'{key}: {name_to_age[key]}')"
   ]
  },
  {
   "cell_type": "markdown",
   "id": "acf425f0-5a29-4a7a-b5d3-7d51fdbe70f6",
   "metadata": {},
   "source": [
    "### Adding a new key to a dictionary\n",
    "\n",
    "You can add a new `key:value` pair to a dictionary by simple assigning a value to a new key."
   ]
  },
  {
   "cell_type": "code",
   "execution_count": 30,
   "id": "e216fad0-8115-49fe-96dc-e0cefd1fd881",
   "metadata": {},
   "outputs": [
    {
     "data": {
      "text/plain": [
       "{'Alex': 20}"
      ]
     },
     "execution_count": 30,
     "metadata": {},
     "output_type": "execute_result"
    }
   ],
   "source": [
    "name_to_age = {'Alex': 20}\n",
    "name_to_age"
   ]
  },
  {
   "cell_type": "code",
   "execution_count": 32,
   "id": "cc2df8a5-4d3e-414d-9cc1-78ba6bc0d7dc",
   "metadata": {},
   "outputs": [
    {
     "data": {
      "text/plain": [
       "{'Alex': 20, 'John': 30}"
      ]
     },
     "execution_count": 32,
     "metadata": {},
     "output_type": "execute_result"
    }
   ],
   "source": [
    "name_to_age['John'] = 30\n",
    "name_to_age"
   ]
  },
  {
   "cell_type": "markdown",
   "id": "2f260f2e-9f1a-4f7b-a3a7-a83b0e443472",
   "metadata": {},
   "source": [
    "### Updating a key\n",
    "\n",
    "Updating a key is just like adding a new key!"
   ]
  },
  {
   "cell_type": "code",
   "execution_count": 33,
   "id": "825c759c-0404-4e55-99fa-863bd0f838cf",
   "metadata": {},
   "outputs": [
    {
     "data": {
      "text/plain": [
       "{'Alex': 20}"
      ]
     },
     "execution_count": 33,
     "metadata": {},
     "output_type": "execute_result"
    }
   ],
   "source": [
    "name_to_age = {'Alex': 20}\n",
    "name_to_age"
   ]
  },
  {
   "cell_type": "code",
   "execution_count": 34,
   "id": "ac8246d8-b19c-404c-805b-1a793c1c8717",
   "metadata": {},
   "outputs": [
    {
     "data": {
      "text/plain": [
       "{'Alex': 25}"
      ]
     },
     "execution_count": 34,
     "metadata": {},
     "output_type": "execute_result"
    }
   ],
   "source": [
    "name_to_age['Alex'] = 25\n",
    "name_to_age"
   ]
  },
  {
   "cell_type": "markdown",
   "id": "d3ed5ba1-c4a2-433a-ba36-b0c4b02a00c9",
   "metadata": {},
   "source": [
    "### Deleteing a `key:value` pair\n",
    "\n",
    "We can remove a `key:value` pair from a dictionary using `del` keyword."
   ]
  },
  {
   "cell_type": "code",
   "execution_count": 35,
   "id": "f8fec967-cf6d-427b-8742-67859576049d",
   "metadata": {},
   "outputs": [
    {
     "data": {
      "text/plain": [
       "{'apple': 'red', 'banana': 'yellow', 'kiwi': 'green'}"
      ]
     },
     "execution_count": 35,
     "metadata": {},
     "output_type": "execute_result"
    }
   ],
   "source": [
    "fruit_to_color = {\n",
    "    'apple': 'red',\n",
    "    'banana': 'yellow',\n",
    "    'kiwi': 'green'\n",
    "}\n",
    "\n",
    "fruit_to_color"
   ]
  },
  {
   "cell_type": "code",
   "execution_count": 36,
   "id": "d9e4c645-0f60-4d27-8a18-ef3039611473",
   "metadata": {},
   "outputs": [
    {
     "data": {
      "text/plain": [
       "{'banana': 'yellow', 'kiwi': 'green'}"
      ]
     },
     "execution_count": 36,
     "metadata": {},
     "output_type": "execute_result"
    }
   ],
   "source": [
    "del fruit_to_color['apple']\n",
    "\n",
    "fruit_to_color"
   ]
  },
  {
   "cell_type": "markdown",
   "id": "065abaa8-d2b5-4112-a944-2a8fc13ac9a0",
   "metadata": {},
   "source": [
    "### Common Exception\n",
    "\n",
    "`KeyError` is a common exception that can occur when working with dictionaries in Python. It is raised when you try to access a key in a dictionary that does not exist.\n",
    "\n",
    "Here's an example that demonstrates a `KeyError` exception:\n",
    "\n",
    "```python\n",
    "my_dict = {'a': 1, 'b': 2, 'c': 3}\n",
    "value = my_dict['d']  # Raises KeyError: 'd'\n",
    "```\n",
    "\n",
    "In this example, we have a dictionary `my_dict` with three key-value pairs. We then try to access the value associated with the key `'d'`, which does not exist in the dictionary. This results in a `KeyError` exception, since Python cannot find a value associated with the key `'d'`.\n",
    "\n",
    "To avoid a `KeyError`, you can use the `get()` method of dictionaries, which returns `None` if the key is not found in the dictionary instead of raising a `KeyError`.\n",
    "\n",
    "```python\n",
    "my_dict = {'a': 1, 'b': 2, 'c': 3}\n",
    "value = my_dict.get('d')  # Returns None\n",
    "```\n",
    "\n",
    "In this example, the `get()` method is used to retrieve the value associated with the key `'d'`. Since the key is not present in the dictionary, the method returns `None` instead of raising a `KeyError`."
   ]
  },
  {
   "cell_type": "code",
   "execution_count": 41,
   "id": "982b9426-4665-46ae-9dbd-981f150f7fcf",
   "metadata": {},
   "outputs": [
    {
     "ename": "KeyError",
     "evalue": "'d'",
     "output_type": "error",
     "traceback": [
      "\u001b[0;31m---------------------------------------------------------------------------\u001b[0m",
      "\u001b[0;31mKeyError\u001b[0m                                  Traceback (most recent call last)",
      "Input \u001b[0;32mIn [41]\u001b[0m, in \u001b[0;36m<cell line: 2>\u001b[0;34m()\u001b[0m\n\u001b[1;32m      1\u001b[0m my_dict \u001b[38;5;241m=\u001b[39m {\u001b[38;5;124m'\u001b[39m\u001b[38;5;124ma\u001b[39m\u001b[38;5;124m'\u001b[39m: \u001b[38;5;241m1\u001b[39m, \u001b[38;5;124m'\u001b[39m\u001b[38;5;124mb\u001b[39m\u001b[38;5;124m'\u001b[39m: \u001b[38;5;241m2\u001b[39m, \u001b[38;5;124m'\u001b[39m\u001b[38;5;124mc\u001b[39m\u001b[38;5;124m'\u001b[39m: \u001b[38;5;241m3\u001b[39m}\n\u001b[0;32m----> 2\u001b[0m \u001b[38;5;28mprint\u001b[39m(\u001b[43mmy_dict\u001b[49m\u001b[43m[\u001b[49m\u001b[38;5;124;43m'\u001b[39;49m\u001b[38;5;124;43md\u001b[39;49m\u001b[38;5;124;43m'\u001b[39;49m\u001b[43m]\u001b[49m)\n",
      "\u001b[0;31mKeyError\u001b[0m: 'd'"
     ]
    }
   ],
   "source": [
    "my_dict = {'a': 1, 'b': 2, 'c': 3}\n",
    "print(my_dict['d'])"
   ]
  },
  {
   "cell_type": "code",
   "execution_count": 43,
   "id": "c04eb9b7-7e45-44f5-aa43-23a0257b137e",
   "metadata": {},
   "outputs": [
    {
     "name": "stdout",
     "output_type": "stream",
     "text": [
      "None\n"
     ]
    }
   ],
   "source": [
    "print(my_dict.get('d'))"
   ]
  },
  {
   "cell_type": "code",
   "execution_count": 40,
   "id": "66236920-c467-4712-beb4-9523cfbe3a36",
   "metadata": {},
   "outputs": [],
   "source": [
    "if 'd' in my_dict:\n",
    "    print(my_dict['d'])"
   ]
  },
  {
   "cell_type": "markdown",
   "id": "0bc85e11-f232-432d-8787-03b4ce7119b4",
   "metadata": {},
   "source": [
    "> **Trying to delete a non-existent key also raises a `KeyError` exception**"
   ]
  },
  {
   "cell_type": "code",
   "execution_count": 42,
   "id": "3502876e-6ebd-4a11-9f6c-f0ee4b6c75bb",
   "metadata": {},
   "outputs": [
    {
     "ename": "KeyError",
     "evalue": "'d'",
     "output_type": "error",
     "traceback": [
      "\u001b[0;31m---------------------------------------------------------------------------\u001b[0m",
      "\u001b[0;31mKeyError\u001b[0m                                  Traceback (most recent call last)",
      "Input \u001b[0;32mIn [42]\u001b[0m, in \u001b[0;36m<cell line: 1>\u001b[0;34m()\u001b[0m\n\u001b[0;32m----> 1\u001b[0m \u001b[38;5;28;01mdel\u001b[39;00m my_dict[\u001b[38;5;124m'\u001b[39m\u001b[38;5;124md\u001b[39m\u001b[38;5;124m'\u001b[39m]\n",
      "\u001b[0;31mKeyError\u001b[0m: 'd'"
     ]
    }
   ],
   "source": [
    "del my_dict['d']"
   ]
  }
 ],
 "metadata": {
  "kernelspec": {
   "display_name": "Python 3 (ipykernel)",
   "language": "python",
   "name": "python3"
  },
  "language_info": {
   "codemirror_mode": {
    "name": "ipython",
    "version": 3
   },
   "file_extension": ".py",
   "mimetype": "text/x-python",
   "name": "python",
   "nbconvert_exporter": "python",
   "pygments_lexer": "ipython3",
   "version": "3.9.7"
  }
 },
 "nbformat": 4,
 "nbformat_minor": 5
}
