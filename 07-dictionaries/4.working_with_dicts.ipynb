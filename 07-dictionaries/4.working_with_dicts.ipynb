{
 "cells": [
  {
   "cell_type": "markdown",
   "id": "6ecc286e-82e4-48c5-bcde-3087679e2057",
   "metadata": {},
   "source": [
    "## Working with dictionaries\n",
    "\n",
    "In this notebook we will interduce some functions and methods that are useful and handy for working with dictionaries."
   ]
  },
  {
   "cell_type": "markdown",
   "id": "2dcafd7e-61e1-4947-95ca-c4a0fc1569e0",
   "metadata": {},
   "source": [
    "### Membership testing using `in`\n",
    "\n",
    "We can test if a key exists in a dictionary using `in` keyword"
   ]
  },
  {
   "cell_type": "code",
   "execution_count": 1,
   "id": "0f0e96a2-4dc2-4c54-9016-27ef9082a0dd",
   "metadata": {},
   "outputs": [],
   "source": [
    "my_dict = {\n",
    "    'a': 1,\n",
    "    'b': 2,\n",
    "    'c': 3\n",
    "}"
   ]
  },
  {
   "cell_type": "code",
   "execution_count": 2,
   "id": "eae4a46d-f6b3-4c10-9330-94cc10269a71",
   "metadata": {},
   "outputs": [
    {
     "data": {
      "text/plain": [
       "True"
      ]
     },
     "execution_count": 2,
     "metadata": {},
     "output_type": "execute_result"
    }
   ],
   "source": [
    "'a' in my_dict"
   ]
  },
  {
   "cell_type": "code",
   "execution_count": 4,
   "id": "36923774-b857-403d-82ce-d9cc04ba495a",
   "metadata": {},
   "outputs": [
    {
     "data": {
      "text/plain": [
       "False"
      ]
     },
     "execution_count": 4,
     "metadata": {},
     "output_type": "execute_result"
    }
   ],
   "source": [
    "'d' in my_dict"
   ]
  },
  {
   "cell_type": "markdown",
   "id": "379d6ad0-a407-4682-881b-e53576770c63",
   "metadata": {},
   "source": [
    "### `clear` method\n",
    "\n",
    "`clear` method removes all the key-value pairs from the dictionary."
   ]
  },
  {
   "cell_type": "code",
   "execution_count": 5,
   "id": "efc2c7b5-dd87-4567-8724-4b185ecd2860",
   "metadata": {},
   "outputs": [],
   "source": [
    "my_dict = {\n",
    "    'a': 1,\n",
    "    'b': 2,\n",
    "    'c': 3\n",
    "}"
   ]
  },
  {
   "cell_type": "code",
   "execution_count": 6,
   "id": "a2073077-a6e2-406f-9fd0-f99b0b6c9993",
   "metadata": {},
   "outputs": [
    {
     "data": {
      "text/plain": [
       "{'a': 1, 'b': 2, 'c': 3}"
      ]
     },
     "execution_count": 6,
     "metadata": {},
     "output_type": "execute_result"
    }
   ],
   "source": [
    "my_dict"
   ]
  },
  {
   "cell_type": "code",
   "execution_count": 7,
   "id": "28611458-a1b5-42b1-8a37-7c4b8c781ea9",
   "metadata": {},
   "outputs": [],
   "source": [
    "my_dict.clear()"
   ]
  },
  {
   "cell_type": "code",
   "execution_count": 8,
   "id": "20e69441-0038-4dc6-be81-335a6abab5ea",
   "metadata": {},
   "outputs": [
    {
     "data": {
      "text/plain": [
       "{}"
      ]
     },
     "execution_count": 8,
     "metadata": {},
     "output_type": "execute_result"
    }
   ],
   "source": [
    "my_dict"
   ]
  },
  {
   "cell_type": "markdown",
   "id": "ba70e0d1-0dc9-4739-9ddd-15d245e5e845",
   "metadata": {},
   "source": [
    "### `copy` method\n",
    "\n",
    "`copy()` method Returns a **shallow** copy of the dictionary."
   ]
  },
  {
   "cell_type": "code",
   "execution_count": 9,
   "id": "4a884c8b-c969-48f6-9aa1-8c329cf3968d",
   "metadata": {},
   "outputs": [],
   "source": [
    "my_dict = {\n",
    "    'a': 1,\n",
    "    'b': 2,\n",
    "    'c': 3\n",
    "}"
   ]
  },
  {
   "cell_type": "code",
   "execution_count": 10,
   "id": "13470f60-4b8a-4110-a128-034453fd8ac2",
   "metadata": {},
   "outputs": [],
   "source": [
    "my_dict_2 = my_dict.copy()"
   ]
  },
  {
   "cell_type": "code",
   "execution_count": 11,
   "id": "41432f5f-69ba-478d-b62b-6354ac495379",
   "metadata": {},
   "outputs": [
    {
     "data": {
      "text/plain": [
       "{'a': 1, 'b': 2, 'c': 3}"
      ]
     },
     "execution_count": 11,
     "metadata": {},
     "output_type": "execute_result"
    }
   ],
   "source": [
    "my_dict_2"
   ]
  },
  {
   "cell_type": "code",
   "execution_count": 12,
   "id": "f4dab0da-cac7-460e-97d4-87ab38a60c7c",
   "metadata": {},
   "outputs": [
    {
     "data": {
      "text/plain": [
       "{'a': 100, 'b': 2, 'c': 3}"
      ]
     },
     "execution_count": 12,
     "metadata": {},
     "output_type": "execute_result"
    }
   ],
   "source": [
    "my_dict_2['a'] = 100\n",
    "my_dict_2"
   ]
  },
  {
   "cell_type": "code",
   "execution_count": 13,
   "id": "e0bcbe03-ce50-42ad-9d5d-0e4e07bd1f1c",
   "metadata": {},
   "outputs": [
    {
     "data": {
      "text/plain": [
       "{'a': 1, 'b': 2, 'c': 3}"
      ]
     },
     "execution_count": 13,
     "metadata": {},
     "output_type": "execute_result"
    }
   ],
   "source": [
    "my_dict"
   ]
  },
  {
   "cell_type": "markdown",
   "id": "b52ce3fd-8cf2-4c53-be92-26d266df4208",
   "metadata": {},
   "source": [
    "> **Be careful it return a shallow copy** "
   ]
  },
  {
   "cell_type": "code",
   "execution_count": 14,
   "id": "48d393ec-5932-40b2-83ea-5e3aa18971f2",
   "metadata": {},
   "outputs": [],
   "source": [
    "my_dict = {\n",
    "    'a': [1],\n",
    "    'b': [2],\n",
    "    'c': [3]\n",
    "}"
   ]
  },
  {
   "cell_type": "code",
   "execution_count": 15,
   "id": "dcb89e8d-17d1-435a-b629-1de4004646de",
   "metadata": {},
   "outputs": [
    {
     "data": {
      "text/plain": [
       "{'a': [1], 'b': [2], 'c': [3]}"
      ]
     },
     "execution_count": 15,
     "metadata": {},
     "output_type": "execute_result"
    }
   ],
   "source": [
    "my_dict"
   ]
  },
  {
   "cell_type": "code",
   "execution_count": 16,
   "id": "e3257f53-069f-4e25-8deb-e7df4ab03ae6",
   "metadata": {},
   "outputs": [],
   "source": [
    "my_dict_2 = my_dict.copy()"
   ]
  },
  {
   "cell_type": "code",
   "execution_count": 17,
   "id": "c4767df4-c948-4529-bb5b-b7cb9842f717",
   "metadata": {},
   "outputs": [],
   "source": [
    "my_dict_2['a'].append(200)"
   ]
  },
  {
   "cell_type": "code",
   "execution_count": 18,
   "id": "c59f6e2e-25c1-4fec-a942-f062b1f7ee36",
   "metadata": {},
   "outputs": [
    {
     "data": {
      "text/plain": [
       "{'a': [1, 200], 'b': [2], 'c': [3]}"
      ]
     },
     "execution_count": 18,
     "metadata": {},
     "output_type": "execute_result"
    }
   ],
   "source": [
    "my_dict"
   ]
  },
  {
   "cell_type": "markdown",
   "id": "ab5197bd-14a6-42b3-9d01-f224ac18a6f4",
   "metadata": {},
   "source": [
    "### Getting length using `len` function\n",
    "\n",
    "`len` function returns number of pairs in a dictionary."
   ]
  },
  {
   "cell_type": "code",
   "execution_count": 19,
   "id": "d14e2876-9921-493d-8672-13c166233468",
   "metadata": {},
   "outputs": [
    {
     "name": "stdout",
     "output_type": "stream",
     "text": [
      "3\n"
     ]
    }
   ],
   "source": [
    "my_dict = {\n",
    "    'a': 1,\n",
    "    'b': 2,\n",
    "    'c': 3\n",
    "}\n",
    "\n",
    "print(len(my_dict))"
   ]
  },
  {
   "cell_type": "markdown",
   "id": "f5fcc67e-f9e3-43ff-97f3-afee9f34079e",
   "metadata": {},
   "source": [
    "### `fromkeys` method\n",
    "\n",
    "The `fromkeys` method is a dictionary method in Python that creates a new dictionary with keys from an iterable (such as a list or tuple) and values set to a specified default value (which defaults to None if not specified)."
   ]
  },
  {
   "cell_type": "code",
   "execution_count": 20,
   "id": "ced50ac7-68f5-4b48-ab17-5a3f712acd24",
   "metadata": {},
   "outputs": [
    {
     "data": {
      "text/plain": [
       "{'a': 0, 'b': 0, 'c': 0}"
      ]
     },
     "execution_count": 20,
     "metadata": {},
     "output_type": "execute_result"
    }
   ],
   "source": [
    "d = dict.fromkeys(['a', 'b', 'c'], 0)\n",
    "d"
   ]
  },
  {
   "cell_type": "markdown",
   "id": "88f808ea-b0b2-4bca-8866-0b96e66aab18",
   "metadata": {},
   "source": [
    "### Creating an empty dictionary\n",
    "\n",
    "In Python, you can create an empty dictionary using either of the following two methods:\n",
    "\n",
    "1. Using the curly braces `{}`:\n",
    "\n",
    "```python\n",
    "my_dict = {}\n",
    "```\n",
    "\n",
    "This creates an empty dictionary `my_dict` using the curly braces `{}`.\n",
    "\n",
    "2. Using the `dict()` constructor:\n",
    "\n",
    "```python\n",
    "my_dict = dict()\n",
    "```\n",
    "\n",
    "This creates an empty dictionary `my_dict` using the `dict()` constructor.\n",
    "\n",
    "In both cases, the resulting dictionary is empty, meaning it has no key-value pairs.\n",
    "\n",
    "Once you have created an empty dictionary, you can add key-value pairs to it using the square bracket notation `[]`. For example:\n",
    "\n",
    "```python\n",
    "my_dict = {}\n",
    "my_dict['key1'] = 'value1'\n",
    "my_dict['key2'] = 'value2'\n",
    "```"
   ]
  },
  {
   "cell_type": "code",
   "execution_count": 21,
   "id": "4d1c02ad-eb0b-49b8-8b00-cc5e145eb5e9",
   "metadata": {},
   "outputs": [
    {
     "data": {
      "text/plain": [
       "{}"
      ]
     },
     "execution_count": 21,
     "metadata": {},
     "output_type": "execute_result"
    }
   ],
   "source": [
    "my_dict = {}\n",
    "my_dict"
   ]
  },
  {
   "cell_type": "code",
   "execution_count": 22,
   "id": "ce3d2624-6f8b-4012-af3b-29e16f4994e5",
   "metadata": {},
   "outputs": [
    {
     "data": {
      "text/plain": [
       "{}"
      ]
     },
     "execution_count": 22,
     "metadata": {},
     "output_type": "execute_result"
    }
   ],
   "source": [
    "my_dict_2 = dict()\n",
    "my_dict_2"
   ]
  },
  {
   "cell_type": "code",
   "execution_count": 24,
   "id": "3427173f-eed2-4c37-8992-e7cbb6329822",
   "metadata": {},
   "outputs": [
    {
     "data": {
      "text/plain": [
       "{'a': 0}"
      ]
     },
     "execution_count": 24,
     "metadata": {},
     "output_type": "execute_result"
    }
   ],
   "source": [
    "my_dict['a'] = 0\n",
    "my_dict"
   ]
  },
  {
   "cell_type": "markdown",
   "id": "d4142c6f-115a-4a2f-b1f8-b5ee14ec2b14",
   "metadata": {},
   "source": [
    "### `get` method\n",
    "\n",
    "The `get()` method is a dictionary method that returns the value associated with a specified key in the dictionary. The method takes one mandatory argument, which is the key to look up in the dictionary. It also takes an optional second argument, which is the default value to return if the specified key is not found in the dictionary.\n",
    "\n",
    "Here's the syntax for the `get()` method:\n",
    "\n",
    "```python\n",
    "value = my_dict.get(key, default_value)\n",
    "```\n",
    "\n",
    "The `get()` method returns the value associated with the specified `key` in the dictionary `my_dict`. If the `key` is not found in the dictionary, it returns the specified `default_value`. If `default_value` is not provided, it defaults to `None`.\n",
    "\n",
    "Here's an example:\n",
    "\n",
    "```python\n",
    "my_dict = {'a': 1, 'b': 2, 'c': 3}\n",
    "value = my_dict.get('b', 0)\n",
    "print(value)\n",
    "```\n",
    "\n",
    "In this example, we look up the value associated with the key `'b'` in the dictionary `my_dict` using the `get()` method. Since the key `'b'` is present in the dictionary, the method returns the value `2`. We also provide a default value of `0` as the second argument to the `get()` method, which is not used in this example.\n",
    "\n",
    "If we try to look up a key that does not exist in the dictionary using the `get()` method, it will return the default value. For example:\n",
    "\n",
    "```python\n",
    "my_dict = {'a': 1, 'b': 2, 'c': 3}\n",
    "value = my_dict.get('d', 0)\n",
    "print(value)\n",
    "```\n",
    "\n",
    "In this example, we look up the value associated with the key `'d'` in the dictionary `my_dict` using the `get()` method. Since the key `'d'` is not present in the dictionary, the method returns the default value `0`."
   ]
  },
  {
   "cell_type": "code",
   "execution_count": 25,
   "id": "7246b977-86fe-4a34-95ec-cc5a912bdd4a",
   "metadata": {},
   "outputs": [
    {
     "name": "stdout",
     "output_type": "stream",
     "text": [
      "2\n"
     ]
    }
   ],
   "source": [
    "my_dict = {'a': 1, 'b': 2, 'c': 3}\n",
    "value = my_dict.get('b', 0)\n",
    "print(value)"
   ]
  },
  {
   "cell_type": "code",
   "execution_count": 26,
   "id": "0739de5e-50b8-450a-8b3c-c8a717248533",
   "metadata": {},
   "outputs": [
    {
     "data": {
      "text/plain": [
       "0"
      ]
     },
     "execution_count": 26,
     "metadata": {},
     "output_type": "execute_result"
    }
   ],
   "source": [
    "my_dict.get('d', 0)"
   ]
  },
  {
   "cell_type": "markdown",
   "id": "dec5c3bc-184c-4f5a-9512-ad8a247f54cc",
   "metadata": {},
   "source": [
    "### Merging two dictionaries\n",
    "\n",
    "You can merge two dictionaries using several methods. Here are three common approaches:\n",
    "\n",
    "1. Using the `update()` method:\n",
    "\n",
    "You can use the `update()` method to merge one dictionary into another. The `update()` method adds all the key-value pairs from one dictionary to another. If a key from the second dictionary already exists in the first dictionary, its value will be updated with the new value from the second dictionary.\n",
    "\n",
    "Here's an example:\n",
    "\n",
    "```python\n",
    "dict1 = {'a': 1, 'b': 2}\n",
    "dict2 = {'c': 3, 'd': 4}\n",
    "dict1.update(dict2)\n",
    "print(dict1)\n",
    "```\n",
    "\n",
    "In this example, we create two dictionaries `dict1` and `dict2`. We then use the `update()` method to merge `dict2` into `dict1`. The resulting dictionary will have the following key-value pairs:\n",
    "\n",
    "```\n",
    "{'a': 1, 'b': 2, 'c': 3, 'd': 4}\n",
    "```\n",
    "\n",
    "2. Using the unpacking operator (`**`):\n",
    "\n",
    "You can also merge two dictionaries using the unpacking operator (`**`). The unpacking operator creates a new dictionary that contains all the key-value pairs from both dictionaries.\n",
    "\n",
    "Here's an example:\n",
    "\n",
    "```python\n",
    "dict1 = {'a': 1, 'b': 2}\n",
    "dict2 = {'c': 3, 'd': 4}\n",
    "merged_dict = {**dict1, **dict2}\n",
    "print(merged_dict)\n",
    "```\n",
    "\n",
    "In this example, we create two dictionaries `dict1` and `dict2`. We then use the unpacking operator to merge the dictionaries into a new dictionary `merged_dict`. The resulting dictionary will have the following key-value pairs:\n",
    "\n",
    "```\n",
    "{'a': 1, 'b': 2, 'c': 3, 'd': 4}\n",
    "```"
   ]
  },
  {
   "cell_type": "code",
   "execution_count": 27,
   "id": "405bb103-cc94-4ae7-9374-24e89f66ce45",
   "metadata": {},
   "outputs": [
    {
     "name": "stdout",
     "output_type": "stream",
     "text": [
      "{'a': 1, 'b': 2, 'c': 3, 'd': 4}\n"
     ]
    }
   ],
   "source": [
    "dict1 = {'a': 1, 'b': 2}\n",
    "dict2 = {'c': 3, 'd': 4}\n",
    "dict1.update(dict2)\n",
    "print(dict1)"
   ]
  },
  {
   "cell_type": "code",
   "execution_count": 29,
   "id": "ffb1b1e1-a5af-4a42-9b66-d62882c101db",
   "metadata": {},
   "outputs": [
    {
     "name": "stdout",
     "output_type": "stream",
     "text": [
      "{'a': 1, 'b': 2, 'c': 3, 'd': 4}\n"
     ]
    }
   ],
   "source": [
    "dict1 = {'a': 1, 'b': 2}\n",
    "dict2 = {'c': 3, 'd': 4}\n",
    "merged_dict = {**dict1, **dict2}\n",
    "print(merged_dict)"
   ]
  },
  {
   "cell_type": "markdown",
   "id": "36c76594-6a8e-48c3-9fa5-c63e1c95870a",
   "metadata": {},
   "source": [
    "> **Note that in second method the original dictionary is not mutated and a new dictionary is created**"
   ]
  }
 ],
 "metadata": {
  "kernelspec": {
   "display_name": "Python 3 (ipykernel)",
   "language": "python",
   "name": "python3"
  },
  "language_info": {
   "codemirror_mode": {
    "name": "ipython",
    "version": 3
   },
   "file_extension": ".py",
   "mimetype": "text/x-python",
   "name": "python",
   "nbconvert_exporter": "python",
   "pygments_lexer": "ipython3",
   "version": "3.9.7"
  }
 },
 "nbformat": 4,
 "nbformat_minor": 5
}
