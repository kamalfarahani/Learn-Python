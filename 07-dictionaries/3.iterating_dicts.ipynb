{
 "cells": [
  {
   "cell_type": "markdown",
   "id": "1bcbfe81-bdfd-4253-9d94-8bb2975b230d",
   "metadata": {},
   "source": [
    "## Iterating dictionaries\n",
    "\n",
    "There are several ways to iterate over the key-value pairs of a dictionary. Here are some of the most common ways:\n",
    "\n",
    "1. Using a `for` loop with `items()` method:\n",
    "\n",
    "```python\n",
    "my_dict = {'a': 1, 'b': 2, 'c': 3}\n",
    "for key, value in my_dict.items():\n",
    "    print(key, value)\n",
    "```\n",
    "\n",
    "In this example, we use the `items()` method to get a list of key-value pairs in the dictionary, and then iterate over it using a `for` loop. Inside the loop, we unpack each key-value pair into separate variables `key` and `value`, and then print them out.\n",
    "\n",
    "\n",
    "2. Using a `for` loop with `keys()` method:\n",
    "\n",
    "```python\n",
    "my_dict = {'a': 1, 'b': 2, 'c': 3}\n",
    "for key in my_dict.keys():\n",
    "    print(key, my_dict[key])\n",
    "```\n",
    "\n",
    "In this example, we use the `keys()` method to get a list of keys in the dictionary, and then iterate over it using a `for` loop. Inside the loop, we access the value associated with each key using the square bracket notation `my_dict[key]`, and then print out the key-value pair.\n",
    "\n",
    "3. Using a `for` to directly iterate on dictionary:\n",
    "\n",
    "```python\n",
    "my_dict = {'a': 1, 'b': 2, 'c': 3}\n",
    "for key in my_dict:\n",
    "    print(key, my_dict[key])\n",
    "```\n",
    "In this example the for loop iterates over the keys of the dictionary my_dict. Since we don't specify a method to iterate over, Python uses the keys() method by default.\n",
    "\n",
    "4. Using a `for` loop with `values()` method:\n",
    "\n",
    "```python\n",
    "my_dict = {'a': 1, 'b': 2, 'c': 3}\n",
    "for value in my_dict.values():\n",
    "    print(value)\n",
    "```\n",
    "\n",
    "In this example, we use the `values()` method to get a list of values in the dictionary, and then iterate over it using a `for` loop. Inside the loop, we print out each value.\n",
    "\n",
    "The choice of method depends on the specific use case and personal preference."
   ]
  },
  {
   "cell_type": "markdown",
   "id": "124925c0-5ee2-48f9-a9f8-9e2373668019",
   "metadata": {},
   "source": [
    "### Using `items` method"
   ]
  },
  {
   "cell_type": "code",
   "execution_count": 1,
   "id": "c2497562-86d8-4d59-b4e4-d94eba31af0b",
   "metadata": {},
   "outputs": [
    {
     "name": "stdout",
     "output_type": "stream",
     "text": [
      "a 1\n",
      "b 2\n",
      "c 3\n"
     ]
    }
   ],
   "source": [
    "my_dict = {'a': 1, 'b': 2, 'c': 3}\n",
    "for key, value in my_dict.items():\n",
    "    print(key, value)"
   ]
  },
  {
   "cell_type": "markdown",
   "id": "107a3fcf-f0c7-4170-8ca2-db9576db8205",
   "metadata": {},
   "source": [
    "### Using `keys` method"
   ]
  },
  {
   "cell_type": "code",
   "execution_count": 2,
   "id": "315ec2a2-087d-4cfb-997d-703b4a46e548",
   "metadata": {},
   "outputs": [
    {
     "name": "stdout",
     "output_type": "stream",
     "text": [
      "a 1\n",
      "b 2\n",
      "c 3\n"
     ]
    }
   ],
   "source": [
    "my_dict = {'a': 1, 'b': 2, 'c': 3}\n",
    "for key in my_dict.keys():\n",
    "    print(key, my_dict[key])"
   ]
  },
  {
   "cell_type": "markdown",
   "id": "cdd7e114-763f-4de6-bb04-7c4b575608d8",
   "metadata": {},
   "source": [
    "### Using `values` method"
   ]
  },
  {
   "cell_type": "code",
   "execution_count": 3,
   "id": "acef1cf7-5826-4e02-8fb0-de41690ff944",
   "metadata": {},
   "outputs": [
    {
     "name": "stdout",
     "output_type": "stream",
     "text": [
      "1\n",
      "2\n",
      "3\n"
     ]
    }
   ],
   "source": [
    "my_dict = {'a': 1, 'b': 2, 'c': 3}\n",
    "for value in my_dict.values():\n",
    "    print(value)"
   ]
  },
  {
   "cell_type": "markdown",
   "id": "34494a22-a369-4583-a5a6-033c6bb03ae6",
   "metadata": {},
   "source": [
    "### A few notes on iteration order for dictionaries\n",
    "\n",
    "In Python 3.7 and later, dictionaries are guaranteed to maintain the order of insertion of their elements. This means that when you iterate over the keys or values of a dictionary using a `for` loop, the elements will be returned in the same order in which they were added to the dictionary.\n",
    "\n",
    "Here's an example:\n",
    "\n",
    "```python\n",
    "my_dict = {'a': 1, 'b': 2, 'c': 3}\n",
    "for key in my_dict:\n",
    "    print(key, my_dict[key])\n",
    "```\n",
    "\n",
    "In this example, the output of the loop will be:\n",
    "\n",
    "```\n",
    "a 1\n",
    "b 2\n",
    "c 3\n",
    "```\n",
    "\n",
    "This is because the dictionary `my_dict` was created with the keys `'a'`, `'b'`, and `'c'` in that order, and their corresponding values added. When we iterate over the keys of the dictionary using a `for` loop, the elements are returned in the same order in which they were added.\n",
    "\n",
    "Note that while the order of iteration is guaranteed in Python 3.7 and later, it is not guaranteed in earlier versions of Python or in other programming languages. Therefore, it's generally a good practice to not rely on the order of the elements in a dictionary, and to instead use a list or tuple if order is important."
   ]
  },
  {
   "cell_type": "code",
   "execution_count": 6,
   "id": "1c316c03-afd0-495e-98f9-8eb4af935c4a",
   "metadata": {},
   "outputs": [
    {
     "name": "stdout",
     "output_type": "stream",
     "text": [
      "a 1\n",
      "b 2\n",
      "c 3\n",
      "d 98\n",
      "e 99\n"
     ]
    }
   ],
   "source": [
    "my_dict = {'a': 1, 'b': 2, 'c': 3}\n",
    "my_dict['d'] = 98\n",
    "my_dict['e'] = 99\n",
    "for key in my_dict:\n",
    "    print(key, my_dict[key])"
   ]
  }
 ],
 "metadata": {
  "kernelspec": {
   "display_name": "Python 3 (ipykernel)",
   "language": "python",
   "name": "python3"
  },
  "language_info": {
   "codemirror_mode": {
    "name": "ipython",
    "version": 3
   },
   "file_extension": ".py",
   "mimetype": "text/x-python",
   "name": "python",
   "nbconvert_exporter": "python",
   "pygments_lexer": "ipython3",
   "version": "3.9.7"
  }
 },
 "nbformat": 4,
 "nbformat_minor": 5
}
