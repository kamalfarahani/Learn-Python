{
 "cells": [
  {
   "cell_type": "markdown",
   "id": "corporate-husband",
   "metadata": {},
   "source": [
    "### Solutions"
   ]
  },
  {
   "cell_type": "markdown",
   "id": "romance-tracker",
   "metadata": {},
   "source": [
    "#### Question 1"
   ]
  },
  {
   "cell_type": "markdown",
   "id": "empty-slovenia",
   "metadata": {},
   "source": [
    "Use a dictionary to count the frequency of the characters `a-z A-Z` in a given string.\n",
    "\n",
    "You should write your code to be as general as possible, so that it will work with any string of any given length.\n",
    "\n",
    "Your resulting dictionary should only contain keys for characters that occured at least once (i.e. no zero count characters should be present.)\n",
    "\n",
    "Hint: you will probably want to use the `ord()` function that we studied earlier along with the unicode character codes for `a`, `z`, `A` and `Z`."
   ]
  },
  {
   "cell_type": "markdown",
   "id": "thousand-handling",
   "metadata": {},
   "source": [
    "For example, if the given string is:\n",
    "\n",
    "```\n",
    "s = 'Aa, Bb - A a B C'\n",
    "```\n",
    "\n",
    "then your resulting dictionary should be:\n",
    "\n",
    "```\n",
    "{\n",
    "    'A': 2, \n",
    "    'a': 2, \n",
    "    'B': 2, \n",
    "    'b': 1, \n",
    "    'C': 1\n",
    "}\n",
    "```\n",
    "\n",
    "(Note that the order of the keys in the dictionary is not important)"
   ]
  },
  {
   "cell_type": "markdown",
   "id": "considerable-orchestra",
   "metadata": {},
   "source": [
    "Here are two sample strings you can use:"
   ]
  },
  {
   "cell_type": "code",
   "execution_count": 1,
   "id": "baking-logic",
   "metadata": {},
   "outputs": [],
   "source": [
    "s1 = \"\"\"\n",
    "“'And' and 'or' are the basic operations of logic. Together with 'no' (the logical operation \n",
    "of negation) they are a complete set of basic logical operations — all other logical \n",
    "operations, no matter how complex, can be obtained by suitable combinations of these.” \n",
    "― John von Neumann, The Computer and the Brain\n",
    "\"\"\"\n",
    "\n",
    "s2 = \"\"\"\n",
    "Lorem ipsum dolor sit amet, consectetur adipiscing elit, sed do eiusmod tempor incididunt ut \n",
    "labore et dolore magna aliqua. Ut enim ad minim veniam, quis nostrud exercitation ullamco laboris \n",
    "nisi ut aliquip ex ea commodo consequat. Duis aute irure dolor in reprehenderit in voluptate velit \n",
    "esse cillum dolore eu fugiat nulla pariatur. Excepteur sint occaecat cupidatat non proident, sunt \n",
    "in culpa qui officia deserunt mollit anim id est laborum.\n",
    "\"\"\""
   ]
  },
  {
   "cell_type": "markdown",
   "id": "double-engine",
   "metadata": {},
   "source": [
    "#### Question 2"
   ]
  },
  {
   "cell_type": "markdown",
   "id": "finnish-villa",
   "metadata": {},
   "source": [
    "Given the following dictionaries:"
   ]
  },
  {
   "cell_type": "code",
   "execution_count": 2,
   "id": "racial-medline",
   "metadata": {},
   "outputs": [],
   "source": [
    "d1 = {'a': 10, 'b': 20, 'c': 30}\n",
    "d2 = {'d': 100, 'e': 200, 'f': 300}\n",
    "d3 = {'f': 30, 'g': 40}"
   ]
  },
  {
   "cell_type": "markdown",
   "id": "north-information",
   "metadata": {},
   "source": [
    "Construct two lists, one containing all the keys of both dictionaries, and one containing all the values of each dictionary. (It is OK for values or keys to be repeated in the lists)."
   ]
  },
  {
   "cell_type": "markdown",
   "id": "automotive-railway",
   "metadata": {},
   "source": [
    "In the example above you should end up with two lists containing the elements:\n",
    "\n",
    "```\n",
    "'a', 'b', 'c', 'd', 'e', 'f', 'f', 'g'\n",
    "```\n",
    "\n",
    "and\n",
    "\n",
    "```\n",
    "10, 20, 30, 100, 200, 300, 30, 40\n",
    "```"
   ]
  },
  {
   "cell_type": "markdown",
   "id": "military-tuning",
   "metadata": {},
   "source": [
    "Note that the order in which the elements appear in each list is not important."
   ]
  },
  {
   "cell_type": "markdown",
   "id": "hawaiian-proxy",
   "metadata": {},
   "source": [
    "#### Question 3"
   ]
  },
  {
   "cell_type": "markdown",
   "id": "cardiac-contractor",
   "metadata": {},
   "source": [
    "In this example, suppose you have a grade book designed as follows:"
   ]
  },
  {
   "cell_type": "code",
   "execution_count": 3,
   "id": "decreased-dress",
   "metadata": {},
   "outputs": [],
   "source": [
    "grades = {\n",
    "    'John': [90, 95, 98],\n",
    "    'Eric': [86, 84, 92],\n",
    "    'Michael': [90, 89, 85]\n",
    "}"
   ]
  },
  {
   "cell_type": "markdown",
   "id": "alleged-relevance",
   "metadata": {},
   "source": [
    "This grade book is a dictionary that consists of the student's name as the key, and the value is a list representing results for a series of tests, from most recent to oldest."
   ]
  },
  {
   "cell_type": "markdown",
   "id": "hidden-crystal",
   "metadata": {},
   "source": [
    "A new exam has just been graded, and you receive the grades for that specific exam also as a dictionary:"
   ]
  },
  {
   "cell_type": "code",
   "execution_count": 4,
   "id": "acceptable-clinic",
   "metadata": {},
   "outputs": [],
   "source": [
    "exam = {\n",
    "    'Eric': 99,\n",
    "    'John': 100\n",
    "}"
   ]
  },
  {
   "cell_type": "markdown",
   "id": "interracial-florence",
   "metadata": {},
   "source": [
    "Write code that updates the grades dictionary by adding the latest test result to the beginning of each list corresponding to the student.\n",
    "\n",
    "If the new exam grade is missing for a student, assign the value `None` as the latest grade in the `grades` dictionary."
   ]
  },
  {
   "cell_type": "markdown",
   "id": "judicial-release",
   "metadata": {},
   "source": [
    "For the data given above, your `grades` dictionary should now contain the following information:\n",
    "\n",
    "```\n",
    "{\n",
    "    'John': [100, 90, 95, 98],\n",
    "    'Eric': [99, 86, 84, 92],\n",
    "    'Michael': [None, 90, 89, 85]\n",
    "}\n",
    "```"
   ]
  },
  {
   "cell_type": "markdown",
   "id": "8898c0cf-c6b7-45a0-b8b2-3c2714e092fd",
   "metadata": {},
   "source": [
    "#### Question 4"
   ]
  },
  {
   "cell_type": "markdown",
   "id": "0d9fa548-e1e1-412a-8974-8e73e2f962cc",
   "metadata": {},
   "source": [
    "suppose there is no dictionary type in Python, we are trying to create dictionaries using lists and tuples.\n",
    "\n",
    "We will choose the following structure to implement our dictionary:\n",
    "> `[(key_1, value_1), (key_2, value_2), ..., (key_n, value_n)]`\n",
    "\n",
    "Fill three functions for creating a dictionary and adding, updating and deleting an element to the dictionary.\n",
    "\n",
    "* `create_empty_dict` should return an empty list\n",
    "* `add_to_dict` gets a dicionary and a key and value and returns a new dictionary with the tuple `(key, value)` added to it.\n",
    "* `update_dict` gets a dicionary and a key and value and returns a new dictionary with update key and value.\n",
    "* `delete_from_dict` gets a dictionary and a key and returns a new dicionary with given key deleted."
   ]
  },
  {
   "cell_type": "code",
   "execution_count": null,
   "id": "8feb8089-9b38-4a2d-b1e0-123c7b29fcb7",
   "metadata": {},
   "outputs": [],
   "source": [
    "def create_empty_dict():\n",
    "    pass\n",
    "\n",
    "def add_to_dict(dictionary, key, value):\n",
    "    pass\n",
    "\n",
    "def update_dict(dictionary, key, value):\n",
    "    pass\n",
    "\n",
    "def delete_from_dict(dictionary, key):\n",
    "    pass"
   ]
  }
 ],
 "metadata": {
  "kernelspec": {
   "display_name": "Python 3 (ipykernel)",
   "language": "python",
   "name": "python3"
  },
  "language_info": {
   "codemirror_mode": {
    "name": "ipython",
    "version": 3
   },
   "file_extension": ".py",
   "mimetype": "text/x-python",
   "name": "python",
   "nbconvert_exporter": "python",
   "pygments_lexer": "ipython3",
   "version": "3.9.7"
  }
 },
 "nbformat": 4,
 "nbformat_minor": 5
}
