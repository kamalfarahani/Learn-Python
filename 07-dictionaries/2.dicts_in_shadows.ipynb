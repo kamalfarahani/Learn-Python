{
 "cells": [
  {
   "cell_type": "markdown",
   "id": "441dd6f3-4633-41b3-bda1-4a5bfeb2543d",
   "metadata": {},
   "source": [
    "## Dictionaries in the shadows!\n",
    "\n",
    "Dictionaries are one of the most important types in Python and are used in many places by Python internals."
   ]
  },
  {
   "cell_type": "markdown",
   "id": "fb067a31-c8c4-4f15-abb6-feddda9d60f6",
   "metadata": {},
   "source": [
    "### `globals` function\n",
    "\n",
    "In Python, `globals()` is a built-in function that returns a dictionary containing the current global symbol table. The global symbol table is a dictionary that maps variable names to their corresponding values in the global scope of the program.\n",
    "\n",
    "The output of the `globals()` function will be a dictionary that includes all the global variables defined in the program, as well as any built-in functions and modules that are available.\n",
    "\n",
    "Note that modifying the global symbol table directly using `globals()` is generally not recommended, as it can lead to unexpected behavior and make the code harder to read and maintain. Instead, it is usually better to pass variables between functions using function arguments and return values."
   ]
  },
  {
   "cell_type": "code",
   "execution_count": 1,
   "id": "cf39e32e-9d53-4319-a1ba-f9c095955e60",
   "metadata": {},
   "outputs": [],
   "source": [
    "x = 10\n",
    "y = 20"
   ]
  },
  {
   "cell_type": "code",
   "execution_count": 2,
   "id": "cfafc74f-d67a-42de-8eb3-84448026fe13",
   "metadata": {},
   "outputs": [
    {
     "data": {
      "text/plain": [
       "{'__name__': '__main__',\n",
       " '__doc__': 'Automatically created module for IPython interactive environment',\n",
       " '__package__': None,\n",
       " '__loader__': None,\n",
       " '__spec__': None,\n",
       " '__builtin__': <module 'builtins' (built-in)>,\n",
       " '__builtins__': <module 'builtins' (built-in)>,\n",
       " '_ih': ['', 'x = 10\\ny = 20', 'globals()'],\n",
       " '_oh': {},\n",
       " '_dh': [PosixPath('/home/kamal/projects/Learn-Python-Persian/07-dictionaries')],\n",
       " 'In': ['', 'x = 10\\ny = 20', 'globals()'],\n",
       " 'Out': {},\n",
       " 'get_ipython': <bound method InteractiveShell.get_ipython of <ipykernel.zmqshell.ZMQInteractiveShell object at 0x7f32510f3700>>,\n",
       " 'exit': <IPython.core.autocall.ZMQExitAutocall at 0x7f3251107a60>,\n",
       " 'quit': <IPython.core.autocall.ZMQExitAutocall at 0x7f3251107a60>,\n",
       " '_': '',\n",
       " '__': '',\n",
       " '___': '',\n",
       " '_i': 'x = 10\\ny = 20',\n",
       " '_ii': '',\n",
       " '_iii': '',\n",
       " '_i1': 'x = 10\\ny = 20',\n",
       " 'x': 10,\n",
       " 'y': 20,\n",
       " '_i2': 'globals()'}"
      ]
     },
     "execution_count": 2,
     "metadata": {},
     "output_type": "execute_result"
    }
   ],
   "source": [
    "globals()"
   ]
  },
  {
   "cell_type": "code",
   "execution_count": 4,
   "id": "22f5bd76-890d-414c-8708-5074e5da7e3d",
   "metadata": {},
   "outputs": [
    {
     "data": {
      "text/plain": [
       "10"
      ]
     },
     "execution_count": 4,
     "metadata": {},
     "output_type": "execute_result"
    }
   ],
   "source": [
    "globals()['x']"
   ]
  },
  {
   "cell_type": "code",
   "execution_count": 5,
   "id": "abfa5c0e-7f29-46bc-b156-4ace186a6caf",
   "metadata": {},
   "outputs": [],
   "source": [
    "globals()['x'] = 900"
   ]
  },
  {
   "cell_type": "code",
   "execution_count": 6,
   "id": "f8edf7c2-e5f5-43da-ac18-adb94ef255f1",
   "metadata": {},
   "outputs": [
    {
     "data": {
      "text/plain": [
       "900"
      ]
     },
     "execution_count": 6,
     "metadata": {},
     "output_type": "execute_result"
    }
   ],
   "source": [
    "x"
   ]
  },
  {
   "cell_type": "markdown",
   "id": "2fff4471-cc02-4468-98bc-0709e0f0c6e5",
   "metadata": {},
   "source": [
    "### `locals` function\n",
    "\n",
    "In Python, `locals()` is a built-in function that returns a dictionary containing the current local symbol table. The local symbol table is a dictionary that maps variable names to their corresponding values in the local scope of a function.\n",
    "\n",
    "The output of the `locals()` function will be a dictionary that includes all the local variables defined in the function, as well as any built-in functions and modules that are available in the local scope."
   ]
  },
  {
   "cell_type": "code",
   "execution_count": 13,
   "id": "0f065f28-7ee5-41b6-ba86-923921aa14a6",
   "metadata": {},
   "outputs": [
    {
     "name": "stdout",
     "output_type": "stream",
     "text": [
      "Global value of x: 100\n",
      "Local value of x: 10\n"
     ]
    }
   ],
   "source": [
    "x = 100\n",
    "\n",
    "def f():\n",
    "    x = 10\n",
    "    print(f'Global value of x: {globals()[\"x\"]}')\n",
    "    print(f'Local value of x: {locals()[\"x\"]}')\n",
    "\n",
    "f()"
   ]
  },
  {
   "cell_type": "markdown",
   "id": "7b27c568-79aa-4c74-99ac-d0db8735c0a6",
   "metadata": {},
   "source": [
    "> **There are other places that dictionaries are used in Python internals, we will encounter them later in the course**"
   ]
  },
  {
   "cell_type": "code",
   "execution_count": null,
   "id": "fe2fcf86-11c5-4e8d-a8e7-170c06531b2c",
   "metadata": {},
   "outputs": [],
   "source": []
  }
 ],
 "metadata": {
  "kernelspec": {
   "display_name": "Python 3 (ipykernel)",
   "language": "python",
   "name": "python3"
  },
  "language_info": {
   "codemirror_mode": {
    "name": "ipython",
    "version": 3
   },
   "file_extension": ".py",
   "mimetype": "text/x-python",
   "name": "python",
   "nbconvert_exporter": "python",
   "pygments_lexer": "ipython3",
   "version": "3.9.7"
  }
 },
 "nbformat": 4,
 "nbformat_minor": 5
}
