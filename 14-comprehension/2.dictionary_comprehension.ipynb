{
 "cells": [
  {
   "cell_type": "markdown",
   "id": "3e17aae8-b08e-45e6-8d76-4afa2edbec4a",
   "metadata": {},
   "source": [
    "## Dictionary comprehension\n",
    "\n",
    "In Python, dictionary comprehension is a concise and readable way to create a new dictionary by transforming or filtering an existing one. It uses a similar syntax to list comprehension, but instead of creating a list, it creates a dictionary.\n",
    "\n",
    "The basic syntax of dictionary comprehension is as follows:\n",
    "\n",
    "```python\n",
    "{key_expression: value_expression for item in iterable if condition}\n",
    "```\n",
    "\n",
    "Here, `key_expression` and `value_expression` are expressions that define the key-value pairs of the new dictionary. `iterable` is the sequence of items to be transformed or filtered, and `condition` is an optional condition that filters the items. The resulting dictionary contains one key-value pair for each item in `iterable` that satisfies the condition.\n",
    "\n",
    "For example, suppose we have a dictionary containing the names and ages of students, and we want to create a new dictionary containing only the names of students who are older than 18. We can use dictionary comprehension to achieve this as follows:\n",
    "\n",
    "```python\n",
    "students = {'Alice': 19, 'Bob': 17, 'Charlie': 20, 'David': 18}\n",
    "adult_students = {name: age for (name, age) in students.items() if age > 18}\n",
    "```\n",
    "\n",
    "Here, `students.items()` returns a sequence of (key, value) tuples, which we use to define the key-value pairs of the new dictionary. The `if age > 18` condition filters out the students who are not older than 18. The resulting dictionary `adult_students` contains only the names and ages of students who are older than 18.\n",
    "\n",
    "Dictionary comprehension is a powerful and expressive feature of Python that can simplify many common data manipulation tasks. It allows you to create new dictionaries in a concise and readable way, using a syntax that is similar to list comprehension."
   ]
  },
  {
   "cell_type": "code",
   "execution_count": 1,
   "id": "2cf66c01-06ed-45cf-be03-bc7eb13a4726",
   "metadata": {},
   "outputs": [
    {
     "data": {
      "text/plain": [
       "{'Alice': 19, 'Charlie': 20}"
      ]
     },
     "execution_count": 1,
     "metadata": {},
     "output_type": "execute_result"
    }
   ],
   "source": [
    "students = {\n",
    "    'Alice': 19,\n",
    "    'Bob': 17,\n",
    "    'Charlie': 20,\n",
    "    'David': 18\n",
    "}\n",
    "\n",
    "adult_students = {\n",
    "    name: age \n",
    "    for (name, age) in students.items() \n",
    "    if age > 18\n",
    "}\n",
    "\n",
    "adult_students"
   ]
  },
  {
   "cell_type": "markdown",
   "id": "681da3d7-3e8a-4d7c-89e4-5ce51bf4e041",
   "metadata": {},
   "source": [
    "> **Lets do the same without comprehension**"
   ]
  },
  {
   "cell_type": "code",
   "execution_count": 2,
   "id": "a5423b82-00c7-45a9-bbb5-ff2ce9855d76",
   "metadata": {},
   "outputs": [
    {
     "data": {
      "text/plain": [
       "{'Alice': 19, 'Charlie': 20}"
      ]
     },
     "execution_count": 2,
     "metadata": {},
     "output_type": "execute_result"
    }
   ],
   "source": [
    "adult_students = {}\n",
    "for name, age in students.items():\n",
    "    if age > 18:\n",
    "        adult_students[name] = age\n",
    "\n",
    "adult_students"
   ]
  },
  {
   "cell_type": "markdown",
   "id": "fa1f2747-a5e4-467b-b55d-383f3c7fa74f",
   "metadata": {},
   "source": [
    "### Example 1: Create a dictionary from two lists of equal length:\n",
    "\n",
    "Write a function that given two lists, one for keys and other for values creates a dictionary."
   ]
  },
  {
   "cell_type": "code",
   "execution_count": 7,
   "id": "28c53ad1-3342-4ddc-8356-324e4ad7c47c",
   "metadata": {},
   "outputs": [],
   "source": [
    "def create_dict(keys, values):\n",
    "    if len(keys) != len(values):\n",
    "        raise ValueError('The lists must have the same size')\n",
    "    \n",
    "    return {\n",
    "        keys[i]: values[i]\n",
    "        for i in range(len(keys))\n",
    "    }"
   ]
  },
  {
   "cell_type": "code",
   "execution_count": 8,
   "id": "379ad287-b97a-44fd-8902-67a5f2ce8b06",
   "metadata": {},
   "outputs": [
    {
     "data": {
      "text/plain": [
       "{'a': 1, 'b': 2, 'c': 3}"
      ]
     },
     "execution_count": 8,
     "metadata": {},
     "output_type": "execute_result"
    }
   ],
   "source": [
    "create_dict(['a', 'b', 'c'], [1, 2, 3])"
   ]
  },
  {
   "cell_type": "markdown",
   "id": "57a94ea1-43b9-41a7-95be-f21e01016524",
   "metadata": {},
   "source": [
    "### Example 2: Word frequency\n",
    "\n",
    "Write a function that takes a string as input and returns the frequency of each word in it."
   ]
  },
  {
   "cell_type": "code",
   "execution_count": 9,
   "id": "a031715e-3622-49ca-92b2-7307ec0109f7",
   "metadata": {},
   "outputs": [],
   "source": [
    "def word_freq(text):\n",
    "    words = text.casefold().split(' ')\n",
    "    unique_words = set(words)\n",
    "    return {\n",
    "        word: words.count(word)\n",
    "        for word in unique_words\n",
    "    }"
   ]
  },
  {
   "cell_type": "markdown",
   "id": "ea8b0840-ae9c-47cf-ac37-e0e2d281ccac",
   "metadata": {
    "tags": []
   },
   "source": [
    "> **the `count` method is used to count the number of occurrences of a given element in a list.**"
   ]
  },
  {
   "cell_type": "code",
   "execution_count": 14,
   "id": "f576a069-2272-47f0-af9a-fa86894860d8",
   "metadata": {},
   "outputs": [
    {
     "data": {
      "text/plain": [
       "{'flytrap': 1,\n",
       " 'rosette': 1,\n",
       " 'to': 1,\n",
       " 'leaves': 1,\n",
       " 'described': 1,\n",
       " 'venus': 1,\n",
       " 'of': 1,\n",
       " 'the': 1,\n",
       " 'four': 1,\n",
       " 'be': 1,\n",
       " 'can': 1,\n",
       " 'as': 1,\n",
       " 'structure': 1,\n",
       " 'a': 2,\n",
       " 'small': 1,\n",
       " 'whose': 1,\n",
       " 'is': 1,\n",
       " 'seven': 1,\n",
       " 'plant': 1}"
      ]
     },
     "execution_count": 14,
     "metadata": {},
     "output_type": "execute_result"
    }
   ],
   "source": [
    "paragraph = 'The Venus flytrap is a small plant whose structure can be described as a rosette of four to seven leaves'\n",
    "word_freq(paragraph)"
   ]
  }
 ],
 "metadata": {
  "kernelspec": {
   "display_name": "Python 3 (ipykernel)",
   "language": "python",
   "name": "python3"
  },
  "language_info": {
   "codemirror_mode": {
    "name": "ipython",
    "version": 3
   },
   "file_extension": ".py",
   "mimetype": "text/x-python",
   "name": "python",
   "nbconvert_exporter": "python",
   "pygments_lexer": "ipython3",
   "version": "3.9.7"
  }
 },
 "nbformat": 4,
 "nbformat_minor": 5
}
