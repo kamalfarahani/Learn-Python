{
 "cells": [
  {
   "cell_type": "markdown",
   "id": "d166487e-57d8-4381-923c-a66b1eb15189",
   "metadata": {},
   "source": [
    "## Set comprehension\n",
    "\n",
    "In Python, set comprehension is a concise way to create a new set by defining its elements based on some condition or transformation. It allows you to create a set on-the-fly, without the need for a loop construct.\n",
    "\n",
    "The general form of set comprehension in Python is:\n",
    "\n",
    "```python\n",
    "{ expression for item in iterable if condition }\n",
    "```\n",
    "\n",
    "where:\n",
    "- `expression` is an expression that defines the set element based on `item`.\n",
    "- `item` is a variable that takes on each value in the `iterable`.\n",
    "- `iterable` is a sequence of values that `item` takes on, such as a list, tuple, or set.\n",
    "- `condition` (optional) is an expression that filters the `item` based on some condition.\n",
    "\n",
    "The set comprehension expression is enclosed in curly braces `{}` and can be assigned to a variable or used directly in code. The expression is evaluated for each `item` in the `iterable`, and the resulting set contains the transformed elements.\n",
    "\n",
    "Here's an example of a set comprehension that creates a set of even numbers between 1 and 10:\n",
    "\n",
    "```\n",
    "even_numbers = {n for n in range(1, 11) if n % 2 == 0}\n",
    "```\n",
    "\n",
    "In this example, `expression` is simply `n`, which defines the set element based on `item`. `item` takes on each value in the `range(1, 11)` sequence, and the `if` statement filters out odd numbers. The resulting set `even_numbers` contains the even numbers between 1 and 10: `{2, 4, 6, 8, 10}`.\n",
    "\n",
    "The syntax for set comprehension is similar to that of list comprehension, but with curly braces ({}) instead of square brackets ([]). Here's an example:\n",
    "\n",
    "```python\n",
    "numbers = {1, 2, 3, 4, 5}\n",
    "squares = {n*n for n in numbers}\n",
    "print(squares) # Output: {1, 4, 9, 16, 25}\n",
    "```\n",
    "\n",
    "In this example, we first define the set `numbers` containing the numbers 1 to 5. We then use set comprehension to create a new set `squares` containing the squares of each number in `numbers`. The expression inside the curly braces `{n*n for n in numbers}` is evaluated for each element `n` in `numbers`, resulting in the set of squares.\n",
    "\n",
    "You can also add a condition to set comprehension using an `if` statement. For example:\n",
    "\n",
    "```python\n",
    "numbers = {1, 2, 3, 4, 5}\n",
    "even_squares = {n*n for n in numbers if n % 2 == 0}\n",
    "print(even_squares) # Output: {4, 16}\n",
    "```\n",
    "\n",
    "In this example, we use set comprehension to create a new set `even_squares` containing the squares of even numbers in the set `numbers`. The `if` statement filters out odd numbers from the set comprehension."
   ]
  },
  {
   "cell_type": "code",
   "execution_count": 3,
   "id": "507b086c-4c07-4257-b61e-e433cfc8fa7d",
   "metadata": {},
   "outputs": [
    {
     "name": "stdout",
     "output_type": "stream",
     "text": [
      "{1, 4, 9, 16, 25}\n"
     ]
    }
   ],
   "source": [
    "numbers = {1, 2, 3, 4, 5}\n",
    "squares = {n*n for n in numbers}\n",
    "print(squares)"
   ]
  },
  {
   "cell_type": "code",
   "execution_count": 4,
   "id": "7940ba78-6f8c-473c-9e2d-ab4479dc3660",
   "metadata": {},
   "outputs": [
    {
     "name": "stdout",
     "output_type": "stream",
     "text": [
      "{16, 4}\n"
     ]
    }
   ],
   "source": [
    "numbers = {1, 2, 3, 4, 5}\n",
    "even_squares = {n*n for n in numbers if n % 2 == 0}\n",
    "print(even_squares)"
   ]
  }
 ],
 "metadata": {
  "kernelspec": {
   "display_name": "Python 3 (ipykernel)",
   "language": "python",
   "name": "python3"
  },
  "language_info": {
   "codemirror_mode": {
    "name": "ipython",
    "version": 3
   },
   "file_extension": ".py",
   "mimetype": "text/x-python",
   "name": "python",
   "nbconvert_exporter": "python",
   "pygments_lexer": "ipython3",
   "version": "3.9.7"
  }
 },
 "nbformat": 4,
 "nbformat_minor": 5
}
