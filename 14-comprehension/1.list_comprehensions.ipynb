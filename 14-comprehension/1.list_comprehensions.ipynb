{
 "cells": [
  {
   "cell_type": "markdown",
   "id": "89142fc6-f6fb-4a3e-871c-0a7dd3cf0f8b",
   "metadata": {},
   "source": [
    "## Comprehension\n",
    "\n",
    "In Python, comprehension is a concise, readable and easy way to create a new iterable (e.g., list, tuple, set, or dictionary) by transforming or filtering the elements of an existing iterable.\n",
    "\n",
    "We cover three types of comprehensions in this course: list comprehensions, dictionary comprehensions, and set comprehensions. \n",
    "\n",
    "1. **List comprehensions**: List comprehension is a way to create a new list by applying an expression to each element of an existing list or other iterable object. List comprehensions are enclosed in square brackets and consist of an input sequence, a variable representing each element of the input sequence, and an output expression. List comprehensions can also include a conditional expression to filter the elements of the input sequence. Here is an example:\n",
    "\n",
    "```python\n",
    "# create a list of squares of even numbers from 0 to 9\n",
    "squares_of_even_numbers = [x**2 for x in range(10) if x % 2 == 0]\n",
    "```\n",
    "\n",
    "2. **Dictionary comprehensions**: Dictionary comprehension is a way to create a new dictionary by applying an expression to each key-value pair of an existing dictionary or other iterable object. Dictionary comprehensions are enclosed in curly braces and consist of an input sequence, a key variable representing each key of the input sequence, a value variable representing each value of the input sequence, and an output expression. Dictionary comprehensions can also include a conditional expression to filter the key-value pairs of the input sequence. Here is an example:\n",
    "\n",
    "```python\n",
    "# create a dictionary that maps each even number from 0 to 9 to its square\n",
    "squares_of_even_numbers_dict = {x: x**2 for x in range(10) if x % 2 == 0}\n",
    "```\n",
    "\n",
    "3. **Set comprehensions**: Set comprehension is a way to create a new set by applying an expression to each element of an existing set or other iterable object. Set comprehensions are enclosed in curly braces and consist of an input sequence, a variable representing each element of the input sequence, and an output expression. Set comprehensions can also include a conditional expression to filter the elements of the input sequence. Here is an example:\n",
    "\n",
    "```python\n",
    "# create a set of squares of even numbers from 0 to 9\n",
    "squares_of_even_numbers_set = {x**2 for x in range(10) if x % 2 == 0}\n",
    "```\n",
    "\n",
    "Comprehensions work well for simple cases, for complex cases they can quickly become undreadable, so use them with caution."
   ]
  },
  {
   "cell_type": "markdown",
   "id": "9c3adca7-94c8-4668-a0ec-951595ee740e",
   "metadata": {},
   "source": [
    "### List comprehensions\n",
    "\n",
    "List comprehension is a concise and expressive way to create a new list by applying an expression to each element of an existing list or other iterable object. It is one of the most frequently used features of Python and a powerful tool for working with data.\n",
    "\n",
    "The general form of list comprehension in Python is:\n",
    "\n",
    "```python\n",
    "[ expression for item in iterable if condition ]\n",
    "```\n",
    "\n",
    "where:\n",
    "- `expression` is an expression that defines the list element based on `item`.\n",
    "- `item` is a variable that takes on each value in the `iterable`.\n",
    "- `iterable` is a sequence of values that `item` takes on, such as a list, tuple, or set.\n",
    "- `condition` (optional) is an expression that filters the `item` based on some condition.\n",
    "\n",
    "The list comprehension expression is enclosed in square brackets `[]` and can be assigned to a variable or used directly in code. The expression is evaluated for each `item` in the `iterable`, and the resulting list contains the transformed elements.\n",
    "\n",
    "Here's an example of a list comprehension that creates a list of squares of even numbers between 1 and 10:\n",
    "\n",
    "```\n",
    "even_squares = [n*n for n in range(1, 11) if n % 2 == 0]\n",
    "```\n",
    "\n",
    "In this example, `expression` is simply `n*n`, which defines the list element based on `item`. `item` takes on each value in the `range(1, 11)` sequence, and the `if` statement filters out odd numbers. The resulting list `even_squares` contains the squares of even numbers between 1 and 10: `[4, 16, 36, 64, 100]`.\n",
    "\n",
    "Here, `expression` is the operation or computation that is performed on each element of the iterable, `item` is the variable used to represent each element of the iterable, `iterable` is the existing sequence that is being iterated over, and **`condition` is an optional expression that can be used to filter out elements from the new list.**\n",
    "\n",
    "For example, let's say we have a list of numbers from 1 to 10, and we want to create a new list of squares of even numbers from that list. Here is how we can use list comprehension to achieve that:\n",
    "\n",
    "```python\n",
    "# create a list of squares of even numbers from 1 to 10\n",
    "numbers = [1, 2, 3, 4, 5, 6, 7, 8, 9, 10]\n",
    "squares_of_even_numbers = [x**2 for x in numbers if x % 2 == 0]\n",
    "```\n",
    "\n",
    "In this example, we first define the list of numbers from 1 to 10. Then, we use list comprehension to create a new list `squares_of_even_numbers` that contains the square of each even number in the original list. The expression `x**2` computes the square of each element `x` of the iterable, and the condition `if x % 2 == 0` filters out the odd numbers.\n",
    "\n",
    "List comprehension can also be nested, which makes it a powerful tool for working with nested data structures. Here is an example that uses nested list comprehension to create a new list of the Cartesian products of two lists:\n",
    "\n",
    "```python\n",
    "# create a list of the Cartesian products of two lists\n",
    "list_1 = [1, 2, 3]\n",
    "list_2 = ['a', 'b', 'c']\n",
    "cartesian_product = [(x, y) for x in list_1 for y in list_2]\n",
    "```\n",
    "\n",
    "In this example, we create a new list `cartesian_product` that contains all the pairs of elements from `list1` and `list2`. The expression `(x, y)` creates a tuple that contains the current element `x` from `list1` and the current element `y` from `list2`. The nested loop iterates over all possible pairs of elements from the two lists."
   ]
  },
  {
   "cell_type": "code",
   "execution_count": 6,
   "id": "4c204ce7-eb81-43c2-b37b-30dee5cbe74d",
   "metadata": {},
   "outputs": [
    {
     "name": "stdout",
     "output_type": "stream",
     "text": [
      "[4, 16, 36, 64, 100]\n"
     ]
    }
   ],
   "source": [
    "numbers = [1, 2, 3, 4, 5, 6, 7, 8, 9, 10]\n",
    "squares_of_even_numbers = [x**2 for x in numbers if x % 2 == 0]\n",
    "\n",
    "print(squares_of_even_numbers)"
   ]
  },
  {
   "cell_type": "markdown",
   "id": "31eea105-9f86-405d-afe2-77ae1d93785d",
   "metadata": {},
   "source": [
    "> **Without comprehension we can write it this way:**"
   ]
  },
  {
   "cell_type": "code",
   "execution_count": 20,
   "id": "51ecbae9-7bab-4a69-b7c6-119c211d4155",
   "metadata": {},
   "outputs": [
    {
     "name": "stdout",
     "output_type": "stream",
     "text": [
      "[4, 16, 36, 64, 100]\n"
     ]
    }
   ],
   "source": [
    "numbers = [1, 2, 3, 4, 5, 6, 7, 8, 9, 10]\n",
    "squares_of_even_numbers = []\n",
    "for x in numbers:\n",
    "    if x % 2 == 0:\n",
    "        squares_of_even_numbers.append(x**2)\n",
    "\n",
    "print(squares_of_even_numbers)"
   ]
  },
  {
   "cell_type": "markdown",
   "id": "9d498f82-cd2b-4d08-87eb-18c19215506b",
   "metadata": {},
   "source": [
    "> **if part of the comprehension is optional**"
   ]
  },
  {
   "cell_type": "code",
   "execution_count": 1,
   "id": "9838e5db-4ae6-4b95-8942-c7fbd7bc3b6d",
   "metadata": {},
   "outputs": [
    {
     "name": "stdout",
     "output_type": "stream",
     "text": [
      "[1, 4, 9, 16, 25, 36, 49, 64, 81, 100]\n"
     ]
    }
   ],
   "source": [
    "numbers = [1, 2, 3, 4, 5, 6, 7, 8, 9, 10]\n",
    "numbers_sq = [x ** 2 for x in numbers]\n",
    "print(numbers_sq)"
   ]
  },
  {
   "cell_type": "markdown",
   "id": "0f70693e-13b2-43e7-a315-fd38b184dc2c",
   "metadata": {},
   "source": [
    "> **We can write cartesian product of two lists like this using comprehension**"
   ]
  },
  {
   "cell_type": "code",
   "execution_count": 19,
   "id": "f18b221d-e71c-46ee-877b-8213c7fc2291",
   "metadata": {},
   "outputs": [
    {
     "name": "stdout",
     "output_type": "stream",
     "text": [
      "[(1, 'a'), (1, 'b'), (1, 'c'), (2, 'a'), (2, 'b'), (2, 'c'), (3, 'a'), (3, 'b'), (3, 'c')]\n"
     ]
    }
   ],
   "source": [
    "list_1 = [1, 2, 3]\n",
    "list_2 = ['a', 'b', 'c']\n",
    "\n",
    "cartesian_product = [(x, y) for x in list_1 for y in list_2]\n",
    "\n",
    "print(cartesian_product)"
   ]
  },
  {
   "cell_type": "markdown",
   "id": "38954ac1-6c90-4c4a-861f-2e6e94725942",
   "metadata": {},
   "source": [
    "> **Lets write it without comprehensions:**"
   ]
  },
  {
   "cell_type": "code",
   "execution_count": 16,
   "id": "e4c05e5b-d91e-47ae-b33f-8cd297be43e3",
   "metadata": {},
   "outputs": [
    {
     "name": "stdout",
     "output_type": "stream",
     "text": [
      "[(1, 'a'), (1, 'b'), (1, 'c'), (2, 'a'), (2, 'b'), (2, 'c'), (3, 'a'), (3, 'b'), (3, 'c')]\n"
     ]
    }
   ],
   "source": [
    "list_1 = [1, 2, 3]\n",
    "list_2 = ['a', 'b', 'c']\n",
    "\n",
    "cartesian_product = []\n",
    "for x_1 in list_1:\n",
    "    for x_2 in list_2:\n",
    "        cartesian_product.append((x_1, x_2))\n",
    "\n",
    "print(cartesian_product)"
   ]
  },
  {
   "cell_type": "markdown",
   "id": "d67d15b0-7efa-49f3-b655-276284309a41",
   "metadata": {},
   "source": [
    "### Example 1: Common elements from two lists\n",
    "\n",
    "Write a function that takes two list as input and returns a list of common elements from two lists, write it using list comprehension: "
   ]
  },
  {
   "cell_type": "code",
   "execution_count": 1,
   "id": "7956c8b6-121f-4d07-adbd-0978fe832568",
   "metadata": {},
   "outputs": [],
   "source": [
    "def commom_elements(l1, l2):\n",
    "    return [\n",
    "        x for x in l1\n",
    "        if x in l2\n",
    "    ]"
   ]
  },
  {
   "cell_type": "code",
   "execution_count": 2,
   "id": "8ffdde95-d5b0-4a50-82ef-c18ea62fff04",
   "metadata": {},
   "outputs": [
    {
     "data": {
      "text/plain": [
       "[2, 3]"
      ]
     },
     "execution_count": 2,
     "metadata": {},
     "output_type": "execute_result"
    }
   ],
   "source": [
    "commom_elements([1,2,3], [2, 100, 3, 50])"
   ]
  },
  {
   "cell_type": "markdown",
   "id": "bb523f25-8929-44ac-980e-fb8a30d35d7f",
   "metadata": {},
   "source": [
    "### Example 2: Prime numbers\n",
    "Write a function that takes an integer as input and returns a set of all prime numbers until that integer:"
   ]
  },
  {
   "cell_type": "code",
   "execution_count": 15,
   "id": "1bfce7ee-7565-4d4d-8099-b9d3b916c4c6",
   "metadata": {},
   "outputs": [],
   "source": [
    "def primes(n):\n",
    "    not_primes = set([\n",
    "        x\n",
    "        for x in range(2, n)\n",
    "        for i in range(2, x)\n",
    "        if x % i == 0\n",
    "    ])\n",
    "    \n",
    "    return set(range(2, n)) - not_primes"
   ]
  },
  {
   "cell_type": "code",
   "execution_count": 16,
   "id": "e25e7069-121a-41c6-a34a-f070e0aa4ed2",
   "metadata": {},
   "outputs": [
    {
     "data": {
      "text/plain": [
       "{2, 3, 5, 7, 11, 13, 17, 19}"
      ]
     },
     "execution_count": 16,
     "metadata": {},
     "output_type": "execute_result"
    }
   ],
   "source": [
    "primes(20)"
   ]
  },
  {
   "cell_type": "markdown",
   "id": "a7a90b0c-dc47-4883-8601-5ae602d884b8",
   "metadata": {},
   "source": [
    "### Example 3: $n \\times n$ zero matrix\n",
    "\n",
    "Write a function that takes a positive integer $n$, as input and returns a $n \\times n$ zero matrix."
   ]
  },
  {
   "cell_type": "code",
   "execution_count": 17,
   "id": "0592f22f-acc5-4d60-8fc4-4131d689ad50",
   "metadata": {},
   "outputs": [],
   "source": [
    "def make_zero_matrix(n):\n",
    "    return [\n",
    "        [0 for j in range(n)]\n",
    "        for i in range(n)\n",
    "    ]"
   ]
  },
  {
   "cell_type": "code",
   "execution_count": 19,
   "id": "d1c5cf6a-7eb3-40bb-ba82-50e0904c8bd8",
   "metadata": {},
   "outputs": [
    {
     "data": {
      "text/plain": [
       "[[0, 0, 0, 0, 0, 0, 0, 0, 0, 0],\n",
       " [0, 0, 0, 0, 0, 0, 0, 0, 0, 0],\n",
       " [0, 0, 0, 0, 0, 0, 0, 0, 0, 0],\n",
       " [0, 0, 0, 0, 0, 0, 0, 0, 0, 0],\n",
       " [0, 0, 0, 0, 0, 0, 0, 0, 0, 0],\n",
       " [0, 0, 0, 0, 0, 0, 0, 0, 0, 0],\n",
       " [0, 0, 0, 0, 0, 0, 0, 0, 0, 0],\n",
       " [0, 0, 0, 0, 0, 0, 0, 0, 0, 0],\n",
       " [0, 0, 0, 0, 0, 0, 0, 0, 0, 0],\n",
       " [0, 0, 0, 0, 0, 0, 0, 0, 0, 0]]"
      ]
     },
     "execution_count": 19,
     "metadata": {},
     "output_type": "execute_result"
    }
   ],
   "source": [
    "make_zero_matrix(10)"
   ]
  }
 ],
 "metadata": {
  "kernelspec": {
   "display_name": "Python 3 (ipykernel)",
   "language": "python",
   "name": "python3"
  },
  "language_info": {
   "codemirror_mode": {
    "name": "ipython",
    "version": 3
   },
   "file_extension": ".py",
   "mimetype": "text/x-python",
   "name": "python",
   "nbconvert_exporter": "python",
   "pygments_lexer": "ipython3",
   "version": "3.9.7"
  }
 },
 "nbformat": 4,
 "nbformat_minor": 5
}
