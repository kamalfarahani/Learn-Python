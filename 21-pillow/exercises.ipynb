{
 "cells": [
  {
   "cell_type": "markdown",
   "id": "3e40747a-4112-42e4-b4de-5c3cb8fb7dea",
   "metadata": {},
   "source": [
    "### Exercises"
   ]
  },
  {
   "cell_type": "markdown",
   "id": "96e160c7-162e-4829-a7c5-8f0d11f77859",
   "metadata": {},
   "source": [
    "#### Question 1\n",
    "You have been given a task to perform various image transformations using the Python Imaging Library (PIL) in Python. Write a Python function that accomplishes the following tasks:\n",
    "\n",
    "1. Load an image named `\"grass.jpg\"` from the `imgs` directory.\n",
    "2. Resize the image to have a width of 600 pixels and a height of 400 pixels.\n",
    "3. Convert the resized image to grayscale.\n",
    "4. Apply a rotation of 45 degrees clockwise to the grayscale image.\n",
    "5. Crop a rectangular region from the rotated image, starting from the top-left corner, with a width of 200 pixels and a height of 200 pixels.\n",
    "6. Save the resulting cropped image as `\"q1.jpg\"` in the current directory.\n",
    "\n",
    "Your function should accept the image file path as a parameter, handle any necessary exceptions, and return the file path of the output image."
   ]
  },
  {
   "cell_type": "markdown",
   "id": "271a4d4d-7198-432f-b162-b5d721e72154",
   "metadata": {},
   "source": [
    "#### Question 2\n",
    "\n",
    "\n",
    "The Python Imaging Library (PIL) offers a variety of useful modules and functions. One such module is `ImageOps`, which provides several image operation functions for performing common transformations. Before proceeding with the task, let's briefly explore what the `ImageOps` module in PIL offers.\n",
    "\n",
    "`ImageOps` is a module in PIL that provides a collection of image operation functions, making it easier to apply various transformations to images. These functions include operations like flipping, mirroring, inverting colors, adjusting brightness and contrast, and more.\n",
    "\n",
    "Now, let's dive into a hands-on exercise. Your task is to search for two specific functions in the `ImageOps` module: `flip` and `mirror`. Apply these functions to an image and save the results.\n",
    "\n",
    "To complete this task, follow these steps:\n",
    "\n",
    "1. Import the necessary modules for image manipulation in PIL (`Image` and `ImageOps`).\n",
    "2. Load an image of your choice using the `Image` module from PIL.\n",
    "3. Search for the functions `ImageOps.flip` and `ImageOps.mirror` in the PIL documentation or any relevant online resources.\n",
    "4. Apply the `flip` function to the loaded image and save the result as \"flipped_image.jpg\".\n",
    "5. Apply the `mirror` function to the original image and save the result as \"mirrored_image.jpg\".\n",
    "6. Ensure that the image files are closed after use.\n",
    "\n",
    "Once you have applied the `flip` and `mirror` functions to the image and saved the results, you have completed the task."
   ]
  }
 ],
 "metadata": {
  "kernelspec": {
   "display_name": "Python 3 (ipykernel)",
   "language": "python",
   "name": "python3"
  },
  "language_info": {
   "codemirror_mode": {
    "name": "ipython",
    "version": 3
   },
   "file_extension": ".py",
   "mimetype": "text/x-python",
   "name": "python",
   "nbconvert_exporter": "python",
   "pygments_lexer": "ipython3",
   "version": "3.11.4"
  }
 },
 "nbformat": 4,
 "nbformat_minor": 5
}
