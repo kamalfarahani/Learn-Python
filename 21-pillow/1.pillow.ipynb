{
 "cells": [
  {
   "cell_type": "markdown",
   "id": "ede4140f-dbdf-43a2-9b16-3a64edee9e40",
   "metadata": {},
   "source": [
    "## Pillow\n",
    "\n",
    "The Pillow library is a popular open-source Python library used for image processing and manipulation tasks. It provides a wide range of functions and methods to create, edit, and process images in various formats.\n",
    "\n",
    "Here are some key features and functionalities of the Pillow library:\n",
    "\n",
    "1. Image Loading and Saving: Pillow allows you to load images from different file formats such as JPEG, PNG, BMP, TIFF, and more. It also provides functions to save images in different formats.\n",
    "\n",
    "1. Image Manipulation: You can perform various image manipulation operations using Pillow, such as resizing, cropping, rotating, flipping, and adjusting the brightness, contrast, and colors of an image.\n",
    "\n",
    "1. Image Filtering and Enhancement: Pillow supports different image filters, including blurring, sharpening, edge enhancement, and smoothing. These filters can be applied to improve image quality or achieve specific visual effects.\n",
    "\n",
    "1. Image Drawing: You can draw shapes, lines, text, and other graphical elements on an image using the Pillow library. It provides functions to add annotations, labels, or watermarks to images.\n",
    "\n",
    "1. Image Transformations: Pillow supports affine transformations like scaling, translation, rotation, and shearing. These transformations can be used to modify the geometric properties of an image.\n",
    "\n",
    "1. Image Analysis: Pillow allows you to access and manipulate individual pixels of an image. You can retrieve pixel values, modify them, or perform operations like histogram equalization or color space conversion.\n",
    "\n",
    "Pillow is easy to install and use, making it a popular choice for image processing tasks in Python. It provides a simple and intuitive API, and its extensive documentation offers detailed information and examples to help you get started with image processing using Pillow."
   ]
  },
  {
   "cell_type": "markdown",
   "id": "f8251449-e2b3-4a2b-bac4-723c15f3b2d2",
   "metadata": {},
   "source": [
    "### Installing Pillow\n",
    "\n",
    "To use the Pillow library in Python, you need to follow these steps:\n",
    "\n",
    "1. Installation: First, you need to install the Pillow library. You can do this by running the following command using pip, which is the package installer for Python:\n",
    "\n",
    "   ```bash\n",
    "   pip install pillow\n",
    "   ```\n",
    "\n",
    "1. Importing the Library: Once you have installed Pillow, you can import it in your Python script or interactive session using the `import` statement:\n",
    "\n",
    "   ```python\n",
    "   from PIL import Image\n",
    "   ```\n",
    "\n",
    "   This imports the `Image` module from the Pillow library, which contains functions and classes related to image processing."
   ]
  },
  {
   "cell_type": "markdown",
   "id": "c83c56c5-5a76-4a91-8edd-b4be0824793d",
   "metadata": {
    "tags": []
   },
   "source": [
    "### `Image` class\n",
    "\n",
    "In the Pillow library (also known as PIL or PILLOW), the `Image` class is one of the key components. It represents an image and provides a range of methods to manipulate and process image data.\n",
    "\n",
    "Here's an example that demonstrates loading an image using PIL and manipulating its size:\n",
    "\n",
    "```python\n",
    "from PIL import Image\n",
    "\n",
    "# Load the image from file\n",
    "image = Image.open(\"path/to/image.jpg\")\n",
    "\n",
    "# Print the original size\n",
    "print(\"Original size:\", image.size)\n",
    "\n",
    "# Resize the image\n",
    "new_width = 800\n",
    "new_height = 600\n",
    "resized_image = image.resize((new_width, new_height))\n",
    "\n",
    "# Print the resized size\n",
    "print(\"Resized size:\", resized_image.size)\n",
    "\n",
    "# Save the resized image\n",
    "resized_image.save(\"path/to/save/resized_image.jpg\")\n",
    "```\n",
    "\n",
    "In this example, we first load an image from a file using `Image.open()`. Then, we print the original size of the image using the `size` property.\n",
    "\n",
    "Next, we define the desired new width and height for the resized image. We use the `resize()` method to create a new resized image with the specified dimensions.\n",
    "\n",
    "After resizing, we print the size of the resized image. Finally, we save the resized image to a file using the `save()` method.\n",
    "\n",
    "Make sure to replace `\"path/to/image.jpg\"` with the actual path to your image file and `\"path/to/save/resized_image.jpg\"` with the desired path to save the resized image."
   ]
  },
  {
   "cell_type": "code",
   "execution_count": 2,
   "id": "674d47d1-e0a9-405b-93e3-7f5cfc269bc5",
   "metadata": {},
   "outputs": [
    {
     "name": "stdout",
     "output_type": "stream",
     "text": [
      "Original size: (1920, 2880)\n",
      "Resized size: (500, 500)\n"
     ]
    }
   ],
   "source": [
    "from PIL import Image\n",
    "\n",
    "image = Image.open(\"./imgs/grass.jpg\")\n",
    "\n",
    "# Print the original size\n",
    "print(\"Original size:\", image.size)\n",
    "\n",
    "# Resize the image\n",
    "new_width = 500\n",
    "new_height = 500\n",
    "resized_image = image.resize((new_width, new_height))\n",
    "\n",
    "# Print the resized size\n",
    "print(\"Resized size:\", resized_image.size)\n",
    "\n",
    "# Save the resized image\n",
    "resized_image.save('./imgs/grass_resized.jpg')"
   ]
  },
  {
   "cell_type": "markdown",
   "id": "c49b5d3d-3434-421c-b07c-00d8b2754baa",
   "metadata": {},
   "source": [
    "#### Example 1: changing format of an image\n",
    "\n",
    "Here's an example that demonstrates changing the format of an image using PIL:\n",
    "\n",
    "```python\n",
    "from PIL import Image\n",
    "\n",
    "# Load the image from file\n",
    "image = Image.open(\"path/to/image.jpg\")\n",
    "\n",
    "# Convert the image to a different format\n",
    "image.save(\"path/to/save/converted_image.png\", format=\"PNG\")\n",
    "```\n",
    "\n",
    "In this example, we first load an image from a file using `Image.open()`.\n",
    "\n",
    "Next, we use the `save` method to convert the image to a different format. We specify the desired path to save the converted image.\n",
    "\n",
    "To change the format, we set the `format` parameter to the desired format. In this example, we convert the image to the PNG format. You can replace `\"PNG\"` with other supported formats such as `\"JPEG\"`, `\"GIF\"`, `\"BMP\"`, etc.\n",
    "\n",
    "The converted image is saved to the specified path with the new format.\n",
    "\n",
    "Make sure to replace `\"path/to/image.jpg\"` with the actual path to your image file and `\"path/to/save/converted_image.png\"` with the desired path to save the converted image."
   ]
  },
  {
   "cell_type": "code",
   "execution_count": 8,
   "id": "8edbe2f3-ad9e-48b5-acc0-25c8dbcd588c",
   "metadata": {},
   "outputs": [],
   "source": [
    "from PIL import Image\n",
    "\n",
    "image = Image.open(\"./imgs/marcus.jpg\")\n",
    "\n",
    "image.save(\"./imgs/marcus_converted.png\", format=\"PNG\")"
   ]
  },
  {
   "cell_type": "markdown",
   "id": "b51fa99c-466f-4d42-80c8-0561ad8d179f",
   "metadata": {},
   "source": [
    "#### Example 2: Compressing an image\n",
    "\n",
    "There are several reasons why you may need to compress an image such as reducing file size, with `PIL` library we can do this easily, here's an example that demonstrates compressing an image using PIL:\n",
    "\n",
    "```python\n",
    "from PIL import Image\n",
    "\n",
    "image = Image.open(\"path/to/image\")\n",
    "if img.mode != \"RGB\":\n",
    "    img = img.convert(\"RGB\")\n",
    "    img.save('path/to/save/compressed_image.jpg', format=\"JPEG\", optimize=True, quality=80)\n",
    "```\n",
    "\n",
    "In this example, we first load an image from a file using `Image.open`.\n",
    "\n",
    "Next, we use the `save` method to compress the image. We specify the desired path to save the compressed image.\n",
    "\n",
    "To enable optimization for reduced file size, we set the `optimize` parameter to `True`. This allows PIL to apply additional optimizations during the compression process.\n",
    "\n",
    "We can also specify the desired quality of the compressed image using the `quality` parameter. The quality value should be an integer between 0 and 100, where 0 represents the lowest quality and 100 represents the highest quality. Adjust the `quality` value as per your requirements.\n",
    "\n",
    "The compressed image is saved to the specified path.\n",
    "\n",
    "Make sure to replace `\"path/to/image.jpg\"` with the actual path to your image file and `\"path/to/save/compressed_image.jpg\"` with the desired path to save the compressed image."
   ]
  },
  {
   "cell_type": "code",
   "execution_count": 4,
   "id": "5a1586e3-813f-4c54-8507-f0c5dcd3cb74",
   "metadata": {},
   "outputs": [],
   "source": [
    "def compress_image(source_path, dest_path, quality):\n",
    "    with Image.open(source_path) as img:\n",
    "        if img.mode != \"RGB\":\n",
    "            img = img.convert(\"RGB\")\n",
    "        img.save(dest_path, \"JPEG\", optimize=True, quality=quality)"
   ]
  },
  {
   "cell_type": "code",
   "execution_count": 9,
   "id": "61154cf1-0fd9-4faf-9cd1-731c9bc1c533",
   "metadata": {},
   "outputs": [],
   "source": [
    "compress_image('./imgs/child.jpg', './imgs/child2.jpg', 50)"
   ]
  },
  {
   "cell_type": "markdown",
   "id": "ebc67f69-d053-495a-a94e-034c0d99ba41",
   "metadata": {},
   "source": [
    "#### Example 3: Grayscale an image\n",
    "\n",
    "To grayscale an image using PIL, you can utilize the `convert` method along with the `\"L\"` mode. Here's an example:\n",
    "\n",
    "```python\n",
    "from PIL import Image\n",
    "\n",
    "# Load the image from file\n",
    "image = Image.open(\"path/to/image.jpg\")\n",
    "\n",
    "# Convert the image to grayscale\n",
    "grayscale_image = image.convert(\"L\")\n",
    "\n",
    "# Save the grayscaled image\n",
    "grayscale_image.save(\"path/to/save/grayscale_image.jpg\")\n",
    "```\n",
    "\n",
    "In this example, we first load an image from a file using `Image.open`.\n",
    "\n",
    "Next, we use the `convert` method to convert the image to grayscale. By passing `\"L\"` as the mode argument, PIL converts the image to grayscale (luminance) mode.\n",
    "\n",
    "Then, we save the grayscaled image using the `save` method.\n",
    "\n",
    "Make sure to replace `\"path/to/image.jpg\"` with the actual path to your image file and `\"path/to/save/grayscale_image.jpg\"` with the desired path to save the grayscaled image."
   ]
  },
  {
   "cell_type": "code",
   "execution_count": 13,
   "id": "7bf5db4e-a0e7-47b5-815d-3690f086a124",
   "metadata": {},
   "outputs": [],
   "source": [
    "from PIL import Image\n",
    "\n",
    "image = Image.open(\"./imgs/grass.jpg\")\n",
    "\n",
    "grayscale_image = image.convert(\"L\")\n",
    "\n",
    "grayscale_image.save(\"./imgs/grass_gray.jpg\")"
   ]
  },
  {
   "cell_type": "markdown",
   "id": "f9779dec-5eea-486d-84ea-19d18e81661b",
   "metadata": {},
   "source": [
    "#### Example 4: Create gif from a list of images\n",
    "\n",
    "To create a GIF animation from a group of pictures using PIL, you can use the `ImageSequence` module in combination with the `save()` method. Here's an example:\n",
    "\n",
    "```python\n",
    "from PIL import Image, ImageSequence\n",
    "\n",
    "# Create a list to hold the individual image frames\n",
    "frames = []\n",
    "\n",
    "# Load each image and append it to the frames list\n",
    "image_filenames = [\"image1.jpg\", \"image2.jpg\", \"image3.jpg\"]  # Replace with your image filenames\n",
    "for filename in image_filenames:\n",
    "    image = Image.open(filename)\n",
    "    frames.append(image)\n",
    "\n",
    "# Save the frames as a GIF animation\n",
    "frames[0].save(\"path/to/save/animation.gif\", save_all=True, append_images=frames[1:], duration=200, loop=0)\n",
    "```\n",
    "\n",
    "In this example, we assume you have a list of image filenames (`image_filenames`) representing the individual frames of the GIF animation. Replace `\"image1.jpg\"`, `\"image2.jpg\"`, `\"image3.jpg\"`, etc., with the actual filenames of your images.\n",
    "\n",
    "We create an empty list called `frames` to hold the individual image frames.\n",
    "\n",
    "Next, we loop through the image filenames and open each image using `Image.open()`. We then append each image to the `frames` list.\n",
    "\n",
    "Finally, we call the `save()` method on the first image frame (`frames[0]`). By specifying `save_all=True`, `append_images=frames[1:]`, `duration=200`, and `loop=0`, we save the frames as a GIF animation with the specified settings. Adjust the `duration` value (in milliseconds) to control the time duration between frames. Setting `loop=0` indicates an infinite looping of the animation.\n",
    "\n",
    "Make sure to replace `\"path/to/save/animation.gif\"` with the desired path to save the generated GIF animation."
   ]
  },
  {
   "cell_type": "code",
   "execution_count": 23,
   "id": "c05c8b1b-039b-4eac-bc9a-86c05dc80324",
   "metadata": {},
   "outputs": [],
   "source": [
    "from PIL import Image, ImageSequence\n",
    "\n",
    "frames = []\n",
    "\n",
    "image_filenames = [\"r1.png\", \"r2.png\", \"r3.png\", \"r4.png\", \"r5.png\", \"r6.png\", \"r7.png\", \"r8.png\", \"r9.png\", \"r10.png\"]  # Replace with your image filenames\n",
    "\n",
    "frames = [ Image.open(f'./imgs/run/{filename}') for filename in image_filenames ]\n",
    "\n",
    "frames[0].save(\"./imgs/animation.gif\", foramt='GIF', save_all=True, append_images=frames[1:], duration=100, loop=0)"
   ]
  }
 ],
 "metadata": {
  "kernelspec": {
   "display_name": "Python 3 (ipykernel)",
   "language": "python",
   "name": "python3"
  },
  "language_info": {
   "codemirror_mode": {
    "name": "ipython",
    "version": 3
   },
   "file_extension": ".py",
   "mimetype": "text/x-python",
   "name": "python",
   "nbconvert_exporter": "python",
   "pygments_lexer": "ipython3",
   "version": "3.9.7"
  }
 },
 "nbformat": 4,
 "nbformat_minor": 5
}
