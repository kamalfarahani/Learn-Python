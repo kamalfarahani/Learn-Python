{
 "cells": [
  {
   "cell_type": "markdown",
   "id": "hazardous-columbia",
   "metadata": {},
   "source": [
    "### Exercises"
   ]
  },
  {
   "cell_type": "markdown",
   "id": "unknown-sapphire",
   "metadata": {},
   "source": [
    "#### Question 1"
   ]
  },
  {
   "cell_type": "markdown",
   "id": "hawaiian-drinking",
   "metadata": {},
   "source": [
    "Many functions in Python deal with numbers in a half-closed intervals."
   ]
  },
  {
   "cell_type": "markdown",
   "id": "stock-condition",
   "metadata": {},
   "source": [
    "For example, `range(n)` returns integers in the interval `[0, n)`."
   ]
  },
  {
   "cell_type": "markdown",
   "id": "durable-disney",
   "metadata": {},
   "source": [
    "When we deal with integers, it is very easy to include `n` - we simply add `1` to it."
   ]
  },
  {
   "cell_type": "markdown",
   "id": "fundamental-representation",
   "metadata": {},
   "source": [
    "For example, to generate integers in the range `[a, b]`, we use `range(a, b+1)`."
   ]
  },
  {
   "cell_type": "markdown",
   "id": "powered-combat",
   "metadata": {},
   "source": [
    "However, when it comes to real numbers there is no (mathematically speaking) \"next\" real number."
   ]
  },
  {
   "cell_type": "markdown",
   "id": "polished-canal",
   "metadata": {},
   "source": [
    "But for floats, remember that these are actually **not** real numbers, but approximations with some fixed precision - in those cases it is indeed possible to always calculate the \"next\" number after any given float."
   ]
  },
  {
   "cell_type": "markdown",
   "id": "sweet-cartoon",
   "metadata": {},
   "source": [
    "Read the Python documentation for the `math` module, and find in there a function that will help you calculate the \"next\" number after some given `float`.\n",
    "\n",
    "(You will need Python 3.9 and above for this)"
   ]
  },
  {
   "cell_type": "markdown",
   "id": "quick-grammar",
   "metadata": {},
   "source": [
    "#### Question 2"
   ]
  },
  {
   "cell_type": "markdown",
   "id": "interior-width",
   "metadata": {},
   "source": [
    "Given a sequence of points, each one with possibly different number of dimensions, generate a list that contains the magnitude (*norm*) of the point."
   ]
  },
  {
   "cell_type": "markdown",
   "id": "ongoing-coverage",
   "metadata": {},
   "source": [
    "For an n-dimensional point (therefore containing n components):\n",
    "\n",
    "```\n",
    "x = (x_1, x_2, ..., x_n)\n",
    "```\n",
    "\n",
    "this value can be computed as:\n",
    "\n",
    "```\n",
    "sqrt(x_1 ** 2 + x_2 ** 2 + ... + x_n **2) \n",
    "```"
   ]
  },
  {
   "cell_type": "markdown",
   "id": "beneficial-imaging",
   "metadata": {},
   "source": [
    "Write a function that performs this calculation and returns the norm of each point given in some sequence."
   ]
  },
  {
   "cell_type": "markdown",
   "id": "drawn-crazy",
   "metadata": {},
   "source": [
    "For example, if the sequence is:"
   ]
  },
  {
   "cell_type": "code",
   "execution_count": 7,
   "id": "extreme-screening",
   "metadata": {},
   "outputs": [],
   "source": [
    "data = [\n",
    "    (0, 1),\n",
    "    (1, 2, 3),\n",
    "    (1, 3, 5, 7),\n",
    "    (1, 1, 2, 3, 5, 8, 13)\n",
    "]"
   ]
  },
  {
   "cell_type": "markdown",
   "id": "discrete-craft",
   "metadata": {},
   "source": [
    "Your function should return this list:\n",
    "\n",
    "```\n",
    "[1.0, 3.741657386773941, 9.16515138991168, 16.522711641858308]\n",
    "```"
   ]
  },
  {
   "cell_type": "markdown",
   "id": "flexible-hughes",
   "metadata": {},
   "source": [
    "(Hint: you may want to read the `math` module docs to see if you can find a function in there that might help you out!)"
   ]
  },
  {
   "cell_type": "markdown",
   "id": "advisory-patrick",
   "metadata": {},
   "source": [
    "#### Question 3"
   ]
  },
  {
   "cell_type": "markdown",
   "id": "tamil-giving",
   "metadata": {},
   "source": [
    "Given an arbitrary sequence of numerical values, write a function that \"analyzes\" the sequence by generating print outputs of:\n",
    "- number of elements\n",
    "- number of unique elements\n",
    "- the min\n",
    "- the max\n",
    "- the mean\n",
    "- the standard deviation\n",
    "- all the modes (if there are more than one)\n",
    "- the 25th, 50th, and 75th percentiles\n"
   ]
  },
  {
   "cell_type": "markdown",
   "id": "employed-batch",
   "metadata": {},
   "source": [
    "For example, given this list of numbers:"
   ]
  },
  {
   "cell_type": "code",
   "execution_count": 26,
   "id": "meaning-minister",
   "metadata": {},
   "outputs": [],
   "source": [
    "data = [\n",
    "    61, 35, 99, 100, 75, 94, 88, 14, 21, 39, 53, 25, 87, 84, \n",
    "    81, 55, 86, 18, 69, 44, 16, 33, 66, 52, 70, 52, 95, 45, \n",
    "    94, 35, 68, 70, 52, 53, 30, 87, 79, 51, 92, 72, 55, 40, \n",
    "    15, 74, 86, 87, 91, 70, 45, 37\n",
    "]"
   ]
  },
  {
   "cell_type": "markdown",
   "id": "historical-constraint",
   "metadata": {},
   "source": [
    "For calculations that result in floats, display only `3` digits after the decimal point for those result."
   ]
  },
  {
   "cell_type": "markdown",
   "id": "loving-portuguese",
   "metadata": {},
   "source": [
    "Your function should print information such as this to the console:"
   ]
  },
  {
   "cell_type": "markdown",
   "id": "reasonable-advisory",
   "metadata": {},
   "source": [
    "```\n",
    "count: 50\n",
    "unique count: 38\n",
    "min: 14\n",
    "max: 100\n",
    "mean: 60.800\n",
    "std dev: 25.283\n",
    "modes: [87, 52, 70]\n",
    "25th percentile: 39.750\n",
    "median: 63.500\n",
    "75th percentile: 86.000\n",
    "```"
   ]
  }
 ],
 "metadata": {
  "kernelspec": {
   "display_name": "Python 3 (ipykernel)",
   "language": "python",
   "name": "python3"
  },
  "language_info": {
   "codemirror_mode": {
    "name": "ipython",
    "version": 3
   },
   "file_extension": ".py",
   "mimetype": "text/x-python",
   "name": "python",
   "nbconvert_exporter": "python",
   "pygments_lexer": "ipython3",
   "version": "3.9.7"
  }
 },
 "nbformat": 4,
 "nbformat_minor": 5
}
