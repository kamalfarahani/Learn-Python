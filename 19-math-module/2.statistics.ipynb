{
 "cells": [
  {
   "cell_type": "markdown",
   "id": "942b1582-caa7-4ccd-afc6-e505cc45961c",
   "metadata": {},
   "source": [
    "## `statistics` Module\n",
    "\n",
    "In Python, the statistics module is a built-in module that provides functions for mathematical statistics calculations. It offers a wide range of statistical functions to analyze data, perform calculations, and extract useful information from datasets. The module is part of the Python Standard Library, so no additional installation is required.\n",
    "\n",
    "\n",
    "Here is a list of some useful functions and objects:\n",
    "\n",
    "1. Functions:\n",
    "\n",
    "   - `mean(data)`: Computes the arithmetic mean (average) of a sequence of numbers.\n",
    "   - `median(data)`: Calculates the median (middle value) of a sequence of numbers.\n",
    "   - `mode(data)`: Determines the mode (most common value) of a sequence of numbers.\n",
    "   - `variance(data)`: Csample omputes the variance of a sequence of numbers.\n",
    "   - `stdev(data)`: C samplealculates the standard deviation of a sequenc\n",
    "   - `pvariance(data)`: Computes the population variance of a sequence of numbers.\n",
    "   - `pstdev(data)`: Calculates the population standard deviation of a sequence of numbers.e of numbers.\n",
    "   - `correlation(x, y)`: Computes the correlation coefficient between two datasets.\n",
    "   - `quantiles(data, *, n=4)`: Computes the n-quantiles (percentiles)between 0 and 1.\n",
    "\n",
    "1. Objects:\n",
    "\n",
    "   - `StatisticsError`: An exception class raised for errors encountered in the statistics module.\n",
    "   - `NormalDist(mu, sigma)`: Represents a normal (G.s and objects. If you have any further questions, please feel free to ask!ssistance, feel free to ask."
   ]
  },
  {
   "cell_type": "markdown",
   "id": "07cfcf62-3d7d-4009-b60d-f553329cb729",
   "metadata": {},
   "source": [
    "### Useful statistical functions\n",
    "\n",
    "The following cell contains examples of applying some useful functions `statistics` to a randomly generated data set."
   ]
  },
  {
   "cell_type": "code",
   "execution_count": 12,
   "id": "4bcd3de6-8b3d-4e6a-b7cd-f93b424b1857",
   "metadata": {},
   "outputs": [
    {
     "name": "stdout",
     "output_type": "stream",
     "text": [
      "data: [74, 82, 32, 19, 80, 44, 49, 97, 30, 93, 25, 43, 56, 22, 32, 33, 65, 79, 15, 73, 70, 41, 68, 4, 43, 59, 65, 39, 85, 50, 64, 51, 6, 39, 97, 91, 69, 2, 92, 66, 27, 78, 22, 75, 87, 4, 21, 52, 28, 37, 11, 59, 13, 83, 16, 50, 1, 14, 61, 15, 70, 24, 33, 13, 39, 1, 85, 15, 3, 82, 63, 77, 62, 33, 45, 90, 64, 87, 42, 46, 25, 92, 33, 78, 33, 77, 11, 58, 40, 56, 57, 22, 50, 42, 44, 53, 34, 22, 31, 88] \n",
      "\n",
      "Mean: 48.18\n",
      "Median: 45.5\n",
      "Mode: 33\n",
      "Variance: 725.4420202020202\n",
      "Standard Deviation: 26.93403089405706\n",
      "Population Variance: 718.1876\n",
      "Population Standard Deviation: 26.799022370228357\n",
      "Correlation: 0.9205746178983234\n",
      "Quantiles: [25.5, 45.5, 70.0]\n"
     ]
    }
   ],
   "source": [
    "import statistics\n",
    "import random\n",
    "\n",
    "data = [random.randint(1, 100) for _ in range(100)]\n",
    "print(f'data: {data} \\n')\n",
    "\n",
    "# Example using mean\n",
    "mean = statistics.mean(data)\n",
    "print(\"Mean:\", mean)\n",
    "\n",
    "# Example using median()\n",
    "median = statistics.median(data)\n",
    "print(\"Median:\", median)\n",
    "\n",
    "# Example using mode()\n",
    "mode = statistics.mode(data)\n",
    "print(\"Mode:\", mode)\n",
    "\n",
    "# Example using variance()\n",
    "variance = statistics.variance(data)\n",
    "print(\"Variance:\", variance)\n",
    "\n",
    "# Example using standard deviation\n",
    "stdev = statistics.stdev(data)\n",
    "print(\"Standard Deviation:\", stdev)\n",
    "\n",
    "# Example using population variance\n",
    "pvariance = statistics.pvariance(data)\n",
    "print(\"Population Variance:\", pvariance)\n",
    "\n",
    "# Example using population standard deviation\n",
    "pstdev = statistics.pstdev(data)\n",
    "print(\"Population Standard Deviation:\", pstdev)\n",
    "\n",
    "# Example using correlation()\n",
    "x = [1, 2, 3, 4, 5]\n",
    "y = [2, 4, 3, 8, 10]\n",
    "correlation = statistics.correlation(x, y)\n",
    "print(\"Correlation:\", correlation)\n",
    "\n",
    "# Example using quantiles()\n",
    "quantiles = statistics.quantiles(data, n=4)\n",
    "print(\"Quantiles:\", quantiles)"
   ]
  },
  {
   "cell_type": "markdown",
   "id": "bf195f09-3ab6-426f-9654-4af3dda6241d",
   "metadata": {},
   "source": [
    "### `NormalDist(mu, sigam)`\n",
    "\n",
    "Starting Python 3.8, the standard library provides the `NormalDist` object as part of the statistics module.\n",
    "\n",
    "```python\n",
    "import statistics\n",
    "\n",
    "N = statistics.NormalDist(mu, sigma)\n",
    "```\n",
    "\n",
    "Here are some methods that can be used with the NormalDist objectution.\n",
    "- `pdf(x)` : Returns value of the probability density function (pdf) at x.\n",
    "- `cdf(x)` : Returns value of the cumulative distribution function (cdf) at x.\n",
    "- `inv_cdf(p)` : Returns value of the inverse cumulative distribution function for probability `p`.\n",
    "- `quantiles(n=4)`: Divide the normal distribution into n continuous intervals with equal probability. Returns a list of (n - 1) cut points separating the intervals.\n",
    "- `overlap(other)`: Measures the agreement between two normal probability distributions. Returns a value between 0.0 and 1.0 giving the [overlapping area](https://www.rasch.org/rmt/rmt101r.htm) for the two probability density functions.\n"
   ]
  },
  {
   "cell_type": "code",
   "execution_count": 6,
   "id": "e0db755d-043a-49da-9c5b-3f8f812a17ec",
   "metadata": {},
   "outputs": [],
   "source": [
    "import statistics\n",
    "\n",
    "N_1 = statistics.NormalDist(0, 1)"
   ]
  },
  {
   "cell_type": "code",
   "execution_count": 7,
   "id": "c962c112-a9e9-4ee7-a8c5-819f0f1b071f",
   "metadata": {},
   "outputs": [
    {
     "data": {
      "text/plain": [
       "7.69459862670642e-23"
      ]
     },
     "execution_count": 7,
     "metadata": {},
     "output_type": "execute_result"
    }
   ],
   "source": [
    "N_1.pdf(10)"
   ]
  },
  {
   "cell_type": "code",
   "execution_count": 8,
   "id": "80e08baf-6e08-403c-a168-e0a88c657668",
   "metadata": {},
   "outputs": [
    {
     "data": {
      "text/plain": [
       "0.8413447460685429"
      ]
     },
     "execution_count": 8,
     "metadata": {},
     "output_type": "execute_result"
    }
   ],
   "source": [
    "N_1.cdf(1)"
   ]
  },
  {
   "cell_type": "code",
   "execution_count": 11,
   "id": "f51eff12-71de-42a7-af82-cd83f378ec2a",
   "metadata": {},
   "outputs": [
    {
     "data": {
      "text/plain": [
       "1.2815515655446008"
      ]
     },
     "execution_count": 11,
     "metadata": {},
     "output_type": "execute_result"
    }
   ],
   "source": [
    "N_1.inv_cdf(0.9)"
   ]
  },
  {
   "cell_type": "code",
   "execution_count": 14,
   "id": "47016bce-f160-4d19-8e2d-4288876d0664",
   "metadata": {},
   "outputs": [
    {
     "data": {
      "text/plain": [
       "[-0.6744897501960817, 0.0, 0.6744897501960817]"
      ]
     },
     "execution_count": 14,
     "metadata": {},
     "output_type": "execute_result"
    }
   ],
   "source": [
    "N_1.quantiles(n=4)"
   ]
  },
  {
   "cell_type": "code",
   "execution_count": 9,
   "id": "4a4d23bf-3f63-4a2c-8abc-288b97b4aa10",
   "metadata": {},
   "outputs": [],
   "source": [
    "N_2 = statistics.NormalDist(2, 10)"
   ]
  },
  {
   "cell_type": "code",
   "execution_count": 10,
   "id": "928294de-37af-4803-9abe-bc2e72dca12a",
   "metadata": {},
   "outputs": [
    {
     "name": "stdout",
     "output_type": "stream",
     "text": [
      "0.19841439067425348\n"
     ]
    }
   ],
   "source": [
    "print(N_2.overlap(N_1))"
   ]
  }
 ],
 "metadata": {
  "kernelspec": {
   "display_name": "Python 3 (ipykernel)",
   "language": "python",
   "name": "python3"
  },
  "language_info": {
   "codemirror_mode": {
    "name": "ipython",
    "version": 3
   },
   "file_extension": ".py",
   "mimetype": "text/x-python",
   "name": "python",
   "nbconvert_exporter": "python",
   "pygments_lexer": "ipython3",
   "version": "3.9.7"
  }
 },
 "nbformat": 4,
 "nbformat_minor": 5
}
