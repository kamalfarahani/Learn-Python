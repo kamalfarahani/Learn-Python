{
 "cells": [
  {
   "cell_type": "markdown",
   "id": "942b1582-caa7-4ccd-afc6-e505cc45961c",
   "metadata": {},
   "source": [
    "## `statistics` Module\n",
    "n:\r\n",
    "The statistics module is a part of the Python standard library and provides functions for performing statistical calculations and analysis. It offers a range of statistical measures, including measures of central tendency, measures of dispersion, probability distributions, correlation analysis, and more. The module is designed to handle numerical data and provides convenient functions for performing common statistical operations.\r\n",
    "\r\n",
    "Lissome t of useful functions and objects in the statistics module:\r\n",
    "\r\n",
    "1. Functions:\r\n",
    "\r\n",
    "   - `mean(data)`: Computes the arithmetic mean (average) of a sequence of numbers.\r\n",
    "   - `median(data)`: Calculates the median (middle value) of a sequence of numbers.\r\n",
    "   - `mode(data)`: Determines the mode (most common value) of a sequence of numbers.\r\n",
    "   - `variance(data)`: Csample omputes the variance of a sequence of numbers.\r\n",
    "   - `stdev(data)`: C samplealculates the standard deviation of a sequenc\n",
    "   - `pvariance(data)`: Computes the population variance of a sequence of numbers.\n",
    "   - `pstdev(data)`: Calculates the population standard deviation of a sequence of numbers.e of numbers.\r\n",
    "   - `correlation(x, y)`: Computes the correlation coefficient between two datasets.\r\n",
    "   - `quantiles(data, *, n=4)`: Computes the n-quantiles (percentiles)between 0 and 1.\r\n",
    "\r\n",
    "1. Objects:\r\n",
    "\r\n",
    "   - `StatisticsError`: An exception class raised for errors encountered in the statistics module.\r\n",
    "   - `NormalDist(mu, sigma)`: Represents a normal (G.s and objects. If you have any further questions, please feel free to ask!ssistance, feel free to ask."
   ]
  },
  {
   "cell_type": "markdown",
   "id": "07cfcf62-3d7d-4009-b60d-f553329cb729",
   "metadata": {},
   "source": [
    "### Useful statistical functions\n",
    "\n",
    "Below are illustrations of applying several beneficial functions available in the `statistics` module in the subsequent code block."
   ]
  },
  {
   "cell_type": "code",
   "execution_count": 12,
   "id": "4bcd3de6-8b3d-4e6a-b7cd-f93b424b1857",
   "metadata": {},
   "outputs": [
    {
     "name": "stdout",
     "output_type": "stream",
     "text": [
      "data: [74, 82, 32, 19, 80, 44, 49, 97, 30, 93, 25, 43, 56, 22, 32, 33, 65, 79, 15, 73, 70, 41, 68, 4, 43, 59, 65, 39, 85, 50, 64, 51, 6, 39, 97, 91, 69, 2, 92, 66, 27, 78, 22, 75, 87, 4, 21, 52, 28, 37, 11, 59, 13, 83, 16, 50, 1, 14, 61, 15, 70, 24, 33, 13, 39, 1, 85, 15, 3, 82, 63, 77, 62, 33, 45, 90, 64, 87, 42, 46, 25, 92, 33, 78, 33, 77, 11, 58, 40, 56, 57, 22, 50, 42, 44, 53, 34, 22, 31, 88] \n",
      "\n",
      "Mean: 48.18\n",
      "Median: 45.5\n",
      "Mode: 33\n",
      "Variance: 725.4420202020202\n",
      "Standard Deviation: 26.93403089405706\n",
      "Population Variance: 718.1876\n",
      "Population Standard Deviation: 26.799022370228357\n",
      "Correlation: 0.9205746178983234\n",
      "Quantiles: [25.5, 45.5, 70.0]\n"
     ]
    }
   ],
   "source": [
    "import statistics\n",
    "import random\n",
    "\n",
    "data = [random.randint(1, 100) for _ in range(100)]\n",
    "print(f'data: {data} \\n')\n",
    "\n",
    "# Example using mean\n",
    "mean = statistics.mean(data)\n",
    "print(\"Mean:\", mean)\n",
    "\n",
    "# Example using median()\n",
    "median = statistics.median(data)\n",
    "print(\"Median:\", median)\n",
    "\n",
    "# Example using mode()\n",
    "mode = statistics.mode(data)\n",
    "print(\"Mode:\", mode)\n",
    "\n",
    "# Example using variance()\n",
    "variance = statistics.variance(data)\n",
    "print(\"Variance:\", variance)\n",
    "\n",
    "# Example using standard deviation\n",
    "stdev = statistics.stdev(data)\n",
    "print(\"Standard Deviation:\", stdev)\n",
    "\n",
    "# Example using population variance\n",
    "pvariance = statistics.pvariance(data)\n",
    "print(\"Population Variance:\", pvariance)\n",
    "\n",
    "# Example using population standard deviation\n",
    "pstdev = statistics.pstdev(data)\n",
    "print(\"Population Standard Deviation:\", pstdev)\n",
    "\n",
    "# Example using correlation()\n",
    "x = [1, 2, 3, 4, 5]\n",
    "y = [2, 4, 3, 8, 10]\n",
    "correlation = statistics.correlation(x, y)\n",
    "print(\"Correlation:\", correlation)\n",
    "\n",
    "# Example using quantiles()\n",
    "quantiles = statistics.quantiles(data, n=4)\n",
    "print(\"Quantiles:\", quantiles)"
   ]
  },
  {
   "cell_type": "markdown",
   "id": "bf195f09-3ab6-426f-9654-4af3dda6241d",
   "metadata": {},
   "source": [
    "### `NormalDist(mu, sigam)`\n",
    "\n",
    "Starting Python 3.8, the standard library provides the `NormalDist` object as part of the statistics module. It can be used to get the probability density function (pdf - likelihood that a random sample X will be near the given value x) for a given mean (mu) and standard deviation (sigma).\n",
    "\r\n",
    "\r\n",
    "```python\r\n",
    "import statistaN 1\r\n",
    "\r\n",
    "nidtics = stats.NormalDist(mu\n",
    "print(nd)\r\n",
    "```\r\n",
    "\r\n",
    "This will output:\r\n",
    "\r\n",
    "```python\r\n",
    "NormalDist(mu=0, si`gma=1)\r\n",
    "````\r\n",
    "\r\n",
    "The NormalDist object can be used to get the cumulative distribution function (cdf - probability that a random sample X will be less than or equal to x) for a given mean (muandard deviatio\n",
    "\n",
    "Here are some methods that can be used with the NormalDist objectution.\r\n",
    "- `pdf(x)` - Retu result ofrns the probability density function (pdf) at x.\r\n",
    "- `cdf(x)` - Returesult of rns the cumulative distribution function (cdf) at x.\r\n",
    "- `inv_cdf(p)` - Retresult of urns the inverse cumulative distribution.ated/scipy.stats.norm.html.ulative-normal-distribution."
   ]
  },
  {
   "cell_type": "code",
   "execution_count": 14,
   "id": "e0db755d-043a-49da-9c5b-3f8f812a17ec",
   "metadata": {},
   "outputs": [],
   "source": [
    "import statistics\n",
    "\n",
    "N = statistics.NormalDist(0, 1)"
   ]
  },
  {
   "cell_type": "code",
   "execution_count": 15,
   "id": "c962c112-a9e9-4ee7-a8c5-819f0f1b071f",
   "metadata": {},
   "outputs": [
    {
     "data": {
      "text/plain": [
       "7.69459862670642e-23"
      ]
     },
     "execution_count": 15,
     "metadata": {},
     "output_type": "execute_result"
    }
   ],
   "source": [
    "N.pdf(10)"
   ]
  },
  {
   "cell_type": "code",
   "execution_count": 16,
   "id": "80e08baf-6e08-403c-a168-e0a88c657668",
   "metadata": {},
   "outputs": [
    {
     "data": {
      "text/plain": [
       "0.8413447460685429"
      ]
     },
     "execution_count": 16,
     "metadata": {},
     "output_type": "execute_result"
    }
   ],
   "source": [
    "N.cdf(1)"
   ]
  }
 ],
 "metadata": {
  "kernelspec": {
   "display_name": "Python 3 (ipykernel)",
   "language": "python",
   "name": "python3"
  },
  "language_info": {
   "codemirror_mode": {
    "name": "ipython",
    "version": 3
   },
   "file_extension": ".py",
   "mimetype": "text/x-python",
   "name": "python",
   "nbconvert_exporter": "python",
   "pygments_lexer": "ipython3",
   "version": "3.11.4"
  }
 },
 "nbformat": 4,
 "nbformat_minor": 5
}
