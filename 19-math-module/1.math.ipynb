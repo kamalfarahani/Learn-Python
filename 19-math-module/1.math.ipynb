{
 "cells": [
  {
   "cell_type": "markdown",
   "id": "6e79eeb1-f19f-4c80-863c-b359265ad04b",
   "metadata": {
    "tags": []
   },
   "source": [
    "## `math` module\n",
    "\n",
    "The math module in Python is a built-in module that provides various mathematical functions and constants. It contains a wide range of functions and methods that allow you to perform mathematical operations and calculations in your Python programs.\n",
    "\n",
    "To use the math module, you need to import it into your Python script using the following line of code:\n",
    "\n",
    "```python\n",
    "import math\n",
    "```\n",
    "\n",
    "Once you have imported the math module, you can access its functions and constants using the `math` prefix. Here are some commonly used functions and constants provided by the math module:\n",
    "\n",
    "1. Mathematical Constants:\n",
    "\n",
    "   - `math.pi`: Returns the mathematical constant π (pi).\n",
    "   - `math.e`: Returns the mathematical constant e (Euler's number).\n",
    "\n",
    "1. Number-theoretic and Representation Functions:\n",
    "\n",
    "   - `math.ceil(x)`: Returns the smallest integer greater than or equal to x.\n",
    "   - `math.floor(x)`: Returns the largest integer less than or equal to x.\n",
    "   - `math.trunc(x)`: Returns the truncated integer value of x.\n",
    "   - `math.factorial(x)`: Returns the factorial of x.\n",
    "   - `math.gcd(a, b)`: Returns the greatest common divisor of a and b.\n",
    "\n",
    "1. Power and Logarithmic Functions:\n",
    "\n",
    "   - `math.sqrt(x)`: Returns the square root of x.\n",
    "   - `math.pow(x, y)`: Returns x raised to the power of y.\n",
    "   - `math.exp(x)`: Returns e raised to the power of x.\n",
    "   - `math.log(x, base)`: Returns the logarithm of x with the given base.\n",
    "\n",
    "1. Trigonometric Functions:\n",
    "\n",
    "   - `math.sin(x)`, `math.cos(x)`, `math.tan(x)`: Returns the sine, cosine, and tangent of x, respectively.\n",
    "   - `math.radians(x)`: Converts the angle x from degrees to radians.\n",
    "   - `math.degrees(x)`: Converts the angle x from radians to degrees.\n",
    "\n",
    "1. Combinatorics functions:\n",
    "    - `math.perm(n, k)`: Returns function calculates the number of permutations of `k` items from a total of `n` items.\n",
    "    - `math.comb(n, k)`: Returns the number of combinations of `k` items from a total of `n` items.\n",
    "1. Miscellaneous Functions:\n",
    "\n",
    "   - `math.abs(x)`: Returns the absolute value of x.\n",
    "   - `math.round(x)`: Returns the rounded value of x.\n",
    "   - `math.modf(x)`: Returns the fractional and integer parts of x as a tuple.\n",
    "\n",
    "These are just a few examples of the functions provided by the math module. You can explore the full list of functions and constants in the [Python documentation](https://docs.python.org/3/library/math.html) for the math module."
   ]
  },
  {
   "cell_type": "markdown",
   "id": "5a148fab-8fa6-44f2-9604-fa2bb57fdf23",
   "metadata": {},
   "source": [
    "### Mathemactical constants\n",
    "\n",
    "The math module in Python provides access to several commonly used mathematical constants. These constants have predefined values and can be accessed and used in mathematical calculations within your Python programs. Here are some of the mathematical constants available in the math module:\n",
    "\n",
    "1. π (pi):\n",
    "\n",
    "   - The mathematical constant π is the ratio of a circle's circumference to its diameter. It is an irrational number approximately equal to 3.141592653589793.\n",
    "   - In the math module, you can access the value of π using `math.pi`.\n",
    "\n",
    "1. e (Euler's number):\n",
    "\n",
    "   - Euler's number, denoted as e, is an important mathematical constant in calculus and exponential functions. It is an irrational number approximately equal to 2.718281828459045.\n",
    "   - In the math module, you can access the value of e using `math.e`.\n",
    "\n",
    "1. Other Constants:\n",
    "\n",
    "   - The math module also provides a few additional mathematical constants, including:\n",
    "     - `math.tau`: The constant τ (tau), which is equal to 2π.\n",
    "     - `math.inf`: Represents positive infinity.\n",
    "     - `math.nan`: Represents a floating-point \"not a number\" value.\n",
    "\n",
    "Here's an example demonstrating the usage of mathematical constants:\n",
    "\n",
    "```python\n",
    "import math\n",
    "\n",
    "radius = 2.5\n",
    "circumference = 2 * math.pi * radius\n",
    "print(\"Circumference:\", circumference)\n",
    "\n",
    "exponential_value = math.e ** 2\n",
    "print(\"Exponential Value:\", exponential_value)\n",
    "\n",
    "```\n",
    "\n",
    "In the above example, `math.pi` is used to calculate the circumference of a circle, and `math.e` is used to calculate the exponential value of 2.\n",
    "\n",
    "These mathematical constants provided by the math module can be helpful when performing various mathematical calculations and formulas in your Python programs."
   ]
  },
  {
   "cell_type": "code",
   "execution_count": 1,
   "id": "acc43235-49b8-4165-a98a-4bb8c273c18f",
   "metadata": {},
   "outputs": [],
   "source": [
    "import math"
   ]
  },
  {
   "cell_type": "code",
   "execution_count": 2,
   "id": "87fc9501-fbd1-47b8-917b-39615c6558c5",
   "metadata": {},
   "outputs": [
    {
     "name": "stdout",
     "output_type": "stream",
     "text": [
      "3.141592653589793\n"
     ]
    }
   ],
   "source": [
    "print(math.pi)"
   ]
  },
  {
   "cell_type": "markdown",
   "id": "388a60ff-ed05-4887-952d-a888f0f1e55f",
   "metadata": {},
   "source": [
    "### Combinatorics functions\n",
    "\n",
    "Combinatorics is a branch of mathematics that deals with counting, arranging, and selecting objects or elements in a systematic way. Combinatorics functions are mathematical functions that are used to solve problems related to counting, permutations, combinations, and other combinatorial calculations. Here are some common combinatorics functions:\n",
    "\n",
    "1. Factorial Function:\n",
    "\n",
    "   - The factorial function calculates the product of all positive integers up to a given number. It is denoted by the exclamation mark ($!$). For a non-negative integer n, n factorial ($n!$) is defined as the product of all positive integers less than or equal to n.\n",
    "   - Example: $5! = 5 × 4 × 3 × 2 × 1 = 120$.\n",
    "   - Factorial function is commonly used as a building block in many combinatorial calculations.\n",
    "\n",
    "1. Permutations:\n",
    "\n",
    "   - Permutations are the different arrangements of a set of objects in a particular order. The number of permutations of selecting r objects from a set of n objects, without repetition, is denoted as $P(n, r)$ or n P r.\n",
    "   - Example: If we have 5 letters (A, B, C, D, E) and we want to arrange 3 of them, the number of permutations is \n",
    "   $$P(5, 3) = \\frac{5!}{(5 - 3)!} = 60$$.\n",
    "\n",
    "1. Combinations:\n",
    "\n",
    "   - Combinations are the different selections of objects from a set without considering the order. The number of combinations of selecting r objects from a set of n objects, without repetition, is denoted as $C(n, r)$ or n C r.\n",
    "   - Example: If we have 5 letters (A, B, C, D, E) and we want to select 3 of them, the number of combinations is \n",
    "   \n",
    "   $$C(5, 3) = \\frac{5!}{(3! \\times (5 - 3)!)} = 10$$\n",
    "\n",
    "\n",
    "These are just a few examples of combinatorics functions commonly used in mathematics and computer science. Combinatorics has a wide range of applications in various fields, including probability, statistics, computer science, and cryptography.\n",
    "\n",
    "in Python 3.8 and later versions, these functions have been introduced in the math module as part of the standard library.\n",
    "\n",
    "1. `math.perm(n, k)`:\n",
    "\n",
    "   - The `math.perm(n, k)` function calculates the number of permutations of `k` items from a total of `n` items.\n",
    "   - The function returns the number of possible permutations as an integer value.\n",
    "   - Mathematically, it is calculated as: `n! / (n - k)!`.\n",
    "   - Example usage:\n",
    "     ```python\n",
    "     import math\n",
    "\n",
    "     n = 5\n",
    "     k = 3\n",
    "     permutations = math.perm(n, k)\n",
    "     print(permutations)  # Output: 60\n",
    "     ```\n",
    "\n",
    "1. `math.comb(n, k)`:\n",
    "\n",
    "   - The `math.comb(n, k)` function calculates the number of combinations of `k` items from a total of `n` items, also known as \"n C k\" or \"binomial coefficient\".\n",
    "   - The function returns the number of possible combinations as an integer value.\n",
    "   - Mathematically, it is calculated as: `n! / (k! * (n - k)!)`.\n",
    "   - Example usage:\n",
    "     ```python\n",
    "     import math\n",
    "\n",
    "     n = 5\n",
    "     k = 3\n",
    "     combinations = math.comb(n, k)\n",
    "     print(combinations)  # Output: 10\n",
    "     ```\n",
    "\n",
    "These functions simplify the computation of permutations and combinations by providing direct methods in the math module, removing the need for manual implementation using factorials and division. It is important to note that these functions are only available in Python 3.8 and later versions. If you are using an older version of Python, you may need to implement these calculations manually or consider using external libraries such as `scipy` or `numpy` for combinatorial calculations."
   ]
  },
  {
   "cell_type": "code",
   "execution_count": 6,
   "id": "894ed9d1-28f4-4f1f-b6c3-78483debf28a",
   "metadata": {},
   "outputs": [
    {
     "name": "stdout",
     "output_type": "stream",
     "text": [
      "60\n"
     ]
    }
   ],
   "source": [
    "import math\n",
    "\n",
    "n = 5\n",
    "k = 3\n",
    "permutations = math.perm(n, k)\n",
    "print(permutations)"
   ]
  },
  {
   "cell_type": "code",
   "execution_count": 7,
   "id": "76e5ecae-5ab9-4f4b-a088-55def1bad92b",
   "metadata": {},
   "outputs": [
    {
     "name": "stdout",
     "output_type": "stream",
     "text": [
      "10\n"
     ]
    }
   ],
   "source": [
    "import math\n",
    "\n",
    "n = 5\n",
    "k = 3\n",
    "combinations = math.comb(n, k)\n",
    "print(combinations)"
   ]
  }
 ],
 "metadata": {
  "kernelspec": {
   "display_name": "Python 3 (ipykernel)",
   "language": "python",
   "name": "python3"
  },
  "language_info": {
   "codemirror_mode": {
    "name": "ipython",
    "version": 3
   },
   "file_extension": ".py",
   "mimetype": "text/x-python",
   "name": "python",
   "nbconvert_exporter": "python",
   "pygments_lexer": "ipython3",
   "version": "3.9.7"
  }
 },
 "nbformat": 4,
 "nbformat_minor": 5
}
