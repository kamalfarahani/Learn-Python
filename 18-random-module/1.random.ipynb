{
 "cells": [
  {
   "cell_type": "markdown",
   "id": "77625bee-691a-4898-80fa-c88541d0d693",
   "metadata": {},
   "source": [
    "## `random` module\n",
    "\n",
    "The random module in Python is a built-in module that provides functions for generating **pseudo-random** numbers and performing random operations. It is commonly used in various applications such as simulations, games, etc.\n",
    "\n",
    "To use the random module, you need to import it into your Python script using the following statement:\n",
    "\n",
    "```python\n",
    "import random\n",
    "```\n",
    "\n",
    "Once imported, you can access the functions and methods provided by the random module.\n",
    "\n",
    "Here are some commonly used functions from the random module:\n",
    "\n",
    "1. `random()`: This function returns a random float number between 0 and 1 (inclusive of 0, but exclusive of 1).\n",
    "```python\n",
    "random_number = random.random()\n",
    "```\n",
    "1. `randint(a, b)`: This function returns a random integer between a and b (inclusive of both a and b).\n",
    "\n",
    "   ```python\n",
    "   random_integer = random.randint(1, 10)\n",
    "   ```\n",
    "1. `choice(sequence)`: This function returns a random element from a sequence, such as a list or a string.\n",
    "\n",
    "   ```python\n",
    "   my_list = [1, 2, 3, 4, 5]\n",
    "   random_element = random.choice(my_list)\n",
    "   ```\n",
    "1. `shuffle(sequence)`: This function shuffles the elements of a sequence randomly, in-place.\n",
    "\n",
    "   ```python\n",
    "   my_list = [1, 2, 3, 4, 5]\n",
    "   random.shuffle(my_list)\n",
    "   ```\n",
    "1. `sample(sequence, k)`: This function returns a random sample of k elements from a sequence without replacement.\n",
    "   ```python\n",
    "   my_list = [1, 2, 3, 4, 5]\n",
    "   random_sample = random.sample(my_list, 3)\n",
    "   ```\n",
    "1. `uniform(a, b)`: function is used to generate random floating-point numbers within a specified range. It returns a random float number between two given values, inclusive of the lower bound and exclusive of the upper bound.\n",
    "\n",
    "    ```python\n",
    "    rand_num = random.uniform(lower, upper)\n",
    "    ```\n",
    "1. `gauss(mean, std)`: This function is used to generate random numbers that follow a Gaussian or normal distribution.\n",
    "    ```python\n",
    "    random_number = random.gauss(mean, std)\n",
    "    ```\n",
    "\n",
    "These are just a few examples of the functions provided by the random module. There are several other functions available, such as `uniform`, `randomrange`, and `choices`, which offer different ways to generate random numbers or perform random operations.\n",
    "\n",
    "Remember that the random module generates pseudo-random numbers, which means that the sequence of numbers generated can be reproduced if the same starting point (called the seed) is used. You can set the seed value using the `random.seed()` function if you want to reproduce the same random sequence."
   ]
  },
  {
   "cell_type": "markdown",
   "id": "716426bd-01bf-4aa6-865a-39933d5aaab2",
   "metadata": {},
   "source": [
    "#### `random` function\n",
    "\n",
    "In the `random` module of Python, the `random` function is used to generate a random float number between 0 and 1. It returns a random value greater than or equal to 0 and less than 1. The generated value is uniformly distributed, meaning that each possible value within the range has an equal chance of being produced."
   ]
  },
  {
   "cell_type": "code",
   "execution_count": 6,
   "id": "0ec472ad-b7b4-4739-b961-46b7dae39a66",
   "metadata": {},
   "outputs": [
    {
     "name": "stdout",
     "output_type": "stream",
     "text": [
      "0.4855117437640678\n"
     ]
    }
   ],
   "source": [
    "import random\n",
    "\n",
    "rand_num = random.random()\n",
    "print(rand_num)"
   ]
  },
  {
   "cell_type": "markdown",
   "id": "3a9fa439-de53-44c9-97b5-f38276fe5a72",
   "metadata": {},
   "source": [
    "#### `randint` function\n",
    "\n",
    "In the `random` module of Python, the `randint(lower, upper)` function is used to generate a random integer within a specified range. It returns a random integer that is greater than or equal to the lower bound and less than or equal to the upper bound.\n",
    "\n",
    "The `randint` function is a convenient way to generate random integers within a specific range. It is often used in scenarios such as generating random numbers for simulations, randomizing elements in a list, or generating random indices for selecting items randomly.\n",
    "\n",
    "It's important to note that the upper bound must be greater than or equal to the lower bound. Otherwise, the `randint()` function will raise a `ValueError`."
   ]
  },
  {
   "cell_type": "code",
   "execution_count": 9,
   "id": "fd841783-d759-4e4d-a793-5330fbf46b14",
   "metadata": {},
   "outputs": [
    {
     "name": "stdout",
     "output_type": "stream",
     "text": [
      "7\n"
     ]
    }
   ],
   "source": [
    "import random\n",
    "\n",
    "rand_int = random.randint(0, 10)\n",
    "print(rand_int)"
   ]
  },
  {
   "cell_type": "markdown",
   "id": "fcc329e6-4ae0-4ad6-9482-eeb023fed954",
   "metadata": {},
   "source": [
    "#### `choice` function\n",
    "\n",
    "In the `random` module of Python, the `choice()` function is used to randomly select an element from a sequence (such as a list, tuple, or string). It returns a single randomly chosen element.\n",
    "\n",
    "The syntax for using `choice` is as follows:\n",
    "\n",
    "```python\n",
    "import random\n",
    "\n",
    "random_element = random.choice(sequence)\n",
    "print(random_element)\n",
    "```\n",
    "\n",
    "In this code snippet, `sequence` represents the sequence from which you want to pick a random element. The `choice` function will select and return a random element from the provided sequence.\n",
    "\n",
    "The `choice` function is particularly useful when you want to randomly select an element from a collection or when you need a random choice among a set of options. It provides a convenient way to introduce randomness in your program's logic or simulate probabilistic scenarios.\n",
    "\n",
    "It's important to note that `choice` assumes a non-empty `sequence`. If you pass an empty sequence, it will raise an `IndexError` exception. Therefore, ensure that the sequence you provide has at least one element before using `choice`."
   ]
  },
  {
   "cell_type": "code",
   "execution_count": 8,
   "id": "2ac7d646-3629-4c38-b4e6-184a8bd58c0d",
   "metadata": {},
   "outputs": [
    {
     "name": "stdout",
     "output_type": "stream",
     "text": [
      "orange\n"
     ]
    }
   ],
   "source": [
    "import random\n",
    "\n",
    "fruits = [\"apple\", \"banana\", \"orange\", \"mango\"]\n",
    "random_fruit = random.choice(fruits)\n",
    "print(random_fruit)"
   ]
  },
  {
   "cell_type": "markdown",
   "id": "656a113b-b6d7-4129-a4cc-e16fd3252c30",
   "metadata": {},
   "source": [
    "#### `shuffle` function\n",
    "\n",
    "In the `random` module of Python, the `shuffle` function is used to randomly reorder the elements of a sequence in-place. It modifies the original sequence, shuffling its elements randomly.\n",
    "\n",
    "The syntax for using `shuffle` is as follows:\n",
    "\n",
    "```python\n",
    "import random\n",
    "\n",
    "random.shuffle(sequence)\n",
    "print(sequence)\n",
    "```\n",
    "\n",
    "In this code snippet, `sequence` represents the sequence that you want to shuffle. The `shuffle()` function will randomly rearrange the elements of the sequence, changing its order.\n",
    "\n",
    "The `shuffle` function is commonly used when you need to introduce randomness by rearranging the elements of a list, such as shuffling a deck of cards, randomizing a playlist, or implementing randomization in algorithms.\n",
    "\n",
    "It's important to note that `shuffle` operates in-place, meaning it modifies the original sequence directly. Therefore, it does not return a new shuffled sequence. **If you want to preserve the original sequence, you should make a copy before applying `shuffle`.**\n",
    "\n",
    "Also, please note that `shuffle` works with mutable sequences like lists, but not with immutable sequences like tuples or strings since they cannot be modified."
   ]
  },
  {
   "cell_type": "code",
   "execution_count": 10,
   "id": "218c9c90-1813-4e2d-bf78-994a25fb2c7c",
   "metadata": {},
   "outputs": [
    {
     "name": "stdout",
     "output_type": "stream",
     "text": [
      "['4', 'Ace', 'King', '2', '3', '6', 'Queen', '8', 'Jack', '5', '7', '9', '10']\n"
     ]
    }
   ],
   "source": [
    "import random\n",
    "\n",
    "cards = [\"Ace\", \"2\", \"3\", \"4\", \"5\", \"6\", \"7\", \"8\", \"9\", \"10\", \"Jack\", \"Queen\", \"King\"]\n",
    "random.shuffle(cards)\n",
    "print(cards)"
   ]
  },
  {
   "cell_type": "markdown",
   "id": "3df3c43c-53c8-4bc2-ae2f-794a43f6b1d1",
   "metadata": {},
   "source": [
    "#### `sample` function\n",
    "\n",
    "In the `random` module of Python, the `sample` function is used to generate a random sample from a population or sequence **without replacement**. It returns a list containing a specified number of unique elements randomly chosen from the given population.\n",
    "\n",
    "The syntax for using `sample` is as follows:\n",
    "\n",
    "```python\n",
    "import random\n",
    "\n",
    "sample_list = random.sample(population, k)\n",
    "print(sample_list)\n",
    "```\n",
    "\n",
    "In this code snippet, `population` represents the population from which you want to draw the random sample, and `k` represents the number of elements you want to select for the sample. The `sample` function will randomly select `k` unique elements from the population and return them as a list.\n",
    "\n",
    "The `sample` function is useful when you need to obtain a random subset of elements from a larger collection without replacement. It ensures that each element in the sample is unique and avoids repetitions. It can be helpful in scenarios like random sampling in surveys, generating test datasets, or selecting random items for experimentation.\n",
    "\n",
    "It's important to note that if the specified sample size `k` is larger than the population size, a `ValueError` will be raised. Additionally, the `sample` function assumes that the population is a sequence or collection that supports random access and indexing."
   ]
  },
  {
   "cell_type": "code",
   "execution_count": 11,
   "id": "c6d08487-18fa-4925-a7c3-751517c5f575",
   "metadata": {},
   "outputs": [
    {
     "name": "stdout",
     "output_type": "stream",
     "text": [
      "[3, 5, 9, 4]\n"
     ]
    }
   ],
   "source": [
    "import random\n",
    "\n",
    "population = [1, 2, 3, 4, 5, 6, 7, 8, 9, 10]\n",
    "sample_list = random.sample(population, 4)\n",
    "print(sample_list)"
   ]
  },
  {
   "cell_type": "markdown",
   "id": "38568af2-c52a-47e1-ba68-7c13ebee3a16",
   "metadata": {},
   "source": [
    "#### `uniform` function\n",
    "\n",
    "In the `random` module of Python, the `uniform` function is used to generate random floating-point numbers within a specified range. It returns a random float number between two given values, inclusive of the lower bound and exclusive of the upper bound.\n",
    "\n",
    "The syntax for using `uniform` is as follows:\n",
    "\n",
    "```python\n",
    "import random\n",
    "\n",
    "random_number = random.uniform(lower_bound, upper_bound)\n",
    "print(random_number)\n",
    "```\n",
    "\n",
    "In this code snippet, `lower_bound` represents the lower bound of the range, and `upper_bound` represents the upper bound of the range. The `uniform()` function will generate a random float number between these two bounds and return it.\n",
    "\n",
    "\n",
    "The `uniform()` function is useful when you need to generate random numbers within a specific range, such as simulating continuous distributions. It can be used in various applications, including simulations, statistical modeling, or generating random test data."
   ]
  },
  {
   "cell_type": "code",
   "execution_count": 14,
   "id": "7e8b8812-8c86-4713-879e-dd4f0030198d",
   "metadata": {},
   "outputs": [
    {
     "name": "stdout",
     "output_type": "stream",
     "text": [
      "27.502931836911927\n"
     ]
    }
   ],
   "source": [
    "import random\n",
    "\n",
    "lower_bound = 0.0\n",
    "upper_bound = 100.0\n",
    "random_number = random.uniform(lower_bound, upper_bound)\n",
    "print(random_number)"
   ]
  },
  {
   "cell_type": "markdown",
   "id": "5d724b2c-da0f-40bb-aecf-c4a17b1a57f1",
   "metadata": {},
   "source": [
    "### `gauss` function\n",
    "\n",
    "In the `random` module of Python, the `gauss` function is used to generate random numbers that follow a Gaussian or normal distribution. It returns a random float that represents a value sampled from a Gaussian distribution with a specified mean and standard deviation.\n",
    "\n",
    "The syntax for using `gauss` is as follows:\n",
    "\n",
    "```python\n",
    "import random\n",
    "\n",
    "random_number = random.gauss(mean, standard_deviation)\n",
    "print(random_number)\n",
    "```\n",
    "\n",
    "In this code snippet, `mean` represents the mean or average value of the Gaussian distribution, and `standard_deviation` represents the standard deviation, which controls the spread or dispersion of the distribution. The `gauss` function generates a random number based on these parameters and returns it as a float.\n",
    "\n",
    "The `gauss` function is useful when you need to generate random numbers that approximate a normal distribution, which is a common distribution in various statistical and scientific applications. It can be used for simulations, modeling random variables with known mean and standard deviation, or generating synthetic data for testing and analysis."
   ]
  },
  {
   "cell_type": "code",
   "execution_count": 12,
   "id": "301fe16a-15e6-4e5b-8cf3-ca8871c87640",
   "metadata": {},
   "outputs": [
    {
     "name": "stdout",
     "output_type": "stream",
     "text": [
      "-1.2688892136740768\n"
     ]
    }
   ],
   "source": [
    "import random\n",
    "\n",
    "mean = 0  # Mean value of the distribution\n",
    "standard_deviation = 1  # Standard deviation of the distribution\n",
    "random_number = random.gauss(mean, standard_deviation)\n",
    "print(random_number)"
   ]
  },
  {
   "cell_type": "markdown",
   "id": "0e652dd4-59a0-443a-b21f-81aedc0683e9",
   "metadata": {},
   "source": [
    "### Pseudo-random numbers vs Random numbers\n",
    "\n",
    "The difference between pseudo-random numbers and truly random numbers lies in how they are generated and their level of unpredictability.\n",
    "\n",
    "Truly random numbers are generated from a source of entropy that is inherently unpredictable, such as atmospheric noise, radioactive decay, or chaotic physical systems. These sources provide a high degree of randomness, making it difficult to predict or reproduce the sequence of numbers generated. True randomness is often desired in applications such as cryptography or gambling, where unpredictability is crucial.\n",
    "\n",
    "On the other hand, pseudo-random numbers are generated using deterministic algorithms. These algorithms start from an initial value called a seed and use mathematical formulas to produce a sequence of numbers that appear random. However, the sequence is entirely determined by the seed value and the algorithm used. Given the same seed, the sequence of pseudo-random numbers will always be the same.\n",
    "\n",
    "The `random` module in Python produces pseudo-random numbers. It uses a deterministic algorithm based on the **Mersenne Twister**, which is a widely used and well-regarded pseudo-random number generator. The algorithm is designed to produce a long sequence of numbers that exhibit statistical properties similar to truly random numbers. By default, the random module uses the current system time as the seed value, which helps to ensure that different programs running at the same time will produce different sequences.\n",
    "\n",
    "Using pseudo-random numbers is generally sufficient for most applications that require randomness, such as simulations, games, or random sampling. However, it's important to note that **pseudo-random numbers should not be used for security-critical applications like encryption**, as the deterministic nature of the algorithm makes it susceptible to prediction and exploitation if the seed is known.\n",
    "\n",
    "In summary, pseudo-random numbers are generated using deterministic algorithms and are suitable for most applications. Truly random numbers, on the other hand, are generated from unpredictable sources of entropy and are desirable for applications that require high levels of randomness and unpredictability."
   ]
  },
  {
   "cell_type": "markdown",
   "id": "b9d9abba-fb59-4173-81f3-bc3d8f7a1a58",
   "metadata": {},
   "source": [
    "### The `seed`\n",
    "\n",
    "In the context of random number generation, the seed value is an initial value that is used to initialize the random number generator. The seed determines the starting point of the sequence of pseudo-random numbers that will be generated.\n",
    "\n",
    "When you use a fixed seed value, you will always get the same sequence of pseudo-random numbers. This can be useful when you need to reproduce a particular sequence of random numbers, for example, when debugging or testing. By setting the seed to a specific value, you ensure that the random number generator starts from the same point every time, resulting in the same sequence of numbers.\n",
    "\n",
    "In Python's random module, you can set the seed value using the `random.seed()` function. The seed can be any hashable object, such as an integer or a string. Here's an example:\n",
    "\n",
    "```python\n",
    "import random\n",
    "\n",
    "random.seed(42)  # Set the seed to 42\n",
    "random_number1 = random.random()  # Generate a random number\n",
    "random_number2 = random.random()  # Generate another random number\n",
    "\n",
    "print(random_number1)  # Output: 0.6394267984578837\n",
    "print(random_number2)  # Output: 0.025010755222666936\n",
    "```\n",
    "\n",
    "In this example, setting the seed to 42 ensures that the sequence of random numbers generated will always be the same. If you run this code multiple times, you will always get the same output.\n",
    "\n",
    "If you don't explicitly set the seed, Python's random module uses the current system time as the default seed. This means that each time you run your program, you will get a different sequence of pseudo-random numbers.\n",
    "\n",
    "It's important to note that setting the seed value is optional. If you don't have a specific need for reproducibility, you can omit setting the seed, and Python's random module will use the default seed based on the system time.\n",
    "\n",
    "**If you don't specify a seed value when using the random module in Python, it will use the current system time as the default seed.** This means that each time you run your program, the random number generator will be initialized with a different seed, resulting in a different sequence of pseudo-random numbers.\n",
    "\n",
    "By using the system time as the default seed, Python's random module ensures that different programs running at the same time will produce different sequences of random numbers.\n",
    "\n",
    "It's worth noting that if you want to reproduce the same sequence of random numbers, you should set a specific seed value using the `random.seed` function. As mentioned earlier, setting the seed to a fixed value will ensure that the random number generator always starts from the same point, resulting in the same sequence of numbers."
   ]
  },
  {
   "cell_type": "code",
   "execution_count": 13,
   "id": "dcb05387-6cf9-4714-856a-4d8196029fe3",
   "metadata": {},
   "outputs": [
    {
     "name": "stdout",
     "output_type": "stream",
     "text": [
      "0.6394267984578837\n",
      "0.025010755222666936\n"
     ]
    }
   ],
   "source": [
    "import random\n",
    "\n",
    "random.seed(42)\n",
    "random_number1 = random.random()\n",
    "random_number2 = random.random()\n",
    "\n",
    "print(random_number1)\n",
    "print(random_number2)"
   ]
  },
  {
   "cell_type": "markdown",
   "id": "61952dd5-1cdc-42b2-9294-92bf1c5db9a3",
   "metadata": {},
   "source": [
    "#### Example 1: Random walk simulation\n",
    "\n",
    "Write a program that simulates a random walk in a 2D space. Start at the origin (0, 0) and randomly move one step up, down, left, or right. Repeat this process for a specified number of steps and print the final position."
   ]
  },
  {
   "cell_type": "code",
   "execution_count": 3,
   "id": "f7852b9a-67f6-4cd6-b3ac-fa1f69fba7fb",
   "metadata": {},
   "outputs": [
    {
     "name": "stdin",
     "output_type": "stream",
     "text": [
      "Enter number of steps:  10\n"
     ]
    },
    {
     "name": "stdout",
     "output_type": "stream",
     "text": [
      "(-1, 0)\n",
      "(-2, 0)\n",
      "(-3, 0)\n",
      "(-3, -1)\n",
      "(-4, -1)\n",
      "(-3, -1)\n",
      "(-3, -2)\n",
      "(-3, -3)\n",
      "(-3, -2)\n",
      "(-3, -1)\n",
      "Final position: (-3, -1)\n"
     ]
    }
   ],
   "source": [
    "import random\n",
    "\n",
    "x = 0\n",
    "y = 0\n",
    "num_steps = int(input('Enter number of steps: '))\n",
    "directions = [\n",
    "    (1, 0),\n",
    "    (-1, 0),\n",
    "    (0, 1),\n",
    "    (0, -1)\n",
    "]\n",
    "\n",
    "for _ in range(num_steps):\n",
    "    dx, dy = random.choice(directions)\n",
    "    x += dx\n",
    "    y += dy\n",
    "    print((x, y))\n",
    "\n",
    "print(f\"Final position: ({x}, {y})\")"
   ]
  },
  {
   "cell_type": "markdown",
   "id": "e8e9655c-3a52-4f3c-b615-2af0731aba85",
   "metadata": {},
   "source": [
    "#### Example 2: Monty Hall problem simulation\n",
    "Write a program that simulates the Monty Hall problem. In each iteration, randomly assign a prize behind one of three doors. Then, randomly select a door initially chosen by the player and reveal a door with no prize behind it. Finally, then show that if player switches to other door, the probability of wining is higher than $\\frac{1}{3}$. Keep track of the number of wins for both switching and staying strategies. Print the results at the end."
   ]
  },
  {
   "cell_type": "code",
   "execution_count": 5,
   "id": "2eb8a749-f038-4024-b65f-6c28ef7f8806",
   "metadata": {},
   "outputs": [
    {
     "name": "stdin",
     "output_type": "stream",
     "text": [
      "Enter number of simulations:  10000\n"
     ]
    },
    {
     "name": "stdout",
     "output_type": "stream",
     "text": [
      "Wins staying: 0.3266\n",
      "Wins switching: 0.6734\n"
     ]
    }
   ],
   "source": [
    "import random\n",
    "\n",
    "num_iterations = int(input('Enter number of simulations: '))\n",
    "wins_stay = 0\n",
    "wins_switch = 0\n",
    "\n",
    "for _ in range(num_iterations):\n",
    "    doors = [0, 0, 0]\n",
    "    prize_door = random.randint(0, 2)\n",
    "    doors[prize_door] = 1\n",
    "\n",
    "    player_choice = random.randint(0, 2)\n",
    "    revealed_door = random.choice([i for i in range(3) if i != player_choice and doors[i] == 0])\n",
    "\n",
    "    wins_stay += doors[player_choice]\n",
    "    switch_door_index = list({0, 1, 2} - {player_choice, revealed_door})[0]\n",
    "    wins_switch += doors[switch_door_index]\n",
    "\n",
    "print(f\"Wins staying: {wins_stay / num_iterations}\")\n",
    "print(f\"Wins switching: {wins_switch / num_iterations}\")"
   ]
  },
  {
   "cell_type": "markdown",
   "id": "79ae3aee-6731-453d-87a4-3c7b3a3e05d1",
   "metadata": {},
   "source": [
    "#### Example 3: Randomized card dealing simulation\n",
    "Write a program that simulates dealing a deck of cards to a specified number of players. Create a list of cards, randomly shuffle them using the random module, and distribute them evenly among the players. Print the cards held by each player at the end."
   ]
  },
  {
   "cell_type": "code",
   "execution_count": 7,
   "id": "69f24fad-f7ac-456a-bff0-d46c530b621b",
   "metadata": {},
   "outputs": [
    {
     "name": "stdout",
     "output_type": "stream",
     "text": [
      "Player 1: [('4', 'Hearts'), ('Jack', 'Hearts'), ('Ace', 'Hearts'), ('King', 'Diamonds'), ('6', 'Clubs'), ('2', 'Hearts'), ('7', 'Clubs'), ('Queen', 'Clubs'), ('6', 'Diamonds'), ('2', 'Clubs'), ('Ace', 'Clubs'), ('2', 'Diamonds'), ('2', 'Spades')]\n",
      "___________\n",
      "Player 2: [('9', 'Clubs'), ('4', 'Diamonds'), ('7', 'Spades'), ('King', 'Clubs'), ('8', 'Spades'), ('10', 'Clubs'), ('Jack', 'Clubs'), ('Queen', 'Hearts'), ('10', 'Hearts'), ('9', 'Spades'), ('8', 'Diamonds'), ('Ace', 'Diamonds'), ('King', 'Hearts')]\n",
      "___________\n",
      "Player 3: [('Queen', 'Diamonds'), ('Jack', 'Spades'), ('8', 'Hearts'), ('4', 'Spades'), ('10', 'Spades'), ('3', 'Hearts'), ('5', 'Clubs'), ('Jack', 'Diamonds'), ('8', 'Clubs'), ('5', 'Hearts'), ('Queen', 'Spades'), ('9', 'Diamonds'), ('4', 'Clubs')]\n",
      "___________\n",
      "Player 4: [('6', 'Hearts'), ('10', 'Diamonds'), ('6', 'Spades'), ('3', 'Diamonds'), ('3', 'Clubs'), ('5', 'Spades'), ('7', 'Hearts'), ('5', 'Diamonds'), ('9', 'Hearts'), ('King', 'Spades'), ('7', 'Diamonds'), ('Ace', 'Spades'), ('3', 'Spades')]\n",
      "___________\n"
     ]
    }
   ],
   "source": [
    "import random\n",
    "\n",
    "suits = ['Hearts', 'Diamonds', 'Clubs', 'Spades']\n",
    "ranks = ['Ace', '2', '3', '4', '5', '6', '7', '8', '9', '10', 'Jack', 'Queen', 'King']\n",
    "num_players = 4\n",
    "\n",
    "deck = [(rank, suit) for rank in ranks for suit in suits]\n",
    "random.shuffle(deck)\n",
    "\n",
    "players = [[] for _ in range(num_players)]\n",
    "for i, card in enumerate(deck):\n",
    "    players[i % num_players].append(card)\n",
    "\n",
    "for i, player in enumerate(players):\n",
    "    print(f\"Player {i + 1}: {player}\")\n",
    "    print('___________')"
   ]
  }
 ],
 "metadata": {
  "kernelspec": {
   "display_name": "Python 3 (ipykernel)",
   "language": "python",
   "name": "python3"
  },
  "language_info": {
   "codemirror_mode": {
    "name": "ipython",
    "version": 3
   },
   "file_extension": ".py",
   "mimetype": "text/x-python",
   "name": "python",
   "nbconvert_exporter": "python",
   "pygments_lexer": "ipython3",
   "version": "3.9.7"
  }
 },
 "nbformat": 4,
 "nbformat_minor": 5
}
