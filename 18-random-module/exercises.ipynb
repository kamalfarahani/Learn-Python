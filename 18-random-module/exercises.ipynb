{
 "cells": [
  {
   "cell_type": "markdown",
   "id": "willing-privacy",
   "metadata": {},
   "source": [
    "### Exercises"
   ]
  },
  {
   "cell_type": "markdown",
   "id": "biological-eugene",
   "metadata": {},
   "source": [
    "#### Question 1"
   ]
  },
  {
   "cell_type": "markdown",
   "id": "convertible-romance",
   "metadata": {},
   "source": [
    "Generate the sample space of rolling two 6-sided dice, numbered `'9', '10', 'J', 'Q', 'K', 'A'`."
   ]
  },
  {
   "cell_type": "markdown",
   "id": "stock-relations",
   "metadata": {},
   "source": [
    "(The sample space is the set of all possible outcomes)."
   ]
  },
  {
   "cell_type": "markdown",
   "id": "strong-russia",
   "metadata": {},
   "source": [
    "Your result should be a list containing tuples for the outcome of each die, e.g.\n",
    "\n",
    "```\n",
    "[('9', '9'),\n",
    " ('9', '10'),\n",
    " ('9', 'J'),\n",
    " ('9', 'Q'),\n",
    " ('9', 'K'),\n",
    " ('9', 'A'),\n",
    " ('10', '9'),\n",
    " ('10', '10'),\n",
    " ('10', 'J'),\n",
    " ('10', 'Q'),\n",
    " ('10', 'K'),\n",
    " ('10', 'A'),\n",
    " etc\n",
    "```"
   ]
  },
  {
   "cell_type": "markdown",
   "id": "chicken-proceeding",
   "metadata": {},
   "source": [
    "Make this a function that returns the sample space, called `make_sample_space`."
   ]
  },
  {
   "cell_type": "markdown",
   "id": "searching-footwear",
   "metadata": {},
   "source": [
    "#### Question 2"
   ]
  },
  {
   "cell_type": "markdown",
   "id": "matched-opening",
   "metadata": {},
   "source": [
    "Using the sample space you just created above, simulate throwing the two die `n` times by making random choices from the sample space."
   ]
  },
  {
   "cell_type": "markdown",
   "id": "olive-athens",
   "metadata": {},
   "source": [
    "Again, make this into a function that returns the random choices as a list of tuples, with `n` as a parameter of this function.\n",
    "\n",
    "Call the function `simulate_throws_from_sample_space`."
   ]
  },
  {
   "cell_type": "markdown",
   "id": "nearby-first",
   "metadata": {},
   "source": [
    "#### Question 3"
   ]
  },
  {
   "cell_type": "markdown",
   "id": "compliant-eleven",
   "metadata": {},
   "source": [
    "Your goal here is to implement a function `simulate_throws`, similar to the one you wrote in Question 2, but without generating a sample space at all - just using the `face_values`.\n",
    "\n",
    "Write a function that implements this, and name it `simulate_throws`."
   ]
  },
  {
   "cell_type": "markdown",
   "id": "useful-claim",
   "metadata": {},
   "source": [
    "#### Question 4"
   ]
  },
  {
   "cell_type": "markdown",
   "id": "photographic-collection",
   "metadata": {},
   "source": [
    "Using both methods of generating throws, build a dictionary that contains the face values as keys, and the number of times they were selected in the simulated throws."
   ]
  },
  {
   "cell_type": "markdown",
   "id": "hybrid-titanium",
   "metadata": {},
   "source": [
    "For example, assuming you made `100` throws using one of these methods, your dictionary might look like this:\n",
    "\n",
    "```\n",
    "{\n",
    "    '9': 39, \n",
    "    '10': 27, \n",
    "    'J': 28, \n",
    "    'Q': 34,\n",
    "    'K': 36, \n",
    "    'A': 36\n",
    "}\n",
    "```"
   ]
  },
  {
   "cell_type": "markdown",
   "id": "included-willow",
   "metadata": {},
   "source": [
    "Note that your values in the dictionary should add up to `200` is you made one `100` throws."
   ]
  },
  {
   "cell_type": "markdown",
   "id": "stuffed-think",
   "metadata": {},
   "source": [
    "Write a function that is given the function to use to generate the throws, the number of throws to simulate, and returns this dictionary."
   ]
  },
  {
   "cell_type": "markdown",
   "id": "occupational-ladder",
   "metadata": {},
   "source": [
    "#### Question 5"
   ]
  },
  {
   "cell_type": "markdown",
   "id": "vietnamese-coral",
   "metadata": {},
   "source": [
    "Write a function that given two arguments `a` and `b` returns a random float between `a` (inclusive) and `b` (exclusive)."
   ]
  }
 ],
 "metadata": {
  "kernelspec": {
   "display_name": "Python 3 (ipykernel)",
   "language": "python",
   "name": "python3"
  },
  "language_info": {
   "codemirror_mode": {
    "name": "ipython",
    "version": 3
   },
   "file_extension": ".py",
   "mimetype": "text/x-python",
   "name": "python",
   "nbconvert_exporter": "python",
   "pygments_lexer": "ipython3",
   "version": "3.11.4"
  }
 },
 "nbformat": 4,
 "nbformat_minor": 5
}
