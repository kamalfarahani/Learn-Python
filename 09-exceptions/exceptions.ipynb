{
 "cells": [
  {
   "cell_type": "markdown",
   "id": "43fdf6ab-7798-42ad-b361-41c5cc483ff9",
   "metadata": {},
   "source": [
    "## Exceptions\n",
    "\n",
    "In Python, an exception is an error that occurs during the execution of a program. Exceptions are a way of handling errors that might occur in your code so that your program can continue to run even if something unexpected happens. \n",
    "\n",
    "When an exception occurs, Python generates an exception object, which contains information about the error, such as the type of the exception and a message that describes what went wrong. If the exception is not handled, the program will terminate with an error message.\n",
    "\n",
    "Here is an example of a program that generates an exception:\n",
    "\n",
    "```python\n",
    "x = 10 / 0\n",
    "```\n",
    "\n",
    "In this example, the program tries to divide 10 by 0, which is not allowed. This generates an exception of type `ZeroDivisionError`, which indicates that an attempt was made to divide a number by zero.\n",
    "\n",
    "To handle exceptions in Python, you can use a `try` statement. The `try` statement allows you to write code that might generate an exception, and to specify what should be done if an exception is raised. Here is an example:\n",
    "\n",
    "```python\n",
    "try:\n",
    "    x = 10 / 0\n",
    "except ZeroDivisionError:\n",
    "    print(\"Error: divide by zero\")\n",
    "```\n",
    "\n",
    "In this example, the `try` statement includes the code that might generate an exception. If an exception of type `ZeroDivisionError` is raised, the code inside the `except` block will be executed, which prints an error message.\n",
    "\n",
    "You can also use the `finally` clause to specify code that should be executed whether or not an exception is raised:\n",
    "\n",
    "```python\n",
    "try:\n",
    "    x = 10 / 0\n",
    "except ZeroDivisionError:\n",
    "    print(\"Error: divide by zero\")\n",
    "finally:\n",
    "    print(\"Done.\")\n",
    "```\n",
    "\n",
    "In this example, the `finally` clause includes code that will be executed no matter what happens, whether an exception is raised or not.\n",
    "\n",
    "* An exception is generally unexpected behavior\n",
    "* Unhandled exceptions will cause our program to terminate\n",
    "\n",
    "In summary, exceptions are a way of handling errors in Python that allows your program to continue running even if something unexpected happens. By using `try`, `except`, and `finally` statements, you can write code that gracefully handles exceptions and provides useful error messages to users."
   ]
  },
  {
   "cell_type": "markdown",
   "id": "a9344cbf-a6f2-46cf-a62f-189e78bccc3d",
   "metadata": {},
   "source": [
    "### Some terminology\n",
    "\n",
    "* Exception: a special type of Python objects\n",
    "* Raising: starting an exception event flow\n",
    "* Exception handling: interacting with an exception flow in some manner\n",
    "* Unhandled exception: An exception flow that is not handled by our code"
   ]
  },
  {
   "cell_type": "markdown",
   "id": "39fbfd72-615d-4b49-a25f-b42857182057",
   "metadata": {
    "tags": []
   },
   "source": [
    "### Exception Hierarchy\n",
    "\n",
    "In Python, exceptions are organized into a hierarchy of classes, with the `BaseException` class at the top of the hierarchy. All other exception classes in Python inherit from `BaseException` either directly or indirectly.\n",
    "\n",
    "> When we reach the OOP part of this course we will understand what this hierarchy really means.\n",
    "\n",
    "Here is an example of the exception hierarchy in Python:\n",
    "\n",
    "```\n",
    "BaseException\n",
    " +-- SystemExit\n",
    " +-- KeyboardInterrupt\n",
    " +-- GeneratorExit\n",
    " +-- Exception\n",
    "      +-- StopIteration\n",
    "      +-- ArithmeticError\n",
    "      |    +-- ZeroDivisionError\n",
    "      +-- AssertionError\n",
    "      +-- AttributeError\n",
    "      +-- BufferError\n",
    "      +-- EOFError\n",
    "      +-- ImportError\n",
    "      +-- LookupError\n",
    "      |    +-- IndexError\n",
    "      |    +-- KeyError\n",
    "      +-- MemoryError\n",
    "      +-- NameError\n",
    "      |    +-- UnboundLocalError\n",
    "      +-- OSError\n",
    "      |    +-- FileNotFoundError\n",
    "      +-- ReferenceError\n",
    "      +-- RuntimeError\n",
    "      |    +-- NotImplementedError\n",
    "      +-- SyntaxError\n",
    "      |    +-- IndentationError\n",
    "      +-- SystemError\n",
    "      +-- TypeError\n",
    "      +-- ValueError\n",
    "      |    +-- UnicodeError\n",
    "      +-- Warning\n",
    "           +-- DeprecationWarning\n",
    "           +-- PendingDeprecationWarning\n",
    "           +-- RuntimeWarning\n",
    "           +-- SyntaxWarning\n",
    "           +-- UserWarning\n",
    "```\n",
    "\n",
    "In this hierarchy, `BaseException` is the most general exception class, and all other exception classes inherit from it. The `Exception` class is the base class for all non-system-exiting exceptions. \n",
    "\n",
    "Some common exceptions that inherit from `Exception` include `AttributeError`, `TypeError`, `ValueError`, and `RuntimeError`. These exceptions are used to indicate errors in program logic or data processing.\n",
    "\n",
    "In addition to these exceptions, there are also a number of system-exiting exceptions, such as `SystemExit`, `KeyboardInterrupt`, and `GeneratorExit`, which can be raised to terminate the program. These exceptions are used to signal that the program should exit immediately, and they cannot be caught or handled like other exceptions.\n",
    "\n",
    "> We can even write custom exception types we will see how when we real OOP part of the course\n",
    "\n",
    "<img src=\"./pics/exception_hierarchy.png\" alt=\"hash table\" width=\"500\" height=\"300\">\n"
   ]
  },
  {
   "cell_type": "markdown",
   "id": "8d55d79f-aaba-4e82-8be1-7e75914cc5bf",
   "metadata": {
    "tags": []
   },
   "source": [
    "### Exception handling `try ... except`\n",
    "\n",
    "In Python, you can handle exceptions using a `try`-`except` block, and you can also catch the exception and store it in a variable using the `as` keyword. This can be useful if you want to inspect the exception object or retrieve information about the error that caused the exception.\n",
    "\n",
    "Here is the basic syntax of a `try`-`except` block with the `as` keyword:\n",
    "\n",
    "```python\n",
    "try:\n",
    "    # code that might generate an exception\n",
    "except ExceptionType as exception_variable:\n",
    "    # code to handle the exception using the exception_variable\n",
    "```\n",
    "\n",
    "In this example, `ExceptionType` is the type of exception that you want to catch, and `exception_variable` is the variable that you want to use to store the exception object.\n",
    "\n",
    "Here is an example of how to catch a `ZeroDivisionError` exception and store the exception object in a variable:\n",
    "\n",
    "```python\n",
    "try:\n",
    "    x = 10 / 0\n",
    "except ZeroDivisionError as e:\n",
    "    print(\"Error:\", e)\n",
    "```\n",
    "\n",
    "In this example, the `try` block includes code that might generate a `ZeroDivisionError` exception. If this exception is raised, the code in the `except` block will be executed, and the exception object will be stored in the variable `e`. The code in the `except` block then prints an error message that includes the exception message.\n",
    "\n",
    "You can also use multiple `except` statements with the `as` keyword to handle different types of exceptions and store the exception object in different variables:\n",
    "\n",
    "```python\n",
    "try:\n",
    "    # code that might generate an exception\n",
    "except ExceptionType1 as e1:\n",
    "    # code to handle ExceptionType1 using e1\n",
    "except ExceptionType2 as e2:\n",
    "    # code to handle ExceptionType2 using e2\n",
    "```\n",
    "\n",
    "In this example, if an exception of type `ExceptionType1` is raised in the `try` block, the code in the first `except` block will be executed, and the exception object will be stored in the variable `e1`. If an exception of type `ExceptionType2` is raised, the code in the second `except` block will be executed, and the exception object will be stored in the variable `e2`.\n",
    "\n",
    "By using the `as` keyword in a `try`-`except` block, you can catch exceptions and store the exception objects in variables, making it easier to handle and debug errors in your code."
   ]
  },
  {
   "cell_type": "markdown",
   "id": "b7590a0c-0e34-4cae-9df9-9098d82f464b",
   "metadata": {},
   "source": [
    "### `finally` block\n",
    "\n",
    "The `finally` block is used in a `try`-`except` block to specify code that should be executed whether or not an exception is raised. The `finally` block is optional, but it is commonly used to ensure that certain actions are always taken, regardless of whether or not an exception occurs.\n",
    "\n",
    "Here is the basic syntax of a `try`-`except` block with a `finally` block:\n",
    "\n",
    "```python\n",
    "try:\n",
    "    # code that might generate an exception\n",
    "except ExceptionType:\n",
    "    # code to handle the exception\n",
    "finally:\n",
    "    # code that will be executed no matter what happens\n",
    "```\n",
    "\n",
    "In this example, the `try` block includes code that might generate an exception. If an exception of type `ExceptionType` is raised, the code in the `except` block will be executed. The `finally` block includes code that **will be executed whether or not an exception is raised in the `try` block.**\n",
    "\n",
    "Here is an example of how to use a `finally` block to ensure that a message is printed to user:\n",
    "\n",
    "```python\n",
    "try:\n",
    "    x = 10 / 0\n",
    "except ZeroDivisionError:\n",
    "    print(\"division by zero!\")\n",
    "    x = 0\n",
    "finally:\n",
    "    print(f'result: {x}')\n",
    "```\n",
    "\n",
    "By using the `finally` block, you can ensure that certain actions, such as closing files or releasing locks, are always taken, even if an exception is raised. This can help to ensure that your code is more robust and reliable."
   ]
  },
  {
   "cell_type": "markdown",
   "id": "8d8788d7-bedb-4258-b438-7464ad3b1281",
   "metadata": {},
   "source": [
    "### Example 1: Division by zero"
   ]
  },
  {
   "cell_type": "code",
   "execution_count": 20,
   "id": "c8238458-8ef5-4711-9374-89840164be73",
   "metadata": {},
   "outputs": [
    {
     "ename": "ZeroDivisionError",
     "evalue": "division by zero",
     "output_type": "error",
     "traceback": [
      "\u001b[0;31m---------------------------------------------------------------------------\u001b[0m",
      "\u001b[0;31mZeroDivisionError\u001b[0m                         Traceback (most recent call last)",
      "Input \u001b[0;32mIn [20]\u001b[0m, in \u001b[0;36m<cell line: 1>\u001b[0;34m()\u001b[0m\n\u001b[0;32m----> 1\u001b[0m \u001b[38;5;241;43m1\u001b[39;49m\u001b[43m \u001b[49m\u001b[38;5;241;43m/\u001b[39;49m\u001b[43m \u001b[49m\u001b[38;5;241;43m0\u001b[39;49m\n",
      "\u001b[0;31mZeroDivisionError\u001b[0m: division by zero"
     ]
    }
   ],
   "source": [
    "1 / 0"
   ]
  },
  {
   "cell_type": "code",
   "execution_count": 21,
   "id": "68fc8234-665c-43ef-8348-beee65c57e54",
   "metadata": {},
   "outputs": [],
   "source": [
    "def div(x, y):\n",
    "    return x / y"
   ]
  },
  {
   "cell_type": "code",
   "execution_count": 22,
   "id": "6879317f-d6cb-4191-80aa-406951511f1d",
   "metadata": {},
   "outputs": [
    {
     "ename": "ZeroDivisionError",
     "evalue": "division by zero",
     "output_type": "error",
     "traceback": [
      "\u001b[0;31m---------------------------------------------------------------------------\u001b[0m",
      "\u001b[0;31mZeroDivisionError\u001b[0m                         Traceback (most recent call last)",
      "Input \u001b[0;32mIn [22]\u001b[0m, in \u001b[0;36m<cell line: 1>\u001b[0;34m()\u001b[0m\n\u001b[0;32m----> 1\u001b[0m \u001b[43mdiv\u001b[49m\u001b[43m(\u001b[49m\u001b[38;5;241;43m1\u001b[39;49m\u001b[43m,\u001b[49m\u001b[38;5;241;43m0\u001b[39;49m\u001b[43m)\u001b[49m\n",
      "Input \u001b[0;32mIn [21]\u001b[0m, in \u001b[0;36mdiv\u001b[0;34m(x, y)\u001b[0m\n\u001b[1;32m      1\u001b[0m \u001b[38;5;28;01mdef\u001b[39;00m \u001b[38;5;21mdiv\u001b[39m(x, y):\n\u001b[0;32m----> 2\u001b[0m     \u001b[38;5;28;01mreturn\u001b[39;00m \u001b[43mx\u001b[49m\u001b[43m \u001b[49m\u001b[38;5;241;43m/\u001b[39;49m\u001b[43m \u001b[49m\u001b[43my\u001b[49m\n",
      "\u001b[0;31mZeroDivisionError\u001b[0m: division by zero"
     ]
    }
   ],
   "source": [
    "div(1,0)"
   ]
  },
  {
   "cell_type": "code",
   "execution_count": 23,
   "id": "38df2ea4-000a-4727-afa4-5ad7ad068881",
   "metadata": {},
   "outputs": [
    {
     "name": "stdin",
     "output_type": "stream",
     "text": [
      "Enter first number:  10\n",
      "Enter second number:  0\n"
     ]
    },
    {
     "name": "stdout",
     "output_type": "stream",
     "text": [
      "division by zero\n",
      "can not divide by zero!\n",
      "result: None\n"
     ]
    }
   ],
   "source": [
    "x_1 = int(input('Enter first number: '))\n",
    "x_2 = int(input('Enter second number: '))\n",
    "\n",
    "try:\n",
    "    result = div(x_1, x_2)\n",
    "except ZeroDivisionError as ex:\n",
    "    print(ex)\n",
    "    print(f'can not divide by zero!')\n",
    "    result = None\n",
    "finally:\n",
    "    print(f'result: {result}')"
   ]
  },
  {
   "cell_type": "markdown",
   "id": "bfec8c6f-5a37-4ff7-a5a3-cb66c37d7db6",
   "metadata": {},
   "source": [
    "### Example 2: Index error"
   ]
  },
  {
   "cell_type": "code",
   "execution_count": 15,
   "id": "2e5aaf24-5c2f-4480-91ea-28006e32468a",
   "metadata": {},
   "outputs": [
    {
     "ename": "IndexError",
     "evalue": "list index out of range",
     "output_type": "error",
     "traceback": [
      "\u001b[0;31m---------------------------------------------------------------------------\u001b[0m",
      "\u001b[0;31mIndexError\u001b[0m                                Traceback (most recent call last)",
      "Input \u001b[0;32mIn [15]\u001b[0m, in \u001b[0;36m<cell line: 2>\u001b[0;34m()\u001b[0m\n\u001b[1;32m      1\u001b[0m l \u001b[38;5;241m=\u001b[39m [\u001b[38;5;241m1\u001b[39m,\u001b[38;5;241m2\u001b[39m,\u001b[38;5;241m3\u001b[39m]\n\u001b[0;32m----> 2\u001b[0m \u001b[43ml\u001b[49m\u001b[43m[\u001b[49m\u001b[38;5;241;43m4\u001b[39;49m\u001b[43m]\u001b[49m\n",
      "\u001b[0;31mIndexError\u001b[0m: list index out of range"
     ]
    }
   ],
   "source": [
    "l = [1,2,3]\n",
    "l[4]"
   ]
  },
  {
   "cell_type": "code",
   "execution_count": 16,
   "id": "6780ad13-7dec-4273-a208-3aeb7cbbeb60",
   "metadata": {},
   "outputs": [
    {
     "name": "stdout",
     "output_type": "stream",
     "text": [
      "Index is out of range!\n",
      "None\n"
     ]
    }
   ],
   "source": [
    "l = [1,2,3]\n",
    "try:\n",
    "    x = l[4]\n",
    "except IndexError as e:\n",
    "    print('Index is out of range!')\n",
    "    x = None\n",
    "finally:\n",
    "    print(x)"
   ]
  },
  {
   "cell_type": "markdown",
   "id": "433c1a82-a939-4ade-a115-a80b0311eb9e",
   "metadata": {},
   "source": [
    "### Example 3: Handling multiple exceptions"
   ]
  },
  {
   "cell_type": "code",
   "execution_count": 19,
   "id": "b5a1f08c-0ebd-4efd-b1aa-42bb426e5ae8",
   "metadata": {},
   "outputs": [
    {
     "name": "stdin",
     "output_type": "stream",
     "text": [
      "Enter first number:  10\n",
      "Please enter index:  1000\n"
     ]
    },
    {
     "name": "stdout",
     "output_type": "stream",
     "text": [
      "Index is out of range!\n",
      "None\n"
     ]
    }
   ],
   "source": [
    "l = [1, 2, 0]\n",
    "\n",
    "x_1 = int(input('Enter first number: '))\n",
    "idx = int(input('Please enter index: '))\n",
    "\n",
    "try:\n",
    "    x_2 = l[idx]\n",
    "    result = x_1 / x_2\n",
    "except ZeroDivisionError as ex1:\n",
    "    print('Can not divide by zero!')\n",
    "    result = 0\n",
    "except IndexError as ex2:\n",
    "    print('Index is out of range!')\n",
    "    result = None\n",
    "finally:\n",
    "    print(result)"
   ]
  },
  {
   "cell_type": "markdown",
   "id": "9f21ce8b-6976-45e1-bc5d-23ef6910211b",
   "metadata": {},
   "source": [
    "### General suggestion for exception handling\n",
    "\n",
    "Here are some general suggestions for exception handling in Python:\n",
    "\n",
    "1. Be specific: Catch only the exceptions that you expect and handle them appropriately. Do not use a broad `except` statement to catch all exceptions, as this can mask errors and make it harder to debug your code.\n",
    "\n",
    "2. Provide useful error messages: When an exception is raised, provide a helpful error message that explains what went wrong and how to fix it. This can make it easier for users to understand the error and take appropriate action.\n",
    "\n",
    "3. Use the `finally` clause: Use the `finally` clause to specify code that should be executed whether or not an exception is raised. This can be useful for cleaning up resources, releasing locks, and closing files.\n",
    "\n",
    "4. Don't ignore exceptions: Do not ignore exceptions or suppress them without good reason. Instead, handle them appropriately or let them propagate up the call stack.\n",
    "\n",
    "5. Log errors: Use a logging library to log errors and exceptions, so that you can track down and fix problems in your code. This can be especially useful for catching and debugging errors that occur in production.\n",
    "\n",
    "6. Test error handling: Test your code to ensure that it handles exceptions correctly and provides useful error messages. This can help you catch errors before they make it into production and ensure that your code is robust and reliable.\n",
    "\n",
    "By following these best practices for exception handling in Python, you can write code that is more robust, reliable, and easier to debug."
   ]
  },
  {
   "cell_type": "markdown",
   "id": "b12451bf-d764-4d19-bdca-ac24b357028e",
   "metadata": {
    "tags": []
   },
   "source": [
    "### Raising exceptions\n",
    "\n",
    "Sometimes we want to start an exception flow ourselves, this is called **raising** an exception, an exception object is associated with an exception flow, to raise and exception we should:\n",
    "\n",
    "1. Create a new exception object\n",
    "2. Raise the exception object\n",
    "\n",
    "to raise the exception object we will use `raise` keyword.\n",
    "\n",
    "Here is an example of how to raise an exception:\n",
    "\n",
    "```python\n",
    "def my_func(x):\n",
    "    if x < 0:\n",
    "        raise ValueError('The value is less than zero!')\n",
    "    else:\n",
    "        return x**2\n",
    "```"
   ]
  },
  {
   "cell_type": "code",
   "execution_count": 8,
   "id": "a1e3ae42-55e1-4054-8f3d-903dbdb00810",
   "metadata": {},
   "outputs": [
    {
     "data": {
      "text/plain": [
       "ValueError('Bad value')"
      ]
     },
     "execution_count": 8,
     "metadata": {},
     "output_type": "execute_result"
    }
   ],
   "source": [
    "ex = ValueError('Bad value')\n",
    "ex"
   ]
  },
  {
   "cell_type": "code",
   "execution_count": 9,
   "id": "6059720a-129a-4c27-bebe-fcb4b63af3d8",
   "metadata": {},
   "outputs": [
    {
     "ename": "ValueError",
     "evalue": "Bad value",
     "output_type": "error",
     "traceback": [
      "\u001b[0;31m---------------------------------------------------------------------------\u001b[0m",
      "\u001b[0;31mValueError\u001b[0m                                Traceback (most recent call last)",
      "Input \u001b[0;32mIn [9]\u001b[0m, in \u001b[0;36m<cell line: 1>\u001b[0;34m()\u001b[0m\n\u001b[0;32m----> 1\u001b[0m \u001b[38;5;28;01mraise\u001b[39;00m ex\n",
      "\u001b[0;31mValueError\u001b[0m: Bad value"
     ]
    }
   ],
   "source": [
    "raise ex"
   ]
  },
  {
   "cell_type": "code",
   "execution_count": 1,
   "id": "a2bc06d8-4180-43fd-8a1c-b9f9dec6c829",
   "metadata": {},
   "outputs": [],
   "source": [
    "def my_func(x):\n",
    "    if x < 0:\n",
    "        raise ValueError('The value is less than zero!')\n",
    "    else:\n",
    "        return x**2"
   ]
  },
  {
   "cell_type": "code",
   "execution_count": 2,
   "id": "db89607e-f780-47e5-824e-c02b784725e3",
   "metadata": {},
   "outputs": [
    {
     "data": {
      "text/plain": [
       "100"
      ]
     },
     "execution_count": 2,
     "metadata": {},
     "output_type": "execute_result"
    }
   ],
   "source": [
    "my_func(10)"
   ]
  },
  {
   "cell_type": "code",
   "execution_count": 3,
   "id": "ae8c6bde-db36-4ec4-8b64-7ba624381d9a",
   "metadata": {},
   "outputs": [
    {
     "ename": "ValueError",
     "evalue": "The value is less than zero!",
     "output_type": "error",
     "traceback": [
      "\u001b[0;31m---------------------------------------------------------------------------\u001b[0m",
      "\u001b[0;31mValueError\u001b[0m                                Traceback (most recent call last)",
      "Input \u001b[0;32mIn [3]\u001b[0m, in \u001b[0;36m<cell line: 1>\u001b[0;34m()\u001b[0m\n\u001b[0;32m----> 1\u001b[0m \u001b[43mmy_func\u001b[49m\u001b[43m(\u001b[49m\u001b[38;5;241;43m-\u001b[39;49m\u001b[38;5;241;43m1\u001b[39;49m\u001b[43m)\u001b[49m\n",
      "Input \u001b[0;32mIn [1]\u001b[0m, in \u001b[0;36mmy_func\u001b[0;34m(x)\u001b[0m\n\u001b[1;32m      1\u001b[0m \u001b[38;5;28;01mdef\u001b[39;00m \u001b[38;5;21mmy_func\u001b[39m(x):\n\u001b[1;32m      2\u001b[0m     \u001b[38;5;28;01mif\u001b[39;00m x \u001b[38;5;241m<\u001b[39m \u001b[38;5;241m0\u001b[39m:\n\u001b[0;32m----> 3\u001b[0m         \u001b[38;5;28;01mraise\u001b[39;00m \u001b[38;5;167;01mValueError\u001b[39;00m(\u001b[38;5;124m'\u001b[39m\u001b[38;5;124mThe value is less than zero!\u001b[39m\u001b[38;5;124m'\u001b[39m)\n\u001b[1;32m      4\u001b[0m     \u001b[38;5;28;01melse\u001b[39;00m:\n\u001b[1;32m      5\u001b[0m         \u001b[38;5;28;01mreturn\u001b[39;00m x\u001b[38;5;241m*\u001b[39m\u001b[38;5;241m*\u001b[39m\u001b[38;5;241m2\u001b[39m\n",
      "\u001b[0;31mValueError\u001b[0m: The value is less than zero!"
     ]
    }
   ],
   "source": [
    "my_func(-1)"
   ]
  },
  {
   "cell_type": "code",
   "execution_count": 5,
   "id": "90903485-4136-4279-923e-8d1f52689241",
   "metadata": {},
   "outputs": [
    {
     "name": "stdin",
     "output_type": "stream",
     "text": [
      "Enter input number, it should be greater than 0:  -10\n"
     ]
    },
    {
     "name": "stdout",
     "output_type": "stream",
     "text": [
      "The value is less than zero!\n",
      "None\n"
     ]
    }
   ],
   "source": [
    "x = int(input('Enter input number, it should be greater than 0: '))\n",
    "\n",
    "try:\n",
    "    result = my_func(x)\n",
    "except ValueError as e:\n",
    "    print(e)\n",
    "    result = None\n",
    "finally:\n",
    "    print(result)"
   ]
  },
  {
   "cell_type": "markdown",
   "id": "bd6f1fd8-a0cd-4ca7-a699-4b29e6a22c8e",
   "metadata": {},
   "source": [
    "### Example 4: say hello function"
   ]
  },
  {
   "cell_type": "code",
   "execution_count": 10,
   "id": "1588af3e-7acb-421a-bfb9-91581cf46dda",
   "metadata": {},
   "outputs": [],
   "source": [
    "def say_hello(name):\n",
    "    if len(name) < 2:\n",
    "        raise ValueError('Name should have more than 2 chars')\n",
    "    \n",
    "    print(f'Hi {name}')"
   ]
  },
  {
   "cell_type": "code",
   "execution_count": 11,
   "id": "24d4f325-b7ba-4257-a8de-baf0d6a82d47",
   "metadata": {},
   "outputs": [
    {
     "name": "stdout",
     "output_type": "stream",
     "text": [
      "Hi Alex\n"
     ]
    }
   ],
   "source": [
    "say_hello('Alex')"
   ]
  },
  {
   "cell_type": "code",
   "execution_count": 12,
   "id": "7abad8c2-bca5-4a43-a39e-d44768b9d10c",
   "metadata": {},
   "outputs": [
    {
     "ename": "ValueError",
     "evalue": "Name should have more than 2 chars",
     "output_type": "error",
     "traceback": [
      "\u001b[0;31m---------------------------------------------------------------------------\u001b[0m",
      "\u001b[0;31mValueError\u001b[0m                                Traceback (most recent call last)",
      "Input \u001b[0;32mIn [12]\u001b[0m, in \u001b[0;36m<cell line: 1>\u001b[0;34m()\u001b[0m\n\u001b[0;32m----> 1\u001b[0m \u001b[43msay_hello\u001b[49m\u001b[43m(\u001b[49m\u001b[38;5;124;43m'\u001b[39;49m\u001b[38;5;124;43mU\u001b[39;49m\u001b[38;5;124;43m'\u001b[39;49m\u001b[43m)\u001b[49m\n",
      "Input \u001b[0;32mIn [10]\u001b[0m, in \u001b[0;36msay_hello\u001b[0;34m(name)\u001b[0m\n\u001b[1;32m      1\u001b[0m \u001b[38;5;28;01mdef\u001b[39;00m \u001b[38;5;21msay_hello\u001b[39m(name):\n\u001b[1;32m      2\u001b[0m     \u001b[38;5;28;01mif\u001b[39;00m \u001b[38;5;28mlen\u001b[39m(name) \u001b[38;5;241m<\u001b[39m \u001b[38;5;241m2\u001b[39m:\n\u001b[0;32m----> 3\u001b[0m         \u001b[38;5;28;01mraise\u001b[39;00m \u001b[38;5;167;01mValueError\u001b[39;00m(\u001b[38;5;124m'\u001b[39m\u001b[38;5;124mName should have more than 2 chars\u001b[39m\u001b[38;5;124m'\u001b[39m)\n\u001b[1;32m      5\u001b[0m     \u001b[38;5;28mprint\u001b[39m(\u001b[38;5;124mf\u001b[39m\u001b[38;5;124m'\u001b[39m\u001b[38;5;124mHi \u001b[39m\u001b[38;5;132;01m{\u001b[39;00mname\u001b[38;5;132;01m}\u001b[39;00m\u001b[38;5;124m'\u001b[39m)\n",
      "\u001b[0;31mValueError\u001b[0m: Name should have more than 2 chars"
     ]
    }
   ],
   "source": [
    "say_hello('U')"
   ]
  },
  {
   "cell_type": "markdown",
   "id": "e98a6fc3-ff4d-4200-a731-0a8b2d9658ad",
   "metadata": {},
   "source": [
    "### More on exception Hierarchy"
   ]
  },
  {
   "cell_type": "code",
   "execution_count": 17,
   "id": "14e5f9c8-5229-4be3-a90f-2ba301765db2",
   "metadata": {},
   "outputs": [
    {
     "data": {
      "text/plain": [
       "True"
      ]
     },
     "execution_count": 17,
     "metadata": {},
     "output_type": "execute_result"
    }
   ],
   "source": [
    "issubclass(IndexError, LookupError)"
   ]
  },
  {
   "cell_type": "code",
   "execution_count": 14,
   "id": "31002264-3567-4ba4-a439-02c6891d318d",
   "metadata": {},
   "outputs": [
    {
     "data": {
      "text/plain": [
       "True"
      ]
     },
     "execution_count": 14,
     "metadata": {},
     "output_type": "execute_result"
    }
   ],
   "source": [
    "issubclass(LookupError, Exception)"
   ]
  },
  {
   "cell_type": "code",
   "execution_count": 16,
   "id": "7666e954-71ea-4d26-b75e-c1e5102fac61",
   "metadata": {},
   "outputs": [
    {
     "name": "stdout",
     "output_type": "stream",
     "text": [
      "index out of range\n"
     ]
    }
   ],
   "source": [
    "l = [1,2,3]\n",
    "try:\n",
    "    x = l[3]\n",
    "except IndexError:\n",
    "    print('index out of range')"
   ]
  },
  {
   "cell_type": "code",
   "execution_count": 18,
   "id": "1ce91458-225d-4f24-ac3e-1658f704f768",
   "metadata": {},
   "outputs": [
    {
     "name": "stdout",
     "output_type": "stream",
     "text": [
      "index out of range\n"
     ]
    }
   ],
   "source": [
    "l = [1,2,3]\n",
    "try:\n",
    "    x = l[3]\n",
    "except LookupError:\n",
    "    print('index out of range')"
   ]
  },
  {
   "cell_type": "code",
   "execution_count": 19,
   "id": "d9063bb1-1ae8-4fb0-927c-e3c4b33c1154",
   "metadata": {},
   "outputs": [
    {
     "name": "stdout",
     "output_type": "stream",
     "text": [
      "index out of range\n"
     ]
    }
   ],
   "source": [
    "l = [1,2,3]\n",
    "try:\n",
    "    x = l[3]\n",
    "except Exception:\n",
    "    print('index out of range')"
   ]
  }
 ],
 "metadata": {
  "kernelspec": {
   "display_name": "Python 3 (ipykernel)",
   "language": "python",
   "name": "python3"
  },
  "language_info": {
   "codemirror_mode": {
    "name": "ipython",
    "version": 3
   },
   "file_extension": ".py",
   "mimetype": "text/x-python",
   "name": "python",
   "nbconvert_exporter": "python",
   "pygments_lexer": "ipython3",
   "version": "3.9.7"
  }
 },
 "nbformat": 4,
 "nbformat_minor": 5
}
