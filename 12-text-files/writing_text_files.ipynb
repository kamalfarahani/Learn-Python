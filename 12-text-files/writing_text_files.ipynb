{
 "cells": [
  {
   "cell_type": "markdown",
   "id": "e789205f-df09-43b5-8b38-c84fcf818dad",
   "metadata": {
    "tags": []
   },
   "source": [
    "## Writing to text files\n",
    "\n",
    "In Python, you can write to a text file using the `write()` method of the file object. Here's an example of how to create a new text file and write some text to it:\n",
    "\n",
    "```python\n",
    "with open('example.txt', 'w') as file:\n",
    "    file.write('Hello, World!')\n",
    "```\n",
    "\n",
    "In this example, the `with` statement creates a new file named `example.txt` in write mode and assigns the file object to the variable `file`. The `write()` method is used to write the string `'Hello, World!'` to the file, and then the file is automatically closed when the block of code inside the `with` statement is complete.\n",
    "\n",
    "If the file already exists, using the `'w'` mode will overwrite the existing file. If you want to append to an existing file without overwriting it, you can use the `'a'` mode instead.\n",
    "\n",
    "Here's an example of how to open an existing file and append some text to it:\n",
    "\n",
    "```python\n",
    "with open('example.txt', 'a') as file:\n",
    "    file.write('\\nHow are you?')\n",
    "```\n",
    "\n",
    "In this example, the `with` statement opens the existing file `example.txt` in append mode and assigns the file object to the variable `file`. The `write()` method is used to write the string `'\\nHow are you?'` to the end of the file, and then the file is automatically closed when the block of code inside the `with` statement is complete. Note that the `'\\n'` character is used to add a newline before the text being appended.\n",
    "\n",
    "It's important to note that when you write to a file using the `write()` method, you need to explicitly add any newline characters (`'\\n'`) to create new lines in the file. If you don't add newline characters, all the text will be written to a single line in the file."
   ]
  },
  {
   "cell_type": "markdown",
   "id": "14c1273c-e201-4a23-9db6-62264633247c",
   "metadata": {},
   "source": [
    "### Writing to a file\n",
    "\n",
    "Remember the modes we have for writing files:\n",
    "\n",
    "* `'w'` : create file if it does not exist, or overwrite if it does\n",
    "* `'a'` : create file if it does not exist, append writes to end of file if it does"
   ]
  },
  {
   "cell_type": "code",
   "execution_count": 24,
   "id": "2e13dc2a-e4c2-43b6-aba8-4bcf7fb8917a",
   "metadata": {},
   "outputs": [],
   "source": [
    "file = open('example.txt', 'w')"
   ]
  },
  {
   "cell_type": "markdown",
   "id": "87651d6d-c1a3-4612-8cb4-4d7b15b3479a",
   "metadata": {},
   "source": [
    "#### Writing to file using `write()` method"
   ]
  },
  {
   "cell_type": "code",
   "execution_count": 25,
   "id": "625508af-9bf0-45d6-8789-c975287914f3",
   "metadata": {},
   "outputs": [
    {
     "data": {
      "text/plain": [
       "5"
      ]
     },
     "execution_count": 25,
     "metadata": {},
     "output_type": "execute_result"
    }
   ],
   "source": [
    "file.write('Salam')"
   ]
  },
  {
   "cell_type": "code",
   "execution_count": 26,
   "id": "8ec96f01-24a9-45c3-98fd-3cd012c07f51",
   "metadata": {},
   "outputs": [
    {
     "data": {
      "text/plain": [
       "6"
      ]
     },
     "execution_count": 26,
     "metadata": {},
     "output_type": "execute_result"
    }
   ],
   "source": [
    "file.write('\\nLine2')"
   ]
  },
  {
   "cell_type": "markdown",
   "id": "a0554ff5-cc36-4d76-90a2-15dcfdce2dbf",
   "metadata": {},
   "source": [
    "> **The returned number is the number of characters written to the file.**"
   ]
  },
  {
   "cell_type": "code",
   "execution_count": 27,
   "id": "8703976b-a4e3-4e2f-9477-886351daef3e",
   "metadata": {},
   "outputs": [],
   "source": [
    "file.close()"
   ]
  },
  {
   "cell_type": "markdown",
   "id": "df87c2e7-19b4-425e-adf0-ca5c5a509626",
   "metadata": {},
   "source": [
    "> **Lets now read the file to see if the content is written.**"
   ]
  },
  {
   "cell_type": "code",
   "execution_count": 28,
   "id": "6a0a3e36-3b6c-4da9-ba08-eac8135c5d50",
   "metadata": {},
   "outputs": [
    {
     "name": "stdout",
     "output_type": "stream",
     "text": [
      "['Salam\\n', 'Line2']\n"
     ]
    }
   ],
   "source": [
    "with open('example.txt', 'r') as f:\n",
    "    print(f.readlines())"
   ]
  },
  {
   "cell_type": "markdown",
   "id": "c448370e-3fbc-46e2-b284-01299945fb84",
   "metadata": {},
   "source": [
    "#### `'w'` mode discards all previous contents of file"
   ]
  },
  {
   "cell_type": "code",
   "execution_count": 29,
   "id": "355932bb-e244-4fc8-9eb0-cfbe2db9ddaa",
   "metadata": {},
   "outputs": [],
   "source": [
    "with open('example.txt', 'w') as file:\n",
    "    file.write('New content')"
   ]
  },
  {
   "cell_type": "markdown",
   "id": "35bcc4c9-ed96-4452-afd1-43f29ded6ce2",
   "metadata": {},
   "source": [
    "> **Lets see what is in file now**"
   ]
  },
  {
   "cell_type": "code",
   "execution_count": 30,
   "id": "51a80cc4-8bdc-4b80-ab0c-ed6a6740b993",
   "metadata": {},
   "outputs": [
    {
     "name": "stdout",
     "output_type": "stream",
     "text": [
      "New content\n"
     ]
    }
   ],
   "source": [
    "with open('example.txt', 'r') as f:\n",
    "    print(f.read())"
   ]
  },
  {
   "cell_type": "markdown",
   "id": "725bff16-80e0-490c-a35f-9dff5b48de70",
   "metadata": {},
   "source": [
    "> **Remeber newlines should be added by you the write method does not add newline to the end of given argument**"
   ]
  },
  {
   "cell_type": "code",
   "execution_count": 31,
   "id": "2639b332-e40f-4106-8e6e-f9ee77ecea1c",
   "metadata": {},
   "outputs": [],
   "source": [
    "with open('example.txt', 'w') as file:\n",
    "    file.write('line1')\n",
    "    file.write('line2')"
   ]
  },
  {
   "cell_type": "code",
   "execution_count": 32,
   "id": "35159515-d5f0-4881-b9ad-ee845ee218d1",
   "metadata": {},
   "outputs": [
    {
     "name": "stdout",
     "output_type": "stream",
     "text": [
      "line1line2\n"
     ]
    }
   ],
   "source": [
    "with open('example.txt', 'r') as f:\n",
    "    print(f.read())"
   ]
  },
  {
   "cell_type": "markdown",
   "id": "544eb053-7ee9-4df7-926f-761d16b2cb82",
   "metadata": {},
   "source": [
    "### Appending to a file\n",
    "\n",
    "In Python, you can append to a file by opening it in append mode using the 'a' mode flag instead of the 'w' mode flag."
   ]
  },
  {
   "cell_type": "code",
   "execution_count": 33,
   "id": "e58cca68-38be-4829-a79c-09d82d648ea2",
   "metadata": {},
   "outputs": [],
   "source": [
    "with open('example.txt', 'a') as file:\n",
    "    file.write(' Haha new content \\n')\n",
    "    file.write('And more\\n')"
   ]
  },
  {
   "cell_type": "code",
   "execution_count": 34,
   "id": "048bd1ad-766f-476e-8511-0433e636ca8f",
   "metadata": {},
   "outputs": [
    {
     "name": "stdout",
     "output_type": "stream",
     "text": [
      "line1line2 Haha new content \n",
      "And more\n",
      "\n"
     ]
    }
   ],
   "source": [
    "with open('example.txt', 'r') as f:\n",
    "    print(f.read())"
   ]
  },
  {
   "cell_type": "markdown",
   "id": "f230539c-ae34-4917-ae4f-4546911c3ea0",
   "metadata": {},
   "source": [
    "> **If the file does not exist opening file in `'a'` mode will create it.**"
   ]
  },
  {
   "cell_type": "code",
   "execution_count": 35,
   "id": "0b878d59-e249-4f22-bccf-fe843e232248",
   "metadata": {},
   "outputs": [],
   "source": [
    "with open('this_file_does_exist.txt', 'a') as file:\n",
    "    file.write('Abracadabra!')"
   ]
  },
  {
   "cell_type": "code",
   "execution_count": 36,
   "id": "a8830d6e-24b6-4f22-8696-763885f9a72a",
   "metadata": {},
   "outputs": [
    {
     "name": "stdout",
     "output_type": "stream",
     "text": [
      "Abracadabra!\n"
     ]
    }
   ],
   "source": [
    "with open('this_file_does_exist.txt', 'r') as f:\n",
    "    print(f.read())"
   ]
  },
  {
   "cell_type": "markdown",
   "id": "530f9edb-3fa3-46e5-888d-97b4d2eeb505",
   "metadata": {},
   "source": [
    "### Example 1: Saving students information on disk\n",
    "\n",
    "lets say we have a dictionary of students and their corresponding grade in a dictionary, we want to save this information on disk so the next time we can restore and read it."
   ]
  },
  {
   "cell_type": "code",
   "execution_count": 37,
   "id": "30325510-dfb9-4cc8-850f-955c62d64ab1",
   "metadata": {},
   "outputs": [],
   "source": [
    "student_to_grad = {\n",
    "    'Alex': 18.5,\n",
    "    'John': 15,\n",
    "    'Eric': 12,\n",
    "    'Jane': 17,\n",
    "    'Emily': 15\n",
    "}"
   ]
  },
  {
   "cell_type": "code",
   "execution_count": 40,
   "id": "ef7df479-276d-4375-a9db-473212c85dee",
   "metadata": {},
   "outputs": [],
   "source": [
    "with open('students_info', 'w') as students_file:\n",
    "    for name, grade in student_to_grad.items():\n",
    "        students_file.write(f'{name}:{grade}\\n')"
   ]
  },
  {
   "cell_type": "markdown",
   "id": "4a43d419-a811-49a1-9170-ad4b6a9ccf0e",
   "metadata": {},
   "source": [
    "> **Lets turn this process to a function**"
   ]
  },
  {
   "cell_type": "code",
   "execution_count": 43,
   "id": "7d34deb7-d366-4976-886f-a45b4f01ebfa",
   "metadata": {},
   "outputs": [],
   "source": [
    "def save_students(student_dict, file_path):\n",
    "    with open(file_path, 'w') as students_file:\n",
    "        for name, grade in student_to_grad.items():\n",
    "            students_file.write(f'{name}:{grade}\\n')"
   ]
  },
  {
   "cell_type": "code",
   "execution_count": 44,
   "id": "3a0368d2-9741-4c11-bad9-785b1234b985",
   "metadata": {},
   "outputs": [],
   "source": [
    "save_students(student_to_grad, 'students_info')"
   ]
  },
  {
   "cell_type": "code",
   "execution_count": 45,
   "id": "e2166afc-224a-4cb0-bebf-50b970b902d9",
   "metadata": {},
   "outputs": [
    {
     "name": "stdout",
     "output_type": "stream",
     "text": [
      "Alex:18.5\n",
      "John:15\n",
      "Eric:12\n",
      "Jane:17\n",
      "Emily:15\n",
      "\n"
     ]
    }
   ],
   "source": [
    "with open('students_info', 'r') as f:\n",
    "    print(f.read())"
   ]
  }
 ],
 "metadata": {
  "kernelspec": {
   "display_name": "Python 3 (ipykernel)",
   "language": "python",
   "name": "python3"
  },
  "language_info": {
   "codemirror_mode": {
    "name": "ipython",
    "version": 3
   },
   "file_extension": ".py",
   "mimetype": "text/x-python",
   "name": "python",
   "nbconvert_exporter": "python",
   "pygments_lexer": "ipython3",
   "version": "3.9.7"
  }
 },
 "nbformat": 4,
 "nbformat_minor": 5
}
