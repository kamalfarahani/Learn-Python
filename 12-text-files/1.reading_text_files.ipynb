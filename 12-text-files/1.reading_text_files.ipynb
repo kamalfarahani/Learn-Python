{
 "cells": [
  {
   "cell_type": "markdown",
   "id": "5d54a8ad-09f3-4cf6-9037-49b3bf2d5b5a",
   "metadata": {
    "tags": []
   },
   "source": [
    "## Text files\n",
    "\n",
    "In Python, working with text files involves opening, reading, writing, and closing files using **file objects**. A file object is a Python object that represents a file on the computer's file system. Text files are those files that contain human-readable text, such as plain text files or files that store data in a readable format, such as CSV files.\n",
    "\n",
    "Here are the basic steps to work with text files in Python:\n",
    "\n",
    "1. Opening a file: To open a text file, you can use the built-in `open()` function in Python which takes two arguments: the file name and the mode in which the file is opened. For example, to open a file named `example.txt` in read mode, you can use the following code:\n",
    "\n",
    "```python\n",
    "file = open('example.txt', 'r')\n",
    "```\n",
    "\n",
    "2. Reading from a file: Once a file is opened, you can read from it using the `read()` method of the file object. For example, to read the entire contents of the file, you can use the following code:\n",
    "\n",
    "```python\n",
    "content = file.read()\n",
    "```\n",
    "\n",
    "Alternatively, you can also use the `readline()` method to read a single line from the file.\n",
    "\n",
    "3. Writing to a file: To write to a file, you can open the file in write mode (`'w'`) or append mode (`'a'`) using the `open()` function. Then, you can use the `write()` method of the file object to write data to the file. For example, to write a string to a file named `example.txt`, you can use the following code:\n",
    "\n",
    "```python\n",
    "file = open('example.txt', 'w')\n",
    "file.write('Hello, World!')\n",
    "file.close()\n",
    "```\n",
    "\n",
    "4. Closing a file: Once you are done working with a file, you should close it using the `close()` method of the file object. This frees up any system resources used by the file. For example, to close a file named `example.txt`, you can use the following code:\n",
    "\n",
    "```python\n",
    "file.close()\n",
    "```\n",
    "\n",
    "It is important to note that it is a good practice to use the `with` statement when working with files in Python. This ensures that the file is automatically closed when the block of code inside the `with` statement is exited. Here's an example:\n",
    "\n",
    "```python\n",
    "with open('example.txt', 'r') as file:\n",
    "    content = file.read()\n",
    "    print(content)\n",
    "```\n",
    "\n",
    "In this example, the `with` statement automatically closes the file once the block of code is executed, even if an exception occurs."
   ]
  },
  {
   "cell_type": "markdown",
   "id": "506740c8-4646-4808-a30f-839eaa9ca2da",
   "metadata": {
    "tags": []
   },
   "source": [
    "### Reading a file\n",
    "\n",
    "You can see that there is a file named `words` in current directory, we are going to read this file."
   ]
  },
  {
   "cell_type": "markdown",
   "id": "3e534e92-7c61-47a7-ac95-629b2a6be610",
   "metadata": {},
   "source": [
    "#### Opening in read mode\n",
    "\n",
    "To open a file and read it we should open the file in read mode, in Python, you can use the `open` function and pass the file path with the mode parameter set to ‍‍‍‍‍‍‍`'r'`. Here's an example:"
   ]
  },
  {
   "cell_type": "code",
   "execution_count": 57,
   "id": "93cc38f1-60c2-4d84-8139-4ca3bf495c8d",
   "metadata": {},
   "outputs": [
    {
     "data": {
      "text/plain": [
       "_io.TextIOWrapper"
      ]
     },
     "execution_count": 57,
     "metadata": {},
     "output_type": "execute_result"
    }
   ],
   "source": [
    "words_file = open(file='./words', mode='r')\n",
    "type(words_file)"
   ]
  },
  {
   "cell_type": "markdown",
   "id": "f862708e-6b1b-40fd-8525-43907adaf2b9",
   "metadata": {},
   "source": [
    "> **`open` function returns a file object that we can use to work with our file.**"
   ]
  },
  {
   "cell_type": "markdown",
   "id": "38fac55d-f46b-4c43-81e8-0812f79eadc7",
   "metadata": {
    "tags": []
   },
   "source": [
    "#### You can iterate on file object in read mode\n",
    "\n",
    "You can iterate over a file object in read mode using a `for` loop. When you iterate over a file object, Python reads the file one line at a time and returns each line as a string.\n",
    "\n",
    "Here's an example of how to iterate over a file object in read mode:\n",
    "\n",
    "```python\n",
    "for line in file:\n",
    "    print(line)\n",
    "```"
   ]
  },
  {
   "cell_type": "code",
   "execution_count": 58,
   "id": "f6671874-d0e8-445c-a8e8-e846f3b06de8",
   "metadata": {},
   "outputs": [
    {
     "name": "stdout",
     "output_type": "stream",
     "text": [
      "Upjohn\n",
      "\n",
      "Upjohn's\n",
      "\n",
      "demijohn\n",
      "\n",
      "demijohn's\n",
      "\n",
      "demijohns\n",
      "\n",
      "john\n",
      "\n",
      "john's\n",
      "\n",
      "johns\n",
      "\n"
     ]
    }
   ],
   "source": [
    "for line in words_file:\n",
    "    if 'john' in line:\n",
    "        print(line)"
   ]
  },
  {
   "cell_type": "markdown",
   "id": "513a777f-2928-45ab-b712-c434b4774de5",
   "metadata": {},
   "source": [
    "#### Exhausted file\n",
    "\n",
    "An exhausted file object in Python is a file object that has been fully read, meaning that all the data in the file has been read and there is no more content to read. Once a file object is exhausted, any attempt to read from it will return an empty string (`''`)."
   ]
  },
  {
   "cell_type": "code",
   "execution_count": 46,
   "id": "7c39b653-ad48-479c-a671-cca48add51f6",
   "metadata": {},
   "outputs": [],
   "source": [
    "for line in words_file:\n",
    "    print(line)"
   ]
  },
  {
   "cell_type": "markdown",
   "id": "6caf9a3f-df7a-42dd-849d-bef2ccb90255",
   "metadata": {},
   "source": [
    "> **As you can see in the code above the file is exhausted and you can not read any data from it anymore**"
   ]
  },
  {
   "cell_type": "markdown",
   "id": "2bcce64f-fc51-4c5e-988f-e84b2f3668ef",
   "metadata": {},
   "source": [
    "#### Closing a file\n",
    "\n",
    "Closing a file means releasing the system resources (such as file handles and memory buffers) that are associated with the file object. When you open a file, the operating system assigns some resources to it, and these resources are held until the file is closed. Failing to close a file can lead to resource leaks and other issues.\n",
    "\n",
    "To close a file in Python, you can use the `close()` method of the file object. Here's an example:\n",
    "\n",
    "```python\n",
    "file = open('example.txt', 'r')\n",
    "content = file.read()\n",
    "file.close()\n",
    "```\n",
    "\n",
    "In this example, the `open()` function is used to open the file `example.txt` in read mode. The `read()` method is used to read the contents of the file, and then the `close()` method is used to release the system resources associated with the file object.\n",
    "\n",
    "It's important to note that Python automatically closes a file when the program terminates, but it's still a good practice to close the file explicitly using the `close()` method."
   ]
  },
  {
   "cell_type": "code",
   "execution_count": 47,
   "id": "428a6f5f-b4ee-4dcd-bbbd-b5b22aa9162a",
   "metadata": {},
   "outputs": [],
   "source": [
    "words_file.close()"
   ]
  },
  {
   "cell_type": "markdown",
   "id": "27777a8e-2db1-4f34-8cd8-276b80a09311",
   "metadata": {},
   "source": [
    "### Opening file using `with` statement\n",
    "\n",
    "The `with` statement is a Python construct that is used to simplify the process of opening and closing a file. When you open a file in Python, you need to ensure that you close the file once you are done working with it to free up any system resources used by the file. The `with` statement automatically takes care of closing the file for you when you are done working with it, which makes your code more concise and less error-prone.\n",
    "\n",
    "Here's an example of how to use the `with` statement to open a file in Python:\n",
    "\n",
    "```python\n",
    "with open('example.txt', 'r') as file:\n",
    "    for line in file:\n",
    "        # do some work\n",
    "```\n",
    "\n",
    "In this example, the `with` statement opens the file `example.txt` in read mode and assigns the file object to the variable `file`. The `read()` method is used to read the contents of the file, and then the file is automatically closed when the block of code inside the `with` statement is complete.\n",
    "\n",
    "Using the `with` statement has several advantages:\n",
    "\n",
    "1. It's concise: The `with` statement allows you to open and close a file in a single line of code, which makes your code more concise and easier to read.\n",
    "\n",
    "2. It's more readable: The `with` statement clearly defines the scope of the file object, which makes your code more readable and easier to understand.\n",
    "\n",
    "3. It's safer: The `with` statement ensures that the file is always closed, even if an error occurs during the execution of the block of code inside the `with` statement.\n",
    "\n",
    "4. It's more efficient: The `with` statement automatically releases the system resources associated with the file object when the block of code inside the `with` statement is complete, which makes your code more efficient.\n",
    "\n",
    "In summary, using the `with` statement to open and close files in Python is a best practice that makes your code more concise, readable, safer, and more efficient."
   ]
  },
  {
   "cell_type": "code",
   "execution_count": 59,
   "id": "2bc94162-69b7-474c-b14e-e3853290c272",
   "metadata": {},
   "outputs": [
    {
     "name": "stdout",
     "output_type": "stream",
     "text": [
      "Upjohn\n",
      "\n",
      "Upjohn's\n",
      "\n",
      "demijohn\n",
      "\n",
      "demijohn's\n",
      "\n",
      "demijohns\n",
      "\n",
      "john\n",
      "\n",
      "john's\n",
      "\n",
      "johns\n",
      "\n"
     ]
    }
   ],
   "source": [
    "with open('./words', 'r') as words_file:\n",
    "    for line in words_file:\n",
    "        if 'john' in line:\n",
    "            print(line)"
   ]
  },
  {
   "cell_type": "markdown",
   "id": "455463d0-a3a4-42f1-a4e6-3e849475215c",
   "metadata": {},
   "source": [
    "### `read` method\n",
    "\n",
    "After opening the you can read all file contents using `read()` method."
   ]
  },
  {
   "cell_type": "code",
   "execution_count": 52,
   "id": "4101e59a-a059-428a-8844-19f4f5c0f03a",
   "metadata": {},
   "outputs": [],
   "source": [
    "with open('./words', 'r') as words_file:\n",
    "    content = words_file.read()"
   ]
  },
  {
   "cell_type": "code",
   "execution_count": 53,
   "id": "3d0c5994-6346-49b2-9ce4-4b6ac579ed0a",
   "metadata": {},
   "outputs": [
    {
     "data": {
      "text/plain": [
       "str"
      ]
     },
     "execution_count": 53,
     "metadata": {},
     "output_type": "execute_result"
    }
   ],
   "source": [
    "type(content)"
   ]
  },
  {
   "cell_type": "code",
   "execution_count": 54,
   "id": "c423d889-4e64-4be2-8d33-98785fdf4a5b",
   "metadata": {},
   "outputs": [
    {
     "name": "stdout",
     "output_type": "stream",
     "text": [
      "A\n",
      "A's\n",
      "AMD\n",
      "AMD's\n",
      "AOL\n",
      "AOL's\n",
      "AWS\n",
      "AWS's\n",
      "Aachen\n",
      "Aachen's\n",
      "Aaliyah\n",
      "Aaliyah's\n",
      "Aaron\n",
      "Aaron's\n",
      "Abbas\n",
      "Abbas's\n",
      "Ab\n"
     ]
    }
   ],
   "source": [
    "print(content[:100])"
   ]
  },
  {
   "cell_type": "markdown",
   "id": "75b2d11d-3591-44f4-819d-b53ec7b998a1",
   "metadata": {},
   "source": [
    "### `readline` method\n",
    "\n",
    "The `readline()` method in Python is a method of file objects that is used to read a single line from a file. When you call the `readline()` method, Python reads the next line of the file and returns it as a string."
   ]
  },
  {
   "cell_type": "code",
   "execution_count": 63,
   "id": "7b771c6a-006f-485e-9337-915fcc080999",
   "metadata": {},
   "outputs": [
    {
     "name": "stdout",
     "output_type": "stream",
     "text": [
      "A\n",
      "\n",
      "A's\n",
      "\n"
     ]
    }
   ],
   "source": [
    "with open('./words', 'r') as words_file:\n",
    "    line_1 = words_file.readline()\n",
    "    line_2 = words_file.readline()\n",
    "    print(line_1)\n",
    "    print(line_2)"
   ]
  },
  {
   "cell_type": "markdown",
   "id": "8da01aaf-d048-4752-aed7-75ac50b3ca0d",
   "metadata": {},
   "source": [
    "### `readlines` method\n",
    "\n",
    "The `readlines()` method in Python is a method of file objects that is used to read all the lines from a file and return them as a list of strings. When you call the `readlines()` method, Python reads all the lines of the file and returns them as a list, where each element of the list corresponds to a single line in the file.\n",
    "\n",
    "The `readlines()` method is useful when you want to read all the lines of a file at once and store them in a list for further processing. However, if you only need to process one line at a time, it's more efficient to use the `readline()` method in a loop."
   ]
  },
  {
   "cell_type": "code",
   "execution_count": 64,
   "id": "adf2e3f7-d5d3-4cd3-9c5d-29c84abab9cd",
   "metadata": {},
   "outputs": [],
   "source": [
    "with open('./words', 'r') as words_file:\n",
    "    all_lines = words_file.readlines()"
   ]
  },
  {
   "cell_type": "code",
   "execution_count": 65,
   "id": "abaa9ed0-5c54-43c5-96f4-6c5dcc6a0e45",
   "metadata": {},
   "outputs": [
    {
     "data": {
      "text/plain": [
       "list"
      ]
     },
     "execution_count": 65,
     "metadata": {},
     "output_type": "execute_result"
    }
   ],
   "source": [
    "type(all_lines)"
   ]
  },
  {
   "cell_type": "code",
   "execution_count": 66,
   "id": "c52f9b60-ce23-4198-8501-421615571749",
   "metadata": {},
   "outputs": [
    {
     "data": {
      "text/plain": [
       "'A\\n'"
      ]
     },
     "execution_count": 66,
     "metadata": {},
     "output_type": "execute_result"
    }
   ],
   "source": [
    "all_lines[0]"
   ]
  },
  {
   "cell_type": "code",
   "execution_count": 67,
   "id": "7e2a5c99-c9ef-49fb-9bc8-cc0955ed3c2d",
   "metadata": {},
   "outputs": [
    {
     "data": {
      "text/plain": [
       "['A\\n',\n",
       " \"A's\\n\",\n",
       " 'AMD\\n',\n",
       " \"AMD's\\n\",\n",
       " 'AOL\\n',\n",
       " \"AOL's\\n\",\n",
       " 'AWS\\n',\n",
       " \"AWS's\\n\",\n",
       " 'Aachen\\n',\n",
       " \"Aachen's\\n\"]"
      ]
     },
     "execution_count": 67,
     "metadata": {},
     "output_type": "execute_result"
    }
   ],
   "source": [
    "all_lines[:10]"
   ]
  },
  {
   "cell_type": "code",
   "execution_count": 68,
   "id": "484590df-3aaa-426e-8c0d-1b94ddfadd12",
   "metadata": {},
   "outputs": [
    {
     "data": {
      "text/plain": [
       "102401"
      ]
     },
     "execution_count": 68,
     "metadata": {},
     "output_type": "execute_result"
    }
   ],
   "source": [
    "len(all_lines)"
   ]
  },
  {
   "cell_type": "markdown",
   "id": "b84db774-99e5-4803-b611-ea054a1616e7",
   "metadata": {},
   "source": [
    "### Example 1: Reading and restoring students name and grade\n",
    "\n",
    "There a file named `students` in the current directory, the file contains information of students and their grade in the folloing format:\n",
    "```\n",
    "student1:grade1\n",
    "student2:grade2\n",
    ".\n",
    ".\n",
    ".\n",
    "```\n",
    "\n",
    "We are going to read this file and restoring information of each student and their grade in a dictionary."
   ]
  },
  {
   "cell_type": "code",
   "execution_count": 70,
   "id": "3839c9e4-99bc-4813-b3b6-c14cb539bfb3",
   "metadata": {},
   "outputs": [],
   "source": [
    "student_to_grade = {}\n",
    "\n",
    "with open(file='students', mode='r') as students_file:\n",
    "    for line in students_file:\n",
    "        striped_line = line.strip()\n",
    "        name, grade = striped_line.split(':')\n",
    "        try:\n",
    "            grade_num = float(grade)\n",
    "            student_to_grade[name] = grade_num\n",
    "        except ValueError:\n",
    "            print(f'Bad line format for {name}')"
   ]
  },
  {
   "cell_type": "code",
   "execution_count": 71,
   "id": "3aadbf6e-82aa-46b2-8c6e-2df0978af34a",
   "metadata": {},
   "outputs": [
    {
     "data": {
      "text/plain": [
       "{'John': 18.0,\n",
       " 'Alex': 19.0,\n",
       " 'Eric': 10.0,\n",
       " 'Bob': 15.0,\n",
       " 'Jane': 17.0,\n",
       " 'Emily': 12.0}"
      ]
     },
     "execution_count": 71,
     "metadata": {},
     "output_type": "execute_result"
    }
   ],
   "source": [
    "student_to_grade"
   ]
  },
  {
   "cell_type": "markdown",
   "id": "83105f69-1062-47f1-9c08-31fb1ab2a7b1",
   "metadata": {},
   "source": [
    "> **Lets turn this process to function:**"
   ]
  },
  {
   "cell_type": "code",
   "execution_count": 74,
   "id": "396e4350-525e-4cec-935a-45b608a30ae4",
   "metadata": {},
   "outputs": [],
   "source": [
    "def restore_students(file_path):\n",
    "    student_to_grade = {}\n",
    "\n",
    "    with open(file=file_path, mode='r') as students_file:\n",
    "        for line in students_file:\n",
    "            striped_line = line.strip()\n",
    "            name, grade = striped_line.split(':')\n",
    "            try:\n",
    "                grade_num = float(grade)\n",
    "                student_to_grade[name] = grade_num\n",
    "            except ValueError:\n",
    "                print(f'Bad line format for {name}')\n",
    "    \n",
    "    return student_to_grade"
   ]
  },
  {
   "cell_type": "code",
   "execution_count": 77,
   "id": "b374267d-1169-4b77-9f4d-10064bffebf7",
   "metadata": {},
   "outputs": [
    {
     "data": {
      "text/plain": [
       "{'John': 18.0,\n",
       " 'Alex': 19.0,\n",
       " 'Eric': 10.0,\n",
       " 'Bob': 15.0,\n",
       " 'Jane': 17.0,\n",
       " 'Emily': 12.0}"
      ]
     },
     "execution_count": 77,
     "metadata": {},
     "output_type": "execute_result"
    }
   ],
   "source": [
    "restore_students('students')"
   ]
  }
 ],
 "metadata": {
  "kernelspec": {
   "display_name": "Python 3 (ipykernel)",
   "language": "python",
   "name": "python3"
  },
  "language_info": {
   "codemirror_mode": {
    "name": "ipython",
    "version": 3
   },
   "file_extension": ".py",
   "mimetype": "text/x-python",
   "name": "python",
   "nbconvert_exporter": "python",
   "pygments_lexer": "ipython3",
   "version": "3.9.7"
  }
 },
 "nbformat": 4,
 "nbformat_minor": 5
}
