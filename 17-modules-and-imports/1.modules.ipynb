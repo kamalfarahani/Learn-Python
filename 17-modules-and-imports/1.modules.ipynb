{
 "cells": [
  {
   "cell_type": "markdown",
   "id": "ed71ea71-8333-4258-932e-ab455244636e",
   "metadata": {},
   "source": [
    "## Modules\n",
    "\n",
    "In Python, a module is a file containing Python definitions, statements, and functions that can be imported and used in other Python programs. Modules allow you to organize code into reusable units, making it easier to manage and maintain large programs.\n",
    "\n",
    "A module can contain variables, functions, classes, and other objects. These objects can be accessed and used by importing the module into another Python script. Modules provide a way to encapsulate related code and create a separate namespace for the objects defined within them.\n",
    "\n",
    "Here's an example of a simple module called `my_module.py`:\n",
    "\n",
    "```python\n",
    "# my_module.py\n",
    "\n",
    "def greet(name):\n",
    "    print(f\"Hello, {name}!\")\n",
    "\n",
    "def add_numbers(a, b):\n",
    "    return a + b\n",
    "\n",
    "pi = 3.14159\n",
    "```\n",
    "\n",
    "In this example, `my_module.py` defines three objects: the `greet` function, the `add_numbers` function, and the `pi` variable.\n",
    "\n",
    "To use the objects defined in `my_module.py`, you need to import the module in another Python script. Here's an example of how to import and use the module:\n",
    "\n",
    "```python\n",
    "import my_module\n",
    "\n",
    "my_module.greet(\"Alice\")  # Output: Hello, Alice!\n",
    "result = my_module.add_numbers(3, 4)\n",
    "print(result)  # Output: 7\n",
    "print(my_module.pi)  # Output: 3.14159\n",
    "```\n",
    "\n",
    "In this example, we import the `my_module` module using the `import` statement. After importing, we can access the objects defined in the module using dot notation. We call the `greet` function, the `add_numbers` function, and access the `pi` variable defined in `my_module.py`.\n",
    "\n",
    "Modules can also be imported using the `from` keyword to directly import specific objects from the module. Here's an example:\n",
    "\n",
    "```python\n",
    "from my_module import greet, pi\n",
    "\n",
    "greet(\"Bob\")  # Output: Hello, Bob!\n",
    "print(pi)  # Output: 3.14159\n",
    "```\n",
    "\n",
    "In this case, we only import the `greet` function and the `pi` variable from `my_module.py`, allowing us to use them directly without referencing the module name.\n",
    "\n",
    "Python provides a rich ecosystem of standard library modules that cover a wide range of functionalities, as well as the ability to create and use custom modules. Modules offer a clean and organized approach to structuring and reusing code in Python programs."
   ]
  },
  {
   "cell_type": "markdown",
   "id": "c8aa4b75-89aa-457c-904b-7382026423e2",
   "metadata": {},
   "source": [
    "### Standard library\n",
    "\n",
    "The standard library in Python refers to a collection of modules that are distributed with the Python programming language. These modules provide a wide range of functionalities and cover various areas such as file I/O, string manipulation, network communication, data serialization, mathematical operations, and more.\n",
    "\n",
    "The standard library is part of the Python installation, and it is readily available for use without requiring any additional installation steps. It serves as a fundamental resource for Python developers, providing a set of tools and utilities that can be utilized to build applications efficiently.\n",
    "\n",
    "The standard library modules are maintained by the Python Software Foundation (PSF) and undergo regular updates and improvements along with new releases of the Python language.\n",
    "\n",
    "Some commonly used modules from the Python standard library include:\n",
    "\n",
    "- `os` for operating system-related functionalities.\n",
    "- `datetime` for working with dates and times.\n",
    "- `math` for mathematical operations and functions.\n",
    "- `random` for generating random numbers and making random choices.\n",
    "- `json` for working with JSON data.\n",
    "- `socket` for network programming.\n",
    "- `re` for regular expressions.\n",
    "- `csv` for reading and writing CSV files.\n",
    "- `logging` for logging and debugging.\n",
    "- `urllib` for working with URLs and making HTTP requests.\n",
    "\n",
    "These are just a few examples, and there are many more modules available in the standard library to cater to various programming needs.\n",
    "See [this link](https://docs.python.org/3/library/index.html) in official python docs.\n",
    "\n",
    "The standard library is an integral part of Python and represents a valuable resource for developers, allowing them to leverage existing functionality and accelerate the development process by reusing tested and optimized code."
   ]
  },
  {
   "cell_type": "markdown",
   "id": "cc3faaa5-b37a-4aee-ba08-37c101292ba0",
   "metadata": {},
   "source": [
    "### `import` statement\n",
    "\n",
    "In Python, the `import` statement is used to bring modules or specific objects (functions, classes, variables) from modules into the current namespace, allowing you to access and use them in your code.\n",
    "\n",
    "The basic syntax for importing a module is as follows:\n",
    "\n",
    "```python\n",
    "import module_name\n",
    "```\n",
    "\n",
    "Here, `module_name` refers to the name of the module you want to import. Once imported, you can access the objects defined in the module using dot notation, such as `module_name.object_name`.\n",
    "\n",
    "For example, to import the `math` module and use its `sqrt` function:\n",
    "\n",
    "```python\n",
    "import math\n",
    "\n",
    "result = math.sqrt(16)\n",
    "print(result)  # Output: 4.0\n",
    "```\n",
    "\n",
    "In this example, the `math` module is imported using `import math`. After importing, we can access the `sqrt` function defined in the `math` module as `math.sqrt()`.\n",
    "\n",
    "You can also import specific objects from a module using the `from` keyword. Here's an example:\n",
    "\n",
    "```python\n",
    "from math import sqrt\n",
    "\n",
    "result = sqrt(16)\n",
    "print(result)  # Output: 4.0\n",
    "```\n",
    "\n",
    "In this case, we import only the `sqrt` function from the `math` module directly. So, we can use `sqrt()` without referencing the module name.\n",
    "\n",
    "Additionally, you can import a module or object and assign it a different name using the `as` keyword. This can be useful to avoid naming conflicts or for creating shorter aliases. Here's an example:\n",
    "\n",
    "```python\n",
    "import math as m\n",
    "\n",
    "result = m.sqrt(16)\n",
    "print(result)  # Output: 4.0\n",
    "```\n",
    "\n",
    "In this example, the `math` module is imported and assigned the name `m`. So, we can access the `sqrt` function as `m.sqrt()`.\n",
    "\n",
    "The `import` statement can also be used to import multiple modules or objects in a single line, separated by commas. For example:\n",
    "\n",
    "```python\n",
    "import module1, module2\n",
    "```\n",
    "\n",
    "This imports both `module1` and `module2`.\n",
    "\n",
    "The `import` statement is a powerful feature in Python that allows you to utilize external code and extend the functionality of your programs by importing modules or specific objects from modules into your code's namespace."
   ]
  },
  {
   "cell_type": "code",
   "execution_count": 1,
   "id": "3facd6ef-ca66-4983-a42b-35753135238a",
   "metadata": {},
   "outputs": [],
   "source": [
    "import math"
   ]
  },
  {
   "cell_type": "code",
   "execution_count": 2,
   "id": "f3e064b5-467e-467c-8802-658b92fb12e0",
   "metadata": {},
   "outputs": [
    {
     "data": {
      "text/plain": [
       "22026.465794806718"
      ]
     },
     "execution_count": 2,
     "metadata": {},
     "output_type": "execute_result"
    }
   ],
   "source": [
    "math.exp(10)"
   ]
  },
  {
   "cell_type": "code",
   "execution_count": 3,
   "id": "97fb4724-d8d3-41bd-8872-b2f6e8772ebe",
   "metadata": {},
   "outputs": [
    {
     "data": {
      "text/plain": [
       "3628800"
      ]
     },
     "execution_count": 3,
     "metadata": {},
     "output_type": "execute_result"
    }
   ],
   "source": [
    "math.factorial(10)"
   ]
  },
  {
   "cell_type": "code",
   "execution_count": 4,
   "id": "8cf897ee-0025-47fc-ac81-dd95b487483e",
   "metadata": {},
   "outputs": [],
   "source": [
    "import os"
   ]
  },
  {
   "cell_type": "code",
   "execution_count": 6,
   "id": "9186b0b2-8694-4a5a-ad86-4625c93bc7e8",
   "metadata": {},
   "outputs": [
    {
     "data": {
      "text/plain": [
       "4"
      ]
     },
     "execution_count": 6,
     "metadata": {},
     "output_type": "execute_result"
    }
   ],
   "source": [
    "os.cpu_count()"
   ]
  },
  {
   "cell_type": "code",
   "execution_count": 16,
   "id": "c2035c6e-c138-43d3-9d15-a1d1264a55ad",
   "metadata": {},
   "outputs": [],
   "source": [
    "from math import pi"
   ]
  },
  {
   "cell_type": "code",
   "execution_count": 17,
   "id": "2e6a83a1-8e9e-479d-9581-59b93b176af6",
   "metadata": {},
   "outputs": [
    {
     "data": {
      "text/plain": [
       "3.141592653589793"
      ]
     },
     "execution_count": 17,
     "metadata": {},
     "output_type": "execute_result"
    }
   ],
   "source": [
    "pi"
   ]
  },
  {
   "cell_type": "markdown",
   "id": "c06310e5-f6aa-44e7-b2d3-e8b294a8f9f6",
   "metadata": {},
   "source": [
    "### 3-rd Party libraries\n",
    "\n",
    "Third-party libraries in Python are additional software packages developed by individuals or organizations outside of the official Python language development team. These libraries provide extended functionality and features that are not available in the Python Standard Library. They are created to address specific needs or to simplify common programming tasks.\n",
    "\n",
    "Here are some popular third-party libraries in Python:\n",
    "\n",
    "1. NumPy: NumPy is a powerful library for numerical computing in Python. It provides support for large, multi-dimensional arrays and matrices, along with a collection of mathematical functions to operate on these arrays efficiently. NumPy is widely used in scientific computing, data analysis, and machine learning.\n",
    "\n",
    "1. Pandas: Pandas is a library for data manipulation and analysis. It offers data structures and functions for efficiently handling structured data, such as tabular data and time series. Pandas provides powerful data manipulation capabilities and integrates well with other libraries for data analysis and visualization.\n",
    "\n",
    "1. Matplotlib: Matplotlib is a plotting library for creating static, animated, and interactive visualizations in Python. It offers a wide range of plotting functions and customization options, allowing users to create various types of plots, including line plots, scatter plots, bar plots, histograms, and more.\n",
    "\n",
    "1. TensorFlow: TensorFlow is an open-source library for machine learning and deep learning. It provides a flexible framework for building and training machine learning models, including neural networks. TensorFlow is widely used in various domains, such as image recognition, natural language processing, and recommendation systems.\n",
    "\n",
    "1. Flask: Flask is a lightweight web framework for building web applications in Python. It provides a simple and modular approach to web development, allowing developers to create web applications quickly and easily. Flask offers features for routing, request handling, template rendering, and more.\n",
    "\n",
    "1. Django: Django is a high-level web framework for building robust and scalable web applications. It follows the model-view-controller (MVC) architectural pattern and provides a comprehensive set of features for handling databases, authentication, forms, and other web development tasks. Django is widely used for developing complex web applications.\n",
    "\n",
    "1. Requests: Requests is a popular library for making HTTP requests in Python. It provides a simple and intuitive API for sending HTTP requests, handling responses, and working with cookies and sessions. Requests is widely used for web scraping, interacting with APIs, and building web applications that require HTTP communication.\n",
    "\n",
    "1. SQLAlchemy: SQLAlchemy is a SQL toolkit and Object-Relational Mapping (ORM) library for Python. It provides a high-level, Pythonic interface for interacting with databases, making it easier to work with relational databases in Python applications. SQLAlchemy supports various database engines and offers powerful querying capabilities.\n",
    "\n",
    "1. Scikit-learn: Scikit-learn is a machine learning library that provides a wide range of algorithms and tools for data mining, data analysis, and predictive modeling. It offers implementations of popular machine learning algorithms, such as classification, regression, clustering, and dimensionality reduction. Scikit-learn is widely used in academia and industry for machine learning tasks.\n",
    "\n",
    "1. PyTorch: PyTorch is a popular library for deep learning and neural network programming. It provides a flexible and dynamic framework for building and training neural networks, with support for automatic differentiation and GPU acceleration. PyTorch is widely used in research and production environments for deep learning applications.\n",
    "\n",
    "These are just a few examples of the vast number of third-party libraries available in Python. Python's extensive ecosystem of libraries makes it a versatile and powerful language for various domains, including data science, web development, machine learning, scientific computing, and more."
   ]
  },
  {
   "cell_type": "markdown",
   "id": "c815516d-6177-4f04-82ff-e2e127102646",
   "metadata": {},
   "source": [
    "### Installing 3-rd party libraries\n",
    "\n",
    "To install libraries in Python, you can use a package manager called \"pip.\" Pip is the standard package installer for Python and allows you to easily download and install libraries from the Python Package Index (PyPI) repository. Here's a step-by-step guide on how to install libraries using pip:\n",
    "\n",
    "1. Open a command-line interface: Depending on your operating system, open the Command Prompt, PowerShell (Windows), or Terminal (macOS/Linux).\n",
    "\n",
    "1. Check pip installation: Before installing any libraries, ensure that pip is installed on your system. You can check the pip version by running the following command:\n",
    "\n",
    "   ```bash\n",
    "   pip --version\n",
    "   ```\n",
    "If pip is not installed, you can install it by following the official pip installation guide.\n",
    "1. Identify the library: Determine the name of the library you want to install. You can find the library's name by referring to its documentation, official website, or by searching for it on PyPI (https://pypi.org/). Make a note of the library name.\n",
    "\n",
    "1. Install the library: To install a library using pip, use the following command:\n",
    "\n",
    "   ```bash\n",
    "   pip install <library_name>\n",
    "   ```\n",
    "\n",
    "   Replace `<library_name>` with the name of the library you want to install. For example, to install the \"requests\" library, you can run:\n",
    "\n",
    "   ```bash\n",
    "   pip install requests\n",
    "   ```\n",
    "\n",
    "   Pip will download the library package from PyPI and install it on your system, along with any required dependencies. The installation progress will be displayed in the command-line interface.\n",
    "\n",
    "\n",
    "1. Verify the installation: After the installation is complete, you can verify that the library is installed correctly. You can either import the library in a Python script or use the following command to get information about the installed library:\n",
    "\n",
    "   ```bash\n",
    "   pip show <library_name>\n",
    "   ```\n",
    "\n",
    "   Replace `<library_name>` with the name of the installed library. This command will display information about the installed library, such as the version number and installation location.\n",
    "\n",
    "\n",
    "That's it! You have successfully installed a library in Python using pip. You can now use the installed library in your Python projects by importing it into your code. Repeat the process for any additional libraries you want to install."
   ]
  },
  {
   "cell_type": "code",
   "execution_count": 7,
   "id": "845ad513-c6d1-4666-b361-f5e859eb533f",
   "metadata": {},
   "outputs": [
    {
     "name": "stdout",
     "output_type": "stream",
     "text": [
      "Requirement already satisfied: numpy in /home/kamal/miniconda3/lib/python3.9/site-packages (1.24.4)\n"
     ]
    }
   ],
   "source": [
    "!pip install numpy"
   ]
  },
  {
   "cell_type": "code",
   "execution_count": 10,
   "id": "f1da66a0-bf1f-45a2-8ee6-6700dcd1d260",
   "metadata": {},
   "outputs": [],
   "source": [
    "import numpy"
   ]
  },
  {
   "cell_type": "code",
   "execution_count": 13,
   "id": "c71013f2-1132-462f-b2a6-54a73afbcb6c",
   "metadata": {},
   "outputs": [
    {
     "data": {
      "text/plain": [
       "array([[1, 2, 3],\n",
       "       [4, 5, 6],\n",
       "       [7, 8, 9]])"
      ]
     },
     "execution_count": 13,
     "metadata": {},
     "output_type": "execute_result"
    }
   ],
   "source": [
    "m_1 = numpy.array([[1,2,3], [4,5,6], [7, 8, 9]])\n",
    "\n",
    "m_1"
   ]
  },
  {
   "cell_type": "code",
   "execution_count": 14,
   "id": "eea782df-a6ca-4c54-a292-80be91fb5a28",
   "metadata": {},
   "outputs": [
    {
     "data": {
      "text/plain": [
       "array([[1, 4, 7],\n",
       "       [2, 5, 8],\n",
       "       [3, 6, 9]])"
      ]
     },
     "execution_count": 14,
     "metadata": {},
     "output_type": "execute_result"
    }
   ],
   "source": [
    "m_1.transpose()"
   ]
  },
  {
   "cell_type": "markdown",
   "id": "81128cb8-e8d1-4051-8f83-48b544e77b45",
   "metadata": {},
   "source": [
    "### How to find a good library for a specific task\n",
    "\n",
    "When searching for a good library for a specific task in Python, you can follow these steps to find a suitable option:\n",
    "\n",
    "1. Define your task: Clearly define the specific task or problem you need to solve. Understand the requirements, constraints, and goals of your project. Having a clear understanding of your task will help you narrow down the search for the right library.\n",
    "\n",
    "1. Research and gather information: Start by researching the topic or domain related to your task. Look for articles, tutorials, and discussions that cover similar tasks or problems. Online communities like Stack Overflow, Reddit, and specialized forums can provide valuable insights and recommendations.\n",
    "\n",
    "1. Read library documentation: Once you have an idea of the libraries available in your domain, visit their official documentation. Read through the documentation to understand the library's features, capabilities, and compatibility with your requirements. Check for examples, usage guides, and any relevant documentation that can help you evaluate the library.\n",
    "\n",
    "1. Check popularity and community support: Consider the popularity and community support of the library. A widely used library typically indicates that it has been tested and adopted by many developers. Look for signs of an active community, such as regular updates, recent releases, and active discussions on forums or GitHub repositories. Community support is crucial for getting help, finding solutions, and addressing issues that may arise during your project.\n",
    "\n",
    "1. Evaluate maturity and stability: Assess the maturity and stability of the library. Check the library's version history and release notes. A library with a long history and stable releases is generally more reliable. You can also look for information about the library's usage in production environments and whether it is actively maintained and supported by its developers.\n",
    "\n",
    "1. Consider performance and efficiency: Depending on your task's requirements, consider the library's performance and efficiency. Look for benchmarks, performance comparisons, or testimonials that highlight the library's performance characteristics. This is particularly important if your task involves computationally intensive operations or large datasets.\n",
    "\n",
    "1. Read reviews and feedback: Look for reviews, feedback, and ratings from other developers who have used the library. You can find reviews on platforms like PyPI, GitHub, or specific library-related forums. Reviews can provide insights into the library's strengths, weaknesses, and any potential challenges you may encounter.\n",
    "\n",
    "1. Experiment and compare: If possible, consider experimenting with multiple libraries to compare their features, ease of use, and compatibility with your task. Implement a small prototype or conduct a proof of concept to evaluate how well the library fits your requirements. This hands-on experience will give you a better understanding of the library's capabilities and how it aligns with your project.\n",
    "\n",
    "By following these steps, you can gather information and make an informed decision when selecting a library for your specific task in Python. Remember that the \"best\" library depends on your unique requirements, so choose the one that best fits your needs and aligns with your project's goals."
   ]
  },
  {
   "cell_type": "markdown",
   "id": "6bfc6a96-2e37-4290-85c8-903b83227f66",
   "metadata": {},
   "source": [
    "#### Example 1: Python `math` module\n",
    "\n",
    "Lets look at Python [math](https://docs.python.org/3/library/math.html) module at standard library"
   ]
  },
  {
   "cell_type": "code",
   "execution_count": 18,
   "id": "b36b5a93-2d7f-43d7-a8ad-25c83a99fafc",
   "metadata": {},
   "outputs": [],
   "source": [
    "import math"
   ]
  },
  {
   "cell_type": "code",
   "execution_count": 24,
   "id": "fc3ae63b-2fe6-489a-8a5d-1d8a78fa00a6",
   "metadata": {},
   "outputs": [
    {
     "data": {
      "text/plain": [
       "<module 'math' from '/home/kamal/miniconda3/lib/python3.9/lib-dynload/math.cpython-39-x86_64-linux-gnu.so'>"
      ]
     },
     "execution_count": 24,
     "metadata": {},
     "output_type": "execute_result"
    }
   ],
   "source": [
    "math"
   ]
  },
  {
   "cell_type": "markdown",
   "id": "2981edbd-e673-4ec4-87c9-4e6c7ea54d34",
   "metadata": {},
   "source": [
    "> **Modules are also objects in Python**"
   ]
  },
  {
   "cell_type": "code",
   "execution_count": 25,
   "id": "8d751d96-b7ec-498c-9bb0-061fc9bbbe0d",
   "metadata": {},
   "outputs": [
    {
     "data": {
      "text/plain": [
       "module"
      ]
     },
     "execution_count": 25,
     "metadata": {},
     "output_type": "execute_result"
    }
   ],
   "source": [
    "type(math)"
   ]
  },
  {
   "cell_type": "code",
   "execution_count": 26,
   "id": "6cde45ea-98be-4cc9-b97e-d936663a8c17",
   "metadata": {},
   "outputs": [
    {
     "data": {
      "text/plain": [
       "'/home/kamal/miniconda3/lib/python3.9/lib-dynload/math.cpython-39-x86_64-linux-gnu.so'"
      ]
     },
     "execution_count": 26,
     "metadata": {},
     "output_type": "execute_result"
    }
   ],
   "source": [
    "math.__file__"
   ]
  },
  {
   "cell_type": "code",
   "execution_count": 19,
   "id": "c7d1b04a-518b-49c3-b82f-8bd3a3716204",
   "metadata": {},
   "outputs": [
    {
     "data": {
      "text/plain": [
       "\u001b[0;31mSignature:\u001b[0m \u001b[0mmath\u001b[0m\u001b[0;34m.\u001b[0m\u001b[0mfactorial\u001b[0m\u001b[0;34m(\u001b[0m\u001b[0mx\u001b[0m\u001b[0;34m,\u001b[0m \u001b[0;34m/\u001b[0m\u001b[0;34m)\u001b[0m\u001b[0;34m\u001b[0m\u001b[0;34m\u001b[0m\u001b[0m\n",
       "\u001b[0;31mDocstring:\u001b[0m\n",
       "Find x!.\n",
       "\n",
       "Raise a ValueError if x is negative or non-integral.\n",
       "\u001b[0;31mType:\u001b[0m      builtin_function_or_method\n"
      ]
     },
     "metadata": {},
     "output_type": "display_data"
    }
   ],
   "source": [
    "math.factorial?"
   ]
  },
  {
   "cell_type": "code",
   "execution_count": 20,
   "id": "4a34b7b5-22ed-4370-8e12-e557a50eb77b",
   "metadata": {},
   "outputs": [
    {
     "data": {
      "text/plain": [
       "\u001b[0;31mSignature:\u001b[0m \u001b[0mmath\u001b[0m\u001b[0;34m.\u001b[0m\u001b[0mexp\u001b[0m\u001b[0;34m(\u001b[0m\u001b[0mx\u001b[0m\u001b[0;34m,\u001b[0m \u001b[0;34m/\u001b[0m\u001b[0;34m)\u001b[0m\u001b[0;34m\u001b[0m\u001b[0;34m\u001b[0m\u001b[0m\n",
       "\u001b[0;31mDocstring:\u001b[0m Return e raised to the power of x.\n",
       "\u001b[0;31mType:\u001b[0m      builtin_function_or_method\n"
      ]
     },
     "metadata": {},
     "output_type": "display_data"
    }
   ],
   "source": [
    "math.exp?"
   ]
  },
  {
   "cell_type": "code",
   "execution_count": 21,
   "id": "8bc542a1-ad7d-43b0-91ed-558461da719a",
   "metadata": {},
   "outputs": [
    {
     "data": {
      "text/plain": [
       "\u001b[0;31mSignature:\u001b[0m \u001b[0mmath\u001b[0m\u001b[0;34m.\u001b[0m\u001b[0mcopysign\u001b[0m\u001b[0;34m(\u001b[0m\u001b[0mx\u001b[0m\u001b[0;34m,\u001b[0m \u001b[0my\u001b[0m\u001b[0;34m,\u001b[0m \u001b[0;34m/\u001b[0m\u001b[0;34m)\u001b[0m\u001b[0;34m\u001b[0m\u001b[0;34m\u001b[0m\u001b[0m\n",
       "\u001b[0;31mDocstring:\u001b[0m\n",
       "Return a float with the magnitude (absolute value) of x but the sign of y.\n",
       "\n",
       "On platforms that support signed zeros, copysign(1.0, -0.0)\n",
       "returns -1.0.\n",
       "\u001b[0;31mType:\u001b[0m      builtin_function_or_method\n"
      ]
     },
     "metadata": {},
     "output_type": "display_data"
    }
   ],
   "source": [
    "math.copysign?"
   ]
  },
  {
   "cell_type": "code",
   "execution_count": 22,
   "id": "783840a8-90a7-46ae-8ea8-5f53da4ab0ae",
   "metadata": {},
   "outputs": [
    {
     "data": {
      "text/plain": [
       "-10.0"
      ]
     },
     "execution_count": 22,
     "metadata": {},
     "output_type": "execute_result"
    }
   ],
   "source": [
    "math.copysign(10, -2)"
   ]
  },
  {
   "cell_type": "code",
   "execution_count": 23,
   "id": "5a104e2d-be82-4277-8fa1-0a9c841a7e60",
   "metadata": {},
   "outputs": [
    {
     "data": {
      "text/plain": [
       "2"
      ]
     },
     "execution_count": 23,
     "metadata": {},
     "output_type": "execute_result"
    }
   ],
   "source": [
    "math.gcd(10, 2)"
   ]
  },
  {
   "cell_type": "code",
   "execution_count": 27,
   "id": "c558b191-357f-44fe-9099-fbbe8e962a6c",
   "metadata": {},
   "outputs": [],
   "source": [
    "import math as m"
   ]
  },
  {
   "cell_type": "code",
   "execution_count": 28,
   "id": "f4f133ec-3534-4217-8313-c4f5adf9f078",
   "metadata": {},
   "outputs": [
    {
     "data": {
      "text/plain": [
       "1.4142135623730951"
      ]
     },
     "execution_count": 28,
     "metadata": {},
     "output_type": "execute_result"
    }
   ],
   "source": [
    "m.sqrt(2)"
   ]
  },
  {
   "cell_type": "markdown",
   "id": "fbbbbcd4-1b78-40f8-b1a4-005f6ffcc74f",
   "metadata": {},
   "source": [
    "#### Example 2: `random` module"
   ]
  },
  {
   "cell_type": "code",
   "execution_count": 29,
   "id": "c4684c76-bdff-4f8e-b06e-2e618e3b20d7",
   "metadata": {},
   "outputs": [],
   "source": [
    "import random"
   ]
  },
  {
   "cell_type": "code",
   "execution_count": 30,
   "id": "1077bfd9-c376-44fa-ae2e-caf087faff1d",
   "metadata": {},
   "outputs": [
    {
     "data": {
      "text/plain": [
       "\u001b[0;31mSignature:\u001b[0m \u001b[0mrandom\u001b[0m\u001b[0;34m.\u001b[0m\u001b[0mrandint\u001b[0m\u001b[0;34m(\u001b[0m\u001b[0ma\u001b[0m\u001b[0;34m,\u001b[0m \u001b[0mb\u001b[0m\u001b[0;34m)\u001b[0m\u001b[0;34m\u001b[0m\u001b[0;34m\u001b[0m\u001b[0m\n",
       "\u001b[0;31mDocstring:\u001b[0m\n",
       "Return random integer in range [a, b], including both end points.\n",
       "        \n",
       "\u001b[0;31mFile:\u001b[0m      ~/miniconda3/lib/python3.9/random.py\n",
       "\u001b[0;31mType:\u001b[0m      method\n"
      ]
     },
     "metadata": {},
     "output_type": "display_data"
    }
   ],
   "source": [
    "random.randint?"
   ]
  },
  {
   "cell_type": "code",
   "execution_count": 32,
   "id": "182d6d32-1b4f-42e0-a055-93166b04d460",
   "metadata": {},
   "outputs": [
    {
     "data": {
      "text/plain": [
       "9"
      ]
     },
     "execution_count": 32,
     "metadata": {},
     "output_type": "execute_result"
    }
   ],
   "source": [
    "random.randint(0, 10)"
   ]
  },
  {
   "cell_type": "code",
   "execution_count": 33,
   "id": "6085c0b4-c97b-4b1f-a91b-26dfd88eca7e",
   "metadata": {},
   "outputs": [
    {
     "data": {
      "text/plain": [
       "[1, 9, 0, 10, 0, 10, 4, 5, 3, 3]"
      ]
     },
     "execution_count": 33,
     "metadata": {},
     "output_type": "execute_result"
    }
   ],
   "source": [
    "rand_nums = [random.randint(0, 10) for i in range(10)]\n",
    "rand_nums"
   ]
  }
 ],
 "metadata": {
  "kernelspec": {
   "display_name": "Python 3 (ipykernel)",
   "language": "python",
   "name": "python3"
  },
  "language_info": {
   "codemirror_mode": {
    "name": "ipython",
    "version": 3
   },
   "file_extension": ".py",
   "mimetype": "text/x-python",
   "name": "python",
   "nbconvert_exporter": "python",
   "pygments_lexer": "ipython3",
   "version": "3.9.7"
  }
 },
 "nbformat": 4,
 "nbformat_minor": 5
}
