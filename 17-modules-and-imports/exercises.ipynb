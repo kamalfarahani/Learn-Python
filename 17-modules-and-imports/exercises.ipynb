{
 "cells": [
  {
   "cell_type": "markdown",
   "id": "invalid-compatibility",
   "metadata": {},
   "source": [
    "### Exercises"
   ]
  },
  {
   "cell_type": "markdown",
   "id": "theoretical-livestock",
   "metadata": {},
   "source": [
    "#### Question 1"
   ]
  },
  {
   "cell_type": "markdown",
   "id": "liberal-gibraltar",
   "metadata": {},
   "source": [
    "Your code uses a few functions in the `math` module here and there, but you also tend to use the `sin`, `cos` and `tan` functions and the `pi` constant very frequently."
   ]
  },
  {
   "cell_type": "markdown",
   "id": "presidential-milwaukee",
   "metadata": {},
   "source": [
    "Write some import statements that you think would be helpful in this scenario."
   ]
  },
  {
   "cell_type": "markdown",
   "id": "binding-cream",
   "metadata": {},
   "source": [
    "#### Question 2"
   ]
  },
  {
   "cell_type": "markdown",
   "id": "fewer-actress",
   "metadata": {},
   "source": [
    "There is a 3-rd party library called `matplotlib` first install it."
   ]
  },
  {
   "cell_type": "markdown",
   "id": "instrumental-interaction",
   "metadata": {},
   "source": [
    "We can certainly import that library using its full name, but whenever we need to reach into that module we need to type out `matplotlib.som_func` - since we use this library quite often, typing out `matplotlib` every time gets tiring."
   ]
  },
  {
   "cell_type": "markdown",
   "id": "computational-robert",
   "metadata": {},
   "source": [
    "Write an import function that allows you to reference that module using the name `mpl` instead of the full name `matplotlib`."
   ]
  },
  {
   "cell_type": "markdown",
   "id": "4f17daf4-808a-44ab-9544-6c9cfa0a6341",
   "metadata": {},
   "source": [
    "#### Question 3\n",
    "\n",
    "Explain the purpose and functionality of the `Counter` object in the `collections` module in Python. Additionally, provide an example where you would use the `Counter` object to solve a problem or perform a task.\n",
    "\n",
    "Hint:\n",
    "Consider scenarios where counting occurrences of elements or tracking frequencies of items would be useful."
   ]
  },
  {
   "cell_type": "markdown",
   "id": "2445bcb5-07e7-4233-8788-769ebe6fec9d",
   "metadata": {},
   "source": [
    "#### Question 4\n",
    "\n",
    "The `itertools` module in Python provides several powerful functions for working with iterators and combinations. In particular, the `combinations` function allows you to generate all possible combinations of a given length from a given iterable.\n",
    "\n",
    "Please read the documentation on the `combinations` function in the `itertools` module and then use it to solve the following problem:\n",
    "\n",
    "You are planning a dinner party and want to create a menu. You have a list of five main dishes that you can choose from: \"Chicken Parmesan,\" \"Beef Stir-Fry,\" \"Salmon with Lemon Sauce,\" \"Vegetable Curry,\" and \"Pasta Primavera.\" However, due to time constraints, you can only serve three main dishes at the party.\n",
    "\n",
    "Write a Python program that uses the `combinations` function from the `itertools` module to generate all possible combinations of three main dishes from the given list. Print each combination on a new line.\n",
    "\n",
    "Your program should produce output similar to the following:\n",
    "\n",
    "```\n",
    "Combination 1: ('Chicken Parmesan', 'Beef Stir-Fry', 'Salmon with Lemon Sauce')\n",
    "Combination 2: ('Chicken Parmesan', 'Beef Stir-Fry', 'Vegetable Curry')\n",
    "Combination 3: ('Chicken Parmesan', 'Beef Stir-Fry', 'Pasta Primavera')\n",
    "```\n",
    "\n",
    "Ensure that your program can handle different inputs by using the appropriate parameters of the `combinations` function.\n",
    "\n",
    "Provide the complete Python program that solves the problem and generates the desired output."
   ]
  }
 ],
 "metadata": {
  "kernelspec": {
   "display_name": "Python 3 (ipykernel)",
   "language": "python",
   "name": "python3"
  },
  "language_info": {
   "codemirror_mode": {
    "name": "ipython",
    "version": 3
   },
   "file_extension": ".py",
   "mimetype": "text/x-python",
   "name": "python",
   "nbconvert_exporter": "python",
   "pygments_lexer": "ipython3",
   "version": "3.9.7"
  }
 },
 "nbformat": 4,
 "nbformat_minor": 5
}
