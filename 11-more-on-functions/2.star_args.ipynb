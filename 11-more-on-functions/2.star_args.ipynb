{
 "cells": [
  {
   "cell_type": "markdown",
   "id": "1cd6d63b-6c99-4a76-8c0d-7df83b7f8abc",
   "metadata": {
    "tags": []
   },
   "source": [
    "## Star arguments\n",
    "\n",
    "We saw how to specify positional arguments in a function before, but what if we want to specify an **arbitrary** number of parameters?\n",
    "\n",
    "In Python, the star argument (also known as the \"splat\" or \"unpacking\" operator) is denoted by an asterisk (*) and is used to pass a variable number of arguments to a function.\n",
    "\n",
    "When the star is used before an iterable object, such as a list or a tuple, it allows the elements of the iterable to be unpacked and passed as separate arguments to a function. For example:\n",
    "\n",
    "```python\n",
    "def my_func(*args):\n",
    "    for arg in args:\n",
    "        print(arg)\n",
    "\n",
    "my_list = [1, 2, 3]\n",
    "my_func(*my_list)\n",
    "```\n",
    "\n",
    "In this example, the `my_list` variable is unpacked using the star operator and passed as separate arguments to the `my_func` function. The function then prints each argument on a new line.\n",
    "\n",
    "The star operator can also be used to unpack dictionaries as keyword arguments. For example:\n",
    "\n",
    "```python\n",
    "def my_func(**kwargs):\n",
    "    for key, value in kwargs.items():\n",
    "        print(key, value)\n",
    "\n",
    "my_dict = {'a': 1, 'b': 2, 'c': 3}\n",
    "my_func(**my_dict)\n",
    "```\n",
    "\n",
    "In this example, the `my_dict` variable is unpacked using the double star operator and passed as keyword arguments to the `my_func` function. The function then prints each key-value pair on a new line."
   ]
  },
  {
   "cell_type": "code",
   "execution_count": 11,
   "id": "1a3729b4-0166-4d9c-9b8a-b5405bd09e88",
   "metadata": {},
   "outputs": [],
   "source": [
    "def f(*args):\n",
    "    print(args)\n",
    "    print(type(args))"
   ]
  },
  {
   "cell_type": "code",
   "execution_count": 12,
   "id": "c8827f46-abf3-4bdd-a4e6-6af60421da64",
   "metadata": {},
   "outputs": [
    {
     "name": "stdout",
     "output_type": "stream",
     "text": [
      "(1, 2, 3)\n",
      "<class 'tuple'>\n"
     ]
    }
   ],
   "source": [
    "f(1,2,3)"
   ]
  },
  {
   "cell_type": "markdown",
   "id": "27c2d47b-01f3-41f2-b43d-5cf2ffb053e3",
   "metadata": {},
   "source": [
    "> **Remeber that star parameter is passed as a tuple**"
   ]
  },
  {
   "cell_type": "code",
   "execution_count": 1,
   "id": "6fb6d12c-2138-4542-a363-a3f249971d10",
   "metadata": {},
   "outputs": [],
   "source": [
    "def my_func(*args):\n",
    "    for arg in args:\n",
    "        print(arg)"
   ]
  },
  {
   "cell_type": "code",
   "execution_count": 3,
   "id": "ff64d660-fcd4-450b-87c5-0b3a86d204fa",
   "metadata": {},
   "outputs": [
    {
     "name": "stdout",
     "output_type": "stream",
     "text": [
      "1\n",
      "2\n"
     ]
    }
   ],
   "source": [
    "my_func(1, 2)"
   ]
  },
  {
   "cell_type": "code",
   "execution_count": 4,
   "id": "1fca08da-ccae-4d00-8961-21c96a925044",
   "metadata": {},
   "outputs": [
    {
     "name": "stdout",
     "output_type": "stream",
     "text": [
      "1\n",
      "2\n",
      "3\n",
      "4\n",
      "5\n"
     ]
    }
   ],
   "source": [
    "my_func(1,2,3,4,5)"
   ]
  },
  {
   "cell_type": "code",
   "execution_count": 5,
   "id": "2ce9f68b-93e1-4c5d-8adb-82f522bdff39",
   "metadata": {},
   "outputs": [
    {
     "name": "stdout",
     "output_type": "stream",
     "text": [
      "a\n",
      "b\n",
      "c\n"
     ]
    }
   ],
   "source": [
    "values = ['a', 'b', 'c']\n",
    "my_func(*values)"
   ]
  },
  {
   "cell_type": "code",
   "execution_count": 16,
   "id": "49940359-5527-4aac-a79d-aede30767796",
   "metadata": {},
   "outputs": [],
   "source": [
    "def my_func_2(a, b, *args):\n",
    "    print(a)\n",
    "    print(b)\n",
    "    print(args)"
   ]
  },
  {
   "cell_type": "code",
   "execution_count": 19,
   "id": "dfeb7459-19e8-458c-bef6-86507cbe7c69",
   "metadata": {},
   "outputs": [
    {
     "name": "stdout",
     "output_type": "stream",
     "text": [
      "1\n",
      "2\n",
      "('a', 'b', 'c')\n"
     ]
    }
   ],
   "source": [
    "my_func_2(1, 2, 'a', 'b', 'c')"
   ]
  },
  {
   "cell_type": "markdown",
   "id": "b9855e9b-bdcf-40d7-b2bc-3e3faf075b84",
   "metadata": {},
   "source": [
    "### Example 1: average function"
   ]
  },
  {
   "cell_type": "code",
   "execution_count": 13,
   "id": "1d943d32-2eb2-45b6-a471-7a725c28aaa9",
   "metadata": {},
   "outputs": [],
   "source": [
    "def average(*values):\n",
    "    total = 0\n",
    "    for x in values:\n",
    "        total += x\n",
    "    \n",
    "    return total / len(values)"
   ]
  },
  {
   "cell_type": "code",
   "execution_count": 14,
   "id": "d1da6d83-581e-4eec-91fa-ee84f493eb4c",
   "metadata": {},
   "outputs": [
    {
     "data": {
      "text/plain": [
       "2.0"
      ]
     },
     "execution_count": 14,
     "metadata": {},
     "output_type": "execute_result"
    }
   ],
   "source": [
    "average(1,2,3)"
   ]
  },
  {
   "cell_type": "code",
   "execution_count": 15,
   "id": "b4fe2c93-057e-4a13-ae20-e5f33f841ce6",
   "metadata": {},
   "outputs": [
    {
     "data": {
      "text/plain": [
       "3.0"
      ]
     },
     "execution_count": 15,
     "metadata": {},
     "output_type": "execute_result"
    }
   ],
   "source": [
    "average(1,2,3,4,5)"
   ]
  },
  {
   "cell_type": "markdown",
   "id": "6d75117f-4665-4513-92cb-2657eeecfa46",
   "metadata": {},
   "source": [
    "### `**kwargs` \n",
    "\n",
    "In Python, `**kwargs` is a special syntax used in function definitions to allow a variable number of keyword arguments to be passed to the function. The double asterisk (**) before the parameter name `kwargs` indicates that the argument is a keyword argument dictionary.\n",
    "\n",
    "Here's an example function that uses `**kwargs`:\n",
    "\n",
    "```python\n",
    "def my_func(**kwargs):\n",
    "    for key, value in kwargs.items():\n",
    "        print(key, value)\n",
    "```\n",
    "\n",
    "In this example, the `my_func` function takes a variable number of keyword arguments. The function then iterates over the `kwargs` dictionary and prints each key-value pair.\n",
    "\n",
    "To call this function, you can provide keyword arguments in the form of key-value pairs:\n",
    "\n",
    "```python\n",
    "my_func(name=\"Alice\", age=30, city=\"New York\")\n",
    "```\n",
    "\n",
    "In this example, we are calling the `my_func` function and passing in three keyword arguments: `name`, `age`, and `city`. The function receives these arguments as a dictionary, where the keys are the argument names and the values are the corresponding values.\n",
    "\n",
    "Using `**kwargs` can be useful when you want to create a function that can accept any number of keyword arguments. It can make the function more flexible and easier to use, especially when you don't know in advance what keyword arguments will be passed in. Note that you can also combine `**kwargs` with regular parameters and *args to create functions that accept both keyword and positional arguments."
   ]
  },
  {
   "cell_type": "code",
   "execution_count": 20,
   "id": "4c72fb9a-483e-4290-a498-7d1c0eaafac1",
   "metadata": {},
   "outputs": [],
   "source": [
    "def my_func(**kwargs):\n",
    "    for key, value in kwargs.items():\n",
    "        print(key, value)"
   ]
  },
  {
   "cell_type": "code",
   "execution_count": 21,
   "id": "80c7b5cc-2bde-4f15-91b0-429d2c660fbd",
   "metadata": {},
   "outputs": [
    {
     "name": "stdout",
     "output_type": "stream",
     "text": [
      "a 1\n",
      "b 2\n"
     ]
    }
   ],
   "source": [
    "my_func(a=1, b=2)"
   ]
  },
  {
   "cell_type": "code",
   "execution_count": 22,
   "id": "74ec705b-0ad0-4306-bf98-689e51ff6773",
   "metadata": {},
   "outputs": [
    {
     "name": "stdout",
     "output_type": "stream",
     "text": [
      "a 1\n",
      "b 2\n",
      "c 3\n"
     ]
    }
   ],
   "source": [
    "my_dict = {'a': 1, 'b': 2, 'c': 3}\n",
    "my_func(**my_dict)"
   ]
  }
 ],
 "metadata": {
  "kernelspec": {
   "display_name": "Python 3 (ipykernel)",
   "language": "python",
   "name": "python3"
  },
  "language_info": {
   "codemirror_mode": {
    "name": "ipython",
    "version": 3
   },
   "file_extension": ".py",
   "mimetype": "text/x-python",
   "name": "python",
   "nbconvert_exporter": "python",
   "pygments_lexer": "ipython3",
   "version": "3.9.7"
  }
 },
 "nbformat": 4,
 "nbformat_minor": 5
}
