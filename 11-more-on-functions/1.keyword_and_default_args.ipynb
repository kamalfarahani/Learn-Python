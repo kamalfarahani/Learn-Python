{
 "cells": [
  {
   "cell_type": "markdown",
   "id": "81de18e0-f768-4662-8111-becf3ccc6120",
   "metadata": {},
   "source": [
    "## Keword and default arguments\n",
    "\n",
    "In Python, keyword arguments are a way to pass arguments to a function by specifying the name of the parameter that the argument is intended for. This allows you to pass arguments in any order, and also allows you to provide default values for parameters.\n",
    "\n",
    "Here is an example function that takes two keyword arguments:\n",
    "\n",
    "```python\n",
    "def greet(name, greeting=\"Hello\"):\n",
    "    print(greeting + \", \" + name + \"!\")\n",
    "```\n",
    "\n",
    "In this example, the `greet` function takes two keyword arguments, `name` and `greeting`. The `name` argument is a required argument, while the `greeting` argument has a default value of \"Hello\".\n",
    "\n",
    "To call this function, you can provide the arguments by name:\n",
    "\n",
    "```python\n",
    "greet(name=\"Alice\", greeting=\"Hi\")\n",
    "```\n",
    "\n",
    "In this example, we are calling the `greet` function and passing the `name` argument as \"Alice\" and the `greeting` argument as \"Hi\". Since we are specifying the argument names, we can pass them in any order we want.\n",
    "\n",
    "You can also omit the argument name for the first argument, and only provide the name for the subsequent arguments:\n",
    "\n",
    "```python\n",
    "greet(\"Bob\", greeting=\"Hey\")\n",
    "```\n",
    "\n",
    "In this example, we are calling the `greet` function and passing the `name` argument as \"Bob\" and the `greeting` argument as \"Hey\".\n",
    "\n",
    "Keyword arguments are useful when you have a function with many parameters, or when you want to provide default values for some parameters. They can make the code more readable and easier to understand, especially when calling a function with many arguments."
   ]
  },
  {
   "cell_type": "code",
   "execution_count": 1,
   "id": "a6a2e0b0-cbef-4e78-ba4a-66e073329cbc",
   "metadata": {},
   "outputs": [],
   "source": [
    "def f(a, b):\n",
    "    return a ** b"
   ]
  },
  {
   "cell_type": "code",
   "execution_count": 2,
   "id": "5bfd11e3-a5e1-463a-a2d0-f83bbbc70936",
   "metadata": {},
   "outputs": [
    {
     "data": {
      "text/plain": [
       "8"
      ]
     },
     "execution_count": 2,
     "metadata": {},
     "output_type": "execute_result"
    }
   ],
   "source": [
    "f(2, 3)"
   ]
  },
  {
   "cell_type": "code",
   "execution_count": 3,
   "id": "d9d5f007-4232-4040-b6a7-e48eada6d9f8",
   "metadata": {},
   "outputs": [
    {
     "data": {
      "text/plain": [
       "8"
      ]
     },
     "execution_count": 3,
     "metadata": {},
     "output_type": "execute_result"
    }
   ],
   "source": [
    "f(b=3, a=2)"
   ]
  },
  {
   "cell_type": "code",
   "execution_count": 4,
   "id": "5dcdfa8e-d2b7-4bd9-8acf-a6e7eebfa1d0",
   "metadata": {},
   "outputs": [],
   "source": [
    "def g(a, b=3):\n",
    "    return a ** b"
   ]
  },
  {
   "cell_type": "code",
   "execution_count": 5,
   "id": "26096db7-092b-4cc6-875d-1d4b2f541bd6",
   "metadata": {},
   "outputs": [
    {
     "data": {
      "text/plain": [
       "8"
      ]
     },
     "execution_count": 5,
     "metadata": {},
     "output_type": "execute_result"
    }
   ],
   "source": [
    "g(2)"
   ]
  },
  {
   "cell_type": "code",
   "execution_count": 6,
   "id": "b34ac26f-684e-4008-857d-3f8447962269",
   "metadata": {},
   "outputs": [],
   "source": [
    "def greet(name, greeting=\"Hello\"):\n",
    "    print(greeting + \", \" + name + \"!\")"
   ]
  },
  {
   "cell_type": "code",
   "execution_count": 7,
   "id": "b4eaf4bf-101c-4f42-a634-d5c33ed9d92f",
   "metadata": {},
   "outputs": [
    {
     "name": "stdout",
     "output_type": "stream",
     "text": [
      "Hello, Alex!\n"
     ]
    }
   ],
   "source": [
    "greet(name='Alex')"
   ]
  },
  {
   "cell_type": "code",
   "execution_count": 8,
   "id": "bee0471e-0c24-40bc-bb94-42108b913a01",
   "metadata": {},
   "outputs": [
    {
     "name": "stdout",
     "output_type": "stream",
     "text": [
      "Hi, John!\n"
     ]
    }
   ],
   "source": [
    "greet(greeting='Hi', name='John')"
   ]
  },
  {
   "cell_type": "markdown",
   "id": "e7c11717-9c74-4718-97e6-cf17df4d00ec",
   "metadata": {},
   "source": [
    "### Do not use mutable objects as default values\n",
    "\n",
    "In Python, it is generally not recommended to use mutable objects as default arguments in function definitions. The reason for this is that default arguments are only evaluated once, when the function is defined, and not each time the function is called. This can lead to unexpected behavior when mutable objects are used as default arguments.\n",
    "\n",
    "Consider the following example:\n",
    "\n",
    "```python\n",
    "def my_func(my_list=[]):\n",
    "    my_list.append(1)\n",
    "    print(my_list)\n",
    "```\n",
    "\n",
    "In this example, the `my_func` function takes a list as a default argument. The function then appends the value `1` to this list and prints the updated list.\n",
    "\n",
    "Now, let's call this function twice:\n",
    "\n",
    "```python\n",
    "my_func() # Output: [1]\n",
    "my_func() # Output: [1, 1]\n",
    "```\n",
    "\n",
    "In the first call to `my_func`, the default argument for `my_list` is an empty list, so the function appends `1` to this list and prints it as `[1]`. However, in the second call to `my_func`, the default argument for `my_list` is the list that was modified in the first call, so the function appends `1` to this list again and prints it as `[1, 1]`.\n",
    "\n",
    "This behavior can be surprising and unexpected, especially if you are not aware of it. To avoid this issue, it is recommended to use immutable objects (such as `None`, integers, or strings) as default arguments, or to explicitly create a new mutable object each time the function is called:\n",
    "\n",
    "```python\n",
    "def my_func(my_list=None):\n",
    "    if my_list is None:\n",
    "        my_list = []\n",
    "    my_list.append(1)\n",
    "    print(my_list)\n",
    "```\n",
    "\n",
    "In this revised version of `my_func`, we use `None` as the default argument for `my_list`, and then explicitly create a new list if `my_list` is `None`. This ensures that a new list is created each time the function is called, avoiding the issues with mutable default arguments."
   ]
  },
  {
   "cell_type": "code",
   "execution_count": 9,
   "id": "83f46f0b-9a26-45ca-9fb4-55b6b5a59721",
   "metadata": {},
   "outputs": [],
   "source": [
    "def my_func(my_list=[]):\n",
    "    my_list.append(1)\n",
    "    print(my_list)"
   ]
  },
  {
   "cell_type": "code",
   "execution_count": 10,
   "id": "30c3ce09-7c2f-449e-8aa8-a4c73c991ec9",
   "metadata": {},
   "outputs": [
    {
     "name": "stdout",
     "output_type": "stream",
     "text": [
      "[1]\n"
     ]
    }
   ],
   "source": [
    "my_func()"
   ]
  },
  {
   "cell_type": "code",
   "execution_count": 11,
   "id": "a3925ecc-1603-4a90-8735-db36b5754983",
   "metadata": {},
   "outputs": [
    {
     "name": "stdout",
     "output_type": "stream",
     "text": [
      "[1, 1]\n"
     ]
    }
   ],
   "source": [
    "my_func()"
   ]
  },
  {
   "cell_type": "markdown",
   "id": "f866ac60-fd53-4691-bbd0-69321b0f73a2",
   "metadata": {},
   "source": [
    "> **Use this way instead**"
   ]
  },
  {
   "cell_type": "code",
   "execution_count": 12,
   "id": "1cd46fce-50ce-4500-a494-5322e2cd03fa",
   "metadata": {},
   "outputs": [],
   "source": [
    "def my_func(my_list=None):\n",
    "    if my_list is None:\n",
    "        my_list = []\n",
    "    my_list.append(1)\n",
    "    print(my_list)"
   ]
  },
  {
   "cell_type": "code",
   "execution_count": 13,
   "id": "aec8cabb-35ff-464f-901c-f5792f5a29e9",
   "metadata": {},
   "outputs": [
    {
     "name": "stdout",
     "output_type": "stream",
     "text": [
      "[1]\n"
     ]
    }
   ],
   "source": [
    "my_func()"
   ]
  },
  {
   "cell_type": "code",
   "execution_count": 14,
   "id": "62b10b92-f120-4b26-8144-32ced8c6987e",
   "metadata": {},
   "outputs": [
    {
     "name": "stdout",
     "output_type": "stream",
     "text": [
      "[1]\n"
     ]
    }
   ],
   "source": [
    "my_func()"
   ]
  }
 ],
 "metadata": {
  "kernelspec": {
   "display_name": "Python 3 (ipykernel)",
   "language": "python",
   "name": "python3"
  },
  "language_info": {
   "codemirror_mode": {
    "name": "ipython",
    "version": 3
   },
   "file_extension": ".py",
   "mimetype": "text/x-python",
   "name": "python",
   "nbconvert_exporter": "python",
   "pygments_lexer": "ipython3",
   "version": "3.9.7"
  }
 },
 "nbformat": 4,
 "nbformat_minor": 5
}
