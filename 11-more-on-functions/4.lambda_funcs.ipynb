{
 "cells": [
  {
   "cell_type": "markdown",
   "id": "4233ba17-e837-4a88-b0a5-5ee68d48dab8",
   "metadata": {},
   "source": [
    "## Lambda functions\n",
    "\n",
    "In Python, a lambda function is a small, anonymous function that can be defined on a single line of code. It is called anonymous because it does not have a name, and it is typically used for simple operations that can be defined in a single expression.\n",
    "\n",
    "The syntax for defining a lambda function is as follows:\n",
    "\n",
    "```python\n",
    "lambda arguments: expression\n",
    "```\n",
    "\n",
    "Here, `arguments` is a comma-separated list of arguments that the function takes and `expression` is **the single expression that the function returns**. The result of the expression is automatically returned by the lambda function.\n",
    "\n",
    "For example, a lambda function that returns the square of its input can be defined as follows:\n",
    "\n",
    "```python\n",
    "square = lambda x: x**2\n",
    "```\n",
    "\n",
    "Here, `square` is the variable that holds the lambda function, which takes a single argument `x` and returns `x**2`.\n",
    "\n",
    "> We will understand, what following description and code says later when we learn about higher order functions\n",
    "\n",
    "Lambda functions can be used wherever a function is expected, such as in a `map()` or `filter()` function call. For example, we can use a lambda function to square each element of a list using the `map()` function like this:\n",
    "\n",
    "```python\n",
    "my_list = [1, 2, 3, 4, 5]\n",
    "squared_list = list(map(lambda x: x**2, my_list))\n",
    "```\n",
    "\n",
    "Here, the `map()` function takes two arguments: the lambda function `lambda x: x**2` and the list `my_list`. The lambda function is applied to each element of `my_list`,"
   ]
  },
  {
   "cell_type": "code",
   "execution_count": 1,
   "id": "3aa10c3a-6ef1-43bb-a4f1-2cf3da2c4a2d",
   "metadata": {},
   "outputs": [
    {
     "data": {
      "text/plain": [
       "<function __main__.<lambda>(x)>"
      ]
     },
     "execution_count": 1,
     "metadata": {},
     "output_type": "execute_result"
    }
   ],
   "source": [
    "lambda x: x**2"
   ]
  },
  {
   "cell_type": "markdown",
   "id": "71443add-6dd0-4a00-98d2-4bfbf47f9393",
   "metadata": {},
   "source": [
    "> **Lambda functions are just functions**"
   ]
  },
  {
   "cell_type": "code",
   "execution_count": 2,
   "id": "8a078a72-b93f-4999-baa8-5da9124c1675",
   "metadata": {},
   "outputs": [],
   "source": [
    "square = lambda x: x ** 2"
   ]
  },
  {
   "cell_type": "code",
   "execution_count": 3,
   "id": "d1a8c42b-4e0b-4379-bf22-b76fe5aa3687",
   "metadata": {},
   "outputs": [
    {
     "data": {
      "text/plain": [
       "<function __main__.<lambda>(x)>"
      ]
     },
     "execution_count": 3,
     "metadata": {},
     "output_type": "execute_result"
    }
   ],
   "source": [
    "square"
   ]
  },
  {
   "cell_type": "code",
   "execution_count": 4,
   "id": "a1c1712c-e428-46e1-9d6f-5435c47afe86",
   "metadata": {},
   "outputs": [
    {
     "data": {
      "text/plain": [
       "function"
      ]
     },
     "execution_count": 4,
     "metadata": {},
     "output_type": "execute_result"
    }
   ],
   "source": [
    "type(square)"
   ]
  },
  {
   "cell_type": "code",
   "execution_count": 5,
   "id": "6d545312-3d10-433f-878c-a0b895d74090",
   "metadata": {},
   "outputs": [
    {
     "data": {
      "text/plain": [
       "4"
      ]
     },
     "execution_count": 5,
     "metadata": {},
     "output_type": "execute_result"
    }
   ],
   "source": [
    "square(2)"
   ]
  }
 ],
 "metadata": {
  "kernelspec": {
   "display_name": "Python 3 (ipykernel)",
   "language": "python",
   "name": "python3"
  },
  "language_info": {
   "codemirror_mode": {
    "name": "ipython",
    "version": 3
   },
   "file_extension": ".py",
   "mimetype": "text/x-python",
   "name": "python",
   "nbconvert_exporter": "python",
   "pygments_lexer": "ipython3",
   "version": "3.9.7"
  }
 },
 "nbformat": 4,
 "nbformat_minor": 5
}
