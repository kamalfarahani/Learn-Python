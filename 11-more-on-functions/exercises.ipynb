{
 "cells": [
  {
   "cell_type": "markdown",
   "id": "alert-document",
   "metadata": {},
   "source": [
    "### Questions"
   ]
  },
  {
   "cell_type": "markdown",
   "id": "descending-cursor",
   "metadata": {},
   "source": [
    "#### Question 1"
   ]
  },
  {
   "cell_type": "markdown",
   "id": "fundamental-seven",
   "metadata": {},
   "source": [
    "Write a function that takes a variable number of arguments (with a minimum of one), and returns the average of these numbers."
   ]
  },
  {
   "cell_type": "markdown",
   "id": "atlantic-edgar",
   "metadata": {},
   "source": [
    "#### Question 2"
   ]
  },
  {
   "cell_type": "markdown",
   "id": "alive-concrete",
   "metadata": {},
   "source": [
    "Write a function that returns a string based on two input arguments:\n",
    "- a character or string to be repeated\n",
    "- the number of times the string should be repeated"
   ]
  },
  {
   "cell_type": "markdown",
   "id": "green-opinion",
   "metadata": {},
   "source": [
    "The function should be such that the number of repetitions defaults to `10` if it is not passed by the caller, and the default character to be repeated should be a negative sign (`-`).\n",
    "\n",
    "Call your function `separator`.\n",
    "\n",
    "Use a keyword-only argument for the string argument."
   ]
  },
  {
   "cell_type": "markdown",
   "id": "elegant-glass",
   "metadata": {},
   "source": [
    "#### Question 3"
   ]
  },
  {
   "cell_type": "markdown",
   "id": "thrown-theology",
   "metadata": {},
   "source": [
    "Write a lambda function that returns the number of unique elements in an iterable. This could be the number of unique characters in a string, or the number of unique elements in a list, tuple, etc.\n",
    "\n",
    "If the iterable received by the lambda function is empty, then it should return `0`."
   ]
  },
  {
   "cell_type": "markdown",
   "id": "earlier-community",
   "metadata": {},
   "source": [
    "#### Question 4"
   ]
  },
  {
   "cell_type": "markdown",
   "id": "criminal-heritage",
   "metadata": {},
   "source": [
    "Write a function that receives a string as an argument (defaults to an empty string) and returns a dictionary with the unique words and their frequency."
   ]
  },
  {
   "cell_type": "markdown",
   "id": "loose-brooks",
   "metadata": {},
   "source": [
    "For example, for a string such as:\n",
    "\n",
    "```\n",
    "This is the first sentence. This is the scecond sentence. This is not the fourth sentence, it is the third sentence.\n",
    "```\n",
    "\n",
    "the result of the function should be:"
   ]
  },
  {
   "cell_type": "code",
   "execution_count": 1,
   "id": "middle-public",
   "metadata": {},
   "outputs": [],
   "source": [
    "result = {\n",
    "    'This': 3,\n",
    "    'is': 4,\n",
    "    'the': 4,\n",
    "    'first': 1,\n",
    "    'sentence': 4,\n",
    "    'scecond': 1,\n",
    "    'not': 1,\n",
    "    'fourth': 1,\n",
    "    'it': 1,\n",
    "    'third': 1\n",
    "}"
   ]
  },
  {
   "cell_type": "markdown",
   "id": "sonic-civilization",
   "metadata": {},
   "source": [
    "You may assume that word separators are limited to spaces, commas, and periods (no newline characters)."
   ]
  },
  {
   "cell_type": "markdown",
   "id": "finished-collar",
   "metadata": {},
   "source": [
    "Hint: You will want to split based on some character. Problem is that we really need to split based on three different characters: spaces, commas and periods. One approach would be to replace all commas and periods with spaces and then split on spaces."
   ]
  },
  {
   "cell_type": "markdown",
   "id": "3f468ed0-72fd-420d-899f-fed26848e7b6",
   "metadata": {
    "tags": []
   },
   "source": [
    "#### Question 5\n",
    "\n",
    "Write a function called is_valid_email  that takes an email address as an argument and returns True/False depending on whether it is a valid email address.\n",
    "\n",
    "Check rules:\n",
    "\n",
    "* Must contain at least 1 character before the at symbol\n",
    "\n",
    "* Must contain an @ symbol\n",
    "\n",
    "* Must have at-least 1 character after the @ symbol and before the period(.)\n",
    "\n",
    "* Must contain at least 1 character after the last period(.).\n",
    "\n",
    "* Maximum 256 characters\n",
    "\n",
    "* Must start with a letter or a number"
   ]
  },
  {
   "cell_type": "markdown",
   "id": "b5f30f25-3618-4c51-bfdd-f4820846ab89",
   "metadata": {},
   "source": [
    "### Question 6\n",
    "\n",
    "Write a Python function to check whether a string is a pangram or not.\n",
    "\n",
    ">Note : Pangrams are words or sentences containing every letter of the alphabet at least once.\n",
    "For example : \"The quick brown fox jumps over the lazy dog\""
   ]
  },
  {
   "cell_type": "markdown",
   "id": "e7851929-5ca8-4a5b-8412-c731cbdb1a5f",
   "metadata": {},
   "source": [
    "#### Question 7\n",
    "\n",
    "Write a Python program to sort a list of elements using the [selection sort algorithm](https://en.wikipedia.org/wiki/Selection_sort).\n",
    "\n",
    "![selection sort](./pics/selection_sort.gif)"
   ]
  },
  {
   "cell_type": "code",
   "execution_count": null,
   "id": "b53de667-fba2-44a5-bf34-80f7688180c4",
   "metadata": {},
   "outputs": [],
   "source": []
  }
 ],
 "metadata": {
  "kernelspec": {
   "display_name": "Python 3 (ipykernel)",
   "language": "python",
   "name": "python3"
  },
  "language_info": {
   "codemirror_mode": {
    "name": "ipython",
    "version": 3
   },
   "file_extension": ".py",
   "mimetype": "text/x-python",
   "name": "python",
   "nbconvert_exporter": "python",
   "pygments_lexer": "ipython3",
   "version": "3.9.7"
  }
 },
 "nbformat": 4,
 "nbformat_minor": 5
}
