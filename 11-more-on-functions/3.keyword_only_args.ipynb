{
 "cells": [
  {
   "cell_type": "markdown",
   "id": "121edd53-8e83-4bbc-96f5-3d27358be455",
   "metadata": {},
   "source": [
    "## Keyword-only arguments\n",
    "\n",
    "In Python, keyword-only arguments are a type of function argument that can only be passed to a function using the keyword syntax. This means that they cannot be passed positionally, but must be specified using their corresponding keyword.\n",
    "\n",
    "To define a keyword-only argument in a Python function, you can use the syntax `*` to mark the end of the positional arguments, followed by the keyword-only argument(s) defined using the syntax `name=value`. For example:\n",
    "\n",
    "```python\n",
    "def my_func(positional_arg1, positional_arg2, *, keyword_arg1, keyword_arg2):\n",
    "    # function implementation\n",
    "```\n",
    "\n",
    "In this example, `positional_arg1` and `positional_arg2` are positional arguments, while `keyword_arg1` and `keyword_arg2` are keyword-only arguments.\n",
    "\n",
    "When calling a function with keyword-only arguments, you must use the keyword syntax to specify their values. For example:\n",
    "\n",
    "```python\n",
    "my_func(1, 2, keyword_arg1=3, keyword_arg2=4)\n",
    "```\n",
    "\n",
    "Note that if you try to pass a keyword-only argument positionally, you will get a `TypeError` at runtime. \n",
    "\n",
    "Keyword-only arguments can be useful when you want to provide additional arguments to a function that are not required, but can be used to modify the behavior of the function in some way. They can also be used to make functions more self-documenting, by making it clear which arguments are required and which are optional."
   ]
  },
  {
   "cell_type": "code",
   "execution_count": 1,
   "id": "333f2c68-08f8-4ff7-a58c-a3b9193c7de6",
   "metadata": {},
   "outputs": [],
   "source": [
    "def f(a, *, name, age):\n",
    "    print(a, name, age)"
   ]
  },
  {
   "cell_type": "code",
   "execution_count": 3,
   "id": "a2583293-20ed-4e89-b09c-f6998ae21817",
   "metadata": {},
   "outputs": [
    {
     "ename": "TypeError",
     "evalue": "f() takes 1 positional argument but 3 were given",
     "output_type": "error",
     "traceback": [
      "\u001b[0;31m---------------------------------------------------------------------------\u001b[0m",
      "\u001b[0;31mTypeError\u001b[0m                                 Traceback (most recent call last)",
      "Input \u001b[0;32mIn [3]\u001b[0m, in \u001b[0;36m<cell line: 1>\u001b[0;34m()\u001b[0m\n\u001b[0;32m----> 1\u001b[0m \u001b[43mf\u001b[49m\u001b[43m(\u001b[49m\u001b[38;5;241;43m1\u001b[39;49m\u001b[43m,\u001b[49m\u001b[43m \u001b[49m\u001b[38;5;124;43m'\u001b[39;49m\u001b[38;5;124;43mAlex\u001b[39;49m\u001b[38;5;124;43m'\u001b[39;49m\u001b[43m,\u001b[49m\u001b[43m \u001b[49m\u001b[38;5;241;43m25\u001b[39;49m\u001b[43m)\u001b[49m\n",
      "\u001b[0;31mTypeError\u001b[0m: f() takes 1 positional argument but 3 were given"
     ]
    }
   ],
   "source": [
    "f(1, 'Alex', 25)"
   ]
  },
  {
   "cell_type": "code",
   "execution_count": 4,
   "id": "c7a64aac-49d5-4449-9005-f87eb4c58938",
   "metadata": {},
   "outputs": [
    {
     "name": "stdout",
     "output_type": "stream",
     "text": [
      "10 Alex 25\n"
     ]
    }
   ],
   "source": [
    "f(10, name='Alex', age=25)"
   ]
  },
  {
   "cell_type": "code",
   "execution_count": 1,
   "id": "27027050-0164-4086-ab66-1405973e3465",
   "metadata": {},
   "outputs": [],
   "source": [
    "def g(a, *, name='Alex', age=25):\n",
    "    print(a, name, age)"
   ]
  },
  {
   "cell_type": "code",
   "execution_count": 2,
   "id": "450bb6d1-6340-4f01-945a-545c5fd3b751",
   "metadata": {},
   "outputs": [
    {
     "name": "stdout",
     "output_type": "stream",
     "text": [
      "10 Alex 25\n"
     ]
    }
   ],
   "source": [
    "g(10)"
   ]
  }
 ],
 "metadata": {
  "kernelspec": {
   "display_name": "Python 3 (ipykernel)",
   "language": "python",
   "name": "python3"
  },
  "language_info": {
   "codemirror_mode": {
    "name": "ipython",
    "version": 3
   },
   "file_extension": ".py",
   "mimetype": "text/x-python",
   "name": "python",
   "nbconvert_exporter": "python",
   "pygments_lexer": "ipython3",
   "version": "3.9.7"
  }
 },
 "nbformat": 4,
 "nbformat_minor": 5
}
