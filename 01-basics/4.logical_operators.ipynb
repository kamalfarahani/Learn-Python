{
 "cells": [
  {
   "cell_type": "markdown",
   "id": "3a097982-dae8-4ad4-90ef-9fa997fc3ae2",
   "metadata": {},
   "source": [
    "## Logical operators\n",
    "\n",
    "In Python, logical operators are operators that perform logical operations on boolean operands and return a boolean value (i.e., `True` or `False`). There are three logical operators in Python: `and`, `or`, and `not`.\n",
    "\n",
    "1. `and` operator: The `and` operator returns `True` if both operands are `True`, and `False` otherwise. Here's an example:\n",
    "\n",
    "```python\n",
    "x = True\n",
    "y = False\n",
    "\n",
    "result = x and y\n",
    "print(result)  # Output: False\n",
    "```\n",
    "\n",
    "In this example, the `and` operator is used to check if `x` and `y` are both `True`. Since `y` is `False`, the result of the `and` operation is `False`.\n",
    "\n",
    "2. `or` operator: The `or` operator returns `True` if at least one operand is `True`, and `False` otherwise. Here's an example:\n",
    "\n",
    "```python\n",
    "x = True\n",
    "y = False\n",
    "\n",
    "result = x or y\n",
    "print(result)  # Output: True\n",
    "```\n",
    "\n",
    "In this example, the `or` operator is used to check if `x` or `y` is `True`. Since `x` is `True`, the result of the `or` operation is `True`.\n",
    "\n",
    "3. `not` operator: The `not` operator returns the opposite boolean value of the operand that follows it. Here's an example:\n",
    "\n",
    "```python\n",
    "x = True\n",
    "\n",
    "result = not x\n",
    "print(result)  # Output: False\n",
    "```\n",
    "\n",
    "In this example, the `not` operator is used to check the opposite boolean value of `x`. Since `x` is `True`, the result of the `not` operation is `False`.\n",
    "\n",
    "Logical operators are commonly used in conditional statements, loops, and other control structures in Python to make decisions based on the truth value of boolean expressions.\n",
    "\n",
    "![Truth Table](./pics/boolean_operators.png)"
   ]
  },
  {
   "cell_type": "code",
   "execution_count": 2,
   "id": "2ea47048-887f-4f06-86a6-1873bf328869",
   "metadata": {},
   "outputs": [],
   "source": [
    "a = True\n",
    "b = False"
   ]
  },
  {
   "cell_type": "code",
   "execution_count": 3,
   "id": "482ac031-02ff-4dbb-996b-214a96a84e8b",
   "metadata": {},
   "outputs": [
    {
     "data": {
      "text/plain": [
       "False"
      ]
     },
     "execution_count": 3,
     "metadata": {},
     "output_type": "execute_result"
    }
   ],
   "source": [
    "a and b"
   ]
  },
  {
   "cell_type": "code",
   "execution_count": 4,
   "id": "e09331d9-50bd-4cb7-8e48-a56a98dcb75b",
   "metadata": {},
   "outputs": [
    {
     "data": {
      "text/plain": [
       "True"
      ]
     },
     "execution_count": 4,
     "metadata": {},
     "output_type": "execute_result"
    }
   ],
   "source": [
    "a or b"
   ]
  },
  {
   "cell_type": "code",
   "execution_count": 5,
   "id": "6bc70c36-fb03-4da3-b6b4-e1f336bf98b2",
   "metadata": {},
   "outputs": [
    {
     "data": {
      "text/plain": [
       "False"
      ]
     },
     "execution_count": 5,
     "metadata": {},
     "output_type": "execute_result"
    }
   ],
   "source": [
    "not a"
   ]
  },
  {
   "cell_type": "code",
   "execution_count": 6,
   "id": "1563d42c-0996-4565-80bb-bf0c2271e6e6",
   "metadata": {},
   "outputs": [
    {
     "data": {
      "text/plain": [
       "False"
      ]
     },
     "execution_count": 6,
     "metadata": {},
     "output_type": "execute_result"
    }
   ],
   "source": [
    "(1 < 2) and (3 > 10)"
   ]
  },
  {
   "cell_type": "code",
   "execution_count": 7,
   "id": "3c64779c-fe8b-4369-af93-5bafe9ba3a50",
   "metadata": {},
   "outputs": [
    {
     "data": {
      "text/plain": [
       "True"
      ]
     },
     "execution_count": 7,
     "metadata": {},
     "output_type": "execute_result"
    }
   ],
   "source": [
    "(1 < 2) or (3 > 10)"
   ]
  },
  {
   "cell_type": "markdown",
   "id": "92371671-1870-45f5-9dfd-bcf9817f064c",
   "metadata": {},
   "source": [
    "### Example 1: XOR\n",
    "\n",
    "The XOR (exclusive or) operation is a logical operation that takes two boolean values as input and results in a single boolean output. The output is True only when the two input values are different, and False when they are the same.\n",
    "\n",
    "<img src=\"./pics/xor.jpg\" alt=\"XOR truth table\" width=\"500\" height=\"300\">"
   ]
  },
  {
   "cell_type": "markdown",
   "id": "6ff6de63-8639-498a-b946-b2386e57e283",
   "metadata": {},
   "source": [
    "By some practice you can observe that XOR of two boolean values $a$ and $b$ can be defined as follows:\n",
    "\n",
    "$$a \\oplus b \\equiv (a \\lor b) \\land \\neg(a \\land b)$$\n",
    "\n",
    "note that in mathematical writing:\n",
    "* $\\lor$ stands for `or`\n",
    "* $\\land$ stands for `and`\n",
    "* $\\neg$ stands for `not` "
   ]
  },
  {
   "cell_type": "code",
   "execution_count": null,
   "id": "56c2875e-2a22-43eb-92f1-d5a22cae3a15",
   "metadata": {},
   "outputs": [],
   "source": [
    "a = True\n",
    "b = False\n",
    "\n",
    "a_xor_b = (a or b) and not(a and b)"
   ]
  }
 ],
 "metadata": {
  "kernelspec": {
   "display_name": "Python 3 (ipykernel)",
   "language": "python",
   "name": "python3"
  },
  "language_info": {
   "codemirror_mode": {
    "name": "ipython",
    "version": 3
   },
   "file_extension": ".py",
   "mimetype": "text/x-python",
   "name": "python",
   "nbconvert_exporter": "python",
   "pygments_lexer": "ipython3",
   "version": "3.10.10"
  }
 },
 "nbformat": 4,
 "nbformat_minor": 5
}
