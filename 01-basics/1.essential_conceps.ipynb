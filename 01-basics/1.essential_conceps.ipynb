{
 "cells": [
  {
   "cell_type": "markdown",
   "id": "596f6156-1b74-4b3b-bfc1-d372bfa7531a",
   "metadata": {},
   "source": [
    "## Essential concepts\n",
    "\n",
    "In this notebook, we will learn 4 essential concepts in Python programming and programming in general, these concepts include:\n",
    "1. Types\n",
    "2. Objects\n",
    "3. Variables\n",
    "4. Mutable and Immutable types"
   ]
  },
  {
   "cell_type": "markdown",
   "id": "e12f8056-921e-4d36-b561-564552c2b0cc",
   "metadata": {},
   "source": [
    "### 1.Types\n",
    "\n",
    "Entities in a program always have an associated type.\n",
    "\n",
    "The type of an entity indicates possible range of values a entity can have and possible operations you can perfrom on that entity.\n",
    "\n",
    "For example if a entity has the `int` type in Python, then we know that this entity is an integer number and you can perform some arithmetic operations on it."
   ]
  },
  {
   "cell_type": "code",
   "execution_count": 2,
   "id": "5b387dd2-44d9-4a14-873a-d6fadc86a29e",
   "metadata": {},
   "outputs": [
    {
     "data": {
      "text/plain": [
       "1"
      ]
     },
     "execution_count": 2,
     "metadata": {},
     "output_type": "execute_result"
    }
   ],
   "source": [
    "1"
   ]
  },
  {
   "cell_type": "code",
   "execution_count": 3,
   "id": "05c22a37-0816-4f24-b07e-601fa8529ed3",
   "metadata": {},
   "outputs": [
    {
     "data": {
      "text/plain": [
       "int"
      ]
     },
     "execution_count": 3,
     "metadata": {},
     "output_type": "execute_result"
    }
   ],
   "source": [
    "type(1)"
   ]
  },
  {
   "cell_type": "code",
   "execution_count": 4,
   "id": "e22bc5fb-6e48-4cfb-827d-35119b36ea22",
   "metadata": {},
   "outputs": [
    {
     "data": {
      "text/plain": [
       "3"
      ]
     },
     "execution_count": 4,
     "metadata": {},
     "output_type": "execute_result"
    }
   ],
   "source": [
    "1 + 2"
   ]
  },
  {
   "cell_type": "code",
   "execution_count": 5,
   "id": "1270b896-36f0-4044-a260-cf33e010b4a3",
   "metadata": {},
   "outputs": [
    {
     "data": {
      "text/plain": [
       "3"
      ]
     },
     "execution_count": 5,
     "metadata": {},
     "output_type": "execute_result"
    }
   ],
   "source": [
    "(1).__add__(2)"
   ]
  },
  {
   "cell_type": "code",
   "execution_count": 6,
   "id": "d1de5966-1f63-4a98-a21d-7cd4a7b83d0d",
   "metadata": {},
   "outputs": [
    {
     "data": {
      "text/plain": [
       "1.3"
      ]
     },
     "execution_count": 6,
     "metadata": {},
     "output_type": "execute_result"
    }
   ],
   "source": [
    "1.3"
   ]
  },
  {
   "cell_type": "code",
   "execution_count": 7,
   "id": "af51a094-4d19-4f43-baae-0d52719efd3d",
   "metadata": {},
   "outputs": [
    {
     "data": {
      "text/plain": [
       "float"
      ]
     },
     "execution_count": 7,
     "metadata": {},
     "output_type": "execute_result"
    }
   ],
   "source": [
    "type(1.3)"
   ]
  },
  {
   "cell_type": "code",
   "execution_count": 8,
   "id": "3856c63c-b2c7-4721-a329-18176c0b3658",
   "metadata": {},
   "outputs": [
    {
     "data": {
      "text/plain": [
       "5.5"
      ]
     },
     "execution_count": 8,
     "metadata": {},
     "output_type": "execute_result"
    }
   ],
   "source": [
    "1.3 + 4.2"
   ]
  },
  {
   "cell_type": "code",
   "execution_count": 9,
   "id": "b7f043b0-23f9-47a1-93d2-bb64ce980ce7",
   "metadata": {},
   "outputs": [
    {
     "data": {
      "text/plain": [
       "'Salam'"
      ]
     },
     "execution_count": 9,
     "metadata": {},
     "output_type": "execute_result"
    }
   ],
   "source": [
    "'Salam'"
   ]
  },
  {
   "cell_type": "code",
   "execution_count": 10,
   "id": "88c56683-83a8-4150-9753-567ba73aaa27",
   "metadata": {},
   "outputs": [
    {
     "data": {
      "text/plain": [
       "str"
      ]
     },
     "execution_count": 10,
     "metadata": {},
     "output_type": "execute_result"
    }
   ],
   "source": [
    "type('Salam')"
   ]
  },
  {
   "cell_type": "code",
   "execution_count": 11,
   "id": "aaac99df-9e0b-4652-ba8e-1ec7ec66a5aa",
   "metadata": {},
   "outputs": [
    {
     "data": {
      "text/plain": [
       "'SalamBye'"
      ]
     },
     "execution_count": 11,
     "metadata": {},
     "output_type": "execute_result"
    }
   ],
   "source": [
    "'Salam' + 'Bye'"
   ]
  },
  {
   "cell_type": "markdown",
   "id": "c74d7390-ed28-4f98-b3f5-e0b7dec57722",
   "metadata": {},
   "source": [
    "### 2.Objects\n",
    "\n",
    "Every entity created by Python is an object, it has:\n",
    "1. a Type\n",
    "2. State (data)\n",
    "3. Functionality (methods)\n",
    "\n",
    "Everything in Pythin is an object. By using `Dot notation` we will access an object attributes and methods."
   ]
  },
  {
   "cell_type": "code",
   "execution_count": 12,
   "id": "b4f0d86c-9abe-47fd-bf8a-695f4c7a909f",
   "metadata": {},
   "outputs": [
    {
     "data": {
      "text/plain": [
       "400"
      ]
     },
     "execution_count": 12,
     "metadata": {},
     "output_type": "execute_result"
    }
   ],
   "source": [
    "200 * 2"
   ]
  },
  {
   "cell_type": "code",
   "execution_count": 13,
   "id": "1282c381-ae71-4774-837f-9b566a5e02e6",
   "metadata": {},
   "outputs": [
    {
     "data": {
      "text/plain": [
       "'salam'"
      ]
     },
     "execution_count": 13,
     "metadata": {},
     "output_type": "execute_result"
    }
   ],
   "source": [
    "'SALAM'.lower()"
   ]
  },
  {
   "cell_type": "code",
   "execution_count": 14,
   "id": "b34341f7-bf65-4430-8c98-1dcf1e0d5bf1",
   "metadata": {},
   "outputs": [
    {
     "data": {
      "text/plain": [
       "400"
      ]
     },
     "execution_count": 14,
     "metadata": {},
     "output_type": "execute_result"
    }
   ],
   "source": [
    "(200).__mul__(2)"
   ]
  },
  {
   "cell_type": "code",
   "execution_count": 15,
   "id": "55d15cc0-a37d-4465-b3cb-939de3612f90",
   "metadata": {},
   "outputs": [
    {
     "data": {
      "text/plain": [
       "5.6"
      ]
     },
     "execution_count": 15,
     "metadata": {},
     "output_type": "execute_result"
    }
   ],
   "source": [
    "(2.2).__add__(3.4)"
   ]
  },
  {
   "cell_type": "code",
   "execution_count": 16,
   "id": "b887013f-5634-4904-b42b-de1c72cf57f9",
   "metadata": {},
   "outputs": [
    {
     "data": {
      "text/plain": [
       "(1, 8)"
      ]
     },
     "execution_count": 16,
     "metadata": {},
     "output_type": "execute_result"
    }
   ],
   "source": [
    "(0.125).as_integer_ratio()"
   ]
  },
  {
   "cell_type": "markdown",
   "id": "62807bf0-62eb-495c-a880-2990e8a8d850",
   "metadata": {},
   "source": [
    "### 3.Variables\n",
    "\n",
    "We often need to label objects with some name and it allows us to use the same object in multiple parts of our code.\n",
    "\n",
    "We use `=` operator to assign a name\n",
    "\n",
    "![Variable assignment](./pics/assign_var.png)"
   ]
  },
  {
   "cell_type": "code",
   "execution_count": 17,
   "id": "0c77cc32-c886-4421-823f-eeeee4e5c583",
   "metadata": {},
   "outputs": [],
   "source": [
    "x = 10"
   ]
  },
  {
   "cell_type": "code",
   "execution_count": 18,
   "id": "1e43ec6f-1a22-46d5-9483-62fe70ec49e9",
   "metadata": {},
   "outputs": [
    {
     "data": {
      "text/plain": [
       "10"
      ]
     },
     "execution_count": 18,
     "metadata": {},
     "output_type": "execute_result"
    }
   ],
   "source": [
    "x"
   ]
  },
  {
   "cell_type": "markdown",
   "id": "d0720844-b6ec-45cc-8f94-15b6c402f081",
   "metadata": {},
   "source": [
    "> **The variable is just a label for an object in the memory**\n",
    "\n",
    "![Variable assignment](./pics/increment_var.png)"
   ]
  },
  {
   "cell_type": "markdown",
   "id": "f003bcab-5a57-4e11-a378-c6c2b0adef1e",
   "metadata": {},
   "source": [
    "> **Python automatically tracks number of varibales that refer to an object in memory that is called `ref count`**\n",
    "\n",
    "![ref count](./pics/ref_count.webp)"
   ]
  },
  {
   "cell_type": "code",
   "execution_count": 19,
   "id": "a8b14538-1fff-46da-bdc4-8c3fc908f1bf",
   "metadata": {},
   "outputs": [],
   "source": [
    "a = 100\n",
    "c = a\n",
    "c = 200"
   ]
  },
  {
   "cell_type": "markdown",
   "id": "4aca72f9-6921-4cf3-a753-1e4262f7b02e",
   "metadata": {},
   "source": [
    "**Reassigning a variable changes the place that variable points to**\n",
    "\n",
    "![Variable assignment](./pics/vars.svg)"
   ]
  },
  {
   "cell_type": "code",
   "execution_count": 20,
   "id": "a90b62d7-764e-40ea-a9a6-2ef47f456788",
   "metadata": {},
   "outputs": [
    {
     "data": {
      "text/plain": [
       "100"
      ]
     },
     "execution_count": 20,
     "metadata": {},
     "output_type": "execute_result"
    }
   ],
   "source": [
    "a"
   ]
  },
  {
   "cell_type": "code",
   "execution_count": 21,
   "id": "2a485d69-be49-4340-8196-a3be988f6255",
   "metadata": {},
   "outputs": [
    {
     "data": {
      "text/plain": [
       "101"
      ]
     },
     "execution_count": 21,
     "metadata": {},
     "output_type": "execute_result"
    }
   ],
   "source": [
    "a = a + 1\n",
    "a"
   ]
  },
  {
   "cell_type": "code",
   "execution_count": 22,
   "id": "aa750488-fbf8-4bdb-b839-fc5044986243",
   "metadata": {},
   "outputs": [
    {
     "data": {
      "text/plain": [
       "400"
      ]
     },
     "execution_count": 22,
     "metadata": {},
     "output_type": "execute_result"
    }
   ],
   "source": [
    "x = c * 2\n",
    "x"
   ]
  },
  {
   "cell_type": "markdown",
   "id": "f682c0cd-2ac6-421e-9fbd-f4fdf343dcef",
   "metadata": {},
   "source": [
    "#### Variable address\n",
    "\n",
    "each variable is a refrence to a memory address we can get the address of a variable using `id` function"
   ]
  },
  {
   "cell_type": "code",
   "execution_count": 23,
   "id": "089a900d-e21f-41f3-a614-be9b03c69721",
   "metadata": {},
   "outputs": [],
   "source": [
    "x = 100\n",
    "y = 200\n",
    "z = x"
   ]
  },
  {
   "cell_type": "code",
   "execution_count": 24,
   "id": "259a7293-2bce-47fa-87de-56b401a879d9",
   "metadata": {},
   "outputs": [
    {
     "data": {
      "text/plain": [
       "140560286059856"
      ]
     },
     "execution_count": 24,
     "metadata": {},
     "output_type": "execute_result"
    }
   ],
   "source": [
    "id(x)"
   ]
  },
  {
   "cell_type": "code",
   "execution_count": 25,
   "id": "09d327a5-0991-42ed-958c-bf434db2e6e4",
   "metadata": {},
   "outputs": [
    {
     "data": {
      "text/plain": [
       "140560286063056"
      ]
     },
     "execution_count": 25,
     "metadata": {},
     "output_type": "execute_result"
    }
   ],
   "source": [
    "id(y)"
   ]
  },
  {
   "cell_type": "code",
   "execution_count": 26,
   "id": "b091005d-30b3-4589-b779-637f5fa88d09",
   "metadata": {},
   "outputs": [
    {
     "data": {
      "text/plain": [
       "140560286059856"
      ]
     },
     "execution_count": 26,
     "metadata": {},
     "output_type": "execute_result"
    }
   ],
   "source": [
    "id(z)"
   ]
  },
  {
   "cell_type": "markdown",
   "id": "c28ae8c8-7706-4694-9306-8d33bd6a8bf2",
   "metadata": {},
   "source": [
    "#### Variable naming\n",
    "\n",
    "1. Case sensetive\n",
    "2. Must start with underscore (`_`) or letter (a-z A-Z)\n",
    "3. It can be followed by any number of underscores or letters, or digits\n",
    "4. Cannot use reserved words\n",
    "5. Follow snake case\n",
    "\n",
    "[PEP8 Style Guide](https://peps.python.org/pep-0008/) is typical convections followed by most Python developers."
   ]
  },
  {
   "cell_type": "code",
   "execution_count": 27,
   "id": "c586cb5a-3655-4737-aa39-e5c052b58b88",
   "metadata": {},
   "outputs": [],
   "source": [
    "name = 'Alex'\n",
    "name_of_person = 'John'\n",
    "name_of_person2 = 'hi'\n",
    "Name = 'bob'"
   ]
  },
  {
   "cell_type": "markdown",
   "id": "85a0232c-df79-4105-8bfc-1223118ffd20",
   "metadata": {},
   "source": [
    "### 4.Mutable and Immutable types\n",
    "\n",
    "if you can change the state of an object of a type then it is mutable, otherwise it is immutable."
   ]
  },
  {
   "cell_type": "code",
   "execution_count": 33,
   "id": "d3cbb7d3-5d21-48ed-a43d-a352e24745ac",
   "metadata": {},
   "outputs": [
    {
     "data": {
      "text/plain": [
       "140560286056976"
      ]
     },
     "execution_count": 33,
     "metadata": {},
     "output_type": "execute_result"
    }
   ],
   "source": [
    "x = 10\n",
    "id(x)"
   ]
  },
  {
   "cell_type": "code",
   "execution_count": 34,
   "id": "406b575b-9ad5-47a2-95ef-302d2ea5f67b",
   "metadata": {},
   "outputs": [
    {
     "data": {
      "text/plain": [
       "140560286057296"
      ]
     },
     "execution_count": 34,
     "metadata": {},
     "output_type": "execute_result"
    }
   ],
   "source": [
    "x = 20\n",
    "id(x)"
   ]
  },
  {
   "cell_type": "code",
   "execution_count": 35,
   "id": "e906a9fe-edd4-4102-9774-01e13f9ba255",
   "metadata": {},
   "outputs": [
    {
     "data": {
      "text/plain": [
       "140560219237696"
      ]
     },
     "execution_count": 35,
     "metadata": {},
     "output_type": "execute_result"
    }
   ],
   "source": [
    "l = [1,2,3]\n",
    "id(l)"
   ]
  },
  {
   "cell_type": "code",
   "execution_count": 36,
   "id": "7163a5a2-0116-4111-adff-816746605caf",
   "metadata": {},
   "outputs": [
    {
     "data": {
      "text/plain": [
       "[10, 2, 3]"
      ]
     },
     "execution_count": 36,
     "metadata": {},
     "output_type": "execute_result"
    }
   ],
   "source": [
    "l[0] = 10\n",
    "l"
   ]
  },
  {
   "cell_type": "code",
   "execution_count": 37,
   "id": "676a27b1-ee7e-4c10-a387-8d6c0bd4c155",
   "metadata": {},
   "outputs": [
    {
     "data": {
      "text/plain": [
       "140560219237696"
      ]
     },
     "execution_count": 37,
     "metadata": {},
     "output_type": "execute_result"
    }
   ],
   "source": [
    "id(l)"
   ]
  }
 ],
 "metadata": {
  "kernelspec": {
   "display_name": "Python 3 (ipykernel)",
   "language": "python",
   "name": "python3"
  },
  "language_info": {
   "codemirror_mode": {
    "name": "ipython",
    "version": 3
   },
   "file_extension": ".py",
   "mimetype": "text/x-python",
   "name": "python",
   "nbconvert_exporter": "python",
   "pygments_lexer": "ipython3",
   "version": "3.10.10"
  }
 },
 "nbformat": 4,
 "nbformat_minor": 5
}
