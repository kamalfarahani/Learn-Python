{
 "cells": [
  {
   "cell_type": "markdown",
   "id": "b071e9f9-dbb0-4989-8bd9-4be0ac7c51c1",
   "metadata": {},
   "source": [
    "## Terminology\n",
    "\n",
    "An operator is a programming language symbol that performs some operation on one or more values.\n",
    "\n",
    "certain types of operators include:\n",
    "1. Arithmetic operators\n",
    "2. Comparison operators\n",
    "3. Logical operators\n",
    "\n",
    "The values an operator acts on are called operands.\n",
    "\n",
    "An operator that works on a single operand is called **unary operator**.\n",
    "\n",
    "An operator that works on two operands is called **binary operator**.\n",
    "\n",
    "An operator that works on a three operands is called **ternary operator**.\n"
   ]
  },
  {
   "cell_type": "markdown",
   "id": "03a73345-dbf1-4cf2-832c-76746a2f498e",
   "metadata": {},
   "source": [
    "## Arithmetic operators\n",
    "\n",
    "Arithmetic operators can act on any numerical type such as `int` and `float` as well as other types we'll encounter later."
   ]
  },
  {
   "cell_type": "markdown",
   "id": "5cb99fa1-62d4-4924-b6ba-3ab41e358c21",
   "metadata": {},
   "source": [
    "### Addition"
   ]
  },
  {
   "cell_type": "code",
   "execution_count": 1,
   "id": "bdc89fa0-6dc6-4044-ac46-229febdb3a8d",
   "metadata": {},
   "outputs": [
    {
     "data": {
      "text/plain": [
       "7"
      ]
     },
     "execution_count": 1,
     "metadata": {},
     "output_type": "execute_result"
    }
   ],
   "source": [
    "2 + 5"
   ]
  },
  {
   "cell_type": "code",
   "execution_count": 2,
   "id": "2a94ff92-0696-498d-8fc0-c1853f53e357",
   "metadata": {},
   "outputs": [
    {
     "data": {
      "text/plain": [
       "31"
      ]
     },
     "execution_count": 2,
     "metadata": {},
     "output_type": "execute_result"
    }
   ],
   "source": [
    "x = 10\n",
    "y = 21\n",
    "x + y"
   ]
  },
  {
   "cell_type": "code",
   "execution_count": 3,
   "id": "33dd5efe-b0c6-4724-a03a-2ab90f3f128f",
   "metadata": {},
   "outputs": [
    {
     "data": {
      "text/plain": [
       "13.14"
      ]
     },
     "execution_count": 3,
     "metadata": {},
     "output_type": "execute_result"
    }
   ],
   "source": [
    "z = 3.14\n",
    "x + z"
   ]
  },
  {
   "cell_type": "code",
   "execution_count": 4,
   "id": "d6a9823f-2e70-4866-8aea-09d4c9d9318c",
   "metadata": {},
   "outputs": [
    {
     "data": {
      "text/plain": [
       "int"
      ]
     },
     "execution_count": 4,
     "metadata": {},
     "output_type": "execute_result"
    }
   ],
   "source": [
    "a = x + y\n",
    "type(a)"
   ]
  },
  {
   "cell_type": "code",
   "execution_count": 5,
   "id": "e6455215-064e-4e6c-994a-0d2a19b8afa0",
   "metadata": {},
   "outputs": [
    {
     "data": {
      "text/plain": [
       "float"
      ]
     },
     "execution_count": 5,
     "metadata": {},
     "output_type": "execute_result"
    }
   ],
   "source": [
    "b = x + z\n",
    "type(b)"
   ]
  },
  {
   "cell_type": "code",
   "execution_count": 6,
   "id": "c51c1d96-9bd5-4657-b2f8-fe49664e40f0",
   "metadata": {},
   "outputs": [
    {
     "data": {
      "text/plain": [
       "31"
      ]
     },
     "execution_count": 6,
     "metadata": {},
     "output_type": "execute_result"
    }
   ],
   "source": [
    "x.__add__(y) # x + y"
   ]
  },
  {
   "cell_type": "markdown",
   "id": "5640ef06-4b43-40ac-a90d-2e4cb43c527c",
   "metadata": {},
   "source": [
    "## Subtraction"
   ]
  },
  {
   "cell_type": "code",
   "execution_count": 12,
   "id": "f8fd74a2-027f-4ef6-8243-4822044a2253",
   "metadata": {},
   "outputs": [
    {
     "data": {
      "text/plain": [
       "7"
      ]
     },
     "execution_count": 12,
     "metadata": {},
     "output_type": "execute_result"
    }
   ],
   "source": [
    "x = 20\n",
    "y = 13\n",
    "\n",
    "x - y"
   ]
  },
  {
   "cell_type": "code",
   "execution_count": 13,
   "id": "46306ac6-3af6-456f-a9e9-d0b83d96cb4f",
   "metadata": {},
   "outputs": [
    {
     "data": {
      "text/plain": [
       "19.75"
      ]
     },
     "execution_count": 13,
     "metadata": {},
     "output_type": "execute_result"
    }
   ],
   "source": [
    "x - 0.25"
   ]
  },
  {
   "cell_type": "code",
   "execution_count": 20,
   "id": "7dfa678b-d0c7-4ab4-8f2a-a9eef675949c",
   "metadata": {},
   "outputs": [
    {
     "data": {
      "text/plain": [
       "8"
      ]
     },
     "execution_count": 20,
     "metadata": {},
     "output_type": "execute_result"
    }
   ],
   "source": [
    "x.__sub__(3)"
   ]
  },
  {
   "cell_type": "markdown",
   "id": "2a62e442-a327-454f-bf1c-8637f2948caf",
   "metadata": {},
   "source": [
    "## Multiplication"
   ]
  },
  {
   "cell_type": "code",
   "execution_count": 9,
   "id": "817aa491-8bd1-4cd4-ba49-393dc0645c77",
   "metadata": {},
   "outputs": [
    {
     "data": {
      "text/plain": [
       "200"
      ]
     },
     "execution_count": 9,
     "metadata": {},
     "output_type": "execute_result"
    }
   ],
   "source": [
    "x = 10\n",
    "y = 20\n",
    "\n",
    "x * y"
   ]
  },
  {
   "cell_type": "code",
   "execution_count": 10,
   "id": "01093274-4818-4be1-b3b5-ac2322f040c4",
   "metadata": {},
   "outputs": [
    {
     "data": {
      "text/plain": [
       "int"
      ]
     },
     "execution_count": 10,
     "metadata": {},
     "output_type": "execute_result"
    }
   ],
   "source": [
    "type(x * y)"
   ]
  },
  {
   "cell_type": "code",
   "execution_count": 11,
   "id": "3bbe0761-a488-4cc3-98cf-adcdb9bf9451",
   "metadata": {},
   "outputs": [
    {
     "data": {
      "text/plain": [
       "float"
      ]
     },
     "execution_count": 11,
     "metadata": {},
     "output_type": "execute_result"
    }
   ],
   "source": [
    "type(x * 2.5)"
   ]
  },
  {
   "cell_type": "code",
   "execution_count": 19,
   "id": "8b4336cf-abda-46af-bb25-2e082f92b7cc",
   "metadata": {},
   "outputs": [
    {
     "data": {
      "text/plain": [
       "22"
      ]
     },
     "execution_count": 19,
     "metadata": {},
     "output_type": "execute_result"
    }
   ],
   "source": [
    "x.__mul__(2)"
   ]
  },
  {
   "cell_type": "markdown",
   "id": "8a61ec07-d828-452e-9ae3-971b9f84527a",
   "metadata": {},
   "source": [
    "## Division"
   ]
  },
  {
   "cell_type": "code",
   "execution_count": 7,
   "id": "c8d4c833-34bb-4ad1-ab09-4b93d2f79c9b",
   "metadata": {},
   "outputs": [
    {
     "data": {
      "text/plain": [
       "3.3333333333333335"
      ]
     },
     "execution_count": 7,
     "metadata": {},
     "output_type": "execute_result"
    }
   ],
   "source": [
    "x = 10\n",
    "y = 3\n",
    "\n",
    "x / y"
   ]
  },
  {
   "cell_type": "code",
   "execution_count": 8,
   "id": "511005f3-4744-4086-b827-e204c0e5979d",
   "metadata": {},
   "outputs": [
    {
     "data": {
      "text/plain": [
       "float"
      ]
     },
     "execution_count": 8,
     "metadata": {},
     "output_type": "execute_result"
    }
   ],
   "source": [
    "type(x/y)"
   ]
  },
  {
   "cell_type": "code",
   "execution_count": 18,
   "id": "839c4d06-7052-4a2a-b4d1-050ed842e45a",
   "metadata": {},
   "outputs": [
    {
     "data": {
      "text/plain": [
       "5.5"
      ]
     },
     "execution_count": 18,
     "metadata": {},
     "output_type": "execute_result"
    }
   ],
   "source": [
    "x.__truediv__(2)"
   ]
  },
  {
   "cell_type": "markdown",
   "id": "d7289633-2e4a-4f4a-8d24-3b3442b0e1bc",
   "metadata": {},
   "source": [
    "## Power"
   ]
  },
  {
   "cell_type": "code",
   "execution_count": 14,
   "id": "962bdd7a-f7a0-4fed-b1e4-6c28f841d6f7",
   "metadata": {},
   "outputs": [
    {
     "data": {
      "text/plain": [
       "121"
      ]
     },
     "execution_count": 14,
     "metadata": {},
     "output_type": "execute_result"
    }
   ],
   "source": [
    "x = 11\n",
    "x ** 2"
   ]
  },
  {
   "cell_type": "code",
   "execution_count": 15,
   "id": "b9e645c8-eed3-44af-8b53-108dbf996537",
   "metadata": {},
   "outputs": [
    {
     "data": {
      "text/plain": [
       "0.008264462809917356"
      ]
     },
     "execution_count": 15,
     "metadata": {},
     "output_type": "execute_result"
    }
   ],
   "source": [
    "x ** (-2)"
   ]
  },
  {
   "cell_type": "code",
   "execution_count": 16,
   "id": "683d49f8-32dc-4734-b34f-a562933801a1",
   "metadata": {},
   "outputs": [
    {
     "data": {
      "text/plain": [
       "36.4828726939094"
      ]
     },
     "execution_count": 16,
     "metadata": {},
     "output_type": "execute_result"
    }
   ],
   "source": [
    "x ** (1.5)"
   ]
  },
  {
   "cell_type": "code",
   "execution_count": 21,
   "id": "526ea562-f30a-463d-8fa4-35157e4b2250",
   "metadata": {},
   "outputs": [
    {
     "data": {
      "text/plain": [
       "121"
      ]
     },
     "execution_count": 21,
     "metadata": {},
     "output_type": "execute_result"
    }
   ],
   "source": [
    "x.__pow__(2)"
   ]
  },
  {
   "cell_type": "markdown",
   "id": "d93c3499-ed42-4fe0-95b5-f0751c0ae502",
   "metadata": {},
   "source": [
    "## Integer Division\n",
    "\n",
    "`a // b` calculates the integer portion of `a / b`"
   ]
  },
  {
   "cell_type": "code",
   "execution_count": 25,
   "id": "95abb36f-7a9a-4871-852a-42217ff7e7d4",
   "metadata": {},
   "outputs": [
    {
     "data": {
      "text/plain": [
       "3"
      ]
     },
     "execution_count": 25,
     "metadata": {},
     "output_type": "execute_result"
    }
   ],
   "source": [
    "x = 10\n",
    "y = 3\n",
    "\n",
    "x // y"
   ]
  },
  {
   "cell_type": "code",
   "execution_count": 26,
   "id": "469ceeb8-4601-4593-ba1d-0846d06345a0",
   "metadata": {},
   "outputs": [
    {
     "data": {
      "text/plain": [
       "int"
      ]
     },
     "execution_count": 26,
     "metadata": {},
     "output_type": "execute_result"
    }
   ],
   "source": [
    "type(10 // 3)"
   ]
  },
  {
   "cell_type": "markdown",
   "id": "7c2cdc4e-8bed-48d6-aab9-9626a0a35d93",
   "metadata": {},
   "source": [
    "## The mod operator\n",
    "\n",
    "For positive integers it calculates the of dividing `a` by `b`\n",
    "\n",
    "`a % b = a - b * (a // b)`"
   ]
  },
  {
   "cell_type": "code",
   "execution_count": 27,
   "id": "f5012e8e-edfe-4054-93c6-a23749a3bae6",
   "metadata": {},
   "outputs": [
    {
     "data": {
      "text/plain": [
       "3"
      ]
     },
     "execution_count": 27,
     "metadata": {},
     "output_type": "execute_result"
    }
   ],
   "source": [
    "a = 13\n",
    "b = 10\n",
    "\n",
    "a % b"
   ]
  },
  {
   "cell_type": "markdown",
   "id": "fb994d3f-2287-4a69-8823-74d15ad43c6a",
   "metadata": {},
   "source": [
    "## Oprator precedence\n",
    "\n",
    "operators with higher will be evaluated first.\n",
    "\n",
    "1. `+`, `-`\n",
    "2. `*`, `/`, `//`, `%`\n",
    "3. unary `-`\n",
    "4. `**`"
   ]
  },
  {
   "cell_type": "code",
   "execution_count": 23,
   "id": "263dfd8c-523d-45d4-a112-4682c67e0e7d",
   "metadata": {},
   "outputs": [
    {
     "data": {
      "text/plain": [
       "-10"
      ]
     },
     "execution_count": 23,
     "metadata": {},
     "output_type": "execute_result"
    }
   ],
   "source": [
    "2 * 3 + -4**2"
   ]
  }
 ],
 "metadata": {
  "kernelspec": {
   "display_name": "Python 3 (ipykernel)",
   "language": "python",
   "name": "python3"
  },
  "language_info": {
   "codemirror_mode": {
    "name": "ipython",
    "version": 3
   },
   "file_extension": ".py",
   "mimetype": "text/x-python",
   "name": "python",
   "nbconvert_exporter": "python",
   "pygments_lexer": "ipython3",
   "version": "3.10.10"
  }
 },
 "nbformat": 4,
 "nbformat_minor": 5
}
