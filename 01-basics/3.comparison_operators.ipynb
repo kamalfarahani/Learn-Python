{
 "cells": [
  {
   "cell_type": "markdown",
   "id": "a60f0e9c-791a-42f1-85bf-c094a57bca0f",
   "metadata": {},
   "source": [
    "## Comparison operators\n",
    "\n",
    "Also known as relational operators, compare two things and yields a Boolean (`bool`) result.\n",
    "\n",
    "1. `==`\n",
    "2. `!=`\n",
    "3. `<`, `<=`, `>`, `>=`"
   ]
  },
  {
   "cell_type": "code",
   "execution_count": 1,
   "id": "0142850b-369a-4bc8-a312-f9c750dd298e",
   "metadata": {},
   "outputs": [
    {
     "data": {
      "text/plain": [
       "False"
      ]
     },
     "execution_count": 1,
     "metadata": {},
     "output_type": "execute_result"
    }
   ],
   "source": [
    "x = 2\n",
    "y = 3\n",
    "\n",
    "x == y"
   ]
  },
  {
   "cell_type": "code",
   "execution_count": 2,
   "id": "b98eae82-1c59-451b-9185-c5da3887ea04",
   "metadata": {},
   "outputs": [
    {
     "data": {
      "text/plain": [
       "True"
      ]
     },
     "execution_count": 2,
     "metadata": {},
     "output_type": "execute_result"
    }
   ],
   "source": [
    "x == x"
   ]
  },
  {
   "cell_type": "code",
   "execution_count": 3,
   "id": "ee308094-1bae-4a20-9337-78debba60110",
   "metadata": {},
   "outputs": [
    {
     "data": {
      "text/plain": [
       "True"
      ]
     },
     "execution_count": 3,
     "metadata": {},
     "output_type": "execute_result"
    }
   ],
   "source": [
    "x < y"
   ]
  },
  {
   "cell_type": "code",
   "execution_count": 4,
   "id": "e54e15da-d3f7-46fd-a1fe-80b52e42f40b",
   "metadata": {},
   "outputs": [
    {
     "data": {
      "text/plain": [
       "True"
      ]
     },
     "execution_count": 4,
     "metadata": {},
     "output_type": "execute_result"
    }
   ],
   "source": [
    "x <= y"
   ]
  },
  {
   "cell_type": "code",
   "execution_count": 7,
   "id": "81e41ac7-ce7f-413b-93f3-0f1c2ef8eafd",
   "metadata": {},
   "outputs": [
    {
     "data": {
      "text/plain": [
       "False"
      ]
     },
     "execution_count": 7,
     "metadata": {},
     "output_type": "execute_result"
    }
   ],
   "source": [
    "x > y"
   ]
  },
  {
   "cell_type": "code",
   "execution_count": 8,
   "id": "8b1ed9b0-2da3-439e-9d68-39e511750432",
   "metadata": {},
   "outputs": [
    {
     "data": {
      "text/plain": [
       "False"
      ]
     },
     "execution_count": 8,
     "metadata": {},
     "output_type": "execute_result"
    }
   ],
   "source": [
    "x >= y"
   ]
  },
  {
   "cell_type": "markdown",
   "id": "83555cd3-5bea-4e46-9746-760ffadeb8c0",
   "metadata": {},
   "source": [
    "## The `is` keyword\n",
    "\n",
    "If two objects have the same memory address then `is` returns `True` otherwise it returns `False`.\n",
    "\n",
    "It `x is y` is equivalent to `id(x) == id(y)`."
   ]
  },
  {
   "cell_type": "code",
   "execution_count": 7,
   "id": "cae8b0b7-ca76-4658-86da-46881710d81f",
   "metadata": {},
   "outputs": [],
   "source": [
    "x = 'This is a long text'\n",
    "y = x\n",
    "z = 'This is a long text'"
   ]
  },
  {
   "cell_type": "code",
   "execution_count": 8,
   "id": "9625d6d9-48a6-4044-856d-3929511ffedb",
   "metadata": {},
   "outputs": [
    {
     "data": {
      "text/plain": [
       "True"
      ]
     },
     "execution_count": 8,
     "metadata": {},
     "output_type": "execute_result"
    }
   ],
   "source": [
    "x is y"
   ]
  },
  {
   "cell_type": "code",
   "execution_count": 9,
   "id": "61725fca-88c9-46dc-924b-eee449300e20",
   "metadata": {},
   "outputs": [
    {
     "data": {
      "text/plain": [
       "False"
      ]
     },
     "execution_count": 9,
     "metadata": {},
     "output_type": "execute_result"
    }
   ],
   "source": [
    "x is z"
   ]
  },
  {
   "cell_type": "code",
   "execution_count": 10,
   "id": "d35e0af4-b56b-49fc-b347-14a3265ca860",
   "metadata": {},
   "outputs": [
    {
     "data": {
      "text/plain": [
       "True"
      ]
     },
     "execution_count": 10,
     "metadata": {},
     "output_type": "execute_result"
    }
   ],
   "source": [
    "x == z"
   ]
  },
  {
   "cell_type": "code",
   "execution_count": 11,
   "id": "31f51feb-66cc-47fa-a947-2e5e31007fda",
   "metadata": {},
   "outputs": [],
   "source": [
    "a = 10\n",
    "b = 10.0"
   ]
  },
  {
   "cell_type": "code",
   "execution_count": 12,
   "id": "2c96224c-ac95-4059-a656-441f199ec2fa",
   "metadata": {},
   "outputs": [
    {
     "data": {
      "text/plain": [
       "True"
      ]
     },
     "execution_count": 12,
     "metadata": {},
     "output_type": "execute_result"
    }
   ],
   "source": [
    "a == b"
   ]
  },
  {
   "cell_type": "code",
   "execution_count": 13,
   "id": "d2c29b32-1740-4903-8ae0-907d2a6d51fa",
   "metadata": {},
   "outputs": [
    {
     "data": {
      "text/plain": [
       "False"
      ]
     },
     "execution_count": 13,
     "metadata": {},
     "output_type": "execute_result"
    }
   ],
   "source": [
    "a is b"
   ]
  }
 ],
 "metadata": {
  "kernelspec": {
   "display_name": "Python 3 (ipykernel)",
   "language": "python",
   "name": "python3"
  },
  "language_info": {
   "codemirror_mode": {
    "name": "ipython",
    "version": 3
   },
   "file_extension": ".py",
   "mimetype": "text/x-python",
   "name": "python",
   "nbconvert_exporter": "python",
   "pygments_lexer": "ipython3",
   "version": "3.10.10"
  }
 },
 "nbformat": 4,
 "nbformat_minor": 5
}
