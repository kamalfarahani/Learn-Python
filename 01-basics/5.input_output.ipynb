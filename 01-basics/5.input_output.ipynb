{
 "cells": [
  {
   "cell_type": "markdown",
   "id": "2db01b47-0376-472b-a778-905b8529404a",
   "metadata": {},
   "source": [
    "## Input\n",
    "\n",
    "In Python, you can get inputs from the user using the built-in `input()` function. The `input()` function reads a line of text entered by the user and returns it as a string.\n",
    "\n",
    "Here's an example of using the `input()` function to get a user's name:\n",
    "\n",
    "```python\n",
    "name = input(\"Enter your name: \")\n",
    "print(\"Hello, \" + name + \"!\")\n",
    "```\n",
    "\n",
    "In this example, the `input()` function is called with a string argument that prompts the user to enter their name. The user's input is then stored in the variable `name`. The `print()` function is used to output a greeting message that includes the user's name.\n",
    "\n",
    "You can also use the `input()` function to get numeric input from the user. However, you need to convert the input from a string to a numeric type such as `int` or `float`. Here's an example:\n",
    "\n",
    "```python\n",
    "age = int(input(\"Enter your age: \"))\n",
    "print(\"Next year, you will be\", age + 1, \"years old.\")\n",
    "```\n",
    "\n",
    "In this example, the `input()` function is used to prompt the user to enter their age. The user's input is then converted to an integer using the `int()` function and stored in the variable `age`. The `print()` function is used to output a message that includes the user's age plus one.\n",
    "\n",
    "Note that the `input()` function always returns a string, so you need to convert the input to the appropriate type using functions like `int()` or `float()` if you want to perform numeric operations on it."
   ]
  },
  {
   "cell_type": "markdown",
   "id": "ae988f46-79d3-4a94-b336-a34152131a3d",
   "metadata": {},
   "source": [
    "### Getting string input"
   ]
  },
  {
   "cell_type": "code",
   "execution_count": 1,
   "id": "266be3ce-7226-4df4-89cc-f6b3012abc54",
   "metadata": {},
   "outputs": [
    {
     "name": "stdin",
     "output_type": "stream",
     "text": [
      "Please enter your name:  Alex\n"
     ]
    },
    {
     "name": "stdout",
     "output_type": "stream",
     "text": [
      "Alex\n"
     ]
    }
   ],
   "source": [
    "name = input('Please enter your name: ')\n",
    "print(name)"
   ]
  },
  {
   "cell_type": "code",
   "execution_count": 2,
   "id": "364f0994-4b0d-4c84-b650-b7c0a7c579ea",
   "metadata": {},
   "outputs": [
    {
     "name": "stdout",
     "output_type": "stream",
     "text": [
      "<class 'str'>\n"
     ]
    }
   ],
   "source": [
    "print(type(name))"
   ]
  },
  {
   "cell_type": "markdown",
   "id": "ff69dd4d-252d-499f-a892-ac955e9449ef",
   "metadata": {},
   "source": [
    "### Getting an integer input\n",
    "\n",
    "You can use `int` function to convert string input to an integer number."
   ]
  },
  {
   "cell_type": "code",
   "execution_count": 6,
   "id": "c7947c34-ea73-407b-9bc7-4c894d735c19",
   "metadata": {},
   "outputs": [
    {
     "name": "stdin",
     "output_type": "stream",
     "text": [
      "Please enter number:  10\n"
     ]
    },
    {
     "name": "stdout",
     "output_type": "stream",
     "text": [
      "10\n",
      "<class 'str'>\n"
     ]
    }
   ],
   "source": [
    "number_str = input('Please enter number: ')\n",
    "print(number_str)\n",
    "print(type(number_str))"
   ]
  },
  {
   "cell_type": "code",
   "execution_count": 8,
   "id": "107b5582-24b5-4328-8b21-d7554cfc0f48",
   "metadata": {},
   "outputs": [
    {
     "name": "stdout",
     "output_type": "stream",
     "text": [
      "10\n",
      "<class 'int'>\n"
     ]
    }
   ],
   "source": [
    "number_int = int(number_str)\n",
    "print(number_int)\n",
    "print(type(number_int))"
   ]
  },
  {
   "cell_type": "markdown",
   "id": "6e84359a-cf01-484b-9f98-5cb12e9fa10d",
   "metadata": {},
   "source": [
    "> **You can merge these two steps in one step like below:**"
   ]
  },
  {
   "cell_type": "code",
   "execution_count": 9,
   "id": "3edb96b1-3794-496c-8888-67c995b9a4fe",
   "metadata": {},
   "outputs": [
    {
     "name": "stdin",
     "output_type": "stream",
     "text": [
      "Please enter number:  10\n"
     ]
    }
   ],
   "source": [
    "number = int(input('Please enter number: '))"
   ]
  },
  {
   "cell_type": "code",
   "execution_count": 10,
   "id": "15d2dc4f-99ae-4573-b224-d12f80fdc8fe",
   "metadata": {},
   "outputs": [
    {
     "name": "stdout",
     "output_type": "stream",
     "text": [
      "10\n",
      "<class 'int'>\n"
     ]
    }
   ],
   "source": [
    "print(number)\n",
    "print(type(number))"
   ]
  },
  {
   "cell_type": "markdown",
   "id": "e5e45950-6802-491c-ae2d-9efe40c326fe",
   "metadata": {},
   "source": [
    "### Getting a float input\n",
    "\n",
    "You can use `int` function to convert string input to an integer number."
   ]
  },
  {
   "cell_type": "code",
   "execution_count": 1,
   "id": "32177843-a7fb-4e1f-b5ee-77274330d2e8",
   "metadata": {},
   "outputs": [
    {
     "name": "stdin",
     "output_type": "stream",
     "text": [
      "Please enter number:  10.2\n"
     ]
    },
    {
     "name": "stdout",
     "output_type": "stream",
     "text": [
      "10.2\n",
      "<class 'float'>\n"
     ]
    }
   ],
   "source": [
    "number_str = input('Please enter number: ')\n",
    "number_float = float(number_str)\n",
    "\n",
    "print(number_float)\n",
    "print(type(number_float))"
   ]
  },
  {
   "cell_type": "markdown",
   "id": "7caac1e0-9ae1-4951-a54a-98187a3c7d25",
   "metadata": {},
   "source": [
    "> **Like previous example you can merge these two steps in one step like below:**"
   ]
  },
  {
   "cell_type": "code",
   "execution_count": 3,
   "id": "2d8882ff-6e54-41ae-a37b-05924e1c44c9",
   "metadata": {},
   "outputs": [
    {
     "name": "stdin",
     "output_type": "stream",
     "text": [
      "Please enter number 10.2222\n"
     ]
    },
    {
     "name": "stdout",
     "output_type": "stream",
     "text": [
      "10.2222\n"
     ]
    }
   ],
   "source": [
    "number = float(input('Please enter number'))\n",
    "\n",
    "print(number)"
   ]
  },
  {
   "cell_type": "markdown",
   "id": "4d6c3844-91eb-4b59-a7d4-2f6efb325b5c",
   "metadata": {},
   "source": [
    "### Be careful when converting an input to a type\n",
    "\n",
    "If the entered string for input is invalid for converting to an `int` or `float` object, you will get a ValueError, we will cover how to handle exceptions (errors) in Python later in the course."
   ]
  },
  {
   "cell_type": "code",
   "execution_count": 4,
   "id": "ebba4383-94b9-4cc0-81e2-79e8ba83624d",
   "metadata": {},
   "outputs": [
    {
     "ename": "ValueError",
     "evalue": "invalid literal for int() with base 10: 'sss'",
     "output_type": "error",
     "traceback": [
      "\u001b[0;31m---------------------------------------------------------------------------\u001b[0m",
      "\u001b[0;31mValueError\u001b[0m                                Traceback (most recent call last)",
      "Cell \u001b[0;32mIn[4], line 1\u001b[0m\n\u001b[0;32m----> 1\u001b[0m \u001b[38;5;28;43mint\u001b[39;49m\u001b[43m(\u001b[49m\u001b[38;5;124;43m'\u001b[39;49m\u001b[38;5;124;43msss\u001b[39;49m\u001b[38;5;124;43m'\u001b[39;49m\u001b[43m)\u001b[49m\n",
      "\u001b[0;31mValueError\u001b[0m: invalid literal for int() with base 10: 'sss'"
     ]
    }
   ],
   "source": [
    "int('sss')"
   ]
  },
  {
   "cell_type": "code",
   "execution_count": 5,
   "id": "c5074f56-a688-4d19-ac14-f75394ed81fc",
   "metadata": {},
   "outputs": [
    {
     "ename": "ValueError",
     "evalue": "invalid literal for int() with base 10: '2.3'",
     "output_type": "error",
     "traceback": [
      "\u001b[0;31m---------------------------------------------------------------------------\u001b[0m",
      "\u001b[0;31mValueError\u001b[0m                                Traceback (most recent call last)",
      "Cell \u001b[0;32mIn[5], line 1\u001b[0m\n\u001b[0;32m----> 1\u001b[0m \u001b[38;5;28;43mint\u001b[39;49m\u001b[43m(\u001b[49m\u001b[38;5;124;43m'\u001b[39;49m\u001b[38;5;124;43m2.3\u001b[39;49m\u001b[38;5;124;43m'\u001b[39;49m\u001b[43m)\u001b[49m\n",
      "\u001b[0;31mValueError\u001b[0m: invalid literal for int() with base 10: '2.3'"
     ]
    }
   ],
   "source": [
    "int('2.3')"
   ]
  },
  {
   "cell_type": "code",
   "execution_count": 6,
   "id": "732bf882-28b8-41b5-b73c-6374dd45ce7a",
   "metadata": {},
   "outputs": [
    {
     "ename": "ValueError",
     "evalue": "could not convert string to float: 'sss'",
     "output_type": "error",
     "traceback": [
      "\u001b[0;31m---------------------------------------------------------------------------\u001b[0m",
      "\u001b[0;31mValueError\u001b[0m                                Traceback (most recent call last)",
      "Cell \u001b[0;32mIn[6], line 1\u001b[0m\n\u001b[0;32m----> 1\u001b[0m \u001b[38;5;28;43mfloat\u001b[39;49m\u001b[43m(\u001b[49m\u001b[38;5;124;43m'\u001b[39;49m\u001b[38;5;124;43msss\u001b[39;49m\u001b[38;5;124;43m'\u001b[39;49m\u001b[43m)\u001b[49m\n",
      "\u001b[0;31mValueError\u001b[0m: could not convert string to float: 'sss'"
     ]
    }
   ],
   "source": [
    "float('sss')"
   ]
  },
  {
   "cell_type": "markdown",
   "id": "fdafa478-8167-454f-9aed-ef37cb6b592b",
   "metadata": {},
   "source": [
    "### Output with `print` function\n",
    "\n",
    "In Python, the `print` function is used to display output on the console or terminal. It is a built-in function that takes one or more arguments, and prints them to the standard output device, which is typically the console or terminal window.\n",
    "\n",
    "The general syntax of the `print` function is:\n",
    "\n",
    "```python\n",
    "print(object(s), sep=separator, end=end, file=file, flush=flush)\n",
    "```\n",
    "\n",
    "where:\n",
    "- `object(s)` is the object or objects that you want to print. You can pass multiple arguments separated by commas.\n",
    "- `sep` is the separator between the objects. The default is a space character.\n",
    "- `end` is the string that is printed at the end of the output. The default is a newline character.\n",
    "- `file` is the file object that the output is written to. The default is `sys.stdout` which is the console or terminal.\n",
    "- `flush` is a boolean value that indicates whether to flush the output buffer. The default is `False`.\n",
    "\n",
    "Here's an example of using the `print()` function:\n",
    "\n",
    "```python\n",
    "name = \"John\"\n",
    "age = 25\n",
    "print(\"My name is\", name, \"and I am\", age, \"years old.\")\n",
    "```\n",
    "\n",
    "Output:\n",
    "```\n",
    "My name is John and I am 25 years old.\n",
    "```\n",
    "\n",
    "In this example, we passed three arguments to the `print()` function separated by commas, and the function printed them with a space separator. The default `end` value is a newline character, so the output was printed on a new line."
   ]
  },
  {
   "cell_type": "code",
   "execution_count": 7,
   "id": "e3384e9b-109e-4f50-b76f-ec139c334279",
   "metadata": {},
   "outputs": [
    {
     "name": "stdout",
     "output_type": "stream",
     "text": [
      "My name is John and I am 25 years old.\n"
     ]
    }
   ],
   "source": [
    "name = \"John\"\n",
    "age = 25\n",
    "print(\"My name is\", name, \"and I am\", age, \"years old.\")"
   ]
  },
  {
   "cell_type": "code",
   "execution_count": 8,
   "id": "a553fcde-7b68-4558-9228-5284f2e548e8",
   "metadata": {},
   "outputs": [
    {
     "name": "stdout",
     "output_type": "stream",
     "text": [
      "My name is #### John #### and I am #### 25 #### years old.\n"
     ]
    }
   ],
   "source": [
    "name = \"John\"\n",
    "age = 25\n",
    "print(\"My name is\", name, \"and I am\", age, \"years old.\", sep=' #### ')"
   ]
  }
 ],
 "metadata": {
  "kernelspec": {
   "display_name": "Python 3 (ipykernel)",
   "language": "python",
   "name": "python3"
  },
  "language_info": {
   "codemirror_mode": {
    "name": "ipython",
    "version": 3
   },
   "file_extension": ".py",
   "mimetype": "text/x-python",
   "name": "python",
   "nbconvert_exporter": "python",
   "pygments_lexer": "ipython3",
   "version": "3.11.4"
  }
 },
 "nbformat": 4,
 "nbformat_minor": 5
}
