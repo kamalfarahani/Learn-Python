{
 "cells": [
  {
   "cell_type": "markdown",
   "id": "70e94a3d-07b7-49e2-9eb4-fe8302ceddaa",
   "metadata": {
    "tags": []
   },
   "source": [
    "## Functions\n",
    "\n",
    "In Python, a function is a block of code that performs a specific task and can be called from other parts of a program. Functions are a fundamental concept in programming, and they allow you to break down complex tasks into smaller, more manageable pieces of code.\n",
    "\n",
    "Functions in Python are defined using the `def` keyword, followed by the name of the function, a set of parentheses, and a colon. The code that makes up the function is then indented to indicate that it is part of the function.\n",
    "\n",
    "Here's an example of a simple function in Python that takes two numbers as input and returns their sum:\n",
    "\n",
    "```python\n",
    "def add_numbers(x, y):\n",
    "    s = x + y\n",
    "    return s\n",
    "```\n",
    "\n",
    "In this example, the function is called `add_numbers`. It takes two parameters, `x` and `y`, and returns their sum. The code inside the function defines a variable called `sum` and assigns it the value of `x + y`. It then uses the `return` keyword to return the value of `sum` to the caller.\n",
    "\n",
    "To call a function in Python, you simply use its name followed by a set of parentheses containing any arguments that the function requires. For example, to call the `add_numbers` function defined above, you might use code like this:\n",
    "\n",
    "```python\n",
    "result = add_numbers(3, 4)\n",
    "print(result) # prints 7\n",
    "```\n",
    "\n",
    "In this example, the code calls the `add_numbers` function with the arguments `3` and `4`. The function then returns the value `7`, which is stored in the variable `result`. Finally, the code prints the value of `result`, which is `7`.\n",
    "\n",
    "Functions are a powerful tool in Python, and they allow you to write reusable code that can be called from many different parts of a program. By breaking down complex tasks into smaller functions, you can make your code easier to understand, debug, and maintain.\n",
    "\n",
    "When we define a function we may define symbols for the values that will be passed to function, these symbols are called **parameters**, when we call a function we specify values for these parameters, these values are called **arguments**."
   ]
  },
  {
   "cell_type": "markdown",
   "id": "3c120d30-1950-43f0-b7fa-6ab140b2b6f5",
   "metadata": {},
   "source": [
    "### Defining a function\n",
    "\n",
    "* Functions can be defined using `def` keyword, the name of the function can be any valid python variable name.\n",
    "* Functions always `return` some value.\n",
    "* Function body contains any valid Python code that computes the result of the function.\n",
    "* If a `return` value is not specified, function will `return None` \n",
    "\n",
    "![Function definition](./pics/python-function-definition.png)"
   ]
  },
  {
   "cell_type": "markdown",
   "id": "9ca2865b-e253-48da-bfdb-58a39f8241d8",
   "metadata": {},
   "source": [
    "This function add two numbers and returns the result"
   ]
  },
  {
   "cell_type": "code",
   "execution_count": 1,
   "id": "7d995110-412f-4b1a-833a-3f368ce055cd",
   "metadata": {
    "tags": []
   },
   "outputs": [
    {
     "name": "stdout",
     "output_type": "stream",
     "text": [
      "30\n"
     ]
    }
   ],
   "source": [
    "def add(x, y):\n",
    "    \"\"\"This function adds the two numbers\"\"\"\n",
    "    s = x + y\n",
    "    return s\n",
    "\n",
    "print(add(10, 20))"
   ]
  },
  {
   "cell_type": "code",
   "execution_count": 2,
   "id": "9768f12c-b6a9-4356-8b87-5fbe8a131b0c",
   "metadata": {},
   "outputs": [
    {
     "data": {
      "text/plain": [
       "13"
      ]
     },
     "execution_count": 2,
     "metadata": {},
     "output_type": "execute_result"
    }
   ],
   "source": [
    "a = add(6, 7)\n",
    "a"
   ]
  },
  {
   "cell_type": "markdown",
   "id": "eb7bdc4d-7331-4db6-96bf-708d632f2793",
   "metadata": {},
   "source": [
    "This function prints hello when called"
   ]
  },
  {
   "cell_type": "code",
   "execution_count": 3,
   "id": "13e9e715-613b-42b4-a9c1-6131d5143c25",
   "metadata": {},
   "outputs": [],
   "source": [
    "def say_hello():\n",
    "    print('Hello')"
   ]
  },
  {
   "cell_type": "code",
   "execution_count": 4,
   "id": "b2f996c3-9c6e-49ee-84fb-879bad259dae",
   "metadata": {},
   "outputs": [
    {
     "name": "stdout",
     "output_type": "stream",
     "text": [
      "Hello\n"
     ]
    }
   ],
   "source": [
    "say_hello()"
   ]
  },
  {
   "cell_type": "code",
   "execution_count": 5,
   "id": "9473460c-6ce6-4216-844c-693e3d2f2131",
   "metadata": {},
   "outputs": [
    {
     "name": "stdout",
     "output_type": "stream",
     "text": [
      "Hello\n"
     ]
    }
   ],
   "source": [
    "x = say_hello()"
   ]
  },
  {
   "cell_type": "code",
   "execution_count": 6,
   "id": "4fe04d9f-8b76-4eb4-be25-da3488699ac8",
   "metadata": {},
   "outputs": [
    {
     "name": "stdout",
     "output_type": "stream",
     "text": [
      "None\n"
     ]
    }
   ],
   "source": [
    "print(x)"
   ]
  },
  {
   "cell_type": "markdown",
   "id": "915f329f-80bd-44e4-b6d7-b4608f99afce",
   "metadata": {},
   "source": [
    "### Functions are objects\n",
    "\n",
    "Just like everything in Python, functions are objects:\n",
    "* They have state and behavior\n",
    "    * Name (maybe)\n",
    "    * Code\n",
    "    * Parameters\n",
    "    * They are callable $\\to$ they always return something when called\n",
    "* They can assigned to a symbol\n",
    "* They can be passed as a parameter to another function"
   ]
  },
  {
   "cell_type": "code",
   "execution_count": 7,
   "id": "75eda046-7fa0-4c7c-88d4-354ec38d06ee",
   "metadata": {},
   "outputs": [],
   "source": [
    "def add(x, y):\n",
    "    \"\"\"This function adds the two numbers\"\"\"\n",
    "    s = x + y\n",
    "    return s"
   ]
  },
  {
   "cell_type": "code",
   "execution_count": 8,
   "id": "e14e34c0-2164-4a5b-8575-e040a89cda62",
   "metadata": {},
   "outputs": [
    {
     "data": {
      "text/plain": [
       "'add'"
      ]
     },
     "execution_count": 8,
     "metadata": {},
     "output_type": "execute_result"
    }
   ],
   "source": [
    "add.__name__"
   ]
  },
  {
   "cell_type": "code",
   "execution_count": 9,
   "id": "122ff879-6778-4af3-93ac-1eb4adbcb4bf",
   "metadata": {},
   "outputs": [
    {
     "data": {
      "text/plain": [
       "'This function adds the two numbers'"
      ]
     },
     "execution_count": 9,
     "metadata": {},
     "output_type": "execute_result"
    }
   ],
   "source": [
    "add.__doc__"
   ]
  },
  {
   "cell_type": "code",
   "execution_count": 10,
   "id": "8b267339-2aee-4f07-8f78-becd6aa6d31a",
   "metadata": {},
   "outputs": [
    {
     "data": {
      "text/plain": [
       "2"
      ]
     },
     "execution_count": 10,
     "metadata": {},
     "output_type": "execute_result"
    }
   ],
   "source": [
    "add.__code__.co_argcount"
   ]
  },
  {
   "cell_type": "code",
   "execution_count": 11,
   "id": "97eebe70-7d1c-47a5-9229-9ea0cc6a6e6b",
   "metadata": {},
   "outputs": [
    {
     "data": {
      "text/plain": [
       "('x', 'y', 's')"
      ]
     },
     "execution_count": 11,
     "metadata": {},
     "output_type": "execute_result"
    }
   ],
   "source": [
    "add.__code__.co_varnames"
   ]
  },
  {
   "cell_type": "code",
   "execution_count": 12,
   "id": "f32c7311-c0a2-4dab-84f6-94edf3088e23",
   "metadata": {},
   "outputs": [
    {
     "data": {
      "text/plain": [
       "('x', 'y', 's')"
      ]
     },
     "execution_count": 12,
     "metadata": {},
     "output_type": "execute_result"
    }
   ],
   "source": [
    "add.__code__.co_varnames"
   ]
  },
  {
   "cell_type": "code",
   "execution_count": 23,
   "id": "8eae6397-bdc6-442e-b932-850a268332a7",
   "metadata": {},
   "outputs": [],
   "source": [
    "f = add"
   ]
  },
  {
   "cell_type": "code",
   "execution_count": 24,
   "id": "c3849c3a-cae6-4d0f-bbba-0e52cc45bd6a",
   "metadata": {},
   "outputs": [
    {
     "data": {
      "text/plain": [
       "5"
      ]
     },
     "execution_count": 24,
     "metadata": {},
     "output_type": "execute_result"
    }
   ],
   "source": [
    "f(2,3)"
   ]
  },
  {
   "cell_type": "markdown",
   "id": "e523dbc6-9ccb-45a4-b068-890ee599a4ec",
   "metadata": {},
   "source": [
    "### Whats is a callable?\n",
    "\n",
    "An object is a callable if it can be **called** using `()`.\n",
    "\n",
    "Functions are called by calling them like `print` function:\n",
    "```python\n",
    "print('Hello')\n",
    "```\n",
    "\n",
    "There are other types of objects in Python that are also callable (like methods) we will encounter them later in the course."
   ]
  },
  {
   "cell_type": "markdown",
   "id": "fed72901-47f0-4e75-9d58-e416201de3ce",
   "metadata": {},
   "source": [
    "### Function scope\n",
    "\n",
    "In Python, the scope of a function refers to the region of the program where the function's variables and parameters can be accessed. The scope of a function is determined by the location of the variable or parameter within the program and whether or not it is defined inside the function.\n",
    "\n",
    "Python has two main types of scope: global scope and local scope. Global scope refers to variables and functions that are defined outside of any function block and can be accessed from anywhere in the program. Local scope, on the other hand, refers to variables and parameters that are defined inside a function block and can only be accessed from within that function.\n",
    "\n",
    "Here's an example of global and local scope in Python:\n",
    "\n",
    "```python\n",
    "x = 10 # global variable\n",
    "\n",
    "def my_function(y):\n",
    "    z = x + y # z, y are local variable\n",
    "    return z\n",
    "\n",
    "result = my_function(5)\n",
    "print(result) # prints 15\n",
    "```\n",
    "\n",
    "In this example, `x` is a global variable that is defined outside of any function block. It can be accessed from anywhere in the program, including inside the `my_function` function. `y` is a parameter that is defined inside the function block and can only be accessed from within the function. `z` is a local variable that is defined inside the function block and can only be accessed from within the function.\n",
    "\n",
    "When the `my_function` function is called with an argument of `5`, it adds `x` and `y` together to get `15`, which is stored in the local variable `z`. The function then returns the value of `z`, which is stored in the `result` variable. Finally, the code prints the value of `result`, which is `15`.\n",
    "\n",
    "If you have two variables with the same name, one defined inside a function and the other defined outside the function, they will be treated as two separate variables with different scopes. The variable defined inside the function will have local scope and will only be accessible within the function, while the variable defined outside the function will have global scope and will be accessible from anywhere in the program.\n",
    "\n",
    "Here's an example that demonstrates this:\n",
    "\n",
    "```python\n",
    "x = 10 # global variable\n",
    "\n",
    "def my_function():\n",
    "    x = 5 # local variable\n",
    "    print(\"x inside function:\", x)\n",
    "\n",
    "my_function()\n",
    "print(\"x outside function:\", x)\n",
    "```\n",
    "\n",
    "In this example, the variable `x` is defined outside the function with a value of `10`. The `my_function` function defines its own variable `x` with a value of `5`.\n",
    "\n",
    "When the function is called, it prints the value of the local variable `x`, which is `5`. This is because within the function, the local variable `x` takes precedence over the global variable `x`.\n",
    "\n",
    "After the function call is complete, the code prints the value of the global variable `x`, which is still `10`. This is because the global variable `x` was not affected by the local variable `x` defined inside the function.\n",
    "\n",
    "In summary, if you have two variables with the same name, one defined inside a function and the other defined outside the function, they will be treated as two separate variables with different scopes. The variable defined inside the function will have local scope and will only be accessible within the function, while the variable defined outside the function will have global scope and will be accessible from anywhere in the program."
   ]
  },
  {
   "cell_type": "code",
   "execution_count": 25,
   "id": "1142af7e-ddb4-4506-8f2b-058bd6538114",
   "metadata": {},
   "outputs": [
    {
     "name": "stdout",
     "output_type": "stream",
     "text": [
      "15\n"
     ]
    }
   ],
   "source": [
    "x = 10\n",
    "\n",
    "def my_function(y):\n",
    "    z = x + y\n",
    "    return z\n",
    "\n",
    "result = my_function(5)\n",
    "print(result)"
   ]
  },
  {
   "cell_type": "code",
   "execution_count": 26,
   "id": "cf7fa9bd-706c-450d-8e85-10f8f29cecc9",
   "metadata": {},
   "outputs": [
    {
     "data": {
      "text/plain": [
       "25"
      ]
     },
     "execution_count": 26,
     "metadata": {},
     "output_type": "execute_result"
    }
   ],
   "source": [
    "x = 20\n",
    "my_function(5)"
   ]
  },
  {
   "cell_type": "code",
   "execution_count": 27,
   "id": "ecf34c39-5d2c-44d1-91c4-2d59c753676f",
   "metadata": {},
   "outputs": [
    {
     "name": "stdout",
     "output_type": "stream",
     "text": [
      "x inside function: 5\n",
      "x outside function: 10\n"
     ]
    }
   ],
   "source": [
    "x = 10\n",
    "\n",
    "def my_function():\n",
    "    x = 5\n",
    "    print(\"x inside function:\", x)\n",
    "\n",
    "my_function()\n",
    "print(\"x outside function:\", x)"
   ]
  },
  {
   "cell_type": "markdown",
   "id": "44e8a2ff-dc00-4573-bd2e-589af701653f",
   "metadata": {},
   "source": [
    "### Example 1: Prime number function\n",
    "\n",
    "The following function returns `True` if the given number is prime and returns `False` otherwise"
   ]
  },
  {
   "cell_type": "code",
   "execution_count": 28,
   "id": "b545c2b5-0913-4e98-89f4-0f1a988528c0",
   "metadata": {},
   "outputs": [],
   "source": [
    "def is_prime(x):\n",
    "    if x <= 1:\n",
    "        return False\n",
    "\n",
    "    for i in range(2, x):\n",
    "        if x % i == 0:\n",
    "            return False\n",
    "    \n",
    "    return True"
   ]
  },
  {
   "cell_type": "markdown",
   "id": "7cc5d7e1-a083-468a-80f3-4e9bd899a8d4",
   "metadata": {},
   "source": [
    "**Notice that as soon as we reach a `return` statement the function execution ends and the value is returned**."
   ]
  },
  {
   "cell_type": "code",
   "execution_count": 29,
   "id": "88cd456f-b86f-4eaa-9567-97c747889ab5",
   "metadata": {},
   "outputs": [
    {
     "data": {
      "text/plain": [
       "False"
      ]
     },
     "execution_count": 29,
     "metadata": {},
     "output_type": "execute_result"
    }
   ],
   "source": [
    "is_prime(9)"
   ]
  },
  {
   "cell_type": "code",
   "execution_count": 30,
   "id": "7c110700-518a-46b6-8acf-e5003b89a4a9",
   "metadata": {},
   "outputs": [
    {
     "data": {
      "text/plain": [
       "False"
      ]
     },
     "execution_count": 30,
     "metadata": {},
     "output_type": "execute_result"
    }
   ],
   "source": [
    "is_prime(1)"
   ]
  },
  {
   "cell_type": "code",
   "execution_count": 31,
   "id": "9936375e-f6fe-440c-b645-a48a5a5f2bb4",
   "metadata": {},
   "outputs": [
    {
     "data": {
      "text/plain": [
       "True"
      ]
     },
     "execution_count": 31,
     "metadata": {},
     "output_type": "execute_result"
    }
   ],
   "source": [
    "is_prime(113)"
   ]
  },
  {
   "cell_type": "markdown",
   "id": "790e1950-bbc3-427f-83ef-ca1a726730c2",
   "metadata": {},
   "source": [
    "**Now we can use this function to write cleaner and more manageable code.**"
   ]
  },
  {
   "cell_type": "code",
   "execution_count": 32,
   "id": "d2f4be6c-cc9c-4c29-92e9-72c2fecf16e6",
   "metadata": {},
   "outputs": [
    {
     "name": "stdout",
     "output_type": "stream",
     "text": [
      "2 is prime!\n",
      "3 is prime!\n",
      "5 is prime!\n",
      "7 is prime!\n",
      "11 is prime!\n",
      "13 is prime!\n",
      "17 is prime!\n",
      "19 is prime!\n",
      "23 is prime!\n",
      "29 is prime!\n",
      "31 is prime!\n",
      "37 is prime!\n",
      "41 is prime!\n",
      "43 is prime!\n",
      "47 is prime!\n",
      "53 is prime!\n",
      "59 is prime!\n",
      "61 is prime!\n",
      "67 is prime!\n",
      "71 is prime!\n",
      "73 is prime!\n",
      "79 is prime!\n",
      "83 is prime!\n",
      "89 is prime!\n",
      "97 is prime!\n"
     ]
    }
   ],
   "source": [
    "for i in range(100):\n",
    "    if is_prime(i):\n",
    "        print(f'{i} is prime!')"
   ]
  },
  {
   "cell_type": "markdown",
   "id": "ed8f7fdc-2e14-435b-b543-f6bccd99c2f0",
   "metadata": {},
   "source": [
    "### Example 2: "
   ]
  },
  {
   "cell_type": "code",
   "execution_count": null,
   "id": "41dfeff5-8ac8-42db-9c7b-512653f98079",
   "metadata": {},
   "outputs": [],
   "source": []
  }
 ],
 "metadata": {
  "kernelspec": {
   "display_name": "Python 3 (ipykernel)",
   "language": "python",
   "name": "python3"
  },
  "language_info": {
   "codemirror_mode": {
    "name": "ipython",
    "version": 3
   },
   "file_extension": ".py",
   "mimetype": "text/x-python",
   "name": "python",
   "nbconvert_exporter": "python",
   "pygments_lexer": "ipython3",
   "version": "3.9.7"
  }
 },
 "nbformat": 4,
 "nbformat_minor": 5
}
