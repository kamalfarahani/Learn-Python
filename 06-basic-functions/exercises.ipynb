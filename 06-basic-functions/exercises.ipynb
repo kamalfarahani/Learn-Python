{
 "cells": [
  {
   "cell_type": "markdown",
   "id": "alert-document",
   "metadata": {},
   "source": [
    "### Exercises"
   ]
  },
  {
   "cell_type": "markdown",
   "id": "descending-cursor",
   "metadata": {},
   "source": [
    "#### Question 1"
   ]
  },
  {
   "cell_type": "markdown",
   "id": "fundamental-seven",
   "metadata": {},
   "source": [
    "1. Write a Python function to find the maximum of three numbers."
   ]
  },
  {
   "cell_type": "markdown",
   "id": "782bdde2-3d3f-47cf-b736-d2d8625cb7ac",
   "metadata": {},
   "source": [
    "#### Question 2"
   ]
  },
  {
   "cell_type": "markdown",
   "id": "71ca5658-524c-4aa7-bcd6-375ef45d0bf9",
   "metadata": {},
   "source": [
    "Write a Python function to multiply all the numbers in a list.\n",
    "\n",
    "> Sample List : (8, 2, 3, -1, 7)\n",
    "\n",
    "> Expected Output : -336"
   ]
  },
  {
   "cell_type": "markdown",
   "id": "4622b2c5-f944-4449-b02c-27ceda569bf9",
   "metadata": {},
   "source": [
    "#### Question 3"
   ]
  },
  {
   "cell_type": "markdown",
   "id": "49252c3c-4c2c-4c9b-ae40-349245dc2d00",
   "metadata": {},
   "source": [
    "Write a Python program to reverse a string.\n",
    "> Sample String : \"1234abcd\"\n",
    "\n",
    "> Expected Output : \"dcba4321\""
   ]
  },
  {
   "cell_type": "markdown",
   "id": "6059b2d2-4a2a-4c79-abe3-c27317780501",
   "metadata": {},
   "source": [
    "#### Question 4"
   ]
  },
  {
   "cell_type": "markdown",
   "id": "03ef7c10-95fd-43de-bea1-cdac8377e699",
   "metadata": {},
   "source": [
    "Write a Python function that accepts a string and counts the number of upper and lower case letters.\n",
    "\n",
    ">Sample String : 'The quick Brow Fox'\n",
    "\n",
    "Expected Output :\n",
    "\n",
    "> No. of Upper case characters : 3\n",
    "\n",
    "> No. of Lower case Characters : 12"
   ]
  },
  {
   "cell_type": "markdown",
   "id": "98e8c6f2-dfde-48d8-abc9-dee40ae46f6d",
   "metadata": {},
   "source": [
    "#### Question 4"
   ]
  },
  {
   "cell_type": "markdown",
   "id": "a8b5e442-48ce-4cd4-a0fa-97b1fcf8d026",
   "metadata": {},
   "source": [
    "Write a Python function to check whether a number is \"Perfect\" or not.\n",
    "According to Wikipedia : In number theory, a perfect number is a positive integer that is equal to the sum of its proper positive divisors, that is, the sum of its positive divisors excluding the number itself (also known as its aliquot sum). Equivalently, a perfect number is a number that is half the sum of all of its positive divisors (including itself).\n",
    "\n",
    "Example : The first perfect number is 6, because 1, 2, and 3 are its proper positive divisors, and 1 + 2 + 3 = 6. Equivalently, the number 6 is equal to half the sum of all its positive divisors: ( 1 + 2 + 3 + 6 ) / 2 = 6. The next perfect number is 28 = 1 + 2 + 4 + 7 + 14. This is followed by the perfect numbers 496 and 8128."
   ]
  }
 ],
 "metadata": {
  "kernelspec": {
   "display_name": "Python 3 (ipykernel)",
   "language": "python",
   "name": "python3"
  },
  "language_info": {
   "codemirror_mode": {
    "name": "ipython",
    "version": 3
   },
   "file_extension": ".py",
   "mimetype": "text/x-python",
   "name": "python",
   "nbconvert_exporter": "python",
   "pygments_lexer": "ipython3",
   "version": "3.9.7"
  }
 },
 "nbformat": 4,
 "nbformat_minor": 5
}
