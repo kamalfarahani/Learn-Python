{
 "cells": [
  {
   "cell_type": "markdown",
   "id": "fcd5dfd5-4bcc-4dca-9ed9-212a76912cb1",
   "metadata": {},
   "source": [
    "## Series\n",
    "\n",
    "In pandas, a Series is a **one-dimensional labeled array** that can hold any data type. It is similar to a column in a spreadsheet or a single column of data in a DataFrame. A Series consists of two main components: the data and the index.\n",
    "\n",
    "Here's an example of creating a Series in pandas:\n",
    "\n",
    "```python\n",
    "import pandas as pd\n",
    "\n",
    "# Create a Series from a list\n",
    "data = [10, 20, 30, 40, 50]\n",
    "s = pd.Series(data)\n",
    "print(s)\n",
    "```\n",
    "\n",
    "Output:\n",
    "```\n",
    "0    10\n",
    "1    20\n",
    "2    30\n",
    "3    40\n",
    "4    50\n",
    "dtype: int64\n",
    "```\n",
    "\n",
    "In the above example, we create a Series from a list `data`. By default, pandas assigns a numeric index starting from 0 to each element in the Series. The data type of the Series is `int64`.\n",
    "\n",
    "A Series can also have a custom index that provides labels for each element. Here's an example:\n",
    "\n",
    "```python\n",
    "import pandas as pd\n",
    "\n",
    "# Create a Series with custom index\n",
    "data = [10, 20, 30, 40, 50]\n",
    "index = ['A', 'B', 'C', 'D', 'E']\n",
    "s = pd.Series(data, index=index)\n",
    "print(s)\n",
    "```\n",
    "\n",
    "Output:\n",
    "```\n",
    "A    10\n",
    "B    20\n",
    "C    30\n",
    "D    40\n",
    "E    50\n",
    "dtype: int64\n",
    "```\n",
    "\n",
    "In this case, we specify a custom index `['A', 'B', 'C', 'D', 'E']` when creating the Series. The index labels provide a way to identify and access the elements in the Series.\n",
    "\n",
    "You can also create a Series from a dictionary in pandas, you can use the `pd.Series` constructor and pass the dictionary as an argument. The keys of the dictionary will be used as the index labels, and the values will be the corresponding data in the Series.\n",
    "\n",
    "Here's an example:\n",
    "\n",
    "```python\n",
    "import pandas as pd\n",
    "\n",
    "# Create a dictionary\n",
    "data = {'A': 10, 'B': 20, 'C': 30}\n",
    "\n",
    "# Create a Series from the dictionary\n",
    "series = pd.Series(data)\n",
    "\n",
    "print(series)\n",
    "```\n",
    "\n",
    "Output:\n",
    "```\n",
    "A    10\n",
    "B    20\n",
    "C    30\n",
    "dtype: int64\n",
    "```\n",
    "\n",
    "In the above example, we first create a dictionary `data` with keys `'A'`, `'B'`, and `'C'`, and their corresponding values `10`, `20`, and `30`. Then, we pass this dictionary to `pd.Series()` to create a Series called `series`. The resulting Series has the dictionary keys as index labels and the dictionary values as the data in the Series.\n",
    "\n",
    "Here are a few ways you can work with Series in pandas:\n",
    "\n",
    "1. **Accessing data:** You can use the index labels to access specific elements in the Series. For example, `s['C']` returns the element with index label 'C'.\n",
    "\n",
    "2. **Series operations:** Series objects support various operations such as arithmetic operations, element-wise operations, and statistical operations. For instance, you can use `s + 5` to add 5 to each element of the Series.\n",
    "\n",
    "3. **Index operations:** You can perform operations on the index, such as reindexing, resetting the index, and checking for the existence of an index label. For example, `s.reindex(['A', 'B', 'F'])` returns a new Series with the specified index labels, filling missing values with NaN.\n",
    "\n",
    "4. **Data alignment:** Series objects align data based on their index labels, which allows for easy computation with Series objects that have different lengths or indexes.\n",
    "\n",
    "5. **Series attributes and methods:** Series objects have various attributes and methods to provide information about the data, such as `s.shape` to get the dimensions of the Series, `s.mean()` to calculate the mean of the elements, and `s.unique()` to retrieve the unique values.\n",
    "\n",
    "These are just a few examples of how Series can be used in pandas. Series provide a flexible and efficient way to work with one-dimensional data and are commonly used in pandas along with DataFrames for data analysis and manipulation tasks."
   ]
  },
  {
   "cell_type": "code",
   "execution_count": 25,
   "id": "5fd6843d-5d25-4d76-9239-20888ced74e0",
   "metadata": {},
   "outputs": [
    {
     "name": "stdout",
     "output_type": "stream",
     "text": [
      "A    10\n",
      "B    20\n",
      "C    30\n",
      "D    40\n",
      "E    50\n",
      "dtype: int64\n"
     ]
    }
   ],
   "source": [
    "import pandas as pd\n",
    "\n",
    "data = [10, 20, 30, 40, 50]\n",
    "index = ['A', 'B', 'C', 'D', 'E']\n",
    "s = pd.Series(data, index=index)\n",
    "print(s)"
   ]
  },
  {
   "cell_type": "markdown",
   "id": "681ca899-b568-4a35-8a2b-9ea74de147df",
   "metadata": {},
   "source": [
    "### `loc` and `iloc`\n",
    "\n",
    "In pandas, the `loc` and `iloc` methods are used to access and manipulate data in a Series object.\n",
    "\n",
    "The Series object is a one-dimensional labeled array that can hold any data type. It can be thought of as a column in a spreadsheet or a database table.\n",
    "\n",
    "Here's an explanation of the `loc` and `iloc` methods in pandas Series:\n",
    "\n",
    "1. **`loc` method:** The `loc` method is used to access elements in a Series by label. It accepts a single label or a list of labels and returns the corresponding elements.\n",
    "\n",
    "Syntax:\n",
    "```python\n",
    "series.loc[label]\n",
    "series.loc[[label1, label2, ...]]\n",
    "```\n",
    "\n",
    "Example:\n",
    "``` python\n",
    "import pandas as pd\n",
    "\n",
    "series = pd.Series([10, 20, 30, 40], index=['A', 'B', 'C', 'D'])\n",
    "print(series.loc['B'])  # Output: 20\n",
    "print(series.loc[['A', 'C']])  # Output: \n",
    "# A    10\n",
    "# C    30\n",
    "# dtype: int64\n",
    "```\n",
    "\n",
    "2. **`iloc` method:** The `iloc` method is used to access elements in a Series by integer-based position. It accepts a single integer or a list of integers and returns the corresponding elements.\n",
    "\n",
    "Syntax:\n",
    "```python\n",
    "series.iloc[position]\n",
    "series.iloc[[position1, position2, ...]]\n",
    "```\n",
    "\n",
    "Example:\n",
    "``` python\n",
    "import pandas as pd\n",
    "\n",
    "series = pd.Series([10, 20, 30, 40], index=['A', 'B', 'C', 'D'])\n",
    "print(series.iloc[1])  # Output: 20\n",
    "print(series.iloc[[0, 2]])  # Output: \n",
    "# A    10\n",
    "# C    30\n",
    "# dtype: int64\n",
    "```\n",
    "\n",
    "In both `loc` and `iloc`, the label or integer-based positions can be single values or a list of values. This allows you to select multiple elements from the Series at once.\n",
    "\n",
    "It's worth noting that the `loc` method is inclusive of the last value, while the `iloc` method is exclusive. For example, `series.loc['A':'C']` will include elements with labels 'A', 'B', and 'C', whereas `series.iloc[0:2]` will include elements at positions 0 and 1, but not 2.\n",
    "\n",
    "These methods are powerful tools for indexing, slicing, and manipulating data in a pandas Series based on labels or positions."
   ]
  },
  {
   "cell_type": "code",
   "execution_count": 41,
   "id": "17ce783e-6f81-4842-948e-4140bc204a40",
   "metadata": {},
   "outputs": [],
   "source": [
    "import pandas as pd\n",
    "\n",
    "series = pd.Series([10, 20, 30, 40], index=['A', 'B', 'C', 'D'])"
   ]
  },
  {
   "cell_type": "code",
   "execution_count": 42,
   "id": "5d97d853-5de4-48db-90a1-85f8213651b4",
   "metadata": {},
   "outputs": [
    {
     "data": {
      "text/plain": [
       "10"
      ]
     },
     "execution_count": 42,
     "metadata": {},
     "output_type": "execute_result"
    }
   ],
   "source": [
    "series.loc['A']"
   ]
  },
  {
   "cell_type": "code",
   "execution_count": 43,
   "id": "4cbce0d0-b900-4d88-ac91-573695e0f2b6",
   "metadata": {},
   "outputs": [
    {
     "data": {
      "text/plain": [
       "20"
      ]
     },
     "execution_count": 43,
     "metadata": {},
     "output_type": "execute_result"
    }
   ],
   "source": [
    "series.iloc[1]"
   ]
  },
  {
   "cell_type": "code",
   "execution_count": 44,
   "id": "e85455de-05de-4f67-93a7-1335499813a4",
   "metadata": {},
   "outputs": [
    {
     "data": {
      "text/plain": [
       "A    10\n",
       "B    20\n",
       "C    30\n",
       "dtype: int64"
      ]
     },
     "execution_count": 44,
     "metadata": {},
     "output_type": "execute_result"
    }
   ],
   "source": [
    "series.loc['A':'C']"
   ]
  },
  {
   "cell_type": "code",
   "execution_count": 45,
   "id": "fefdf90b-2dc4-4ae0-88d7-3b9451573a08",
   "metadata": {},
   "outputs": [
    {
     "data": {
      "text/plain": [
       "A    10\n",
       "B    20\n",
       "dtype: int64"
      ]
     },
     "execution_count": 45,
     "metadata": {},
     "output_type": "execute_result"
    }
   ],
   "source": [
    "series.iloc[0:2]"
   ]
  },
  {
   "cell_type": "markdown",
   "id": "539c7ef4-0223-4a1a-a12c-e3bf9c7cf784",
   "metadata": {},
   "source": [
    "> **You can also use fancy indexing in Pandas series**"
   ]
  },
  {
   "cell_type": "code",
   "execution_count": 46,
   "id": "4e1addb8-38ba-4023-baa8-e3f1b6761ebc",
   "metadata": {},
   "outputs": [
    {
     "data": {
      "text/plain": [
       "A    10\n",
       "C    30\n",
       "dtype: int64"
      ]
     },
     "execution_count": 46,
     "metadata": {},
     "output_type": "execute_result"
    }
   ],
   "source": [
    "series.loc[['A', 'C']]"
   ]
  },
  {
   "cell_type": "markdown",
   "id": "92fa63ee-1618-4a35-8ac5-bd6ab662a119",
   "metadata": {},
   "source": [
    "### Some Series attributes\n",
    "\n",
    "In pandas Series, the `index` and `values` attributes provide access to the index labels and the corresponding data values, respectively.\n",
    "\n",
    "1. **`index`**: The `index` attribute returns the index labels associated with the Series. It represents the labels that uniquely identify each element in the Series. The index can be of any data type, such as integers, strings, or dates.\n",
    "\n",
    "Here's an example:\n",
    "\n",
    "```python\n",
    "import pandas as pd\n",
    "\n",
    "series = pd.Series([10, 20, 30], index=['A', 'B', 'C'])\n",
    "print(series.index)\n",
    "```\n",
    "\n",
    "Output:\n",
    "```\n",
    "Index(['A', 'B', 'C'], dtype='object')\n",
    "```\n",
    "\n",
    "In the above example, `series.index` returns an `Index` object containing the index labels `'A'`, `'B'`, and `'C'`. The `dtype='object'` indicates that the index labels are of the object data type.\n",
    "\n",
    "2. **`values`**: The `values` attribute returns the data values of the Series. It provides access to the underlying array of data that the Series holds.\n",
    "\n",
    "Here's an example:\n",
    "\n",
    "```python\n",
    "import pandas as pd\n",
    "\n",
    "series = pd.Series([10, 20, 30], index=['A', 'B', 'C'])\n",
    "print(series.values)\n",
    "```\n",
    "\n",
    "Output:\n",
    "```\n",
    "[10 20 30]\n",
    "```\n",
    "\n",
    "In the above example, `series.values` returns an array containing the data values `[10, 20, 30]`. The values are returned as a one-dimensional NumPy array.\n",
    "\n",
    "You can access and manipulate the index labels and values of a Series using these attributes. For example, you can iterate over the index labels using `series.index` and access the corresponding values using `series.values`."
   ]
  },
  {
   "cell_type": "code",
   "execution_count": 31,
   "id": "b9557f9c-4bea-4279-87af-31b5ad8278a8",
   "metadata": {},
   "outputs": [],
   "source": [
    "import pandas as pd\n",
    "\n",
    "series = pd.Series([10, 20, 30], index=['A', 'B', 'C'])"
   ]
  },
  {
   "cell_type": "code",
   "execution_count": 32,
   "id": "f2a00d92-394e-4eda-853a-df2aad11b9cb",
   "metadata": {},
   "outputs": [
    {
     "data": {
      "text/plain": [
       "Index(['A', 'B', 'C'], dtype='object')"
      ]
     },
     "execution_count": 32,
     "metadata": {},
     "output_type": "execute_result"
    }
   ],
   "source": [
    "series.index"
   ]
  },
  {
   "cell_type": "code",
   "execution_count": 33,
   "id": "3eef5be2-44c7-460c-89e3-ecbcbc3e2352",
   "metadata": {},
   "outputs": [
    {
     "data": {
      "text/plain": [
       "array([10, 20, 30])"
      ]
     },
     "execution_count": 33,
     "metadata": {},
     "output_type": "execute_result"
    }
   ],
   "source": [
    "series.values"
   ]
  },
  {
   "cell_type": "markdown",
   "id": "b9aee8cd-56af-48be-83e8-77972908e8af",
   "metadata": {},
   "source": [
    "### Some Series methods\n",
    "\n",
    "1. **`head()`:**\n",
    "The `head(n)` method returns the first n rows of the Series. By default, it returns the first 5 rows.\n",
    "\n",
    "```python\n",
    "import pandas as pd\n",
    "\n",
    "series = pd.Series([10, 20, 30, 40, 50])\n",
    "print(series.head(3))\n",
    "```\n",
    "\n",
    "Output:\n",
    "```\n",
    "0    10\n",
    "1    20\n",
    "2    30\n",
    "dtype: int64\n",
    "```\n",
    "\n",
    "2. **`tail(n)`:**\n",
    "The `tail(n)` method returns the last n rows of the Series. By default, it returns the last 5 rows.\n",
    "\n",
    "```python\n",
    "import pandas as pd\n",
    "\n",
    "series = pd.Series([10, 20, 30, 40, 50])\n",
    "print(series.tail(3))\n",
    "```\n",
    "\n",
    "Output:\n",
    "```\n",
    "2    30\n",
    "3    40\n",
    "4    50\n",
    "dtype: int64\n",
    "```\n",
    "\n",
    "3. **`describe()`:**\n",
    "The `describe()` method computes various descriptive statistics of the Series, such as count, mean, standard deviation, minimum, maximum, and quartiles.\n",
    "\n",
    "```python\n",
    "import pandas as pd\n",
    "\n",
    "series = pd.Series([10, 20, 30, 40, 50])\n",
    "print(series.describe())\n",
    "```\n",
    "\n",
    "Output:\n",
    "```\n",
    "count     5.000000\n",
    "mean     30.000000\n",
    "std      15.811388\n",
    "min      10.000000\n",
    "25%      20.000000\n",
    "50%      30.000000\n",
    "75%      40.000000\n",
    "max      50.000000\n",
    "dtype: float64\n",
    "```\n",
    "\n",
    "4. **`sum()`:**\n",
    "The `sum()` method returns the sum of all the elements in the Series.\n",
    "\n",
    "```python\n",
    "import pandas as pd\n",
    "\n",
    "series = pd.Series([10, 20, 30, 40, 50])\n",
    "print(series.sum())\n",
    "```\n",
    "\n",
    "Output:\n",
    "```\n",
    "150\n",
    "```\n",
    "\n",
    "5. **`mean()`:**\n",
    "The `mean()` method returns the mean (average) of the elements in the Series.\n",
    "\n",
    "```python\n",
    "import pandas as pd\n",
    "\n",
    "series = pd.Series([10, 20, 30, 40, 50])\n",
    "print(series.mean())\n",
    "```\n",
    "\n",
    "Output:\n",
    "```\n",
    "30.0\n",
    "```"
   ]
  },
  {
   "cell_type": "code",
   "execution_count": 34,
   "id": "defe9c41-8d4c-4c41-8377-cd4c95554a3a",
   "metadata": {},
   "outputs": [],
   "source": [
    "import pandas as pd\n",
    "\n",
    "series = pd.Series([10, 20, 30, 40, 50])"
   ]
  },
  {
   "cell_type": "code",
   "execution_count": 35,
   "id": "8277cb20-dd14-4fca-99af-9264fb1f1d54",
   "metadata": {},
   "outputs": [
    {
     "data": {
      "text/plain": [
       "0    10\n",
       "1    20\n",
       "2    30\n",
       "dtype: int64"
      ]
     },
     "execution_count": 35,
     "metadata": {},
     "output_type": "execute_result"
    }
   ],
   "source": [
    "series.head(3)"
   ]
  },
  {
   "cell_type": "code",
   "execution_count": 36,
   "id": "6eeaa1a7-551d-418c-97a7-d50111c90e61",
   "metadata": {},
   "outputs": [
    {
     "data": {
      "text/plain": [
       "2    30\n",
       "3    40\n",
       "4    50\n",
       "dtype: int64"
      ]
     },
     "execution_count": 36,
     "metadata": {},
     "output_type": "execute_result"
    }
   ],
   "source": [
    "series.tail(3)"
   ]
  },
  {
   "cell_type": "code",
   "execution_count": 37,
   "id": "7c28641c-4f3a-49e5-8249-5d0d33b04ee2",
   "metadata": {},
   "outputs": [
    {
     "data": {
      "text/plain": [
       "count     5.000000\n",
       "mean     30.000000\n",
       "std      15.811388\n",
       "min      10.000000\n",
       "25%      20.000000\n",
       "50%      30.000000\n",
       "75%      40.000000\n",
       "max      50.000000\n",
       "dtype: float64"
      ]
     },
     "execution_count": 37,
     "metadata": {},
     "output_type": "execute_result"
    }
   ],
   "source": [
    "series.describe()"
   ]
  },
  {
   "cell_type": "code",
   "execution_count": 38,
   "id": "391a1ce4-a4a0-45ca-856b-46ea1177b733",
   "metadata": {},
   "outputs": [
    {
     "data": {
      "text/plain": [
       "150"
      ]
     },
     "execution_count": 38,
     "metadata": {},
     "output_type": "execute_result"
    }
   ],
   "source": [
    "series.sum()"
   ]
  },
  {
   "cell_type": "code",
   "execution_count": 39,
   "id": "9848483f-547a-42a9-b7a8-682eae36e2a6",
   "metadata": {},
   "outputs": [
    {
     "data": {
      "text/plain": [
       "30.0"
      ]
     },
     "execution_count": 39,
     "metadata": {},
     "output_type": "execute_result"
    }
   ],
   "source": [
    "series.mean()"
   ]
  },
  {
   "cell_type": "markdown",
   "id": "c42362a3-fc1c-4043-9e47-abc71c507c08",
   "metadata": {},
   "source": [
    "### Boolean masking\n",
    "\n",
    "Boolean masking in pandas Series allows you to filter and select elements based on a boolean condition. It involves using a boolean array or a Series of the same length as the original Series to specify which elements should be selected.\n",
    "\n",
    "Here's how boolean masking works in pandas Series:\n",
    "\n",
    "1. Creating a boolean condition:\n",
    "First, you create a boolean condition by applying a comparison or logical operation to the Series. This results in a boolean array or Series where each element corresponds to the outcome of the condition for the corresponding element in the original Series.\n",
    "\n",
    "```python\n",
    "import pandas as pd\n",
    "\n",
    "series = pd.Series([10, 20, 30, 40, 50])\n",
    "condition = series > 30\n",
    "```\n",
    "\n",
    "In the above example, the boolean condition `series > 30` checks if each element in the `series` Series is greater than 30. The resulting boolean condition is `[False, False, False, True, True]`.\n",
    "\n",
    "2. Applying the boolean mask:\n",
    "Next, you use the boolean condition to select the desired elements from the original Series. You can do this by passing the boolean condition inside square brackets `[]`.\n",
    "\n",
    "```python\n",
    "import pandas as pd\n",
    "\n",
    "series = pd.Series([10, 20, 30, 40, 50])\n",
    "condition = series > 30\n",
    "\n",
    "filtered_series = series[condition]\n",
    "print(filtered_series)\n",
    "```\n",
    "\n",
    "Output:\n",
    "```\n",
    "3    40\n",
    "4    50\n",
    "dtype: int64\n",
    "```\n",
    "\n",
    "In the above example, `series[condition]` applies the boolean mask to the `series` Series. It returns a new Series that contains only the elements for which the corresponding value in the boolean condition is `True`. In this case, it selects the elements at positions 3 and 4, which have values 40 and 50, respectively.\n",
    "\n",
    "You can also combine multiple conditions using logical operators such as `&` (and) and `|` (or) to create more complex boolean masks.\n",
    "\n",
    "```python\n",
    "import pandas as pd\n",
    "\n",
    "series = pd.Series([10, 20, 30, 40, 50])\n",
    "condition = (series > 20) & (series < 50)\n",
    "\n",
    "filtered_series = series[condition]\n",
    "print(filtered_series)\n",
    "```\n",
    "\n",
    "Output:\n",
    "```\n",
    "2    30\n",
    "3    40\n",
    "dtype: int64\n",
    "```\n",
    "\n",
    "In this example, the boolean condition `(series > 20) & (series < 50)` creates a mask that selects elements greater than 20 and less than 50. It returns a new Series containing the element at position 1, which has a value of 30.\n",
    "\n",
    "Boolean masking is a powerful technique for filtering and selecting specific elements in a pandas Series based on a condition. It allows you to perform various operations, such as filtering out outliers, selecting values within a certain range, or finding elements that meet specific criteria."
   ]
  },
  {
   "cell_type": "code",
   "execution_count": 49,
   "id": "9e719beb-f2bc-4db5-ba2f-9910f3ee9332",
   "metadata": {},
   "outputs": [
    {
     "data": {
      "text/plain": [
       "3    40\n",
       "4    50\n",
       "dtype: int64"
      ]
     },
     "execution_count": 49,
     "metadata": {},
     "output_type": "execute_result"
    }
   ],
   "source": [
    "import pandas as pd\n",
    "\n",
    "series = pd.Series([10, 20, 30, 40, 50])\n",
    "condition = series > 30\n",
    "\n",
    "series[condition]"
   ]
  },
  {
   "cell_type": "code",
   "execution_count": 50,
   "id": "8d39f23b-561e-4ce0-9f22-bce20c1b6b99",
   "metadata": {},
   "outputs": [
    {
     "data": {
      "text/plain": [
       "2    30\n",
       "3    40\n",
       "dtype: int64"
      ]
     },
     "execution_count": 50,
     "metadata": {},
     "output_type": "execute_result"
    }
   ],
   "source": [
    "series[(series > 20) & (series < 50)]"
   ]
  },
  {
   "cell_type": "markdown",
   "id": "260d3017-99d4-4d40-91e8-5b78f911fab7",
   "metadata": {},
   "source": [
    "### Deleting items from Series\n",
    "\n",
    "To delete an item from a pandas Series, you can use the `drop` method. The `drop` method allows you to remove one or more items from the Series by specifying their index labels.\n",
    "\n",
    "Here's how you can delete an item from a Series:\n",
    "\n",
    "```python\n",
    "import pandas as pd\n",
    "\n",
    "series = pd.Series([10, 20, 30, 40, 50], index=['A', 'B', 'C', 'D', 'E'])\n",
    "print(\"Original Series:\")\n",
    "print(series)\n",
    "\n",
    "# Delete an item by index label\n",
    "modified_series = series.drop('C')\n",
    "print(\"\\nModified Series:\")\n",
    "print(modified_series)\n",
    "```\n",
    "\n",
    "Output:\n",
    "```\n",
    "Original Series:\n",
    "A    10\n",
    "B    20\n",
    "C    30\n",
    "D    40\n",
    "E    50\n",
    "dtype: int64\n",
    "\n",
    "Modified Series:\n",
    "A    10\n",
    "B    20\n",
    "D    40\n",
    "E    50\n",
    "dtype: int64\n",
    "```\n",
    "\n",
    "In the above example, we have a Series `series` with index labels `'A'`, `'B'`, `'C'`, `'D'`, and `'E'`. We want to delete the item with index label `'C'`. We use the `drop` method and pass the index label `'C'` as an argument. The `drop` method returns a modified Series `modified_series` with the item at index label `'C'` removed.\n",
    "\n",
    "Note that the `drop` method returns a new Series with the item(s) removed and does not modify the original Series. If you want to modify the Series in place, you can pass the `inplace=True` parameter to the `drop` method.\n",
    "\n",
    "```python\n",
    "import pandas as pd\n",
    "\n",
    "series = pd.Series([10, 20, 30, 40, 50], index=['A', 'B', 'C', 'D', 'E'])\n",
    "print(\"Original Series:\")\n",
    "print(series)\n",
    "\n",
    "# Delete an item by index label (inplace)\n",
    "series.drop('C', inplace=True)\n",
    "print(\"\\nModified Series:\")\n",
    "print(series)\n",
    "```\n",
    "\n",
    "Output:\n",
    "```\n",
    "Original Series:\n",
    "A    10\n",
    "B    20\n",
    "C    30\n",
    "D    40\n",
    "E    50\n",
    "dtype: int64\n",
    "\n",
    "Modified Series:\n",
    "A    10\n",
    "B    20\n",
    "D    40\n",
    "E    50\n",
    "dtype: int64\n",
    "```\n",
    "\n",
    "In this example, the `drop` method is used with `inplace=True` to modify the original Series `series` by deleting the item with index label `'C'`.\n",
    "\n",
    "You can also delete multiple items from a Series by passing a list of index labels to the `drop` method.\n",
    "\n",
    "```python\n",
    "import pandas as pd\n",
    "\n",
    "series = pd.Series([10, 20, 30, 40, 50], index=['A', 'B', 'C', 'D', 'E'])\n",
    "print(\"Original Series:\")\n",
    "print(series)\n",
    "\n",
    "# Delete multiple items by index labels\n",
    "modified_series = series.drop(['B', 'D'])\n",
    "print(\"\\nModified Series:\")\n",
    "print(modified_series)\n",
    "```\n",
    "\n",
    "Output:\n",
    "```\n",
    "Original Series:\n",
    "A    10\n",
    "B    20\n",
    "C    30\n",
    "D    40\n",
    "E    50\n",
    "dtype: int64\n",
    "\n",
    "Modified Series:\n",
    "A    10\n",
    "C    30\n",
    "E    50\n",
    "dtype: int64\n",
    "```\n",
    "\n",
    "In this example, the `drop` method is used to delete multiple items with index labels `'B'` and `'D'` from the Series.\n",
    "\n",
    "By using the `drop` method, you can easily delete specific items from a pandas Series while preserving the integrity of the original data."
   ]
  },
  {
   "cell_type": "code",
   "execution_count": 58,
   "id": "3bbe5700-5c38-4373-98fb-8d55a3d75fac",
   "metadata": {},
   "outputs": [
    {
     "data": {
      "text/plain": [
       "A    10\n",
       "B    20\n",
       "C    30\n",
       "D    40\n",
       "E    50\n",
       "dtype: int64"
      ]
     },
     "execution_count": 58,
     "metadata": {},
     "output_type": "execute_result"
    }
   ],
   "source": [
    "import pandas as pd\n",
    "\n",
    "series = pd.Series([10, 20, 30, 40, 50], index=['A', 'B', 'C', 'D', 'E'])\n",
    "series"
   ]
  },
  {
   "cell_type": "code",
   "execution_count": 59,
   "id": "eae6314d-468c-403f-83dc-9c015a667134",
   "metadata": {},
   "outputs": [
    {
     "data": {
      "text/plain": [
       "A    10\n",
       "B    20\n",
       "D    40\n",
       "E    50\n",
       "dtype: int64"
      ]
     },
     "execution_count": 59,
     "metadata": {},
     "output_type": "execute_result"
    }
   ],
   "source": [
    "modified_series = series.drop('C')\n",
    "modified_series"
   ]
  },
  {
   "cell_type": "markdown",
   "id": "a739e1af-6a8c-4f1b-a5e9-b7a5eca6a232",
   "metadata": {},
   "source": [
    "> **Note that `drop` returns a new series with the deleted row if you don't specify `inplace=True` argument**"
   ]
  },
  {
   "cell_type": "code",
   "execution_count": 60,
   "id": "90fcef29-6b77-4b40-b948-9b806e9d58f5",
   "metadata": {},
   "outputs": [
    {
     "data": {
      "text/plain": [
       "A    10\n",
       "B    20\n",
       "C    30\n",
       "D    40\n",
       "E    50\n",
       "dtype: int64"
      ]
     },
     "execution_count": 60,
     "metadata": {},
     "output_type": "execute_result"
    }
   ],
   "source": [
    "series"
   ]
  },
  {
   "cell_type": "code",
   "execution_count": 61,
   "id": "84287447-2204-412f-bbba-8b26bcfbcad6",
   "metadata": {},
   "outputs": [
    {
     "data": {
      "text/plain": [
       "A    10\n",
       "B    20\n",
       "D    40\n",
       "E    50\n",
       "dtype: int64"
      ]
     },
     "execution_count": 61,
     "metadata": {},
     "output_type": "execute_result"
    }
   ],
   "source": [
    "series.drop('C', inplace=True)\n",
    "series"
   ]
  },
  {
   "cell_type": "code",
   "execution_count": 62,
   "id": "a0c6d936-608c-48c9-a3fc-e93c8a3f70d7",
   "metadata": {},
   "outputs": [
    {
     "name": "stdout",
     "output_type": "stream",
     "text": [
      "Original Series:\n",
      "A    10\n",
      "B    20\n",
      "C    30\n",
      "D    40\n",
      "E    50\n",
      "dtype: int64\n",
      "\n",
      "Modified Series:\n",
      "A    10\n",
      "C    30\n",
      "E    50\n",
      "dtype: int64\n"
     ]
    }
   ],
   "source": [
    "series = pd.Series([10, 20, 30, 40, 50], index=['A', 'B', 'C', 'D', 'E'])\n",
    "print(\"Original Series:\")\n",
    "print(series)\n",
    "\n",
    "modified_series = series.drop(['B', 'D'])\n",
    "print(\"\\nModified Series:\")\n",
    "print(modified_series)"
   ]
  }
 ],
 "metadata": {
  "kernelspec": {
   "display_name": "Python 3 (ipykernel)",
   "language": "python",
   "name": "python3"
  },
  "language_info": {
   "codemirror_mode": {
    "name": "ipython",
    "version": 3
   },
   "file_extension": ".py",
   "mimetype": "text/x-python",
   "name": "python",
   "nbconvert_exporter": "python",
   "pygments_lexer": "ipython3",
   "version": "3.11.4"
  }
 },
 "nbformat": 4,
 "nbformat_minor": 5
}
