{
 "cells": [
  {
   "cell_type": "markdown",
   "id": "9bef5f3b-a4e3-4baa-b27b-28b0d2b8152d",
   "metadata": {},
   "source": [
    "### Exercises\n",
    "\n",
    "Please be aware that within the data directory mentioned in this chapter, there exist multiple csv files. In the following questions, we will be making references to these files."
   ]
  },
  {
   "cell_type": "markdown",
   "id": "ea29c99e-602e-461e-bb71-9ce1fa5c9274",
   "metadata": {},
   "source": [
    "#### Question 1\n",
    "\n",
    "In this exercise, you will utilize the Titanic dataset, which contains information about passengers on board the Titanic, to analyze various factors that may have influenced survival rates.\n",
    "\n",
    "Tasks:\n",
    "1. Import the pandas library and load the `titanic.csv` file located in the `data` directory as a pandas DataFrame.\n",
    "\n",
    "2. Perform data exploration by answering the following questions:\n",
    "   - How many passengers are included in the dataset?\n",
    "   - What is the overall survival rate of passengers on the Titanic?\n",
    "   - How many males and females were aboard the Titanic?\n",
    "   - What was the average age of the passengers?\n",
    "   - Are there any missing values in the dataset? If so, how would you handle them?\n",
    "\n",
    "3. Analyze survival rates based on passenger characteristics:\n",
    "   - Calculate the survival rate based on gender. Which gender had a higher survival rate?\n",
    "   - Determine the survival rate based on passenger class. Did the class of the passenger affect their chances of survival?\n",
    "   - Investigate the relationship between age and survival. Did age play a role in determining survival rates?\n",
    "   - Explore the impact of having siblings/spouses or parents/children on survival rates."
   ]
  },
  {
   "cell_type": "markdown",
   "id": "20f7ac7c-bacc-4fef-8a64-478719972829",
   "metadata": {},
   "source": [
    "#### Question 2\n",
    "\n",
    "In this exercise, you will be working with a house price dataset that includes various features such as price, square footage, number of bedrooms and bathrooms, number of offers, brick presence, and neighborhood. Your goal is to perform exploratory data analysis on this dataset using pandas to gain insights about the housing market.\n",
    "\n",
    "Tasks:\n",
    "1. Import the pandas library and load the `house-price.csv` dataset into a pandas DataFrame.\n",
    "\n",
    "2. Perform data exploration by answering the following questions:\n",
    "   - How many houses are included in the dataset?\n",
    "   - What are the different features (columns) available in the dataset?\n",
    "   - Are there any missing values in the dataset? If so, how would you handle them?\n",
    "   - What is the range and distribution of house prices in the dataset?\n",
    "   - Are there any outliers in `Price` feature? How would you identify them?\n",
    "   - How many unique values of `Bathrooms` are there in dataset?\n",
    "   - How many unique values of `Bedrooms` are there in dataset?\n",
    "\n",
    "3. Analyze the relationship between house prices and different features:\n",
    "   - Examine the correlation between house prices and numerical features such as square footage, number of bedrooms, and bathrooms.\n",
    "   - Investigate how the presence of a brick exterior (Brick) affects house prices.\n",
    "   - Determine if there is a relationship between the number of offers received (Offers) and the final house price.\n",
    "\n",
    "6. Draw conclusions:\n",
    "   a. Summarize the main factors that influence house prices based on the analysis.\n",
    "   b. Provide insights on any patterns, trends, or interesting observations discovered during the analysis."
   ]
  },
  {
   "cell_type": "markdown",
   "id": "8076cb0d-0a5e-4f24-a83a-f28bc21308bb",
   "metadata": {},
   "source": [
    "#### Question 3\n",
    "\n",
    "You are working with the Titanic dataset in pandas, and you want to analyze the distribution of a specific categorical feature called `Embarked` You have a pandas Series object that contains the port of embarkation data for each passenger. To explore the distribution of embarkation ports, there is a useful method in pandas called `value_counts()`.\n",
    "\n",
    "Your task is to independently learn how to use the `value_counts()` method on a pandas Series and apply it to the Titanic dataset to obtain the count of passengers for each embarkation port.\n",
    "\n",
    "Using external resources such as Google or the pandas documentation, explain how you would use the `value_counts()` method and provide the code that demonstrates its usage on the given Series containing embarkation port data.\n",
    "\n",
    "Once you have successfully completed this task, reflect on the results obtained from `value_counts()` and discuss any observations or insights you gained about the distribution of embarkation ports in the Titanic dataset."
   ]
  }
 ],
 "metadata": {
  "kernelspec": {
   "display_name": "Python 3 (ipykernel)",
   "language": "python",
   "name": "python3"
  },
  "language_info": {
   "codemirror_mode": {
    "name": "ipython",
    "version": 3
   },
   "file_extension": ".py",
   "mimetype": "text/x-python",
   "name": "python",
   "nbconvert_exporter": "python",
   "pygments_lexer": "ipython3",
   "version": "3.11.4"
  }
 },
 "nbformat": 4,
 "nbformat_minor": 5
}
