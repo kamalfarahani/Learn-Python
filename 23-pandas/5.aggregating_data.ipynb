{
 "cells": [
  {
   "cell_type": "markdown",
   "id": "8f5a594a-3565-4a1d-a6be-b4ea8309c8b5",
   "metadata": {},
   "source": [
    "## Aggregating Data\n",
    "\n",
    "Aggregation methods in pandas are designed to consolidate the values of a series into a single scalar. These consolidated metrics are the ones that matter to your manager and should be reported. Imagine working at a clothing store and your manager walks in, asking about the store's performance. It wouldn't be appropriate to respond with, \"Sarah bought a dress and a pair of shoes. John purchased a shirt and a hat. Lisa bought...\".\n",
    "\n",
    "Your manager isn't interested in such detailed information. What they really want to know is:\n",
    "\n",
    "- The total number of customers who visited the store (count)\n",
    "- The overall quantity of clothing items sold (count)\n",
    "- The total revenue generated (sum)\n",
    "- The distribution of customer visits throughout the day (skew)\n",
    "- The average transaction amount (mean)\n",
    "\n",
    "Aggregations enable you to condense intricate data into a single, meaningful metric.\n",
    "\n",
    "Here's a list of common aggregation methods in pandas along with explanations and examples:\n",
    "\n",
    "1. **`count`**: Counts the number of non-null values in a column or series.\n",
    "   ```python\n",
    "   df['column_name'].count()\n",
    "   ```\n",
    "\n",
    "2. **`sum`**: Calculates the sum of values in a column or series.\n",
    "   ```python\n",
    "   df['column_name'].sum()\n",
    "   ```\n",
    "\n",
    "3. **`mean`**: Computes the average of values in a column or series.\n",
    "   ```python\n",
    "   df['column_name'].mean()\n",
    "   ```\n",
    "\n",
    "4. **`median`**: Determines the middle value in a sorted column or series.\n",
    "   ```python\n",
    "   df['column_name'].median()\n",
    "   ```\n",
    "\n",
    "5. **`min`**: Finds the minimum value in a column or series.\n",
    "   ```python\n",
    "   df['column_name'].min()\n",
    "   ```\n",
    "\n",
    "6. **`max`**: Finds the maximum value in a column or series.\n",
    "   ```python\n",
    "   df['column_name'].max()\n",
    "   ```\n",
    "\n",
    "7. **`std`**: Calculates the standard deviation of values in a column or series.\n",
    "   ```python\n",
    "   df['column_name'].std()\n",
    "   ```\n",
    "\n",
    "8. **`var`**: Computes the variance of values in a column or series.\n",
    "   ```python\n",
    "   df['column_name'].var()\n",
    "   ```\n",
    "\n",
    "9. **`unique`**: Returns an array of unique values in a column or series.\n",
    "   ```python\n",
    "   df['column_name'].unique()\n",
    "   ```\n",
    "\n",
    "10. **`nunique`**: Counts the number of unique values in a column or series.\n",
    "    ```python\n",
    "    df['column_name'].nunique()\n",
    "    ```\n",
    "\n",
    "These are just a few examples of aggregation methods in pandas. The specific method you use will depend on the type of analysis you want to perform on your data."
   ]
  },
  {
   "cell_type": "markdown",
   "id": "0f042bb9-b55c-4b19-80ba-5158d7bae795",
   "metadata": {},
   "source": [
    "### `count` method\n",
    "\n",
    "In pandas, the `count` function can be used both for Series and DataFrame objects. The behavior of `count` is slightly different depending on whether it is applied to a Series or a DataFrame.\n",
    "\n",
    "1. **Series**:\n",
    "   When `count` is applied to a Series, it returns the number of non-null values in that Series.\n",
    "\n",
    "   Here's an example:\n",
    "\n",
    "   ```python\n",
    "   import pandas as pd\n",
    "   \n",
    "   # Create a sample Series with some missing values\n",
    "   data = pd.Series([10, 20, None, 30, None])\n",
    "   \n",
    "   # Count non-null values in the Series\n",
    "   count = data.count()\n",
    "   \n",
    "   # Display the result\n",
    "   print(count)\n",
    "   ```\n",
    "\n",
    "   Output:\n",
    "   ```\n",
    "   3\n",
    "   ```\n",
    "\n",
    "   In this example, the Series contains five elements, including two missing values represented as `None`. The `count` function returns the count of non-null values, which is 3 in this case.\n",
    "\n",
    "2. **DataFrame**:\n",
    "   When `count` is applied to a DataFrame, it returns a Series that contains the count of non-null values for each column.\n",
    "\n",
    "   Here's an example:\n",
    "\n",
    "   ```python\n",
    "   import pandas as pd\n",
    "   \n",
    "   # Create a sample DataFrame with missing values\n",
    "   data = {'Name': ['John', 'Alice', None, 'Jane', 'Max'],\n",
    "           'Age': [25, 22, None, 30, None],\n",
    "           'City': ['New York', 'Paris', 'London', None, None]}\n",
    "   df = pd.DataFrame(data)\n",
    "   \n",
    "   # Count non-null values in each column of the DataFrame\n",
    "   counts = df.count()\n",
    "   \n",
    "   # Display the result\n",
    "   print(counts)\n",
    "   ```\n",
    "\n",
    "   Output:\n",
    "   ```\n",
    "   Name    4\n",
    "   Age     3\n",
    "   City    3\n",
    "   dtype: int64\n",
    "   ```\n",
    "\n",
    "   In this example, the DataFrame has three columns: 'Name', 'Age', and 'City'. Each column contains some missing values represented as `None`. The `count` function returns a Series where each index corresponds to a column name, and the value represents the count of non-null values for that column. For example, the 'Name' column has 3 non-null values, the 'Age' column has 4 non-null values, and the 'City' column has 3 non-null values.\n",
    "\n",
    "   Note that the `count` function excludes missing values from the count. If a Series or DataFrame column contains missing values, such as `None` or `NaN`, they are not considered in the count."
   ]
  },
  {
   "cell_type": "code",
   "execution_count": 7,
   "id": "dc3befca-bbe4-4e14-8062-4acb23d4e6dc",
   "metadata": {},
   "outputs": [
    {
     "name": "stdout",
     "output_type": "stream",
     "text": [
      "3\n"
     ]
    }
   ],
   "source": [
    "import pandas as pd\n",
    "\n",
    "data = pd.Series([10, 20, None, 30, None])\n",
    "count = data.count()\n",
    "print(count)"
   ]
  },
  {
   "cell_type": "code",
   "execution_count": 8,
   "id": "e4900d17-491d-4166-b046-495169b9b508",
   "metadata": {},
   "outputs": [
    {
     "data": {
      "text/plain": [
       "Name    4\n",
       "Age     3\n",
       "City    3\n",
       "dtype: int64"
      ]
     },
     "execution_count": 8,
     "metadata": {},
     "output_type": "execute_result"
    }
   ],
   "source": [
    "data = {'Name': ['John', 'Alice', None, 'Jane', 'Max'],\n",
    "        'Age': [25, 22, None, 30, None],\n",
    "        'City': ['New York', 'Paris', 'London', None, None]}\n",
    "\n",
    "df = pd.DataFrame(data)\n",
    "df.count()"
   ]
  },
  {
   "cell_type": "code",
   "execution_count": 9,
   "id": "bed0f855-b969-425b-aff2-16dc7c0075af",
   "metadata": {},
   "outputs": [
    {
     "data": {
      "text/html": [
       "<div>\n",
       "<style scoped>\n",
       "    .dataframe tbody tr th:only-of-type {\n",
       "        vertical-align: middle;\n",
       "    }\n",
       "\n",
       "    .dataframe tbody tr th {\n",
       "        vertical-align: top;\n",
       "    }\n",
       "\n",
       "    .dataframe thead th {\n",
       "        text-align: right;\n",
       "    }\n",
       "</style>\n",
       "<table border=\"1\" class=\"dataframe\">\n",
       "  <thead>\n",
       "    <tr style=\"text-align: right;\">\n",
       "      <th></th>\n",
       "      <th>PassengerId</th>\n",
       "      <th>Survived</th>\n",
       "      <th>Pclass</th>\n",
       "      <th>Name</th>\n",
       "      <th>Sex</th>\n",
       "      <th>Age</th>\n",
       "      <th>SibSp</th>\n",
       "      <th>Parch</th>\n",
       "      <th>Ticket</th>\n",
       "      <th>Fare</th>\n",
       "      <th>Cabin</th>\n",
       "      <th>Embarked</th>\n",
       "    </tr>\n",
       "  </thead>\n",
       "  <tbody>\n",
       "    <tr>\n",
       "      <th>0</th>\n",
       "      <td>1</td>\n",
       "      <td>0</td>\n",
       "      <td>3</td>\n",
       "      <td>Braund, Mr. Owen Harris</td>\n",
       "      <td>male</td>\n",
       "      <td>22.0</td>\n",
       "      <td>1</td>\n",
       "      <td>0</td>\n",
       "      <td>A/5 21171</td>\n",
       "      <td>7.2500</td>\n",
       "      <td>NaN</td>\n",
       "      <td>S</td>\n",
       "    </tr>\n",
       "    <tr>\n",
       "      <th>1</th>\n",
       "      <td>2</td>\n",
       "      <td>1</td>\n",
       "      <td>1</td>\n",
       "      <td>Cumings, Mrs. John Bradley (Florence Briggs Th...</td>\n",
       "      <td>female</td>\n",
       "      <td>38.0</td>\n",
       "      <td>1</td>\n",
       "      <td>0</td>\n",
       "      <td>PC 17599</td>\n",
       "      <td>71.2833</td>\n",
       "      <td>C85</td>\n",
       "      <td>C</td>\n",
       "    </tr>\n",
       "    <tr>\n",
       "      <th>2</th>\n",
       "      <td>3</td>\n",
       "      <td>1</td>\n",
       "      <td>3</td>\n",
       "      <td>Heikkinen, Miss. Laina</td>\n",
       "      <td>female</td>\n",
       "      <td>26.0</td>\n",
       "      <td>0</td>\n",
       "      <td>0</td>\n",
       "      <td>STON/O2. 3101282</td>\n",
       "      <td>7.9250</td>\n",
       "      <td>NaN</td>\n",
       "      <td>S</td>\n",
       "    </tr>\n",
       "    <tr>\n",
       "      <th>3</th>\n",
       "      <td>4</td>\n",
       "      <td>1</td>\n",
       "      <td>1</td>\n",
       "      <td>Futrelle, Mrs. Jacques Heath (Lily May Peel)</td>\n",
       "      <td>female</td>\n",
       "      <td>35.0</td>\n",
       "      <td>1</td>\n",
       "      <td>0</td>\n",
       "      <td>113803</td>\n",
       "      <td>53.1000</td>\n",
       "      <td>C123</td>\n",
       "      <td>S</td>\n",
       "    </tr>\n",
       "    <tr>\n",
       "      <th>4</th>\n",
       "      <td>5</td>\n",
       "      <td>0</td>\n",
       "      <td>3</td>\n",
       "      <td>Allen, Mr. William Henry</td>\n",
       "      <td>male</td>\n",
       "      <td>35.0</td>\n",
       "      <td>0</td>\n",
       "      <td>0</td>\n",
       "      <td>373450</td>\n",
       "      <td>8.0500</td>\n",
       "      <td>NaN</td>\n",
       "      <td>S</td>\n",
       "    </tr>\n",
       "    <tr>\n",
       "      <th>...</th>\n",
       "      <td>...</td>\n",
       "      <td>...</td>\n",
       "      <td>...</td>\n",
       "      <td>...</td>\n",
       "      <td>...</td>\n",
       "      <td>...</td>\n",
       "      <td>...</td>\n",
       "      <td>...</td>\n",
       "      <td>...</td>\n",
       "      <td>...</td>\n",
       "      <td>...</td>\n",
       "      <td>...</td>\n",
       "    </tr>\n",
       "    <tr>\n",
       "      <th>886</th>\n",
       "      <td>887</td>\n",
       "      <td>0</td>\n",
       "      <td>2</td>\n",
       "      <td>Montvila, Rev. Juozas</td>\n",
       "      <td>male</td>\n",
       "      <td>27.0</td>\n",
       "      <td>0</td>\n",
       "      <td>0</td>\n",
       "      <td>211536</td>\n",
       "      <td>13.0000</td>\n",
       "      <td>NaN</td>\n",
       "      <td>S</td>\n",
       "    </tr>\n",
       "    <tr>\n",
       "      <th>887</th>\n",
       "      <td>888</td>\n",
       "      <td>1</td>\n",
       "      <td>1</td>\n",
       "      <td>Graham, Miss. Margaret Edith</td>\n",
       "      <td>female</td>\n",
       "      <td>19.0</td>\n",
       "      <td>0</td>\n",
       "      <td>0</td>\n",
       "      <td>112053</td>\n",
       "      <td>30.0000</td>\n",
       "      <td>B42</td>\n",
       "      <td>S</td>\n",
       "    </tr>\n",
       "    <tr>\n",
       "      <th>888</th>\n",
       "      <td>889</td>\n",
       "      <td>0</td>\n",
       "      <td>3</td>\n",
       "      <td>Johnston, Miss. Catherine Helen \"Carrie\"</td>\n",
       "      <td>female</td>\n",
       "      <td>NaN</td>\n",
       "      <td>1</td>\n",
       "      <td>2</td>\n",
       "      <td>W./C. 6607</td>\n",
       "      <td>23.4500</td>\n",
       "      <td>NaN</td>\n",
       "      <td>S</td>\n",
       "    </tr>\n",
       "    <tr>\n",
       "      <th>889</th>\n",
       "      <td>890</td>\n",
       "      <td>1</td>\n",
       "      <td>1</td>\n",
       "      <td>Behr, Mr. Karl Howell</td>\n",
       "      <td>male</td>\n",
       "      <td>26.0</td>\n",
       "      <td>0</td>\n",
       "      <td>0</td>\n",
       "      <td>111369</td>\n",
       "      <td>30.0000</td>\n",
       "      <td>C148</td>\n",
       "      <td>C</td>\n",
       "    </tr>\n",
       "    <tr>\n",
       "      <th>890</th>\n",
       "      <td>891</td>\n",
       "      <td>0</td>\n",
       "      <td>3</td>\n",
       "      <td>Dooley, Mr. Patrick</td>\n",
       "      <td>male</td>\n",
       "      <td>32.0</td>\n",
       "      <td>0</td>\n",
       "      <td>0</td>\n",
       "      <td>370376</td>\n",
       "      <td>7.7500</td>\n",
       "      <td>NaN</td>\n",
       "      <td>Q</td>\n",
       "    </tr>\n",
       "  </tbody>\n",
       "</table>\n",
       "<p>891 rows × 12 columns</p>\n",
       "</div>"
      ],
      "text/plain": [
       "     PassengerId  Survived  Pclass  \\\n",
       "0              1         0       3   \n",
       "1              2         1       1   \n",
       "2              3         1       3   \n",
       "3              4         1       1   \n",
       "4              5         0       3   \n",
       "..           ...       ...     ...   \n",
       "886          887         0       2   \n",
       "887          888         1       1   \n",
       "888          889         0       3   \n",
       "889          890         1       1   \n",
       "890          891         0       3   \n",
       "\n",
       "                                                  Name     Sex   Age  SibSp  \\\n",
       "0                              Braund, Mr. Owen Harris    male  22.0      1   \n",
       "1    Cumings, Mrs. John Bradley (Florence Briggs Th...  female  38.0      1   \n",
       "2                               Heikkinen, Miss. Laina  female  26.0      0   \n",
       "3         Futrelle, Mrs. Jacques Heath (Lily May Peel)  female  35.0      1   \n",
       "4                             Allen, Mr. William Henry    male  35.0      0   \n",
       "..                                                 ...     ...   ...    ...   \n",
       "886                              Montvila, Rev. Juozas    male  27.0      0   \n",
       "887                       Graham, Miss. Margaret Edith  female  19.0      0   \n",
       "888           Johnston, Miss. Catherine Helen \"Carrie\"  female   NaN      1   \n",
       "889                              Behr, Mr. Karl Howell    male  26.0      0   \n",
       "890                                Dooley, Mr. Patrick    male  32.0      0   \n",
       "\n",
       "     Parch            Ticket     Fare Cabin Embarked  \n",
       "0        0         A/5 21171   7.2500   NaN        S  \n",
       "1        0          PC 17599  71.2833   C85        C  \n",
       "2        0  STON/O2. 3101282   7.9250   NaN        S  \n",
       "3        0            113803  53.1000  C123        S  \n",
       "4        0            373450   8.0500   NaN        S  \n",
       "..     ...               ...      ...   ...      ...  \n",
       "886      0            211536  13.0000   NaN        S  \n",
       "887      0            112053  30.0000   B42        S  \n",
       "888      2        W./C. 6607  23.4500   NaN        S  \n",
       "889      0            111369  30.0000  C148        C  \n",
       "890      0            370376   7.7500   NaN        Q  \n",
       "\n",
       "[891 rows x 12 columns]"
      ]
     },
     "execution_count": 9,
     "metadata": {},
     "output_type": "execute_result"
    }
   ],
   "source": [
    "import pandas as pd\n",
    "\n",
    "df = pd.read_csv('./data/titanic.csv')\n",
    "df"
   ]
  },
  {
   "cell_type": "code",
   "execution_count": 10,
   "id": "0b6a6017-67ca-4238-87ef-13f8ce56f4aa",
   "metadata": {},
   "outputs": [
    {
     "data": {
      "text/plain": [
       "891"
      ]
     },
     "execution_count": 10,
     "metadata": {},
     "output_type": "execute_result"
    }
   ],
   "source": [
    "df['Survived'].count()"
   ]
  },
  {
   "cell_type": "code",
   "execution_count": 11,
   "id": "b8ea75b2-058e-4131-a386-0cb0401c7005",
   "metadata": {},
   "outputs": [
    {
     "data": {
      "text/plain": [
       "891"
      ]
     },
     "execution_count": 11,
     "metadata": {},
     "output_type": "execute_result"
    }
   ],
   "source": [
    "df['Name'].count()"
   ]
  },
  {
   "cell_type": "code",
   "execution_count": 12,
   "id": "fead63a6-b11c-49ff-88c7-b9192a8e67c2",
   "metadata": {},
   "outputs": [
    {
     "data": {
      "text/plain": [
       "PassengerId    891\n",
       "Survived       891\n",
       "Pclass         891\n",
       "Name           891\n",
       "Sex            891\n",
       "Age            714\n",
       "SibSp          891\n",
       "Parch          891\n",
       "Ticket         891\n",
       "Fare           891\n",
       "Cabin          204\n",
       "Embarked       889\n",
       "dtype: int64"
      ]
     },
     "execution_count": 12,
     "metadata": {},
     "output_type": "execute_result"
    }
   ],
   "source": [
    "df.count()"
   ]
  },
  {
   "cell_type": "markdown",
   "id": "013e2a04-75bf-46fa-8267-6777d5cd1365",
   "metadata": {},
   "source": [
    "### `sum` method\n",
    "\n",
    "In pandas, the `sum` method is used to calculate the sum of values in a Series or DataFrame along a specified axis. The behavior of the `sum` method differs slightly between Series and DataFrames.\n",
    "\n",
    "1. **Series**:\n",
    "- If the Series contains numeric values, `sum` returns the sum of all the values in the Series.\n",
    "- If the Series contains non-numeric values, `sum` will attempt to convert them to numeric values before calculating the sum. If the conversion is not possible, a `TypeError` will be raised.\n",
    "\n",
    "Here's an example of using `sum` with a Series:\n",
    "\n",
    "``` python\n",
    "import pandas as pd\n",
    "\n",
    "data = pd.Series([1, 2, 3, 4, 5])\n",
    "total = data.sum()\n",
    "\n",
    "print(total)  # Output: 15\n",
    "```\n",
    "\n",
    "2. **DataFrame**:\n",
    "- By default, if you apply `sum` to a DataFrame, it will return the sum of each column as a Series, with the column labels as the index.\n",
    "- You can specify the axis parameter to calculate the sum along the rows (axis=0) or columns (axis=1).\n",
    "\n",
    "Here's an example of using `sum` with a DataFrame:\n",
    "\n",
    "``` python\n",
    "import pandas as pd\n",
    "\n",
    "data = pd.DataFrame({'A': [1, 2, 3], 'B': [4, 5, 6], 'C': [7, 8, 9]})\n",
    "column_sums = data.sum()\n",
    "\n",
    "print(column_sums)\n",
    "```\n",
    "\n",
    "Output:\n",
    "```\n",
    "A     6\n",
    "B    15\n",
    "C    24\n",
    "dtype: int64\n",
    "```\n",
    "\n",
    "In the example above, `sum` calculates the sum of each column in the DataFrame, returning a Series with the column labels as the index.\n",
    "\n",
    "You can also use the axis parameter to calculate the row sums:\n",
    "\n",
    "``` python\n",
    "row_sums = data.sum(axis=1)\n",
    "print(row_sums)\n",
    "```\n",
    "\n",
    "Output:\n",
    "```\n",
    "0    12\n",
    "1    15\n",
    "2    18\n",
    "dtype: int64\n",
    "```\n",
    "\n",
    "In this case, `sum` calculates the sum of each row in the DataFrame, returning a Series with the row indices as the index."
   ]
  },
  {
   "cell_type": "code",
   "execution_count": 15,
   "id": "74a5c9c9-22a4-4cb9-a59c-7a42ecdd6b50",
   "metadata": {},
   "outputs": [
    {
     "name": "stdout",
     "output_type": "stream",
     "text": [
      "15\n"
     ]
    }
   ],
   "source": [
    "import pandas as pd\n",
    "\n",
    "data = pd.Series([1, 2, 3, 4, 5])\n",
    "total = data.sum()\n",
    "\n",
    "print(total)"
   ]
  },
  {
   "cell_type": "code",
   "execution_count": 16,
   "id": "bfee7d14-3ee7-4cc2-abf5-4df877abdaa7",
   "metadata": {},
   "outputs": [
    {
     "data": {
      "text/html": [
       "<div>\n",
       "<style scoped>\n",
       "    .dataframe tbody tr th:only-of-type {\n",
       "        vertical-align: middle;\n",
       "    }\n",
       "\n",
       "    .dataframe tbody tr th {\n",
       "        vertical-align: top;\n",
       "    }\n",
       "\n",
       "    .dataframe thead th {\n",
       "        text-align: right;\n",
       "    }\n",
       "</style>\n",
       "<table border=\"1\" class=\"dataframe\">\n",
       "  <thead>\n",
       "    <tr style=\"text-align: right;\">\n",
       "      <th></th>\n",
       "      <th>A</th>\n",
       "      <th>B</th>\n",
       "      <th>C</th>\n",
       "    </tr>\n",
       "  </thead>\n",
       "  <tbody>\n",
       "    <tr>\n",
       "      <th>0</th>\n",
       "      <td>1</td>\n",
       "      <td>4</td>\n",
       "      <td>7</td>\n",
       "    </tr>\n",
       "    <tr>\n",
       "      <th>1</th>\n",
       "      <td>2</td>\n",
       "      <td>5</td>\n",
       "      <td>8</td>\n",
       "    </tr>\n",
       "    <tr>\n",
       "      <th>2</th>\n",
       "      <td>3</td>\n",
       "      <td>6</td>\n",
       "      <td>9</td>\n",
       "    </tr>\n",
       "  </tbody>\n",
       "</table>\n",
       "</div>"
      ],
      "text/plain": [
       "   A  B  C\n",
       "0  1  4  7\n",
       "1  2  5  8\n",
       "2  3  6  9"
      ]
     },
     "execution_count": 16,
     "metadata": {},
     "output_type": "execute_result"
    }
   ],
   "source": [
    "df = pd.DataFrame({'A': [1, 2, 3], 'B': [4, 5, 6], 'C': [7, 8, 9]})\n",
    "df"
   ]
  },
  {
   "cell_type": "code",
   "execution_count": 17,
   "id": "5f3ecb3e-58a9-46f5-a642-e459de316206",
   "metadata": {},
   "outputs": [
    {
     "data": {
      "text/plain": [
       "A     6\n",
       "B    15\n",
       "C    24\n",
       "dtype: int64"
      ]
     },
     "execution_count": 17,
     "metadata": {},
     "output_type": "execute_result"
    }
   ],
   "source": [
    "df.sum()"
   ]
  },
  {
   "cell_type": "code",
   "execution_count": 18,
   "id": "c2c952cf-d367-47e0-ae8c-fd1d3574df9b",
   "metadata": {},
   "outputs": [
    {
     "data": {
      "text/plain": [
       "0    12\n",
       "1    15\n",
       "2    18\n",
       "dtype: int64"
      ]
     },
     "execution_count": 18,
     "metadata": {},
     "output_type": "execute_result"
    }
   ],
   "source": [
    "df.sum(axis=1)"
   ]
  },
  {
   "cell_type": "markdown",
   "id": "a0022416-5945-49b6-8af0-8f563221a1e1",
   "metadata": {},
   "source": [
    "### `mean` method\n",
    "\n",
    "The `mean` method is used to calculate the average or mean value of a Series or DataFrame along a specified axis. The behavior of the `mean` method differs slightly between Series and DataFrames.\n",
    "\n",
    "1. **Series**:\n",
    "- If the Series contains numeric values, `mean` returns the average of all the values in the Series.\n",
    "- If the Series contains non-numeric values, `mean` will attempt to convert them to numeric values before calculating the mean. If the conversion is not possible, a `TypeError` will be raised.\n",
    "\n",
    "Here's an example of using `mean` with a Series:\n",
    "\n",
    "``` python\n",
    "import pandas as pd\n",
    "\n",
    "data = pd.Series([1, 2, 3, 4, 5])\n",
    "average = data.mean()\n",
    "\n",
    "print(average)  # Output: 3.0\n",
    "```\n",
    "\n",
    "2. **DataFrame**:\n",
    "- By default, if you apply `mean` to a DataFrame, it will return the mean value for each column as a Series, with the column labels as the index.\n",
    "- You can specify the axis parameter to calculate the mean along the rows (axis=0) or columns (axis=1).\n",
    "\n",
    "Here's an example of using `mean` with a DataFrame:\n",
    "\n",
    "``` python\n",
    "import pandas as pd\n",
    "\n",
    "data = pd.DataFrame({'A': [1, 2, 3], 'B': [4, 5, 6], 'C': [7, 8, 9]})\n",
    "column_means = data.mean()\n",
    "\n",
    "print(column_means)\n",
    "```\n",
    "\n",
    "Output:\n",
    "```\n",
    "A    2.0\n",
    "B    5.0\n",
    "C    8.0\n",
    "dtype: float64\n",
    "```\n",
    "\n",
    "In the example above, `mean` calculates the mean value of each column in the DataFrame, returning a Series with the column labels as the index.\n",
    "\n",
    "You can also use the axis parameter to calculate the row means:\n",
    "\n",
    "``` python\n",
    "row_means = data.mean(axis=1)\n",
    "print(row_means)\n",
    "```\n",
    "\n",
    "Output:\n",
    "```\n",
    "0    4.0\n",
    "1    5.0\n",
    "2    6.0\n",
    "dtype: float64\n",
    "```\n",
    "\n",
    "In this case, `mean` calculates the mean value of each row in the DataFrame, returning a Series with the row indices as the index."
   ]
  },
  {
   "cell_type": "code",
   "execution_count": 23,
   "id": "15fccd97-e415-475c-8eb5-3edb92490f5f",
   "metadata": {},
   "outputs": [
    {
     "name": "stdout",
     "output_type": "stream",
     "text": [
      "3.0\n"
     ]
    }
   ],
   "source": [
    "import pandas as pd\n",
    "\n",
    "data = pd.Series([1, 2, 3, 4, 5])\n",
    "average = data.mean()\n",
    "\n",
    "print(average)"
   ]
  },
  {
   "cell_type": "code",
   "execution_count": 24,
   "id": "89c19d10-1792-4325-ac2e-6548584e23e7",
   "metadata": {},
   "outputs": [
    {
     "data": {
      "text/plain": [
       "A    2.0\n",
       "B    5.0\n",
       "C    8.0\n",
       "dtype: float64"
      ]
     },
     "execution_count": 24,
     "metadata": {},
     "output_type": "execute_result"
    }
   ],
   "source": [
    "df = pd.DataFrame({'A': [1, 2, 3], 'B': [4, 5, 6], 'C': [7, 8, 9]})\n",
    "df.mean()"
   ]
  },
  {
   "cell_type": "code",
   "execution_count": 25,
   "id": "721ca66c-69c2-434f-b04f-0e9d4bf777e7",
   "metadata": {},
   "outputs": [
    {
     "data": {
      "text/plain": [
       "0    4.0\n",
       "1    5.0\n",
       "2    6.0\n",
       "dtype: float64"
      ]
     },
     "execution_count": 25,
     "metadata": {},
     "output_type": "execute_result"
    }
   ],
   "source": [
    "df.mean(axis=1)"
   ]
  },
  {
   "cell_type": "markdown",
   "id": "73047642-8a2b-4269-a36d-cf382bc76020",
   "metadata": {},
   "source": [
    "### `median` method\n",
    "\n",
    "The median method is used to calculate the median value of a series or a column in a DataFrame. The median is a statistical measure that represents the middle value of a dataset when it is sorted in ascending or descending order. \n",
    "\n",
    "1. **Series**:\n",
    "When applied to a series, the median method returns the median value of the elements in that series. For example:\n",
    "\n",
    "```python\n",
    "import pandas as pd\n",
    "\n",
    "data = pd.Series([1, 2, 3, 4, 5])\n",
    "median_value = data.median()\n",
    "print(median_value)\n",
    "```\n",
    "Output:\n",
    "```\n",
    "3.0\n",
    "```\n",
    "\n",
    "In this case, the median of the series `[1, 2, 3, 4, 5]` is 3.0.\n",
    "\n",
    "2. **DataFrame**:\n",
    "When applied to a DataFrame, the median method calculates the median value for each column by default. By default, it operates vertically (i.e., along the columns). For example:\n",
    "\n",
    "```python\n",
    "import pandas as pd\n",
    "\n",
    "data = pd.DataFrame({'A': [1, 2, 3, 4, 5], 'B': [6, 7, 8, 9, 10]})\n",
    "median_values = data.median()\n",
    "print(median_values)\n",
    "```\n",
    "Output:\n",
    "```\n",
    "A    3.0\n",
    "B    8.0\n",
    "dtype: float64\n",
    "```\n",
    "\n",
    "In this case, the median of column 'A' is 3.0, and the median of column 'B' is 8.0.\n",
    "\n",
    "You can also calculate the median along a different axis by specifying the `axis` parameter. For example, setting `axis=1` will calculate the median for each row. \n",
    "\n",
    "```python\n",
    "import pandas as pd\n",
    "\n",
    "data = pd.DataFrame({'A': [1, 2, 3, 4, 5], 'B': [6, 7, 8, 9, 10]})\n",
    "median_values = data.median(axis=1)\n",
    "print(median_values)\n",
    "```\n",
    "Output:\n",
    "```\n",
    "0     3.5\n",
    "1     4.5\n",
    "2     5.5\n",
    "3     6.5\n",
    "4     7.5\n",
    "dtype: float64\n",
    "```\n",
    "\n",
    "In this case, the median of the first row is 3.5, the median of the second row is 4.5, and so on.\n",
    "\n",
    "The median method is useful for calculating the central tendency of a dataset and can be particularly helpful in identifying the typical or middle value in a distribution, especially when dealing with skewed or non-normal datasets."
   ]
  },
  {
   "cell_type": "code",
   "execution_count": 26,
   "id": "d558fc01-f7a3-434b-b42f-d00d75dd8bb3",
   "metadata": {},
   "outputs": [
    {
     "name": "stdout",
     "output_type": "stream",
     "text": [
      "3.0\n"
     ]
    }
   ],
   "source": [
    "import pandas as pd\n",
    "\n",
    "data = pd.Series([1, 2, 3, 4, 5])\n",
    "median_value = data.median()\n",
    "print(median_value)"
   ]
  },
  {
   "cell_type": "code",
   "execution_count": 27,
   "id": "a1d9b0ea-8721-4948-895d-1b379f9ddb5d",
   "metadata": {},
   "outputs": [
    {
     "data": {
      "text/plain": [
       "A    3.0\n",
       "B    8.0\n",
       "dtype: float64"
      ]
     },
     "execution_count": 27,
     "metadata": {},
     "output_type": "execute_result"
    }
   ],
   "source": [
    "df = pd.DataFrame({'A': [1, 2, 3, 4, 5], 'B': [6, 7, 8, 9, 10]})\n",
    "df.median()"
   ]
  },
  {
   "cell_type": "code",
   "execution_count": 28,
   "id": "334c555e-f7ef-4a1c-b120-517f0f2aa344",
   "metadata": {},
   "outputs": [
    {
     "data": {
      "text/plain": [
       "0    3.5\n",
       "1    4.5\n",
       "2    5.5\n",
       "3    6.5\n",
       "4    7.5\n",
       "dtype: float64"
      ]
     },
     "execution_count": 28,
     "metadata": {},
     "output_type": "execute_result"
    }
   ],
   "source": [
    "df.median(axis=1)"
   ]
  },
  {
   "cell_type": "markdown",
   "id": "d07706a1-5927-4e9c-933e-027c3e536b98",
   "metadata": {},
   "source": [
    "### `min` and `max` methods\n",
    "\n",
    "The `min` and `max` methods are used to compute the minimum and maximum values, respectively, in a Pandas Series or DataFrame. Here's an explanation of their usage with examples:\n",
    "\n",
    "1. **Series**:\n",
    "    - The `min` method returns the minimum value in a Series.\n",
    "    \n",
    "    ```python\n",
    "    import pandas as pd\n",
    "    \n",
    "    # Create a Series\n",
    "    series = pd.Series([5, 2, 8, 1, 10])\n",
    "    \n",
    "    # Compute the minimum value\n",
    "    minimum = series.min()\n",
    "    \n",
    "    print(minimum)\n",
    "    ```\n",
    "    \n",
    "    Output:\n",
    "    ```\n",
    "    1\n",
    "    ```\n",
    "\n",
    "    - `max` method in a Series:\n",
    "    The `max` method returns the maximum value in a Series.\n",
    "    \n",
    "    ```python\n",
    "    import pandas as pd\n",
    "    \n",
    "    # Create a Series\n",
    "    series = pd.Series([5, 2, 8, 1, 10])\n",
    "    \n",
    "    # Compute the maximum value\n",
    "    maximum = series.max()\n",
    "    \n",
    "    print(maximum)\n",
    "    ```\n",
    "    \n",
    "    Output:\n",
    "    ```\n",
    "    10\n",
    "    ```\n",
    "\n",
    "2. **DataFrame**:\n",
    "    - `min` method can also be used on a DataFrame to compute the minimum value for each column.\n",
    "    \n",
    "    ```python\n",
    "    import pandas as pd\n",
    "    \n",
    "    # Create a DataFrame\n",
    "    data = {'A': [5, 2, 8, 1, 10],\n",
    "            'B': [4, 7, 3, 9, 6]}\n",
    "    \n",
    "    df = pd.DataFrame(data)\n",
    "    \n",
    "    # Compute the minimum value for each column\n",
    "    minimum = df.min()\n",
    "    \n",
    "    print(minimum)\n",
    "    ```\n",
    "    \n",
    "    Output:\n",
    "    ```\n",
    "    A    1\n",
    "    B    3\n",
    "    dtype: int64\n",
    "    ```\n",
    "    \n",
    "    - `max` method in a DataFrame:\n",
    "    Similarly, the `max` method can be used on a DataFrame to compute the maximum value for each column.\n",
    "    \n",
    "    ```python\n",
    "    import pandas as pd\n",
    "    \n",
    "    # Create a DataFrame\n",
    "    data = {'A': [5, 2, 8, 1, 10],\n",
    "            'B': [4, 7, 3, 9, 6]}\n",
    "    \n",
    "    df = pd.DataFrame(data)\n",
    "    \n",
    "    # Compute the maximum value for each column\n",
    "    maximum = df.max()\n",
    "    \n",
    "    print(maximum)\n",
    "    ```\n",
    "    \n",
    "    Output:\n",
    "    ```\n",
    "    A    10\n",
    "    B     9\n",
    "    dtype: int64\n",
    "    ```\n",
    "\n",
    "    You can also specify `axis=1` argument in the `min` or `max` methods of a DataFrame, which results in calculating min or max on the columns.\n",
    "   In pandas, specifying `axis=1` in the `min()` or `max()` methods of a DataFrame operates on the columns. Here's what happens when you use `axis=1` in a pandas DataFrame:\n",
    "\n",
    "   Here's an example to illustrate this:\n",
    "    \n",
    "    ```python\n",
    "    import pandas as pd\n",
    "    \n",
    "    # Create a DataFrame\n",
    "    df = pd.DataFrame({'A': [1, 2, 3],\n",
    "                       'B': [4, 5, 6],\n",
    "                       'C': [7, 8, 9]})\n",
    "    \n",
    "    # Computing minimum along axis 1 (rows)\n",
    "    min_values = df.min(axis=1)\n",
    "    print(min_values)\n",
    "    ```\n",
    "    \n",
    "    Output:\n",
    "    ```\n",
    "    0    1\n",
    "    1    2\n",
    "    2    3\n",
    "    dtype: int64\n",
    "    ```"
   ]
  },
  {
   "cell_type": "code",
   "execution_count": 1,
   "id": "d299b3ba-2b13-4780-9009-d0076774248c",
   "metadata": {},
   "outputs": [
    {
     "data": {
      "text/plain": [
       "1"
      ]
     },
     "execution_count": 1,
     "metadata": {},
     "output_type": "execute_result"
    }
   ],
   "source": [
    "import pandas as pd\n",
    "\n",
    "series = pd.Series([5, 2, 8, 1, 10])\n",
    "series.min()"
   ]
  },
  {
   "cell_type": "code",
   "execution_count": 2,
   "id": "0933c196-f8da-478f-a5d4-1eb0374a58ab",
   "metadata": {},
   "outputs": [
    {
     "data": {
      "text/plain": [
       "10"
      ]
     },
     "execution_count": 2,
     "metadata": {},
     "output_type": "execute_result"
    }
   ],
   "source": [
    "series.max()"
   ]
  },
  {
   "cell_type": "code",
   "execution_count": 10,
   "id": "9f2e3ccb-7948-41d5-85bd-09830fd4d550",
   "metadata": {},
   "outputs": [
    {
     "data": {
      "text/html": [
       "<div>\n",
       "<style scoped>\n",
       "    .dataframe tbody tr th:only-of-type {\n",
       "        vertical-align: middle;\n",
       "    }\n",
       "\n",
       "    .dataframe tbody tr th {\n",
       "        vertical-align: top;\n",
       "    }\n",
       "\n",
       "    .dataframe thead th {\n",
       "        text-align: right;\n",
       "    }\n",
       "</style>\n",
       "<table border=\"1\" class=\"dataframe\">\n",
       "  <thead>\n",
       "    <tr style=\"text-align: right;\">\n",
       "      <th></th>\n",
       "      <th>A</th>\n",
       "      <th>B</th>\n",
       "    </tr>\n",
       "  </thead>\n",
       "  <tbody>\n",
       "    <tr>\n",
       "      <th>0</th>\n",
       "      <td>5</td>\n",
       "      <td>4</td>\n",
       "    </tr>\n",
       "    <tr>\n",
       "      <th>1</th>\n",
       "      <td>2</td>\n",
       "      <td>7</td>\n",
       "    </tr>\n",
       "    <tr>\n",
       "      <th>2</th>\n",
       "      <td>8</td>\n",
       "      <td>3</td>\n",
       "    </tr>\n",
       "    <tr>\n",
       "      <th>3</th>\n",
       "      <td>1</td>\n",
       "      <td>9</td>\n",
       "    </tr>\n",
       "    <tr>\n",
       "      <th>4</th>\n",
       "      <td>10</td>\n",
       "      <td>6</td>\n",
       "    </tr>\n",
       "  </tbody>\n",
       "</table>\n",
       "</div>"
      ],
      "text/plain": [
       "    A  B\n",
       "0   5  4\n",
       "1   2  7\n",
       "2   8  3\n",
       "3   1  9\n",
       "4  10  6"
      ]
     },
     "execution_count": 10,
     "metadata": {},
     "output_type": "execute_result"
    }
   ],
   "source": [
    "data = {'A': [5, 2, 8, 1, 10],\n",
    "        'B': [4, 7, 3, 9, 6]}\n",
    "\n",
    "df = pd.DataFrame(data)\n",
    "df"
   ]
  },
  {
   "cell_type": "code",
   "execution_count": 11,
   "id": "766b5b22-500c-47ba-8a12-a56a17dd1000",
   "metadata": {},
   "outputs": [
    {
     "data": {
      "text/plain": [
       "A    1\n",
       "B    3\n",
       "dtype: int64"
      ]
     },
     "execution_count": 11,
     "metadata": {},
     "output_type": "execute_result"
    }
   ],
   "source": [
    "df.min()"
   ]
  },
  {
   "cell_type": "code",
   "execution_count": 4,
   "id": "96cdcebf-87d5-481a-8cd7-8356afebba05",
   "metadata": {},
   "outputs": [
    {
     "data": {
      "text/plain": [
       "A    10\n",
       "B     9\n",
       "dtype: int64"
      ]
     },
     "execution_count": 4,
     "metadata": {},
     "output_type": "execute_result"
    }
   ],
   "source": [
    "df.max()"
   ]
  },
  {
   "cell_type": "code",
   "execution_count": 8,
   "id": "d10246a4-c899-41b6-80fc-a68b272fa25d",
   "metadata": {},
   "outputs": [
    {
     "data": {
      "text/plain": [
       "0    4\n",
       "1    2\n",
       "2    3\n",
       "3    1\n",
       "4    6\n",
       "dtype: int64"
      ]
     },
     "execution_count": 8,
     "metadata": {},
     "output_type": "execute_result"
    }
   ],
   "source": [
    "df.min(axis=1)"
   ]
  },
  {
   "cell_type": "code",
   "execution_count": 9,
   "id": "1d6c5fb0-8735-473b-a1f3-a457ec9a2282",
   "metadata": {},
   "outputs": [
    {
     "data": {
      "text/plain": [
       "0     5\n",
       "1     7\n",
       "2     8\n",
       "3     9\n",
       "4    10\n",
       "dtype: int64"
      ]
     },
     "execution_count": 9,
     "metadata": {},
     "output_type": "execute_result"
    }
   ],
   "source": [
    "df.max(axis=1)"
   ]
  },
  {
   "cell_type": "markdown",
   "id": "030e5fc7-d552-4cde-93bc-b4908d8b985c",
   "metadata": {},
   "source": [
    "### `std` and `var` methods\n",
    "\n",
    "1. **Series**:\n",
    "   - The `std` method calculates the standard deviation of the values in a Series. The standard deviation is a measure of the amount of variation or dispersion in the data. It quantifies how much the values in the Series deviate from the mean. The lower the standard deviation, the closer the values are to the mean, indicating less variation.\n",
    "   - The `var` method calculates the variance of the values in a Series. The variance is a measure of how spread out the values are from the mean. It is calculated as the average of the squared differences between each value and the mean. The variance provides insights into the variability of the data.\n",
    "\n",
    "2. **DataFrame**:\n",
    "   - By default, the `std` method calculates the standard deviation of each column in the DataFrame. It returns a Series containing the standard deviation values for each column. The resulting Series has the column names as the index.\n",
    "   - By default, the `var` method calculates the variance of each column in the DataFrame. It returns a Series containing the variance values for each column. The resulting Series has the column names as the index.\n",
    "   - You can also pass `axis=1` argument to `std` or `var` methods to calculate standard deviation or variance along rows.\n",
    "\n",
    "Here are some examples to illustrate the usage of `std` and `var` methods:\n",
    "\n",
    "1. Working with a Series:\n",
    "```python\n",
    "import pandas as pd\n",
    "\n",
    "# Create a Series\n",
    "s = pd.Series([1, 2, 3, 4, 5])\n",
    "\n",
    "# Calculate the standard deviation\n",
    "std_value = s.std()\n",
    "print(\"Standard Deviation:\", std_value)\n",
    "\n",
    "# Calculate the variance\n",
    "var_value = s.var()\n",
    "print(\"Variance:\", var_value)\n",
    "```\n",
    "\n",
    "Output:\n",
    "```\n",
    "Standard Deviation: 1.5811388300841898\n",
    "Variance: 2.5\n",
    "```\n",
    "\n",
    "In this example, the `std` method calculates the standard deviation of the values in the Series, which is approximately 1.58. The `var` method calculates the variance, which is 2.5.\n",
    "\n",
    "2. Working with a DataFrame:\n",
    "```python\n",
    "import pandas as pd\n",
    "\n",
    "# Create a DataFrame\n",
    "df = pd.DataFrame({'A': [1, 2, 3, 4, 5],\n",
    "                   'B': [2, 4, 6, 8, 10]})\n",
    "\n",
    "# Calculate the standard deviation of each column\n",
    "std_values = df.std()\n",
    "print(\"Standard Deviation:\")\n",
    "print(std_values)\n",
    "\n",
    "# Calculate the variance of each column\n",
    "var_values = df.var()\n",
    "print(\"Variance:\")\n",
    "print(var_values)\n",
    "```\n",
    "\n",
    "Output:\n",
    "```\n",
    "Standard Deviation:\n",
    "A    1.581139\n",
    "B    3.162278\n",
    "dtype: float64\n",
    "Variance:\n",
    "A     2.5\n",
    "B    10.0\n",
    "dtype: float64\n",
    "```\n",
    "\n",
    "In this example, the `std` method calculates the standard deviation of each column in the DataFrame, resulting in a Series with the column names as the index. The `var` method calculates the variance of each column, also producing a Series with the column names as the index."
   ]
  },
  {
   "cell_type": "code",
   "execution_count": 13,
   "id": "402d15f9-fc7e-4284-ba02-bd63b83826db",
   "metadata": {},
   "outputs": [],
   "source": [
    "import pandas as pd\n",
    "\n",
    "s = pd.Series([1, 2, 3, 4, 5])"
   ]
  },
  {
   "cell_type": "code",
   "execution_count": 14,
   "id": "e7141146-932a-43bf-8cac-dbd67f36c157",
   "metadata": {},
   "outputs": [
    {
     "data": {
      "text/plain": [
       "1.5811388300841898"
      ]
     },
     "execution_count": 14,
     "metadata": {},
     "output_type": "execute_result"
    }
   ],
   "source": [
    "s.std()"
   ]
  },
  {
   "cell_type": "code",
   "execution_count": 15,
   "id": "4778c40c-d275-49a8-af10-b41ef6e9f49b",
   "metadata": {},
   "outputs": [
    {
     "data": {
      "text/plain": [
       "2.5"
      ]
     },
     "execution_count": 15,
     "metadata": {},
     "output_type": "execute_result"
    }
   ],
   "source": [
    "s.var()"
   ]
  },
  {
   "cell_type": "code",
   "execution_count": 17,
   "id": "fbb9f219-219e-4814-b477-feb35e142b39",
   "metadata": {},
   "outputs": [
    {
     "data": {
      "text/html": [
       "<div>\n",
       "<style scoped>\n",
       "    .dataframe tbody tr th:only-of-type {\n",
       "        vertical-align: middle;\n",
       "    }\n",
       "\n",
       "    .dataframe tbody tr th {\n",
       "        vertical-align: top;\n",
       "    }\n",
       "\n",
       "    .dataframe thead th {\n",
       "        text-align: right;\n",
       "    }\n",
       "</style>\n",
       "<table border=\"1\" class=\"dataframe\">\n",
       "  <thead>\n",
       "    <tr style=\"text-align: right;\">\n",
       "      <th></th>\n",
       "      <th>A</th>\n",
       "      <th>B</th>\n",
       "    </tr>\n",
       "  </thead>\n",
       "  <tbody>\n",
       "    <tr>\n",
       "      <th>0</th>\n",
       "      <td>1</td>\n",
       "      <td>2</td>\n",
       "    </tr>\n",
       "    <tr>\n",
       "      <th>1</th>\n",
       "      <td>2</td>\n",
       "      <td>4</td>\n",
       "    </tr>\n",
       "    <tr>\n",
       "      <th>2</th>\n",
       "      <td>3</td>\n",
       "      <td>6</td>\n",
       "    </tr>\n",
       "    <tr>\n",
       "      <th>3</th>\n",
       "      <td>4</td>\n",
       "      <td>8</td>\n",
       "    </tr>\n",
       "    <tr>\n",
       "      <th>4</th>\n",
       "      <td>5</td>\n",
       "      <td>10</td>\n",
       "    </tr>\n",
       "  </tbody>\n",
       "</table>\n",
       "</div>"
      ],
      "text/plain": [
       "   A   B\n",
       "0  1   2\n",
       "1  2   4\n",
       "2  3   6\n",
       "3  4   8\n",
       "4  5  10"
      ]
     },
     "execution_count": 17,
     "metadata": {},
     "output_type": "execute_result"
    }
   ],
   "source": [
    "df = pd.DataFrame({'A': [1, 2, 3, 4, 5],\n",
    "                   'B': [2, 4, 6, 8, 10]})\n",
    "df"
   ]
  },
  {
   "cell_type": "code",
   "execution_count": 18,
   "id": "e72c81f4-6249-4a38-9f89-b8b43a32eec3",
   "metadata": {},
   "outputs": [
    {
     "data": {
      "text/plain": [
       "A    1.581139\n",
       "B    3.162278\n",
       "dtype: float64"
      ]
     },
     "execution_count": 18,
     "metadata": {},
     "output_type": "execute_result"
    }
   ],
   "source": [
    "df.std()"
   ]
  },
  {
   "cell_type": "code",
   "execution_count": 19,
   "id": "97959422-9031-4bb5-a9d4-a8888436757c",
   "metadata": {},
   "outputs": [
    {
     "data": {
      "text/plain": [
       "A     2.5\n",
       "B    10.0\n",
       "dtype: float64"
      ]
     },
     "execution_count": 19,
     "metadata": {},
     "output_type": "execute_result"
    }
   ],
   "source": [
    "df.var()"
   ]
  },
  {
   "cell_type": "code",
   "execution_count": null,
   "id": "b73b5b1d-30d2-4d30-8da5-0b3533edce29",
   "metadata": {},
   "outputs": [],
   "source": []
  }
 ],
 "metadata": {
  "kernelspec": {
   "display_name": "Python 3 (ipykernel)",
   "language": "python",
   "name": "python3"
  },
  "language_info": {
   "codemirror_mode": {
    "name": "ipython",
    "version": 3
   },
   "file_extension": ".py",
   "mimetype": "text/x-python",
   "name": "python",
   "nbconvert_exporter": "python",
   "pygments_lexer": "ipython3",
   "version": "3.11.4"
  }
 },
 "nbformat": 4,
 "nbformat_minor": 5
}
